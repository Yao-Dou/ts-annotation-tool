{
 "cells": [
  {
   "cell_type": "code",
   "execution_count": 1,
   "metadata": {},
   "outputs": [],
   "source": [
    "import sys\n",
    "sys.path.append('../analysis/')\n",
    "\n",
    "import logging\n",
    "logging.getLogger('matplotlib').setLevel(logging.WARNING)\n",
    "from utils.all_yao import *\n",
    "import numpy as np\n",
    "import pandas as pd"
   ]
  },
  {
   "cell_type": "code",
   "execution_count": 2,
   "metadata": {},
   "outputs": [
    {
     "name": "stderr",
     "output_type": "stream",
     "text": [
      "INFO:Loading files: ['../data/inspection_rating_annotated/batch_1_ayush.json', '../data/inspection_rating_annotated/batch_1_rachel.json', '../data/inspection_rating_annotated/batch_1_vinayak.json', '../data/inspection_rating_annotated/batch_1_vishnesh.json', '../data/inspection_rating_annotated/batch_2_ayush.json', '../data/inspection_rating_annotated/batch_2_rachel.json', '../data/inspection_rating_annotated/batch_2_vinayak.json', '../data/inspection_rating_annotated/batch_2_vishnesh.json', '../data/inspection_rating_annotated/batch_3_ayush.json', '../data/inspection_rating_annotated/batch_3_rachel.json', '../data/inspection_rating_annotated/batch_3_vinayak.json', '../data/inspection_rating_annotated/batch_3_vishnesh.json', '../data/inspection_rating_annotated/batch_4_ayush.json', '../data/inspection_rating_annotated/batch_4_rachel.json', '../data/inspection_rating_annotated/batch_4_vinayak.json', '../data/inspection_rating_annotated/batch_4_vishnesh.json']\n",
      "\n",
      "INFO:Found users: {'ayush', 'vishnesh', 'vinayak', 'rachel'}\n",
      "\n",
      "WARNING:rachel - Batch 1, HIT 1 (ID 420) has 3 deletion edits but 2 annotations. Likely a missing annotation.\n",
      "WARNING:rachel - Batch 1, HIT 49 (ID 564) has 2 split edits but 1 annotations. Likely a missing annotation.\n",
      "WARNING:rachel - Batch 1, HIT 52 (ID 573) has 1 split edits but 0 annotations. Likely a missing annotation.\n",
      "WARNING:rachel - Batch 1, HIT 97 (ID 708) has 7 substitution edits but 6 annotations. Likely a missing annotation.\n",
      "WARNING:vinayak - Batch 2, HIT 307 (ID 920) has 2 substitution edits but 1 annotations. Likely a missing annotation.\n",
      "WARNING:rachel - Batch 2, HIT 311 (ID 931) has 4 substitution edits but 3 annotations. Likely a missing annotation.\n",
      "WARNING:rachel - Batch 2, HIT 321 (ID 961) has 9 substitution edits but 8 annotations. Likely a missing annotation.\n",
      "WARNING:rachel - Batch 2, HIT 373 (ID 1117) has 1 split edits but 0 annotations. Likely a missing annotation.\n",
      "WARNING:vinayak - Batch 3, HIT 488 (ID 1201) has 3 deletion edits but 2 annotations. Likely a missing annotation.\n",
      "WARNING:vinayak - Batch 3, HIT 488 (ID 1201) has 5 structure edits but 4 annotations. Likely a missing annotation.\n",
      "WARNING:ayush - Batch 3, HIT 573 (ID 1455) has 3 reorder edits but 2 annotations. Likely a missing annotation.\n",
      "WARNING:rachel - Batch 3, HIT 579 (ID 1474) has 1 deletion edits but 0 annotations. Likely a missing annotation.\n",
      "WARNING:rachel - Batch 3, HIT 587 (ID 1498) has 1 structure edits but 0 annotations. Likely a missing annotation.\n",
      "WARNING:rachel - Batch 4, HIT 605 (ID 1552) has 5 substitution edits but 4 annotations. Likely a missing annotation.\n",
      "WARNING:rachel - Batch 3, HIT 426 (ID 1635) has 1 deletion edits but 0 annotations. Likely a missing annotation.\n",
      "WARNING:rachel - Batch 3, HIT 475 (ID 1782) has 2 structure edits but 1 annotations. Likely a missing annotation.\n",
      "WARNING:rachel - Batch 3, HIT 479 (ID 1794) has 2 deletion edits but 1 annotations. Likely a missing annotation.\n",
      "WARNING:rachel - Batch 4, HIT 673 (ID 2017) has 1 split edits but 0 annotations. Likely a missing annotation.\n",
      "WARNING:rachel - Batch 4, HIT 675 (ID 2023) has 3 substitution edits but 2 annotations. Likely a missing annotation.\n",
      "WARNING:rachel - Batch 4, HIT 679 (ID 2035) has 4 substitution edits but 3 annotations. Likely a missing annotation.\n",
      "WARNING:rachel - Batch 4, HIT 686 (ID 2056) has 2 deletion edits but 0 annotations. Likely a missing annotation.\n",
      "WARNING:rachel - Batch 4, HIT 686 (ID 2056) has 4 substitution edits but 0 annotations. Likely a missing annotation.\n",
      "WARNING:rachel - Batch 4, HIT 686 (ID 2056) has 1 split edits but 0 annotations. Likely a missing annotation.\n",
      "WARNING:rachel - Batch 4, HIT 686 (ID 2056) has 3 reorder edits but 0 annotations. Likely a missing annotation.\n",
      "WARNING:rachel - Batch 4, HIT 686 (ID 2056) has 1 structure edits but 0 annotations. Likely a missing annotation.\n",
      "WARNING:rachel - Batch 4, HIT 692 (ID 2074) has 5 deletion edits but 4 annotations. Likely a missing annotation.\n"
     ]
    }
   ],
   "source": [
    "data = load_data('../data/inspection_rating_annotated', preprocess=True)"
   ]
  },
  {
   "cell_type": "code",
   "execution_count": 3,
   "metadata": {},
   "outputs": [],
   "source": [
    "edits_types = [\"deletion\", \"insertion\", \"substitution\", \"split\", \"reorder\", \"structure\"]\n",
    "value_dict = {\n",
    "    \"minor\": 1,\n",
    "    \"somewhat\": 2,\n",
    "    \"a lot\": 3,\n",
    "    \"very\": 3,\n",
    "}\n"
   ]
  },
  {
   "cell_type": "code",
   "execution_count": 4,
   "metadata": {},
   "outputs": [],
   "source": [
    "# system_orig_tuples = []\n",
    "# annotation_words = []\n",
    "# for point in data:\n",
    "#     system_orig_tuples.append((point['system'], point['original']))\n",
    "#     for edit in point['edits']:\n",
    "#         annotation_words += edit['annotation']"
   ]
  },
  {
   "cell_type": "code",
   "execution_count": 5,
   "metadata": {},
   "outputs": [
    {
     "name": "stdout",
     "output_type": "stream",
     "text": [
      "deletion ['bad', '', 'no', '']\n",
      "structure ['changes tense', 'positive', '', '', 'no']\n"
     ]
    }
   ],
   "source": [
    "# convert all edit annotation (a list of words) to a format of [error/quality/trivial, severity or efficacy, grammar error or not]\n",
    "# Update April 18, add error category to the 4th element of the annotation\n",
    "for point in data:\n",
    "    for edit in point['edits']:\n",
    "        annotation = edit['annotation']\n",
    "        if len(annotation) == 0:\n",
    "            continue\n",
    "        edit_type = edit['type']\n",
    "        try:\n",
    "            if edit_type == \"deletion\":\n",
    "                if annotation[0] == \"good\":\n",
    "                    edit['annotation'] = [\"quality\", value_dict[annotation[1]], annotation[2], \"good deletion\"]\n",
    "                elif annotation[0] == \"bad\":\n",
    "                    edit['annotation'] = [\"error\", -1 * value_dict[annotation[1]], annotation[2], \"bad deletion\"]\n",
    "                else:\n",
    "                    edit['annotation'] = [\"trivial\", 0, annotation[1], \"unnecessary deletion\"]\n",
    "            elif edit_type == \"insertion\":\n",
    "                if annotation[0] == \"elaboration\":\n",
    "                    edit['annotation'] = [\"quality\", value_dict[annotation[1]], annotation[2], annotation[0]]\n",
    "                elif annotation[0] == \"trivial\":\n",
    "                    if annotation[1] == \"yes\":\n",
    "                        edit['annotation'] = [\"quality\", value_dict[annotation[2]], annotation[3], annotation[0]]\n",
    "                    else:\n",
    "                        edit['annotation'] = [\"trivial\", 0, annotation[3], \"unnecessary insertion\"]\n",
    "                else:\n",
    "                    edit['annotation'] = [\"error\", -1 * value_dict[annotation[1]], annotation[2], annotation[0]]\n",
    "            elif edit_type == \"substitution\":\n",
    "                if annotation[0] == \"same\":\n",
    "                    if annotation[1] == \"negative\":\n",
    "                        edit['annotation'] = [\"error\", -1 * value_dict[annotation[3]], annotation[4], \"bad paraphrase\"]\n",
    "                    elif annotation[1] == \"positive\":\n",
    "                        edit['annotation'] = [\"quality\", value_dict[annotation[2]], annotation[4], \"good paraphrase\"]\n",
    "                    else:\n",
    "                        edit['annotation'] = [\"trivial\", 0, annotation[4], \"unnecessary paraphrase\"]\n",
    "                elif annotation[0] == \"different\":\n",
    "                    edit['annotation'] = [\"error\", -1 * value_dict[annotation[1]], annotation[2], \"different information\"]\n",
    "                elif annotation[0] == \"less\":\n",
    "                    if annotation[1] == \"bad\":\n",
    "                        edit['annotation'] = [\"error\", -1 * value_dict[annotation[2]], annotation[3], \"remove important information\"]\n",
    "                    else:\n",
    "                        edit['annotation'] = [\"quality\", value_dict[annotation[2]], annotation[3], \"remove unimportant information\"]\n",
    "                elif annotation[0] == \"more\":\n",
    "                    if annotation[1] == \"elaboration\":\n",
    "                        edit['annotation'] = [\"quality\", value_dict[annotation[2]], annotation[3], annotation[1]]\n",
    "                    elif annotation[1] == \"trivial\":\n",
    "                        if annotation[2] == \"yes\":\n",
    "                            edit['annotation'] = [\"quality\", value_dict[annotation[3]], annotation[4], annotation[1]]\n",
    "                        else:\n",
    "                            edit['annotation'] = [\"trivial\", 0, annotation[4], \"unnecessary add information\"]\n",
    "                    else:\n",
    "                        edit['annotation'] = [\"error\", -1 * value_dict[annotation[2]], annotation[3], annotation[1]]\n",
    "            elif edit_type == \"split\" or edit_type == \"reorder\":\n",
    "                if annotation[0] == \"negative\":\n",
    "                    edit['annotation'] = [\"error\", -1 * value_dict[annotation[1]], annotation[3], f\"bad {edit_type}\"]\n",
    "                elif annotation[0] == \"positive\":\n",
    "                    edit['annotation'] = [\"quality\", value_dict[annotation[2]], annotation[3], f\"good {edit_type}\"]\n",
    "                else:\n",
    "                    edit['annotation'] = [\"trivial\", 0, annotation[3], f\"unnecessary {edit_type}\"]\n",
    "            elif edit_type == \"structure\":\n",
    "                if annotation[1] == \"negative\":\n",
    "                    edit['annotation'] = [\"error\", -1 * value_dict[annotation[2]], annotation[4], annotation[0]]\n",
    "                elif annotation[1] == \"positive\":\n",
    "                    edit['annotation'] = [\"quality\", value_dict[annotation[3]], annotation[4], annotation[0]]\n",
    "                else:\n",
    "                    edit['annotation'] = [\"trivial\", 0, annotation[4], \"unnecessary \" + annotation[0]]\n",
    "        except:\n",
    "            print(edit_type, annotation)\n",
    "            if edit_type == \"substitution\" and annotation[0] == \"different\" and annotation[-1] == \"\":\n",
    "                edit[\"annotation\"] = [\"error\", -1 * value_dict[annotation[1]], \"no\", \"different information\"]\n",
    "            else:\n",
    "                edit['annotation'] = []"
   ]
  },
  {
   "cell_type": "code",
   "execution_count": 6,
   "metadata": {},
   "outputs": [],
   "source": [
    "# resturcture edits annotations to a dictionary\n",
    "for point in data:\n",
    "    for edit in point[\"edits\"]:\n",
    "        edit[\"annotation\"] = {point[\"user\"]: edit[\"annotation\"]}"
   ]
  },
  {
   "cell_type": "code",
   "execution_count": 7,
   "metadata": {},
   "outputs": [],
   "source": [
    "# restructure the data into a dict, the key is (system, original) tuple, the value is a dictionary with keys being simplified and edits\n",
    "data_dict = {}\n",
    "for point in data:\n",
    "    system = point['system']\n",
    "    original = point['original']\n",
    "    user = point['user']\n",
    "    edits = point['edits']\n",
    "    key = (system, original)\n",
    "    if key not in data_dict:\n",
    "        data_dict[key] = {\n",
    "            \"simplified\": point['simplified'],\n",
    "            \"edits\": edits\n",
    "        }\n",
    "    else:\n",
    "        for exist_edit in data_dict[key]['edits']:\n",
    "            edit_type = exist_edit['type']\n",
    "            edit_id = exist_edit['id']\n",
    "            for edit in edits:\n",
    "                if edit['type'] == edit_type and edit['id'] == edit_id:\n",
    "                    exist_edit['annotation'][user] = edit['annotation'][user]\n",
    "                    break\n"
   ]
  },
  {
   "cell_type": "code",
   "execution_count": 8,
   "metadata": {},
   "outputs": [],
   "source": [
    "for key_tuple, value in data_dict.items():\n",
    "    for edit in value['edits']:\n",
    "        if len(edit['annotation']) == 0:\n",
    "            edit['score'] = 0\n",
    "            edit['round_score'] = 0\n",
    "            edit['label'] = \"trivial\"\n",
    "            edit[\"edit_category_list\"] = []\n",
    "            edit[\"edit_category\"] = \"\"\n",
    "        else:\n",
    "            score = 0\n",
    "            edit_category_list = []\n",
    "            num_annot = len(edit['annotation'])\n",
    "            for user, annotation in edit['annotation'].items():\n",
    "                if annotation == []:\n",
    "                    num_annot -= 1\n",
    "                    continue\n",
    "                score += annotation[1]\n",
    "                edit_category_list.append(annotation[3])\n",
    "            edit['score'] = score / num_annot\n",
    "            edit['round_score'] = round(edit['score'])\n",
    "            if edit['score'] > 0:\n",
    "                edit['label'] = \"quality\"\n",
    "            elif edit['score'] < 0:\n",
    "                edit['label'] = \"error\"\n",
    "            else:\n",
    "                edit['label'] = \"trivial\"\n",
    "            edit[\"edit_category_list\"] = edit_category_list\n",
    "            # edit category is the most frequent edit category\n",
    "            edit[\"edit_category\"] = max(set(edit_category_list), key=edit_category_list.count)"
   ]
  },
  {
   "cell_type": "code",
   "execution_count": 9,
   "metadata": {},
   "outputs": [],
   "source": [
    "# Convert tuple keys to strings using '%%' as a delimiter\n",
    "converted_data_dict = {\"%%\".join(map(str, key)): value for key, value in data_dict.items()}\n",
    "\n",
    "# Save the data into a json file\n",
    "with open(\"../data/edit_classification/inspection_data/batch_1234.json\", \"w\") as f:\n",
    "    json.dump(converted_data_dict, f, indent=4)"
   ]
  }
 ],
 "metadata": {
  "kernelspec": {
   "display_name": "Python 3.9.13 ('paraphrase')",
   "language": "python",
   "name": "python3"
  },
  "language_info": {
   "codemirror_mode": {
    "name": "ipython",
    "version": 3
   },
   "file_extension": ".py",
   "mimetype": "text/x-python",
   "name": "python",
   "nbconvert_exporter": "python",
   "pygments_lexer": "ipython3",
   "version": "3.9.13"
  },
  "orig_nbformat": 4,
  "vscode": {
   "interpreter": {
    "hash": "51d4b053945bb951b16f24566ff3322f1cf2f2e71937c6e2fa134fa8352168a0"
   }
  }
 },
 "nbformat": 4,
 "nbformat_minor": 2
}
