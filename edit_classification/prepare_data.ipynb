{
 "cells": [
  {
   "cell_type": "code",
   "execution_count": 1,
   "metadata": {},
   "outputs": [],
   "source": [
    "from sys import path\n",
    "from os.path import dirname as dir\n",
    "\n",
    "path.append(\"/Users/yaod_1/Desktop/webpage/text-simplification/ts-annoation-tool/data/analysis\")\n",
    "\n",
    "from utils.all import *\n",
    "import numpy as np\n",
    "import pandas as pd"
   ]
  },
  {
   "cell_type": "markdown",
   "metadata": {},
   "source": [
    "### 1. Load data"
   ]
  },
  {
   "cell_type": "code",
   "execution_count": 2,
   "metadata": {},
   "outputs": [
    {
     "name": "stdout",
     "output_type": "stream",
     "text": [
      "Loading files: ['../annotated/batch_5_anton.json', '../annotated/batch_5_ayush.json', '../annotated/batch_5_kelly.json', '../annotated/batch_5_rachel.json', '../annotated/batch_5_vinayak.json', '../annotated/batch_5_vishnesh.json']\n",
      "\n",
      "Found users: {'vishnesh', 'vinayak', 'anton', 'rachel', 'ayush', 'kelly'}\n",
      "\n",
      "anton - Batch 5, HIT 38 (ID 23) has 2 deletion edits but 1 annotations. Likely a missing annotation. Skipping edit type...\n",
      "rachel - Batch 5, HIT 21 (ID 39) has 4 deletion edits but 3 annotations. Likely a missing annotation. Skipping edit type...\n",
      "rachel - Batch 5, HIT 21 (ID 39) has 4 insertion edits but 3 annotations. Likely a missing annotation. Skipping edit type...\n",
      "rachel - Batch 5, HIT 23 (ID 41) has 1 reorder edits but -1 annotations. Likely a missing annotation. Skipping edit type...\n",
      "vinayak - Batch 5, HIT 25 (ID 56) has 5 deletion edits but 3 annotations. Likely a missing annotation. Skipping edit type...\n",
      "vinayak - Batch 5, HIT 25 (ID 56) has 2 insertion edits but 1 annotations. Likely a missing annotation. Skipping edit type...\n",
      "vinayak - Batch 5, HIT 17 (ID 61) has 3 deletion edits but 2 annotations. Likely a missing annotation. Skipping edit type...\n",
      "Loading files: ['../annotated/batch_6_anton.json', '../annotated/batch_6_ayush.json', '../annotated/batch_6_kelly.json', '../annotated/batch_6_rachel.json', '../annotated/batch_6_vinayak.json', '../annotated/batch_6_vishnesh.json']\n",
      "\n",
      "Found users: {'vishnesh', 'vinayak', 'anton', 'ayush', 'rachel', 'kelly'}\n",
      "\n",
      "vinayak - Batch 6, HIT 16 (ID 51) has 1 insertion edits but -1 annotations. Likely a missing annotation. Skipping edit type...\n",
      "When processing sentence: rachel - Batch 6, HIT 34 (ID 19). Caught error on: ''. Skipping...\n",
      "When processing sentence: vinayak - Batch 6, HIT 2 (ID 42). Caught error on: Could not process edit: {'type': 'substitution', 'id': 4, 'original_span': [(164, 171)], 'simplified_span': [(166, 175)], 'annotation': None, 'token_length': 3}. Skipping...\n",
      "When processing sentence: vinayak - Batch 6, HIT 2 (ID 42). Caught error on: Could not process edit: {'type': 'substitution', 'id': 5, 'original_span': [(224, 226)], 'simplified_span': [(281, 284)], 'annotation': None, 'token_length': 2}. Skipping...\n",
      "When processing sentence: vinayak - Batch 6, HIT 27 (ID 57). Caught error on: Could not process edit: {'type': 'insertion', 'id': 1, 'original_span': None, 'simplified_span': [(49, 54)], 'annotation': None, 'token_length': 1}. Skipping...\n",
      "When processing sentence: vinayak - Batch 6, HIT 31 (ID 60). Caught error on: Could not process edit: {'type': 'insertion', 'id': 0, 'original_span': None, 'simplified_span': [(75, 78)], 'annotation': None, 'token_length': 1}. Skipping...\n",
      "When processing sentence: vinayak - Batch 6, HIT 40 (ID 65). Caught error on: Could not process edit: {'type': 'insertion', 'id': 1, 'original_span': None, 'simplified_span': [(109, 112)], 'annotation': None, 'token_length': 1}. Skipping...\n",
      "Loading files: ['../annotated/batch_7_anton.json', '../annotated/batch_7_ayush.json', '../annotated/batch_7_kelly.json', '../annotated/batch_7_rachel.json', '../annotated/batch_7_vinayak.json', '../annotated/batch_7_vishnesh.json']\n",
      "\n",
      "Found users: {'vishnesh', 'vinayak', 'anton', 'ayush', 'rachel', 'kelly'}\n",
      "\n",
      "kelly - Batch 7, HIT 47 (ID 70) has 1 structure edits but -1 annotations. Likely a missing annotation. Skipping edit type...\n",
      "vinayak - Batch 7, HIT 17 (ID 76) has 1 split edits but 0 annotations. Likely a missing annotation. Skipping edit type...\n",
      "When processing sentence: ayush - Batch 7, HIT 9 (ID 50). Caught error on: ''. Skipping...\n",
      "When processing sentence: kelly - Batch 7, HIT 47 (ID 70). Caught error on: Could not process edit: {'type': 'substitution', 'id': 3, 'original_span': [(110, 120)], 'simplified_span': [(89, 93)], 'annotation': None, 'token_length': 2}. Skipping...\n",
      "When processing sentence: vinayak - Batch 7, HIT 15 (ID 75). Caught error on: Could not process edit: {'type': 'insertion', 'id': 0, 'original_span': None, 'simplified_span': [(0, 1)], 'annotation': None, 'token_length': 1}. Skipping...\n",
      "When processing sentence: vinayak - Batch 7, HIT 17 (ID 76). Caught error on: Could not process edit: {'type': 'insertion', 'id': 0, 'original_span': None, 'simplified_span': [(73, 86)], 'annotation': None, 'token_length': 2}. Skipping...\n",
      "When processing sentence: vinayak - Batch 7, HIT 10 (ID 86). Caught error on: Could not process edit: {'type': 'insertion', 'id': 2, 'original_span': None, 'simplified_span': [(190, 209)], 'annotation': None, 'token_length': 2}. Skipping...\n",
      "When processing sentence: rachel - Batch 7, HIT 43 (ID 112). Caught error on: ''. Skipping...\n",
      "Loading files: ['../annotated/batch_8_anton.json', '../annotated/batch_8_ayush.json', '../annotated/batch_8_kelly.json', '../annotated/batch_8_rachel.json', '../annotated/batch_8_vinayak.json', '../annotated/batch_8_vishnesh.json']\n",
      "\n",
      "Found users: {'vishnesh', 'vinayak', 'anton', 'ayush', 'kelly', 'rachel'}\n",
      "\n",
      "rachel - Batch 8, HIT 35 (ID 42) has 2 structure edits but -1 annotations. Likely a missing annotation. Skipping edit type...\n",
      "rachel - Batch 8, HIT 37 (ID 44) has 5 structure edits but 4 annotations. Likely a missing annotation. Skipping edit type...\n",
      "rachel - Batch 8, HIT 38 (ID 46) has 1 insertion edits but -1 annotations. Likely a missing annotation. Skipping edit type...\n",
      "rachel - Batch 8, HIT 46 (ID 92) has 3 deletion edits but 2 annotations. Likely a missing annotation. Skipping edit type...\n",
      "When processing sentence: rachel - Batch 8, HIT 19 (ID 27). Caught error on: Could not process edit: {'type': 'insertion', 'id': 1, 'original_span': None, 'simplified_span': [(137, 143)], 'annotation': None, 'token_length': 1}. Skipping...\n",
      "When processing sentence: rachel - Batch 8, HIT 22 (ID 37). Caught error on: Could not process edit: {'type': 'deletion', 'id': 1, 'original_span': [(254, 269)], 'simplified_span': None, 'annotation': None, 'token_length': 1}. Skipping...\n",
      "When processing sentence: rachel - Batch 8, HIT 25 (ID 39). Caught error on: Could not process edit: {'type': 'deletion', 'id': 1, 'original_span': [(222, 235)], 'simplified_span': None, 'annotation': None, 'token_length': 3}. Skipping...\n",
      "When processing sentence: rachel - Batch 8, HIT 35 (ID 42). Caught error on: Could not process edit: {'type': 'deletion', 'id': 1, 'original_span': [(20, 23)], 'simplified_span': None, 'annotation': None, 'token_length': 1}. Skipping...\n",
      "When processing sentence: rachel - Batch 8, HIT 40 (ID 43). Caught error on: Could not process edit: {'type': 'insertion', 'id': 0, 'original_span': None, 'simplified_span': [(48, 51)], 'annotation': None, 'token_length': 1}. Skipping...\n",
      "When processing sentence: rachel - Batch 8, HIT 37 (ID 44). Caught error on: Could not process edit: {'type': 'split', 'id': 1, 'original_span': [(156, 159)], 'simplified_span': [(151, 153)], 'annotation': None, 'composite_edits': [{'type': 'deletion', 'id': 0, 'original_span': [(156, 159)], 'simplified_span': None}], 'token_length': 2}. Skipping...\n",
      "When processing sentence: rachel - Batch 8, HIT 36 (ID 45). Caught error on: Could not process edit: {'type': 'deletion', 'id': 1, 'original_span': [(180, 184)], 'simplified_span': None, 'annotation': None, 'token_length': 1}. Skipping...\n",
      "When processing sentence: rachel - Batch 8, HIT 53 (ID 50). Caught error on: Could not process edit: {'type': 'insertion', 'id': 0, 'original_span': None, 'simplified_span': [(65, 78)], 'annotation': None, 'token_length': 3}. Skipping...\n",
      "When processing sentence: rachel - Batch 8, HIT 50 (ID 53). Caught error on: Could not process edit: {'type': 'insertion', 'id': 0, 'original_span': None, 'simplified_span': [(0, 2)], 'annotation': None, 'token_length': 1}. Skipping...\n",
      "When processing sentence: vinayak - Batch 8, HIT 4 (ID 58). Caught error on: Could not process edit: {'type': 'insertion', 'id': 0, 'original_span': None, 'simplified_span': [(100, 102)], 'annotation': None, 'token_length': 1}. Skipping...\n",
      "When processing sentence: vinayak - Batch 8, HIT 19 (ID 73). Caught error on: Could not process edit: {'type': 'deletion', 'id': 3, 'original_span': [(209, 213)], 'simplified_span': None, 'annotation': None, 'token_length': 1}. Skipping...\n",
      "When processing sentence: rachel - Batch 8, HIT 46 (ID 92). Caught error on: Could not process edit: {'type': 'split', 'id': 0, 'original_span': [(143, 148)], 'simplified_span': [(62, 64), (65, 67)], 'annotation': None, 'composite_edits': [{'type': 'substitution', 'id': 0, 'original_span': [(143, 148)], 'simplified_span': None}, {'type': 'insertion', 'id': 0, 'original_span': None, 'simplified_span': [(65, 67)]}], 'token_length': 3}. Skipping...\n",
      "Loading files: ['../annotated/batch_9_ayush.json', '../annotated/batch_9_kelly.json', '../annotated/batch_9_rachel.json', '../annotated/batch_9_vinayak.json', '../annotated/batch_9_vishnesh.json']\n",
      "\n",
      "Found users: {'vishnesh', 'vinayak', 'rachel', 'ayush', 'kelly'}\n",
      "\n",
      "kelly - Batch 9, HIT 17 (ID 22) has 2 split edits but 0 annotations. Likely a missing annotation. Skipping edit type...\n",
      "kelly - Batch 9, HIT 18 (ID 23) has 1 split edits but 0 annotations. Likely a missing annotation. Skipping edit type...\n",
      "rachel - Batch 9, HIT 31 (ID 41) has 1 split edits but 0 annotations. Likely a missing annotation. Skipping edit type...\n",
      "rachel - Batch 9, HIT 31 (ID 41) has 3 structure edits but 2 annotations. Likely a missing annotation. Skipping edit type...\n",
      "vinayak - Batch 9, HIT 49 (ID 42) has 2 structure edits but 1 annotations. Likely a missing annotation. Skipping edit type...\n",
      "vinayak - Batch 9, HIT 56 (ID 45) has 1 split edits but 0 annotations. Likely a missing annotation. Skipping edit type...\n",
      "rachel - Batch 9, HIT 48 (ID 48) has 4 deletion edits but 3 annotations. Likely a missing annotation. Skipping edit type...\n",
      "rachel - Batch 9, HIT 54 (ID 58) has 5 deletion edits but 4 annotations. Likely a missing annotation. Skipping edit type...\n",
      "kelly - Batch 9, HIT 5 (ID 64) has 1 split edits but 0 annotations. Likely a missing annotation. Skipping edit type...\n",
      "kelly - Batch 9, HIT 6 (ID 65) has 1 split edits but 0 annotations. Likely a missing annotation. Skipping edit type...\n",
      "kelly - Batch 9, HIT 7 (ID 66) has 1 split edits but 0 annotations. Likely a missing annotation. Skipping edit type...\n",
      "kelly - Batch 9, HIT 8 (ID 67) has 1 split edits but 0 annotations. Likely a missing annotation. Skipping edit type...\n",
      "kelly - Batch 9, HIT 9 (ID 68) has 1 split edits but 0 annotations. Likely a missing annotation. Skipping edit type...\n",
      "kelly - Batch 9, HIT 11 (ID 70) has 1 split edits but 0 annotations. Likely a missing annotation. Skipping edit type...\n",
      "kelly - Batch 9, HIT 12 (ID 71) has 2 split edits but 0 annotations. Likely a missing annotation. Skipping edit type...\n",
      "rachel - Batch 9, HIT 19 (ID 74) has 1 insertion edits but -1 annotations. Likely a missing annotation. Skipping edit type...\n",
      "kelly - Batch 9, HIT 33 (ID 76) has 1 split edits but 0 annotations. Likely a missing annotation. Skipping edit type...\n",
      "kelly - Batch 9, HIT 35 (ID 78) has 1 split edits but 0 annotations. Likely a missing annotation. Skipping edit type...\n",
      "kelly - Batch 9, HIT 36 (ID 79) has 1 split edits but 0 annotations. Likely a missing annotation. Skipping edit type...\n",
      "kelly - Batch 9, HIT 41 (ID 80) has 1 split edits but 0 annotations. Likely a missing annotation. Skipping edit type...\n",
      "kelly - Batch 9, HIT 42 (ID 81) has 1 split edits but 0 annotations. Likely a missing annotation. Skipping edit type...\n",
      "kelly - Batch 9, HIT 44 (ID 83) has 1 split edits but 0 annotations. Likely a missing annotation. Skipping edit type...\n",
      "rachel - Batch 9, HIT 3 (ID 94) has 1 insertion edits but -1 annotations. Likely a missing annotation. Skipping edit type...\n",
      "rachel - Batch 9, HIT 15 (ID 102) has 5 deletion edits but 4 annotations. Likely a missing annotation. Skipping edit type...\n",
      "rachel - Batch 9, HIT 16 (ID 103) has 2 deletion edits but -1 annotations. Likely a missing annotation. Skipping edit type...\n",
      "vinayak - Batch 9, HIT 36 (ID 104) has 1 split edits but 0 annotations. Likely a missing annotation. Skipping edit type...\n",
      "rachel - Batch 9, HIT 22 (ID 105) has 4 deletion edits but 2 annotations. Likely a missing annotation. Skipping edit type...\n",
      "When processing sentence: vinayak - Batch 9, HIT 56 (ID 45). Caught error on: Could not process edit: {'type': 'insertion', 'id': 0, 'original_span': None, 'simplified_span': [(70, 83)], 'annotation': None, 'token_length': 2}. Skipping...\n",
      "When processing sentence: rachel - Batch 9, HIT 51 (ID 55). Caught error on: Could not process edit: {'type': 'structure', 'id': 0, 'original_span': [(164, 170)], 'simplified_span': None, 'annotation': None, 'composite_edits': [{'type': 'deletion', 'id': 0, 'original_span': [(164, 170)], 'simplified_span': None}], 'token_length': 1}. Skipping...\n",
      "When processing sentence: vinayak - Batch 9, HIT 1 (ID 61). Caught error on: Could not process edit: {'type': 'insertion', 'id': 1, 'original_span': None, 'simplified_span': [(61, 83)], 'annotation': None, 'token_length': 4}. Skipping...\n",
      "When processing sentence: vinayak - Batch 9, HIT 10 (ID 67). Caught error on: Could not process edit: {'type': 'insertion', 'id': 0, 'original_span': None, 'simplified_span': [(64, 71)], 'annotation': None, 'token_length': 2}. Skipping...\n",
      "When processing sentence: rachel - Batch 9, HIT 34 (ID 82). Caught error on: Could not process edit: {'type': 'deletion', 'id': 1, 'original_span': [(127, 135)], 'simplified_span': None, 'annotation': None, 'token_length': 1}. Skipping...\n",
      "When processing sentence: rachel - Batch 9, HIT 57 (ID 112). Caught error on: Could not process edit: {'type': 'split', 'id': 0, 'original_span': None, 'simplified_span': [(54, 56)], 'annotation': None, 'composite_edits': [], 'token_length': 1}. Skipping...\n",
      "Loading files: ['../annotated/batch_10_anton.json', '../annotated/batch_10_ayush.json', '../annotated/batch_10_kelly.json', '../annotated/batch_10_rachel.json', '../annotated/batch_10_vinayak.json', '../annotated/batch_10_vishnesh.json']\n",
      "\n",
      "Found users: {'vishnesh', 'vinayak', 'anton', 'rachel', 'ayush', 'kelly'}\n",
      "\n",
      "rachel - Batch 10, HIT 13 (ID 7) has 1 split edits but 0 annotations. Likely a missing annotation. Skipping edit type...\n",
      "rachel - Batch 10, HIT 9 (ID 10) has 5 deletion edits but -1 annotations. Likely a missing annotation. Skipping edit type...\n",
      "rachel - Batch 10, HIT 9 (ID 10) has 6 substitution edits but -1 annotations. Likely a missing annotation. Skipping edit type...\n",
      "rachel - Batch 10, HIT 9 (ID 10) has 2 insertion edits but -1 annotations. Likely a missing annotation. Skipping edit type...\n",
      "rachel - Batch 10, HIT 9 (ID 10) has 1 split edits but 0 annotations. Likely a missing annotation. Skipping edit type...\n",
      "ayush - Batch 10, HIT 38 (ID 46) has 1 split edits but 0 annotations. Likely a missing annotation. Skipping edit type...\n",
      "rachel - Batch 10, HIT 47 (ID 53) has 1 split edits but 0 annotations. Likely a missing annotation. Skipping edit type...\n",
      "rachel - Batch 10, HIT 48 (ID 54) has 2 deletion edits but 1 annotations. Likely a missing annotation. Skipping edit type...\n",
      "anton - Batch 10, HIT 73 (ID 72) has 2 structure edits but 1 annotations. Likely a missing annotation. Skipping edit type...\n",
      "vinayak - Batch 10, HIT 4 (ID 79) has 4 insertion edits but 3 annotations. Likely a missing annotation. Skipping edit type...\n",
      "ayush - Batch 10, HIT 44 (ID 90) has 3 structure edits but 2 annotations. Likely a missing annotation. Skipping edit type...\n",
      "kelly - Batch 10, HIT 51 (ID 96) has 1 insertion edits but -1 annotations. Likely a missing annotation. Skipping edit type...\n",
      "rachel - Batch 10, HIT 59 (ID 107) has 2 split edits but 1 annotations. Likely a missing annotation. Skipping edit type...\n",
      "When processing sentence: rachel - Batch 10, HIT 36 (ID 37). Caught error on: Could not process edit: {'type': 'insertion', 'id': 0, 'original_span': None, 'simplified_span': [(17, 18)], 'annotation': None, 'token_length': 1}. Skipping...\n",
      "When processing sentence: rachel - Batch 10, HIT 40 (ID 40). Caught error on: ''. Skipping...\n",
      "When processing sentence: rachel - Batch 10, HIT 73 (ID 60). Caught error on: Could not process edit: {'type': 'deletion', 'id': 0, 'original_span': [(55, 66)], 'simplified_span': None, 'annotation': None, 'token_length': 3}. Skipping...\n",
      "When processing sentence: rachel - Batch 10, HIT 73 (ID 60). Caught error on: Could not process edit: {'type': 'deletion', 'id': 1, 'original_span': [(26, 31)], 'simplified_span': None, 'annotation': None, 'token_length': 1}. Skipping...\n",
      "When processing sentence: ayush - Batch 10, HIT 61 (ID 107). Caught error on: Could not process edit: {'type': 'reorder', 'id': 1, 'original_span': [(102, 174)], 'simplified_span': [(31, 84)], 'annotation': None, 'token_length': 22}. Skipping...\n",
      "When processing sentence: rachel - Batch 10, HIT 53 (ID 151). Caught error on: ''. Skipping...\n",
      "Loading files: ['../annotated/batch_11_anton.json', '../annotated/batch_11_ayush.json', '../annotated/batch_11_kelly.json', '../annotated/batch_11_rachel.json', '../annotated/batch_11_vinayak.json', '../annotated/batch_11_vishnesh.json']\n",
      "\n",
      "Found users: {'vishnesh', 'vinayak', 'anton', 'ayush', 'kelly', 'rachel'}\n",
      "\n",
      "vinayak - Batch 11, HIT 27 (ID 39) has 1 split edits but 0 annotations. Likely a missing annotation. Skipping edit type...\n",
      "rachel - Batch 11, HIT 30 (ID 45) has 1 split edits but 0 annotations. Likely a missing annotation. Skipping edit type...\n",
      "rachel - Batch 11, HIT 48 (ID 47) has 1 split edits but 0 annotations. Likely a missing annotation. Skipping edit type...\n",
      "rachel - Batch 11, HIT 49 (ID 49) has 1 split edits but 0 annotations. Likely a missing annotation. Skipping edit type...\n",
      "rachel - Batch 11, HIT 66 (ID 59) has 1 deletion edits but -1 annotations. Likely a missing annotation. Skipping edit type...\n",
      "rachel - Batch 11, HIT 66 (ID 59) has 4 split edits but 2 annotations. Likely a missing annotation. Skipping edit type...\n",
      "rachel - Batch 11, HIT 8 (ID 98) has 5 deletion edits but 4 annotations. Likely a missing annotation. Skipping edit type...\n",
      "rachel - Batch 11, HIT 52 (ID 103) has 1 deletion edits but -1 annotations. Likely a missing annotation. Skipping edit type...\n",
      "rachel - Batch 11, HIT 19 (ID 112) has 4 deletion edits but 3 annotations. Likely a missing annotation. Skipping edit type...\n",
      "When processing sentence: ayush - Batch 11, HIT 4 (ID 19). Caught error on: Could not process edit: {'type': 'split', 'id': 0, 'original_span': None, 'simplified_span': [(148, 150), (151, 163)], 'annotation': None, 'composite_edits': [{'type': 'insertion', 'id': 0, 'original_span': None, 'simplified_span': [(151, 163)]}], 'token_length': 4}. Skipping...\n",
      "When processing sentence: rachel - Batch 11, HIT 24 (ID 42). Caught error on: ''. Skipping...\n",
      "When processing sentence: ayush - Batch 11, HIT 36 (ID 51). Caught error on: Could not process edit: {'type': 'split', 'id': 0, 'original_span': [(104, 126)], 'simplified_span': [(107, 109), (110, 117)], 'annotation': None, 'composite_edits': [{'type': 'substitution', 'id': 0, 'original_span': [(104, 126)], 'simplified_span': [(110, 117)]}], 'token_length': 7}. Skipping...\n",
      "When processing sentence: rachel - Batch 11, HIT 60 (ID 53). Caught error on: Could not process edit: {'type': 'deletion', 'id': 1, 'original_span': [(133, 150)], 'simplified_span': None, 'annotation': None, 'token_length': 4}. Skipping...\n",
      "When processing sentence: rachel - Batch 11, HIT 8 (ID 98). Caught error on: ''. Skipping...\n",
      "When processing sentence: rachel - Batch 11, HIT 57 (ID 101). Caught error on: Could not process edit: {'type': 'substitution', 'id': 3, 'original_span': [(65, 78)], 'simplified_span': [(62, 79)], 'annotation': None, 'token_length': 4}. Skipping...\n",
      "When processing sentence: rachel - Batch 11, HIT 20 (ID 113). Caught error on: Could not process edit: {'type': 'insertion', 'id': 1, 'original_span': None, 'simplified_span': [(59, 67)], 'annotation': None, 'token_length': 2}. Skipping...\n",
      "When processing sentence: vinayak - Batch 11, HIT 31 (ID 117). Caught error on: Could not process edit: {'type': 'deletion', 'id': 0, 'original_span': [(56, 85)], 'simplified_span': None, 'annotation': None, 'token_length': 6}. Skipping...\n",
      "When processing sentence: rachel - Batch 11, HIT 40 (ID 125). Caught error on: Could not process edit: {'type': 'insertion', 'id': 0, 'original_span': None, 'simplified_span': [(184, 189)], 'annotation': None, 'token_length': 1}. Skipping...\n"
     ]
    }
   ],
   "source": [
    "# batch 5 and 6 are new-wiki-1, with gpt-3 davinci-2, we will remove gpt-3 zeroshot and fewshot.\n",
    "# Notice one sentence need to remove all, which has original sentence:\n",
    "# `In a difficult situation, it encouraged him to study Graphic Design in 2007, and \n",
    "#   he's been since as a Cinematographer in the film industry, also having a lot of experience \n",
    "#   with photography and experience in the field of graphic design.`\n",
    "\n",
    "data = []\n",
    "batch_num = np.arange(5, 12).tolist()\n",
    "for batch_id in batch_num:\n",
    "    batch_data = load_data('../annotated', batch_num=[batch_id], preprocess=True)\n",
    "    if batch_id in [5,6]:\n",
    "        # remove system = \"new-wiki-1/GPT-3-few-shot\" or \"new-wiki-1/GPT-3-zero-shot\"\n",
    "        new_batch_data = []\n",
    "        for simplification in batch_data:\n",
    "            if simplification[\"original\"] == \"In a difficult situation, it encouraged him to study Graphic Design in 2007, and he's been since as a Cinematographer in the film industry, also his have a lot of experience with photography and experience in the field of graphic design.\":\n",
    "                # print(\"found\")\n",
    "                continue\n",
    "            if simplification['system'] != \"new-wiki-1/GPT-3-few-shot\" and simplification['system'] != \"new-wiki-1/GPT-3-zero-shot\":\n",
    "                new_batch_data.append(simplification)\n",
    "        batch_data = new_batch_data\n",
    "    data.extend(batch_data)\n",
    "        "
   ]
  },
  {
   "cell_type": "code",
   "execution_count": 3,
   "metadata": {},
   "outputs": [
    {
     "data": {
      "text/plain": [
       "{'type': 'split',\n",
       " 'id': 0,\n",
       " 'original_span': [(81, 91)],\n",
       " 'simplified_span': [(71, 73), (74, 78), (79, 86)],\n",
       " 'annotation': ['positive', 'a lot', '', 'no'],\n",
       " 'composite_edits': [{'type': 'substitution',\n",
       "   'id': 0,\n",
       "   'original_span': [(81, 91)],\n",
       "   'simplified_span': [(79, 86)]},\n",
       "  {'type': 'insertion',\n",
       "   'id': 0,\n",
       "   'original_span': None,\n",
       "   'simplified_span': [(74, 78)]}],\n",
       " 'token_length': 4}"
      ]
     },
     "execution_count": 3,
     "metadata": {},
     "output_type": "execute_result"
    }
   ],
   "source": [
    "data[0][\"edits\"][8]"
   ]
  },
  {
   "cell_type": "markdown",
   "metadata": {},
   "source": [
    "### 2. Prepare data for Roberta and T5\n",
    "\n",
    "It is in the following format:\n",
    "\n",
    "*Input*: [CLS] original sentence [SEP] simplified <special> ... </special> sentence [SEP]\n",
    "\n",
    "*Label*: quality, trivial, error\n",
    "\n",
    "Only need sentence1, sentence2 and label columns, hugginface will automatically add [CLS] and [SEP]"
   ]
  },
  {
   "cell_type": "code",
   "execution_count": 4,
   "metadata": {},
   "outputs": [],
   "source": [
    "edit_2_special_token_start = {\"deletion\": \"<DEL>\", \"insertion\": \"<INS>\", \"substitution\": \"<SUB>\", \"reorder\": \"<REO>\", \n",
    "                                \"structure\": \"<STR>\", \"split\": \"<SPLIT>\"}\n",
    "edit_2_special_token_end = {\"deletion\": \"</DEL>\", \"insertion\": \"</INS>\", \"substitution\": \"</SUB>\", \"reorder\": \"</REO>\",\n",
    "                                \"structure\": \"</STR>\", \"split\": \"</SPLIT>\"}\n",
    "\n",
    "original_list = []                       \n",
    "sentence1_list = []\n",
    "sentence2_list = []\n",
    "label_list = []\n",
    "\n",
    "for annotation in data:\n",
    "    original = annotation['original']\n",
    "    simplified = annotation['simplified']\n",
    "    for i, edit in enumerate(annotation[\"processed_annotations\"]):\n",
    "        edit_type = edit[\"edit_type\"]\n",
    "        original_spans = edit[\"original_span\"]\n",
    "        simplified_spans = edit[\"simplified_span\"]\n",
    "        # label = annotation[\"processed_annotations\"][i][\"type\"].name.lower()\n",
    "        label = edit[\"type\"].name.lower()\n",
    "        # each span is a tuple (start, end), sort by start, then end\n",
    "        if original_spans is None:\n",
    "            new_original = original\n",
    "        else:\n",
    "            original_spans.sort(key=lambda x: (x[0], x[1]))\n",
    "            new_original = original[:original_spans[0][0]]\n",
    "            for j, span in enumerate(original_spans):\n",
    "                new_original += edit_2_special_token_start[edit_type]\n",
    "                new_original += original[span[0]:span[1]]\n",
    "                new_original += edit_2_special_token_end[edit_type]\n",
    "                if j < len(original_spans) - 1:\n",
    "                    new_original += original[original_spans[j][1]:original_spans[j+1][0]]\n",
    "            new_original += original[original_spans[-1][1]:]\n",
    "        \n",
    "        if simplified_spans is None:\n",
    "            new_simplified = simplified\n",
    "        else:\n",
    "            simplified_spans.sort(key=lambda x: (x[0], x[1]))\n",
    "            new_simplified = simplified[:simplified_spans[0][0]]\n",
    "            for j, span in enumerate(simplified_spans):\n",
    "                if simplified[span[0]:span[1]] == \"||\":\n",
    "                    new_simplified += \"<SPLIT_SIGN>\"\n",
    "                else:\n",
    "                    new_simplified += edit_2_special_token_start[edit_type]\n",
    "                    new_simplified += simplified[span[0]:span[1]]\n",
    "                    new_simplified += edit_2_special_token_end[edit_type]\n",
    "                if j < len(simplified_spans) - 1:\n",
    "                    new_simplified += simplified[simplified_spans[j][1]:simplified_spans[j+1][0]]\n",
    "            new_simplified += simplified[simplified_spans[-1][1]:]\n",
    "        \n",
    "        # replace \"|| \" in simplified with \"\"\n",
    "        new_simplified = new_simplified.replace(\"|| \", \"\")\n",
    "        new_simplified = new_simplified.replace(\"<SPLIT_SIGN> \", \"<SPLIT_SIGN>\")\n",
    "        \n",
    "        original_list.append(original)\n",
    "        sentence1_list.append(new_original)\n",
    "        sentence2_list.append(new_simplified)\n",
    "        label_list.append(label)"
   ]
  },
  {
   "cell_type": "code",
   "execution_count": 5,
   "metadata": {},
   "outputs": [],
   "source": [
    "# create dataframe\n",
    "df = pd.DataFrame({\"original\": original_list, \"sentence1\": sentence1_list, \"sentence2\": sentence2_list, \"label\": label_list})\n",
    "\n",
    "unique_sentence1 = df[\"original\"].unique().tolist()\n",
    "# train, val, test split, 80%, 10%, 10%\n",
    "train, val, test = np.split(unique_sentence1, [int(.8*len(unique_sentence1)), int(.9*len(unique_sentence1))])\n",
    "\n",
    "train_df = df[df[\"original\"].isin(train)]\n",
    "val_df = df[df[\"original\"].isin(val)]\n",
    "test_df = df[df[\"original\"].isin(test)]\n",
    "# save to csv\n",
    "train_df.to_csv(\"roberta_data/train.csv\", index=False)\n",
    "val_df.to_csv(\"roberta_data/val.csv\", index=False)\n",
    "test_df.to_csv(\"roberta_data/test.csv\", index=False)"
   ]
  },
  {
   "cell_type": "code",
   "execution_count": 6,
   "metadata": {},
   "outputs": [
    {
     "data": {
      "text/plain": [
       "(10125, 1407, 1579)"
      ]
     },
     "execution_count": 6,
     "metadata": {},
     "output_type": "execute_result"
    }
   ],
   "source": [
    "len(train_df), len(val_df), len(test_df)"
   ]
  },
  {
   "cell_type": "code",
   "execution_count": 7,
   "metadata": {},
   "outputs": [
    {
     "data": {
      "text/plain": [
       "quality    7828\n",
       "error      1384\n",
       "trivial     913\n",
       "Name: label, dtype: int64"
      ]
     },
     "execution_count": 7,
     "metadata": {},
     "output_type": "execute_result"
    }
   ],
   "source": [
    "# get label distribution in train_df\n",
    "train_df[\"label\"].value_counts()"
   ]
  },
  {
   "cell_type": "code",
   "execution_count": 8,
   "metadata": {},
   "outputs": [
    {
     "data": {
      "text/plain": [
       "Counter({'quality': 10250, 'trivial': 1131, 'error': 1730})"
      ]
     },
     "execution_count": 8,
     "metadata": {},
     "output_type": "execute_result"
    }
   ],
   "source": [
    "# count number of each label in label_list\n",
    "from collections import Counter\n",
    "Counter(label_list)"
   ]
  },
  {
   "cell_type": "markdown",
   "metadata": {},
   "source": [
    "### 3. Prepare GPT-3 data\n",
    "\n",
    "The difference is to use understandablt marker, like \"<deletion>\", \"<insertion>\", \"<substitution>\" ..."
   ]
  },
  {
   "cell_type": "code",
   "execution_count": 9,
   "metadata": {},
   "outputs": [],
   "source": [
    "edit_2_special_token_start = {\"deletion\": \"<deletion>\", \"insertion\": \"<insertion>\", \"substitution\": \"<substitution>\", \"reorder\": \"<reorder>\", \n",
    "                                \"structure\": \"<structure>\", \"split\": \"<split>\"}\n",
    "edit_2_special_token_end = {\"deletion\": \"</deletion>\", \"insertion\": \"</insertion>\", \"substitution\": \"</substitution>\", \"reorder\": \"</reorder>\",\n",
    "                                \"structure\": \"</structure>\", \"split\": \"</split>\"}\n",
    "\n",
    "original_list = []                       \n",
    "sentence1_list = []\n",
    "sentence2_list = []\n",
    "label_list = []\n",
    "\n",
    "for annotation in data:\n",
    "    original = annotation['original']\n",
    "    simplified = annotation['simplified']\n",
    "    for i, edit in enumerate(annotation[\"edits\"]):\n",
    "        edit_type = edit[\"type\"]\n",
    "        original_spans = edit[\"original_span\"]\n",
    "        simplified_spans = edit[\"simplified_span\"]\n",
    "        label = annotation[\"processed_annotations\"][i][\"type\"].name.lower()\n",
    "        # each span is a tuple (start, end), sort by start, then end\n",
    "        if original_spans is None:\n",
    "            new_original = original\n",
    "        else:\n",
    "            original_spans.sort(key=lambda x: (x[0], x[1]))\n",
    "            new_original = original[:original_spans[0][0]]\n",
    "            for j, span in enumerate(original_spans):\n",
    "                new_original += edit_2_special_token_start[edit_type]\n",
    "                new_original += original[span[0]:span[1]]\n",
    "                new_original += edit_2_special_token_end[edit_type]\n",
    "                if j < len(original_spans) - 1:\n",
    "                    new_original += original[original_spans[j][1]:original_spans[j+1][0]]\n",
    "            new_original += original[original_spans[-1][1]:]\n",
    "        \n",
    "        if simplified_spans is None:\n",
    "            new_simplified = simplified\n",
    "        else:\n",
    "            simplified_spans.sort(key=lambda x: (x[0], x[1]))\n",
    "            new_simplified = simplified[:simplified_spans[0][0]]\n",
    "            for j, span in enumerate(simplified_spans):\n",
    "                if simplified[span[0]:span[1]] == \"||\":\n",
    "                    new_simplified += \"<split_sign>\"\n",
    "                else:\n",
    "                    new_simplified += edit_2_special_token_start[edit_type]\n",
    "                    new_simplified += simplified[span[0]:span[1]]\n",
    "                    new_simplified += edit_2_special_token_end[edit_type]\n",
    "                if j < len(simplified_spans) - 1:\n",
    "                    new_simplified += simplified[simplified_spans[j][1]:simplified_spans[j+1][0]]\n",
    "            new_simplified += simplified[simplified_spans[-1][1]:]\n",
    "        \n",
    "        # replace \"|| \" in simplified with \"\"\n",
    "        new_simplified = new_simplified.replace(\"|| \", \"\")\n",
    "        new_simplified = new_simplified.replace(\"<split_sign> \", \"<split_sign>\")\n",
    "        \n",
    "        original_list.append(original)\n",
    "        sentence1_list.append(new_original)\n",
    "        sentence2_list.append(new_simplified)\n",
    "        label_list.append(label)"
   ]
  },
  {
   "cell_type": "code",
   "execution_count": 10,
   "metadata": {},
   "outputs": [],
   "source": [
    "# create dataframe\n",
    "df = pd.DataFrame({\"original\": original_list, \"sentence1\": sentence1_list, \"sentence2\": sentence2_list, \"label\": label_list})\n",
    "\n",
    "unique_sentence1 = df[\"original\"].unique().tolist()\n",
    "# train, val, test split, 80%, 10%, 10%\n",
    "train, val, test = np.split(unique_sentence1, [int(.8*len(unique_sentence1)), int(.9*len(unique_sentence1))])\n",
    "\n",
    "train_df = df[df[\"original\"].isin(train)]\n",
    "val_df = df[df[\"original\"].isin(val)]\n",
    "test_df = df[df[\"original\"].isin(test)]\n",
    "# save to csv\n",
    "train_df.to_csv(\"gpt3_data/train.csv\", index=False)\n",
    "val_df.to_csv(\"gpt3_data/val.csv\", index=False)\n",
    "test_df.to_csv(\"gpt3_data/test.csv\", index=False)"
   ]
  },
  {
   "cell_type": "code",
   "execution_count": null,
   "metadata": {},
   "outputs": [],
   "source": []
  }
 ],
 "metadata": {
  "kernelspec": {
   "display_name": "Python 3.9.13 ('paraphrase')",
   "language": "python",
   "name": "python3"
  },
  "language_info": {
   "codemirror_mode": {
    "name": "ipython",
    "version": 3
   },
   "file_extension": ".py",
   "mimetype": "text/x-python",
   "name": "python",
   "nbconvert_exporter": "python",
   "pygments_lexer": "ipython3",
   "version": "3.9.13"
  },
  "orig_nbformat": 4,
  "vscode": {
   "interpreter": {
    "hash": "51d4b053945bb951b16f24566ff3322f1cf2f2e71937c6e2fa134fa8352168a0"
   }
  }
 },
 "nbformat": 4,
 "nbformat_minor": 2
}
