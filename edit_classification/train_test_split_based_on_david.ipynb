{
 "cells": [
  {
   "cell_type": "code",
   "execution_count": 1,
   "metadata": {},
   "outputs": [],
   "source": [
    "import json\n",
    "\n",
    "data_path = \"../data/edit_classification/inspection_data/batch_1234.json\"\n",
    "with open(data_path, 'r') as f:\n",
    "    data = json.load(f)"
   ]
  },
  {
   "cell_type": "code",
   "execution_count": 2,
   "metadata": {},
   "outputs": [],
   "source": [
    "keys = list(data.keys())\n",
    "# keys is a string which delimiter is %%, so split into a tuple, and replace keys\n",
    "keys = [tuple(key.split('%%')) for key in keys]\n",
    "data = dict(zip(keys, data.values()))"
   ]
  },
  {
   "cell_type": "code",
   "execution_count": 3,
   "metadata": {},
   "outputs": [],
   "source": [
    "import pandas as pd\n",
    "train_csv_path = \"../data/salsa/lens-salsa-training/train.csv\"\n",
    "train_df = pd.read_csv(train_csv_path)\n",
    "eval_csv_path = \"../data/salsa/lens-salsa-training/valid.csv\"\n",
    "eval_df = pd.read_csv(eval_csv_path)\n",
    "\n",
    "train_origs = list(set(train_df['src'].tolist()))\n",
    "train_origs.append(\"In a difficult situation, it encouraged him to study Graphic Design in 2007, and he's been since as a Cinematographer in the film industry, also having a lot of experience with photography and experience in the field of graphic design.\")\n",
    "eval_origs = list(set(eval_df['src'].tolist()))"
   ]
  },
  {
   "cell_type": "code",
   "execution_count": 4,
   "metadata": {},
   "outputs": [],
   "source": [
    "# check common origs in train and eval origs\n",
    "common_origs = set(train_origs).intersection(set(eval_origs))\n",
    "# remove common origs from eval_origs\n",
    "eval_origs = [orig for orig in eval_origs if orig not in common_origs]"
   ]
  },
  {
   "cell_type": "code",
   "execution_count": 5,
   "metadata": {},
   "outputs": [],
   "source": [
    "# split data into train, eval, test\n",
    "train_data = {}\n",
    "eval_data = {}\n",
    "\n",
    "for key, value in data.items():\n",
    "    if key[1] in train_origs:\n",
    "        train_data[key] = value\n",
    "    elif key[1] in eval_origs:\n",
    "        eval_data[key] = value\n",
    "    else:\n",
    "        print(key)"
   ]
  },
  {
   "cell_type": "code",
   "execution_count": 6,
   "metadata": {},
   "outputs": [
    {
     "name": "stdout",
     "output_type": "stream",
     "text": [
      "511 189\n",
      "74 27\n"
     ]
    }
   ],
   "source": [
    "print(len(train_data), len(eval_data))\n",
    "print(len(train_origs), len(eval_origs))"
   ]
  },
  {
   "cell_type": "code",
   "execution_count": 7,
   "metadata": {},
   "outputs": [],
   "source": [
    "# Convert tuple keys to strings using '%%' as a delimiter\n",
    "train_data = dict(zip(['%%'.join(key) for key in train_data.keys()], train_data.values()))\n",
    "eval_data = dict(zip(['%%'.join(key) for key in eval_data.keys()], eval_data.values()))\n",
    "\n",
    "# save train, eval, test data\n",
    "with open('../data/edit_classification/inspection_data/train_1234.json', 'w') as f:\n",
    "    json.dump(train_data, f, indent=4)\n",
    "\n",
    "with open('../data/edit_classification/inspection_data/eval_1234.json', 'w') as f:\n",
    "    json.dump(eval_data, f, indent=4)\n"
   ]
  },
  {
   "cell_type": "code",
   "execution_count": null,
   "metadata": {},
   "outputs": [],
   "source": []
  }
 ],
 "metadata": {
  "kernelspec": {
   "display_name": "Python 3.9.13 ('paraphrase')",
   "language": "python",
   "name": "python3"
  },
  "language_info": {
   "codemirror_mode": {
    "name": "ipython",
    "version": 3
   },
   "file_extension": ".py",
   "mimetype": "text/x-python",
   "name": "python",
   "nbconvert_exporter": "python",
   "pygments_lexer": "ipython3",
   "version": "3.9.13"
  },
  "orig_nbformat": 4,
  "vscode": {
   "interpreter": {
    "hash": "51d4b053945bb951b16f24566ff3322f1cf2f2e71937c6e2fa134fa8352168a0"
   }
  }
 },
 "nbformat": 4,
 "nbformat_minor": 2
}
