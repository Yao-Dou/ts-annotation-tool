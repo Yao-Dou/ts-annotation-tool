{
 "cells": [
  {
   "cell_type": "code",
   "execution_count": 1,
   "metadata": {},
   "outputs": [],
   "source": [
    "import json\n",
    "\n",
    "data_path = \"../data/edit_classification/inspection_data/batch_1234.json\"\n",
    "with open(data_path, 'r') as f:\n",
    "    data = json.load(f)"
   ]
  },
  {
   "cell_type": "code",
   "execution_count": 2,
   "metadata": {},
   "outputs": [],
   "source": [
    "keys = list(data.keys())\n",
    "# keys is a string which delimiter is %%, so split into a tuple, and replace keys\n",
    "keys = [tuple(key.split('%%')) for key in keys]\n",
    "data = dict(zip(keys, data.values()))"
   ]
  },
  {
   "cell_type": "code",
   "execution_count": 3,
   "metadata": {},
   "outputs": [],
   "source": [
    "original_sentences = []\n",
    "for key in keys:\n",
    "    if key[1] not in original_sentences:\n",
    "        original_sentences.append(key[1])"
   ]
  },
  {
   "cell_type": "code",
   "execution_count": 4,
   "metadata": {},
   "outputs": [],
   "source": [
    "# random shuffle and split into train, eval, test with ratio 8:1:1\n",
    "import random\n",
    "random.seed(42)\n",
    "random.shuffle(original_sentences)\n",
    "\n",
    "train_origs = original_sentences[:int(len(original_sentences)*0.8)]\n",
    "eval_origs = original_sentences[int(len(original_sentences)*0.8):int(len(original_sentences)*0.9)]\n",
    "test_origs = original_sentences[int(len(original_sentences)*0.9):]"
   ]
  },
  {
   "cell_type": "code",
   "execution_count": 5,
   "metadata": {},
   "outputs": [],
   "source": [
    "# split data into train, eval, test\n",
    "train_data = {}\n",
    "eval_data = {}\n",
    "test_data = {}\n",
    "\n",
    "for key, value in data.items():\n",
    "    if key[1] in train_origs:\n",
    "        train_data[key] = value\n",
    "    elif key[1] in eval_origs:\n",
    "        eval_data[key] = value\n",
    "    elif key[1] in test_origs:\n",
    "        test_data[key] = value"
   ]
  },
  {
   "cell_type": "code",
   "execution_count": 6,
   "metadata": {},
   "outputs": [
    {
     "name": "stdout",
     "output_type": "stream",
     "text": [
      "553 70 77\n"
     ]
    }
   ],
   "source": [
    "print(len(train_data), len(eval_data), len(test_data))"
   ]
  },
  {
   "cell_type": "code",
   "execution_count": 7,
   "metadata": {},
   "outputs": [],
   "source": [
    "# Convert tuple keys to strings using '%%' as a delimiter\n",
    "train_data = dict(zip(['%%'.join(key) for key in train_data.keys()], train_data.values()))\n",
    "eval_data = dict(zip(['%%'.join(key) for key in eval_data.keys()], eval_data.values()))\n",
    "test_data = dict(zip(['%%'.join(key) for key in test_data.keys()], test_data.values()))\n",
    "\n",
    "# save train, eval, test data\n",
    "with open('../data/edit_classification/inspection_data/train_1234.json', 'w') as f:\n",
    "    json.dump(train_data, f, indent=4)\n",
    "\n",
    "with open('../data/edit_classification/inspection_data/eval_1234.json', 'w') as f:\n",
    "    json.dump(eval_data, f, indent=4)\n",
    "\n",
    "with open('../data/edit_classification/inspection_data/test_1234.json', 'w') as f:\n",
    "    json.dump(test_data, f, indent=4)\n"
   ]
  },
  {
   "cell_type": "code",
   "execution_count": null,
   "metadata": {},
   "outputs": [],
   "source": []
  }
 ],
 "metadata": {
  "kernelspec": {
   "display_name": "Python 3.9.13 ('paraphrase')",
   "language": "python",
   "name": "python3"
  },
  "language_info": {
   "codemirror_mode": {
    "name": "ipython",
    "version": 3
   },
   "file_extension": ".py",
   "mimetype": "text/x-python",
   "name": "python",
   "nbconvert_exporter": "python",
   "pygments_lexer": "ipython3",
   "version": "3.9.13"
  },
  "orig_nbformat": 4,
  "vscode": {
   "interpreter": {
    "hash": "51d4b053945bb951b16f24566ff3322f1cf2f2e71937c6e2fa134fa8352168a0"
   }
  }
 },
 "nbformat": 4,
 "nbformat_minor": 2
}
