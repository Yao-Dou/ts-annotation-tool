{
 "cells": [
  {
   "cell_type": "code",
   "execution_count": 1,
   "metadata": {},
   "outputs": [],
   "source": [
    "# Make sure to create a '.SECRET' file with your API key!\n",
    "from query import *"
   ]
  },
  {
   "cell_type": "code",
   "execution_count": 2,
   "metadata": {},
   "outputs": [],
   "source": [
    "filename = 'batch-2.csv'\n",
    "batch_name = filename.split('.')[0]\n",
    "\n",
    "# Will only use the sentences\n",
    "data = load_batch(filename)\n",
    "data = [str(x[0]) for x in data]"
   ]
  },
  {
   "cell_type": "code",
   "execution_count": 3,
   "metadata": {},
   "outputs": [],
   "source": [
    "# Get API key & configure OpenAI API\n",
    "with open('.SECRET') as f:\n",
    "    secret = f.read().strip()\n",
    "openai.organization = \"org-wAc6SximlF8c4j1M4IepuYrV\"\n",
    "openai.api_key = secret"
   ]
  },
  {
   "cell_type": "code",
   "execution_count": 4,
   "metadata": {},
   "outputs": [],
   "source": [
    "def callGPT(prompt):\n",
    "    response = openai.Completion.create(\n",
    "        engine=\"text-davinci-003\", \n",
    "        prompt=prompt, \n",
    "        temperature=1,\n",
    "        top_p=0.96,\n",
    "        frequency_penalty=0,\n",
    "        presence_penalty=0,\n",
    "        max_tokens=256)\n",
    "    responses = [x['text'] for x in response['choices']]\n",
    "    if len(responses) > 1:\n",
    "        print(f\"More than one response! {responses}\")\n",
    "    responses = responses[0]\n",
    "    return responses"
   ]
  },
  {
   "cell_type": "markdown",
   "metadata": {},
   "source": [
    "###  Zero-shot Eval"
   ]
  },
  {
   "cell_type": "code",
   "execution_count": null,
   "metadata": {},
   "outputs": [
    {
     "data": {
      "text/plain": [
       "[('Human skin hues can range from very dark brown to very pale pink.',\n",
       "  'Human skin tone ranges from very dark brown to very pale pink.')]"
      ]
     },
     "metadata": {},
     "output_type": "display_data"
    }
   ],
   "source": [
    "asset = load_asset('asset/dataset')\n",
    "sample_asset(asset, num_samples=1)"
   ]
  },
  {
   "cell_type": "code",
   "execution_count": 36,
   "metadata": {},
   "outputs": [
    {
     "name": "stdout",
     "output_type": "stream",
     "text": [
      "Please rewrite the following complex sentence in order to make it easier to understand by non-native speakers of English. You can do so by replacing complex words with simpler synonyms (i.e. paraphrasing), deleting unimportant information (i.e. compression), and/or splitting a long complex sentence into several simpler ones. The final simplified sentence needs to be grammatical, fluent, and retain the main ideas of its original counterpart without altering its meaning.\n",
      "\n",
      "The architecture of Winchester College is a diverse set of architectural styles, reflecting the multiple periods of building from the college's foundation in 1382, through additions in the medieval and Early Modern periods, to a major expansion of accommodation in the Victorian era and then further extensions at the turn of the 20th century and more recently.\n",
      "\n",
      "\n",
      "Winchester College was established in 1382, and since then its architecture has been composed of a variety of styles, reflecting its expansion in the medieval, Early Modern and Victorian eras, as well as several more recent extensions.\n"
     ]
    }
   ],
   "source": [
    "print(prompt % data[0])\n",
    "print(callGPT(prompt % data[0]))"
   ]
  },
  {
   "cell_type": "code",
   "execution_count": 37,
   "metadata": {},
   "outputs": [],
   "source": [
    "out = []\n",
    "for sent in data:\n",
    "    out.append(callGPT(prompt % sent))"
   ]
  },
  {
   "cell_type": "code",
   "execution_count": 38,
   "metadata": {},
   "outputs": [],
   "source": [
    "out_cleaned = [sent.replace('\\n', '') for sent in out]"
   ]
  },
  {
   "cell_type": "code",
   "execution_count": 39,
   "metadata": {},
   "outputs": [],
   "source": [
    "with open(f'gpt-outputs/zero-shot-{batch_name}.json', 'w') as f:\n",
    "    json.dump(out_cleaned, f, indent=4)"
   ]
  },
  {
   "cell_type": "markdown",
   "metadata": {},
   "source": [
    "### Few-Shot Eval"
   ]
  },
  {
   "cell_type": "code",
   "execution_count": 42,
   "metadata": {},
   "outputs": [
    {
     "name": "stdout",
     "output_type": "stream",
     "text": [
      "Please rewrite the following complex sentence in order to make it easier to understand by non-native speakers of English. You can do so by replacing complex words with simpler synonyms (i.e. paraphrasing), deleting unimportant information (i.e. compression), and/or splitting a long complex sentence into several simpler ones. The final simplified sentence needs to be grammatical, fluent, and retain the main ideas of its original counterpart without altering its meaning.\n",
      "\n",
      "Examples: \n",
      "Input: Gable also earned an Academy Award nomination when he portrayed Fletcher Christian in 1935's Mutiny on the Bounty.\n",
      "Output: Gable earned an Academy Award nomination for portraying Fletcher Christian in Mutiny on the Bounty.\n",
      "\n",
      "Input: Pauline returned in the Game Boy remake of Donkey Kong in 1994, and later Mario vs. Donkey Kong 2: March of the Minis in 2006, although the character is now described as \"Mario's friend\".\n",
      "Output: Pauline appeared again in the Game Boy remake of Donkey Kong in 1994, and later Mario vs. Donkey Kong 2: March of the Minis in 2006, although the character is now known as \"Mario's friend\".\n",
      "\n",
      "Input: Most of the songs were written by Richard M. Sherman and Robert B. Sherman.\n",
      "Output: Richard M. Sherman and Robert B. Sherman had written most of the songs.\n",
      "\n",
      "Input: Disney received a full-size Oscar statuette and seven miniature ones, presented to him by 10-year-old child actress Shirley Temple.\n",
      "Output: 10 year old shirley temple presented disney a full-size oscar statue and seven small ones.\n",
      "\n",
      "Input: By early on September 30, wind shear began to dramatically increase and a weakening trend began.\n",
      "Output: Early September 30, wind shear began to dramatically increase and a weakening trend began.\n",
      "\n",
      "Please rewrite the following complex sentence in order to make it easier to understand by non-native speakers of English. You can do so by replacing complex words with simpler synonyms (i.e. paraphrasing), deleting unimportant information (i.e. compression), and/or splitting a long complex sentence into several simpler ones. The final simplified sentence needs to be grammatical, fluent, and retain the main ideas of its original counterpart without altering its meaning.\n",
      "\n",
      "Input: The architecture of Winchester College is a diverse set of architectural styles, reflecting the multiple periods of building from the college's foundation in 1382, through additions in the medieval and Early Modern periods, to a major expansion of accommodation in the Victorian era and then further extensions at the turn of the 20th century and more recently.\n",
      "Output:\n",
      " Winchester College has a variety of architectural styles from different periods of its construction, starting from its founding in 1382. Additions were made in the medieval and Early Modern times, followed by a large expansion during the Victorian era and other extensions at the turn of the 20th century and recently.\n"
     ]
    }
   ],
   "source": [
    "gpt_input = create_few_shot_input(data[0])\n",
    "print(gpt_input)\n",
    "print(callGPT(gpt_input))"
   ]
  },
  {
   "cell_type": "code",
   "execution_count": 43,
   "metadata": {},
   "outputs": [],
   "source": [
    "# Danger! Queries OpenAI ~$0.02 per sentence\n",
    "out = []\n",
    "for sent in data:\n",
    "    gpt_input = create_few_shot_input(sent)\n",
    "    out.append(callGPT(gpt_input))"
   ]
  },
  {
   "cell_type": "code",
   "execution_count": 44,
   "metadata": {},
   "outputs": [],
   "source": [
    "# Clean outputs\n",
    "out_cleaned = []\n",
    "for sent in out:\n",
    "    cleaned = sent\n",
    "    if cleaned.startswith(' '):\n",
    "        cleaned = cleaned[1:]\n",
    "    if cleaned.startswith('\\n\\n'):\n",
    "        cleaned = cleaned[2:]\n",
    "    out_cleaned.append(cleaned)"
   ]
  },
  {
   "cell_type": "code",
   "execution_count": 45,
   "metadata": {},
   "outputs": [],
   "source": [
    "with open(f'gpt-outputs/few-shot-{batch_name}.json', 'w') as f:\n",
    "    json.dump(out_cleaned, f, indent=4)"
   ]
  },
  {
   "cell_type": "markdown",
   "metadata": {},
   "source": [
    "### Query OpenAI with different sets of examples\n",
    "The idea is to sample different datasets as the examples but use the same complex sentences. Theoretically the different demonstrations should impact the amount of compression."
   ]
  },
  {
   "cell_type": "code",
   "execution_count": 5,
   "metadata": {},
   "outputs": [
    {
     "data": {
      "text/plain": [
       "[('The historical method comprises the techniques and guidelines by which historians use primary sources and other evidence to research and then to write history.',\n",
       "  'Historians use certain methods to write history.'),\n",
       " ('Graham attended Wheaton College from 1939 to 1943, when he graduated with a BA in anthropology.',\n",
       "  'Graham graduated from Wheaton College with a BA in anthropology.')]"
      ]
     },
     "execution_count": 5,
     "metadata": {},
     "output_type": "execute_result"
    }
   ],
   "source": [
    "human_systems = set([\n",
    "    'systems/asset.test.simp',\n",
    "    'new_systems/turk_corpus_random.txt',\n",
    "    'new_systems/simple_wiki.txt'\n",
    "])\n",
    "\n",
    "# Load data from simpeval\n",
    "multi_dataset = load_multi_dataset(human_systems)\n",
    "\n",
    "# Load batch 1 as our simplifications\n",
    "multi_dataset += [{\n",
    "    'original': x[0],\n",
    "    'simplification': x[1],\n",
    "    'system': 'new_systems/our_human_written'\n",
    "} for x in load_batch('ourdata/batch-1-human.csv')]\n",
    "human_systems.add('new_systems/our_human_written')\n",
    "\n",
    "sample_multi_dataset(multi_dataset, 'systems/asset.test.simp', num_samples=2)"
   ]
  },
  {
   "cell_type": "code",
   "execution_count": 97,
   "metadata": {},
   "outputs": [
    {
     "name": "stdout",
     "output_type": "stream",
     "text": [
      "new_systems/turk_corpus_random.txt: 35.67\n",
      "new_systems/simple_wiki.txt: 39.43\n",
      "systems/asset.test.simp: 48.11\n",
      "new_systems/our_human_written: 109.43\n"
     ]
    }
   ],
   "source": [
    "# Get edit distance wtihin the dataset\n",
    "def avg(lst, prec=2):\n",
    "    if len(lst) == 0:\n",
    "        return 0\n",
    "    return round(sum(lst) / len(lst), prec)\n",
    "\n",
    "def edit_dist(s1, s2):\n",
    "    if len(s1) > len(s2):\n",
    "        s1, s2 = s2, s1\n",
    "\n",
    "    distances = range(len(s1) + 1)\n",
    "    for i2, c2 in enumerate(s2):\n",
    "        distances_ = [i2+1]\n",
    "        for i1, c1 in enumerate(s1):\n",
    "            if c1 == c2:\n",
    "                distances_.append(distances[i1])\n",
    "            else:\n",
    "                distances_.append(1 + min((distances[i1], distances[i1 + 1], distances_[-1])))\n",
    "        distances = distances_\n",
    "    return distances[-1]\n",
    "\n",
    "for system in human_systems:\n",
    "    selected = [sent for sent in multi_dataset if sent['system'] == system]\n",
    "    length = [edit_dist(sent['simplification'], sent['original']) for sent in selected]\n",
    "    print(f'{system}: {avg(length)}')"
   ]
  },
  {
   "cell_type": "code",
   "execution_count": 30,
   "metadata": {},
   "outputs": [
    {
     "name": "stdout",
     "output_type": "stream",
     "text": [
      "Please rewrite the following complex sentence in order to make it easier to understand by non-native speakers of English. You can do so by replacing complex words with simpler synonyms (i.e. paraphrasing), deleting unimportant information (i.e. compression), and/or splitting a long complex sentence into several simpler ones. The final simplified sentence needs to be grammatical, fluent, and retain the main ideas of its original counterpart without altering its meaning.\n",
      "\n",
      "Examples: \n",
      "Input: The architecture of Winchester College is a diverse set of architectural styles, reflecting the multiple periods of building from the college's foundation in 1382, through additions in the medieval and Early Modern periods, to a major expansion of accommodation in the Victorian era and then further extensions at the turn of the 20th century and more recently.\n",
      "Output: The buildings of Winchester College have diverse architectural styles. They reflect multiple periods of building from the college’s founding in 1382, through additions in the medieval and early modern periods. They also show big expansions to accommodations in the Victorian era and at the beginning of the 20th century and more recently.\n",
      "\n",
      "Input: However, upon Flynn's apparent success in securing sufficient backing to become council president, Arroyo released a statement that acted as an informal concession of sorts, giving strong praise to Flynn's kindness and work ethic, and declaring that he looked forward, \"to seeing how he utilizes those great qualities in this leadership role.\"\n",
      "Output: When Flynn got support to become council president, Arroyo sent out a message. The message was an informal concession that praised Flynn’s kindness and work ethic. It also said that he looked forward, \"to seeing how he utilizes those great qualities in this leadership role.\"\n",
      "\n",
      "Input: On November 2, 2022, Poland's Minister of National Defence Mariusz Blaszczak announces the construction of a barrier along the border with the Russian exclave of Kaliningrad, as Poland believes that Russia will use the border to illegally transport African and Asian immigrants to Europe.\n",
      "Output: On November 2, 2022, Poland’s Minister of National Defence announced the creation of a barrier along the border of a Russian exclave. Poland believes Russia will use the border to transport illegal immigrants to Europe.\n",
      "\n",
      "Input: The sitcom series features the story of Abi (played by Bolu Essien) who secures a job at a top advertising agency in Lagos, although she had a rough start with her superior, she soon got an opportunity to shine at work when she was promoted to become the acting manager after the manager traveled to another branch.\n",
      "Output: The sitcom series is about the story of Abi who gets a job at a top ad agency in Lagos. Though she has a rough start with her superior, she gets a chance to shine at work when she is promoted to acting manager. This happens because her manager travels to another branch.\n",
      "\n",
      "Input: An activist hiding his identity said the Egyptian authorities were carrying out random detentions ahead of COP, where they are randomly stopping people and inspecting their mobile phones to look for any evidence of dissent.\n",
      "Output: An activist said the Egyptian government was doing random phone searches ahead of a climate change conference. During the search, they were looking for any evidence of dispute with the government.\n",
      "\n",
      "Please rewrite the following complex sentence in order to make it easier to understand by non-native speakers of English. You can do so by replacing complex words with simpler synonyms (i.e. paraphrasing), deleting unimportant information (i.e. compression), and/or splitting a long complex sentence into several simpler ones. The final simplified sentence needs to be grammatical, fluent, and retain the main ideas of its original counterpart without altering its meaning.\n",
      "\n",
      "Input: The club said on social media that customers subdued the gunman, that it was \"devastated by the senseless attack on our community\", and that it offered condolences to the victims and their families.\n",
      "Output:\n"
     ]
    }
   ],
   "source": [
    "print(create_few_shot_input_multi_dataset(data[0], multi_dataset, 'new_systems/our_human_written'))"
   ]
  },
  {
   "cell_type": "code",
   "execution_count": 6,
   "metadata": {},
   "outputs": [
    {
     "data": {
      "text/plain": [
       "{'new_systems/our_human_written',\n",
       " 'new_systems/simple_wiki.txt',\n",
       " 'new_systems/turk_corpus_random.txt',\n",
       " 'systems/asset.test.simp'}"
      ]
     },
     "execution_count": 6,
     "metadata": {},
     "output_type": "execute_result"
    }
   ],
   "source": [
    "human_systems"
   ]
  },
  {
   "cell_type": "code",
   "execution_count": 7,
   "metadata": {},
   "outputs": [],
   "source": [
    "# Because of the amount of queries, I'm going through each system manually\n",
    "system = 'new_systems/turk_corpus_random.txt'"
   ]
  },
  {
   "cell_type": "code",
   "execution_count": 8,
   "metadata": {},
   "outputs": [
    {
     "name": "stdout",
     "output_type": "stream",
     "text": [
      "Please rewrite the following complex sentence in order to make it easier to understand by non-native speakers of English. You can do so by replacing complex words with simpler synonyms (i.e. paraphrasing), deleting unimportant information (i.e. compression), and/or splitting a long complex sentence into several simpler ones. The final simplified sentence needs to be grammatical, fluent, and retain the main ideas of its original counterpart without altering its meaning.\n",
      "\n",
      "Examples: \n",
      "Input: SummerSlam (2009) is an upcoming professional wrestling pay-per-view event produced by World Wrestling Entertainment (WWE), which will take place on August 23, 2009 at Staples Center in Los Angeles, California.\n",
      "Output: SummerSlam (2009) is an upcoming expert fighting pay-per-view event produced by World fighting amusement (WWE), which will take place on August 23, 2009 at Staples Center in Los Angeles, California\n",
      "\n",
      "Input: From 1900 to 1920 many new facilities were constructed on campus, including facilities for the dental and pharmacy programs, a chemistry building, a building for the natural sciences, Hill Auditorium, large hospital and library complexes, and two residence halls.\n",
      "Output: From 1900 to 1920 many new facilities were constructed on campus, including facilities for the dental and pharmacy programs, a chemistry building, a building for the natural sciences, Hill Auditorium, large hospital and library complexes, and two residence halls.\n",
      "\n",
      "Input: The current lineup of the band comprises Flynn (vocals, guitar), Duce (bass), Phil Demmel (guitar), and Dave McClain (drums).\n",
      "Output: The current lineup of the band has Flynn on vocals and guitar, Duce on bass, Phil Demmel on guitar and Dave McClain on drums.\n",
      "\n",
      "Input: One side of the armed conflicts is composed mainly of the Sudanese military and the Janjaweed, a Sudanese militia group recruited mostly from the Afro-Arab Abbala tribes of the northern Rizeigat region in Sudan.\n",
      "Output: One side of the armed conflicts is composed mainly of the Sudanese military and the Janjaweed, a Sudanese militia group recruited mostly from the Afro-Arab Abbala tribes of the northern Rizeigat region in Sudan.\n",
      "\n",
      "Input: The story of Christmas is based on the biblical accounts given in the Gospel of Matthew, namely - and the Gospel of Luke, specifically -.\n",
      "Output: The story of Christmas Is Based On Biblical Accounts In The Gospel Of Matthew, And The Gospel Of Luke.\n",
      "\n",
      "Please rewrite the following complex sentence in order to make it easier to understand by non-native speakers of English. You can do so by replacing complex words with simpler synonyms (i.e. paraphrasing), deleting unimportant information (i.e. compression), and/or splitting a long complex sentence into several simpler ones. The final simplified sentence needs to be grammatical, fluent, and retain the main ideas of its original counterpart without altering its meaning.\n",
      "\n",
      "Input: The film centers on a reclusive wealthy family who has spent months living in virtual isolation in the family mansion to prevent their community from finding out that daughter Hélène has gotten pregnant from a one-night stand, only to have their fragile equilibrium challenged when Hélène abandons the house soon after the baby's birth to look for the father.\n",
      "Output:\n"
     ]
    }
   ],
   "source": [
    "print(create_few_shot_input_multi_dataset(data[3], multi_dataset, system))"
   ]
  },
  {
   "cell_type": "code",
   "execution_count": 9,
   "metadata": {},
   "outputs": [],
   "source": [
    "# Danger! Queries OpenAI ~$0.02 per sentence\n",
    "out = []\n",
    "for sent in data:\n",
    "    try:\n",
    "        gpt_input = create_few_shot_input_multi_dataset(sent, multi_dataset, system)\n",
    "        out.append(callGPT(gpt_input))\n",
    "    except Exception as e:\n",
    "        out.append('')"
   ]
  },
  {
   "cell_type": "code",
   "execution_count": 10,
   "metadata": {},
   "outputs": [],
   "source": [
    "# Clean outputs\n",
    "out_cleaned = []\n",
    "for sent in out:\n",
    "    cleaned = sent\n",
    "    if cleaned.startswith(' '):\n",
    "        cleaned = cleaned[1:]\n",
    "    if cleaned.startswith('\\n\\n'):\n",
    "        cleaned = cleaned[2:]\n",
    "    out_cleaned.append(cleaned)"
   ]
  },
  {
   "cell_type": "code",
   "execution_count": 11,
   "metadata": {},
   "outputs": [
    {
     "data": {
      "text/plain": [
       "30"
      ]
     },
     "execution_count": 11,
     "metadata": {},
     "output_type": "execute_result"
    }
   ],
   "source": [
    "len(out_cleaned)"
   ]
  },
  {
   "cell_type": "code",
   "execution_count": 12,
   "metadata": {},
   "outputs": [],
   "source": [
    "with open(f'gpt-outputs/cross-dataset-demonstrations/few-shot-{batch_name}-{system.replace(\"/\", \"-\").replace(\".\", \"-\")}.json', 'w') as f:\n",
    "    json.dump(out_cleaned, f, indent=4)"
   ]
  },
  {
   "cell_type": "markdown",
   "metadata": {},
   "source": [
    "### Compare Multiple Prompts"
   ]
  },
  {
   "cell_type": "code",
   "execution_count": 95,
   "metadata": {},
   "outputs": [],
   "source": [
    "prompts = {\n",
    "\"naive\": \"\"\"\n",
    "Sentence: %s\n",
    "Simplify the above sentence.\n",
    "\"\"\",\n",
    "\"a_lot\": \"\"\"\n",
    "Sentence: %s\n",
    "Simplify the above sentence a lot.\n",
    "\"\"\",\n",
    "\"content_a_lot\": \"\"\"\n",
    "Sentence: %s\n",
    "Simplify the content in the above sentence a lot.\n",
    "\"\"\",\n",
    "\"as_possible\": \"\"\"\n",
    "Sentence: %s\n",
    "Simplify the above sentence as much as possible.\n",
    "\"\"\",\n",
    "\"asset_instructions\": \"\"\"\n",
    "You are given a sentence that need to be rewritten so that they use simpler English. This means that you should reduce the number of difficult words or idioms, simplify complex phrasing, delete information that may not be relevant, and make the sentence more straight-forward. This could be accomplished by applying different transformations to the original sentences. In this task, we ask you to use paraphrasing, compression and/or sentence splitting.\n",
    "\n",
    "Sentence: %s\n",
    "Simplified sentence: \"\"\"\n",
    "}"
   ]
  },
  {
   "cell_type": "code",
   "execution_count": 96,
   "metadata": {},
   "outputs": [
    {
     "ename": "KeyError",
     "evalue": "2",
     "output_type": "error",
     "traceback": [
      "\u001b[1;31m---------------------------------------------------------------------------\u001b[0m",
      "\u001b[1;31mKeyError\u001b[0m                                  Traceback (most recent call last)",
      "\u001b[1;32m<ipython-input-96-f2fa5856f282>\u001b[0m in \u001b[0;36m<module>\u001b[1;34m\u001b[0m\n\u001b[0;32m      1\u001b[0m \u001b[1;31m# Example using the first prompt\u001b[0m\u001b[1;33m\u001b[0m\u001b[1;33m\u001b[0m\u001b[1;33m\u001b[0m\u001b[0m\n\u001b[0;32m      2\u001b[0m \u001b[0msentence\u001b[0m \u001b[1;33m=\u001b[0m \u001b[1;34m\"The proletarians have nothing to lose but their chains.\"\u001b[0m\u001b[1;33m\u001b[0m\u001b[1;33m\u001b[0m\u001b[0m\n\u001b[1;32m----> 3\u001b[1;33m \u001b[0mprint\u001b[0m\u001b[1;33m(\u001b[0m\u001b[0mprompts\u001b[0m\u001b[1;33m[\u001b[0m\u001b[1;36m2\u001b[0m\u001b[1;33m]\u001b[0m\u001b[1;33m[\u001b[0m\u001b[1;36m1\u001b[0m\u001b[1;33m:\u001b[0m\u001b[1;33m]\u001b[0m\u001b[1;33m.\u001b[0m\u001b[0mreplace\u001b[0m\u001b[1;33m(\u001b[0m\u001b[1;34m'%s'\u001b[0m\u001b[1;33m,\u001b[0m \u001b[0msentence\u001b[0m\u001b[1;33m)\u001b[0m\u001b[1;33m)\u001b[0m\u001b[1;33m\u001b[0m\u001b[1;33m\u001b[0m\u001b[0m\n\u001b[0m",
      "\u001b[1;31mKeyError\u001b[0m: 2"
     ]
    }
   ],
   "source": [
    "# Example using the first prompt\n",
    "sentence = \"The proletarians have nothing to lose but their chains.\"\n",
    "print(prompts[2][1:].replace('%s', sentence))"
   ]
  },
  {
   "cell_type": "code",
   "execution_count": null,
   "metadata": {},
   "outputs": [],
   "source": [
    "# sent = data[10]\n",
    "# prompt_id = 3\n",
    "# prompt = prompts[prompt_id][1:].replace('%s', sent)\n",
    "\n",
    "# Danger! This costs ~$0.3 for 20 sentences\n",
    "out = []\n",
    "for prompt in prompts:\n",
    "    prompt_out = []\n",
    "    for sent in data:\n",
    "        prompt_out.append(callGPT(prompt[1:].replace('%s', sent)))\n",
    "    out.append(prompt_out)"
   ]
  },
  {
   "cell_type": "code",
   "execution_count": null,
   "metadata": {},
   "outputs": [],
   "source": [
    "out_new = {}\n",
    "for i in range(len(out)):\n",
    "    prompt_out_new = []\n",
    "    for sent in out[i]:\n",
    "        if len(sent) > 0 and sent[0] == '\\n':\n",
    "            sent = sent[1:]\n",
    "        prompt_out_new.append(sent)\n",
    "    out_new[list(prompts.keys())[i]] = prompt_out_new"
   ]
  },
  {
   "cell_type": "code",
   "execution_count": null,
   "metadata": {},
   "outputs": [],
   "source": [
    "import json\n",
    "with open('gpt3-output.json', 'w') as f:\n",
    "    json.dump(out_new, f)"
   ]
  },
  {
   "cell_type": "markdown",
   "metadata": {},
   "source": [
    "## Split Sentences for Annotators"
   ]
  },
  {
   "cell_type": "code",
   "execution_count": null,
   "metadata": {},
   "outputs": [],
   "source": [
    "# The problem with this is that it may randomly assign the same sentences\n",
    "# to an annotator. This isn't easy to fix..."
   ]
  },
  {
   "cell_type": "code",
   "execution_count": null,
   "metadata": {},
   "outputs": [
    {
     "name": "stdout",
     "output_type": "stream",
     "text": [
      "[]\n",
      "[]\n",
      "[]\n",
      "[]\n",
      "[]\n",
      "[]\n"
     ]
    }
   ],
   "source": [
    "# Create split of data for annotators\n",
    "annotators = [\n",
    "    'anton', 'ayush', 'kelly', 'rachel', 'vinayak', 'vishnesh'\n",
    "]\n",
    "\n",
    "out = {}\n",
    "for ann in annotators:\n",
    "    out[ann] = []\n",
    "\n",
    "seen = {}\n",
    "tmp = copy.deepcopy(data)\n",
    "\n",
    "SENT_PER_ANN = int(len(data)*2 / len(annotators))\n",
    "if (len(data)*2) % len(annotators):\n",
    "    print(\"Sentences are non-divisible I think...\")\n",
    "\n",
    "ann_pointer = 0\n",
    "while len(tmp) != 0:\n",
    "    sent = random.choice(tmp)\n",
    "    if sent in out[annotators[ann_pointer]]:\n",
    "        print('seen before')\n",
    "\n",
    "    if sent not in seen:\n",
    "        seen[sent] = 0\n",
    "    seen[sent] += 1\n",
    "    out[annotators[ann_pointer]].append(sent)\n",
    "    ann_pointer += 1\n",
    "    if ann_pointer == len(annotators):\n",
    "        ann_pointer = 0\n",
    "    if seen[sent] == 2:\n",
    "        tmp.remove(sent)\n",
    "\n",
    "# Sanity check: annotator with duplicate sentences, should be all\n",
    "# empty\n",
    "import collections\n",
    "sents = [x for x in out.values()]\n",
    "for a in sents:\n",
    "    print([count for item, count in collections.Counter(a).items() if count > 1])"
   ]
  },
  {
   "cell_type": "code",
   "execution_count": null,
   "metadata": {},
   "outputs": [
    {
     "name": "stdout",
     "output_type": "stream",
     "text": [
      "anton 10\n",
      "ayush 10\n",
      "kelly 10\n",
      "rachel 10\n",
      "vinayak 10\n",
      "vishnesh 10\n"
     ]
    }
   ],
   "source": [
    "# Final sentence split per annotator\n",
    "for key in out.keys():\n",
    "    print(key, len(out[key]))"
   ]
  },
  {
   "cell_type": "code",
   "execution_count": null,
   "metadata": {},
   "outputs": [],
   "source": [
    "annotator = 'vishnesh'\n",
    "\n",
    "clip = \"\"\n",
    "for sent in out[annotator]:\n",
    "    clip += f'{sent}\\n\\n\\n\\n'\n",
    "\n",
    "import pyperclip\n",
    "pyperclip.copy(clip)"
   ]
  }
 ],
 "metadata": {
  "kernelspec": {
   "display_name": "Python 3.9.0 64-bit",
   "language": "python",
   "name": "python3"
  },
  "language_info": {
   "codemirror_mode": {
    "name": "ipython",
    "version": 3
   },
   "file_extension": ".py",
   "mimetype": "text/x-python",
   "name": "python",
   "nbconvert_exporter": "python",
   "pygments_lexer": "ipython3",
   "version": "3.9.0"
  },
  "orig_nbformat": 4,
  "vscode": {
   "interpreter": {
    "hash": "81794d4967e6c3204c66dcd87b604927b115b27c00565d3d43f05ba2f3a2cb0d"
   }
  }
 },
 "nbformat": 4,
 "nbformat_minor": 2
}
