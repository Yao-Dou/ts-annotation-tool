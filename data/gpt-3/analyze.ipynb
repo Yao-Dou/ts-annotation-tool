{
 "cells": [
  {
   "cell_type": "code",
   "execution_count": 2,
   "metadata": {},
   "outputs": [],
   "source": [
    "import json\n",
    "with open('gpt3-output.json') as f:\n",
    "    data = json.load(f)"
   ]
  },
  {
   "cell_type": "code",
   "execution_count": 29,
   "metadata": {},
   "outputs": [
    {
     "data": {
      "application/vnd.jupyter.widget-view+json": {
       "model_id": "c64cfa1f81a14becbfce3076c45c1b67",
       "version_major": 2,
       "version_minor": 0
      },
      "text/plain": [
       "interactive(children=(IntSlider(value=0, description='Sentence:', max=27), Output()), _dom_classes=('widget-in…"
      ]
     },
     "metadata": {},
     "output_type": "display_data"
    },
    {
     "data": {
      "text/plain": [
       "<function __main__.series(i)>"
      ]
     },
     "execution_count": 29,
     "metadata": {},
     "output_type": "execute_result"
    }
   ],
   "source": [
    "# Allows interactive plotting\n",
    "from __future__ import print_function\n",
    "from ipywidgets import interact, interactive, fixed, interact_manual\n",
    "import ipywidgets as widgets\n",
    "import matplotlib.pyplot as plt, random\n",
    "\n",
    "# This is my first time using iPy, so this is a bit clunky...\n",
    "def series(i):\n",
    "    for sent in [x[i] for x in data.values()]:\n",
    "        print(sent + \"\\n\")\n",
    "    return()\n",
    "\n",
    "interact(\n",
    "    series, \n",
    "    i = widgets.IntSlider(\n",
    "        value=0,\n",
    "        min=0,\n",
    "        max=len(data['naive'])-1,\n",
    "        step=1,\n",
    "        description='Sentence:',\n",
    "        orientation='horizontal'\n",
    "    )\n",
    ")\n",
    "\n",
    "# data=[data], \n",
    "# good_deletion=(-20,20,0.5), \n",
    "# good_trivial_insertion=(-20,20,0.5), \n",
    "# good_insertion=(-20,20,0.5), \n",
    "# good_paraphrase=(-20,20,0.5), \n",
    "# good_syntax=(-20,20,0.5), \n",
    "# grammar_error=(-20,20,0.5), \n",
    "# content_error=(-20,20,0.5),\n",
    "# size_calculation=['linear', 'log', 'square', 'none'],\n",
    "# average=[True, False],\n",
    "# user=['all'] + sorted(list(set([sent['user'] for sent in data]))),\n",
    "# display_distribution=[True, False]"
   ]
  },
  {
   "cell_type": "markdown",
   "metadata": {},
   "source": [
    "`text-davinci-002` vs `text-davinci-003`"
   ]
  },
  {
   "cell_type": "code",
   "execution_count": 20,
   "metadata": {},
   "outputs": [],
   "source": [
    "import json\n",
    "import csv\n",
    "import os"
   ]
  },
  {
   "cell_type": "code",
   "execution_count": 55,
   "metadata": {},
   "outputs": [],
   "source": [
    "def edit_dist(s1, s2):\n",
    "    if len(s1) > len(s2):\n",
    "        s1, s2 = s2, s1\n",
    "\n",
    "    distances = range(len(s1) + 1)\n",
    "    for i2, c2 in enumerate(s2):\n",
    "        distances_ = [i2+1]\n",
    "        for i1, c1 in enumerate(s1):\n",
    "            if c1 == c2:\n",
    "                distances_.append(distances[i1])\n",
    "            else:\n",
    "                distances_.append(1 + min((distances[i1], distances[i1 + 1], distances_[-1])))\n",
    "        distances = distances_\n",
    "    return distances[-1]\n",
    "\n",
    "def avg(lst, prec=2):\n",
    "    if len(lst) == 0:\n",
    "        return 0\n",
    "    return round(sum(lst) / len(lst), prec)"
   ]
  },
  {
   "cell_type": "code",
   "execution_count": 59,
   "metadata": {},
   "outputs": [],
   "source": [
    "def load_different_models(batch_num_range):\n",
    "    out = []\n",
    "    for batch_num in batch_num_range:\n",
    "        path = os.getcwd()\n",
    "        files = [f'{path}\\\\{x}' for x in os.listdir(path) if 'json' in x and 'few' in x]\n",
    "\n",
    "        d2 = [f for f in files if 'davinci-002' in f and f'batch-{batch_num}' in f]\n",
    "        d3 = [f for f in files if 'davinci-002' not in f and f'batch-{batch_num}' in f]\n",
    "\n",
    "        with open(d2[0]) as f:\n",
    "            data_d2 = json.load(f)\n",
    "\n",
    "        with open(d3[0]) as f:\n",
    "            data_d3 = json.load(f)\n",
    "\n",
    "        filename = f'batch-{batch_num}.csv'\n",
    "        # Load data\n",
    "        with open(filename, encoding='utf-8') as f:\n",
    "            reader = csv.reader(f)\n",
    "            next(reader)\n",
    "            data = [row for row in reader]\n",
    "        # Will only use the sentences\n",
    "        orig = [str(x[0]) for x in data]\n",
    "        \n",
    "        for i in range(len(orig)):\n",
    "            out.append({\n",
    "                'batch': batch_num,\n",
    "                'original': orig[i],\n",
    "                'text-davinci-002': data_d2[i],\n",
    "                'text-davinci-003': data_d3[i],\n",
    "                'models-edit-dist': edit_dist(data_d2[i], data_d3[i]),\n",
    "                'orig-edit-dist': edit_dist(orig[i], data_d3[i]),\n",
    "                'models-length-change': len(data_d2[i]) - len(data_d3[i]),\n",
    "            })\n",
    "\n",
    "    return out"
   ]
  },
  {
   "cell_type": "code",
   "execution_count": 60,
   "metadata": {},
   "outputs": [],
   "source": [
    "data = load_different_models([1, 2])"
   ]
  },
  {
   "cell_type": "code",
   "execution_count": 61,
   "metadata": {},
   "outputs": [
    {
     "data": {
      "text/plain": [
       "[{'batch': 1,\n",
       "  'original': \"The architecture of Winchester College is a diverse set of architectural styles, reflecting the multiple periods of building from the college's foundation in 1382, through additions in the medieval and Early Modern periods, to a major expansion of accommodation in the Victorian era and then further extensions at the turn of the 20th century and more recently.\",\n",
       "  'text-davinci-002': \"The architecture of Winchester College has a diverse set of styles that reflects the multiple periods of building from the college's foundation in 1382. This includes additions in the medieval and Early Modern periods, to a major expansion of accommodation in the Victorian era and then further extensions at the turn of the 20th century and more recently.\",\n",
       "  'text-davinci-003': 'Winchester College was built in several architectural styles over its long history, beginning in 1382. Additions and extensions were made in the medieval and Early Modern periods, and then more additions in the Victorian era and again in the 20th century.',\n",
       "  'models-edit-dist': 201,\n",
       "  'orig-edit-dist': 192,\n",
       "  'models-length-change': 101},\n",
       " {'batch': 1,\n",
       "  'original': 'Bone has published numerous books including Fantastic Fungi Community Cookbook (2021), which includes recipes by wild mushroom foragers, mycologists, and chefs specializing in mushroom-based dishes. ',\n",
       "  'text-davinci-002': 'Bone has published many books, including the Fantastic Fungi Community Cookbook (2021). It has recipes by people who collect wild mushrooms, experts on mushrooms, and cooks who make mushroom dishes.',\n",
       "  'text-davinci-003': 'Bone has written many books, like the Fantastic Fungi Community Cookbook (2021). It has recipes from foragers, scientists, and chefs who specialize in dishes with mushrooms.',\n",
       "  'models-edit-dist': 84,\n",
       "  'orig-edit-dist': 82,\n",
       "  'models-length-change': 25}]"
      ]
     },
     "execution_count": 61,
     "metadata": {},
     "output_type": "execute_result"
    }
   ],
   "source": [
    "# Some example sentences\n",
    "data[:2]"
   ]
  },
  {
   "cell_type": "code",
   "execution_count": 62,
   "metadata": {},
   "outputs": [
    {
     "data": {
      "text/plain": [
       "15.92"
      ]
     },
     "execution_count": 62,
     "metadata": {},
     "output_type": "execute_result"
    }
   ],
   "source": [
    "avg([x['models-length-change'] for x in data])"
   ]
  },
  {
   "cell_type": "code",
   "execution_count": 63,
   "metadata": {},
   "outputs": [
    {
     "data": {
      "text/plain": [
       "106.4"
      ]
     },
     "execution_count": 63,
     "metadata": {},
     "output_type": "execute_result"
    }
   ],
   "source": [
    "avg([x['models-edit-dist'] for x in data])"
   ]
  },
  {
   "cell_type": "code",
   "execution_count": 64,
   "metadata": {},
   "outputs": [
    {
     "data": {
      "text/plain": [
       "113.65"
      ]
     },
     "execution_count": 64,
     "metadata": {},
     "output_type": "execute_result"
    }
   ],
   "source": [
    "avg([x['orig-edit-dist'] for x in data])"
   ]
  }
 ],
 "metadata": {
  "kernelspec": {
   "display_name": "Python 3.9.0 64-bit",
   "language": "python",
   "name": "python3"
  },
  "language_info": {
   "codemirror_mode": {
    "name": "ipython",
    "version": 3
   },
   "file_extension": ".py",
   "mimetype": "text/x-python",
   "name": "python",
   "nbconvert_exporter": "python",
   "pygments_lexer": "ipython3",
   "version": "3.9.0"
  },
  "orig_nbformat": 4,
  "vscode": {
   "interpreter": {
    "hash": "81794d4967e6c3204c66dcd87b604927b115b27c00565d3d43f05ba2f3a2cb0d"
   }
  }
 },
 "nbformat": 4,
 "nbformat_minor": 2
}
