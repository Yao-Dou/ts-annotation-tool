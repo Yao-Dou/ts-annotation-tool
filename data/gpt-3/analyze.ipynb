{
 "cells": [
  {
   "cell_type": "code",
   "execution_count": 2,
   "metadata": {},
   "outputs": [],
   "source": [
    "import json\n",
    "with open('gpt3-output.json') as f:\n",
    "    data = json.load(f)"
   ]
  },
  {
   "cell_type": "code",
   "execution_count": 29,
   "metadata": {},
   "outputs": [
    {
     "data": {
      "application/vnd.jupyter.widget-view+json": {
       "model_id": "c64cfa1f81a14becbfce3076c45c1b67",
       "version_major": 2,
       "version_minor": 0
      },
      "text/plain": [
       "interactive(children=(IntSlider(value=0, description='Sentence:', max=27), Output()), _dom_classes=('widget-in…"
      ]
     },
     "metadata": {},
     "output_type": "display_data"
    },
    {
     "data": {
      "text/plain": [
       "<function __main__.series(i)>"
      ]
     },
     "execution_count": 29,
     "metadata": {},
     "output_type": "execute_result"
    }
   ],
   "source": [
    "# Allows interactive plotting\n",
    "from __future__ import print_function\n",
    "from ipywidgets import interact, interactive, fixed, interact_manual\n",
    "import ipywidgets as widgets\n",
    "import matplotlib.pyplot as plt, random\n",
    "\n",
    "# This is my first time using iPy, so this is a bit clunky...\n",
    "def series(i):\n",
    "    for sent in [x[i] for x in data.values()]:\n",
    "        print(sent + \"\\n\")\n",
    "    return()\n",
    "\n",
    "interact(\n",
    "    series, \n",
    "    i = widgets.IntSlider(\n",
    "        value=0,\n",
    "        min=0,\n",
    "        max=len(data['naive'])-1,\n",
    "        step=1,\n",
    "        description='Sentence:',\n",
    "        orientation='horizontal'\n",
    "    )\n",
    ")\n",
    "\n",
    "# data=[data], \n",
    "# good_deletion=(-20,20,0.5), \n",
    "# good_trivial_insertion=(-20,20,0.5), \n",
    "# good_insertion=(-20,20,0.5), \n",
    "# good_paraphrase=(-20,20,0.5), \n",
    "# good_syntax=(-20,20,0.5), \n",
    "# grammar_error=(-20,20,0.5), \n",
    "# content_error=(-20,20,0.5),\n",
    "# size_calculation=['linear', 'log', 'square', 'none'],\n",
    "# average=[True, False],\n",
    "# user=['all'] + sorted(list(set([sent['user'] for sent in data]))),\n",
    "# display_distribution=[True, False]"
   ]
  }
 ],
 "metadata": {
  "kernelspec": {
   "display_name": "Python 3.9.0 64-bit",
   "language": "python",
   "name": "python3"
  },
  "language_info": {
   "codemirror_mode": {
    "name": "ipython",
    "version": 3
   },
   "file_extension": ".py",
   "mimetype": "text/x-python",
   "name": "python",
   "nbconvert_exporter": "python",
   "pygments_lexer": "ipython3",
   "version": "3.9.0"
  },
  "orig_nbformat": 4,
  "vscode": {
   "interpreter": {
    "hash": "81794d4967e6c3204c66dcd87b604927b115b27c00565d3d43f05ba2f3a2cb0d"
   }
  }
 },
 "nbformat": 4,
 "nbformat_minor": 2
}
