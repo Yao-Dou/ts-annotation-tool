{
 "cells": [
  {
   "cell_type": "code",
   "execution_count": 1,
   "metadata": {},
   "outputs": [
    {
     "name": "stderr",
     "output_type": "stream",
     "text": [
      "DEBUG:matplotlib data path: C:\\Users\\heine\\AppData\\Roaming\\Python\\Python39\\site-packages\\matplotlib\\mpl-data\n",
      "DEBUG:CONFIGDIR=C:\\Users\\heine\\.matplotlib\n",
      "DEBUG:interactive is False\n",
      "DEBUG:platform is win32\n",
      "DEBUG:CACHEDIR=C:\\Users\\heine\\.matplotlib\n",
      "DEBUG:Using fontManager instance from C:\\Users\\heine\\.matplotlib\\fontlist-v330.json\n"
     ]
    }
   ],
   "source": [
    "import sys\n",
    "sys.path.append('../analysis')\n",
    "from utils.all import *"
   ]
  },
  {
   "cell_type": "code",
   "execution_count": 3,
   "metadata": {},
   "outputs": [
    {
     "name": "stderr",
     "output_type": "stream",
     "text": [
      "INFO:Loading files: ['inspection_annotated/batch_1_ayush.json', 'inspection_annotated/batch_1_rachel.json', 'inspection_annotated/batch_1_vinayak.json', 'inspection_annotated/batch_1_vishnesh.json', 'inspection_annotated/batch_2_ayush.json', 'inspection_annotated/batch_2_rachel.json', 'inspection_annotated/batch_2_vinayak.json', 'inspection_annotated/batch_2_vishnesh.json']\n",
      "\n",
      "INFO:Found users: {'rachel', 'ayush', 'vinayak', 'vishnesh'}\n",
      "\n"
     ]
    }
   ],
   "source": [
    "data = load_data('inspection_annotated')"
   ]
  },
  {
   "cell_type": "code",
   "execution_count": 12,
   "metadata": {},
   "outputs": [],
   "source": [
    "# Deletes any annotations in the adjudicated data\n",
    "del_anno = {\n",
    "    'deletion': {},\n",
    "    'substitution': {},\n",
    "    'insertion': {},\n",
    "    'split': {},\n",
    "    'reorder': {},\n",
    "    'structure': {}\n",
    "}\n",
    "\n",
    "for sent in data:\n",
    "    sent['annotations'] = del_anno\n",
    "\n",
    "with open(f\"adjudicated_span_selection.json\", \"w\") as f:\n",
    "   json.dump(data, f, indent=4)"
   ]
  },
  {
   "cell_type": "code",
   "execution_count": 26,
   "metadata": {},
   "outputs": [
    {
     "name": "stdout",
     "output_type": "stream",
     "text": [
      "rachel: 528\n",
      "ayush: 513\n",
      "vinayak: 530\n",
      "vishnesh: 529\n"
     ]
    }
   ],
   "source": [
    "# Assigns each sentence to all users who did not adjudicate the sentence\n",
    "users = list(set([x['user'] for x in data]))\n",
    "assignment = {}\n",
    "for user in users:\n",
    "    assignment[user] = []\n",
    "for sent in data:\n",
    "    for user in [u for u in users if u != sent['user']]:\n",
    "        assignment[user] += [sent]\n",
    "\n",
    "for u in users:\n",
    "    print(f'{u}: {len(assignment[u])}')"
   ]
  },
  {
   "cell_type": "code",
   "execution_count": 27,
   "metadata": {},
   "outputs": [],
   "source": [
    "# Saves rating task\n",
    "batch_size = 140\n",
    "\n",
    "for user, sents in assignment.items():\n",
    "    for i in range(math.ceil(len(sents) / batch_size)):\n",
    "        end_idx = (i+1)*batch_size\n",
    "        if end_idx >= len(sents):\n",
    "            end_idx = len(sents)\n",
    "\n",
    "        path = f\"inspection_rating/{user}\"\n",
    "        if not os.path.exists(path):\n",
    "            os.makedirs(path)\n",
    "\n",
    "        with open(f\"{path}/batch_{i+1}.json\", \"w\") as f:\n",
    "            json.dump(sents[i*batch_size:end_idx], f, indent=4)"
   ]
  }
 ],
 "metadata": {
  "kernelspec": {
   "display_name": "Python 3",
   "language": "python",
   "name": "python3"
  },
  "language_info": {
   "codemirror_mode": {
    "name": "ipython",
    "version": 3
   },
   "file_extension": ".py",
   "mimetype": "text/x-python",
   "name": "python",
   "nbconvert_exporter": "python",
   "pygments_lexer": "ipython3",
   "version": "3.9.0"
  },
  "orig_nbformat": 4,
  "vscode": {
   "interpreter": {
    "hash": "81794d4967e6c3204c66dcd87b604927b115b27c00565d3d43f05ba2f3a2cb0d"
   }
  }
 },
 "nbformat": 4,
 "nbformat_minor": 2
}
