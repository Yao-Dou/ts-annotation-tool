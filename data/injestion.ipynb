{
 "cells": [
  {
   "cell_type": "code",
   "execution_count": 23,
   "metadata": {},
   "outputs": [],
   "source": [
    "import sys\n",
    "sys.path.append('../analysis')\n",
    "from utils.all import *"
   ]
  },
  {
   "cell_type": "code",
   "execution_count": 24,
   "metadata": {},
   "outputs": [],
   "source": [
    "# Export SimpEval_22 and Simpeval_Ext\n",
    "data = load_data('annotated', batch_num=[5, 6, 7, 8, 9, 10, 11], preprocess=False)\n",
    "\n",
    "for sent in data:\n",
    "    sent['system'] = sent['system'] \\\n",
    "        .replace('new-wiki-2', 'simpeval-22') \\\n",
    "        .replace('new-wiki-1', 'simpeval-22') \\\n",
    "        .replace(' Writing', '-written') \\\n",
    "        .replace('Human ', 'Human-') \\\n",
    "        .replace('new-wiki-3', 'simpeval-ext')\n",
    "\n",
    "simpeval_22, simpeval_ext = [], []\n",
    "for sent in data:\n",
    "    if 'simpeval-22' in sent['system']:\n",
    "        simpeval_22 += [sent]\n",
    "    elif 'simpeval-ext' in sent['system']:\n",
    "        simpeval_ext += [sent]"
   ]
  },
  {
   "cell_type": "code",
   "execution_count": 25,
   "metadata": {},
   "outputs": [
    {
     "name": "stdout",
     "output_type": "stream",
     "text": [
      "180: simpeval-22/T5-3B\n",
      "180: simpeval-22/Human-1-written\n",
      "180: simpeval-22/Human-2-written\n",
      "180: simpeval-22/Muss\n",
      "180: simpeval-22/GPT-3-few-shot\n",
      "180: simpeval-22/T5-11B\n",
      "180: simpeval-22/GPT-3-zero-shot\n",
      "\n",
      "120: simpeval-ext/GPT-3-few-shot\n",
      "120: simpeval-ext/T5-3B\n",
      "120: simpeval-ext/GPT-3-zero-shot\n",
      "120: simpeval-ext/T5-11B\n",
      "120: simpeval-ext/Human-1-written\n",
      "120: simpeval-ext/Muss\n",
      "120: simpeval-ext/Human-2-written\n"
     ]
    }
   ],
   "source": [
    "# Sanity check: Count the # annotations per system\n",
    "def number_annotations_per_system(data):\n",
    "    systems = set([s['system'] for s in data])\n",
    "    for system in systems:\n",
    "        print(f\"{len([s for s in data if s['system'] == system])}: {system}\")\n",
    "number_annotations_per_system(simpeval_22)\n",
    "print('')\n",
    "number_annotations_per_system(simpeval_ext)"
   ]
  },
  {
   "cell_type": "code",
   "execution_count": 26,
   "metadata": {},
   "outputs": [],
   "source": [
    "with open(f\"salsa/simpeval_22.json\", \"w\") as f:\n",
    "   json.dump(simpeval_22, f, indent=4)\n",
    "\n",
    "with open(f\"salsa/simpeval_ext.json\", \"w\") as f:\n",
    "   json.dump(simpeval_ext, f, indent=4)"
   ]
  },
  {
   "cell_type": "code",
   "execution_count": null,
   "metadata": {},
   "outputs": [
    {
     "name": "stdout",
     "output_type": "stream",
     "text": [
      "Found users: {'ayush', 'kelly', 'vinayak', 'vishnesh', 'rachel', 'anton'}\n",
      "\n",
      "74: turkcorpus/con_simplification.txt\n",
      "74: turkcorpus/turk_corpus_random.txt\n",
      "74: turkcorpus/asset.test.simp\n",
      "74: turkcorpus/T5.txt\n",
      "74: turkcorpus/asset.test.simp.second\n"
     ]
    }
   ],
   "source": [
    "# Export the preliminary annotations\n",
    "preliminary = load_data('annotated', batch_num=[1, 2, 3, 4], preprocess=False)\n",
    "\n",
    "for sent in preliminary:\n",
    "    sent['system'] = sent['system'] \\\n",
    "        .replace('new_systems', 'turkcorpus') \\\n",
    "        .replace('new_systems', 'turkcorpus') \\\n",
    "        .replace('systems', 'turkcorpus')\n",
    "\n",
    "number_annotations_per_system(preliminary)"
   ]
  },
  {
   "cell_type": "code",
   "execution_count": null,
   "metadata": {},
   "outputs": [],
   "source": [
    "with open(f\"salsa/turkcorpus_preliminary.json\", \"w\") as f:\n",
    "   json.dump(preliminary, f, indent=4)"
   ]
  },
  {
   "attachments": {},
   "cell_type": "markdown",
   "metadata": {},
   "source": [
    "### Prepare Ajudication"
   ]
  },
  {
   "cell_type": "code",
   "execution_count": 39,
   "metadata": {},
   "outputs": [],
   "source": [
    "# Given a user, for each sentence in interwoven,\n",
    "# have the swap the sentence if their annotation in in\n",
    "# the first poistion\n",
    "def interweave(data, user=None):\n",
    "    interwoven = {}\n",
    "    for sentence_id in set([s['sentence_id'] for s in data]):\n",
    "        sents = [s for s in data if s['sentence_id'] == sentence_id]\n",
    "\n",
    "        # Order user's annotations to be first\n",
    "        if user is not None:\n",
    "            if user not in [s['user'] for s in sents]:\n",
    "                continue\n",
    "            sents = [s for s in sents if s['user'] == user] + [s for s in sents if s['user'] != user]\n",
    "\n",
    "        for s in sents:\n",
    "            if 'annotation' in s.keys():\n",
    "                del s['annotation']\n",
    "            if 'annotations' in s.keys():\n",
    "                del s['annotations']\n",
    "\n",
    "        if len(sents) == 1:\n",
    "            sents += [[], []]\n",
    "        elif len(sents) == 2:\n",
    "            sents += [[]]\n",
    "        \n",
    "        for i, s in enumerate(sents):\n",
    "            if i not in interwoven:\n",
    "                interwoven[i] = []\n",
    "            interwoven[i] += [s]\n",
    "    return interwoven\n",
    "\n",
    "def prepare_adjudiction(data, user=None, batch_size=100):\n",
    "    interwoven = interweave(data, user=user)\n",
    "\n",
    "    path = f\"inspection\"\n",
    "    if user is not None:\n",
    "        path += f\"/{user}\" \n",
    "\n",
    "    for i in interwoven.keys():\n",
    "        if batch_size is not None and user is not None:\n",
    "            for j in range(math.ceil(len(interwoven[i]) / batch_size)):\n",
    "                end_idx = (j+1)*batch_size\n",
    "                if end_idx >= len(interwoven[i]):\n",
    "                    end_idx = len(interwoven[i])\n",
    "\n",
    "                path = f\"inspection/{user}/batch_{j}\"\n",
    "                if not os.path.exists(path):\n",
    "                    os.makedirs(path)\n",
    "                with open(f'{path}/set_{i}.json', \"w\") as f:\n",
    "                    json.dump(interwoven[i][j*batch_size:end_idx], f, indent=4)\n",
    "        else:\n",
    "            if not os.path.exists(path):\n",
    "                os.makedirs(path)\n",
    "            with open(f'{path}/set_{i}.json', \"w\") as f:\n",
    "                json.dump(interwoven[i], f, indent=4)"
   ]
  },
  {
   "cell_type": "code",
   "execution_count": 40,
   "metadata": {},
   "outputs": [],
   "source": [
    "# All annotators annotated ~350 sentences\n",
    "# Assign one of those sentences to each annotator - around 117 sentences per annotator. Split into 2 batches\n",
    "data = simpeval_22 + simpeval_ext\n",
    "\n",
    "interwoven = {}\n",
    "for user in set([s['user'] for s in data]):\n",
    "    interwoven[user] = interweave(data, user=user)\n",
    "\n",
    "# TODO : Split algorithm"
   ]
  },
  {
   "cell_type": "code",
   "execution_count": 41,
   "metadata": {},
   "outputs": [],
   "source": [
    "# Separate each of the three annotations of each sentence\n",
    "data = simpeval_22 + simpeval_ext\n",
    "prepare_adjudiction(data)\n",
    "\n",
    "for user in set([s['user'] for s in data]):\n",
    "    prepare_adjudiction(data, user)"
   ]
  }
 ],
 "metadata": {
  "kernelspec": {
   "display_name": "Python 3",
   "language": "python",
   "name": "python3"
  },
  "language_info": {
   "codemirror_mode": {
    "name": "ipython",
    "version": 3
   },
   "file_extension": ".py",
   "mimetype": "text/x-python",
   "name": "python",
   "nbconvert_exporter": "python",
   "pygments_lexer": "ipython3",
   "version": "3.9.0"
  },
  "orig_nbformat": 4,
  "vscode": {
   "interpreter": {
    "hash": "81794d4967e6c3204c66dcd87b604927b115b27c00565d3d43f05ba2f3a2cb0d"
   }
  }
 },
 "nbformat": 4,
 "nbformat_minor": 2
}
