{
 "cells": [
  {
   "cell_type": "code",
   "execution_count": 1,
   "metadata": {},
   "outputs": [
    {
     "name": "stdout",
     "output_type": "stream",
     "text": [
      "Found users: {'vishnesh', 'rachel', 'kelly', 'anton', 'ayush', 'vinayak'}\n",
      "\n"
     ]
    }
   ],
   "source": [
    "from utils.all import *\n",
    "data = load_data('../annotated', batch_num=[5, 6, 7, 8, 9, 10, 11], preprocess=False)\n",
    "\n",
    "for sent in data:\n",
    "    sent['system'] = sent['system'] \\\n",
    "        .replace('new-wiki-2', 'simpeval-22') \\\n",
    "        .replace('new-wiki-1', 'simpeval-22') \\\n",
    "        .replace(' Writing', '-written') \\\n",
    "        .replace('Human ', 'Human-') \\\n",
    "        .replace('new-wiki-3', 'simpeval-ext')\n",
    "\n",
    "simpeval_22, simpeval_ext = [], []\n",
    "for sent in data:\n",
    "    if 'simpeval-22' in sent['system']:\n",
    "        simpeval_22 += [sent]\n",
    "    elif 'simpeval-ext' in sent['system']:\n",
    "        simpeval_ext += [sent]"
   ]
  },
  {
   "cell_type": "code",
   "execution_count": 2,
   "metadata": {},
   "outputs": [
    {
     "name": "stdout",
     "output_type": "stream",
     "text": [
      "180: simpeval-22/Muss\n",
      "180: simpeval-22/T5-3B\n",
      "180: simpeval-22/Human-1-written\n",
      "180: simpeval-22/GPT-3-zero-shot\n",
      "180: simpeval-22/Human-2-written\n",
      "180: simpeval-22/T5-11B\n",
      "180: simpeval-22/GPT-3-few-shot\n",
      "\n",
      "120: simpeval-ext/Human-1-written\n",
      "120: simpeval-ext/GPT-3-zero-shot\n",
      "120: simpeval-ext/T5-11B\n",
      "120: simpeval-ext/GPT-3-few-shot\n",
      "120: simpeval-ext/Human-2-written\n",
      "120: simpeval-ext/Muss\n",
      "120: simpeval-ext/T5-3B\n"
     ]
    }
   ],
   "source": [
    "def number_annotations_per_system(data):\n",
    "    systems = set([s['system'] for s in data])\n",
    "    for system in systems:\n",
    "        print(f\"{len([s for s in data if s['system'] == system])}: {system}\")\n",
    "number_annotations_per_system(simpeval_22)\n",
    "print('')\n",
    "number_annotations_per_system(simpeval_ext)"
   ]
  },
  {
   "cell_type": "code",
   "execution_count": 3,
   "metadata": {},
   "outputs": [],
   "source": [
    "with open(f\"../salsa/simpeval_22.json\", \"w\") as f:\n",
    "   json.dump(simpeval_22, f, indent=4)\n",
    "\n",
    "with open(f\"../salsa/simpeval_ext.json\", \"w\") as f:\n",
    "   json.dump(simpeval_ext, f, indent=4)"
   ]
  },
  {
   "cell_type": "code",
   "execution_count": 4,
   "metadata": {},
   "outputs": [
    {
     "name": "stdout",
     "output_type": "stream",
     "text": [
      "Found users: {'ayush', 'vishnesh', 'rachel', 'anton', 'kelly', 'vinayak'}\n",
      "\n"
     ]
    }
   ],
   "source": [
    "data = load_data('../annotated', batch_num=[1, 2, 3, 4], preprocess=False)\n",
    "\n",
    "for sent in data:\n",
    "    sent['system'] = sent['system'] \\\n",
    "        .replace('new_systems', 'turkcorpus') \\\n",
    "        .replace('new_systems', 'turkcorpus') \\\n",
    "        .replace('systems', 'turkcorpus')\n",
    "\n",
    "preliminary = data"
   ]
  },
  {
   "cell_type": "code",
   "execution_count": 5,
   "metadata": {},
   "outputs": [
    {
     "name": "stdout",
     "output_type": "stream",
     "text": [
      "74: turkcorpus/turk_corpus_random.txt\n",
      "74: turkcorpus/asset.test.simp.second\n",
      "74: turkcorpus/T5.txt\n",
      "74: turkcorpus/asset.test.simp\n",
      "74: turkcorpus/con_simplification.txt\n"
     ]
    }
   ],
   "source": [
    "number_annotations_per_system(preliminary)"
   ]
  },
  {
   "cell_type": "code",
   "execution_count": 6,
   "metadata": {},
   "outputs": [],
   "source": [
    "with open(f\"../salsa/turkcorpus_preliminary.json\", \"w\") as f:\n",
    "   json.dump(preliminary, f, indent=4)"
   ]
  }
 ],
 "metadata": {
  "kernelspec": {
   "display_name": "Python 3",
   "language": "python",
   "name": "python3"
  },
  "language_info": {
   "codemirror_mode": {
    "name": "ipython",
    "version": 3
   },
   "file_extension": ".py",
   "mimetype": "text/x-python",
   "name": "python",
   "nbconvert_exporter": "python",
   "pygments_lexer": "ipython3",
   "version": "3.9.0"
  },
  "orig_nbformat": 4,
  "vscode": {
   "interpreter": {
    "hash": "81794d4967e6c3204c66dcd87b604927b115b27c00565d3d43f05ba2f3a2cb0d"
   }
  }
 },
 "nbformat": 4,
 "nbformat_minor": 2
}
