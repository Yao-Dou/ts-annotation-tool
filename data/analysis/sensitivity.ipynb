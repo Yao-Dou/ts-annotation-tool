{
 "cells": [
  {
   "cell_type": "code",
   "execution_count": 1,
   "metadata": {},
   "outputs": [
    {
     "name": "stdout",
     "output_type": "stream",
     "text": [
      "Loading files: ['../annotated/batch_1_anton.json', '../annotated/batch_1_ayush.json', '../annotated/batch_1_kelly.json', '../annotated/batch_2_vinayak.json', '../annotated/batch_2_vishnesh.json']\n",
      "\n",
      "Found users: {'kelly', 'ayush', 'anton', 'vinayak', 'vishnesh'}\n",
      "\n"
     ]
    }
   ],
   "source": [
    "from utils.all import *\n",
    "from scipy.stats import kendalltau\n",
    "from evaluate import load\n",
    "\n",
    "sari = load(\"sari\")\n",
    "data = load_data('../annotated', batch_num=[1, 2], preprocess=True)"
   ]
  },
  {
   "cell_type": "code",
   "execution_count": 9,
   "metadata": {},
   "outputs": [],
   "source": [
    "# Gets parameters for only a certain family of edits\n",
    "def get_params(op):\n",
    "    curr_params = default_params.copy()\n",
    "    params_consider = []\n",
    "    # Consider only:\n",
    "    if (op == 'content'):\n",
    "        # Content edits\n",
    "        params_consider = [\n",
    "            'good_deletion',\n",
    "            'good_insertion',\n",
    "            'content_error'\n",
    "        ]\n",
    "    elif (op == 'syntax'):\n",
    "        # Syntax edits\n",
    "        params_consider = [\n",
    "            'good_syntax'\n",
    "        ]\n",
    "    elif (op == 'lexical'):\n",
    "        # Lexical edits\n",
    "        params_consider = [\n",
    "            'good_paraphrase',\n",
    "            'good_trivial_insertion',\n",
    "            'grammar_error'\n",
    "        ]\n",
    "\n",
    "        # Content quality edits\n",
    "        # Content error edits\n",
    "        # Syntax quality edits\n",
    "        # Syntax error edits\n",
    "        # Lexical quality edits\n",
    "        # Lexical error edits\n",
    "\n",
    "    elif (op == 'quality'):\n",
    "        # Only quality edits\n",
    "        params_consider = [\n",
    "            'good_insertion',\n",
    "            'good_deletion',\n",
    "            'good_paraphrase',\n",
    "            'good_trivial_insertion', \n",
    "            'good_syntax'\n",
    "        ]\n",
    "    elif (op == 'error'):\n",
    "        # Only error edits\n",
    "        params_consider = [\n",
    "            'content_error',\n",
    "            'grammar_error'\n",
    "        ]\n",
    "\n",
    "    params_consider += ['size_calculation']\n",
    "\n",
    "    for param in curr_params.keys():\n",
    "        if param not in params_consider:\n",
    "            curr_params[param] = 0\n",
    "    \n",
    "    return curr_params"
   ]
  },
  {
   "cell_type": "code",
   "execution_count": 8,
   "metadata": {},
   "outputs": [
    {
     "data": {
      "text/plain": [
       "[0.0,\n",
       " 7.981956423567116,\n",
       " 1.995489105891779,\n",
       " 5.272384733203716,\n",
       " 11.258852050879053]"
      ]
     },
     "execution_count": 8,
     "metadata": {},
     "output_type": "execute_result"
    }
   ],
   "source": [
    "# Get 5 sentence scores considering only content edits\n",
    "[x['score'] for x in calculate_sentence_scores(data, get_params('content'))][:5]"
   ]
  },
  {
   "cell_type": "code",
   "execution_count": 9,
   "metadata": {},
   "outputs": [],
   "source": [
    "# Get sentences where at least 1 annotator identified an error\n",
    "error = Error.CONTRADICTION\n",
    "out_sents = set()\n",
    "for sent in data:\n",
    "    for ann in sent['processed_annotations']:\n",
    "        if ann['error_type'] == error:\n",
    "            out_sents.add((sent['original'], sent['system']))\n",
    "out = []\n",
    "for orig in out_sents:\n",
    "    out.append([x for x in data if x['original'] == orig[0] and x['system'] == orig[1]])"
   ]
  },
  {
   "cell_type": "code",
   "execution_count": null,
   "metadata": {},
   "outputs": [],
   "source": [
    "# Get all sentences where at least 1 annotator identified an error of that type\n",
    "\n",
    "# Content Errors\t\n",
    "# \tCoreference\n",
    "# \tInformation Rewrite\n",
    "# \tRepeititon\n",
    "# \tContradiction\n",
    "# \tHallucination\n",
    "# \tIrrelevant\n",
    "# Syntax Errors\t\n",
    "# \tSyntax Error\n",
    "# Lexical Errors\t\n",
    "# \tUnnecessary Insertion\n",
    "# \tComplex Wording\n",
    "# \tGrammar Error"
   ]
  },
  {
   "cell_type": "code",
   "execution_count": 25,
   "metadata": {},
   "outputs": [
    {
     "data": {
      "text/plain": [
       "{'original': 'In return, Rollo swore fealty to Charles, converted to Christianity, and undertook to defend the northern region of France against the incursions of other Viking groups.',\n",
       " 'simplified': 'In return, Rollo swore loyalty to Charles and converted to Christianity. || He also said he would defend the northern part of France against other Viking groups.',\n",
       " 'system': 'systems/T5.txt',\n",
       " 'sari': 55.226606843090146,\n",
       " 'simpeval': 1.28,\n",
       " 'our_score': 3.721647211492401,\n",
       " 'our_score_content': 2.1161909551258598,\n",
       " 'our_score_syntax': 0.0,\n",
       " 'our_score_lexical': 1.605456256366541,\n",
       " 'our_score_quality': 3.721647211492401,\n",
       " 'our_score_error': 0.0}"
      ]
     },
     "execution_count": 25,
     "metadata": {},
     "output_type": "execute_result"
    }
   ],
   "source": [
    "# Calculate the SARI score for all unique sentences\n",
    "# For each sentence, we have 5 generations and 3 annotations per generation\n",
    "# Of the 5 generations, 2 are ASSET human references, 1 is TurkCorpus human reference\n",
    "\n",
    "scores = []\n",
    "for orig in set([x['original'] for x in data]):\n",
    "    sents = [x for x in data if x['original'] == orig]\n",
    "\n",
    "    asset = [x for x in sents if 'asset' in x['system']]\n",
    "    t5 = [x for x in sents if 'T5' in x['system']][0]\n",
    "\n",
    "    # Take the SARI score for T5, our best generation with the 2 ASSET human references\n",
    "    references = [x['simplified'] for x in asset]\n",
    "    prediction = t5['simplified']\n",
    "    \n",
    "    simpeval_score = t5['simpeval_scores']\n",
    "    if simpeval_score is None:\n",
    "        continue\n",
    "    simpeval_score = avg(simpeval_score)\n",
    "\n",
    "    our_score = t5['score']\n",
    "\n",
    "    score = {\n",
    "        'original': orig,\n",
    "        'simplified': prediction,\n",
    "        'system': t5['system'],\n",
    "        'sari': sari_score,\n",
    "        'simpeval': simpeval_score,\n",
    "        'our_score': our_score\n",
    "    }\n",
    "\n",
    "    # The next goal is to calculate a bunch of variations on our score considering only\n",
    "    # certain dimensions of the metric\n",
    "    for condition in ['content', 'syntax', 'lexical', 'quality', 'error']:\n",
    "        score[f'our_score_{condition}'] = calculate_sentence_score(t5, get_params(condition))\n",
    "\n",
    "    # Then we can calculate more complex automatic metrics like BERTScore, COMET\n",
    "\n",
    "    sari_score = sari.compute(sources=[orig], predictions=[prediction], references=[references])['sari']\n",
    "\n",
    "    scores.append(score)\n",
    "\n",
    "scores[0]"
   ]
  },
  {
   "cell_type": "code",
   "execution_count": 34,
   "metadata": {},
   "outputs": [
    {
     "name": "stdout",
     "output_type": "stream",
     "text": [
      "sari\n",
      "-0.0118\n",
      "0.0448\n",
      "-0.1488\n",
      "0.1579\n",
      "0.0818\n",
      "simpeval\n",
      "0.0888\n",
      "-0.0577\n",
      "-0.0358\n",
      "0.176\n",
      "-0.1913\n"
     ]
    }
   ],
   "source": [
    "for system in ['sari', 'simpeval']:\n",
    "    print(system)\n",
    "    for condition in ['content', 'syntax', 'lexical', 'quality', 'error']:\n",
    "        corr = kendalltau([s[f'our_score_{condition}'] for s in scores], [s[system] for s in scores]).correlation\n",
    "        print(round(corr, 4))"
   ]
  },
  {
   "cell_type": "code",
   "execution_count": 35,
   "metadata": {},
   "outputs": [
    {
     "data": {
      "text/plain": [
       "19"
      ]
     },
     "execution_count": 35,
     "metadata": {},
     "output_type": "execute_result"
    }
   ],
   "source": [
    "len(scores)"
   ]
  },
  {
   "cell_type": "code",
   "execution_count": null,
   "metadata": {},
   "outputs": [],
   "source": [
    "# The problem with BERTScore is my verion of PyTorch is\n",
    "# incompatible with their library, I'll have to use a virtual\n",
    "# environment to get it to work.\n",
    "\n",
    "# from bert_score import score\n",
    "\n",
    "# with open(\"bert_score/example/hyps.txt\") as f:\n",
    "#     cands = [line.strip() for line in f]\n",
    "\n",
    "# with open(\"bert_score/example/refs.txt\") as f:\n",
    "#     refs = [line.strip() for line in f]\n",
    "\n",
    "# P, R, F1 = score(cands, refs, lang=\"en\", verbose=True)\n",
    "\n",
    "# print(f\"System level F1 score: {F1.mean():.3f}\")"
   ]
  },
  {
   "cell_type": "code",
   "execution_count": null,
   "metadata": {},
   "outputs": [],
   "source": [
    "# import comet\n",
    "# They have a python library but it doesn't work great...\n",
    "\n",
    "# !echo -e \"Dem Feuer konnte Einhalt geboten werden\\nSchulen und Kindergärten wurden eröffnet.\" >> comet/src.de\n",
    "# !echo -e \"The fire could be stopped\\nSchools and kindergartens were open\" >> comet/hyp1.en\n",
    "# !echo -e \"The fire could have been stopped\\nSchools and pre-school were open\" >> comet/hyp2.en\n",
    "# !echo -e \"They were able to control the fire.\\nSchools and kindergartens opened\" >> comet/ref.en\n",
    "\n",
    "# !comet-score -s comet/src.de -t comet/hyp1.en -r comet/ref.en"
   ]
  },
  {
   "cell_type": "code",
   "execution_count": null,
   "metadata": {},
   "outputs": [],
   "source": [
    "# One of the COMET scores worth looking at:\n",
    "# wmt21-comet-mqm: This model was pre-trained on Direct Assessments from WMT15 to WMT20 and then fine-tuned on MQM z-scores from Freitag et al, 2021 (MQM). This model was one of the best performing metrics that year [Freitag et al. 2021 (WMT21)]."
   ]
  },
  {
   "cell_type": "markdown",
   "metadata": {},
   "source": [
    "### Edit Reversing"
   ]
  },
  {
   "cell_type": "code",
   "execution_count": null,
   "metadata": {},
   "outputs": [
    {
     "data": {
      "image/png": "[encoded data removed]",
      "text/plain": [
       "<Figure size 540x288 with 2 Axes>"
      ]
     },
     "metadata": {
      "needs_background": "light"
     },
     "output_type": "display_data"
    }
   ],
   "source": [
    "from graphs import *\n",
    "\n",
    "id_ = 40\n",
    "sents = [sent for sent in data if sent['id'] == id_]\n",
    "draw_agreement(sents)"
   ]
  },
  {
   "cell_type": "code",
   "execution_count": null,
   "metadata": {},
   "outputs": [],
   "source": [
    "# Problems with reversing edits:\n",
    "    # Overlapping edits (of different types)\n",
    "    # Deletions have no mapping to the original sentence\n",
    "    # Re-orders have no mapping to their original location"
   ]
  },
  {
   "cell_type": "code",
   "execution_count": null,
   "metadata": {},
   "outputs": [],
   "source": [
    "# My approach\n",
    "    # use generate_token_dict(s) to get a list of token spans for the input/output\n",
    "    # iterate through edits (in some predetermined priority order) to list the operations we perform on each word\n",
    "    # perform those operations to collapse the sentence"
   ]
  },
  {
   "cell_type": "code",
   "execution_count": null,
   "metadata": {},
   "outputs": [],
   "source": [
    "s = sents[0]\n",
    "orig = s['original']\n",
    "simp = s['simplified']"
   ]
  },
  {
   "cell_type": "code",
   "execution_count": null,
   "metadata": {},
   "outputs": [
    {
     "data": {
      "text/plain": [
       "{(0, 2): {},\n",
       " (3, 10): {},\n",
       " (11, 16): {},\n",
       " (17, 22): {},\n",
       " (23, 29): {},\n",
       " (30, 32): {},\n",
       " (33, 41): {},\n",
       " (42, 51): {},\n",
       " (52, 54): {},\n",
       " (55, 68): {},\n",
       " (69, 72): {},\n",
       " (73, 82): {},\n",
       " (83, 85): {},\n",
       " (86, 92): {},\n",
       " (93, 96): {},\n",
       " (97, 105): {},\n",
       " (106, 112): {},\n",
       " (113, 115): {},\n",
       " (116, 122): {},\n",
       " (123, 130): {},\n",
       " (131, 134): {},\n",
       " (135, 145): {},\n",
       " (146, 148): {},\n",
       " (149, 154): {},\n",
       " (155, 161): {},\n",
       " (162, 169): {}}"
      ]
     },
     "metadata": {},
     "output_type": "display_data"
    }
   ],
   "source": [
    "generate_token_dict(orig)"
   ]
  }
 ],
 "metadata": {
  "kernelspec": {
   "display_name": "Python 3.9.0 64-bit",
   "language": "python",
   "name": "python3"
  },
  "language_info": {
   "codemirror_mode": {
    "name": "ipython",
    "version": 3
   },
   "file_extension": ".py",
   "mimetype": "text/x-python",
   "name": "python",
   "nbconvert_exporter": "python",
   "pygments_lexer": "ipython3",
   "version": "3.9.0"
  },
  "orig_nbformat": 4,
  "vscode": {
   "interpreter": {
    "hash": "81794d4967e6c3204c66dcd87b604927b115b27c00565d3d43f05ba2f3a2cb0d"
   }
  }
 },
 "nbformat": 4,
 "nbformat_minor": 2
}
