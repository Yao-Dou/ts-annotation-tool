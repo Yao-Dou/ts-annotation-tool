{
 "cells": [
  {
   "cell_type": "code",
   "execution_count": 2,
   "metadata": {},
   "outputs": [
    {
     "name": "stdout",
     "output_type": "stream",
     "text": [
      "Loading files: ['../annotated/batch_5_anton.json', '../annotated/batch_5_ayush.json', '../annotated/batch_5_kelly.json', '../annotated/batch_5_rachel.json', '../annotated/batch_5_vinayak.json', '../annotated/batch_5_vishnesh.json', '../annotated/batch_6_anton.json', '../annotated/batch_6_ayush.json', '../annotated/batch_6_kelly.json', '../annotated/batch_6_vinayak.json', '../annotated/batch_6_vishnesh.json']\n",
      "\n",
      "Found users: {'anton', 'ayush', 'vishnesh', 'rachel', 'vinayak', 'kelly'}\n",
      "\n",
      "anton - Batch 5, HIT 38 (ID 37) has 2 deletion edits but 1 annotations. Likely a missing annotation. Skipping edit type...\n",
      "vinayak - Batch 6, HIT 16 (ID 45) has 1 insertion edits but -1 annotations. Likely a missing annotation. Skipping edit type...\n",
      "rachel - Batch 5, HIT 21 (ID 65) has 4 deletion edits but 3 annotations. Likely a missing annotation. Skipping edit type...\n",
      "rachel - Batch 5, HIT 21 (ID 65) has 4 insertion edits but 3 annotations. Likely a missing annotation. Skipping edit type...\n",
      "rachel - Batch 5, HIT 23 (ID 67) has 1 reorder edits but -1 annotations. Likely a missing annotation. Skipping edit type...\n",
      "vinayak - Batch 5, HIT 25 (ID 92) has 5 deletion edits but 3 annotations. Likely a missing annotation. Skipping edit type...\n",
      "vinayak - Batch 5, HIT 25 (ID 92) has 2 insertion edits but 1 annotations. Likely a missing annotation. Skipping edit type...\n",
      "vinayak - Batch 5, HIT 17 (ID 100) has 3 deletion edits but 2 annotations. Likely a missing annotation. Skipping edit type...\n",
      "ayush - Batch 6, HIT 3 (ID 136) has 1 structure edits but -1 annotations. Likely a missing annotation. Skipping edit type...\n",
      "When processing sentence: vinayak - Batch 6, HIT 2 (ID 1). Caught error on: Could not process edit: {'type': 'substitution', 'id': 4, 'original_span': [(164, 171)], 'simplified_span': [(166, 175)], 'annotation': None}. Skipping...\n",
      "When processing sentence: vinayak - Batch 6, HIT 2 (ID 1). Caught error on: Could not process edit: {'type': 'substitution', 'id': 5, 'original_span': [(224, 226)], 'simplified_span': [(281, 284)], 'annotation': None}. Skipping...\n",
      "Couldn't process positive rating for substitution: ['negative', '', 'minor', '']. Assuming 'somewhat'...\n",
      "When processing sentence: vinayak - Batch 6, HIT 27 (ID 26). Caught error on: Could not process edit: {'type': 'insertion', 'id': 1, 'original_span': None, 'simplified_span': [(49, 54)], 'annotation': None}. Skipping...\n",
      "When processing sentence: vinayak - Batch 6, HIT 18 (ID 47). Caught error on: Could not process edit: {'type': 'deletion', 'id': 1, 'original_span': [(278, 282)], 'simplified_span': None, 'annotation': None}. Skipping...\n",
      "When processing sentence: vinayak - Batch 6, HIT 18 (ID 47). Caught error on: Could not process edit: {'type': 'insertion', 'id': 4, 'original_span': None, 'simplified_span': [(383, 387)], 'annotation': None}. Skipping...\n",
      "When processing sentence: vinayak - Batch 6, HIT 40 (ID 59). Caught error on: Could not process edit: {'type': 'insertion', 'id': 1, 'original_span': None, 'simplified_span': [(109, 112)], 'annotation': None}. Skipping...\n",
      "When processing sentence: vinayak - Batch 6, HIT 31 (ID 76). Caught error on: Could not process edit: {'type': 'insertion', 'id': 0, 'original_span': None, 'simplified_span': [(75, 78)], 'annotation': None}. Skipping...\n",
      "Couldn't process positive rating for substitution: ['no', '', '', '']. Assuming 'somewhat'...\n",
      "When processing sentence: vinayak - Batch 5, HIT 10 (ID 98). Caught error on: Could not process edit: {'type': 'deletion', 'id': 1, 'original_span': [(229, 233)], 'simplified_span': None, 'annotation': None}. Skipping...\n",
      "Couldn't process positive rating for substitution: ['negative', '', 'somewhat', '']. Assuming 'somewhat'...\n",
      "When processing sentence: vinayak - Batch 5, HIT 34 (ID 112). Caught error on: ''. Skipping...\n"
     ]
    }
   ],
   "source": [
    "from dataloader import *\n",
    "data = load_data('../annotated', batch_num=[5, 6], preprocess=True)"
   ]
  },
  {
   "cell_type": "code",
   "execution_count": 3,
   "metadata": {},
   "outputs": [],
   "source": [
    "from scoring import *"
   ]
  },
  {
   "cell_type": "code",
   "execution_count": 4,
   "metadata": {},
   "outputs": [],
   "source": [
    "# Gets parameters for only a certain family of edits\n",
    "def get_params(op):\n",
    "    curr_params = default_params.copy()\n",
    "    params_consider = []\n",
    "    # Consider only:\n",
    "    if (op == 'content'):\n",
    "        # Content edits\n",
    "        params_consider = [\n",
    "            'good_deletion',\n",
    "            'good_insertion',\n",
    "            'content_error'\n",
    "        ]\n",
    "    elif (op == 'syntax'):\n",
    "        # Syntax edits\n",
    "        params_consider = [\n",
    "            'good_syntax'\n",
    "        ]\n",
    "    elif (op == 'syntax'):\n",
    "        # Lexical edits\n",
    "        params_consider = [\n",
    "            'good_paraphrase',\n",
    "            'good_trivial_insertion',\n",
    "            'grammar_error'\n",
    "        ]\n",
    "\n",
    "        # Content quality edits\n",
    "        # Content error edits\n",
    "        # Syntax quality edits\n",
    "        # Syntax error edits\n",
    "        # Lexical quality edits\n",
    "        # Lexical error edits\n",
    "\n",
    "    elif (op == 'quality'):\n",
    "        # Only quality edits\n",
    "        params_consider = [\n",
    "            'good_insertion',\n",
    "            'good_deletion',\n",
    "            'good_paraphrase',\n",
    "            'good_trivial_insertion',\n",
    "            'good_syntax'\n",
    "        ]\n",
    "    elif (op == 'error'):\n",
    "        # Only error edits\n",
    "        params_consider = [\n",
    "            'content_error',\n",
    "            'grammar_error'\n",
    "        ]\n",
    "\n",
    "    params_consider += ['size_calculation']\n",
    "\n",
    "    for param in curr_params.keys():\n",
    "        if param not in params_consider:\n",
    "            curr_params[param] = 0\n",
    "    \n",
    "    return curr_params"
   ]
  },
  {
   "cell_type": "code",
   "execution_count": 5,
   "metadata": {},
   "outputs": [
    {
     "data": {
      "text/plain": [
       "[7.773591301605246,\n",
       " 2.4693095065550312,\n",
       " 8.485523033480725,\n",
       " 9.239242635984109,\n",
       " 9.07563996287343]"
      ]
     },
     "execution_count": 5,
     "metadata": {},
     "output_type": "execute_result"
    }
   ],
   "source": [
    "# Get 5 sentence scores considering only content edits\n",
    "[x['score'] for x in calculate_sentence_scores(data, get_params('content'))][:5]"
   ]
  },
  {
   "cell_type": "code",
   "execution_count": 6,
   "metadata": {},
   "outputs": [],
   "source": [
    "# Get sentences where at least 1 annotator identified an error\n",
    "error = Error.CONTRADICTION\n",
    "out_sents = set()\n",
    "for sent in data:\n",
    "    for ann in sent['processed_annotations']:\n",
    "        if ann['error_type'] == error:\n",
    "            out_sents.add((sent['original'], sent['system']))\n",
    "out = []\n",
    "for orig in out_sents:\n",
    "    out.append([x for x in data if x['original'] == orig[0] and x['system'] == orig[1]])"
   ]
  },
  {
   "cell_type": "code",
   "execution_count": null,
   "metadata": {},
   "outputs": [],
   "source": [
    "# Get all sentences where at least 1 annotator identified an error of that type\n",
    "\n",
    "# Content Errors\t\n",
    "# \tCoreference\n",
    "# \tInformation Rewrite\n",
    "# \tRepeititon\n",
    "# \tContradiction\n",
    "# \tHallucination\n",
    "# \tIrrelevant\n",
    "# Syntax Errors\t\n",
    "# \tSyntax Error\n",
    "# Lexical Errors\t\n",
    "# \tUnnecessary Insertion\n",
    "# \tComplex Wording\n",
    "# \tGrammar Error"
   ]
  },
  {
   "cell_type": "code",
   "execution_count": 9,
   "metadata": {},
   "outputs": [
    {
     "ename": "IndexError",
     "evalue": "list index out of range",
     "output_type": "error",
     "traceback": [
      "\u001b[1;31m---------------------------------------------------------------------------\u001b[0m",
      "\u001b[1;31mIndexError\u001b[0m                                Traceback (most recent call last)",
      "\u001b[1;32m<ipython-input-9-89cc7bc3360b>\u001b[0m in \u001b[0;36m<module>\u001b[1;34m\u001b[0m\n\u001b[0;32m      8\u001b[0m \u001b[1;33m\u001b[0m\u001b[0m\n\u001b[0;32m      9\u001b[0m     \u001b[0masset\u001b[0m \u001b[1;33m=\u001b[0m \u001b[1;33m[\u001b[0m\u001b[0mx\u001b[0m \u001b[1;32mfor\u001b[0m \u001b[0mx\u001b[0m \u001b[1;32min\u001b[0m \u001b[0msents\u001b[0m \u001b[1;32mif\u001b[0m \u001b[1;34m'asset'\u001b[0m \u001b[1;32min\u001b[0m \u001b[0mx\u001b[0m\u001b[1;33m[\u001b[0m\u001b[1;34m'system'\u001b[0m\u001b[1;33m]\u001b[0m\u001b[1;33m]\u001b[0m\u001b[1;33m\u001b[0m\u001b[1;33m\u001b[0m\u001b[0m\n\u001b[1;32m---> 10\u001b[1;33m     \u001b[0mt5\u001b[0m \u001b[1;33m=\u001b[0m \u001b[1;33m[\u001b[0m\u001b[0mx\u001b[0m \u001b[1;32mfor\u001b[0m \u001b[0mx\u001b[0m \u001b[1;32min\u001b[0m \u001b[0msents\u001b[0m \u001b[1;32mif\u001b[0m \u001b[1;34m'T5'\u001b[0m \u001b[1;32min\u001b[0m \u001b[0mx\u001b[0m\u001b[1;33m[\u001b[0m\u001b[1;34m'system'\u001b[0m\u001b[1;33m]\u001b[0m\u001b[1;33m]\u001b[0m\u001b[1;33m[\u001b[0m\u001b[1;36m0\u001b[0m\u001b[1;33m]\u001b[0m\u001b[1;33m\u001b[0m\u001b[1;33m\u001b[0m\u001b[0m\n\u001b[0m\u001b[0;32m     11\u001b[0m \u001b[1;33m\u001b[0m\u001b[0m\n\u001b[0;32m     12\u001b[0m     \u001b[1;31m# Take the SARI score for T5, our best generation with the 2 ASSET human references\u001b[0m\u001b[1;33m\u001b[0m\u001b[1;33m\u001b[0m\u001b[1;33m\u001b[0m\u001b[0m\n",
      "\u001b[1;31mIndexError\u001b[0m: list index out of range"
     ]
    }
   ],
   "source": [
    "# Calculate the SARI score for all unique sentences\n",
    "# For each sentence, we have 5 generations and 3 annotations per generation\n",
    "# Of the 5 generations, 2 are ASSET human references, 1 is TurkCorpus human reference\n",
    "\n",
    "scores = []\n",
    "for orig in set([x['original'] for x in data]):\n",
    "    sents = [x for x in data if x['original'] == orig]\n",
    "\n",
    "    asset = [x for x in sents if 'asset' in x['system']]\n",
    "    t5 = [x for x in sents if 'T5' in x['system']][0]\n",
    "\n",
    "    # Take the SARI score for T5, our best generation with the 2 ASSET human references\n",
    "    references = [x['simplified'] for x in asset]\n",
    "    prediction = t5['simplified']\n",
    "    \n",
    "    simpeval_score = t5['simpeval_score']\n",
    "    our_score = t5['score']\n",
    "\n",
    "    # The next goal is to calculate a bunch of variations on our score considering only\n",
    "    # certain dimensions of the metric\n",
    "\n",
    "    # Then we can calculate more complex automatic metrics like BERTScore, COMET\n",
    "\n",
    "    sari_score = sari.compute(sources=[orig], predictions=[prediction], references=[references])['sari']\n",
    "\n",
    "    scores.append({\n",
    "        'original': orig,\n",
    "        'simplified': prediction,\n",
    "        'sari': sari_score,\n",
    "        'simpeval': simpeval_score,\n",
    "        'our_score': our_score\n",
    "    })\n",
    "\n",
    "# Small sample size\n",
    "scores[0]"
   ]
  },
  {
   "cell_type": "code",
   "execution_count": 27,
   "metadata": {},
   "outputs": [],
   "source": [
    "# The problem with BERTScore is my verion of PyTorch is\n",
    "# incompatible with their library, I'll have to use a virtual\n",
    "# environment to get it to work.\n",
    "\n",
    "# from bert_score import score\n",
    "\n",
    "# with open(\"bert_score/example/hyps.txt\") as f:\n",
    "#     cands = [line.strip() for line in f]\n",
    "\n",
    "# with open(\"bert_score/example/refs.txt\") as f:\n",
    "#     refs = [line.strip() for line in f]\n",
    "\n",
    "# P, R, F1 = score(cands, refs, lang=\"en\", verbose=True)\n",
    "\n",
    "# print(f\"System level F1 score: {F1.mean():.3f}\")"
   ]
  },
  {
   "cell_type": "code",
   "execution_count": 28,
   "metadata": {},
   "outputs": [],
   "source": [
    "# import comet\n",
    "# They have a python library but it doesn't work great...\n",
    "\n",
    "# !echo -e \"Dem Feuer konnte Einhalt geboten werden\\nSchulen und Kindergärten wurden eröffnet.\" >> comet/src.de\n",
    "# !echo -e \"The fire could be stopped\\nSchools and kindergartens were open\" >> comet/hyp1.en\n",
    "# !echo -e \"The fire could have been stopped\\nSchools and pre-school were open\" >> comet/hyp2.en\n",
    "# !echo -e \"They were able to control the fire.\\nSchools and kindergartens opened\" >> comet/ref.en\n",
    "\n",
    "# !comet-score -s comet/src.de -t comet/hyp1.en -r comet/ref.en"
   ]
  },
  {
   "cell_type": "code",
   "execution_count": 29,
   "metadata": {},
   "outputs": [],
   "source": [
    "# One of the COMET scores worth looking at:\n",
    "# wmt21-comet-mqm: This model was pre-trained on Direct Assessments from WMT15 to WMT20 and then fine-tuned on MQM z-scores from Freitag et al, 2021 (MQM). This model was one of the best performing metrics that year [Freitag et al. 2021 (WMT21)]."
   ]
  },
  {
   "cell_type": "markdown",
   "metadata": {},
   "source": [
    "### Edit Reversing"
   ]
  },
  {
   "cell_type": "code",
   "execution_count": null,
   "metadata": {},
   "outputs": [
    {
     "data": {
      "image/png": "[encoded data removed]",
      "text/plain": [
       "<Figure size 540x288 with 2 Axes>"
      ]
     },
     "metadata": {},
     "output_type": "display_data"
    }
   ],
   "source": [
    "from graphs import *\n",
    "\n",
    "id_ = 40\n",
    "sents = [sent for sent in data if sent['id'] == id_]\n",
    "draw_agreement(sents)"
   ]
  },
  {
   "cell_type": "code",
   "execution_count": null,
   "metadata": {},
   "outputs": [],
   "source": [
    "# Problems with reversing edits:\n",
    "    # Overlapping edits (of different types)\n",
    "    # Deletions have no mapping to the original sentence\n",
    "    # Re-orders have no mapping to their original location"
   ]
  },
  {
   "cell_type": "code",
   "execution_count": null,
   "metadata": {},
   "outputs": [],
   "source": [
    "# My approach\n",
    "    # use generate_token_dict(s) to get a list of token spans for the input/output\n",
    "    # iterate through edits (in some predetermined priority order) to list the operations we perform on each word\n",
    "    # perform those operations to collapse the sentence"
   ]
  },
  {
   "cell_type": "code",
   "execution_count": null,
   "metadata": {},
   "outputs": [],
   "source": [
    "s = sents[0]\n",
    "orig = s['original']\n",
    "simp = s['simplified']"
   ]
  },
  {
   "cell_type": "code",
   "execution_count": null,
   "metadata": {},
   "outputs": [
    {
     "data": {
      "text/plain": [
       "{(0, 2): {},\n",
       " (3, 10): {},\n",
       " (11, 16): {},\n",
       " (17, 22): {},\n",
       " (23, 29): {},\n",
       " (30, 32): {},\n",
       " (33, 41): {},\n",
       " (42, 51): {},\n",
       " (52, 54): {},\n",
       " (55, 68): {},\n",
       " (69, 72): {},\n",
       " (73, 82): {},\n",
       " (83, 85): {},\n",
       " (86, 92): {},\n",
       " (93, 96): {},\n",
       " (97, 105): {},\n",
       " (106, 112): {},\n",
       " (113, 115): {},\n",
       " (116, 122): {},\n",
       " (123, 130): {},\n",
       " (131, 134): {},\n",
       " (135, 145): {},\n",
       " (146, 148): {},\n",
       " (149, 154): {},\n",
       " (155, 161): {},\n",
       " (162, 169): {}}"
      ]
     },
     "metadata": {},
     "output_type": "display_data"
    }
   ],
   "source": [
    "generate_token_dict(orig)"
   ]
  },
  {
   "cell_type": "code",
   "execution_count": null,
   "metadata": {},
   "outputs": [
    {
     "data": {
      "text/plain": [
       "{'type': 'deletion',\n",
       " 'id': 0,\n",
       " 'original_span': [(0, 10)],\n",
       " 'simplified_span': None,\n",
       " 'annotation': ['good', 'no', 'no']}"
      ]
     },
     "metadata": {},
     "output_type": "display_data"
    }
   ],
   "source": [
    "s['edits'][0]"
   ]
  },
  {
   "cell_type": "code",
   "execution_count": null,
   "metadata": {},
   "outputs": [
    {
     "data": {
      "text/plain": [
       "(17, 32)"
      ]
     },
     "metadata": {},
     "output_type": "display_data"
    }
   ],
   "source": [
    "s['edits'][1]['original_span'][0]"
   ]
  },
  {
   "cell_type": "code",
   "execution_count": null,
   "metadata": {},
   "outputs": [
    {
     "data": {
      "text/plain": [
       "(6, 23)"
      ]
     },
     "metadata": {},
     "output_type": "display_data"
    }
   ],
   "source": [
    "s['edits'][1]['simplified_span'][0]"
   ]
  },
  {
   "cell_type": "code",
   "execution_count": null,
   "metadata": {},
   "outputs": [
    {
     "data": {
      "text/plain": [
       "'swore fealty to'"
      ]
     },
     "metadata": {},
     "output_type": "display_data"
    }
   ],
   "source": [
    "out[17:32]"
   ]
  },
  {
   "cell_type": "code",
   "execution_count": null,
   "metadata": {},
   "outputs": [
    {
     "data": {
      "text/plain": [
       "'promised to serve'"
      ]
     },
     "metadata": {},
     "output_type": "display_data"
    }
   ],
   "source": [
    "s['simplified'][6:23]"
   ]
  },
  {
   "cell_type": "code",
   "execution_count": null,
   "metadata": {},
   "outputs": [
    {
     "data": {
      "text/plain": [
       "'In return, Rollo swore fealty to Charles, converted to Christianity, and undertook to defend the northern region of France against the incursions of other Viking groups.'"
      ]
     },
     "metadata": {},
     "output_type": "display_data"
    }
   ],
   "source": [
    "out"
   ]
  },
  {
   "cell_type": "code",
   "execution_count": null,
   "metadata": {},
   "outputs": [
    {
     "data": {
      "text/plain": [
       "[{'type': 'deletion',\n",
       "  'id': 0,\n",
       "  'original_span': [(0, 10)],\n",
       "  'simplified_span': None,\n",
       "  'annotation': ['good', 'no', 'no']},\n",
       " {'type': 'substitution',\n",
       "  'id': 0,\n",
       "  'original_span': [(17, 32)],\n",
       "  'simplified_span': [(6, 23)],\n",
       "  'annotation': ['same', 'positive', 'a lot', '', 'no']},\n",
       " {'type': 'substitution',\n",
       "  'id': 1,\n",
       "  'original_span': [(42, 68)],\n",
       "  'simplified_span': [(33, 51)],\n",
       "  'annotation': ['same', 'positive', 'somewhat', '', 'no']},\n",
       " {'type': 'substitution',\n",
       "  'id': 2,\n",
       "  'original_span': [(73, 82)],\n",
       "  'simplified_span': [(56, 62)],\n",
       "  'annotation': ['less', 'good', 'no', '']},\n",
       " {'type': 'substitution',\n",
       "  'id': 3,\n",
       "  'original_span': [(93, 115)],\n",
       "  'simplified_span': [(73, 81)],\n",
       "  'annotation': ['less', 'perfect', 'no', '']},\n",
       " {'type': 'substitution',\n",
       "  'id': 4,\n",
       "  'original_span': [(131, 169)],\n",
       "  'simplified_span': [(97, 105)],\n",
       "  'annotation': ['less', 'good', 'no', '']}]"
      ]
     },
     "metadata": {},
     "output_type": "display_data"
    }
   ],
   "source": [
    "# Reversing only substitutions\n",
    "sents[0]['edits']"
   ]
  }
 ],
 "metadata": {
  "kernelspec": {
   "display_name": "Python 3.9.0 64-bit",
   "language": "python",
   "name": "python3"
  },
  "language_info": {
   "codemirror_mode": {
    "name": "ipython",
    "version": 3
   },
   "file_extension": ".py",
   "mimetype": "text/x-python",
   "name": "python",
   "nbconvert_exporter": "python",
   "pygments_lexer": "ipython3",
   "version": "3.9.0"
  },
  "orig_nbformat": 4,
  "vscode": {
   "interpreter": {
    "hash": "81794d4967e6c3204c66dcd87b604927b115b27c00565d3d43f05ba2f3a2cb0d"
   }
  }
 },
 "nbformat": 4,
 "nbformat_minor": 2
}
