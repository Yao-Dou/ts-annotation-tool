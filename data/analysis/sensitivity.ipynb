{
 "cells": [
  {
   "cell_type": "markdown",
   "metadata": {},
   "source": [
    "### BLEU"
   ]
  },
  {
   "cell_type": "code",
   "execution_count": 24,
   "metadata": {},
   "outputs": [
    {
     "name": "stdout",
     "output_type": "stream",
     "text": [
      "0.4548019047027907\n"
     ]
    }
   ],
   "source": [
    "import nltk\n",
    "hypothesis = ['It', 'is', 'a', 'cat', 'at', 'room']\n",
    "reference = ['It', 'is', 'a', 'cat', 'inside', 'the', 'room']\n",
    "#there may be several references\n",
    "BLEUscore = nltk.translate.bleu_score.sentence_bleu([reference], hypothesis)\n",
    "print(BLEUscore)\n",
    "\n",
    "def BLEUsent(hypothesis, references):\n",
    "    ref = [x.split(' ') for x in references]\n",
    "    hyp = hypothesis.split(' ')\n",
    "    BLEUscore = nltk.translate.bleu_score.sentence_bleu(ref, hyp)\n",
    "    return BLEUscore"
   ]
  },
  {
   "cell_type": "code",
   "execution_count": 17,
   "metadata": {},
   "outputs": [],
   "source": [
    "# I should use this library because it's standardized and does tokenization\n",
    "# more accurately\n",
    "import sacrebleu"
   ]
  },
  {
   "cell_type": "markdown",
   "metadata": {},
   "source": [
    "### SARI"
   ]
  },
  {
   "cell_type": "code",
   "execution_count": 15,
   "metadata": {},
   "outputs": [
    {
     "name": "stdout",
     "output_type": "stream",
     "text": [
      "0.2682782411698074\n",
      "0.5889995423074248\n",
      "0.5071608864657479\n"
     ]
    }
   ],
   "source": [
    "from utils.sari import *\n",
    "fnamenorm   = \"./turkcorpus/test.8turkers.tok.norm\"\n",
    "fnamesimp   = \"./turkcorpus/test.8turkers.tok.simp\"\n",
    "fnameturk  = \"./turkcorpus/test.8turkers.tok.turk.\"\n",
    "\n",
    "ssent = \"About 95 species are currently accepted .\"\n",
    "csent1 = \"About 95 you now get in .\"\n",
    "csent2 = \"About 95 species are now agreed .\"\n",
    "csent3 = \"About 95 species are currently agreed .\"\n",
    "rsents = [\"About 95 species are currently known .\", \"About 95 species are now accepted .\", \"95 species are now accepted .\"]\n",
    "\n",
    "print(SARIsent(ssent, csent1, rsents))\n",
    "print(SARIsent(ssent, csent2, rsents))\n",
    "print(SARIsent(ssent, csent3, rsents))"
   ]
  },
  {
   "cell_type": "markdown",
   "metadata": {},
   "source": [
    "###  BERTScore"
   ]
  },
  {
   "cell_type": "code",
   "execution_count": 51,
   "metadata": {},
   "outputs": [
    {
     "name": "stderr",
     "output_type": "stream",
     "text": [
      "Some weights of the model checkpoint at roberta-large were not used when initializing RobertaModel: ['lm_head.layer_norm.bias', 'lm_head.decoder.weight', 'lm_head.dense.weight', 'lm_head.dense.bias', 'lm_head.layer_norm.weight', 'lm_head.bias']\n",
      "- This IS expected if you are initializing RobertaModel from the checkpoint of a model trained on another task or with another architecture (e.g. initializing a BertForSequenceClassification model from a BertForPreTraining model).\n",
      "- This IS NOT expected if you are initializing RobertaModel from the checkpoint of a model that you expect to be exactly identical (initializing a BertForSequenceClassification model from a BertForSequenceClassification model).\n"
     ]
    },
    {
     "name": "stdout",
     "output_type": "stream",
     "text": [
      "calculating scores...\n",
      "computing bert embedding.\n"
     ]
    },
    {
     "data": {
      "application/vnd.jupyter.widget-view+json": {
       "model_id": "ad288a7779b64014886a1e9f2b395f77",
       "version_major": 2,
       "version_minor": 0
      },
      "text/plain": [
       "  0%|          | 0/1 [00:00<?, ?it/s]"
      ]
     },
     "metadata": {},
     "output_type": "display_data"
    },
    {
     "name": "stdout",
     "output_type": "stream",
     "text": [
      "computing greedy matching.\n"
     ]
    },
    {
     "data": {
      "application/vnd.jupyter.widget-view+json": {
       "model_id": "8b7b79d6cb47448588bb9b7ddb287e47",
       "version_major": 2,
       "version_minor": 0
      },
      "text/plain": [
       "  0%|          | 0/1 [00:00<?, ?it/s]"
      ]
     },
     "metadata": {},
     "output_type": "display_data"
    },
    {
     "name": "stdout",
     "output_type": "stream",
     "text": [
      "done in 0.09 seconds, 32.58 sentences/sec\n",
      "0.87\n"
     ]
    }
   ],
   "source": [
    "import bert_score as bs\n",
    "\n",
    "def BERTSCOREsent(hypothesis, references):\n",
    "    hypothesis_all = [hypothesis for _ in range(len(references))]\n",
    "    _, _, F1 = bs.score(hypothesis_all, references, lang='en', verbose=True)\n",
    "    return avg(F1.tolist())\n",
    "\n",
    "print(BERTSCOREsent(csent1, rsents))"
   ]
  },
  {
   "cell_type": "markdown",
   "metadata": {},
   "source": [
    "### COMET"
   ]
  },
  {
   "cell_type": "code",
   "execution_count": 1,
   "metadata": {},
   "outputs": [
    {
     "name": "stderr",
     "output_type": "stream",
     "text": [
      "Some weights of the model checkpoint at xlm-roberta-large were not used when initializing XLMRobertaModel: ['lm_head.dense.bias', 'lm_head.dense.weight', 'lm_head.layer_norm.bias', 'lm_head.decoder.weight', 'roberta.pooler.dense.bias', 'lm_head.layer_norm.weight', 'lm_head.bias', 'roberta.pooler.dense.weight']\n",
      "- This IS expected if you are initializing XLMRobertaModel from the checkpoint of a model trained on another task or with another architecture (e.g. initializing a BertForSequenceClassification model from a BertForPreTraining model).\n",
      "- This IS NOT expected if you are initializing XLMRobertaModel from the checkpoint of a model that you expect to be exactly identical (initializing a BertForSequenceClassification model from a BertForSequenceClassification model).\n",
      "Encoder model frozen.\n"
     ]
    }
   ],
   "source": [
    "# !pip install unbabel-comet\n",
    "import comet # Import order matters! If you import everything first, you will get a WinError 127 because of incompatible libraries\n",
    "comet_model_path = comet.download_model('wmt21-comet-mqm')\n",
    "comet_mqm = comet.load_from_checkpoint(comet_model_path)"
   ]
  },
  {
   "cell_type": "code",
   "execution_count": 2,
   "metadata": {},
   "outputs": [
    {
     "name": "stdout",
     "output_type": "stream",
     "text": [
      "NVIDIA GeForce RTX 2070 with Max-Q Design\n"
     ]
    }
   ],
   "source": [
    "import torch\n",
    "if torch.cuda.is_available():\n",
    "    torch.cuda.device_count()\n",
    "    torch.cuda.current_device()\n",
    "    torch.cuda.device(0)\n",
    "    print(torch.cuda.get_device_name(0))\n",
    "else:\n",
    "    print(\"No CUDA :(\")"
   ]
  },
  {
   "cell_type": "code",
   "execution_count": 4,
   "metadata": {},
   "outputs": [],
   "source": [
    "data = [\n",
    "    {\n",
    "        \"src\": \"Dem Feuer konnte Einhalt geboten werden\",\n",
    "        \"mt\": \"The fire could be stopped\",\n",
    "        \"ref\": \"They were able to control the fire.\"\n",
    "    },\n",
    "    {\n",
    "        \"src\": \"Schulen und Kindergärten wurden eröffnet.\",\n",
    "        \"mt\": \"Schools and kindergartens were open\",\n",
    "        \"ref\": \"Schools and kindergartens opened\"\n",
    "    }\n",
    "]\n",
    "# model_output = comet_mqm.predict(data, batch_size=8, gpus=1)\n",
    "# seg_scores, system_score = model_output.scores, model_output.system_score\n",
    "\n",
    "# COMET is giving an ambiguous pickle error, likely a problem with imports\n",
    "# You can paste this code into Google Collab and it'll run fine"
   ]
  },
  {
   "cell_type": "markdown",
   "metadata": {},
   "source": [
    "### Sub-class Scoring"
   ]
  },
  {
   "cell_type": "code",
   "execution_count": 1,
   "metadata": {},
   "outputs": [
    {
     "name": "stdout",
     "output_type": "stream",
     "text": [
      "Loading files: ['../annotated/batch_1_anton.json', '../annotated/batch_1_ayush.json', '../annotated/batch_1_kelly.json', '../annotated/batch_2_vinayak.json', '../annotated/batch_2_vishnesh.json', '../annotated/batch_3_anton.json', '../annotated/batch_3_ayush.json', '../annotated/batch_3_kelly.json', '../annotated/batch_4_rachel.json', '../annotated/batch_4_vinayak.json', '../annotated/batch_4_vishnesh.json']\n",
      "\n",
      "Found users: {'vishnesh', 'ayush', 'anton', 'kelly', 'vinayak', 'rachel'}\n",
      "\n",
      "When processing sentence: rachel - Batch 4, HIT 5 (ID 124). Caught error on: Could not process edit: {'type': 'deletion', 'id': 5, 'original_span': [(95, 98)], 'simplified_span': None, 'annotation': None}. Skipping...\n"
     ]
    }
   ],
   "source": [
    "from utils.all import *\n",
    "from scipy.stats import kendalltau, pearsonr, spearmanr\n",
    "\n",
    "data = load_data('../annotated', batch_num=[1, 2, 3, 4], preprocess=True)"
   ]
  },
  {
   "cell_type": "code",
   "execution_count": 2,
   "metadata": {},
   "outputs": [],
   "source": [
    "# Gets parameters for only a certain family of edits\n",
    "def get_params(op):\n",
    "    curr_params = default_params.copy()\n",
    "    params_consider = []\n",
    "\n",
    "    if ('quality' in op):\n",
    "        if ('content' in op):\n",
    "            # Quality content edits\n",
    "            params_consider = [\n",
    "                'good_deletion',\n",
    "                'good_insertion',\n",
    "                'content_error'\n",
    "            ]\n",
    "        elif ('syntax' in op):\n",
    "            # Quality syntax edits\n",
    "            params_consider = [\n",
    "                'good_syntax'\n",
    "            ]\n",
    "        elif ('lexical' in op):\n",
    "            # Qualtiy lexical edits\n",
    "            params_consider = [\n",
    "                'good_paraphrase',\n",
    "                'good_trivial_insertion',\n",
    "                'grammar_error'\n",
    "            ]\n",
    "        else:\n",
    "            # All quality edits\n",
    "            params_consider = [\n",
    "                'good_insertion',\n",
    "                'good_deletion',\n",
    "                'good_paraphrase',\n",
    "                'good_trivial_insertion', \n",
    "                'good_syntax'\n",
    "            ]\n",
    "    elif ('error' in op):\n",
    "        if ('content' in op):\n",
    "            # Content errors\n",
    "            params_consider = [\n",
    "                'content_error'\n",
    "            ]\n",
    "        elif ('syntax' in op):\n",
    "            # Syntax errors\n",
    "            params_consider = [\n",
    "                'syntax_error'\n",
    "            ]\n",
    "        elif ('lexical' in op):\n",
    "            # Lexcial errors\n",
    "            params_consider = [\n",
    "                'lexical_error'\n",
    "            ]\n",
    "        else:\n",
    "            # All error edits\n",
    "            params_consider = [\n",
    "                'content_error',\n",
    "                'syntax_error',\n",
    "                'lexical_error'\n",
    "            ]\n",
    "\n",
    "    params_consider += ['size_calculation']\n",
    "\n",
    "    for param in curr_params.keys():\n",
    "        if param not in params_consider and op != 'all':\n",
    "            curr_params[param] = 0\n",
    "    \n",
    "    return curr_params"
   ]
  },
  {
   "cell_type": "code",
   "execution_count": 9,
   "metadata": {},
   "outputs": [
    {
     "data": {
      "text/plain": [
       "[0.0,\n",
       " 7.981956423567116,\n",
       " 1.995489105891779,\n",
       " 7.378960493618533,\n",
       " 11.258852050879053]"
      ]
     },
     "execution_count": 9,
     "metadata": {},
     "output_type": "execute_result"
    }
   ],
   "source": [
    "# Get 5 sentence scores considering only content edits\n",
    "[x['score'] for x in calculate_sentence_scores(data, get_params('quality'))][:5]"
   ]
  },
  {
   "cell_type": "code",
   "execution_count": 3,
   "metadata": {},
   "outputs": [
    {
     "data": {
      "text/plain": [
       "{'original': 'Val Venis defeated Rikishi in a Steel cage match to retain the WWF Intercontinental Championship (14:10) Venis pinned Rikishi after Tazz hit Rikishi with a TV camera.',\n",
       " 'references': ['Val Venis defeated Rikishi in a Steel cage match; he pinned Rikishi after he was hit by a camera.',\n",
       "  'Val Venis defeated Rikishi in a Steel cage match; he pinned Rikishi after he was hit by a camera.',\n",
       "  'Val Venis defeated Rikishi in a Steel cage match; he pinned Rikishi after he was hit by a camera.',\n",
       "  'Val Venis pinned Rikish to retain the WWF Intercontinental Championship in a steel cage match. || Rikishi was hit with a TV camera by Tazz.',\n",
       "  'Val Venis pinned Rikish to retain the WWF Intercontinental Championship in a steel cage match. || Rikishi was hit with a TV camera by Tazz.',\n",
       "  'Val Venis pinned Rikish to retain the WWF Intercontinental Championship in a steel cage match. || Rikishi was hit with a TV camera by Tazz.'],\n",
       " 'simplified': 'Val Venis beat Rikishi in a Steel cage match to keep the WWF Intercontinental Championship (14:10) Venis pinned Rikishi after Tazz hit Rikishi with a TV camera.',\n",
       " 'system': 'systems/T5.txt',\n",
       " 'simpeval': 0.46,\n",
       " 'our_score': 2.576951793125272,\n",
       " 'our_score_quality_content': 0.0,\n",
       " 'our_score_quality_syntax': 0.0,\n",
       " 'our_score_quality_lexical': 2.576951793125272,\n",
       " 'our_score_error_content': 0.0,\n",
       " 'our_score_error_syntax': 0.0,\n",
       " 'our_score_error_lexical': 0.0,\n",
       " 'our_score_quality': 2.576951793125272,\n",
       " 'our_score_error': 0.0,\n",
       " 'our_score_all': 2.576951793125272}"
      ]
     },
     "execution_count": 3,
     "metadata": {},
     "output_type": "execute_result"
    }
   ],
   "source": [
    "# Calculate the each score for all unique sentences\n",
    "# For each sentence, we have 5 generations and 3 annotations per generation\n",
    "# Of the 5 generations, 2 are ASSET human references, 1 is TurkCorpus human reference\n",
    "\n",
    "conditions = [\n",
    "    'quality_content', \n",
    "    'quality_syntax', \n",
    "    'quality_lexical', \n",
    "    'error_content', \n",
    "    'error_syntax', \n",
    "    'error_lexical', \n",
    "    'quality', \n",
    "    'error', \n",
    "    'all'\n",
    "]\n",
    "\n",
    "scores = []\n",
    "for orig in set([x['original'] for x in data]):\n",
    "    sents = [x for x in data if x['original'] == orig]\n",
    "\n",
    "    asset = [x for x in sents if 'asset' in x['system']]\n",
    "    t5 = [x for x in sents if 'T5' in x['system']][0]\n",
    "\n",
    "    # Take the SARI score for T5, our best generation with the 2 ASSET human references\n",
    "    references = [x['simplified'] for x in asset]\n",
    "    prediction = t5['simplified']\n",
    "    \n",
    "    simpeval_score = t5['simpeval_scores']\n",
    "    if simpeval_score is None:\n",
    "        continue\n",
    "    simpeval_score = avg(simpeval_score)\n",
    "\n",
    "    our_score = t5['score']\n",
    "\n",
    "    score = {\n",
    "        'original': orig,\n",
    "        'references': references,\n",
    "        'simplified': prediction,\n",
    "        'system': t5['system'],\n",
    "        'simpeval': simpeval_score,\n",
    "        'our_score': our_score\n",
    "    }\n",
    "\n",
    "    # The next goal is to calculate a bunch of variations on our score considering only\n",
    "    # certain dimensions of the metric\n",
    "    for condition in conditions:\n",
    "        score[f'our_score_{condition}'] = calculate_sentence_score(t5, get_params(condition))\n",
    "        \n",
    "    # Calculate BLEU\n",
    "    score['bleu'] = BLEUsent(prediction, references)\n",
    "\n",
    "    # Calculate BERTScore\n",
    "    score['bertscore'] = BERTSCOREsent(prediction, references)\n",
    "\n",
    "    # Calculate SARI\n",
    "    # sari_score = sari.compute(sources=[orig], predictions=[prediction], references=[references])['sari']\n",
    "    score['sari'] = SARIsent(orig, prediction, references)\n",
    "\n",
    "    scores += [score]\n",
    "\n",
    "scores[0]"
   ]
  },
  {
   "cell_type": "code",
   "execution_count": 54,
   "metadata": {},
   "outputs": [],
   "source": [
    "# Add COMET scores from Collab\n",
    "# Write scores to json\n",
    "with open('scores.json', 'w') as f:\n",
    "    json.dump(scores, f, indent=4)"
   ]
  },
  {
   "cell_type": "code",
   "execution_count": 55,
   "metadata": {},
   "outputs": [],
   "source": [
    "# Load json\n",
    "with open('scores.json', 'r') as f:\n",
    "    scores = json.load(f)"
   ]
  },
  {
   "cell_type": "code",
   "execution_count": 95,
   "metadata": {},
   "outputs": [
    {
     "name": "stdout",
     "output_type": "stream",
     "text": [
      "Quality content & 0.1183 & 0.1095 & 0.0495 & -0.0072 & 0.1785 & 0.1045 & 0.0217 & -0.0028 & 0.3223 & 0.3666 \\tabularnewline\n",
      "Quality syntax & -0.1105 & -0.1688 & 0.2515 & 0.2393 & 0.0922 & 0.0529 & -0.0420 & 0.0416 & 0.2646 & 0.1703 \\tabularnewline\n",
      "Quality lexical & 0.0169 & 0.0288 & 0.4031 & 0.2945 & -0.1897 & -0.2661 & -0.4138 & -0.4698 & 0.0537 & -0.1238 \\tabularnewline\n",
      "Error content & -0.0704 & 0.0450 & -0.0335 & 0.0359 & -0.1470 & 0.0329 & -0.0744 & -0.0551 & 0.1676 & 0.0936 \\tabularnewline\n",
      "Error syntax & -0.0397 & -0.0926 & 0.4843 & 0.2871 & -0.0652 & 0.0793 & -0.1952 & -0.1238 & 0.1684 & 0.3030 \\tabularnewline\n",
      "Error lexical & 0.1995 & 0.1065 & 0.1926 & -0.0187 & 0.1029 & 0.0285 & -0.0020 & -0.0918 & 0.2203 & 0.0620 \\tabularnewline\n",
      "Quality & 0.1368 & 0.0509 & 0.2540 & 0.1611 & 0.1697 & 0.0493 & -0.2076 & -0.1026 & 0.4390 & 0.4364 \\tabularnewline\n",
      "Error & -0.0474 & 0.0219 & 0.3015 & 0.1633 & -0.0626 & 0.0732 & -0.1858 & -0.1317 & 0.3667 & 0.2405 \\tabularnewline\n",
      "All & 0.0189 & -0.0068 & 0.1392 & 0.0385 & 0.1788 & 0.2893 & 0.0031 & 0.1299 & 0.5327 & 0.6598 \\tabularnewline\n"
     ]
    }
   ],
   "source": [
    "# Calculate Kendall Tau correlation for each statistic\n",
    "systems = ['bleu', 'sari', 'bertscore', 'comet', 'simpeval']\n",
    "all_results = []\n",
    "prec = 4\n",
    "for system in systems:\n",
    "    sys_results = []\n",
    "    for condition in conditions:\n",
    "        p = pearsonr([s[f'our_score_{condition}'] for s in scores], [s[system] for s in scores])\n",
    "        sp = spearmanr([s[f'our_score_{condition}'] for s in scores], [s[system] for s in scores])\n",
    "        results = (f'{round(sp[0], prec):.4f} & {round(p[0], prec):.4f}')\n",
    "\n",
    "        # & {round(sp[1], prec)}\n",
    "        # & {round(p[1], prec)}\n",
    "        sys_results += [results]\n",
    "    all_results += [sys_results]\n",
    "\n",
    "for i, condition in enumerate(conditions):\n",
    "    line = f'{condition.replace(\"_\", \" \").capitalize()} & '\n",
    "    for j, system in enumerate(systems):\n",
    "        line += f'{all_results[j][i]} & '\n",
    "    print(line[:-2] + '\\\\tabularnewline')"
   ]
  },
  {
   "cell_type": "code",
   "execution_count": null,
   "metadata": {},
   "outputs": [],
   "source": [
    "scores = np.asarray([])\n",
    "tau, p_value = kendalltau(scores[:, 1], scores[:, 2])\n",
    "r, p_value = pearsonr(scores[:, 1], scores[:, 2])"
   ]
  },
  {
   "attachments": {},
   "cell_type": "markdown",
   "metadata": {},
   "source": [
    "### Correlation between Qualtiy and Error"
   ]
  },
  {
   "cell_type": "code",
   "execution_count": 20,
   "metadata": {},
   "outputs": [
    {
     "name": "stdout",
     "output_type": "stream",
     "text": [
      "Loading files: ['../annotated/batch_5_anton.json', '../annotated/batch_5_ayush.json', '../annotated/batch_5_kelly.json', '../annotated/batch_5_rachel.json', '../annotated/batch_5_vinayak.json', '../annotated/batch_5_vishnesh.json', '../annotated/batch_6_anton.json', '../annotated/batch_6_ayush.json', '../annotated/batch_6_kelly.json', '../annotated/batch_6_rachel.json', '../annotated/batch_6_vinayak.json', '../annotated/batch_6_vishnesh.json']\n",
      "\n",
      "Found users: {'ayush', 'anton', 'kelly', 'vishnesh', 'vinayak', 'rachel'}\n",
      "\n",
      "anton - Batch 5, HIT 38 (ID 37) has 2 deletion edits but 1 annotations. Likely a missing annotation. Skipping edit type...\n",
      "vinayak - Batch 6, HIT 16 (ID 45) has 1 insertion edits but -1 annotations. Likely a missing annotation. Skipping edit type...\n",
      "rachel - Batch 5, HIT 21 (ID 65) has 4 deletion edits but 3 annotations. Likely a missing annotation. Skipping edit type...\n",
      "rachel - Batch 5, HIT 21 (ID 65) has 4 insertion edits but 3 annotations. Likely a missing annotation. Skipping edit type...\n",
      "rachel - Batch 5, HIT 23 (ID 67) has 1 reorder edits but -1 annotations. Likely a missing annotation. Skipping edit type...\n",
      "vinayak - Batch 5, HIT 25 (ID 92) has 5 deletion edits but 3 annotations. Likely a missing annotation. Skipping edit type...\n",
      "vinayak - Batch 5, HIT 25 (ID 92) has 2 insertion edits but 1 annotations. Likely a missing annotation. Skipping edit type...\n",
      "vinayak - Batch 5, HIT 17 (ID 100) has 3 deletion edits but 2 annotations. Likely a missing annotation. Skipping edit type...\n",
      "ayush - Batch 6, HIT 3 (ID 136) has 1 structure edits but -1 annotations. Likely a missing annotation. Skipping edit type...\n",
      "When processing sentence: vinayak - Batch 6, HIT 2 (ID 1). Caught error on: Could not process edit: {'type': 'substitution', 'id': 4, 'original_span': [(164, 171)], 'simplified_span': [(166, 175)], 'annotation': None}. Skipping...\n",
      "When processing sentence: vinayak - Batch 6, HIT 2 (ID 1). Caught error on: Could not process edit: {'type': 'substitution', 'id': 5, 'original_span': [(224, 226)], 'simplified_span': [(281, 284)], 'annotation': None}. Skipping...\n",
      "When processing sentence: vinayak - Batch 6, HIT 27 (ID 26). Caught error on: Could not process edit: {'type': 'insertion', 'id': 1, 'original_span': None, 'simplified_span': [(49, 54)], 'annotation': None}. Skipping...\n",
      "When processing sentence: vinayak - Batch 6, HIT 18 (ID 47). Caught error on: Could not process edit: {'type': 'deletion', 'id': 1, 'original_span': [(278, 282)], 'simplified_span': None, 'annotation': None}. Skipping...\n",
      "When processing sentence: vinayak - Batch 6, HIT 18 (ID 47). Caught error on: Could not process edit: {'type': 'insertion', 'id': 4, 'original_span': None, 'simplified_span': [(383, 387)], 'annotation': None}. Skipping...\n",
      "When processing sentence: vinayak - Batch 6, HIT 40 (ID 59). Caught error on: Could not process edit: {'type': 'insertion', 'id': 1, 'original_span': None, 'simplified_span': [(109, 112)], 'annotation': None}. Skipping...\n",
      "When processing sentence: vinayak - Batch 6, HIT 31 (ID 76). Caught error on: Could not process edit: {'type': 'insertion', 'id': 0, 'original_span': None, 'simplified_span': [(75, 78)], 'annotation': None}. Skipping...\n",
      "When processing sentence: vinayak - Batch 5, HIT 10 (ID 98). Caught error on: Could not process edit: {'type': 'deletion', 'id': 1, 'original_span': [(229, 233)], 'simplified_span': None, 'annotation': None}. Skipping...\n",
      "When processing sentence: vinayak - Batch 5, HIT 34 (ID 112). Caught error on: ''. Skipping...\n",
      "When processing sentence: rachel - Batch 6, HIT 34 (ID 131). Caught error on: ''. Skipping...\n"
     ]
    }
   ],
   "source": [
    "from utils.all import *\n",
    "\n",
    "data = load_data('../annotated', batch_num=[5, 6], preprocess=True)"
   ]
  },
  {
   "cell_type": "code",
   "execution_count": 71,
   "metadata": {},
   "outputs": [],
   "source": [
    "# Calculate the each score for all unique sentences\n",
    "# For each sentence, we have 5 generations and 3 annotations per generation\n",
    "# Of the 5 generations, 2 are ASSET human references, 1 is TurkCorpus human reference\n",
    "\n",
    "plt.rcParams[\"figure.figsize\"] = [5, 4]\n",
    "\n",
    "conditions = [\n",
    "    'quality_content', \n",
    "    'quality_syntax', \n",
    "    'quality_lexical', \n",
    "    'error_content', \n",
    "    'error_syntax', \n",
    "    'error_lexical', \n",
    "    'quality', \n",
    "    'error', \n",
    "    'all'\n",
    "]\n",
    "\n",
    "scores = []\n",
    "for sent in data:\n",
    "    our_score = sent['score']\n",
    "\n",
    "    score = {\n",
    "        'original': orig,\n",
    "        'simplified': prediction,\n",
    "        'errors': list(set([ann['error_type'] for ann in sent['processed_annotations'] if ann['error_type'] != None])),\n",
    "        'our_score': our_score\n",
    "    }\n",
    "\n",
    "    # The next goal is to calculate a bunch of variations on our score considering only\n",
    "    # certain dimensions of the metric\n",
    "    for condition in conditions:\n",
    "        score[f'our_score_{condition}'] = calculate_sentence_score(sent, get_params(condition))\n",
    "\n",
    "    scores += [score]"
   ]
  },
  {
   "cell_type": "code",
   "execution_count": 58,
   "metadata": {},
   "outputs": [
    {
     "name": "stdout",
     "output_type": "stream",
     "text": [
      "50.68% of sentences are error-less\n"
     ]
    },
    {
     "data": {
      "image/png": "[encoded data removed]",
      "text/plain": [
       "<Figure size 360x288 with 1 Axes>"
      ]
     },
     "metadata": {
      "needs_background": "light"
     },
     "output_type": "display_data"
    }
   ],
   "source": [
    "pts = [(score['our_score_quality'], -score['our_score_error']) for score in scores]\n",
    "print(f'{(100*sum([x[1] == 0 for x in pts]) / len(pts)):.2f}% of sentences are error-less')\n",
    "pts = [x for x in pts if x[1] > 0]\n",
    "\n",
    "plt.scatter([p[0] for p in pts], [p[1] for p in pts], c =\"red\", alpha=0.2)\n",
    "plt.xlabel('Our score (Only Quality)')\n",
    "plt.ylabel('Our score (Only Error, negated)')\n",
    "plt.title(f'Error vs. Quality for Error Sentences ({len(pts)} sentences)')\n",
    "plt.show()"
   ]
  },
  {
   "cell_type": "code",
   "execution_count": 61,
   "metadata": {},
   "outputs": [
    {
     "data": {
      "image/png": "[encoded data removed]",
      "text/plain": [
       "<Figure size 360x288 with 1 Axes>"
      ]
     },
     "metadata": {
      "needs_background": "light"
     },
     "output_type": "display_data"
    }
   ],
   "source": [
    "pts = [(score['our_score_quality_lexical'], score['our_score_quality_content']) for score in scores]\n",
    "plt.scatter([p[0] for p in pts], [p[1] for p in pts], c =\"red\", alpha=0.2)\n",
    "plt.xlabel('Our score (Only Lexical)')\n",
    "plt.ylabel('Our score (Only Content)')\n",
    "plt.title(f'Lexical vs. Content Quality ({len(pts)} sentences)')\n",
    "plt.show()"
   ]
  },
  {
   "cell_type": "code",
   "execution_count": 102,
   "metadata": {},
   "outputs": [
    {
     "data": {
      "image/png": "[encoded data removed]",
      "text/plain": [
       "<Figure size 432x288 with 1 Axes>"
      ]
     },
     "metadata": {
      "needs_background": "light"
     },
     "output_type": "display_data"
    }
   ],
   "source": [
    "class Tmp(Enum):\n",
    "    NO_ERROR = 'No Error'\n",
    "\n",
    "error_segmentation = {}\n",
    "for error in Error:\n",
    "    error_segmentation[error] = [s for s in scores if error in s['errors']]\n",
    "error_segmentation[Tmp.NO_ERROR] = [s for s in scores if len(s['errors']) == 0]\n",
    "\n",
    "pts = []\n",
    "pts += [(error, avg([s['our_score_quality'] for s in error_segmentation[error]])) for error in error_segmentation.keys()]\n",
    "pts = sorted([p for p in pts if p[1] != 0], key=lambda x: x[1])\n",
    "\n",
    "fig, ax = plt.subplots(figsize=(6, 4))\n",
    "ax.bar([p[0].value for p in pts], [p[1] for p in pts], width, color=[color_mapping[label] for label in edit_type_labels])\n",
    "plt.xticks(rotation=45, ha=\"right\")\n",
    "ax.set_xlabel('Error')\n",
    "ax.set_ylabel('Our Score')\n",
    "ax.set_title('Scoring for Error Sentences')\n",
    "plt.show()"
   ]
  },
  {
   "cell_type": "markdown",
   "metadata": {},
   "source": [
    "### Edit Reversing"
   ]
  },
  {
   "cell_type": "code",
   "execution_count": null,
   "metadata": {},
   "outputs": [],
   "source": [
    "# Problems with reversing edits:\n",
    "    # Overlapping edits (of different types)\n",
    "    # Deletions have no mapping to the original sentence\n",
    "    # Re-orders have no mapping to their original location"
   ]
  },
  {
   "cell_type": "code",
   "execution_count": null,
   "metadata": {},
   "outputs": [],
   "source": [
    "# My approach\n",
    "    # use generate_token_dict(s) to get a list of token spans for the input/output\n",
    "    # iterate through edits (in some predetermined priority order) to list the operations we perform on each word\n",
    "    # perform those operations to collapse the sentence"
   ]
  },
  {
   "cell_type": "code",
   "execution_count": null,
   "metadata": {},
   "outputs": [
    {
     "data": {
      "image/png": "[encoded data removed]",
      "text/plain": [
       "<Figure size 540x288 with 2 Axes>"
      ]
     },
     "metadata": {
      "needs_background": "light"
     },
     "output_type": "display_data"
    }
   ],
   "source": [
    "from graphs import *\n",
    "\n",
    "id_ = 40\n",
    "sents = [sent for sent in data if sent['id'] == id_]\n",
    "draw_agreement(sents)"
   ]
  }
 ],
 "metadata": {
  "kernelspec": {
   "display_name": "Python 3.9.0 64-bit",
   "language": "python",
   "name": "python3"
  },
  "language_info": {
   "codemirror_mode": {
    "name": "ipython",
    "version": 3
   },
   "file_extension": ".py",
   "mimetype": "text/x-python",
   "name": "python",
   "nbconvert_exporter": "python",
   "pygments_lexer": "ipython3",
   "version": "3.9.0"
  },
  "orig_nbformat": 4,
  "vscode": {
   "interpreter": {
    "hash": "81794d4967e6c3204c66dcd87b604927b115b27c00565d3d43f05ba2f3a2cb0d"
   }
  }
 },
 "nbformat": 4,
 "nbformat_minor": 2
}
