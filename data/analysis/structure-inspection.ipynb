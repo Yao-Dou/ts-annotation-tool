{
 "cells": [
  {
   "cell_type": "code",
   "execution_count": 1,
   "metadata": {},
   "outputs": [
    {
     "name": "stdout",
     "output_type": "stream",
     "text": [
      "Loading files: ['../annotated/batch_5_anton.json', '../annotated/batch_5_ayush.json', '../annotated/batch_5_kelly.json', '../annotated/batch_5_rachel.json', '../annotated/batch_5_vinayak.json', '../annotated/batch_5_vishnesh.json', '../annotated/batch_6_anton.json', '../annotated/batch_6_ayush.json', '../annotated/batch_6_kelly.json', '../annotated/batch_6_rachel.json', '../annotated/batch_6_vinayak.json', '../annotated/batch_6_vishnesh.json', '../annotated/batch_7_anton.json', '../annotated/batch_7_ayush.json', '../annotated/batch_7_kelly.json', '../annotated/batch_7_rachel.json', '../annotated/batch_7_vinayak.json', '../annotated/batch_7_vishnesh.json', '../annotated/batch_8_anton.json', '../annotated/batch_8_ayush.json', '../annotated/batch_8_kelly.json', '../annotated/batch_8_rachel.json', '../annotated/batch_8_vinayak.json', '../annotated/batch_8_vishnesh.json', '../annotated/batch_9_ayush.json', '../annotated/batch_9_kelly.json', '../annotated/batch_9_rachel.json', '../annotated/batch_9_vinayak.json', '../annotated/batch_9_vishnesh.json']\n",
      "\n",
      "Found users: {'kelly', 'rachel', 'ayush', 'vinayak', 'vishnesh', 'anton'}\n",
      "\n",
      "anton - Batch 5, HIT 38 (ID 23) has 2 deletion edits but 1 annotations. Likely a missing annotation. Skipping edit type...\n",
      "vinayak - Batch 6, HIT 16 (ID 27) has 1 insertion edits but -1 annotations. Likely a missing annotation. Skipping edit type...\n",
      "rachel - Batch 5, HIT 21 (ID 39) has 4 deletion edits but 3 annotations. Likely a missing annotation. Skipping edit type...\n",
      "rachel - Batch 5, HIT 21 (ID 39) has 4 insertion edits but 3 annotations. Likely a missing annotation. Skipping edit type...\n",
      "rachel - Batch 5, HIT 23 (ID 41) has 1 reorder edits but -1 annotations. Likely a missing annotation. Skipping edit type...\n",
      "vinayak - Batch 5, HIT 25 (ID 56) has 5 deletion edits but 3 annotations. Likely a missing annotation. Skipping edit type...\n",
      "vinayak - Batch 5, HIT 25 (ID 56) has 2 insertion edits but 1 annotations. Likely a missing annotation. Skipping edit type...\n",
      "vinayak - Batch 5, HIT 17 (ID 61) has 3 deletion edits but 2 annotations. Likely a missing annotation. Skipping edit type...\n",
      "kelly - Batch 7, HIT 47 (ID 160) has 1 structure edits but -1 annotations. Likely a missing annotation. Skipping edit type...\n",
      "vinayak - Batch 7, HIT 17 (ID 166) has 1 split edits but 0 annotations. Likely a missing annotation. Skipping edit type...\n",
      "rachel - Batch 8, HIT 35 (ID 245) has 2 structure edits but -1 annotations. Likely a missing annotation. Skipping edit type...\n",
      "rachel - Batch 8, HIT 37 (ID 247) has 5 structure edits but 4 annotations. Likely a missing annotation. Skipping edit type...\n",
      "rachel - Batch 8, HIT 38 (ID 249) has 1 insertion edits but -1 annotations. Likely a missing annotation. Skipping edit type...\n",
      "rachel - Batch 8, HIT 46 (ID 288) has 3 deletion edits but 2 annotations. Likely a missing annotation. Skipping edit type...\n",
      "kelly - Batch 9, HIT 17 (ID 321) has 2 split edits but 0 annotations. Likely a missing annotation. Skipping edit type...\n",
      "kelly - Batch 9, HIT 18 (ID 322) has 1 split edits but 0 annotations. Likely a missing annotation. Skipping edit type...\n",
      "rachel - Batch 9, HIT 31 (ID 340) has 1 split edits but 0 annotations. Likely a missing annotation. Skipping edit type...\n",
      "rachel - Batch 9, HIT 31 (ID 340) has 3 structure edits but 2 annotations. Likely a missing annotation. Skipping edit type...\n",
      "vinayak - Batch 9, HIT 49 (ID 341) has 2 structure edits but 1 annotations. Likely a missing annotation. Skipping edit type...\n",
      "vinayak - Batch 9, HIT 56 (ID 344) has 1 split edits but 0 annotations. Likely a missing annotation. Skipping edit type...\n",
      "rachel - Batch 9, HIT 48 (ID 347) has 4 deletion edits but 3 annotations. Likely a missing annotation. Skipping edit type...\n",
      "rachel - Batch 9, HIT 54 (ID 357) has 5 deletion edits but 4 annotations. Likely a missing annotation. Skipping edit type...\n",
      "kelly - Batch 9, HIT 5 (ID 363) has 1 split edits but 0 annotations. Likely a missing annotation. Skipping edit type...\n",
      "kelly - Batch 9, HIT 6 (ID 364) has 1 split edits but 0 annotations. Likely a missing annotation. Skipping edit type...\n",
      "kelly - Batch 9, HIT 7 (ID 365) has 1 split edits but 0 annotations. Likely a missing annotation. Skipping edit type...\n",
      "kelly - Batch 9, HIT 8 (ID 366) has 1 split edits but 0 annotations. Likely a missing annotation. Skipping edit type...\n",
      "kelly - Batch 9, HIT 9 (ID 367) has 1 split edits but 0 annotations. Likely a missing annotation. Skipping edit type...\n",
      "kelly - Batch 9, HIT 11 (ID 369) has 1 split edits but 0 annotations. Likely a missing annotation. Skipping edit type...\n",
      "kelly - Batch 9, HIT 12 (ID 370) has 2 split edits but 0 annotations. Likely a missing annotation. Skipping edit type...\n",
      "rachel - Batch 9, HIT 19 (ID 373) has 1 insertion edits but -1 annotations. Likely a missing annotation. Skipping edit type...\n",
      "kelly - Batch 9, HIT 33 (ID 375) has 1 split edits but 0 annotations. Likely a missing annotation. Skipping edit type...\n",
      "kelly - Batch 9, HIT 35 (ID 377) has 1 split edits but 0 annotations. Likely a missing annotation. Skipping edit type...\n",
      "kelly - Batch 9, HIT 36 (ID 378) has 1 split edits but 0 annotations. Likely a missing annotation. Skipping edit type...\n",
      "kelly - Batch 9, HIT 41 (ID 379) has 1 split edits but 0 annotations. Likely a missing annotation. Skipping edit type...\n",
      "kelly - Batch 9, HIT 42 (ID 380) has 1 split edits but 0 annotations. Likely a missing annotation. Skipping edit type...\n",
      "kelly - Batch 9, HIT 44 (ID 382) has 1 split edits but 0 annotations. Likely a missing annotation. Skipping edit type...\n",
      "rachel - Batch 9, HIT 3 (ID 393) has 1 insertion edits but -1 annotations. Likely a missing annotation. Skipping edit type...\n",
      "rachel - Batch 9, HIT 15 (ID 401) has 5 deletion edits but 4 annotations. Likely a missing annotation. Skipping edit type...\n",
      "rachel - Batch 9, HIT 16 (ID 402) has 2 deletion edits but -1 annotations. Likely a missing annotation. Skipping edit type...\n",
      "vinayak - Batch 9, HIT 36 (ID 403) has 1 split edits but 0 annotations. Likely a missing annotation. Skipping edit type...\n",
      "rachel - Batch 9, HIT 22 (ID 404) has 4 deletion edits but 2 annotations. Likely a missing annotation. Skipping edit type...\n",
      "When processing sentence: vinayak - Batch 6, HIT 2 (ID 1). Caught error on: Could not process edit: {'type': 'substitution', 'id': 4, 'original_span': [(164, 171)], 'simplified_span': [(166, 175)], 'annotation': None}. Skipping...\n",
      "When processing sentence: vinayak - Batch 6, HIT 2 (ID 1). Caught error on: Could not process edit: {'type': 'substitution', 'id': 5, 'original_span': [(224, 226)], 'simplified_span': [(281, 284)], 'annotation': None}. Skipping...\n",
      "When processing sentence: vinayak - Batch 6, HIT 27 (ID 15). Caught error on: Could not process edit: {'type': 'insertion', 'id': 1, 'original_span': None, 'simplified_span': [(49, 54)], 'annotation': None}. Skipping...\n",
      "When processing sentence: vinayak - Batch 6, HIT 40 (ID 35). Caught error on: Could not process edit: {'type': 'insertion', 'id': 1, 'original_span': None, 'simplified_span': [(109, 112)], 'annotation': None}. Skipping...\n",
      "When processing sentence: vinayak - Batch 6, HIT 31 (ID 46). Caught error on: Could not process edit: {'type': 'insertion', 'id': 0, 'original_span': None, 'simplified_span': [(75, 78)], 'annotation': None}. Skipping...\n",
      "When processing sentence: rachel - Batch 6, HIT 34 (ID 79). Caught error on: ''. Skipping...\n",
      "When processing sentence: ayush - Batch 7, HIT 9 (ID 140). Caught error on: ''. Skipping...\n",
      "When processing sentence: kelly - Batch 7, HIT 47 (ID 160). Caught error on: Could not process edit: {'type': 'substitution', 'id': 3, 'original_span': [(110, 120)], 'simplified_span': [(89, 93)], 'annotation': None}. Skipping...\n",
      "When processing sentence: vinayak - Batch 7, HIT 15 (ID 165). Caught error on: Could not process edit: {'type': 'insertion', 'id': 0, 'original_span': None, 'simplified_span': [(0, 1)], 'annotation': None}. Skipping...\n",
      "When processing sentence: vinayak - Batch 7, HIT 17 (ID 166). Caught error on: Could not process edit: {'type': 'insertion', 'id': 0, 'original_span': None, 'simplified_span': [(73, 86)], 'annotation': None}. Skipping...\n",
      "When processing sentence: vinayak - Batch 8, HIT 4 (ID 169). Caught error on: Could not process edit: {'type': 'insertion', 'id': 0, 'original_span': None, 'simplified_span': [(100, 102)], 'annotation': None}. Skipping...\n",
      "When processing sentence: vinayak - Batch 7, HIT 10 (ID 176). Caught error on: Could not process edit: {'type': 'insertion', 'id': 2, 'original_span': None, 'simplified_span': [(190, 209)], 'annotation': None}. Skipping...\n",
      "When processing sentence: rachel - Batch 7, HIT 43 (ID 202). Caught error on: ''. Skipping...\n",
      "When processing sentence: rachel - Batch 8, HIT 19 (ID 230). Caught error on: Could not process edit: {'type': 'insertion', 'id': 1, 'original_span': None, 'simplified_span': [(137, 143)], 'annotation': None}. Skipping...\n",
      "When processing sentence: rachel - Batch 8, HIT 22 (ID 240). Caught error on: Could not process edit: {'type': 'deletion', 'id': 1, 'original_span': [(254, 269)], 'simplified_span': None, 'annotation': None}. Skipping...\n",
      "When processing sentence: rachel - Batch 8, HIT 25 (ID 242). Caught error on: Could not process edit: {'type': 'deletion', 'id': 1, 'original_span': [(222, 235)], 'simplified_span': None, 'annotation': None}. Skipping...\n",
      "When processing sentence: rachel - Batch 8, HIT 35 (ID 245). Caught error on: Could not process edit: {'type': 'deletion', 'id': 1, 'original_span': [(20, 23)], 'simplified_span': None, 'annotation': None}. Skipping...\n",
      "When processing sentence: rachel - Batch 8, HIT 40 (ID 246). Caught error on: Could not process edit: {'type': 'insertion', 'id': 0, 'original_span': None, 'simplified_span': [(48, 51)], 'annotation': None}. Skipping...\n",
      "When processing sentence: rachel - Batch 8, HIT 37 (ID 247). Caught error on: Could not process edit: {'type': 'split', 'id': 1, 'original_span': [(156, 159)], 'simplified_span': [(151, 153)], 'annotation': None, 'composite_edits': []}. Skipping...\n",
      "When processing sentence: rachel - Batch 8, HIT 36 (ID 248). Caught error on: Could not process edit: {'type': 'deletion', 'id': 1, 'original_span': [(180, 184)], 'simplified_span': None, 'annotation': None}. Skipping...\n",
      "When processing sentence: rachel - Batch 8, HIT 53 (ID 253). Caught error on: Could not process edit: {'type': 'insertion', 'id': 0, 'original_span': None, 'simplified_span': [(65, 78)], 'annotation': None}. Skipping...\n",
      "When processing sentence: rachel - Batch 8, HIT 50 (ID 256). Caught error on: Could not process edit: {'type': 'insertion', 'id': 0, 'original_span': None, 'simplified_span': [(0, 2)], 'annotation': None}. Skipping...\n",
      "When processing sentence: vinayak - Batch 8, HIT 19 (ID 270). Caught error on: Could not process edit: {'type': 'deletion', 'id': 3, 'original_span': [(209, 213)], 'simplified_span': None, 'annotation': None}. Skipping...\n",
      "When processing sentence: rachel - Batch 8, HIT 46 (ID 288). Caught error on: Could not process edit: {'type': 'split', 'id': 0, 'original_span': [(143, 148)], 'simplified_span': [(62, 64), (65, 67)], 'annotation': None, 'composite_edits': []}. Skipping...\n",
      "When processing sentence: vinayak - Batch 9, HIT 56 (ID 344). Caught error on: Could not process edit: {'type': 'insertion', 'id': 0, 'original_span': None, 'simplified_span': [(70, 83)], 'annotation': None}. Skipping...\n",
      "When processing sentence: rachel - Batch 9, HIT 51 (ID 354). Caught error on: Could not process edit: {'type': 'structure', 'id': 0, 'original_span': [(164, 170)], 'simplified_span': None, 'annotation': None, 'composite_edits': []}. Skipping...\n",
      "When processing sentence: vinayak - Batch 9, HIT 1 (ID 360). Caught error on: Could not process edit: {'type': 'insertion', 'id': 1, 'original_span': None, 'simplified_span': [(61, 83)], 'annotation': None}. Skipping...\n",
      "When processing sentence: vinayak - Batch 9, HIT 10 (ID 366). Caught error on: Could not process edit: {'type': 'insertion', 'id': 0, 'original_span': None, 'simplified_span': [(64, 71)], 'annotation': None}. Skipping...\n",
      "When processing sentence: rachel - Batch 9, HIT 34 (ID 381). Caught error on: Could not process edit: {'type': 'deletion', 'id': 1, 'original_span': [(127, 135)], 'simplified_span': None, 'annotation': None}. Skipping...\n",
      "When processing sentence: rachel - Batch 9, HIT 57 (ID 411). Caught error on: Could not process edit: {'type': 'split', 'id': 0, 'original_span': None, 'simplified_span': [(54, 56)], 'annotation': None, 'composite_edits': []}. Skipping...\n"
     ]
    }
   ],
   "source": [
    "from utils.all import *\n",
    "\n",
    "# There's also 'tutorial' and 'preliminary' data\n",
    "data = load_data('../annotated', batch_num=[5, 6, 7, 8, 9], preprocess=True)\n",
    "systems = set([x['system'] for x in data])\n",
    "edit_types = set(data[0]['annotations'].keys())"
   ]
  },
  {
   "cell_type": "code",
   "execution_count": 31,
   "metadata": {},
   "outputs": [],
   "source": [
    "blank = {\n",
    "    'id': 0,\n",
    "    'original': '',\n",
    "    'original_spans': [],\n",
    "    'simplified': '',\n",
    "    'simplified_spans': [],\n",
    "    'annotations': [],\n",
    "    'system': 'blank',\n",
    "}"
   ]
  },
  {
   "cell_type": "code",
   "execution_count": 37,
   "metadata": {},
   "outputs": [
    {
     "name": "stdout",
     "output_type": "stream",
     "text": [
      "6 sentences are not fully annotated\n"
     ]
    }
   ],
   "source": [
    "ids = set([sent['id'] for sent in data])\n",
    "\n",
    "# Limit to first 20 unique sentences\n",
    "ids = list(ids)[:20*7]\n",
    "\n",
    "not_full = 0\n",
    "set1, set2, set3 = [], [], []\n",
    "for id in ids:\n",
    "    sents = [sent for sent in data if sent['id'] == id]\n",
    "    \n",
    "    if len(sents) != 3:\n",
    "        not_full += 1\n",
    "\n",
    "    for i in range(3):\n",
    "        if len(sents) <= i:\n",
    "            # Add blank sentence\n",
    "            sents += [blank]\n",
    "\n",
    "    set1 += [sents[0]]\n",
    "    set2 += [sents[1]]\n",
    "    set3 += [sents[2]]\n",
    "\n",
    "print(f'{not_full} sentences are not fully annotated')"
   ]
  },
  {
   "cell_type": "code",
   "execution_count": 40,
   "metadata": {},
   "outputs": [],
   "source": [
    "for idx, set_ in enumerate([set1, set2, set3]):\n",
    "    dmp = []\n",
    "    for i, sent in enumerate(set_):\n",
    "        dmp += [{\n",
    "            'id': i,\n",
    "            'original': sent['original'],\n",
    "            'original_spans': sent['original_spans'],\n",
    "            'simplified': sent['simplified'],\n",
    "            'simplified_spans': sent['simplified_spans'],\n",
    "            'system': sent['system'],\n",
    "            'annotations': sent['annotations'],\n",
    "        }]\n",
    "    with open(f'st-inspect/set_{idx}.json', 'w') as f:\n",
    "        json.dump(dmp, f, indent=4)"
   ]
  }
 ],
 "metadata": {
  "kernelspec": {
   "display_name": "Python 3",
   "language": "python",
   "name": "python3"
  },
  "language_info": {
   "codemirror_mode": {
    "name": "ipython",
    "version": 3
   },
   "file_extension": ".py",
   "mimetype": "text/x-python",
   "name": "python",
   "nbconvert_exporter": "python",
   "pygments_lexer": "ipython3",
   "version": "3.9.0"
  },
  "orig_nbformat": 4,
  "vscode": {
   "interpreter": {
    "hash": "81794d4967e6c3204c66dcd87b604927b115b27c00565d3d43f05ba2f3a2cb0d"
   }
  }
 },
 "nbformat": 4,
 "nbformat_minor": 2
}
