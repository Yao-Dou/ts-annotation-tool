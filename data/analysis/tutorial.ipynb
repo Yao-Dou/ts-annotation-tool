{
 "cells": [
  {
   "cell_type": "code",
   "execution_count": 27,
   "metadata": {},
   "outputs": [
    {
     "name": "stdout",
     "output_type": "stream",
     "text": [
      "Loading files: ['../annotated/batch_5_anton.json', '../annotated/batch_5_ayush.json', '../annotated/batch_5_kelly.json', '../annotated/batch_5_rachel.json', '../annotated/batch_5_vinayak.json', '../annotated/batch_5_vishnesh.json', '../annotated/batch_6_anton.json', '../annotated/batch_6_ayush.json', '../annotated/batch_6_kelly.json', '../annotated/batch_6_rachel.json', '../annotated/batch_6_vinayak.json', '../annotated/batch_6_vishnesh.json']\n",
      "\n",
      "Found users: {'rachel', 'vinayak', 'ayush', 'anton', 'kelly', 'vishnesh'}\n",
      "\n",
      "anton - Batch 5, HIT 38 (ID 37) has 2 deletion edits but 1 annotations. Likely a missing annotation. Skipping edit type...\n",
      "vinayak - Batch 6, HIT 16 (ID 45) has 1 insertion edits but -1 annotations. Likely a missing annotation. Skipping edit type...\n",
      "rachel - Batch 5, HIT 21 (ID 65) has 4 deletion edits but 3 annotations. Likely a missing annotation. Skipping edit type...\n",
      "rachel - Batch 5, HIT 21 (ID 65) has 4 insertion edits but 3 annotations. Likely a missing annotation. Skipping edit type...\n",
      "rachel - Batch 5, HIT 23 (ID 67) has 1 reorder edits but -1 annotations. Likely a missing annotation. Skipping edit type...\n",
      "vinayak - Batch 5, HIT 25 (ID 92) has 5 deletion edits but 3 annotations. Likely a missing annotation. Skipping edit type...\n",
      "vinayak - Batch 5, HIT 25 (ID 92) has 2 insertion edits but 1 annotations. Likely a missing annotation. Skipping edit type...\n",
      "vinayak - Batch 5, HIT 17 (ID 100) has 3 deletion edits but 2 annotations. Likely a missing annotation. Skipping edit type...\n",
      "ayush - Batch 6, HIT 3 (ID 136) has 1 structure edits but -1 annotations. Likely a missing annotation. Skipping edit type...\n",
      "When processing sentence: vinayak - Batch 6, HIT 2 (ID 1). Caught error on: Could not process edit: {'type': 'substitution', 'id': 4, 'original_span': [(164, 171)], 'simplified_span': [(166, 175)], 'annotation': None}. Skipping...\n",
      "When processing sentence: vinayak - Batch 6, HIT 2 (ID 1). Caught error on: Could not process edit: {'type': 'substitution', 'id': 5, 'original_span': [(224, 226)], 'simplified_span': [(281, 284)], 'annotation': None}. Skipping...\n",
      "When processing sentence: vinayak - Batch 6, HIT 27 (ID 26). Caught error on: Could not process edit: {'type': 'insertion', 'id': 1, 'original_span': None, 'simplified_span': [(49, 54)], 'annotation': None}. Skipping...\n",
      "When processing sentence: vinayak - Batch 6, HIT 18 (ID 47). Caught error on: Could not process edit: {'type': 'deletion', 'id': 1, 'original_span': [(278, 282)], 'simplified_span': None, 'annotation': None}. Skipping...\n",
      "When processing sentence: vinayak - Batch 6, HIT 18 (ID 47). Caught error on: Could not process edit: {'type': 'insertion', 'id': 4, 'original_span': None, 'simplified_span': [(383, 387)], 'annotation': None}. Skipping...\n",
      "When processing sentence: vinayak - Batch 6, HIT 40 (ID 59). Caught error on: Could not process edit: {'type': 'insertion', 'id': 1, 'original_span': None, 'simplified_span': [(109, 112)], 'annotation': None}. Skipping...\n",
      "When processing sentence: vinayak - Batch 6, HIT 31 (ID 76). Caught error on: Could not process edit: {'type': 'insertion', 'id': 0, 'original_span': None, 'simplified_span': [(75, 78)], 'annotation': None}. Skipping...\n",
      "When processing sentence: vinayak - Batch 5, HIT 10 (ID 98). Caught error on: Could not process edit: {'type': 'deletion', 'id': 1, 'original_span': [(229, 233)], 'simplified_span': None, 'annotation': None}. Skipping...\n",
      "When processing sentence: vinayak - Batch 5, HIT 34 (ID 112). Caught error on: ''. Skipping...\n",
      "When processing sentence: rachel - Batch 6, HIT 34 (ID 131). Caught error on: ''. Skipping...\n"
     ]
    }
   ],
   "source": [
    "from utils.all import *\n",
    "\n",
    "# 'batch_num' corresponds to the batches in the annotated folder\n",
    "# 'preprocess' adds more data to each sentence, including SimpEval annotations\n",
    "# The errors printed at the bottom are primarily because annotators will select a span\n",
    "# but don't annotate that span\n",
    "data = load_data('../annotated', batch_num=[5, 6], preprocess=True)"
   ]
  },
  {
   "cell_type": "code",
   "execution_count": 28,
   "metadata": {},
   "outputs": [
    {
     "data": {
      "text/plain": [
       "'anton - Batch 5, HIT 1 (ID 0)'"
      ]
     },
     "execution_count": 28,
     "metadata": {},
     "output_type": "execute_result"
    }
   ],
   "source": [
    "# This is a bit confusing, but each unique simplification has an ID, the three annotations\n",
    "# corresponding to that simplification will have the same id, but they will have different\n",
    "# 'user', 'batch_num' and 'hit_id' values corresponding to where they were annotated. This\n",
    "# function can help find the sentence in the annotated data\n",
    "sent = data[0]\n",
    "get_sent_info(sent)"
   ]
  },
  {
   "cell_type": "code",
   "execution_count": 29,
   "metadata": {},
   "outputs": [
    {
     "data": {
      "text/plain": [
       "dict_keys(['id', 'original', 'original_spans', 'simplified', 'simplified_spans', 'system', 'annotations', 'user', 'batch', 'hit_id', 'edits', 'processed_annotations', 'simpeval_scores', 'da_scores', 'likert_scores', 'score'])"
      ]
     },
     "execution_count": 29,
     "metadata": {},
     "output_type": "execute_result"
    }
   ],
   "source": [
    "# The 'data' array and the 'sent' dict contain all information. In the below,\n",
    "# we add 'edits' and 'processed_annotations' when we preprocess to convert the raw output\n",
    "# to a usable format. Additionally, our sentence-level score is in 'score'. All three simpeval\n",
    "# scores are also included\n",
    "sent.keys()"
   ]
  },
  {
   "cell_type": "code",
   "execution_count": 30,
   "metadata": {},
   "outputs": [
    {
     "name": "stdout",
     "output_type": "stream",
     "text": [
      "ANTON - HIT 3: no change\n",
      "\n",
      "\n",
      "AYUSH - HIT 105: Annotating this was kind of hard, not sure how to show concatenation with the current taxonomy\n",
      "\n",
      "ANTON - HIT 108: \n",
      "\n"
     ]
    }
   ],
   "source": [
    "# Print spans with comments\n",
    "get_comments(data)"
   ]
  },
  {
   "cell_type": "code",
   "execution_count": 31,
   "metadata": {},
   "outputs": [],
   "source": [
    "# The systems we looked at\n",
    "systems = set([x['system'] for x in data])\n",
    "\n",
    "# Edit types\n",
    "edit_types = set(data[0]['annotations'].keys())"
   ]
  },
  {
   "cell_type": "code",
   "execution_count": 32,
   "metadata": {},
   "outputs": [],
   "source": [
    "# Example: Searches for coreference errors\n",
    "deletions = [process_annotation(k) for k in [i for j in [[x for x in sent['edits'] if x['type'] == 'deletion'] for sent in data] for i in j]]\n",
    "for d in deletions:\n",
    "    if d['error_type'] == Error.COREFERENCE:\n",
    "        print(d)"
   ]
  },
  {
   "cell_type": "code",
   "execution_count": 33,
   "metadata": {},
   "outputs": [
    {
     "data": {
      "text/plain": [
       "[{'edit_type': 'deletion',\n",
       "  'id': 0,\n",
       "  'information_impact': <Information.LESS: 'Generalization'>,\n",
       "  'type': <Quality.QUALITY: 'No Error'>,\n",
       "  'family': <Family.CONTENT: 'Content'>,\n",
       "  'grammar_error': False,\n",
       "  'error_type': None,\n",
       "  'rating': 3,\n",
       "  'size': 0.008310249307479225,\n",
       "  'reorder_level': None,\n",
       "  'score': 0.970747553725849},\n",
       " {'edit_type': 'deletion',\n",
       "  'id': 1,\n",
       "  'information_impact': <Information.LESS: 'Generalization'>,\n",
       "  'type': <Quality.QUALITY: 'No Error'>,\n",
       "  'family': <Family.CONTENT: 'Content'>,\n",
       "  'grammar_error': False,\n",
       "  'error_type': None,\n",
       "  'rating': 2,\n",
       "  'size': 0.030470914127423823,\n",
       "  'reorder_level': None,\n",
       "  'score': 0.8085959365626684}]"
      ]
     },
     "execution_count": 33,
     "metadata": {},
     "output_type": "execute_result"
    }
   ],
   "source": [
    "# Example: Some of the annotations for sentence 0\n",
    "data[0]['processed_annotations'][:2]"
   ]
  },
  {
   "cell_type": "code",
   "execution_count": 34,
   "metadata": {},
   "outputs": [
    {
     "data": {
      "text/plain": [
       "[{'type': 'deletion',\n",
       "  'id': 0,\n",
       "  'original_span': [(92, 95)],\n",
       "  'simplified_span': None,\n",
       "  'annotation': ['perfect', 'no', 'no']},\n",
       " {'type': 'deletion',\n",
       "  'id': 1,\n",
       "  'original_span': [(113, 124)],\n",
       "  'simplified_span': None,\n",
       "  'annotation': ['good', 'no', 'no']}]"
      ]
     },
     "execution_count": 34,
     "metadata": {},
     "output_type": "execute_result"
    }
   ],
   "source": [
    "# Example: Some of the edits for sentence 0\n",
    "data[0]['edits'][:2]"
   ]
  },
  {
   "cell_type": "code",
   "execution_count": 35,
   "metadata": {},
   "outputs": [],
   "source": [
    "# Example: Agreement between annotators on edit types\n",
    "# for edit_type in ['deletion', 'insertion', 'reorder', 'substitution']:\n",
    "#     print(f'{edit_type} -> {calculate_agreement(data, edit_type, drop_no_spans=True)}')"
   ]
  },
  {
   "cell_type": "code",
   "execution_count": 36,
   "metadata": {},
   "outputs": [],
   "source": [
    "# TODO: trivial edits on substitutions aren't being processed correctly\n",
    "# for sent in data:\n",
    "#     for ann in sent['processed_annotations']:\n",
    "#         if ann['type'] == Quality.TRIVIAL and ann['rating'] == None:\n",
    "#             print(sent['id'])\n",
    "#             print([e for e in sent['edits'] if e['type'] == 'substitution'])\n",
    "#             print(ann)\n",
    "#             print(sent['system'])\n",
    "#             print(sent['system'])\n",
    "#             print(sent['user'])"
   ]
  },
  {
   "cell_type": "code",
   "execution_count": 37,
   "metadata": {},
   "outputs": [
    {
     "name": "stdout",
     "output_type": "stream",
     "text": [
      "\n",
      "Repetition\n",
      "rachel - Batch 5, HIT 6 (ID 9) \t Human 1\n",
      "vinayak - Batch 6, HIT 22 (ID 21) \t Human 2\n",
      "vinayak - Batch 6, HIT 17 (ID 46) \t Human 2\n",
      "vinayak - Batch 6, HIT 8 (ID 69) \t MUSS\n",
      "rachel - Batch 5, HIT 18 (ID 76) \t MUSS\n",
      "vishnesh - Batch 5, HIT 39 (ID 76) \t MUSS\n",
      "vinayak - Batch 6, HIT 33 (ID 77) \t Human 1\n",
      "rachel - Batch 5, HIT 34 (ID 87) \t MUSS\n",
      "rachel - Batch 5, HIT 38 (ID 91) \t MUSS\n",
      "ayush - Batch 6, HIT 17 (ID 105) \t Human 2\n",
      "anton - Batch 6, HIT 29 (ID 127) \t MUSS\n",
      "ayush - Batch 6, HIT 28 (ID 127) \t MUSS\n",
      "rachel - Batch 6, HIT 21 (ID 127) \t MUSS\n",
      "ayush - Batch 6, HIT 29 (ID 128) \t Human 1\n",
      "rachel - Batch 6, HIT 23 (ID 128) \t Human 1\n",
      "ayush - Batch 6, HIT 4 (ID 137) \t MUSS\n",
      "kelly - Batch 6, HIT 9 (ID 137) \t MUSS\n",
      "vishnesh - Batch 6, HIT 19 (ID 137) \t MUSS\n",
      "rachel - Batch 6, HIT 16 (ID 141) \t GPT-Few\n",
      "\n",
      "Contradiction\n",
      "vinayak - Batch 6, HIT 4 (ID 4) \t MUSS\n",
      "rachel - Batch 5, HIT 8 (ID 5) \t GPT-Zero\n",
      "rachel - Batch 5, HIT 26 (ID 79) \t Human 1\n",
      "ayush - Batch 6, HIT 7 (ID 95) \t Human 2\n",
      "\n",
      "Hallucination\n",
      "\n",
      "Irrelevant\n",
      "anton - Batch 5, HIT 5 (ID 4) \t MUSS\n",
      "anton - Batch 5, HIT 13 (ID 12) \t MUSS\n",
      "kelly - Batch 5, HIT 13 (ID 12) \t MUSS\n",
      "kelly - Batch 5, HIT 13 (ID 12) \t MUSS\n",
      "anton - Batch 5, HIT 25 (ID 24) \t MUSS\n",
      "ayush - Batch 5, HIT 24 (ID 24) \t MUSS\n",
      "anton - Batch 5, HIT 29 (ID 28) \t MUSS\n",
      "rachel - Batch 5, HIT 1 (ID 69) \t MUSS\n",
      "anton - Batch 6, HIT 3 (ID 84) \t GPT-Zero\n",
      "rachel - Batch 5, HIT 37 (ID 90) \t Human 2\n",
      "anton - Batch 6, HIT 13 (ID 106) \t MUSS\n",
      "rachel - Batch 6, HIT 3 (ID 111) \t Human 1\n",
      "anton - Batch 6, HIT 16 (ID 114) \t MUSS\n",
      "kelly - Batch 6, HIT 16 (ID 114) \t MUSS\n",
      "anton - Batch 6, HIT 33 (ID 131) \t MUSS\n",
      "vishnesh - Batch 6, HIT 19 (ID 137) \t MUSS\n",
      "rachel - Batch 6, HIT 30 (ID 144) \t MUSS\n",
      "rachel - Batch 6, HIT 29 (ID 148) \t GPT-Few\n"
     ]
    }
   ],
   "source": [
    "# Prints the sentences where annotators identified insertion errors\n",
    "for error in [Error.REPETITION, Error.CONTRADICTION, Error.HALLUCINATION, Error.IRRELEVANT]:\n",
    "    print(f'\\n{error.value}')\n",
    "    for sent in data:\n",
    "        for ann in sent['processed_annotations']:\n",
    "            if ann['error_type'] == error:\n",
    "                print(f'{get_sent_info(sent)} \\t {system_name_mapping[sent[\"system\"]]}')"
   ]
  },
  {
   "cell_type": "code",
   "execution_count": 38,
   "metadata": {},
   "outputs": [
    {
     "data": {
      "text/plain": [
       "{(0, 3): {},\n",
       " (4, 16): {},\n",
       " (17, 19): {},\n",
       " (20, 30): {},\n",
       " (31, 38): {},\n",
       " (39, 41): {},\n",
       " (42, 43): {},\n",
       " (44, 51): {},\n",
       " (52, 55): {},\n",
       " (56, 58): {},\n",
       " (59, 72): {},\n",
       " (73, 80): {},\n",
       " (81, 91): {},\n",
       " (92, 95): {},\n",
       " (96, 104): {},\n",
       " (105, 112): {},\n",
       " (113, 115): {},\n",
       " (116, 124): {},\n",
       " (125, 129): {},\n",
       " (130, 133): {},\n",
       " (134, 143): {},\n",
       " (144, 154): {},\n",
       " (155, 157): {},\n",
       " (158, 163): {},\n",
       " (164, 171): {},\n",
       " (172, 181): {},\n",
       " (182, 184): {},\n",
       " (185, 188): {},\n",
       " (189, 197): {},\n",
       " (198, 201): {},\n",
       " (202, 207): {},\n",
       " (208, 214): {},\n",
       " (215, 223): {},\n",
       " (224, 226): {},\n",
       " (227, 228): {},\n",
       " (229, 234): {},\n",
       " (235, 244): {},\n",
       " (245, 247): {},\n",
       " (248, 261): {},\n",
       " (262, 264): {},\n",
       " (265, 268): {},\n",
       " (269, 278): {},\n",
       " (279, 282): {},\n",
       " (283, 286): {},\n",
       " (287, 291): {},\n",
       " (292, 299): {},\n",
       " (300, 310): {},\n",
       " (311, 313): {},\n",
       " (314, 317): {},\n",
       " (318, 322): {},\n",
       " (323, 325): {},\n",
       " (326, 329): {},\n",
       " (330, 334): {},\n",
       " (335, 342): {},\n",
       " (343, 346): {},\n",
       " (347, 351): {},\n",
       " (352, 361): {}}"
      ]
     },
     "execution_count": 38,
     "metadata": {},
     "output_type": "execute_result"
    }
   ],
   "source": [
    "# You can pass in 'original' or 'simplified'\n",
    "sent = data[0]\n",
    "generate_token_dict(sent['original'])"
   ]
  },
  {
   "cell_type": "code",
   "execution_count": 39,
   "metadata": {},
   "outputs": [
    {
     "data": {
      "text/plain": [
       "{(4, 16): {'structure': 1},\n",
       " (39, 41): {'structure': 1},\n",
       " (42, 43): {'structure': 1},\n",
       " (52, 55): {'structure': 1},\n",
       " (56, 58): {'structure': 1},\n",
       " (81, 91): {'split': 1},\n",
       " (92, 95): {'deletion': 1},\n",
       " (113, 115): {'deletion': 1},\n",
       " (116, 124): {'deletion': 1},\n",
       " (229, 234): {'substitution': 1},\n",
       " (235, 244): {'substitution': 1},\n",
       " (245, 247): {'substitution': 1},\n",
       " (248, 261): {'substitution': 1},\n",
       " (287, 291): {'deletion': 1},\n",
       " (292, 299): {'deletion': 1},\n",
       " (300, 310): {'deletion': 1},\n",
       " (318, 322): {'substitution': 1}}"
      ]
     },
     "execution_count": 39,
     "metadata": {},
     "output_type": "execute_result"
    }
   ],
   "source": [
    "# 'remove none' removes spans which are not annotated\n",
    "# 'collapse composite' provides the underlying spans for structure/split edits\n",
    "\n",
    "get_annotations_per_token([sent], 'original', remove_none=True, collapse_composite=False)"
   ]
  },
  {
   "cell_type": "code",
   "execution_count": 40,
   "metadata": {},
   "outputs": [
    {
     "data": {
      "text/plain": [
       "{(4, 16): {'substitution': 1},\n",
       " (39, 41): {'substitution': 1},\n",
       " (42, 43): {'substitution': 1},\n",
       " (52, 55): {'deletion': 1},\n",
       " (56, 58): {'deletion': 1},\n",
       " (81, 91): {'substitution': 1},\n",
       " (92, 95): {'deletion': 1},\n",
       " (113, 115): {'deletion': 1},\n",
       " (116, 124): {'deletion': 1},\n",
       " (229, 234): {'substitution': 1},\n",
       " (235, 244): {'substitution': 1},\n",
       " (245, 247): {'substitution': 1},\n",
       " (248, 261): {'substitution': 1},\n",
       " (287, 291): {'deletion': 1},\n",
       " (292, 299): {'deletion': 1},\n",
       " (300, 310): {'deletion': 1},\n",
       " (318, 322): {'substitution': 1}}"
      ]
     },
     "execution_count": 40,
     "metadata": {},
     "output_type": "execute_result"
    }
   ],
   "source": [
    "get_annotations_per_token([sent], 'original', remove_none=True, collapse_composite=True)"
   ]
  },
  {
   "cell_type": "code",
   "execution_count": 41,
   "metadata": {},
   "outputs": [
    {
     "data": {
      "text/plain": [
       "{(0, 3): {'reorder': 2, 'substitution': 1},\n",
       " (4, 16): {'reorder': 2, 'substitution': 1},\n",
       " (17, 19): {'reorder': 2, 'substitution': 1},\n",
       " (20, 30): {'reorder': 1, 'substitution': 1},\n",
       " (31, 38): {'reorder': 1, 'substitution': 1},\n",
       " (39, 41): {'substitution': 2},\n",
       " (44, 51): {'substitution': 2},\n",
       " (52, 55): {'substitution': 2},\n",
       " (81, 91): {'split': 2, 'structure': 1},\n",
       " (92, 95): {'deletion': 2},\n",
       " (130, 133): {'substitution': 2, 'structure': 2},\n",
       " (134, 143): {'substitution': 2, 'structure': 2},\n",
       " (144, 154): {'substitution': 2, 'structure': 2},\n",
       " (164, 171): {'substitution': 1, 'deletion': 1},\n",
       " (172, 181): {'reorder': 1},\n",
       " (182, 184): {'substitution': 2, 'reorder': 1},\n",
       " (185, 188): {'reorder': 1},\n",
       " (189, 197): {'reorder': 1},\n",
       " (198, 201): {'reorder': 1},\n",
       " (202, 207): {'reorder': 1},\n",
       " (208, 214): {'reorder': 1},\n",
       " (215, 223): {'reorder': 1},\n",
       " (224, 226): {'substitution': 1, 'structure': 1},\n",
       " (227, 228): {'structure': 1},\n",
       " (283, 286): {'structure': 1, 'deletion': 1},\n",
       " (287, 291): {'structure': 1, 'deletion': 1},\n",
       " (292, 299): {'substitution': 1, 'structure': 1, 'deletion': 1},\n",
       " (300, 310): {'substitution': 1, 'structure': 1, 'deletion': 1},\n",
       " (311, 313): {'substitution': 1, 'structure': 1, 'deletion': 1},\n",
       " (314, 317): {'substitution': 1, 'structure': 1, 'deletion': 1},\n",
       " (318, 322): {'substitution': 1, 'structure': 1, 'deletion': 1},\n",
       " (323, 325): {'substitution': 1, 'structure': 1, 'deletion': 1},\n",
       " (326, 329): {'substitution': 1, 'structure': 1, 'deletion': 1},\n",
       " (330, 334): {'substitution': 1, 'structure': 1, 'deletion': 1},\n",
       " (335, 342): {'substitution': 1, 'structure': 1, 'deletion': 1},\n",
       " (343, 346): {'structure': 1, 'deletion': 1},\n",
       " (347, 351): {'structure': 1, 'deletion': 1},\n",
       " (352, 361): {'structure': 1, 'deletion': 1}}"
      ]
     },
     "execution_count": 41,
     "metadata": {},
     "output_type": "execute_result"
    }
   ],
   "source": [
    "# You can also pass in multiple annotations of the same sentence. This is what\n",
    "# I use the calculate token agreement\n",
    "mult_sent = [sent for sent in data if sent['id'] == 1]\n",
    "get_annotations_per_token(mult_sent, 'original')"
   ]
  },
  {
   "cell_type": "code",
   "execution_count": 42,
   "metadata": {},
   "outputs": [
    {
     "data": {
      "image/png": "[encoded data removed]",
      "text/plain": [
       "<Figure size 432x288 with 2 Axes>"
      ]
     },
     "metadata": {
      "needs_background": "light"
     },
     "output_type": "display_data"
    }
   ],
   "source": [
    "# You can also vizualize the agreement with, this may be helpful to \n",
    "# visualize predictions or something\n",
    "draw_agreement(mult_sent)"
   ]
  }
 ],
 "metadata": {
  "kernelspec": {
   "display_name": "Python 3.10.8 64-bit",
   "language": "python",
   "name": "python3"
  },
  "language_info": {
   "codemirror_mode": {
    "name": "ipython",
    "version": 3
   },
   "file_extension": ".py",
   "mimetype": "text/x-python",
   "name": "python",
   "nbconvert_exporter": "python",
   "pygments_lexer": "ipython3",
   "version": "3.10.8"
  },
  "orig_nbformat": 4,
  "vscode": {
   "interpreter": {
    "hash": "aee8b7b246df8f9039afb4144a1f6fd8d2ca17a180786b69acc140d282b71a49"
   }
  }
 },
 "nbformat": 4,
 "nbformat_minor": 2
}
