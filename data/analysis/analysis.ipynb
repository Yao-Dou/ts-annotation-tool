{
 "cells": [
  {
   "cell_type": "code",
   "execution_count": 40,
   "metadata": {},
   "outputs": [],
   "source": [
    "import json\n",
    "import matplotlib.pyplot as plt\n",
    "from dataloader import *\n",
    "\n",
    "# Load David's first 30 sentences\n",
    "with open('../preliminary/david-first-thirty-sent.json') as f:\n",
    "    data = json.load(f)[:30]"
   ]
  },
  {
   "cell_type": "code",
   "execution_count": 41,
   "metadata": {},
   "outputs": [],
   "source": [
    "# The systems we looked at\n",
    "systems = set([x['system'] for x in data])\n",
    "\n",
    "# Edit types\n",
    "edit_types = set(data[0]['annotations'].keys())"
   ]
  },
  {
   "cell_type": "code",
   "execution_count": 42,
   "metadata": {},
   "outputs": [],
   "source": [
    "data = consolidate_edits(data)          # Adds 'edits' field\n",
    "data = consolidate_annotations(data)    # Adds 'processed_annotations' field"
   ]
  },
  {
   "cell_type": "code",
   "execution_count": 43,
   "metadata": {},
   "outputs": [
    {
     "name": "stdout",
     "output_type": "stream",
     "text": [
      "{'edit_type': 'deletion', 'id': 1, 'information_impact': <Information.LESS: 1>, 'type': <Quality.ERROR: 3>, 'grammar_error': False, 'error_type': <Error.COREFERENCE: 1>, 'rating': 0}\n",
      "{'edit_type': 'deletion', 'id': 0, 'information_impact': <Information.LESS: 1>, 'type': <Quality.ERROR: 3>, 'grammar_error': False, 'error_type': <Error.COREFERENCE: 1>, 'rating': 3}\n",
      "{'edit_type': 'deletion', 'id': 2, 'information_impact': <Information.LESS: 1>, 'type': <Quality.ERROR: 3>, 'grammar_error': False, 'error_type': <Error.COREFERENCE: 1>, 'rating': 3}\n",
      "{'edit_type': 'deletion', 'id': 4, 'information_impact': <Information.LESS: 1>, 'type': <Quality.ERROR: 3>, 'grammar_error': False, 'error_type': <Error.COREFERENCE: 1>, 'rating': 2}\n",
      "{'edit_type': 'deletion', 'id': 1, 'information_impact': <Information.LESS: 1>, 'type': <Quality.ERROR: 3>, 'grammar_error': False, 'error_type': <Error.COREFERENCE: 1>, 'rating': 2}\n",
      "{'edit_type': 'deletion', 'id': 0, 'information_impact': <Information.LESS: 1>, 'type': <Quality.ERROR: 3>, 'grammar_error': True, 'error_type': <Error.COREFERENCE: 1>, 'rating': 0}\n",
      "{'edit_type': 'deletion', 'id': 0, 'information_impact': <Information.LESS: 1>, 'type': <Quality.ERROR: 3>, 'grammar_error': False, 'error_type': <Error.COREFERENCE: 1>, 'rating': 3}\n"
     ]
    }
   ],
   "source": [
    "# Example: Searches for coreference errors\n",
    "deletions = [process_annotation(k) for k in [i for j in [[x for x in sent['edits'] if x['type'] == 'deletion'] for sent in data] for i in j]]\n",
    "for d in deletions:\n",
    "    if d['error_type'] == Error.COREFERENCE:\n",
    "        print(d)"
   ]
  },
  {
   "cell_type": "code",
   "execution_count": 44,
   "metadata": {},
   "outputs": [
    {
     "data": {
      "text/plain": [
       "[{'edit_type': 'deletion',\n",
       "  'id': 0,\n",
       "  'information_impact': <Information.LESS: 1>,\n",
       "  'type': <Quality.QUALITY: 1>,\n",
       "  'grammar_error': False,\n",
       "  'error_type': None,\n",
       "  'rating': 3},\n",
       " {'edit_type': 'deletion',\n",
       "  'id': 1,\n",
       "  'information_impact': <Information.LESS: 1>,\n",
       "  'type': <Quality.QUALITY: 1>,\n",
       "  'grammar_error': False,\n",
       "  'error_type': None,\n",
       "  'rating': 3},\n",
       " {'edit_type': 'substitution',\n",
       "  'id': 0,\n",
       "  'information_impact': <Information.DIFFERENT: 4>,\n",
       "  'type': <Quality.ERROR: 3>,\n",
       "  'grammar_error': False,\n",
       "  'error_type': <Error.INFORMATION_REWRITE: 2>,\n",
       "  'rating': 0}]"
      ]
     },
     "execution_count": 44,
     "metadata": {},
     "output_type": "execute_result"
    }
   ],
   "source": [
    "# Example: Annotations for sentence 0\n",
    "data[0]['processed_annotations']"
   ]
  },
  {
   "cell_type": "code",
   "execution_count": 45,
   "metadata": {},
   "outputs": [
    {
     "data": {
      "text/plain": [
       "[{'type': 'deletion',\n",
       "  'id': 0,\n",
       "  'original_span': (61, 69),\n",
       "  'simplified_span': None,\n",
       "  'annotation': ['perfect', 'no', 'no']},\n",
       " {'type': 'deletion',\n",
       "  'id': 1,\n",
       "  'original_span': (111, 133),\n",
       "  'simplified_span': None,\n",
       "  'annotation': ['perfect', 'no', 'no']},\n",
       " {'type': 'substitution',\n",
       "  'id': 0,\n",
       "  'original_span': (157, 161),\n",
       "  'simplified_span': (124, 127),\n",
       "  'annotation': ['different', 'minor', 'no']}]"
      ]
     },
     "execution_count": 45,
     "metadata": {},
     "output_type": "execute_result"
    }
   ],
   "source": [
    "# Example: Edits for sentence 0\n",
    "data[0]['edits']"
   ]
  },
  {
   "cell_type": "code",
   "execution_count": 59,
   "metadata": {},
   "outputs": [
    {
     "data": {
      "text/plain": [
       "{'systems/lstm_w_split.txt': {'deletion': 0,\n",
       "  'substitution': 0,\n",
       "  'insertion': 0,\n",
       "  'split': 0,\n",
       "  'reorder': 0,\n",
       "  'structure': 0},\n",
       " 'systems/Hybrid.lower': {'deletion': 0,\n",
       "  'substitution': 0,\n",
       "  'insertion': 0,\n",
       "  'split': 0,\n",
       "  'reorder': 0,\n",
       "  'structure': 0},\n",
       " 'new_systems/asset.test.simp.second': {'deletion': 0,\n",
       "  'substitution': 0,\n",
       "  'insertion': 0,\n",
       "  'split': 0,\n",
       "  'reorder': 0,\n",
       "  'structure': 0},\n",
       " 'new_systems/turk_corpus_random.txt': {'deletion': 0,\n",
       "  'substitution': 0,\n",
       "  'insertion': 0,\n",
       "  'split': 0,\n",
       "  'reorder': 0,\n",
       "  'structure': 0},\n",
       " 'systems/Dress-Ls.lower': {'deletion': 0,\n",
       "  'substitution': 0,\n",
       "  'insertion': 0,\n",
       "  'split': 0,\n",
       "  'reorder': 0,\n",
       "  'structure': 0},\n",
       " 'new_systems/simple_wiki.txt': {'deletion': 0,\n",
       "  'substitution': 0,\n",
       "  'insertion': 0,\n",
       "  'split': 0,\n",
       "  'reorder': 0,\n",
       "  'structure': 0},\n",
       " 'systems/T5.txt': {'deletion': 0,\n",
       "  'substitution': 0,\n",
       "  'insertion': 0,\n",
       "  'split': 0,\n",
       "  'reorder': 0,\n",
       "  'structure': 0},\n",
       " 'systems/transformer_w_split.txt': {'deletion': 0,\n",
       "  'substitution': 0,\n",
       "  'insertion': 0,\n",
       "  'split': 0,\n",
       "  'reorder': 0,\n",
       "  'structure': 0}}"
      ]
     },
     "metadata": {},
     "output_type": "display_data"
    }
   ],
   "source": [
    "# Example: Sum the annotated edits for each system\n",
    "sum_edit_types = {}\n",
    "for system in systems:\n",
    "    sum_edit_types[system] = sum_edits_for_system(data, system)\n",
    "display(sum_edit_types)"
   ]
  },
  {
   "cell_type": "code",
   "execution_count": 58,
   "metadata": {},
   "outputs": [
    {
     "data": {
      "image/png": "[encoded data removed]",
      "text/plain": [
       "<Figure size 432x288 with 1 Axes>"
      ]
     },
     "metadata": {
      "needs_background": "light"
     },
     "output_type": "display_data"
    }
   ],
   "source": [
    "# Example: plot edit types by system\n",
    "# We need a list because order matters here...\n",
    "x_labels = ['insertion', 'deletion', 'substitution', 'split', 'reorder', 'structure']\n",
    "z_labels = [\n",
    "    'systems/Hybrid.lower',\n",
    "    'systems/Dress-Ls.lower',\n",
    "    'systems/lstm_w_split.txt',\n",
    "    'systems/transformer_w_split.txt',\n",
    "    'systems/T5.txt',\n",
    "    'new_systems/turk_corpus_random.txt',\n",
    "    'new_systems/simple_wiki.txt',\n",
    "    'new_systems/asset.test.simp.second'\n",
    "]\n",
    "\n",
    "width = 0.5\n",
    "fig, ax = plt.subplots(figsize=(6, 4))\n",
    "bottom = [0 for x in range(len(edit_types))]\n",
    "\n",
    "for system in z_labels:\n",
    "       # need to make sure this is ordered\n",
    "       val = [sum_edit_types[system][label] for label in x_labels]\n",
    "       ax.bar(x_labels, val, width, bottom=bottom, label=system_name_mapping[system])\n",
    "       bottom = [bottom[i] + val[i] for i in range(len(val))]\n",
    "ax.set_ylabel('Number of edits')\n",
    "ax.set_title('Edit Types by System')\n",
    "ax.legend()\n",
    "\n",
    "plt.show()"
   ]
  },
  {
   "cell_type": "code",
   "execution_count": 48,
   "metadata": {},
   "outputs": [
    {
     "data": {
      "image/png": "[encoded data removed]",
      "text/plain": [
       "<Figure size 576x288 with 1 Axes>"
      ]
     },
     "metadata": {
      "needs_background": "light"
     },
     "output_type": "display_data"
    }
   ],
   "source": [
    "# Same as the above plot but but flip the dimensions\n",
    "z_labels = ['insertion', 'deletion', 'substitution', 'split', 'reorder', 'structure']\n",
    "x_labels = [\n",
    "    'systems/Hybrid.lower',\n",
    "    'systems/Dress-Ls.lower',\n",
    "    'systems/lstm_w_split.txt',\n",
    "    'systems/transformer_w_split.txt',\n",
    "    'systems/T5.txt',\n",
    "    'new_systems/turk_corpus_random.txt',\n",
    "    'new_systems/simple_wiki.txt',\n",
    "    'new_systems/asset.test.simp.second'\n",
    "]\n",
    "width = 0.5\n",
    "\n",
    "fig, ax = plt.subplots(figsize=(8, 4))\n",
    "\n",
    "bottom = [0 for x in range(len(x_labels))]\n",
    "for edit_type in z_labels:\n",
    "        # need to make sure this is ordered\n",
    "        val = [sum_edit_types[label][edit_type] for label in x_labels]\n",
    "        displayed_x_labels = [system_name_mapping[label] for label in x_labels]\n",
    "        ax.bar(displayed_x_labels, val, width, bottom=bottom, label=edit_type, color=color_mapping[edit_type])\n",
    "        bottom = [bottom[i] + val[i] for i in range(len(val))]\n",
    "ax.set_xlabel('Number of edits')\n",
    "ax.set_title('Edit Types by System')\n",
    "ax.set_yticks([i*5 for i in range(5)])\n",
    "ax.plot([4.5, 4.5], [0, ax.get_ylim()[-1]], ls='--', c='k')\n",
    "ax.legend()\n",
    "\n",
    "plt.show()"
   ]
  },
  {
   "cell_type": "code",
   "execution_count": 49,
   "metadata": {},
   "outputs": [],
   "source": [
    "# Same as the above plot but errors per system"
   ]
  },
  {
   "cell_type": "code",
   "execution_count": 50,
   "metadata": {},
   "outputs": [
    {
     "data": {
      "text/plain": [
       "{<Error.COREFERENCE: 1>: 10,\n",
       " <Error.INFORMATION_REWRITE: 2>: 3,\n",
       " <Error.REPETITION: 3>: 3,\n",
       " <Error.CONTRADICTION: 4>: 0,\n",
       " <Error.HALLUCINATION: 5>: 0,\n",
       " <Error.IRRELEVANT: 6>: 0,\n",
       " <Error.UNNECESSARY_INSERTION: 7>: 2,\n",
       " <Error.COMPLEX_WORDING: 8>: 4}"
      ]
     },
     "execution_count": 50,
     "metadata": {},
     "output_type": "execute_result"
    }
   ],
   "source": [
    "# Example: sum the errors\n",
    "def sum_errors_by_type(data):\n",
    "    ann = [i for j in [sent['processed_annotations'] for sent in data] for i in j]\n",
    "    errors = [a for a in ann if a['type'] == Quality.ERROR]\n",
    "\n",
    "    out = {}\n",
    "    for error in Error:\n",
    "        errors_by_type = [e for e in errors if e['error_type'] == error]\n",
    "        out[error] = len(errors_by_type)\n",
    "        # display(errors_by_type)\n",
    "    return out\n",
    "sum_errors_by_type(data)"
   ]
  },
  {
   "cell_type": "code",
   "execution_count": 51,
   "metadata": {},
   "outputs": [
    {
     "data": {
      "image/png": "[encoded data removed]",
      "text/plain": [
       "<Figure size 432x288 with 1 Axes>"
      ]
     },
     "metadata": {
      "needs_background": "light"
     },
     "output_type": "display_data"
    }
   ],
   "source": [
    "errors = sum_errors_by_type(data)\n",
    "error_names = [str(x).split('.')[1].lower().replace('_',' ') for x in errors.keys()]\n",
    "\n",
    "plt.bar(error_names, list(errors.values()), align='center')\n",
    "plt.xticks(rotation=45, ha=\"right\")\n",
    "plt.title('Errors by type')\n",
    "plt.show()"
   ]
  },
  {
   "cell_type": "code",
   "execution_count": 52,
   "metadata": {},
   "outputs": [
    {
     "data": {
      "text/plain": [
       "<Figure size 3000x1800 with 0 Axes>"
      ]
     },
     "metadata": {},
     "output_type": "display_data"
    },
    {
     "data": {
      "image/png": "[encoded data removed]",
      "text/plain": [
       "<Figure size 1080x144 with 8 Axes>"
      ]
     },
     "metadata": {
      "needs_background": "light"
     },
     "output_type": "display_data"
    }
   ],
   "source": [
    "import matplotlib.pyplot as plt\n",
    "\n",
    "fig = plt.figure(figsize=(10, 6), dpi=300) # tight_layout=True\n",
    "fig, sb = plt.subplots(1, len(systems), sharey='row', figsize=(15, 2))\n",
    "fig.suptitle('Errors by System')\n",
    "\n",
    "systems_list = list(systems)\n",
    "error_names = [str(x).split('.')[1].lower().replace('_',' ') for x in errors.keys()]\n",
    "\n",
    "i = 0\n",
    "for subplot in sb:\n",
    "    errors = sum_errors_by_type(get_sentences_for_system(data, systems_list[i]))\n",
    "    subplot.bar(error_names, list(errors.values()), align='center')\n",
    "    subplot.set_xlabel(systems_list[i], rotation=25, ha=\"center\")\n",
    "    i += 1\n",
    "\n",
    "\n",
    "# Idea: One stacked graph with number of errors on x axis and system on y axis. Each bar has a stacked set \n",
    "# of colors representing each error"
   ]
  },
  {
   "cell_type": "code",
   "execution_count": 53,
   "metadata": {},
   "outputs": [
    {
     "data": {
      "text/plain": [
       "[0, 1, 1, 0, 0, 0, 0, 0]"
      ]
     },
     "execution_count": 53,
     "metadata": {},
     "output_type": "execute_result"
    }
   ],
   "source": [
    "list(errors.values())"
   ]
  },
  {
   "cell_type": "code",
   "execution_count": 54,
   "metadata": {},
   "outputs": [
    {
     "name": "stdout",
     "output_type": "stream",
     "text": [
      "systems/lstm_w_split.txt\n",
      "[5, 5, 1, 0, 0, 0]\n",
      "systems/Hybrid.lower\n",
      "[11, 2, 1, 0, 4, 2]\n",
      "new_systems/asset.test.simp.second\n",
      "[4, 12, 0, 0, 1, 1]\n",
      "new_systems/turk_corpus_random.txt\n",
      "[1, 3, 2, 0, 0, 2]\n",
      "systems/Dress-Ls.lower\n",
      "[5, 5, 1, 0, 0, 1]\n",
      "new_systems/simple_wiki.txt\n",
      "[1, 5, 2, 0, 2, 1]\n",
      "systems/T5.txt\n",
      "[1, 5, 4, 0, 0, 1]\n",
      "systems/transformer_w_split.txt\n",
      "[5, 4, 3, 0, 1, 0]\n"
     ]
    }
   ],
   "source": [
    "# Example: Sum the annotated edits for each system\n",
    "for system in systems:\n",
    "    print(system)\n",
    "    print([x for x in sum_edits_for_system(data, system).values()])"
   ]
  },
  {
   "cell_type": "code",
   "execution_count": 55,
   "metadata": {},
   "outputs": [
    {
     "name": "stdout",
     "output_type": "stream",
     "text": [
      "3.466666666666667\n"
     ]
    }
   ],
   "source": [
    "# Example: Sum the annotated edits for each system\n",
    "total = 0\n",
    "for system in systems:\n",
    "    total += sum([x for x in sum_edits_for_system(data, system).values()])\n",
    "print(total / 30)"
   ]
  },
  {
   "cell_type": "code",
   "execution_count": 56,
   "metadata": {},
   "outputs": [
    {
     "ename": "JSONDecodeError",
     "evalue": "Expecting value: line 1 column 1 (char 0)",
     "output_type": "error",
     "traceback": [
      "\u001b[1;31m---------------------------------------------------------------------------\u001b[0m",
      "\u001b[1;31mJSONDecodeError\u001b[0m                           Traceback (most recent call last)",
      "\u001b[1;32m<ipython-input-56-9f8ac4b12416>\u001b[0m in \u001b[0;36m<module>\u001b[1;34m\u001b[0m\n\u001b[0;32m      5\u001b[0m \u001b[1;32mfor\u001b[0m \u001b[0mfilename\u001b[0m \u001b[1;32min\u001b[0m \u001b[0mos\u001b[0m\u001b[1;33m.\u001b[0m\u001b[0mlistdir\u001b[0m\u001b[1;33m(\u001b[0m\u001b[1;34m'../tutorial/'\u001b[0m\u001b[1;33m)\u001b[0m\u001b[1;33m:\u001b[0m\u001b[1;33m\u001b[0m\u001b[1;33m\u001b[0m\u001b[0m\n\u001b[0;32m      6\u001b[0m     \u001b[1;32mwith\u001b[0m \u001b[0mopen\u001b[0m\u001b[1;33m(\u001b[0m\u001b[1;34m'../tutorial/'\u001b[0m \u001b[1;33m+\u001b[0m \u001b[0mfilename\u001b[0m\u001b[1;33m)\u001b[0m \u001b[1;32mas\u001b[0m \u001b[0mf\u001b[0m\u001b[1;33m:\u001b[0m\u001b[1;33m\u001b[0m\u001b[1;33m\u001b[0m\u001b[0m\n\u001b[1;32m----> 7\u001b[1;33m         \u001b[0mindividual_annotation\u001b[0m \u001b[1;33m=\u001b[0m \u001b[0mjson\u001b[0m\u001b[1;33m.\u001b[0m\u001b[0mload\u001b[0m\u001b[1;33m(\u001b[0m\u001b[0mf\u001b[0m\u001b[1;33m)\u001b[0m\u001b[1;33m\u001b[0m\u001b[1;33m\u001b[0m\u001b[0m\n\u001b[0m\u001b[0;32m      8\u001b[0m         \u001b[1;32mfor\u001b[0m \u001b[0mentry\u001b[0m \u001b[1;32min\u001b[0m \u001b[0mindividual_annotation\u001b[0m\u001b[1;33m:\u001b[0m\u001b[1;33m\u001b[0m\u001b[1;33m\u001b[0m\u001b[0m\n\u001b[0;32m      9\u001b[0m             \u001b[0mentry\u001b[0m\u001b[1;33m[\u001b[0m\u001b[1;34m'user'\u001b[0m\u001b[1;33m]\u001b[0m \u001b[1;33m=\u001b[0m \u001b[0mfilename\u001b[0m\u001b[1;33m.\u001b[0m\u001b[0msplit\u001b[0m\u001b[1;33m(\u001b[0m\u001b[1;34m'.'\u001b[0m\u001b[1;33m)\u001b[0m\u001b[1;33m[\u001b[0m\u001b[1;36m0\u001b[0m\u001b[1;33m]\u001b[0m\u001b[1;33m\u001b[0m\u001b[1;33m\u001b[0m\u001b[0m\n",
      "\u001b[1;32mc:\\Python39\\lib\\json\\__init__.py\u001b[0m in \u001b[0;36mload\u001b[1;34m(fp, cls, object_hook, parse_float, parse_int, parse_constant, object_pairs_hook, **kw)\u001b[0m\n\u001b[0;32m    291\u001b[0m     \u001b[0mkwarg\u001b[0m\u001b[1;33m;\u001b[0m \u001b[0motherwise\u001b[0m\u001b[0;31m \u001b[0m\u001b[0;31m`\u001b[0m\u001b[0;31m`\u001b[0m\u001b[0mJSONDecoder\u001b[0m\u001b[0;31m`\u001b[0m\u001b[0;31m`\u001b[0m \u001b[1;32mis\u001b[0m \u001b[0mused\u001b[0m\u001b[1;33m.\u001b[0m\u001b[1;33m\u001b[0m\u001b[1;33m\u001b[0m\u001b[0m\n\u001b[0;32m    292\u001b[0m     \"\"\"\n\u001b[1;32m--> 293\u001b[1;33m     return loads(fp.read(),\n\u001b[0m\u001b[0;32m    294\u001b[0m         \u001b[0mcls\u001b[0m\u001b[1;33m=\u001b[0m\u001b[0mcls\u001b[0m\u001b[1;33m,\u001b[0m \u001b[0mobject_hook\u001b[0m\u001b[1;33m=\u001b[0m\u001b[0mobject_hook\u001b[0m\u001b[1;33m,\u001b[0m\u001b[1;33m\u001b[0m\u001b[1;33m\u001b[0m\u001b[0m\n\u001b[0;32m    295\u001b[0m         \u001b[0mparse_float\u001b[0m\u001b[1;33m=\u001b[0m\u001b[0mparse_float\u001b[0m\u001b[1;33m,\u001b[0m \u001b[0mparse_int\u001b[0m\u001b[1;33m=\u001b[0m\u001b[0mparse_int\u001b[0m\u001b[1;33m,\u001b[0m\u001b[1;33m\u001b[0m\u001b[1;33m\u001b[0m\u001b[0m\n",
      "\u001b[1;32mc:\\Python39\\lib\\json\\__init__.py\u001b[0m in \u001b[0;36mloads\u001b[1;34m(s, cls, object_hook, parse_float, parse_int, parse_constant, object_pairs_hook, **kw)\u001b[0m\n\u001b[0;32m    344\u001b[0m             \u001b[0mparse_int\u001b[0m \u001b[1;32mis\u001b[0m \u001b[1;32mNone\u001b[0m \u001b[1;32mand\u001b[0m \u001b[0mparse_float\u001b[0m \u001b[1;32mis\u001b[0m \u001b[1;32mNone\u001b[0m \u001b[1;32mand\u001b[0m\u001b[1;33m\u001b[0m\u001b[1;33m\u001b[0m\u001b[0m\n\u001b[0;32m    345\u001b[0m             parse_constant is None and object_pairs_hook is None and not kw):\n\u001b[1;32m--> 346\u001b[1;33m         \u001b[1;32mreturn\u001b[0m \u001b[0m_default_decoder\u001b[0m\u001b[1;33m.\u001b[0m\u001b[0mdecode\u001b[0m\u001b[1;33m(\u001b[0m\u001b[0ms\u001b[0m\u001b[1;33m)\u001b[0m\u001b[1;33m\u001b[0m\u001b[1;33m\u001b[0m\u001b[0m\n\u001b[0m\u001b[0;32m    347\u001b[0m     \u001b[1;32mif\u001b[0m \u001b[0mcls\u001b[0m \u001b[1;32mis\u001b[0m \u001b[1;32mNone\u001b[0m\u001b[1;33m:\u001b[0m\u001b[1;33m\u001b[0m\u001b[1;33m\u001b[0m\u001b[0m\n\u001b[0;32m    348\u001b[0m         \u001b[0mcls\u001b[0m \u001b[1;33m=\u001b[0m \u001b[0mJSONDecoder\u001b[0m\u001b[1;33m\u001b[0m\u001b[1;33m\u001b[0m\u001b[0m\n",
      "\u001b[1;32mc:\\Python39\\lib\\json\\decoder.py\u001b[0m in \u001b[0;36mdecode\u001b[1;34m(self, s, _w)\u001b[0m\n\u001b[0;32m    335\u001b[0m \u001b[1;33m\u001b[0m\u001b[0m\n\u001b[0;32m    336\u001b[0m         \"\"\"\n\u001b[1;32m--> 337\u001b[1;33m         \u001b[0mobj\u001b[0m\u001b[1;33m,\u001b[0m \u001b[0mend\u001b[0m \u001b[1;33m=\u001b[0m \u001b[0mself\u001b[0m\u001b[1;33m.\u001b[0m\u001b[0mraw_decode\u001b[0m\u001b[1;33m(\u001b[0m\u001b[0ms\u001b[0m\u001b[1;33m,\u001b[0m \u001b[0midx\u001b[0m\u001b[1;33m=\u001b[0m\u001b[0m_w\u001b[0m\u001b[1;33m(\u001b[0m\u001b[0ms\u001b[0m\u001b[1;33m,\u001b[0m \u001b[1;36m0\u001b[0m\u001b[1;33m)\u001b[0m\u001b[1;33m.\u001b[0m\u001b[0mend\u001b[0m\u001b[1;33m(\u001b[0m\u001b[1;33m)\u001b[0m\u001b[1;33m)\u001b[0m\u001b[1;33m\u001b[0m\u001b[1;33m\u001b[0m\u001b[0m\n\u001b[0m\u001b[0;32m    338\u001b[0m         \u001b[0mend\u001b[0m \u001b[1;33m=\u001b[0m \u001b[0m_w\u001b[0m\u001b[1;33m(\u001b[0m\u001b[0ms\u001b[0m\u001b[1;33m,\u001b[0m \u001b[0mend\u001b[0m\u001b[1;33m)\u001b[0m\u001b[1;33m.\u001b[0m\u001b[0mend\u001b[0m\u001b[1;33m(\u001b[0m\u001b[1;33m)\u001b[0m\u001b[1;33m\u001b[0m\u001b[1;33m\u001b[0m\u001b[0m\n\u001b[0;32m    339\u001b[0m         \u001b[1;32mif\u001b[0m \u001b[0mend\u001b[0m \u001b[1;33m!=\u001b[0m \u001b[0mlen\u001b[0m\u001b[1;33m(\u001b[0m\u001b[0ms\u001b[0m\u001b[1;33m)\u001b[0m\u001b[1;33m:\u001b[0m\u001b[1;33m\u001b[0m\u001b[1;33m\u001b[0m\u001b[0m\n",
      "\u001b[1;32mc:\\Python39\\lib\\json\\decoder.py\u001b[0m in \u001b[0;36mraw_decode\u001b[1;34m(self, s, idx)\u001b[0m\n\u001b[0;32m    353\u001b[0m             \u001b[0mobj\u001b[0m\u001b[1;33m,\u001b[0m \u001b[0mend\u001b[0m \u001b[1;33m=\u001b[0m \u001b[0mself\u001b[0m\u001b[1;33m.\u001b[0m\u001b[0mscan_once\u001b[0m\u001b[1;33m(\u001b[0m\u001b[0ms\u001b[0m\u001b[1;33m,\u001b[0m \u001b[0midx\u001b[0m\u001b[1;33m)\u001b[0m\u001b[1;33m\u001b[0m\u001b[1;33m\u001b[0m\u001b[0m\n\u001b[0;32m    354\u001b[0m         \u001b[1;32mexcept\u001b[0m \u001b[0mStopIteration\u001b[0m \u001b[1;32mas\u001b[0m \u001b[0merr\u001b[0m\u001b[1;33m:\u001b[0m\u001b[1;33m\u001b[0m\u001b[1;33m\u001b[0m\u001b[0m\n\u001b[1;32m--> 355\u001b[1;33m             \u001b[1;32mraise\u001b[0m \u001b[0mJSONDecodeError\u001b[0m\u001b[1;33m(\u001b[0m\u001b[1;34m\"Expecting value\"\u001b[0m\u001b[1;33m,\u001b[0m \u001b[0ms\u001b[0m\u001b[1;33m,\u001b[0m \u001b[0merr\u001b[0m\u001b[1;33m.\u001b[0m\u001b[0mvalue\u001b[0m\u001b[1;33m)\u001b[0m \u001b[1;32mfrom\u001b[0m \u001b[1;32mNone\u001b[0m\u001b[1;33m\u001b[0m\u001b[1;33m\u001b[0m\u001b[0m\n\u001b[0m\u001b[0;32m    356\u001b[0m         \u001b[1;32mreturn\u001b[0m \u001b[0mobj\u001b[0m\u001b[1;33m,\u001b[0m \u001b[0mend\u001b[0m\u001b[1;33m\u001b[0m\u001b[1;33m\u001b[0m\u001b[0m\n",
      "\u001b[1;31mJSONDecodeError\u001b[0m: Expecting value: line 1 column 1 (char 0)"
     ]
    }
   ],
   "source": [
    "import json\n",
    "\n",
    "# Load tutorial feedback\n",
    "data = []\n",
    "for filename in os.listdir('../tutorial/'):\n",
    "    with open('../tutorial/' + filename) as f:\n",
    "        individual_annotation = json.load(f)\n",
    "        for entry in individual_annotation:\n",
    "            entry['user'] = filename.split('.')[0]\n",
    "        data += individual_annotation"
   ]
  },
  {
   "cell_type": "code",
   "execution_count": null,
   "metadata": {},
   "outputs": [],
   "source": [
    "# Print spans with comments\n",
    "for entry in data:\n",
    "    if 'comment' in entry.keys():\n",
    "        print(f\"{entry['user'].upper()} - HIT {str(entry['id']+1)}: {entry['comment']}\")"
   ]
  },
  {
   "cell_type": "code",
   "execution_count": null,
   "metadata": {},
   "outputs": [],
   "source": []
  }
 ],
 "metadata": {
  "kernelspec": {
   "display_name": "Python 3.9.0 64-bit",
   "language": "python",
   "name": "python3"
  },
  "language_info": {
   "codemirror_mode": {
    "name": "ipython",
    "version": 3
   },
   "file_extension": ".py",
   "mimetype": "text/x-python",
   "name": "python",
   "nbconvert_exporter": "python",
   "pygments_lexer": "ipython3",
   "version": "3.9.0"
  },
  "orig_nbformat": 4,
  "vscode": {
   "interpreter": {
    "hash": "81794d4967e6c3204c66dcd87b604927b115b27c00565d3d43f05ba2f3a2cb0d"
   }
  }
 },
 "nbformat": 4,
 "nbformat_minor": 2
}
