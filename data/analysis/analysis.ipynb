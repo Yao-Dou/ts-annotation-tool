{
 "cells": [
  {
   "cell_type": "code",
   "execution_count": 1,
   "metadata": {},
   "outputs": [
    {
     "name": "stdout",
     "output_type": "stream",
     "text": [
      "Loading files: ['../annotated/batch_1_anton.json', '../annotated/batch_1_ayush.json', '../annotated/batch_1_kelly.json', '../annotated/batch_2_vinayak.json', '../annotated/batch_2_vishnesh.json', '../annotated/batch_3_anton.json', '../annotated/batch_3_ayush.json', '../annotated/batch_3_kelly.json', '../annotated/batch_4_rachel.json', '../annotated/batch_4_vinayak.json', '../annotated/batch_4_vishnesh.json']\n",
      "\n",
      "Found users: {'rachel', 'vishnesh', 'ayush', 'anton', 'vinayak', 'kelly'}\n",
      "\n",
      "Couldn't process grammar for substitution: ['positive', '', '', '']. Assuming 'no'...\n",
      "Couldn't process positive rating for substitution: ['positive', '', '', '']. Assuming 'somewhat'...\n",
      "Couldn't process grammar for substitution: ['positive', 'minor', '', '']. Assuming 'no'...\n",
      "Couldn't process grammar for deletion: ['good', 'no', '']. Assuming 'no'...\n",
      "Couldn't process grammar for deletion: ['good', 'no', '']. Assuming 'no'...\n",
      "Couldn't process grammar for deletion: ['perfect', 'no', '']. Assuming 'no'...\n",
      "Couldn't process grammar for deletion: ['good', 'no', '']. Assuming 'no'...\n",
      "Couldn't process grammar for substitution: ['positive', 'a lot', '', '']. Assuming 'no'...\n",
      "Couldn't process grammar for substitution: ['positive', 'somewhat', '', '']. Assuming 'no'...\n",
      "Couldn't process grammar for deletion: ['good', 'no', '']. Assuming 'no'...\n",
      "Couldn't process grammar for deletion: ['perfect', 'yes', '']. Assuming 'no'...\n",
      "Couldn't process grammar for deletion: ['good', 'no', '']. Assuming 'no'...\n",
      "Couldn't process grammar for deletion: ['good', 'no', '']. Assuming 'no'...\n",
      "Couldn't process grammar for deletion: ['perfect', 'no', '']. Assuming 'no'...\n",
      "Couldn't process grammar for deletion: ['perfect', 'no', '']. Assuming 'no'...\n",
      "Couldn't process grammar for deletion: ['perfect', 'no', '']. Assuming 'no'...\n",
      "Couldn't process grammar for deletion: ['good', 'no', '']. Assuming 'no'...\n",
      "Couldn't process grammar for deletion: ['good', 'no', '']. Assuming 'no'...\n",
      "Couldn't process grammar for deletion: ['good', 'no', '']. Assuming 'no'...\n",
      "Couldn't process grammar for deletion: ['good', 'no', '']. Assuming 'no'...\n",
      "Couldn't process grammar for deletion: ['good', 'no', '']. Assuming 'no'...\n",
      "Couldn't process grammar for deletion: ['good', 'no', '']. Assuming 'no'...\n",
      "Couldn't process grammar for deletion: ['good', 'yes', '']. Assuming 'no'...\n",
      "Couldn't process grammar for deletion: ['good', 'no', '']. Assuming 'no'...\n",
      "Couldn't process grammar for deletion: ['good', 'no', '']. Assuming 'no'...\n",
      "Couldn't process grammar for deletion: ['good', 'no', '']. Assuming 'no'...\n",
      "Couldn't process grammar for deletion: ['good', 'no', '']. Assuming 'no'...\n",
      "Couldn't process grammar for deletion: ['perfect', 'no', '']. Assuming 'no'...\n",
      "Couldn't process grammar for deletion: ['good', 'no', '']. Assuming 'no'...\n",
      "Couldn't process grammar for deletion: ['good', 'no', '']. Assuming 'no'...\n",
      "Couldn't process grammar for deletion: ['good', 'no', '']. Assuming 'no'...\n",
      "Couldn't process grammar for deletion: ['good', 'no', '']. Assuming 'no'...\n",
      "Couldn't process grammar for substitution: ['positive', 'somewhat', '', '']. Assuming 'no'...\n",
      "Couldn't process grammar for deletion: ['good', 'no', '']. Assuming 'no'...\n",
      "Couldn't process coreference error for deletion: ['perfect', '', 'no']. Assuming 'no'...\n",
      "Couldn't process grammar for deletion: ['good', 'no', '']. Assuming 'no'...\n",
      "Couldn't process grammar for substitution: ['positive', 'a lot', '', '']. Assuming 'no'...\n",
      "Couldn't process coreference error for deletion: ['very bad', '', 'no']. Assuming 'no'...\n",
      "When processing sentence: rachel - Batch 4, HIT 5 (ID 124). Caught error on: Could not process edit: {'type': 'deletion', 'id': 5, 'original_span': [(95, 98)], 'simplified_span': None, 'annotation': None}. Skipping...\n",
      "Couldn't process grammar for substitution: ['positive', 'minor', '', '']. Assuming 'no'...\n",
      "Couldn't process grammar for deletion: ['good', 'no', '']. Assuming 'no'...\n",
      "Couldn't process grammar for deletion: ['good', 'no', '']. Assuming 'no'...\n",
      "Couldn't process coreference error for deletion: ['perfect', '', 'no']. Assuming 'no'...\n",
      "Couldn't process grammar for deletion: ['perfect', 'no', '']. Assuming 'no'...\n"
     ]
    }
   ],
   "source": [
    "from types import *\n",
    "from dataloader import *\n",
    "from util import *\n",
    "from graphs import *\n",
    "from agreement import *\n",
    "from scoring import *\n",
    "\n",
    "# There's also 'tutorial' and 'preliminary' data\n",
    "data = load_data('../annotated', preprocess=True)"
   ]
  },
  {
   "cell_type": "code",
   "execution_count": 2,
   "metadata": {},
   "outputs": [
    {
     "name": "stdout",
     "output_type": "stream",
     "text": [
      "ANTON - HIT 19: in this case later baptised is a perfect deletion, but in other cases it might not be. \n",
      "\n",
      "\n",
      "AYUSH - HIT 10: There is no change from the original sentence to simplified sentence\n",
      "\n",
      "AYUSH - HIT 15: Seems to think the original sentence is talking about a game?\n",
      "\n",
      "AYUSH - HIT 25: It's the same sentence just duplicated twice\n",
      "\n",
      "KELLY - HIT 6: This original sentence doesn't really make geographic sense. Tajikistan, Turmenistan, and Uzbekistan are north of both Afghanistan and Pakistan, east of Iran, and west of China.\n",
      "\n",
      "KELLY - HIT 10: No change?\n",
      "\n",
      "KELLY - HIT 15: This hit keeps breaking the interface for me, so I'm not sure what the data looks like. Once I get to this hit, the interface will not allow me to navegate off.\n",
      "\n",
      "KELLY - HIT 16: I researched it and it looks like the (e) is indicating an alternate spelling on her name, but I'm not sure.\n",
      "\n",
      "KELLY - HIT 25: Same sentence, no annotations needed.\n",
      "\n",
      "\n",
      "KELLY - HIT 40: Annotating the splits is causing the interface to glitch and annotations stop working.\n",
      "\n",
      "VISHNESH - HIT 53: No simplifications\n",
      "\n",
      "\n",
      "VISHNESH - HIT 57: \n",
      "\n",
      "VISHNESH - HIT 60: Was not able to select split edit as a structure edit.\n",
      "\n",
      "VISHNESH - HIT 63: No simplification\n",
      "\n",
      "VISHNESH - HIT 71: Fluency seems a bit off.\n",
      "Something like \"but did not have details\" would be better.\n",
      "\n",
      "VISHNESH - HIT 72: Deleting this makes it look like a trial itself had not been determined which kind of contradicts the first part of the sentence.\n",
      "\n",
      "VISHNESH - HIT 80: No simplification\n",
      "\n",
      "VISHNESH - HIT 86: collapsed was substituted as collaped. Not sure why this typo arose but I labelled it a grammatical error.\n",
      "\n",
      "Marked the structural change as a bad one because it sounds incorrect to say \"she suffered from a tonsillar cyst\" compared to \"she had a tonsillar cyst\"\n",
      "\n",
      "VISHNESH - HIT 93: No simplification\n",
      "\n",
      "VISHNESH - HIT 94: I think that complex and building are not interchangeable so I marked it as a bad substitution. Building complexes usually refer to a much larger group of buildings.\n",
      "\n",
      "RACHEL - HIT 134: \"Between\" would have been a good substitution, but not having the two events in chronological order makes the sentence more difficult to understand. \n",
      "\n",
      "RACHEL - HIT 135: Editing the split causes the sentence to freeze. \n",
      "Split\n",
      "Negative Impact\n",
      "Severity- Minor\n",
      "No grammar error\n",
      "\"This was\"- part of split edit\n",
      "Trivial Insertion\n",
      "No grammar error\n",
      "\n",
      "VINAYAK - HIT 127: Should be a structure change for the substitution of \"the arrival of\" to \"came into the area\" and the reorder of \"the storm\". The structure change should have been a bad structure change, with a severity of \"somewhat.\" \n",
      "\n",
      "VISHNESH - HIT 129: Was not sure how to annotate the missing comma which causes a grammatical error so I annotated it as an insertion for arrived.\n",
      "\n",
      "VISHNESH - HIT 137: Was not sure if this was a structural change in the latter half of the sentence.\n",
      "\n"
     ]
    }
   ],
   "source": [
    "# Print spans with comments\n",
    "get_comments(data)"
   ]
  },
  {
   "cell_type": "code",
   "execution_count": 3,
   "metadata": {},
   "outputs": [],
   "source": [
    "# The systems we looked at\n",
    "systems = set([x['system'] for x in data])\n",
    "\n",
    "# Edit types\n",
    "edit_types = set(data[0]['annotations'].keys())"
   ]
  },
  {
   "cell_type": "code",
   "execution_count": 4,
   "metadata": {},
   "outputs": [
    {
     "name": "stdout",
     "output_type": "stream",
     "text": [
      "Couldn't process coreference error for deletion: ['perfect', '', 'no']. Assuming 'no'...\n",
      "Couldn't process coreference error for deletion: ['perfect', '', 'no']. Assuming 'no'...\n",
      "{'edit_type': 'deletion', 'id': 1, 'information_impact': <Information.LESS: 'Less Information'>, 'type': <Quality.ERROR: 'Error'>, 'grammar_error': False, 'error_type': <Error.COREFERENCE: 'Coreference'>, 'rating': 1, 'size': 4}\n",
      "{'edit_type': 'deletion', 'id': 0, 'information_impact': <Information.LESS: 'Less Information'>, 'type': <Quality.ERROR: 'Error'>, 'grammar_error': False, 'error_type': <Error.COREFERENCE: 'Coreference'>, 'rating': 0, 'size': 2}\n",
      "{'edit_type': 'deletion', 'id': 0, 'information_impact': <Information.LESS: 'Less Information'>, 'type': <Quality.ERROR: 'Error'>, 'grammar_error': True, 'error_type': <Error.COREFERENCE: 'Coreference'>, 'rating': 1, 'size': 25}\n"
     ]
    }
   ],
   "source": [
    "# Example: Searches for coreference errors\n",
    "deletions = [process_annotation(k) for k in [i for j in [[x for x in sent['edits'] if x['type'] == 'deletion'] for sent in data] for i in j]]\n",
    "for d in deletions:\n",
    "    if d['error_type'] == Error.COREFERENCE:\n",
    "        print(d)"
   ]
  },
  {
   "cell_type": "code",
   "execution_count": 5,
   "metadata": {},
   "outputs": [
    {
     "data": {
      "text/plain": [
       "[{'edit_type': 'deletion',\n",
       "  'id': 0,\n",
       "  'information_impact': <Information.LESS: 'Less Information'>,\n",
       "  'type': <Quality.QUALITY: 'No Error'>,\n",
       "  'grammar_error': True,\n",
       "  'error_type': None,\n",
       "  'rating': 2,\n",
       "  'size': 0.09278350515463918,\n",
       "  'score': -2.9932336588376685}]"
      ]
     },
     "execution_count": 5,
     "metadata": {},
     "output_type": "execute_result"
    }
   ],
   "source": [
    "# Example: Annotations for sentence 0\n",
    "data[0]['processed_annotations']"
   ]
  },
  {
   "cell_type": "code",
   "execution_count": 6,
   "metadata": {},
   "outputs": [
    {
     "data": {
      "text/plain": [
       "[{'type': 'deletion',\n",
       "  'id': 0,\n",
       "  'original_span': [(11, 20)],\n",
       "  'simplified_span': None,\n",
       "  'annotation': ['good', 'yes', 'no']}]"
      ]
     },
     "execution_count": 6,
     "metadata": {},
     "output_type": "execute_result"
    }
   ],
   "source": [
    "# Example: Edits for sentence 0\n",
    "data[0]['edits']"
   ]
  },
  {
   "cell_type": "code",
   "execution_count": 7,
   "metadata": {},
   "outputs": [],
   "source": [
    "# Example: Agreement between annotators on edit types\n",
    "# for edit_type in ['deletion', 'insertion', 'reorder', 'substitution']:\n",
    "#     print(f'{edit_type} -> {calculate_agreement(data, edit_type, drop_no_spans=True)}')"
   ]
  },
  {
   "cell_type": "code",
   "execution_count": 8,
   "metadata": {},
   "outputs": [],
   "source": [
    "# TODO: trivial edits on substitutions aren't being processed correctly\n",
    "# for sent in data:\n",
    "#     for ann in sent['processed_annotations']:\n",
    "#         if ann['type'] == Quality.TRIVIAL and ann['rating'] == None:\n",
    "#             print(sent['id'])\n",
    "#             print(ann)\n",
    "#             print(sent['system'])\n",
    "#             print(sent['system'])\n",
    "#             print(sent['user'])"
   ]
  },
  {
   "cell_type": "code",
   "execution_count": 9,
   "metadata": {},
   "outputs": [
    {
     "data": {
      "image/png": "[encoded data removed]",
      "text/plain": [
       "<Figure size 576x288 with 1 Axes>"
      ]
     },
     "metadata": {
      "needs_background": "light"
     },
     "output_type": "display_data"
    }
   ],
   "source": [
    "edit_type_by_system(data, flipped=True)"
   ]
  },
  {
   "cell_type": "code",
   "execution_count": 10,
   "metadata": {},
   "outputs": [
    {
     "data": {
      "image/png": "[encoded data removed]",
      "text/plain": [
       "<Figure size 576x288 with 1 Axes>"
      ]
     },
     "metadata": {
      "needs_background": "light"
     },
     "output_type": "display_data"
    }
   ],
   "source": [
    "system_by_information_change(data)"
   ]
  },
  {
   "cell_type": "code",
   "execution_count": 11,
   "metadata": {},
   "outputs": [
    {
     "data": {
      "image/png": "[encoded data removed]",
      "text/plain": [
       "<Figure size 432x288 with 1 Axes>"
      ]
     },
     "metadata": {
      "needs_background": "light"
     },
     "output_type": "display_data"
    }
   ],
   "source": [
    "errors_by_system(data)"
   ]
  },
  {
   "cell_type": "code",
   "execution_count": 12,
   "metadata": {},
   "outputs": [
    {
     "data": {
      "application/vnd.plotly.v1+json": {
       "config": {
        "plotlyServerURL": "https://plot.ly"
       },
       "data": [
        {
         "link": {
          "source": [
           5,
           87,
           87,
           87,
           4,
           71,
           71,
           71,
           3,
           55,
           55,
           55,
           2,
           2,
           2,
           2,
           41,
           40,
           40,
           39,
           39,
           39,
           38,
           38,
           1,
           24,
           24,
           24,
           0,
           6,
           6
          ],
          "target": [
           87,
           93,
           94,
           95,
           71,
           77,
           78,
           79,
           55,
           61,
           62,
           63,
           38,
           39,
           40,
           41,
           53,
           48,
           50,
           45,
           46,
           47,
           42,
           44,
           24,
           32,
           33,
           34,
           6,
           10,
           12
          ],
          "value": [
           25,
           15,
           2,
           8,
           121,
           88,
           17,
           16,
           73,
           32,
           28,
           13,
           52,
           400,
           12,
           48,
           48,
           9,
           3,
           281,
           84,
           35,
           50,
           2,
           131,
           22,
           45,
           64,
           396,
           393,
           3
          ]
         },
         "node": {
          "color": [
           "#ee2a2a",
           "#64C466",
           "#2186eb",
           "#3ca3a7",
           "#FF9F15",
           "#F7CE46",
           "#ee2a2a",
           "#2186eb",
           "#64C466",
           "#b103fc",
           "black",
           "black",
           "black",
           "black",
           "black",
           "black",
           "black",
           "black",
           "black",
           "black",
           "black",
           "black",
           "#ee2a2a",
           "#2186eb",
           "#64C466",
           "#b103fc",
           "black",
           "black",
           "black",
           "black",
           "black",
           "black",
           "black",
           "black",
           "black",
           "black",
           "black",
           "black",
           "#ee2a2a",
           "#2186eb",
           "#64C466",
           "#b103fc",
           "black",
           "black",
           "black",
           "black",
           "black",
           "black",
           "black",
           "black",
           "black",
           "black",
           "black",
           "black",
           "#ee2a2a",
           "#2186eb",
           "#64C466",
           "#b103fc",
           "black",
           "black",
           "black",
           "black",
           "black",
           "black",
           "black",
           "black",
           "black",
           "black",
           "black",
           "black",
           "#ee2a2a",
           "#2186eb",
           "#64C466",
           "#b103fc",
           "black",
           "black",
           "black",
           "black",
           "black",
           "black",
           "black",
           "black",
           "black",
           "black",
           "black",
           "black",
           "#ee2a2a",
           "#2186eb",
           "#64C466",
           "#b103fc",
           "black",
           "black",
           "black",
           "black",
           "black",
           "black",
           "black",
           "black",
           "black",
           "black",
           "black",
           "black"
          ],
          "label": [
           "deletion",
           "insertion",
           "substitution",
           "reorder",
           "structure",
           "split",
           "less information",
           "same information",
           "more information",
           "different information",
           "no error",
           "trivial",
           "error",
           "no error",
           "trivial",
           "error",
           "no error",
           "trivial",
           "error",
           "no error",
           "trivial",
           "error",
           "less information",
           "same information",
           "more information",
           "different information",
           "no error",
           "trivial",
           "error",
           "no error",
           "trivial",
           "error",
           "no error",
           "trivial",
           "error",
           "no error",
           "trivial",
           "error",
           "less information",
           "same information",
           "more information",
           "different information",
           "no error",
           "trivial",
           "error",
           "no error",
           "trivial",
           "error",
           "no error",
           "trivial",
           "error",
           "no error",
           "trivial",
           "error",
           "less information",
           "same information",
           "more information",
           "different information",
           "no error",
           "trivial",
           "error",
           "no error",
           "trivial",
           "error",
           "no error",
           "trivial",
           "error",
           "no error",
           "trivial",
           "error",
           "less information",
           "same information",
           "more information",
           "different information",
           "no error",
           "trivial",
           "error",
           "no error",
           "trivial",
           "error",
           "no error",
           "trivial",
           "error",
           "no error",
           "trivial",
           "error",
           "less information",
           "same information",
           "more information",
           "different information",
           "no error",
           "trivial",
           "error",
           "no error",
           "trivial",
           "error",
           "no error",
           "trivial",
           "error",
           "no error",
           "trivial",
           "error"
          ],
          "line": {
           "color": "black",
           "width": 0.5
          },
          "pad": 5,
          "thickness": 10
         },
         "type": "sankey",
         "valueformat": "d",
         "valuesuffix": " edits"
        }
       ],
       "layout": {
        "font": {
         "size": 11
        },
        "height": 500,
        "template": {
         "data": {
          "bar": [
           {
            "error_x": {
             "color": "#2a3f5f"
            },
            "error_y": {
             "color": "#2a3f5f"
            },
            "marker": {
             "line": {
              "color": "#E5ECF6",
              "width": 0.5
             },
             "pattern": {
              "fillmode": "overlay",
              "size": 10,
              "solidity": 0.2
             }
            },
            "type": "bar"
           }
          ],
          "barpolar": [
           {
            "marker": {
             "line": {
              "color": "#E5ECF6",
              "width": 0.5
             },
             "pattern": {
              "fillmode": "overlay",
              "size": 10,
              "solidity": 0.2
             }
            },
            "type": "barpolar"
           }
          ],
          "carpet": [
           {
            "aaxis": {
             "endlinecolor": "#2a3f5f",
             "gridcolor": "white",
             "linecolor": "white",
             "minorgridcolor": "white",
             "startlinecolor": "#2a3f5f"
            },
            "baxis": {
             "endlinecolor": "#2a3f5f",
             "gridcolor": "white",
             "linecolor": "white",
             "minorgridcolor": "white",
             "startlinecolor": "#2a3f5f"
            },
            "type": "carpet"
           }
          ],
          "choropleth": [
           {
            "colorbar": {
             "outlinewidth": 0,
             "ticks": ""
            },
            "type": "choropleth"
           }
          ],
          "contour": [
           {
            "colorbar": {
             "outlinewidth": 0,
             "ticks": ""
            },
            "colorscale": [
             [
              0,
              "#0d0887"
             ],
             [
              0.1111111111111111,
              "#46039f"
             ],
             [
              0.2222222222222222,
              "#7201a8"
             ],
             [
              0.3333333333333333,
              "#9c179e"
             ],
             [
              0.4444444444444444,
              "#bd3786"
             ],
             [
              0.5555555555555556,
              "#d8576b"
             ],
             [
              0.6666666666666666,
              "#ed7953"
             ],
             [
              0.7777777777777778,
              "#fb9f3a"
             ],
             [
              0.8888888888888888,
              "#fdca26"
             ],
             [
              1,
              "#f0f921"
             ]
            ],
            "type": "contour"
           }
          ],
          "contourcarpet": [
           {
            "colorbar": {
             "outlinewidth": 0,
             "ticks": ""
            },
            "type": "contourcarpet"
           }
          ],
          "heatmap": [
           {
            "colorbar": {
             "outlinewidth": 0,
             "ticks": ""
            },
            "colorscale": [
             [
              0,
              "#0d0887"
             ],
             [
              0.1111111111111111,
              "#46039f"
             ],
             [
              0.2222222222222222,
              "#7201a8"
             ],
             [
              0.3333333333333333,
              "#9c179e"
             ],
             [
              0.4444444444444444,
              "#bd3786"
             ],
             [
              0.5555555555555556,
              "#d8576b"
             ],
             [
              0.6666666666666666,
              "#ed7953"
             ],
             [
              0.7777777777777778,
              "#fb9f3a"
             ],
             [
              0.8888888888888888,
              "#fdca26"
             ],
             [
              1,
              "#f0f921"
             ]
            ],
            "type": "heatmap"
           }
          ],
          "heatmapgl": [
           {
            "colorbar": {
             "outlinewidth": 0,
             "ticks": ""
            },
            "colorscale": [
             [
              0,
              "#0d0887"
             ],
             [
              0.1111111111111111,
              "#46039f"
             ],
             [
              0.2222222222222222,
              "#7201a8"
             ],
             [
              0.3333333333333333,
              "#9c179e"
             ],
             [
              0.4444444444444444,
              "#bd3786"
             ],
             [
              0.5555555555555556,
              "#d8576b"
             ],
             [
              0.6666666666666666,
              "#ed7953"
             ],
             [
              0.7777777777777778,
              "#fb9f3a"
             ],
             [
              0.8888888888888888,
              "#fdca26"
             ],
             [
              1,
              "#f0f921"
             ]
            ],
            "type": "heatmapgl"
           }
          ],
          "histogram": [
           {
            "marker": {
             "pattern": {
              "fillmode": "overlay",
              "size": 10,
              "solidity": 0.2
             }
            },
            "type": "histogram"
           }
          ],
          "histogram2d": [
           {
            "colorbar": {
             "outlinewidth": 0,
             "ticks": ""
            },
            "colorscale": [
             [
              0,
              "#0d0887"
             ],
             [
              0.1111111111111111,
              "#46039f"
             ],
             [
              0.2222222222222222,
              "#7201a8"
             ],
             [
              0.3333333333333333,
              "#9c179e"
             ],
             [
              0.4444444444444444,
              "#bd3786"
             ],
             [
              0.5555555555555556,
              "#d8576b"
             ],
             [
              0.6666666666666666,
              "#ed7953"
             ],
             [
              0.7777777777777778,
              "#fb9f3a"
             ],
             [
              0.8888888888888888,
              "#fdca26"
             ],
             [
              1,
              "#f0f921"
             ]
            ],
            "type": "histogram2d"
           }
          ],
          "histogram2dcontour": [
           {
            "colorbar": {
             "outlinewidth": 0,
             "ticks": ""
            },
            "colorscale": [
             [
              0,
              "#0d0887"
             ],
             [
              0.1111111111111111,
              "#46039f"
             ],
             [
              0.2222222222222222,
              "#7201a8"
             ],
             [
              0.3333333333333333,
              "#9c179e"
             ],
             [
              0.4444444444444444,
              "#bd3786"
             ],
             [
              0.5555555555555556,
              "#d8576b"
             ],
             [
              0.6666666666666666,
              "#ed7953"
             ],
             [
              0.7777777777777778,
              "#fb9f3a"
             ],
             [
              0.8888888888888888,
              "#fdca26"
             ],
             [
              1,
              "#f0f921"
             ]
            ],
            "type": "histogram2dcontour"
           }
          ],
          "mesh3d": [
           {
            "colorbar": {
             "outlinewidth": 0,
             "ticks": ""
            },
            "type": "mesh3d"
           }
          ],
          "parcoords": [
           {
            "line": {
             "colorbar": {
              "outlinewidth": 0,
              "ticks": ""
             }
            },
            "type": "parcoords"
           }
          ],
          "pie": [
           {
            "automargin": true,
            "type": "pie"
           }
          ],
          "scatter": [
           {
            "fillpattern": {
             "fillmode": "overlay",
             "size": 10,
             "solidity": 0.2
            },
            "type": "scatter"
           }
          ],
          "scatter3d": [
           {
            "line": {
             "colorbar": {
              "outlinewidth": 0,
              "ticks": ""
             }
            },
            "marker": {
             "colorbar": {
              "outlinewidth": 0,
              "ticks": ""
             }
            },
            "type": "scatter3d"
           }
          ],
          "scattercarpet": [
           {
            "marker": {
             "colorbar": {
              "outlinewidth": 0,
              "ticks": ""
             }
            },
            "type": "scattercarpet"
           }
          ],
          "scattergeo": [
           {
            "marker": {
             "colorbar": {
              "outlinewidth": 0,
              "ticks": ""
             }
            },
            "type": "scattergeo"
           }
          ],
          "scattergl": [
           {
            "marker": {
             "colorbar": {
              "outlinewidth": 0,
              "ticks": ""
             }
            },
            "type": "scattergl"
           }
          ],
          "scattermapbox": [
           {
            "marker": {
             "colorbar": {
              "outlinewidth": 0,
              "ticks": ""
             }
            },
            "type": "scattermapbox"
           }
          ],
          "scatterpolar": [
           {
            "marker": {
             "colorbar": {
              "outlinewidth": 0,
              "ticks": ""
             }
            },
            "type": "scatterpolar"
           }
          ],
          "scatterpolargl": [
           {
            "marker": {
             "colorbar": {
              "outlinewidth": 0,
              "ticks": ""
             }
            },
            "type": "scatterpolargl"
           }
          ],
          "scatterternary": [
           {
            "marker": {
             "colorbar": {
              "outlinewidth": 0,
              "ticks": ""
             }
            },
            "type": "scatterternary"
           }
          ],
          "surface": [
           {
            "colorbar": {
             "outlinewidth": 0,
             "ticks": ""
            },
            "colorscale": [
             [
              0,
              "#0d0887"
             ],
             [
              0.1111111111111111,
              "#46039f"
             ],
             [
              0.2222222222222222,
              "#7201a8"
             ],
             [
              0.3333333333333333,
              "#9c179e"
             ],
             [
              0.4444444444444444,
              "#bd3786"
             ],
             [
              0.5555555555555556,
              "#d8576b"
             ],
             [
              0.6666666666666666,
              "#ed7953"
             ],
             [
              0.7777777777777778,
              "#fb9f3a"
             ],
             [
              0.8888888888888888,
              "#fdca26"
             ],
             [
              1,
              "#f0f921"
             ]
            ],
            "type": "surface"
           }
          ],
          "table": [
           {
            "cells": {
             "fill": {
              "color": "#EBF0F8"
             },
             "line": {
              "color": "white"
             }
            },
            "header": {
             "fill": {
              "color": "#C8D4E3"
             },
             "line": {
              "color": "white"
             }
            },
            "type": "table"
           }
          ]
         },
         "layout": {
          "annotationdefaults": {
           "arrowcolor": "#2a3f5f",
           "arrowhead": 0,
           "arrowwidth": 1
          },
          "autotypenumbers": "strict",
          "coloraxis": {
           "colorbar": {
            "outlinewidth": 0,
            "ticks": ""
           }
          },
          "colorscale": {
           "diverging": [
            [
             0,
             "#8e0152"
            ],
            [
             0.1,
             "#c51b7d"
            ],
            [
             0.2,
             "#de77ae"
            ],
            [
             0.3,
             "#f1b6da"
            ],
            [
             0.4,
             "#fde0ef"
            ],
            [
             0.5,
             "#f7f7f7"
            ],
            [
             0.6,
             "#e6f5d0"
            ],
            [
             0.7,
             "#b8e186"
            ],
            [
             0.8,
             "#7fbc41"
            ],
            [
             0.9,
             "#4d9221"
            ],
            [
             1,
             "#276419"
            ]
           ],
           "sequential": [
            [
             0,
             "#0d0887"
            ],
            [
             0.1111111111111111,
             "#46039f"
            ],
            [
             0.2222222222222222,
             "#7201a8"
            ],
            [
             0.3333333333333333,
             "#9c179e"
            ],
            [
             0.4444444444444444,
             "#bd3786"
            ],
            [
             0.5555555555555556,
             "#d8576b"
            ],
            [
             0.6666666666666666,
             "#ed7953"
            ],
            [
             0.7777777777777778,
             "#fb9f3a"
            ],
            [
             0.8888888888888888,
             "#fdca26"
            ],
            [
             1,
             "#f0f921"
            ]
           ],
           "sequentialminus": [
            [
             0,
             "#0d0887"
            ],
            [
             0.1111111111111111,
             "#46039f"
            ],
            [
             0.2222222222222222,
             "#7201a8"
            ],
            [
             0.3333333333333333,
             "#9c179e"
            ],
            [
             0.4444444444444444,
             "#bd3786"
            ],
            [
             0.5555555555555556,
             "#d8576b"
            ],
            [
             0.6666666666666666,
             "#ed7953"
            ],
            [
             0.7777777777777778,
             "#fb9f3a"
            ],
            [
             0.8888888888888888,
             "#fdca26"
            ],
            [
             1,
             "#f0f921"
            ]
           ]
          },
          "colorway": [
           "#636efa",
           "#EF553B",
           "#00cc96",
           "#ab63fa",
           "#FFA15A",
           "#19d3f3",
           "#FF6692",
           "#B6E880",
           "#FF97FF",
           "#FECB52"
          ],
          "font": {
           "color": "#2a3f5f"
          },
          "geo": {
           "bgcolor": "white",
           "lakecolor": "white",
           "landcolor": "#E5ECF6",
           "showlakes": true,
           "showland": true,
           "subunitcolor": "white"
          },
          "hoverlabel": {
           "align": "left"
          },
          "hovermode": "closest",
          "mapbox": {
           "style": "light"
          },
          "paper_bgcolor": "white",
          "plot_bgcolor": "#E5ECF6",
          "polar": {
           "angularaxis": {
            "gridcolor": "white",
            "linecolor": "white",
            "ticks": ""
           },
           "bgcolor": "#E5ECF6",
           "radialaxis": {
            "gridcolor": "white",
            "linecolor": "white",
            "ticks": ""
           }
          },
          "scene": {
           "xaxis": {
            "backgroundcolor": "#E5ECF6",
            "gridcolor": "white",
            "gridwidth": 2,
            "linecolor": "white",
            "showbackground": true,
            "ticks": "",
            "zerolinecolor": "white"
           },
           "yaxis": {
            "backgroundcolor": "#E5ECF6",
            "gridcolor": "white",
            "gridwidth": 2,
            "linecolor": "white",
            "showbackground": true,
            "ticks": "",
            "zerolinecolor": "white"
           },
           "zaxis": {
            "backgroundcolor": "#E5ECF6",
            "gridcolor": "white",
            "gridwidth": 2,
            "linecolor": "white",
            "showbackground": true,
            "ticks": "",
            "zerolinecolor": "white"
           }
          },
          "shapedefaults": {
           "line": {
            "color": "#2a3f5f"
           }
          },
          "ternary": {
           "aaxis": {
            "gridcolor": "white",
            "linecolor": "white",
            "ticks": ""
           },
           "baxis": {
            "gridcolor": "white",
            "linecolor": "white",
            "ticks": ""
           },
           "bgcolor": "#E5ECF6",
           "caxis": {
            "gridcolor": "white",
            "linecolor": "white",
            "ticks": ""
           }
          },
          "title": {
           "x": 0.05
          },
          "xaxis": {
           "automargin": true,
           "gridcolor": "white",
           "linecolor": "white",
           "ticks": "",
           "title": {
            "standoff": 15
           },
           "zerolinecolor": "white",
           "zerolinewidth": 2
          },
          "yaxis": {
           "automargin": true,
           "gridcolor": "white",
           "linecolor": "white",
           "ticks": "",
           "title": {
            "standoff": 15
           },
           "zerolinecolor": "white",
           "zerolinewidth": 2
          }
         }
        },
        "title": {
         "text": "Edit Type Distribution"
        },
        "width": 500
       }
      }
     },
     "metadata": {},
     "output_type": "display_data"
    }
   ],
   "source": [
    "sankey_seperated(data)"
   ]
  },
  {
   "cell_type": "code",
   "execution_count": 13,
   "metadata": {},
   "outputs": [
    {
     "data": {
      "application/vnd.plotly.v1+json": {
       "config": {
        "plotlyServerURL": "https://plot.ly"
       },
       "data": [
        {
         "link": {
          "source": [
           0,
           0,
           0,
           0,
           1,
           1,
           1,
           1,
           2,
           2,
           2,
           2,
           3,
           3,
           3,
           3,
           4,
           4,
           4,
           4,
           5,
           5,
           5,
           5,
           6,
           6,
           6,
           7,
           7,
           7,
           8,
           8,
           8,
           9,
           9,
           9,
           10,
           10,
           10,
           10,
           10,
           10,
           10,
           10,
           11,
           11,
           11,
           11,
           11,
           11,
           11,
           11,
           12,
           12,
           12,
           12,
           12,
           12,
           12,
           12,
           10,
           10,
           10,
           10,
           11,
           11,
           11
          ],
          "target": [
           6,
           7,
           8,
           9,
           6,
           7,
           8,
           9,
           6,
           7,
           8,
           9,
           6,
           7,
           8,
           9,
           6,
           7,
           8,
           9,
           6,
           7,
           8,
           9,
           10,
           11,
           12,
           10,
           11,
           12,
           10,
           11,
           12,
           10,
           11,
           12,
           13,
           14,
           15,
           16,
           17,
           18,
           19,
           20,
           13,
           14,
           15,
           16,
           17,
           18,
           19,
           20,
           13,
           14,
           15,
           16,
           17,
           18,
           19,
           20,
           21,
           22,
           23,
           24,
           25,
           26,
           27
          ],
          "value": [
           396,
           0,
           0,
           0,
           0,
           0,
           131,
           0,
           52,
           400,
           12,
           48,
           0,
           73,
           0,
           0,
           0,
           121,
           0,
           0,
           0,
           25,
           0,
           0,
           443,
           0,
           5,
           416,
           131,
           72,
           31,
           45,
           67,
           0,
           0,
           48,
           0,
           0,
           0,
           0,
           0,
           0,
           0,
           0,
           0,
           0,
           0,
           0,
           0,
           0,
           0,
           0,
           5,
           48,
           22,
           1,
           0,
           11,
           28,
           72,
           132,
           271,
           313,
           174,
           33,
           8,
           4
          ]
         },
         "node": {
          "color": [
           "#ee2a2a",
           "#64C466",
           "#2186eb",
           "#3ca3a7",
           "#FF9F15",
           "#F7CE46",
           "#ee2a2a",
           "#2186eb",
           "#64C466",
           "#b103fc",
           "black",
           "black",
           "black",
           "black",
           "black",
           "black",
           "black",
           "black",
           "black",
           "black",
           "black",
           "black",
           "black",
           "black",
           "black",
           "black",
           "black",
           "black"
          ],
          "label": [
           "deletion",
           "insertion",
           "substitution",
           "reorder",
           "structure",
           "split",
           "less information",
           "same information",
           "more information",
           "different information",
           "no error",
           "trivial",
           "error",
           "Coreference",
           "Information Rewrite",
           "Repetition",
           "Contradiction",
           "Hallucination",
           "Irrelevant",
           "Unnecessary Insertion",
           "Complex Wording",
           "very bad",
           "bad",
           "good",
           "perfect",
           "trivial_0",
           "trivial_1",
           "trivial_2"
          ],
          "line": {
           "color": "black",
           "width": 0.5
          },
          "pad": 15,
          "thickness": 10
         },
         "type": "sankey",
         "valueformat": "d",
         "valuesuffix": " edits"
        }
       ],
       "layout": {
        "font": {
         "size": 11
        },
        "height": 500,
        "template": {
         "data": {
          "bar": [
           {
            "error_x": {
             "color": "#2a3f5f"
            },
            "error_y": {
             "color": "#2a3f5f"
            },
            "marker": {
             "line": {
              "color": "#E5ECF6",
              "width": 0.5
             },
             "pattern": {
              "fillmode": "overlay",
              "size": 10,
              "solidity": 0.2
             }
            },
            "type": "bar"
           }
          ],
          "barpolar": [
           {
            "marker": {
             "line": {
              "color": "#E5ECF6",
              "width": 0.5
             },
             "pattern": {
              "fillmode": "overlay",
              "size": 10,
              "solidity": 0.2
             }
            },
            "type": "barpolar"
           }
          ],
          "carpet": [
           {
            "aaxis": {
             "endlinecolor": "#2a3f5f",
             "gridcolor": "white",
             "linecolor": "white",
             "minorgridcolor": "white",
             "startlinecolor": "#2a3f5f"
            },
            "baxis": {
             "endlinecolor": "#2a3f5f",
             "gridcolor": "white",
             "linecolor": "white",
             "minorgridcolor": "white",
             "startlinecolor": "#2a3f5f"
            },
            "type": "carpet"
           }
          ],
          "choropleth": [
           {
            "colorbar": {
             "outlinewidth": 0,
             "ticks": ""
            },
            "type": "choropleth"
           }
          ],
          "contour": [
           {
            "colorbar": {
             "outlinewidth": 0,
             "ticks": ""
            },
            "colorscale": [
             [
              0,
              "#0d0887"
             ],
             [
              0.1111111111111111,
              "#46039f"
             ],
             [
              0.2222222222222222,
              "#7201a8"
             ],
             [
              0.3333333333333333,
              "#9c179e"
             ],
             [
              0.4444444444444444,
              "#bd3786"
             ],
             [
              0.5555555555555556,
              "#d8576b"
             ],
             [
              0.6666666666666666,
              "#ed7953"
             ],
             [
              0.7777777777777778,
              "#fb9f3a"
             ],
             [
              0.8888888888888888,
              "#fdca26"
             ],
             [
              1,
              "#f0f921"
             ]
            ],
            "type": "contour"
           }
          ],
          "contourcarpet": [
           {
            "colorbar": {
             "outlinewidth": 0,
             "ticks": ""
            },
            "type": "contourcarpet"
           }
          ],
          "heatmap": [
           {
            "colorbar": {
             "outlinewidth": 0,
             "ticks": ""
            },
            "colorscale": [
             [
              0,
              "#0d0887"
             ],
             [
              0.1111111111111111,
              "#46039f"
             ],
             [
              0.2222222222222222,
              "#7201a8"
             ],
             [
              0.3333333333333333,
              "#9c179e"
             ],
             [
              0.4444444444444444,
              "#bd3786"
             ],
             [
              0.5555555555555556,
              "#d8576b"
             ],
             [
              0.6666666666666666,
              "#ed7953"
             ],
             [
              0.7777777777777778,
              "#fb9f3a"
             ],
             [
              0.8888888888888888,
              "#fdca26"
             ],
             [
              1,
              "#f0f921"
             ]
            ],
            "type": "heatmap"
           }
          ],
          "heatmapgl": [
           {
            "colorbar": {
             "outlinewidth": 0,
             "ticks": ""
            },
            "colorscale": [
             [
              0,
              "#0d0887"
             ],
             [
              0.1111111111111111,
              "#46039f"
             ],
             [
              0.2222222222222222,
              "#7201a8"
             ],
             [
              0.3333333333333333,
              "#9c179e"
             ],
             [
              0.4444444444444444,
              "#bd3786"
             ],
             [
              0.5555555555555556,
              "#d8576b"
             ],
             [
              0.6666666666666666,
              "#ed7953"
             ],
             [
              0.7777777777777778,
              "#fb9f3a"
             ],
             [
              0.8888888888888888,
              "#fdca26"
             ],
             [
              1,
              "#f0f921"
             ]
            ],
            "type": "heatmapgl"
           }
          ],
          "histogram": [
           {
            "marker": {
             "pattern": {
              "fillmode": "overlay",
              "size": 10,
              "solidity": 0.2
             }
            },
            "type": "histogram"
           }
          ],
          "histogram2d": [
           {
            "colorbar": {
             "outlinewidth": 0,
             "ticks": ""
            },
            "colorscale": [
             [
              0,
              "#0d0887"
             ],
             [
              0.1111111111111111,
              "#46039f"
             ],
             [
              0.2222222222222222,
              "#7201a8"
             ],
             [
              0.3333333333333333,
              "#9c179e"
             ],
             [
              0.4444444444444444,
              "#bd3786"
             ],
             [
              0.5555555555555556,
              "#d8576b"
             ],
             [
              0.6666666666666666,
              "#ed7953"
             ],
             [
              0.7777777777777778,
              "#fb9f3a"
             ],
             [
              0.8888888888888888,
              "#fdca26"
             ],
             [
              1,
              "#f0f921"
             ]
            ],
            "type": "histogram2d"
           }
          ],
          "histogram2dcontour": [
           {
            "colorbar": {
             "outlinewidth": 0,
             "ticks": ""
            },
            "colorscale": [
             [
              0,
              "#0d0887"
             ],
             [
              0.1111111111111111,
              "#46039f"
             ],
             [
              0.2222222222222222,
              "#7201a8"
             ],
             [
              0.3333333333333333,
              "#9c179e"
             ],
             [
              0.4444444444444444,
              "#bd3786"
             ],
             [
              0.5555555555555556,
              "#d8576b"
             ],
             [
              0.6666666666666666,
              "#ed7953"
             ],
             [
              0.7777777777777778,
              "#fb9f3a"
             ],
             [
              0.8888888888888888,
              "#fdca26"
             ],
             [
              1,
              "#f0f921"
             ]
            ],
            "type": "histogram2dcontour"
           }
          ],
          "mesh3d": [
           {
            "colorbar": {
             "outlinewidth": 0,
             "ticks": ""
            },
            "type": "mesh3d"
           }
          ],
          "parcoords": [
           {
            "line": {
             "colorbar": {
              "outlinewidth": 0,
              "ticks": ""
             }
            },
            "type": "parcoords"
           }
          ],
          "pie": [
           {
            "automargin": true,
            "type": "pie"
           }
          ],
          "scatter": [
           {
            "fillpattern": {
             "fillmode": "overlay",
             "size": 10,
             "solidity": 0.2
            },
            "type": "scatter"
           }
          ],
          "scatter3d": [
           {
            "line": {
             "colorbar": {
              "outlinewidth": 0,
              "ticks": ""
             }
            },
            "marker": {
             "colorbar": {
              "outlinewidth": 0,
              "ticks": ""
             }
            },
            "type": "scatter3d"
           }
          ],
          "scattercarpet": [
           {
            "marker": {
             "colorbar": {
              "outlinewidth": 0,
              "ticks": ""
             }
            },
            "type": "scattercarpet"
           }
          ],
          "scattergeo": [
           {
            "marker": {
             "colorbar": {
              "outlinewidth": 0,
              "ticks": ""
             }
            },
            "type": "scattergeo"
           }
          ],
          "scattergl": [
           {
            "marker": {
             "colorbar": {
              "outlinewidth": 0,
              "ticks": ""
             }
            },
            "type": "scattergl"
           }
          ],
          "scattermapbox": [
           {
            "marker": {
             "colorbar": {
              "outlinewidth": 0,
              "ticks": ""
             }
            },
            "type": "scattermapbox"
           }
          ],
          "scatterpolar": [
           {
            "marker": {
             "colorbar": {
              "outlinewidth": 0,
              "ticks": ""
             }
            },
            "type": "scatterpolar"
           }
          ],
          "scatterpolargl": [
           {
            "marker": {
             "colorbar": {
              "outlinewidth": 0,
              "ticks": ""
             }
            },
            "type": "scatterpolargl"
           }
          ],
          "scatterternary": [
           {
            "marker": {
             "colorbar": {
              "outlinewidth": 0,
              "ticks": ""
             }
            },
            "type": "scatterternary"
           }
          ],
          "surface": [
           {
            "colorbar": {
             "outlinewidth": 0,
             "ticks": ""
            },
            "colorscale": [
             [
              0,
              "#0d0887"
             ],
             [
              0.1111111111111111,
              "#46039f"
             ],
             [
              0.2222222222222222,
              "#7201a8"
             ],
             [
              0.3333333333333333,
              "#9c179e"
             ],
             [
              0.4444444444444444,
              "#bd3786"
             ],
             [
              0.5555555555555556,
              "#d8576b"
             ],
             [
              0.6666666666666666,
              "#ed7953"
             ],
             [
              0.7777777777777778,
              "#fb9f3a"
             ],
             [
              0.8888888888888888,
              "#fdca26"
             ],
             [
              1,
              "#f0f921"
             ]
            ],
            "type": "surface"
           }
          ],
          "table": [
           {
            "cells": {
             "fill": {
              "color": "#EBF0F8"
             },
             "line": {
              "color": "white"
             }
            },
            "header": {
             "fill": {
              "color": "#C8D4E3"
             },
             "line": {
              "color": "white"
             }
            },
            "type": "table"
           }
          ]
         },
         "layout": {
          "annotationdefaults": {
           "arrowcolor": "#2a3f5f",
           "arrowhead": 0,
           "arrowwidth": 1
          },
          "autotypenumbers": "strict",
          "coloraxis": {
           "colorbar": {
            "outlinewidth": 0,
            "ticks": ""
           }
          },
          "colorscale": {
           "diverging": [
            [
             0,
             "#8e0152"
            ],
            [
             0.1,
             "#c51b7d"
            ],
            [
             0.2,
             "#de77ae"
            ],
            [
             0.3,
             "#f1b6da"
            ],
            [
             0.4,
             "#fde0ef"
            ],
            [
             0.5,
             "#f7f7f7"
            ],
            [
             0.6,
             "#e6f5d0"
            ],
            [
             0.7,
             "#b8e186"
            ],
            [
             0.8,
             "#7fbc41"
            ],
            [
             0.9,
             "#4d9221"
            ],
            [
             1,
             "#276419"
            ]
           ],
           "sequential": [
            [
             0,
             "#0d0887"
            ],
            [
             0.1111111111111111,
             "#46039f"
            ],
            [
             0.2222222222222222,
             "#7201a8"
            ],
            [
             0.3333333333333333,
             "#9c179e"
            ],
            [
             0.4444444444444444,
             "#bd3786"
            ],
            [
             0.5555555555555556,
             "#d8576b"
            ],
            [
             0.6666666666666666,
             "#ed7953"
            ],
            [
             0.7777777777777778,
             "#fb9f3a"
            ],
            [
             0.8888888888888888,
             "#fdca26"
            ],
            [
             1,
             "#f0f921"
            ]
           ],
           "sequentialminus": [
            [
             0,
             "#0d0887"
            ],
            [
             0.1111111111111111,
             "#46039f"
            ],
            [
             0.2222222222222222,
             "#7201a8"
            ],
            [
             0.3333333333333333,
             "#9c179e"
            ],
            [
             0.4444444444444444,
             "#bd3786"
            ],
            [
             0.5555555555555556,
             "#d8576b"
            ],
            [
             0.6666666666666666,
             "#ed7953"
            ],
            [
             0.7777777777777778,
             "#fb9f3a"
            ],
            [
             0.8888888888888888,
             "#fdca26"
            ],
            [
             1,
             "#f0f921"
            ]
           ]
          },
          "colorway": [
           "#636efa",
           "#EF553B",
           "#00cc96",
           "#ab63fa",
           "#FFA15A",
           "#19d3f3",
           "#FF6692",
           "#B6E880",
           "#FF97FF",
           "#FECB52"
          ],
          "font": {
           "color": "#2a3f5f"
          },
          "geo": {
           "bgcolor": "white",
           "lakecolor": "white",
           "landcolor": "#E5ECF6",
           "showlakes": true,
           "showland": true,
           "subunitcolor": "white"
          },
          "hoverlabel": {
           "align": "left"
          },
          "hovermode": "closest",
          "mapbox": {
           "style": "light"
          },
          "paper_bgcolor": "white",
          "plot_bgcolor": "#E5ECF6",
          "polar": {
           "angularaxis": {
            "gridcolor": "white",
            "linecolor": "white",
            "ticks": ""
           },
           "bgcolor": "#E5ECF6",
           "radialaxis": {
            "gridcolor": "white",
            "linecolor": "white",
            "ticks": ""
           }
          },
          "scene": {
           "xaxis": {
            "backgroundcolor": "#E5ECF6",
            "gridcolor": "white",
            "gridwidth": 2,
            "linecolor": "white",
            "showbackground": true,
            "ticks": "",
            "zerolinecolor": "white"
           },
           "yaxis": {
            "backgroundcolor": "#E5ECF6",
            "gridcolor": "white",
            "gridwidth": 2,
            "linecolor": "white",
            "showbackground": true,
            "ticks": "",
            "zerolinecolor": "white"
           },
           "zaxis": {
            "backgroundcolor": "#E5ECF6",
            "gridcolor": "white",
            "gridwidth": 2,
            "linecolor": "white",
            "showbackground": true,
            "ticks": "",
            "zerolinecolor": "white"
           }
          },
          "shapedefaults": {
           "line": {
            "color": "#2a3f5f"
           }
          },
          "ternary": {
           "aaxis": {
            "gridcolor": "white",
            "linecolor": "white",
            "ticks": ""
           },
           "baxis": {
            "gridcolor": "white",
            "linecolor": "white",
            "ticks": ""
           },
           "bgcolor": "#E5ECF6",
           "caxis": {
            "gridcolor": "white",
            "linecolor": "white",
            "ticks": ""
           }
          },
          "title": {
           "x": 0.05
          },
          "xaxis": {
           "automargin": true,
           "gridcolor": "white",
           "linecolor": "white",
           "ticks": "",
           "title": {
            "standoff": 15
           },
           "zerolinecolor": "white",
           "zerolinewidth": 2
          },
          "yaxis": {
           "automargin": true,
           "gridcolor": "white",
           "linecolor": "white",
           "ticks": "",
           "title": {
            "standoff": 15
           },
           "zerolinecolor": "white",
           "zerolinewidth": 2
          }
         }
        },
        "title": {
         "text": "Edit Type Distribution"
        },
        "width": 700
       }
      }
     },
     "metadata": {},
     "output_type": "display_data"
    }
   ],
   "source": [
    "sankey_combined(data)"
   ]
  },
  {
   "cell_type": "code",
   "execution_count": 14,
   "metadata": {},
   "outputs": [
    {
     "name": "stdout",
     "output_type": "stream",
     "text": [
      "\n",
      "Repetition\n",
      "HIT 23 \t anton \t T5\n",
      "HIT 23 \t ayush \t T5\n",
      "HIT 58 \t vinayak \t T5\n",
      "HIT 58 \t vinayak \t T5\n",
      "HIT 60 \t vinayak \t Turk Corpus\n",
      "HIT 60 \t vinayak \t Turk Corpus\n",
      "HIT 60 \t vinayak \t Turk Corpus\n",
      "HIT 68 \t vinayak \t T5\n",
      "HIT 69 \t vinayak \t ASSET 1\n",
      "HIT 114 \t anton \t T5\n",
      "HIT 120 \t anton \t Controllable\n",
      "HIT 114 \t kelly \t T5\n",
      "HIT 120 \t kelly \t Controllable\n",
      "HIT 127 \t rachel \t T5\n",
      "HIT 134 \t rachel \t Turk Corpus\n",
      "HIT 135 \t rachel \t T5\n",
      "HIT 125 \t vinayak \t ASSET 2\n",
      "HIT 135 \t vinayak \t T5\n",
      "HIT 135 \t vinayak \t T5\n",
      "HIT 125 \t vishnesh \t ASSET 2\n",
      "HIT 134 \t vishnesh \t Turk Corpus\n",
      "HIT 135 \t vishnesh \t T5\n",
      "\n",
      "Contradiction\n",
      "HIT 8 \t kelly \t T5\n",
      "\n",
      "Hallucination\n",
      "\n",
      "Irrelevant\n",
      "HIT 29 \t anton \t Controllable\n",
      "HIT 31 \t anton \t ASSET 2\n",
      "HIT 23 \t kelly \t T5\n",
      "HIT 50 \t kelly \t ASSET 1\n",
      "HIT 60 \t vinayak \t Turk Corpus\n",
      "HIT 75 \t vinayak \t ASSET 2\n",
      "HIT 60 \t vishnesh \t Turk Corpus\n",
      "HIT 60 \t vishnesh \t Turk Corpus\n",
      "HIT 105 \t anton \t Turk Corpus\n",
      "HIT 114 \t ayush \t T5\n",
      "HIT 120 \t ayush \t Controllable\n"
     ]
    }
   ],
   "source": [
    "# Prints the sentences where annotators identified insertion errors\n",
    "for error in [Error.REPETITION, Error.CONTRADICTION, Error.HALLUCINATION, Error.IRRELEVANT]:\n",
    "    print(f'\\n{error.value}')\n",
    "    for sent in data:\n",
    "        for ann in sent['processed_annotations']:\n",
    "            if ann['error_type'] == error:\n",
    "                print(f'HIT {sent[\"id\"]+1} \\t {sent[\"user\"]} \\t {system_name_mapping[sent[\"system\"]]}')"
   ]
  },
  {
   "cell_type": "code",
   "execution_count": 15,
   "metadata": {},
   "outputs": [
    {
     "name": "stdout",
     "output_type": "stream",
     "text": [
      "ASSET 1 \t 6.67\n",
      "T5 \t 1.82\n",
      "Controllable \t 1.78\n",
      "Turk Corpus \t 4.08\n",
      "ASSET 2 \t 6.24\n"
     ]
    }
   ],
   "source": [
    "# Print the avg. sentence scores for each system\n",
    "for s in systems:\n",
    "    print(f'{system_name_mapping[s]} \\t {avg([sent[\"score\"] for sent in data if sent[\"system\"] == s])}')"
   ]
  },
  {
   "cell_type": "code",
   "execution_count": 16,
   "metadata": {},
   "outputs": [
    {
     "data": {
      "image/png": "[encoded data removed]",
      "text/plain": [
       "<Figure size 432x288 with 1 Axes>"
      ]
     },
     "metadata": {
      "needs_background": "light"
     },
     "output_type": "display_data"
    }
   ],
   "source": [
    "annotations = [x for y in [sent['processed_annotations'] for sent in data] for x in y]\n",
    "avg_span_size(annotations)"
   ]
  },
  {
   "cell_type": "code",
   "execution_count": 17,
   "metadata": {},
   "outputs": [
    {
     "data": {
      "image/png": "[encoded data removed]",
      "text/plain": [
       "<Figure size 540x288 with 2 Axes>"
      ]
     },
     "metadata": {
      "needs_background": "light"
     },
     "output_type": "display_data"
    }
   ],
   "source": [
    "# Show the distribution of edit and sentence scores\n",
    "score_distribution(data)"
   ]
  },
  {
   "cell_type": "code",
   "execution_count": 18,
   "metadata": {},
   "outputs": [
    {
     "name": "stdout",
     "output_type": "stream",
     "text": [
      "Highest Scoring:\n",
      "anton - Batch 1, HIT 17 (ID 16) - 47.72427404289902\n",
      "vinayak - Batch 2, HIT 21 (ID 70) - 37.32095913250717\n",
      "kelly - Batch 1, HIT 47 (ID 46) - 34.28827424615905\n",
      "kelly - Batch 1, HIT 11 (ID 10) - 28.166154338723288\n",
      "vinayak - Batch 4, HIT 3 (ID 122) - 26.831672218681597\n",
      "\n",
      "Lowest scoring:\n",
      "anton - Batch 3, HIT 14 (ID 113) - -32.79059932310388\n",
      "vishnesh - Batch 2, HIT 21 (ID 70) - -31.044478156312206\n",
      "ayush - Batch 3, HIT 14 (ID 113) - -28.46187468298353\n",
      "vinayak - Batch 2, HIT 31 (ID 80) - -24.01313861905048\n",
      "anton - Batch 3, HIT 20 (ID 119) - -22.651010785711982\n"
     ]
    }
   ],
   "source": [
    "# Get the best and worst performing sentences\n",
    "best, worst = best_performing(data)"
   ]
  },
  {
   "cell_type": "code",
   "execution_count": 19,
   "metadata": {},
   "outputs": [
    {
     "name": "stdout",
     "output_type": "stream",
     "text": [
      "ayush - Batch 3, HIT 4 (ID 103)\n"
     ]
    },
    {
     "data": {
      "text/plain": [
       "[{'id': 103,\n",
       "  'original': 'The sheer weight of the continental icecap sitting on top of Lake Vostok is believed to contribute to the high oxygen concentration.',\n",
       "  'original_spans': [[1, 4, 9, 1], [1, 76, 84, 2]],\n",
       "  'simplified': 'The total weight of the continental icecap sitting on top of Lake Vostok is thought to contribute to the high oxygen concentration.',\n",
       "  'simplified_spans': [[1, 4, 9, 1], [1, 76, 83, 2]],\n",
       "  'system': 'new_systems/asset.test.simp.second',\n",
       "  'annotations': {'deletion': [],\n",
       "   'substitution': [None,\n",
       "    ['same', 'positive', 'somewhat', '', 'no'],\n",
       "    ['same', 'no', '', '', 'no']],\n",
       "   'insertion': [],\n",
       "   'split': [],\n",
       "   'reorder': [],\n",
       "   'structure': []},\n",
       "  'user': 'ayush',\n",
       "  'batch': 3,\n",
       "  'hit_id': 3,\n",
       "  'edits': [{'type': 'substitution',\n",
       "    'id': 0,\n",
       "    'original_span': [(4, 9)],\n",
       "    'simplified_span': [(4, 9)],\n",
       "    'annotation': ['same', 'positive', 'somewhat', '', 'no']},\n",
       "   {'type': 'substitution',\n",
       "    'id': 1,\n",
       "    'original_span': [(76, 84)],\n",
       "    'simplified_span': [(76, 83)],\n",
       "    'annotation': ['same', 'no', '', '', 'no']}],\n",
       "  'processed_annotations': [{'edit_type': 'substitution',\n",
       "    'id': 0,\n",
       "    'information_impact': <Information.SAME: 'Same Information'>,\n",
       "    'type': <Quality.QUALITY: 'No Error'>,\n",
       "    'grammar_error': False,\n",
       "    'error_type': None,\n",
       "    'rating': 1,\n",
       "    'size': 0.0,\n",
       "    'score': 0.0},\n",
       "   {'edit_type': 'substitution',\n",
       "    'id': 1,\n",
       "    'information_impact': <Information.SAME: 'Same Information'>,\n",
       "    'type': <Quality.TRIVIAL: 'Trivial'>,\n",
       "    'grammar_error': False,\n",
       "    'error_type': None,\n",
       "    'rating': None,\n",
       "    'size': 0.007575757575757576,\n",
       "    'score': 0.0}],\n",
       "  'simpeval_scores': [0.20297475647198165,\n",
       "   0.48809356011518507,\n",
       "   0.3913884455680698,\n",
       "   0.6961435669132656],\n",
       "  'score': 0.0}]"
      ]
     },
     "execution_count": 19,
     "metadata": {},
     "output_type": "execute_result"
    }
   ],
   "source": [
    "# Get setences with a score of 0\n",
    "zero_scoring_sents(data)"
   ]
  },
  {
   "cell_type": "code",
   "execution_count": 20,
   "metadata": {},
   "outputs": [
    {
     "data": {
      "image/png": "[encoded data removed]",
      "text/plain": [
       "<Figure size 540x288 with 1 Axes>"
      ]
     },
     "metadata": {
      "needs_background": "light"
     },
     "output_type": "display_data"
    }
   ],
   "source": [
    "simp_eval_systems = [\n",
    "    'systems/con_simplification.txt',\n",
    "    'systems/asset.test.simp',\n",
    "    'systems/T5.txt'\n",
    "]\n",
    "for system in simp_eval_systems:\n",
    "    scores = [(int(sum(sent['simpeval_scores'])/5), sum([x['size'] for x in sent['processed_annotations']])) for sent in data if sent['system'] == system]\n",
    "    pts = [p for p in scores if p[0] != 0]\n",
    "    plt.scatter([p[0] for p in pts], [p[1] for p in pts], c =color_mapping[system], alpha=0.5, label=system_name_mapping[system])\n",
    "plt.xlabel('Average SimpEval score')\n",
    "plt.ylabel('% of sentence modified')\n",
    "plt.title(f'More Modifications = Better? ({len(pts)} sentences)')\n",
    "plt.legend()\n",
    "plt.show()"
   ]
  },
  {
   "cell_type": "code",
   "execution_count": 24,
   "metadata": {},
   "outputs": [
    {
     "name": "stdout",
     "output_type": "stream",
     "text": [
      "Sentences with at least 1 structure change: 61 / 369\n"
     ]
    }
   ],
   "source": [
    "# Get sentences with at least 1 structure change from 1 annotator\n",
    "ids = set()\n",
    "for sent in data:\n",
    "    if 'structure' in [x['type'] for x in sent['edits']]:\n",
    "        ids.add(sent['id'])\n",
    "ids = sorted(list(ids))\n",
    "print(f'Sentences with at least 1 structure change: {len(ids)} / {len(data)}')"
   ]
  },
  {
   "cell_type": "code",
   "execution_count": 23,
   "metadata": {},
   "outputs": [
    {
     "name": "stdout",
     "output_type": "stream",
     "text": [
      "anton - Batch 1, HIT 8 (ID 7)\n",
      "\n",
      "\u001b[48;2;255;159;21m\u001b[38;5;0mTajikistan, Turkmenistan and Uzbekistan border\u001b[39m\u001b[49m Afghanistan to the north, Iran to the west, Pakistan to the south and the People's Republic of China to the east.\n",
      "Afghanistan \u001b[48;2;255;159;21m\u001b[38;5;0mis\u001b[39m\u001b[49m to the north, Iran \u001b[48;2;255;159;21m\u001b[38;5;0mis\u001b[39m\u001b[49m to the west, Pakistan \u001b[48;2;255;159;21m\u001b[38;5;0mis\u001b[39m\u001b[49m to the south, and the People's Republic of China \u001b[48;2;255;159;21m\u001b[38;5;0mis\u001b[39m\u001b[49m to the east \u001b[48;2;255;159;21m\u001b[38;5;0mof Pakistan.\u001b[39m\u001b[49m\n",
      "\n",
      "ayush - Batch 1, HIT 8 (ID 7)\n",
      "\n",
      "Tajikistan, Turkmenistan and Uzbekistan border Afghanistan to the north, Iran to the west, Pakistan to the south and the People's Republic of China to the east.\n",
      "Afghanistan \u001b[48;2;255;159;21m\u001b[38;5;0mis\u001b[39m\u001b[49m to the north, Iran \u001b[48;2;255;159;21m\u001b[38;5;0mis\u001b[39m\u001b[49m to the west, Pakistan \u001b[48;2;255;159;21m\u001b[38;5;0mis\u001b[39m\u001b[49m to the south, and the People's Republic of China \u001b[48;2;255;159;21m\u001b[38;5;0mis\u001b[39m\u001b[49m to the east of Pakistan.\n",
      "\n"
     ]
    },
    {
     "data": {
      "image/png": "[encoded data removed]",
      "text/plain": [
       "<Figure size 540x288 with 2 Axes>"
      ]
     },
     "metadata": {
      "needs_background": "light"
     },
     "output_type": "display_data"
    }
   ],
   "source": [
    "# Display a sentence with a structure change\n",
    "id_ = 0\n",
    "sents = [sent for sent in data if sent['id'] == ids[id_]]\n",
    "print_changes(sents)\n",
    "draw_agreement(sents)"
   ]
  }
 ],
 "metadata": {
  "kernelspec": {
   "display_name": "Python 3.9.0 64-bit",
   "language": "python",
   "name": "python3"
  },
  "language_info": {
   "codemirror_mode": {
    "name": "ipython",
    "version": 3
   },
   "file_extension": ".py",
   "mimetype": "text/x-python",
   "name": "python",
   "nbconvert_exporter": "python",
   "pygments_lexer": "ipython3",
   "version": "3.9.0"
  },
  "orig_nbformat": 4,
  "vscode": {
   "interpreter": {
    "hash": "81794d4967e6c3204c66dcd87b604927b115b27c00565d3d43f05ba2f3a2cb0d"
   }
  }
 },
 "nbformat": 4,
 "nbformat_minor": 2
}
