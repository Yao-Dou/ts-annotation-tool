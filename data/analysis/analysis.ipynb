{
 "cells": [
  {
   "cell_type": "code",
   "execution_count": 1,
   "metadata": {},
   "outputs": [
    {
     "name": "stdout",
     "output_type": "stream",
     "text": [
      "Loading files: ['../annotated/batch_5_anton.json', '../annotated/batch_5_ayush.json', '../annotated/batch_5_kelly.json', '../annotated/batch_5_rachel.json', '../annotated/batch_5_vinayak.json', '../annotated/batch_5_vishnesh.json', '../annotated/batch_6_anton.json', '../annotated/batch_6_ayush.json', '../annotated/batch_6_kelly.json', '../annotated/batch_6_rachel.json', '../annotated/batch_6_vinayak.json', '../annotated/batch_6_vishnesh.json', '../annotated/batch_7_anton.json', '../annotated/batch_7_ayush.json', '../annotated/batch_7_kelly.json', '../annotated/batch_7_rachel.json', '../annotated/batch_7_vinayak.json', '../annotated/batch_7_vishnesh.json', '../annotated/batch_8_anton.json', '../annotated/batch_8_ayush.json', '../annotated/batch_8_kelly.json', '../annotated/batch_8_rachel.json', '../annotated/batch_8_vinayak.json', '../annotated/batch_8_vishnesh.json', '../annotated/batch_9_ayush.json', '../annotated/batch_9_kelly.json', '../annotated/batch_9_rachel.json', '../annotated/batch_9_vinayak.json', '../annotated/batch_9_vishnesh.json', '../annotated/batch_10_anton.json', '../annotated/batch_10_ayush.json', '../annotated/batch_10_kelly.json', '../annotated/batch_10_rachel.json', '../annotated/batch_10_vinayak.json', '../annotated/batch_10_vishnesh.json', '../annotated/batch_11_anton.json', '../annotated/batch_11_ayush.json', '../annotated/batch_11_kelly.json', '../annotated/batch_11_rachel.json', '../annotated/batch_11_vinayak.json', '../annotated/batch_11_vishnesh.json']\n",
      "\n",
      "Found users: {'vinayak', 'anton', 'ayush', 'vishnesh', 'rachel', 'kelly'}\n",
      "\n",
      "anton - Batch 5, HIT 38 (ID 23) has 2 deletion edits but 1 annotations. Likely a missing annotation. Skipping edit type...\n",
      "vinayak - Batch 6, HIT 16 (ID 27) has 1 insertion edits but -1 annotations. Likely a missing annotation. Skipping edit type...\n",
      "rachel - Batch 5, HIT 21 (ID 39) has 4 deletion edits but 3 annotations. Likely a missing annotation. Skipping edit type...\n",
      "rachel - Batch 5, HIT 21 (ID 39) has 4 insertion edits but 3 annotations. Likely a missing annotation. Skipping edit type...\n",
      "rachel - Batch 5, HIT 23 (ID 41) has 1 reorder edits but -1 annotations. Likely a missing annotation. Skipping edit type...\n",
      "vinayak - Batch 5, HIT 25 (ID 56) has 5 deletion edits but 3 annotations. Likely a missing annotation. Skipping edit type...\n",
      "vinayak - Batch 5, HIT 25 (ID 56) has 2 insertion edits but 1 annotations. Likely a missing annotation. Skipping edit type...\n",
      "vinayak - Batch 5, HIT 17 (ID 61) has 3 deletion edits but 2 annotations. Likely a missing annotation. Skipping edit type...\n",
      "kelly - Batch 7, HIT 47 (ID 160) has 1 structure edits but -1 annotations. Likely a missing annotation. Skipping edit type...\n",
      "vinayak - Batch 7, HIT 17 (ID 166) has 1 split edits but 0 annotations. Likely a missing annotation. Skipping edit type...\n",
      "rachel - Batch 8, HIT 35 (ID 245) has 2 structure edits but -1 annotations. Likely a missing annotation. Skipping edit type...\n",
      "rachel - Batch 8, HIT 37 (ID 247) has 5 structure edits but 4 annotations. Likely a missing annotation. Skipping edit type...\n",
      "rachel - Batch 8, HIT 38 (ID 249) has 1 insertion edits but -1 annotations. Likely a missing annotation. Skipping edit type...\n",
      "rachel - Batch 8, HIT 46 (ID 288) has 3 deletion edits but 2 annotations. Likely a missing annotation. Skipping edit type...\n",
      "kelly - Batch 9, HIT 17 (ID 321) has 2 split edits but 0 annotations. Likely a missing annotation. Skipping edit type...\n",
      "kelly - Batch 9, HIT 18 (ID 322) has 1 split edits but 0 annotations. Likely a missing annotation. Skipping edit type...\n",
      "rachel - Batch 9, HIT 31 (ID 340) has 1 split edits but 0 annotations. Likely a missing annotation. Skipping edit type...\n",
      "rachel - Batch 9, HIT 31 (ID 340) has 3 structure edits but 2 annotations. Likely a missing annotation. Skipping edit type...\n",
      "vinayak - Batch 9, HIT 49 (ID 341) has 2 structure edits but 1 annotations. Likely a missing annotation. Skipping edit type...\n",
      "vinayak - Batch 9, HIT 56 (ID 344) has 1 split edits but 0 annotations. Likely a missing annotation. Skipping edit type...\n",
      "rachel - Batch 9, HIT 48 (ID 347) has 4 deletion edits but 3 annotations. Likely a missing annotation. Skipping edit type...\n",
      "rachel - Batch 9, HIT 54 (ID 357) has 5 deletion edits but 4 annotations. Likely a missing annotation. Skipping edit type...\n",
      "kelly - Batch 9, HIT 5 (ID 363) has 1 split edits but 0 annotations. Likely a missing annotation. Skipping edit type...\n",
      "kelly - Batch 9, HIT 6 (ID 364) has 1 split edits but 0 annotations. Likely a missing annotation. Skipping edit type...\n",
      "kelly - Batch 9, HIT 7 (ID 365) has 1 split edits but 0 annotations. Likely a missing annotation. Skipping edit type...\n",
      "kelly - Batch 9, HIT 8 (ID 366) has 1 split edits but 0 annotations. Likely a missing annotation. Skipping edit type...\n",
      "kelly - Batch 9, HIT 9 (ID 367) has 1 split edits but 0 annotations. Likely a missing annotation. Skipping edit type...\n",
      "kelly - Batch 9, HIT 11 (ID 369) has 1 split edits but 0 annotations. Likely a missing annotation. Skipping edit type...\n",
      "kelly - Batch 9, HIT 12 (ID 370) has 2 split edits but 0 annotations. Likely a missing annotation. Skipping edit type...\n",
      "rachel - Batch 9, HIT 19 (ID 373) has 1 insertion edits but -1 annotations. Likely a missing annotation. Skipping edit type...\n",
      "kelly - Batch 9, HIT 33 (ID 375) has 1 split edits but 0 annotations. Likely a missing annotation. Skipping edit type...\n",
      "kelly - Batch 9, HIT 35 (ID 377) has 1 split edits but 0 annotations. Likely a missing annotation. Skipping edit type...\n",
      "kelly - Batch 9, HIT 36 (ID 378) has 1 split edits but 0 annotations. Likely a missing annotation. Skipping edit type...\n",
      "kelly - Batch 9, HIT 41 (ID 379) has 1 split edits but 0 annotations. Likely a missing annotation. Skipping edit type...\n",
      "kelly - Batch 9, HIT 42 (ID 380) has 1 split edits but 0 annotations. Likely a missing annotation. Skipping edit type...\n",
      "kelly - Batch 9, HIT 44 (ID 382) has 1 split edits but 0 annotations. Likely a missing annotation. Skipping edit type...\n",
      "rachel - Batch 9, HIT 3 (ID 393) has 1 insertion edits but -1 annotations. Likely a missing annotation. Skipping edit type...\n",
      "rachel - Batch 9, HIT 15 (ID 401) has 5 deletion edits but 4 annotations. Likely a missing annotation. Skipping edit type...\n",
      "rachel - Batch 9, HIT 16 (ID 402) has 2 deletion edits but -1 annotations. Likely a missing annotation. Skipping edit type...\n",
      "vinayak - Batch 9, HIT 36 (ID 403) has 1 split edits but 0 annotations. Likely a missing annotation. Skipping edit type...\n",
      "rachel - Batch 9, HIT 22 (ID 404) has 4 deletion edits but 2 annotations. Likely a missing annotation. Skipping edit type...\n",
      "rachel - Batch 10, HIT 13 (ID 426) has 1 split edits but 0 annotations. Likely a missing annotation. Skipping edit type...\n",
      "rachel - Batch 10, HIT 9 (ID 429) has 5 deletion edits but -1 annotations. Likely a missing annotation. Skipping edit type...\n",
      "rachel - Batch 10, HIT 9 (ID 429) has 6 substitution edits but -1 annotations. Likely a missing annotation. Skipping edit type...\n",
      "rachel - Batch 10, HIT 9 (ID 429) has 2 insertion edits but -1 annotations. Likely a missing annotation. Skipping edit type...\n",
      "rachel - Batch 10, HIT 9 (ID 429) has 1 split edits but 0 annotations. Likely a missing annotation. Skipping edit type...\n",
      "ayush - Batch 10, HIT 38 (ID 465) has 1 split edits but 0 annotations. Likely a missing annotation. Skipping edit type...\n",
      "rachel - Batch 10, HIT 47 (ID 472) has 1 split edits but 0 annotations. Likely a missing annotation. Skipping edit type...\n",
      "rachel - Batch 10, HIT 48 (ID 473) has 2 deletion edits but 1 annotations. Likely a missing annotation. Skipping edit type...\n",
      "anton - Batch 10, HIT 73 (ID 491) has 2 structure edits but 1 annotations. Likely a missing annotation. Skipping edit type...\n",
      "vinayak - Batch 10, HIT 4 (ID 498) has 4 insertion edits but 3 annotations. Likely a missing annotation. Skipping edit type...\n",
      "ayush - Batch 10, HIT 44 (ID 509) has 3 structure edits but 2 annotations. Likely a missing annotation. Skipping edit type...\n",
      "kelly - Batch 10, HIT 51 (ID 515) has 1 insertion edits but -1 annotations. Likely a missing annotation. Skipping edit type...\n",
      "rachel - Batch 10, HIT 59 (ID 526) has 2 split edits but 1 annotations. Likely a missing annotation. Skipping edit type...\n",
      "vinayak - Batch 11, HIT 27 (ID 606) has 1 split edits but 0 annotations. Likely a missing annotation. Skipping edit type...\n",
      "rachel - Batch 11, HIT 30 (ID 612) has 1 split edits but 0 annotations. Likely a missing annotation. Skipping edit type...\n",
      "rachel - Batch 11, HIT 48 (ID 614) has 1 split edits but 0 annotations. Likely a missing annotation. Skipping edit type...\n",
      "rachel - Batch 11, HIT 49 (ID 616) has 1 split edits but 0 annotations. Likely a missing annotation. Skipping edit type...\n",
      "rachel - Batch 11, HIT 66 (ID 626) has 1 deletion edits but -1 annotations. Likely a missing annotation. Skipping edit type...\n",
      "rachel - Batch 11, HIT 66 (ID 626) has 4 split edits but 2 annotations. Likely a missing annotation. Skipping edit type...\n",
      "rachel - Batch 11, HIT 8 (ID 665) has 5 deletion edits but 4 annotations. Likely a missing annotation. Skipping edit type...\n",
      "rachel - Batch 11, HIT 52 (ID 670) has 1 deletion edits but -1 annotations. Likely a missing annotation. Skipping edit type...\n",
      "rachel - Batch 11, HIT 19 (ID 677) has 4 deletion edits but 3 annotations. Likely a missing annotation. Skipping edit type...\n",
      "When processing sentence: vinayak - Batch 6, HIT 2 (ID 1). Caught error on: Could not process edit: {'type': 'substitution', 'id': 4, 'original_span': [(164, 171)], 'simplified_span': [(166, 175)], 'annotation': None, 'token_length': 3}. Skipping...\n",
      "When processing sentence: vinayak - Batch 6, HIT 2 (ID 1). Caught error on: Could not process edit: {'type': 'substitution', 'id': 5, 'original_span': [(224, 226)], 'simplified_span': [(281, 284)], 'annotation': None, 'token_length': 2}. Skipping...\n",
      "When processing sentence: vinayak - Batch 6, HIT 27 (ID 15). Caught error on: Could not process edit: {'type': 'insertion', 'id': 1, 'original_span': None, 'simplified_span': [(49, 54)], 'annotation': None, 'token_length': 1}. Skipping...\n",
      "When processing sentence: vinayak - Batch 6, HIT 40 (ID 35). Caught error on: Could not process edit: {'type': 'insertion', 'id': 1, 'original_span': None, 'simplified_span': [(109, 112)], 'annotation': None, 'token_length': 1}. Skipping...\n",
      "When processing sentence: vinayak - Batch 6, HIT 31 (ID 46). Caught error on: Could not process edit: {'type': 'insertion', 'id': 0, 'original_span': None, 'simplified_span': [(75, 78)], 'annotation': None, 'token_length': 1}. Skipping...\n",
      "When processing sentence: rachel - Batch 6, HIT 34 (ID 79). Caught error on: ''. Skipping...\n",
      "When processing sentence: ayush - Batch 7, HIT 9 (ID 140). Caught error on: ''. Skipping...\n",
      "When processing sentence: kelly - Batch 7, HIT 47 (ID 160). Caught error on: Could not process edit: {'type': 'substitution', 'id': 3, 'original_span': [(110, 120)], 'simplified_span': [(89, 93)], 'annotation': None, 'token_length': 2}. Skipping...\n",
      "When processing sentence: vinayak - Batch 7, HIT 15 (ID 165). Caught error on: Could not process edit: {'type': 'insertion', 'id': 0, 'original_span': None, 'simplified_span': [(0, 1)], 'annotation': None, 'token_length': 1}. Skipping...\n",
      "When processing sentence: vinayak - Batch 7, HIT 17 (ID 166). Caught error on: Could not process edit: {'type': 'insertion', 'id': 0, 'original_span': None, 'simplified_span': [(73, 86)], 'annotation': None, 'token_length': 2}. Skipping...\n",
      "When processing sentence: vinayak - Batch 8, HIT 4 (ID 169). Caught error on: Could not process edit: {'type': 'insertion', 'id': 0, 'original_span': None, 'simplified_span': [(100, 102)], 'annotation': None, 'token_length': 1}. Skipping...\n",
      "When processing sentence: vinayak - Batch 7, HIT 10 (ID 176). Caught error on: Could not process edit: {'type': 'insertion', 'id': 2, 'original_span': None, 'simplified_span': [(190, 209)], 'annotation': None, 'token_length': 2}. Skipping...\n",
      "When processing sentence: rachel - Batch 7, HIT 43 (ID 202). Caught error on: ''. Skipping...\n",
      "When processing sentence: rachel - Batch 8, HIT 19 (ID 230). Caught error on: Could not process edit: {'type': 'insertion', 'id': 1, 'original_span': None, 'simplified_span': [(137, 143)], 'annotation': None, 'token_length': 1}. Skipping...\n",
      "When processing sentence: rachel - Batch 8, HIT 22 (ID 240). Caught error on: Could not process edit: {'type': 'deletion', 'id': 1, 'original_span': [(254, 269)], 'simplified_span': None, 'annotation': None, 'token_length': 1}. Skipping...\n",
      "When processing sentence: rachel - Batch 8, HIT 25 (ID 242). Caught error on: Could not process edit: {'type': 'deletion', 'id': 1, 'original_span': [(222, 235)], 'simplified_span': None, 'annotation': None, 'token_length': 3}. Skipping...\n",
      "When processing sentence: rachel - Batch 8, HIT 35 (ID 245). Caught error on: Could not process edit: {'type': 'deletion', 'id': 1, 'original_span': [(20, 23)], 'simplified_span': None, 'annotation': None, 'token_length': 1}. Skipping...\n",
      "When processing sentence: rachel - Batch 8, HIT 40 (ID 246). Caught error on: Could not process edit: {'type': 'insertion', 'id': 0, 'original_span': None, 'simplified_span': [(48, 51)], 'annotation': None, 'token_length': 1}. Skipping...\n",
      "When processing sentence: rachel - Batch 8, HIT 37 (ID 247). Caught error on: Could not process edit: {'type': 'split', 'id': 1, 'original_span': [(156, 159)], 'simplified_span': [(151, 153)], 'annotation': None, 'composite_edits': [{'type': 'deletion', 'id': 0, 'original_span': [(156, 159)], 'simplified_span': None}], 'token_length': 2}. Skipping...\n",
      "When processing sentence: rachel - Batch 8, HIT 36 (ID 248). Caught error on: Could not process edit: {'type': 'deletion', 'id': 1, 'original_span': [(180, 184)], 'simplified_span': None, 'annotation': None, 'token_length': 1}. Skipping...\n",
      "When processing sentence: rachel - Batch 8, HIT 53 (ID 253). Caught error on: Could not process edit: {'type': 'insertion', 'id': 0, 'original_span': None, 'simplified_span': [(65, 78)], 'annotation': None, 'token_length': 3}. Skipping...\n",
      "When processing sentence: rachel - Batch 8, HIT 50 (ID 256). Caught error on: Could not process edit: {'type': 'insertion', 'id': 0, 'original_span': None, 'simplified_span': [(0, 2)], 'annotation': None, 'token_length': 1}. Skipping...\n",
      "When processing sentence: vinayak - Batch 8, HIT 19 (ID 270). Caught error on: Could not process edit: {'type': 'deletion', 'id': 3, 'original_span': [(209, 213)], 'simplified_span': None, 'annotation': None, 'token_length': 1}. Skipping...\n",
      "When processing sentence: rachel - Batch 8, HIT 46 (ID 288). Caught error on: Could not process edit: {'type': 'split', 'id': 0, 'original_span': [(143, 148)], 'simplified_span': [(62, 64), (65, 67)], 'annotation': None, 'composite_edits': [{'type': 'substitution', 'id': 0, 'original_span': [(143, 148)], 'simplified_span': None}, {'type': 'insertion', 'id': 0, 'original_span': None, 'simplified_span': [(65, 67)]}], 'token_length': 3}. Skipping...\n",
      "When processing sentence: vinayak - Batch 9, HIT 56 (ID 344). Caught error on: Could not process edit: {'type': 'insertion', 'id': 0, 'original_span': None, 'simplified_span': [(70, 83)], 'annotation': None, 'token_length': 2}. Skipping...\n",
      "When processing sentence: rachel - Batch 9, HIT 51 (ID 354). Caught error on: Could not process edit: {'type': 'structure', 'id': 0, 'original_span': [(164, 170)], 'simplified_span': None, 'annotation': None, 'composite_edits': [{'type': 'deletion', 'id': 0, 'original_span': [(164, 170)], 'simplified_span': None}], 'token_length': 1}. Skipping...\n",
      "When processing sentence: vinayak - Batch 9, HIT 1 (ID 360). Caught error on: Could not process edit: {'type': 'insertion', 'id': 1, 'original_span': None, 'simplified_span': [(61, 83)], 'annotation': None, 'token_length': 4}. Skipping...\n",
      "When processing sentence: vinayak - Batch 9, HIT 10 (ID 366). Caught error on: Could not process edit: {'type': 'insertion', 'id': 0, 'original_span': None, 'simplified_span': [(64, 71)], 'annotation': None, 'token_length': 2}. Skipping...\n",
      "When processing sentence: rachel - Batch 9, HIT 34 (ID 381). Caught error on: Could not process edit: {'type': 'deletion', 'id': 1, 'original_span': [(127, 135)], 'simplified_span': None, 'annotation': None, 'token_length': 1}. Skipping...\n",
      "When processing sentence: rachel - Batch 9, HIT 57 (ID 411). Caught error on: Could not process edit: {'type': 'split', 'id': 0, 'original_span': None, 'simplified_span': [(54, 56)], 'annotation': None, 'composite_edits': [], 'token_length': 1}. Skipping...\n",
      "When processing sentence: rachel - Batch 10, HIT 36 (ID 456). Caught error on: Could not process edit: {'type': 'insertion', 'id': 0, 'original_span': None, 'simplified_span': [(17, 18)], 'annotation': None, 'token_length': 1}. Skipping...\n",
      "When processing sentence: rachel - Batch 10, HIT 40 (ID 459). Caught error on: ''. Skipping...\n",
      "When processing sentence: rachel - Batch 10, HIT 73 (ID 479). Caught error on: Could not process edit: {'type': 'deletion', 'id': 0, 'original_span': [(55, 66)], 'simplified_span': None, 'annotation': None, 'token_length': 3}. Skipping...\n",
      "When processing sentence: rachel - Batch 10, HIT 73 (ID 479). Caught error on: Could not process edit: {'type': 'deletion', 'id': 1, 'original_span': [(26, 31)], 'simplified_span': None, 'annotation': None, 'token_length': 1}. Skipping...\n",
      "When processing sentence: ayush - Batch 10, HIT 61 (ID 526). Caught error on: Could not process edit: {'type': 'reorder', 'id': 1, 'original_span': [(102, 174)], 'simplified_span': [(31, 84)], 'annotation': None, 'token_length': 22}. Skipping...\n",
      "When processing sentence: rachel - Batch 10, HIT 53 (ID 570). Caught error on: ''. Skipping...\n",
      "When processing sentence: ayush - Batch 11, HIT 4 (ID 574). Caught error on: Could not process edit: {'type': 'split', 'id': 0, 'original_span': None, 'simplified_span': [(148, 150), (151, 163)], 'annotation': None, 'composite_edits': [{'type': 'insertion', 'id': 0, 'original_span': None, 'simplified_span': [(151, 163)]}], 'token_length': 4}. Skipping...\n",
      "When processing sentence: rachel - Batch 11, HIT 24 (ID 609). Caught error on: ''. Skipping...\n",
      "When processing sentence: ayush - Batch 11, HIT 36 (ID 618). Caught error on: Could not process edit: {'type': 'split', 'id': 0, 'original_span': [(104, 126)], 'simplified_span': [(107, 109), (110, 117)], 'annotation': None, 'composite_edits': [{'type': 'substitution', 'id': 0, 'original_span': [(104, 126)], 'simplified_span': [(110, 117)]}], 'token_length': 7}. Skipping...\n",
      "When processing sentence: rachel - Batch 11, HIT 60 (ID 620). Caught error on: Could not process edit: {'type': 'deletion', 'id': 1, 'original_span': [(133, 150)], 'simplified_span': None, 'annotation': None, 'token_length': 4}. Skipping...\n",
      "When processing sentence: rachel - Batch 11, HIT 8 (ID 665). Caught error on: ''. Skipping...\n",
      "When processing sentence: rachel - Batch 11, HIT 57 (ID 668). Caught error on: Could not process edit: {'type': 'substitution', 'id': 3, 'original_span': [(65, 78)], 'simplified_span': [(62, 79)], 'annotation': None, 'token_length': 4}. Skipping...\n",
      "When processing sentence: rachel - Batch 11, HIT 20 (ID 678). Caught error on: Could not process edit: {'type': 'insertion', 'id': 1, 'original_span': None, 'simplified_span': [(59, 67)], 'annotation': None, 'token_length': 2}. Skipping...\n",
      "When processing sentence: vinayak - Batch 11, HIT 31 (ID 682). Caught error on: Could not process edit: {'type': 'deletion', 'id': 0, 'original_span': [(56, 85)], 'simplified_span': None, 'annotation': None, 'token_length': 6}. Skipping...\n",
      "When processing sentence: rachel - Batch 11, HIT 40 (ID 690). Caught error on: Could not process edit: {'type': 'insertion', 'id': 0, 'original_span': None, 'simplified_span': [(184, 189)], 'annotation': None, 'token_length': 1}. Skipping...\n"
     ]
    }
   ],
   "source": [
    "from utils.all import *\n",
    "\n",
    "# There's also 'tutorial' and 'preliminary' data\n",
    "data = load_data('../annotated', batch_num=[5, 6, 7, 8, 9, 10, 11], preprocess=True)\n",
    "systems = set([x['system'] for x in data])\n",
    "edit_types = set(data[0]['annotations'].keys())\n",
    "\n",
    "# TODO: trivial edits on substitutions aren't being processed correctly"
   ]
  },
  {
   "cell_type": "code",
   "execution_count": 2,
   "metadata": {},
   "outputs": [
    {
     "name": "stdout",
     "output_type": "stream",
     "text": [
      "0.3385579937304075\n"
     ]
    }
   ],
   "source": [
    "# Find sentences with a specific type of error\n",
    "total, found = 0, 0\n",
    "for sent in data:\n",
    "    if 'Muss' not in sent['system']:\n",
    "        continue\n",
    "\n",
    "    selected = [a for a in sent['processed_annotations'] if \n",
    "        a['information_impact'] == Information.MORE\n",
    "    ]\n",
    "\n",
    "    found += len([a for a in selected if a['error_type'] != None])\n",
    "    total += len(selected)\n",
    "print(found/total)"
   ]
  },
  {
   "cell_type": "code",
   "execution_count": 3,
   "metadata": {},
   "outputs": [
    {
     "name": "stdout",
     "output_type": "stream",
     "text": [
      "vinayak - Batch 7, HIT 33 (ID 119)\n",
      "vishnesh - Batch 8, HIT 46 (ID 217)\n",
      "ayush - Batch 8, HIT 7 (ID 258)\n",
      "ayush - Batch 9, HIT 14 (ID 312)\n",
      "kelly - Batch 11, HIT 50 (ID 629)\n"
     ]
    }
   ],
   "source": [
    "# Find sentences with a specific type of error\n",
    "for sent in data:\n",
    "    if 'GPT-3-few-shot' not in sent['system']:\n",
    "        continue\n",
    "\n",
    "    errors = [a for a in sent['processed_annotations'] if a['error_type'] is not None]\n",
    "    selected = [a for a in errors if \n",
    "        a['error_type'] != None and\n",
    "        a['error_type'] not in [Error.BAD_DELETION, Error.COREFERENCE] and\n",
    "        a['family'] == Family.CONTENT and\n",
    "        a['rating'] == 2\n",
    "    ]\n",
    "\n",
    "    if len(selected) != 0:\n",
    "        print(get_sent_info(sent))"
   ]
  },
  {
   "cell_type": "code",
   "execution_count": 4,
   "metadata": {},
   "outputs": [
    {
     "name": "stdout",
     "output_type": "stream",
     "text": [
      "ayush - Batch 8, HIT 7 (ID 258)\n",
      "new-wiki-1/GPT-3-few-shot\n",
      "kelly - Batch 8, HIT 15 (ID 258)\n",
      "new-wiki-1/GPT-3-few-shot\n",
      "vishnesh - Batch 8, HIT 28 (ID 258)\n",
      "new-wiki-1/GPT-3-few-shot\n"
     ]
    }
   ],
   "source": [
    "for sent in data:\n",
    "    if \"They imposed\" in sent['simplified']:\n",
    "        print(get_sent_info(sent))\n",
    "        print(sent['system'])"
   ]
  },
  {
   "cell_type": "code",
   "execution_count": 5,
   "metadata": {},
   "outputs": [
    {
     "name": "stdout",
     "output_type": "stream",
     "text": [
      "vinayak - Batch 7, HIT 2 (ID 95)\n",
      "vishnesh - Batch 7, HIT 18 (ID 106)\n",
      "anton - Batch 7, HIT 23 (ID 111)\n",
      "vishnesh - Batch 7, HIT 31 (ID 111)\n",
      "vishnesh - Batch 7, HIT 48 (ID 156)\n",
      "rachel - Batch 7, HIT 27 (ID 187)\n",
      "vishnesh - Batch 8, HIT 4 (ID 187)\n",
      "vishnesh - Batch 8, HIT 10 (ID 192)\n",
      "vishnesh - Batch 8, HIT 23 (ID 198)\n",
      "rachel - Batch 7, HIT 44 (ID 203)\n",
      "vishnesh - Batch 8, HIT 46 (ID 217)\n",
      "anton - Batch 8, HIT 28 (ID 230)\n",
      "vishnesh - Batch 8, HIT 28 (ID 258)\n",
      "rachel - Batch 8, HIT 2 (ID 275)\n",
      "vinayak - Batch 9, HIT 8 (ID 393)\n",
      "vishnesh - Batch 9, HIT 4 (ID 393)\n",
      "vinayak - Batch 10, HIT 12 (ID 443)\n",
      "kelly - Batch 10, HIT 47 (ID 461)\n",
      "vinayak - Batch 10, HIT 23 (ID 505)\n",
      "vishnesh - Batch 10, HIT 33 (ID 550)\n",
      "rachel - Batch 11, HIT 15 (ID 601)\n",
      "rachel - Batch 11, HIT 32 (ID 683)\n",
      "vinayak - Batch 11, HIT 32 (ID 683)\n",
      "anton - Batch 7, HIT 23 (ID 111)\n",
      "Average score: 97.44\n"
     ]
    }
   ],
   "source": [
    "# Find an example sentence\n",
    "found = []\n",
    "for sent in data:\n",
    "    if 'GPT-3-few-shot' not in sent['system']:\n",
    "        continue \n",
    "\n",
    "    errors = [a for a in sent['processed_annotations'] if a['error_type'] is not None]\n",
    "\n",
    "    # Aim for 2-4 errors\n",
    "    if len(errors) < 2:\n",
    "        continue\n",
    "\n",
    "    # Exclude longer sentences\n",
    "    if len(sent['original']) > 200:\n",
    "        continue\n",
    "\n",
    "    print(get_sent_info(sent))\n",
    "    found += [sent]\n",
    "\n",
    "# Our Winner is: anton - Batch 7, HIT 23 (ID 170)\n",
    "example = found[2]\n",
    "print(get_sent_info(found[2]))\n",
    "\n",
    "print(f\"Average score: {avg([avg(x.values()) for x in example['da_scores']])}\")"
   ]
  },
  {
   "cell_type": "code",
   "execution_count": 6,
   "metadata": {},
   "outputs": [
    {
     "name": "stdout",
     "output_type": "stream",
     "text": [
      "ANTON - HIT 66: \n",
      "\n",
      "ANTON - HIT 135: I am calling exactly a bad deletion because I think it is necessary for these sentences. It shows that Russia is deliberately targeting enough infrastructure to halt ukrainian energy production. It show's Russia's intent is calculated and cruel. \n",
      "\n",
      "AYUSH - HIT 159: sentence was copy pasted :/\n",
      "\n",
      "VISHNESH - HIT 199: Marked most successful as a bad substitution because I think there can be multiple metrics to judge a movie's success.\n",
      "\n",
      "VINAYAK - HIT 227: I wasn't exactly sure if the England team here could be singular here, but I believe it can.\n",
      "\n",
      "VISHNESH - HIT 256: I was not sure how to mark the error of \"The book\" being used at the start of the sentence without being introduced previously so I marked it as a fluency error.\n",
      "\n",
      "AYUSH - HIT 265: the sentence is the same\n",
      "\n",
      "AYUSH - HIT 266: sentence is really long to parse, probably gonna miss some annotations for this sentence\n",
      "\n",
      "AYUSH - HIT 269: Missing a split\n",
      "\n",
      "VINAYAK - HIT 269: Missing a split on Hit 17?\n",
      "\n",
      "\n",
      "VISHNESH - HIT 269: A split sign was missing for the third sentence so I annotated it as a structural edit.\n",
      "I also marked the substitutions of words in quotes as bad substitutions because those words should ideally not be paraphrased.\n",
      "\n",
      "AYUSH - HIT 287: the sentence has been repeated\n",
      "\n",
      "AYUSH - HIT 292: the sentence is the same\n",
      "\n",
      "VINAYAK - HIT 313: I believe that using a combination of a dash and a comma is not valid, and that one must use two dashes for the phrase \"the social democrats.\"\n",
      "\n",
      "AYUSH - HIT 315: this sentence is the same\n",
      "\n",
      "AYUSH - HIT 317: \n",
      "\n",
      "AYUSH - HIT 318: this sentence is the same\n",
      "\n",
      "AYUSH - HIT 336: deleted the last split as I think it was added in as an accident\n",
      "\n",
      "VINAYAK - HIT 336: Should there be the second split here?\n",
      "\n",
      "\n",
      "AYUSH - HIT 337: Deleted the split here as I think it is an accident\n",
      "\n",
      "VINAYAK - HIT 337: Should be split be here?\n",
      "\n",
      "\n",
      "AYUSH - HIT 338: Deleted the second split as I didn't view it as necessary\n",
      "\n",
      "VINAYAK - HIT 338: Should the third split be here?\n",
      "\n",
      "\n",
      "AYUSH - HIT 339: Latter split seems to come from a confusion about \"?\"\n",
      "\n",
      "VINAYAK - HIT 339: Same question as Hit 40. Should there be a split here?\n",
      "\n",
      "VINAYAK - HIT 340: I'm not entirely sure if the substitution from \"Cinematographer\" to \"cinematographer\" should be annotated.\n",
      "\n",
      "AYUSH - HIT 349: \n",
      "\n",
      "AYUSH - HIT 350: this sentence is the same\n",
      "\n",
      "VISHNESH - HIT 365: Here, the simplified sentence mistakenly conveys that the steamboat itself moves to the midlands so I marked the insertion of \"It\" separately as a hallucination.\n",
      "\n"
     ]
    }
   ],
   "source": [
    "get_comments(data)"
   ]
  },
  {
   "cell_type": "code",
   "execution_count": 7,
   "metadata": {},
   "outputs": [
    {
     "data": {
      "image/png": "[encoded data removed]",
      "text/plain": [
       "<Figure size 576x288 with 1 Axes>"
      ]
     },
     "metadata": {
      "needs_background": "light"
     },
     "output_type": "display_data"
    }
   ],
   "source": [
    "edit_type_by_system(data)"
   ]
  },
  {
   "cell_type": "code",
   "execution_count": 8,
   "metadata": {},
   "outputs": [
    {
     "data": {
      "image/png": "[encoded data removed]",
      "text/plain": [
       "<Figure size 576x288 with 1 Axes>"
      ]
     },
     "metadata": {
      "needs_background": "light"
     },
     "output_type": "display_data"
    }
   ],
   "source": [
    "system_by_information_change(data)"
   ]
  },
  {
   "cell_type": "code",
   "execution_count": 9,
   "metadata": {},
   "outputs": [
    {
     "data": {
      "image/png": "[encoded data removed]",
      "text/plain": [
       "<Figure size 720x288 with 1 Axes>"
      ]
     },
     "metadata": {
      "needs_background": "light"
     },
     "output_type": "display_data"
    }
   ],
   "source": [
    "errors_by_system(data)"
   ]
  },
  {
   "cell_type": "code",
   "execution_count": 10,
   "metadata": {},
   "outputs": [
    {
     "data": {
      "application/vnd.plotly.v1+json": {
       "config": {
        "plotlyServerURL": "https://plot.ly"
       },
       "data": [
        {
         "link": {
          "source": [
           0,
           0,
           0,
           0,
           1,
           1,
           1,
           1,
           2,
           2,
           2,
           2,
           3,
           3,
           3,
           3,
           4,
           4,
           4,
           4,
           5,
           5,
           5,
           5,
           6,
           6,
           6,
           7,
           7,
           7,
           8,
           8,
           8,
           9,
           9,
           9,
           10,
           10,
           10,
           10,
           10,
           10,
           10,
           10,
           10,
           10,
           10,
           10,
           11,
           11,
           11,
           11,
           11,
           11,
           11,
           11,
           11,
           11,
           11,
           11,
           12,
           12,
           12,
           12,
           12,
           12,
           12,
           12,
           12,
           12,
           12,
           12,
           10,
           10,
           10,
           10,
           11,
           11,
           11,
           11
          ],
          "target": [
           6,
           7,
           8,
           9,
           6,
           7,
           8,
           9,
           6,
           7,
           8,
           9,
           6,
           7,
           8,
           9,
           6,
           7,
           8,
           9,
           6,
           7,
           8,
           9,
           10,
           11,
           12,
           10,
           11,
           12,
           10,
           11,
           12,
           10,
           11,
           12,
           13,
           14,
           15,
           16,
           17,
           18,
           19,
           20,
           21,
           22,
           23,
           24,
           13,
           14,
           15,
           16,
           17,
           18,
           19,
           20,
           21,
           22,
           23,
           24,
           13,
           14,
           15,
           16,
           17,
           18,
           19,
           20,
           21,
           22,
           23,
           24,
           25,
           26,
           27,
           28,
           29,
           30,
           31,
           32
          ],
          "value": [
           2964,
           0,
           0,
           0,
           0,
           0,
           1307,
           0,
           592,
           4144,
           223,
           146,
           0,
           967,
           0,
           0,
           0,
           1417,
           0,
           0,
           0,
           1420,
           0,
           0,
           2766,
           0,
           790,
           6283,
           1059,
           606,
           1260,
           74,
           196,
           0,
           0,
           146,
           0,
           0,
           0,
           0,
           0,
           0,
           0,
           0,
           0,
           0,
           0,
           0,
           0,
           0,
           0,
           0,
           0,
           0,
           0,
           0,
           0,
           0,
           0,
           0,
           58,
           12,
           0,
           98,
           146,
           2,
           788,
           104,
           109,
           54,
           0,
           339,
           3155,
           2313,
           3485,
           1356,
           0,
           0,
           0,
           1133
          ]
         },
         "node": {
          "color": [
           "#ee2a2a",
           "#64C466",
           "#2186eb",
           "#3ca3a7",
           "#FF9F15",
           "#F7CE46",
           "#f24949",
           "#428cd6",
           "#86d95d",
           "#b103fc",
           "black",
           "black",
           "#ad9ef0",
           "#c3eb98",
           "#a2cf72",
           "#b4ed77",
           "#8ebd5c",
           "#ca54e8",
           "#e65388",
           "#eb6565",
           "#81d3d6",
           "#ffc573",
           "#f5db87",
           "#b0f5b7",
           "#8e88f7",
           "black",
           "black",
           "black",
           "black",
           "black",
           "black",
           "black",
           "black"
          ],
          "label": [
           "Deletion",
           "Insertion",
           "Substitution",
           "Reorder",
           "Structure",
           "Split",
           "Generalization",
           "Same information",
           "Elaboration",
           "Different information",
           "No error",
           "Trivial",
           "Error",
           "Repetition",
           "Contradiction",
           "Hallucination",
           "Irrelevant",
           "Information rewrite",
           "Coreference",
           "Error.bad_deletion",
           "Error.bad_reorder",
           "Error.bad_structure",
           "Error.bad_split",
           "Unnecessary insertion",
           "Complex wording",
           "Very bad",
           "Bad",
           "Good",
           "Perfect",
           "0 rating",
           "1 rating",
           "2 rating",
           "Trivial paraphrase"
          ],
          "line": {
           "color": "black",
           "width": 0.5
          },
          "pad": 15,
          "thickness": 10
         },
         "type": "sankey",
         "valueformat": "d",
         "valuesuffix": " edits"
        }
       ],
       "layout": {
        "font": {
         "color": "black",
         "size": 11
        },
        "height": 500,
        "template": {
         "data": {
          "bar": [
           {
            "error_x": {
             "color": "#2a3f5f"
            },
            "error_y": {
             "color": "#2a3f5f"
            },
            "marker": {
             "line": {
              "color": "#E5ECF6",
              "width": 0.5
             },
             "pattern": {
              "fillmode": "overlay",
              "size": 10,
              "solidity": 0.2
             }
            },
            "type": "bar"
           }
          ],
          "barpolar": [
           {
            "marker": {
             "line": {
              "color": "#E5ECF6",
              "width": 0.5
             },
             "pattern": {
              "fillmode": "overlay",
              "size": 10,
              "solidity": 0.2
             }
            },
            "type": "barpolar"
           }
          ],
          "carpet": [
           {
            "aaxis": {
             "endlinecolor": "#2a3f5f",
             "gridcolor": "white",
             "linecolor": "white",
             "minorgridcolor": "white",
             "startlinecolor": "#2a3f5f"
            },
            "baxis": {
             "endlinecolor": "#2a3f5f",
             "gridcolor": "white",
             "linecolor": "white",
             "minorgridcolor": "white",
             "startlinecolor": "#2a3f5f"
            },
            "type": "carpet"
           }
          ],
          "choropleth": [
           {
            "colorbar": {
             "outlinewidth": 0,
             "ticks": ""
            },
            "type": "choropleth"
           }
          ],
          "contour": [
           {
            "colorbar": {
             "outlinewidth": 0,
             "ticks": ""
            },
            "colorscale": [
             [
              0,
              "#0d0887"
             ],
             [
              0.1111111111111111,
              "#46039f"
             ],
             [
              0.2222222222222222,
              "#7201a8"
             ],
             [
              0.3333333333333333,
              "#9c179e"
             ],
             [
              0.4444444444444444,
              "#bd3786"
             ],
             [
              0.5555555555555556,
              "#d8576b"
             ],
             [
              0.6666666666666666,
              "#ed7953"
             ],
             [
              0.7777777777777778,
              "#fb9f3a"
             ],
             [
              0.8888888888888888,
              "#fdca26"
             ],
             [
              1,
              "#f0f921"
             ]
            ],
            "type": "contour"
           }
          ],
          "contourcarpet": [
           {
            "colorbar": {
             "outlinewidth": 0,
             "ticks": ""
            },
            "type": "contourcarpet"
           }
          ],
          "heatmap": [
           {
            "colorbar": {
             "outlinewidth": 0,
             "ticks": ""
            },
            "colorscale": [
             [
              0,
              "#0d0887"
             ],
             [
              0.1111111111111111,
              "#46039f"
             ],
             [
              0.2222222222222222,
              "#7201a8"
             ],
             [
              0.3333333333333333,
              "#9c179e"
             ],
             [
              0.4444444444444444,
              "#bd3786"
             ],
             [
              0.5555555555555556,
              "#d8576b"
             ],
             [
              0.6666666666666666,
              "#ed7953"
             ],
             [
              0.7777777777777778,
              "#fb9f3a"
             ],
             [
              0.8888888888888888,
              "#fdca26"
             ],
             [
              1,
              "#f0f921"
             ]
            ],
            "type": "heatmap"
           }
          ],
          "heatmapgl": [
           {
            "colorbar": {
             "outlinewidth": 0,
             "ticks": ""
            },
            "colorscale": [
             [
              0,
              "#0d0887"
             ],
             [
              0.1111111111111111,
              "#46039f"
             ],
             [
              0.2222222222222222,
              "#7201a8"
             ],
             [
              0.3333333333333333,
              "#9c179e"
             ],
             [
              0.4444444444444444,
              "#bd3786"
             ],
             [
              0.5555555555555556,
              "#d8576b"
             ],
             [
              0.6666666666666666,
              "#ed7953"
             ],
             [
              0.7777777777777778,
              "#fb9f3a"
             ],
             [
              0.8888888888888888,
              "#fdca26"
             ],
             [
              1,
              "#f0f921"
             ]
            ],
            "type": "heatmapgl"
           }
          ],
          "histogram": [
           {
            "marker": {
             "pattern": {
              "fillmode": "overlay",
              "size": 10,
              "solidity": 0.2
             }
            },
            "type": "histogram"
           }
          ],
          "histogram2d": [
           {
            "colorbar": {
             "outlinewidth": 0,
             "ticks": ""
            },
            "colorscale": [
             [
              0,
              "#0d0887"
             ],
             [
              0.1111111111111111,
              "#46039f"
             ],
             [
              0.2222222222222222,
              "#7201a8"
             ],
             [
              0.3333333333333333,
              "#9c179e"
             ],
             [
              0.4444444444444444,
              "#bd3786"
             ],
             [
              0.5555555555555556,
              "#d8576b"
             ],
             [
              0.6666666666666666,
              "#ed7953"
             ],
             [
              0.7777777777777778,
              "#fb9f3a"
             ],
             [
              0.8888888888888888,
              "#fdca26"
             ],
             [
              1,
              "#f0f921"
             ]
            ],
            "type": "histogram2d"
           }
          ],
          "histogram2dcontour": [
           {
            "colorbar": {
             "outlinewidth": 0,
             "ticks": ""
            },
            "colorscale": [
             [
              0,
              "#0d0887"
             ],
             [
              0.1111111111111111,
              "#46039f"
             ],
             [
              0.2222222222222222,
              "#7201a8"
             ],
             [
              0.3333333333333333,
              "#9c179e"
             ],
             [
              0.4444444444444444,
              "#bd3786"
             ],
             [
              0.5555555555555556,
              "#d8576b"
             ],
             [
              0.6666666666666666,
              "#ed7953"
             ],
             [
              0.7777777777777778,
              "#fb9f3a"
             ],
             [
              0.8888888888888888,
              "#fdca26"
             ],
             [
              1,
              "#f0f921"
             ]
            ],
            "type": "histogram2dcontour"
           }
          ],
          "mesh3d": [
           {
            "colorbar": {
             "outlinewidth": 0,
             "ticks": ""
            },
            "type": "mesh3d"
           }
          ],
          "parcoords": [
           {
            "line": {
             "colorbar": {
              "outlinewidth": 0,
              "ticks": ""
             }
            },
            "type": "parcoords"
           }
          ],
          "pie": [
           {
            "automargin": true,
            "type": "pie"
           }
          ],
          "scatter": [
           {
            "fillpattern": {
             "fillmode": "overlay",
             "size": 10,
             "solidity": 0.2
            },
            "type": "scatter"
           }
          ],
          "scatter3d": [
           {
            "line": {
             "colorbar": {
              "outlinewidth": 0,
              "ticks": ""
             }
            },
            "marker": {
             "colorbar": {
              "outlinewidth": 0,
              "ticks": ""
             }
            },
            "type": "scatter3d"
           }
          ],
          "scattercarpet": [
           {
            "marker": {
             "colorbar": {
              "outlinewidth": 0,
              "ticks": ""
             }
            },
            "type": "scattercarpet"
           }
          ],
          "scattergeo": [
           {
            "marker": {
             "colorbar": {
              "outlinewidth": 0,
              "ticks": ""
             }
            },
            "type": "scattergeo"
           }
          ],
          "scattergl": [
           {
            "marker": {
             "colorbar": {
              "outlinewidth": 0,
              "ticks": ""
             }
            },
            "type": "scattergl"
           }
          ],
          "scattermapbox": [
           {
            "marker": {
             "colorbar": {
              "outlinewidth": 0,
              "ticks": ""
             }
            },
            "type": "scattermapbox"
           }
          ],
          "scatterpolar": [
           {
            "marker": {
             "colorbar": {
              "outlinewidth": 0,
              "ticks": ""
             }
            },
            "type": "scatterpolar"
           }
          ],
          "scatterpolargl": [
           {
            "marker": {
             "colorbar": {
              "outlinewidth": 0,
              "ticks": ""
             }
            },
            "type": "scatterpolargl"
           }
          ],
          "scatterternary": [
           {
            "marker": {
             "colorbar": {
              "outlinewidth": 0,
              "ticks": ""
             }
            },
            "type": "scatterternary"
           }
          ],
          "surface": [
           {
            "colorbar": {
             "outlinewidth": 0,
             "ticks": ""
            },
            "colorscale": [
             [
              0,
              "#0d0887"
             ],
             [
              0.1111111111111111,
              "#46039f"
             ],
             [
              0.2222222222222222,
              "#7201a8"
             ],
             [
              0.3333333333333333,
              "#9c179e"
             ],
             [
              0.4444444444444444,
              "#bd3786"
             ],
             [
              0.5555555555555556,
              "#d8576b"
             ],
             [
              0.6666666666666666,
              "#ed7953"
             ],
             [
              0.7777777777777778,
              "#fb9f3a"
             ],
             [
              0.8888888888888888,
              "#fdca26"
             ],
             [
              1,
              "#f0f921"
             ]
            ],
            "type": "surface"
           }
          ],
          "table": [
           {
            "cells": {
             "fill": {
              "color": "#EBF0F8"
             },
             "line": {
              "color": "white"
             }
            },
            "header": {
             "fill": {
              "color": "#C8D4E3"
             },
             "line": {
              "color": "white"
             }
            },
            "type": "table"
           }
          ]
         },
         "layout": {
          "annotationdefaults": {
           "arrowcolor": "#2a3f5f",
           "arrowhead": 0,
           "arrowwidth": 1
          },
          "autotypenumbers": "strict",
          "coloraxis": {
           "colorbar": {
            "outlinewidth": 0,
            "ticks": ""
           }
          },
          "colorscale": {
           "diverging": [
            [
             0,
             "#8e0152"
            ],
            [
             0.1,
             "#c51b7d"
            ],
            [
             0.2,
             "#de77ae"
            ],
            [
             0.3,
             "#f1b6da"
            ],
            [
             0.4,
             "#fde0ef"
            ],
            [
             0.5,
             "#f7f7f7"
            ],
            [
             0.6,
             "#e6f5d0"
            ],
            [
             0.7,
             "#b8e186"
            ],
            [
             0.8,
             "#7fbc41"
            ],
            [
             0.9,
             "#4d9221"
            ],
            [
             1,
             "#276419"
            ]
           ],
           "sequential": [
            [
             0,
             "#0d0887"
            ],
            [
             0.1111111111111111,
             "#46039f"
            ],
            [
             0.2222222222222222,
             "#7201a8"
            ],
            [
             0.3333333333333333,
             "#9c179e"
            ],
            [
             0.4444444444444444,
             "#bd3786"
            ],
            [
             0.5555555555555556,
             "#d8576b"
            ],
            [
             0.6666666666666666,
             "#ed7953"
            ],
            [
             0.7777777777777778,
             "#fb9f3a"
            ],
            [
             0.8888888888888888,
             "#fdca26"
            ],
            [
             1,
             "#f0f921"
            ]
           ],
           "sequentialminus": [
            [
             0,
             "#0d0887"
            ],
            [
             0.1111111111111111,
             "#46039f"
            ],
            [
             0.2222222222222222,
             "#7201a8"
            ],
            [
             0.3333333333333333,
             "#9c179e"
            ],
            [
             0.4444444444444444,
             "#bd3786"
            ],
            [
             0.5555555555555556,
             "#d8576b"
            ],
            [
             0.6666666666666666,
             "#ed7953"
            ],
            [
             0.7777777777777778,
             "#fb9f3a"
            ],
            [
             0.8888888888888888,
             "#fdca26"
            ],
            [
             1,
             "#f0f921"
            ]
           ]
          },
          "colorway": [
           "#636efa",
           "#EF553B",
           "#00cc96",
           "#ab63fa",
           "#FFA15A",
           "#19d3f3",
           "#FF6692",
           "#B6E880",
           "#FF97FF",
           "#FECB52"
          ],
          "font": {
           "color": "#2a3f5f"
          },
          "geo": {
           "bgcolor": "white",
           "lakecolor": "white",
           "landcolor": "#E5ECF6",
           "showlakes": true,
           "showland": true,
           "subunitcolor": "white"
          },
          "hoverlabel": {
           "align": "left"
          },
          "hovermode": "closest",
          "mapbox": {
           "style": "light"
          },
          "paper_bgcolor": "white",
          "plot_bgcolor": "#E5ECF6",
          "polar": {
           "angularaxis": {
            "gridcolor": "white",
            "linecolor": "white",
            "ticks": ""
           },
           "bgcolor": "#E5ECF6",
           "radialaxis": {
            "gridcolor": "white",
            "linecolor": "white",
            "ticks": ""
           }
          },
          "scene": {
           "xaxis": {
            "backgroundcolor": "#E5ECF6",
            "gridcolor": "white",
            "gridwidth": 2,
            "linecolor": "white",
            "showbackground": true,
            "ticks": "",
            "zerolinecolor": "white"
           },
           "yaxis": {
            "backgroundcolor": "#E5ECF6",
            "gridcolor": "white",
            "gridwidth": 2,
            "linecolor": "white",
            "showbackground": true,
            "ticks": "",
            "zerolinecolor": "white"
           },
           "zaxis": {
            "backgroundcolor": "#E5ECF6",
            "gridcolor": "white",
            "gridwidth": 2,
            "linecolor": "white",
            "showbackground": true,
            "ticks": "",
            "zerolinecolor": "white"
           }
          },
          "shapedefaults": {
           "line": {
            "color": "#2a3f5f"
           }
          },
          "ternary": {
           "aaxis": {
            "gridcolor": "white",
            "linecolor": "white",
            "ticks": ""
           },
           "baxis": {
            "gridcolor": "white",
            "linecolor": "white",
            "ticks": ""
           },
           "bgcolor": "#E5ECF6",
           "caxis": {
            "gridcolor": "white",
            "linecolor": "white",
            "ticks": ""
           }
          },
          "title": {
           "x": 0.05
          },
          "xaxis": {
           "automargin": true,
           "gridcolor": "white",
           "linecolor": "white",
           "ticks": "",
           "title": {
            "standoff": 15
           },
           "zerolinecolor": "white",
           "zerolinewidth": 2
          },
          "yaxis": {
           "automargin": true,
           "gridcolor": "white",
           "linecolor": "white",
           "ticks": "",
           "title": {
            "standoff": 15
           },
           "zerolinecolor": "white",
           "zerolinewidth": 2
          }
         }
        },
        "title": {
         "text": ""
        },
        "width": 700
       }
      }
     },
     "metadata": {},
     "output_type": "display_data"
    }
   ],
   "source": [
    "sankey_combined(data)"
   ]
  },
  {
   "cell_type": "code",
   "execution_count": 11,
   "metadata": {},
   "outputs": [
    {
     "name": "stdout",
     "output_type": "stream",
     "text": [
      "MUSS \t 0.78\n",
      "T5 3B \t 0.23\n",
      "Human 2 \t 1.54\n",
      "T5 11B \t 0.11\n",
      "Human 1 \t 1.57\n",
      "Zero-shot GPT-3.5 \t 1.32\n",
      "Few-shot GPT-3.5 \t 1.41\n"
     ]
    }
   ],
   "source": [
    "# Print the avg. sentence scores for each system\n",
    "for s in systems:\n",
    "    print(f'{system_name_mapping[s]} \\t {avg([sent[\"score\"] for sent in data if sent[\"system\"] == s])}')"
   ]
  },
  {
   "cell_type": "code",
   "execution_count": 12,
   "metadata": {},
   "outputs": [
    {
     "data": {
      "text/plain": [
       "dict_keys(['id', 'original', 'original_spans', 'simplified', 'simplified_spans', 'system', 'annotations', 'user', 'batch', 'hit_id', 'edits', 'processed_annotations', 'simpeval_scores', 'da_scores', 'likert_scores', 'score', 'subscores'])"
      ]
     },
     "execution_count": 12,
     "metadata": {},
     "output_type": "execute_result"
    }
   ],
   "source": [
    "data[0].keys()"
   ]
  },
  {
   "cell_type": "code",
   "execution_count": 13,
   "metadata": {},
   "outputs": [
    {
     "data": {
      "text/plain": [
       "{'quality_content': 0.6617388940867583,\n",
       " 'error_content': 0.0,\n",
       " 'content': 0.6617388940867583,\n",
       " 'quality_syntax': 0.35397789379137207,\n",
       " 'error_syntax': 0.0,\n",
       " 'syntax': 0.35397789379137207,\n",
       " 'quality_lexical': 0.2817886033548646,\n",
       " 'error_lexical': 0.0,\n",
       " 'lexical': 0.2817886033548646,\n",
       " 'quality': 1.297505391232995,\n",
       " 'error': 0.0,\n",
       " 'all': 1.297505391232995}"
      ]
     },
     "execution_count": 13,
     "metadata": {},
     "output_type": "execute_result"
    }
   ],
   "source": [
    "data[0]['subscores']"
   ]
  },
  {
   "cell_type": "code",
   "execution_count": 14,
   "metadata": {},
   "outputs": [
    {
     "name": "stdout",
     "output_type": "stream",
     "text": [
      "MUSS & 0.43 & 0.64 & 0.24 & 0.50 & -0.00 & 1.21 & -0.32 & 0.50 & 1.17 & 0.99 & 0.78 & 1.22 \\tabularnewline\n",
      "T5 3B & 0.09 & 0.21 & 0.05 & 0.58 & -0.05 & 0.76 & -0.19 & 0.62 & 0.43 & 0.50 & 0.23 & 0.83 \\tabularnewline\n",
      "T5 11B & 0.06 & 0.16 & 0.03 & 0.13 & -0.13 & 0.82 & -0.17 & 0.36 & 0.28 & 0.43 & 0.11 & 0.58 \\tabularnewline\n",
      "Zero-shot GPT-3.5 & 0.52 & 0.70 & 0.16 & 0.56 & 0.58 & 0.74 & -0.23 & 0.45 & 1.55 & 1.00 & 1.32 & 1.12 \\tabularnewline\n",
      "Few-shot GPT-3.5 & 0.61 & 0.71 & 0.22 & 0.49 & 0.51 & 0.76 & -0.16 & 0.36 & 1.57 & 1.04 & 1.41 & 1.13 \\tabularnewline\n",
      "Human & 0.54 & 0.65 & 0.26 & 0.57 & 0.64 & 0.97 & -0.18 & 0.42 & 1.74 & 1.15 & 1.55 & 1.25 \\tabularnewline\n",
      "\n"
     ]
    }
   ],
   "source": [
    "# & -- & -- & -- & -- & -- & -- & -- & -- \\tabularnewline\n",
    "\n",
    "# Print the avg. sentence scores for each system\n",
    "table = ''\n",
    "\n",
    "subscores = ['lexical', 'syntax', 'content', 'error', 'quality']\n",
    "\n",
    "std = lambda x: round(np.std(x, ddof=1), 2)\n",
    "\n",
    "for system in [s for s in all_system_labels if s in systems and 'Human' not in s] + ['aggregated/human']:\n",
    "    selected = [sent for sent in data if sent[\"system\"] == system]\n",
    "    if system == 'aggregated/human':\n",
    "        selected = [sent for sent in data if 'Human' in sent['system']]\n",
    "\n",
    "    line = f'{system_name_mapping[system]} & '\n",
    "\n",
    "    for score in subscores:\n",
    "        selected_scores = [s[\"subscores\"][score] for s in selected]\n",
    "        line += f'{avg(selected_scores, 2):.2f} & {std(selected_scores):.2f} & '\n",
    "\n",
    "    selected_scores = [s[\"score\"] for s in selected]\n",
    "    line += f'{avg(selected_scores, 2):.2f} & {std(selected_scores):.2f}'\n",
    "\n",
    "    table += f'{line} \\\\tabularnewline\\n'\n",
    "print(table)"
   ]
  },
  {
   "cell_type": "code",
   "execution_count": 15,
   "metadata": {},
   "outputs": [
    {
     "data": {
      "image/png": "[encoded data removed]",
      "text/plain": [
       "<Figure size 432x288 with 1 Axes>"
      ]
     },
     "metadata": {
      "needs_background": "light"
     },
     "output_type": "display_data"
    }
   ],
   "source": [
    "annotations = [x for y in [sent['processed_annotations'] for sent in data] for x in y]\n",
    "avg_span_size(annotations)"
   ]
  },
  {
   "cell_type": "code",
   "execution_count": 16,
   "metadata": {},
   "outputs": [
    {
     "data": {
      "image/png": "[encoded data removed]",
      "text/plain": [
       "<Figure size 432x288 with 1 Axes>"
      ]
     },
     "metadata": {
      "needs_background": "light"
     },
     "output_type": "display_data"
    }
   ],
   "source": [
    "class Tmp(Enum):\n",
    "    NO_ERROR = 'No Error'\n",
    "\n",
    "error_segmentation = {}\n",
    "for error in Error:\n",
    "    error_segmentation[error] = [sent for sent in data if any([ann['error_type'] == error for ann in sent['processed_annotations']])]\n",
    "error_segmentation[Tmp.NO_ERROR] = [sent for sent in data if not any([ann['error_type'] == error for ann in sent['processed_annotations']])]\n",
    "\n",
    "pts = []\n",
    "pts += [(error, avg([s['score'] for s in error_segmentation[error]])) for error in error_segmentation.keys()]\n",
    "pts = sorted([p for p in pts if p[1] != 0], key=lambda x: x[1])\n",
    "\n",
    "fig, ax = plt.subplots(figsize=(6, 4))\n",
    "\n",
    "cust_mapping = color_mapping\n",
    "cust_mapping[Tmp.NO_ERROR] = '#ededed'\n",
    "\n",
    "ax.bar([p[0].value for p in pts], [p[1] for p in pts], width, color=[cust_mapping[label] for label in [p[0] for p in pts]])\n",
    "plt.xticks(rotation=45, ha=\"right\")\n",
    "ax.set_ylabel('Our Score')\n",
    "ax.set_title('Scoring for Error Sentences')\n",
    "plt.show()"
   ]
  },
  {
   "cell_type": "code",
   "execution_count": 17,
   "metadata": {},
   "outputs": [
    {
     "data": {
      "image/png": "[encoded data removed]",
      "text/plain": [
       "<Figure size 1440x216 with 6 Axes>"
      ]
     },
     "metadata": {
      "needs_background": "light"
     },
     "output_type": "display_data"
    }
   ],
   "source": [
    "class Tmp(Enum):\n",
    "    NO_ERROR = 'No Error'\n",
    "\n",
    "cust_systems = [s for s in systems if 'Human' not in s] + ['aggregated/human']\n",
    "\n",
    "fig, ax = plt.subplots(1, len(cust_systems), figsize=(20, 3), sharey=True, gridspec_kw = {'wspace': 0.1, 'hspace':0})\n",
    "for i, system in enumerate([s for s in all_system_labels if s in cust_systems]):\n",
    "    selected = [sent for sent in data if sent['system'] == system]\n",
    "    if system == 'aggregated/human':\n",
    "        selected = [sent for sent in data if 'Human' in sent['system']]\n",
    "\n",
    "    error_segmentation = {}\n",
    "    for error in Error:\n",
    "        error_segmentation[error] = [sent for sent in selected if any([ann['error_type'] == error for ann in sent['processed_annotations']])]\n",
    "    error_segmentation[Tmp.NO_ERROR] = [sent for sent in selected if not any([ann['error_type'] == error for ann in sent['processed_annotations']])]\n",
    "\n",
    "    pts = []\n",
    "    pts += [(error, avg([s['score'] for s in error_segmentation[error]])) for error in error_segmentation.keys()]\n",
    "    pts = sorted([p for p in pts if p[1] != 0], key=lambda x: x[1])\n",
    "\n",
    "    cust_mapping = color_mapping\n",
    "    cust_mapping[Tmp.NO_ERROR] = '#64C466'\n",
    "\n",
    "    ax[i].axhline(0, linestyle='-', color='#000', linewidth=0.3) \n",
    "\n",
    "    ax[i].bar([p[0].value for p in pts], [p[1] for p in pts], width, color=[cust_mapping[label] for label in [p[0] for p in pts]])\n",
    "    ax[i].set_title(system_name_mapping[system])\n",
    "    # ax[i].set_xticks([])\n",
    "    ax[i].set_yticks(np.arange(-30, 11, 5))\n",
    "\n",
    "\n",
    "for tick in [i for j in [x.get_xticklabels() for x in ax] for i in j]:\n",
    "    tick.set_rotation(45)\n",
    "    tick.set_horizontalalignment('right')\n",
    "\n",
    "# fig.suptitle('Avg. Error Sent Scores')\n",
    "ax[0].set_ylabel('Our Score')\n",
    "# plt.legend([p[0].value for p in pts], loc='center left', bbox_to_anchor=(1.5, 0.5), ncol=3)\n",
    "out_filename = f'img/error-scores.pdf'\n",
    "plt.savefig(out_filename, format=\"pdf\", bbox_inches='tight', pad_inches=0.0)\n",
    "plt.show()"
   ]
  },
  {
   "cell_type": "code",
   "execution_count": 18,
   "metadata": {},
   "outputs": [],
   "source": [
    "def get_annotations_by_edit_family(data, edit_type):\n",
    "    information_change = None\n",
    "    if edit_type == 'paraphrase':\n",
    "        family = Family.LEXICAL\n",
    "        edit_type = 'substitution'\n",
    "    elif edit_type == 'split' or edit_type == 'structure' or edit_type == 'reorder':\n",
    "        family = Family.SYNTAX\n",
    "    elif edit_type == 'elaboration' or edit_type == 'generalization':\n",
    "        family = Family.CONTENT\n",
    "        if edit_type == 'elaboration':\n",
    "            information_change = Information.MORE\n",
    "        elif edit_type == 'generalization':\n",
    "            information_change = Information.LESS\n",
    "    else:\n",
    "        raise ValueError(f'Edit type not supported for this operation: {edit_type}')\n",
    "\n",
    "    anns = [ann for sent in data for ann in sent['processed_annotations']]\n",
    "    selected = [ann for ann in anns if ann['family'] == family and ann['edit_type'] == edit_type]\n",
    "    if edit_type == 'elaboration' or edit_type == 'generalization':\n",
    "        selected = [ann for ann in anns if ann['information_impact'] == information_change]\n",
    "\n",
    "    return selected"
   ]
  },
  {
   "cell_type": "code",
   "execution_count": 19,
   "metadata": {},
   "outputs": [
    {
     "data": {
      "image/png": "[encoded data removed]",
      "text/plain": [
       "<Figure size 360x720 with 3 Axes>"
      ]
     },
     "metadata": {
      "needs_background": "light"
     },
     "output_type": "display_data"
    }
   ],
   "source": [
    "families = [\n",
    "    'elaboration',\n",
    "    'generalization',\n",
    "    'paraphrase',\n",
    "    'split',\n",
    "    'reorder',\n",
    "    'structure',\n",
    "]\n",
    "\n",
    "class Tmp(Enum):\n",
    "    NO_ERROR = 'No Error'\n",
    "\n",
    "width = 0.65\n",
    "annotations = [x for y in [sent['processed_annotations'] for sent in data] for x in y]\n",
    "fig, ax = plt.subplots(3, 1, figsize=(5, 10))\n",
    "\n",
    "edit_size = [avg([x['size'] for x in annotations if x['edit_type'] == edit_type]) for edit_type in edit_type_labels]\n",
    "ax[0].bar(edit_type_labels, edit_size, width, color=[color_mapping[label] for label in edit_type_labels])\n",
    "\n",
    "fam_size = [avg([x['size'] for x in get_annotations_by_edit_family(data, family)]) for family in families]\n",
    "ax[1].bar([x.capitalize() for x in families], fam_size, width, color=[color_mapping[label] for label in families])\n",
    "\n",
    "anns = [ann for sent in data for ann in sent['processed_annotations']]\n",
    "error_segmentation = {}\n",
    "for error in Error:\n",
    "    error_segmentation[error] = [a for a in anns if error == a['error_type']]\n",
    "error_segmentation[Tmp.NO_ERROR] = [a for a in anns if error == None]\n",
    "pts = []\n",
    "pts += [(error, avg([s['size'] for s in error_segmentation[error]])) for error in error_segmentation.keys()]\n",
    "pts = sorted([p for p in pts if p[1] != 0], key=lambda x: x[1])\n",
    "ax[2].bar([p[0].value for p in pts], [p[1] for p in pts], width, color=[color_mapping[label] for label in [p[0] for p in pts]])\n",
    "\n",
    "ax[0].set_xlabel('Edit Type')\n",
    "ax[1].set_xlabel('Edit Family')\n",
    "ax[2].set_xlabel('Error Type')\n",
    "\n",
    "ax[0].set_ylabel('Char Length')\n",
    "ax[1].set_ylabel('Char Length')\n",
    "ax[2].set_ylabel('Char Length')\n",
    "\n",
    "ax[0].set_title('Avg. Edit Span Size')\n",
    "ax[1].set_title('Avg. Family Span Size')\n",
    "ax[2].set_title('Avg. Error Span Size')\n",
    "\n",
    "for tick in ax[0].get_xticklabels() + ax[1].get_xticklabels() + ax[2].get_xticklabels():\n",
    "    tick.set_rotation(45)\n",
    "plt.show()"
   ]
  },
  {
   "cell_type": "code",
   "execution_count": 20,
   "metadata": {},
   "outputs": [],
   "source": [
    "# Dataset statistics table:\n",
    "\n",
    "# \\multirow{7}{*}{\\rotatebox[origin=c]{90}{Quality Evaluation}} & Elaboration & -- & -- & -- \\\\\n",
    "# & Generalization & -- & -- & -- \\\\\n",
    "# & Paraphrase & -- & -- & -- \\\\\n",
    "# & Sentence Split & -- & -- & -- \\\\\n",
    "# & Word-level Reorder & -- & -- & -- \\\\\n",
    "# & Component-level Reorder & -- & -- & -- \\\\\n",
    "# & Structure Change & -- & -- & -- \\\\\n",
    "# \\hline\n",
    "# \\multirow{14}{*}{\\rotatebox[origin=c]{90}{Error Evaluation}} & Repetition & -- & -- \\\\\n",
    "# & Contradiction & -- & -- & -- \\\\\n",
    "# & Hallucination & -- & -- & -- \\\\\n",
    "# & Irrelevant & -- & -- & -- \\\\\n",
    "# & Bad Deletion & -- & -- & -- \\\\\n",
    "# & Coreference & -- & -- & -- \\\\\n",
    "# & Information Rewrite & -- & -- & -- \\\\\n",
    "# & Bad Sentence Split & -- & -- & -- \\\\\n",
    "# & Bad Word-level Reorder & -- & -- & -- \\\\\n",
    "# & Bad Component-level Reorder & -- & -- & -- \\\\\n",
    "# & Bad Structure Change & -- & -- & -- \\\\\n",
    "# & Complex Wording & -- & -- & -- \\\\\n",
    "# & Unnecessary Insertion & -- & -- & -- \\\\\n",
    "# & Grammar Error & -- & -- & -- \\\\"
   ]
  },
  {
   "cell_type": "code",
   "execution_count": 61,
   "metadata": {},
   "outputs": [],
   "source": [
    "class Quality_Condition(Enum):\n",
    "    ELABORATION='Elaboration'\n",
    "    GENERALIZATION='Generalization'\n",
    "    PARAPHRASE='Paraphrase'\n",
    "    SPLIT='Sentence Split'\n",
    "    WORD_REORDER='Word-level Reorder'\n",
    "    COMPONENT_REORDER='Component-level Reorder'\n",
    "    STRUCTURE='Structure Change'\n",
    "\n",
    "class Error_Condition(Enum):\n",
    "    CONTRADICTION='Contradiction'\n",
    "    HALLUCINATION='Hallucination'\n",
    "    IRRELEVANT='Irrelevant'\n",
    "    BAD_DELETION='Bad Deletion'\n",
    "    COREFERENCE='Coreference'\n",
    "    INFORMATION_REWRITE='Information Rewrite'\n",
    "    BAD_SPLIT='Bad Sentence Split'\n",
    "    BAD_WORD_REORDER='Bad Word-level Reorder'\n",
    "    BAD_COMPONENT_REORDER='Bad Component-level Reorder'\n",
    "    BAD_STRUCTURE='Bad Structure Change'\n",
    "    COMPLEX_WORDING='Complex Wording'\n",
    "    # UNNECESSARY_INSERTION='Unnecessary Insertion'\n",
    "    GRAMMAR='Grammar Error'\n",
    "\n",
    "class Trivial_Condition(Enum):\n",
    "    TRIVIAL=\"Trivial Insertion\""
   ]
  },
  {
   "cell_type": "code",
   "execution_count": 62,
   "metadata": {},
   "outputs": [],
   "source": [
    "def get_edits_from_condition(edits, condition):\n",
    "    if condition == Quality_Condition.ELABORATION:\n",
    "        return [e for e in edits if \n",
    "            e['information_impact'] == Information.MORE and\n",
    "            e['type'] == Quality.QUALITY\n",
    "        ]\n",
    "    elif condition == Quality_Condition.GENERALIZATION:\n",
    "        return [e for e in edits if \n",
    "            e['information_impact'] == Information.LESS and\n",
    "            e['type'] == Quality.QUALITY\n",
    "        ]\n",
    "    elif condition == Quality_Condition.PARAPHRASE:\n",
    "        return [e for e in edits if \n",
    "            e['information_impact'] == Information.SAME and\n",
    "            e['edit_type'] == 'substitution' and\n",
    "            e['type'] == Quality.QUALITY\n",
    "        ]\n",
    "    \n",
    "    elif condition == Quality_Condition.SPLIT:\n",
    "        return [e for e in edits if \n",
    "            e['edit_type'] == 'split' and\n",
    "            e['type'] == Quality.QUALITY\n",
    "        ]\n",
    "    \n",
    "    elif condition == Quality_Condition.WORD_REORDER:\n",
    "        return [e for e in edits if \n",
    "            e['edit_type'] == 'reorder' and\n",
    "            e['reorder_level'] == ReorderLevel.WORD and\n",
    "            e['type'] == Quality.QUALITY\n",
    "        ]\n",
    "    \n",
    "    elif condition == Quality_Condition.COMPONENT_REORDER:\n",
    "        return [e for e in edits if \n",
    "            e['edit_type'] == 'reorder' and\n",
    "            e['reorder_level'] == ReorderLevel.COMPONENT and\n",
    "            e['type'] == Quality.QUALITY\n",
    "        ]\n",
    "    \n",
    "    elif condition == Quality_Condition.STRUCTURE:\n",
    "        return [e for e in edits if \n",
    "            e['edit_type'] == 'structure' and\n",
    "            e['type'] == Quality.QUALITY\n",
    "        ]\n",
    "\n",
    "    if condition == Trivial_Condition.TRIVIAL:\n",
    "        return [e for e in edits if \n",
    "            e['type'] == Quality.TRIVIAL\n",
    "        ]\n",
    "\n",
    "    edits = [e for e in edits if e['type'] == Quality.ERROR]\n",
    "\n",
    "    if condition == Error_Condition.CONTRADICTION:\n",
    "        return [e for e in edits if \n",
    "            e['error_type'] == Error.CONTRADICTION\n",
    "        ]\n",
    "    elif condition == Error_Condition.HALLUCINATION:\n",
    "        return [e for e in edits if \n",
    "            e['error_type'] == Error.HALLUCINATION\n",
    "        ]\n",
    "        \n",
    "    elif condition == Error_Condition.IRRELEVANT:\n",
    "        return [e for e in edits if \n",
    "            e['error_type'] == Error.IRRELEVANT\n",
    "        ]\n",
    "        \n",
    "    elif condition == Error_Condition.BAD_DELETION:\n",
    "        return [e for e in edits if \n",
    "            e['error_type'] == Error.BAD_DELETION\n",
    "        ]\n",
    "        \n",
    "    elif condition == Error_Condition.COREFERENCE:\n",
    "        return [e for e in edits if \n",
    "            e['error_type'] == Error.COREFERENCE\n",
    "        ]\n",
    "        \n",
    "    elif condition == Error_Condition.INFORMATION_REWRITE:\n",
    "        return [e for e in edits if \n",
    "            e['error_type'] == Error.INFORMATION_REWRITE\n",
    "        ]\n",
    "        \n",
    "    elif condition == Error_Condition.BAD_SPLIT:\n",
    "        return [e for e in edits if \n",
    "            e['error_type'] == Error.BAD_SPLIT\n",
    "        ]\n",
    "        \n",
    "    elif condition == Error_Condition.BAD_WORD_REORDER:\n",
    "        return [e for e in edits if \n",
    "            e['error_type'] == Error.BAD_REORDER and\n",
    "            e['reorder_level'] == ReorderLevel.WORD \n",
    "        ]\n",
    "        \n",
    "    elif condition == Error_Condition.BAD_COMPONENT_REORDER:\n",
    "        return [e for e in edits if \n",
    "            e['error_type'] == Error.BAD_REORDER and\n",
    "            e['reorder_level'] == ReorderLevel.COMPONENT \n",
    "        ]\n",
    "        \n",
    "    elif condition == Error_Condition.BAD_STRUCTURE:\n",
    "        return [e for e in edits if \n",
    "            e['error_type'] == Error.BAD_STRUCTURE\n",
    "        ]\n",
    "        \n",
    "    elif condition == Error_Condition.COMPLEX_WORDING:\n",
    "        return [e for e in edits if \n",
    "            e['error_type'] == Error.COMPLEX_WORDING\n",
    "        ]\n",
    "        \n",
    "    # elif condition == Error_Condition.UNNECESSARY_INSERTION:\n",
    "    #     return [e for e in edits if \n",
    "    #         e['error_type'] == Error.UNNECESSARY_INSERTION\n",
    "    #     ]\n",
    "        \n",
    "    elif condition == Error_Condition.GRAMMAR:\n",
    "        return [e for e in edits if \n",
    "            e['grammar_error'] == True\n",
    "        ]\n",
    "        "
   ]
  },
  {
   "cell_type": "code",
   "execution_count": 66,
   "metadata": {},
   "outputs": [
    {
     "name": "stdout",
     "output_type": "stream",
     "text": [
      "\\multirow{7}{*}{\\rotatebox[origin=c]{90}{Quality Evaluation}} & Elaboration & 1260 & 3207 & 0.48 \\\\\n",
      " & Generalization & 2766 & 8914 & 2.49 \\\\\n",
      " & Paraphrase & 3130 & 13550 & 1.04 \\\\\n",
      " & Sentence Split & 1351 & 5824 & 1.04 \\\\\n",
      " & Word-level Reorder & 142 & 1310 & 0.59 \\\\\n",
      " & Component-level Reorder & 583 & 5709 & 0.59 \\\\\n",
      " & Structure Change & 1070 & 6013 & 0.72 \\\\\n",
      "\\hline\n",
      "\\multirow{14}{*}{\\rotatebox[origin=c]{90}{Error Evaluation}} & Contradiction & 12 & 67 & -2.17 \\\\\n",
      " & Hallucination & 0 & 0 & 0 \\\\\n",
      " & Irrelevant & 98 & 630 & -1.66 \\\\\n",
      " & Bad Deletion & 788 & 5661 & -0.78 \\\\\n",
      " & Coreference & 2 & 7 & -2.0 \\\\\n",
      " & Information Rewrite & 146 & 918 & -0.75 \\\\\n",
      " & Bad Sentence Split & 54 & 192 & -2.22 \\\\\n",
      " & Bad Word-level Reorder & 21 & 217 & -1.52 \\\\\n",
      " & Bad Component-level Reorder & 83 & 947 & -1.88 \\\\\n",
      " & Bad Structure Change & 109 & 598 & -1.57 \\\\\n",
      " & Complex Wording & 339 & 1473 & -1.52 \\\\\n",
      " & Grammar Error & 44 & 168 & -1.66 \\\\\n",
      "\\hline\n",
      " & Trivial Insertion & 1133 & 3780 & 0 \\\\\n",
      "\n"
     ]
    }
   ],
   "source": [
    "table = ''\n",
    "\n",
    "all_edits = [i for j in [s['processed_annotations'] for s in data] for i in j]\n",
    "\n",
    "# Quality edits\n",
    "table += '\\\\multirow{7}{*}{\\\\rotatebox[origin=c]{90}{Quality Evaluation}}'\n",
    "for condition in Quality_Condition:\n",
    "    edits = get_edits_from_condition(all_edits, condition)\n",
    "    table += f' & {condition.value} & {len(edits)} & {sum([x[\"token_size\"] for x in edits])} & {avg([x[\"rating\"] for x in edits], prec=2)} \\\\\\\\\\n'\n",
    "\n",
    "table += '\\\\hline\\n\\\\multirow{14}{*}{\\\\rotatebox[origin=c]{90}{Error Evaluation}}'\n",
    "\n",
    "for condition in Error_Condition:\n",
    "    edits = get_edits_from_condition(all_edits, condition)\n",
    "    table += f' & {condition.value} & {len(edits)} & {sum([x[\"token_size\"] for x in edits])} & {-avg([x[\"rating\"] for x in edits], prec=2)} \\\\\\\\\\n'\n",
    "\n",
    "edits = get_edits_from_condition(all_edits, Trivial_Condition.TRIVIAL)\n",
    "table += f'\\\\hline\\n & Trivial Insertion & {len(edits)} & {sum([x[\"token_size\"] for x in edits])} & {0} \\\\\\\\\\n'\n",
    "\n",
    "print(table)"
   ]
  },
  {
   "cell_type": "code",
   "execution_count": 21,
   "metadata": {},
   "outputs": [
    {
     "ename": "SyntaxError",
     "evalue": "'break' outside loop (<ipython-input-21-1ad09b5553b0>, line 2)",
     "output_type": "error",
     "traceback": [
      "\u001b[1;36m  File \u001b[1;32m\"<ipython-input-21-1ad09b5553b0>\"\u001b[1;36m, line \u001b[1;32m2\u001b[0m\n\u001b[1;33m    break\u001b[0m\n\u001b[1;37m    ^\u001b[0m\n\u001b[1;31mSyntaxError\u001b[0m\u001b[1;31m:\u001b[0m 'break' outside loop\n"
     ]
    }
   ],
   "source": [
    "error_name_mapping\n",
    "break"
   ]
  },
  {
   "cell_type": "code",
   "execution_count": null,
   "metadata": {},
   "outputs": [
    {
     "data": {
      "image/png": "[encoded data removed]",
      "text/plain": [
       "<Figure size 504x288 with 2 Axes>"
      ]
     },
     "metadata": {
      "needs_background": "light"
     },
     "output_type": "display_data"
    }
   ],
   "source": [
    "families = [\n",
    "    'elaboration',\n",
    "    'generalization',\n",
    "    'paraphrase',\n",
    "    'split',\n",
    "    'reorder',\n",
    "    'structure',\n",
    "]\n",
    "\n",
    "class Tmp(Enum):\n",
    "    NO_ERROR = 'No Error'\n",
    "\n",
    "import scipy.stats as st\n",
    "def ci(int_data):\n",
    "    y1, y2 = st.t.interval(alpha=0.95, df=len(int_data)-1, loc=np.mean(int_data), scale=st.sem(int_data)) \n",
    "    # If it's too big, we just won't even return it\n",
    "    if y1 <= 0.01 or math.isnan(y1):\n",
    "        return 0\n",
    "    return (y2-y1) / 2\n",
    "\n",
    "width = 0.65\n",
    "annotations = [x for y in [sent['processed_annotations'] for sent in data] for x in y]\n",
    "fig, ax = plt.subplots(1, 2, figsize=(7, 4))\n",
    "\n",
    "fam_size = [(family, avg([x['size'] for x in get_annotations_by_edit_family(data, family)]), ci([x['size'] for x in get_annotations_by_edit_family(data, family)])) for family in families]\n",
    "pts = sorted([p for p in fam_size if p[1] != 0], key=lambda x: x[1], reverse=True)\n",
    "ax[0].bar([p[0].capitalize() for p in pts], [p[1] for p in pts], width, yerr=[p[2] for p in pts], color=[color_mapping[label] for label in families])\n",
    "\n",
    "anns = [ann for sent in data for ann in sent['processed_annotations']]\n",
    "error_segmentation = {}\n",
    "for error in Error:\n",
    "    error_segmentation[error] = [a for a in anns if error == a['error_type']]\n",
    "error_segmentation[Tmp.NO_ERROR] = [a for a in anns if error == None]\n",
    "pts = [(error, avg([s['size'] for s in error_segmentation[error]]), ci([s['size'] for s in error_segmentation[error]])) for error in error_segmentation.keys()]\n",
    "pts = sorted([p for p in pts if p[1] != 0], key=lambda x: x[1], reverse=True)\n",
    "ax[1].bar([p[0].value for p in pts], [p[1] for p in pts], width, yerr=[p[2] for p in pts], color=[color_mapping[label] for label in [p[0] for p in pts]])\n",
    "\n",
    "# ax[0].set_xlabel('Edit Family')\n",
    "# ax[1].set_xlabel('Error Type')\n",
    "\n",
    "ax[0].set_ylabel('Avg. Char Length')\n",
    "ax[1].set_ylabel('')\n",
    "\n",
    "# plt.suptitle('Avg. Edit Span Size by Type')\n",
    "# ax[1].set_title('Avg. Error Span Size')\n",
    "\n",
    "ax[0].set_yticks(np.arange(0, 0.085, 0.02))\n",
    "ax[1].set_yticks(np.arange(0, 0.17, 0.02))\n",
    "\n",
    "for tick in ax[0].get_xticklabels() + ax[1].get_xticklabels():\n",
    "    tick.set_rotation(45)\n",
    "    tick.set_horizontalalignment('right')\n",
    "\n",
    "out_filename = f'img/edit-sizes.pdf'\n",
    "plt.savefig(out_filename, format=\"pdf\", bbox_inches='tight', pad_inches=0.0)\n",
    "plt.show()"
   ]
  },
  {
   "cell_type": "code",
   "execution_count": null,
   "metadata": {},
   "outputs": [
    {
     "name": "stdout",
     "output_type": "stream",
     "text": [
      "Loading files: ['../annotated/batch_1_anton.json', '../annotated/batch_1_ayush.json', '../annotated/batch_1_kelly.json', '../annotated/batch_2_vinayak.json', '../annotated/batch_2_vishnesh.json', '../annotated/batch_3_anton.json', '../annotated/batch_3_ayush.json', '../annotated/batch_3_kelly.json', '../annotated/batch_4_rachel.json', '../annotated/batch_4_vinayak.json', '../annotated/batch_4_vishnesh.json']\n",
      "\n",
      "Found users: {'vishnesh', 'ayush', 'anton', 'vinayak', 'kelly', 'rachel'}\n",
      "\n",
      "rachel - Batch 4, HIT 5 (ID 124) has 1 split edits but 0 annotations. Likely a missing annotation. Skipping edit type...\n",
      "rachel - Batch 4, HIT 15 (ID 134) has 1 split edits but 0 annotations. Likely a missing annotation. Skipping edit type...\n",
      "When processing sentence: rachel - Batch 4, HIT 5 (ID 124). Caught error on: Could not process edit: {'type': 'deletion', 'id': 5, 'original_span': [(95, 98)], 'simplified_span': None, 'annotation': None, 'token_length': 1}. Skipping...\n"
     ]
    }
   ],
   "source": [
    "asset = load_data('../annotated', batch_num=[1, 2, 3, 4], preprocess=True)"
   ]
  },
  {
   "cell_type": "code",
   "execution_count": null,
   "metadata": {},
   "outputs": [
    {
     "ename": "KeyboardInterrupt",
     "evalue": "",
     "output_type": "error",
     "traceback": [
      "\u001b[1;31m---------------------------------------------------------------------------\u001b[0m",
      "\u001b[1;31mKeyboardInterrupt\u001b[0m                         Traceback (most recent call last)",
      "\u001b[1;32m<ipython-input-22-1ffc30811251>\u001b[0m in \u001b[0;36m<module>\u001b[1;34m\u001b[0m\n\u001b[0;32m      1\u001b[0m \u001b[1;32mfor\u001b[0m \u001b[0msent\u001b[0m \u001b[1;32min\u001b[0m \u001b[0mdata\u001b[0m\u001b[1;33m:\u001b[0m\u001b[1;33m\u001b[0m\u001b[1;33m\u001b[0m\u001b[0m\n\u001b[1;32m----> 2\u001b[1;33m     \u001b[0msent\u001b[0m\u001b[1;33m[\u001b[0m\u001b[1;34m'ed'\u001b[0m\u001b[1;33m]\u001b[0m \u001b[1;33m=\u001b[0m \u001b[0medit_dist\u001b[0m\u001b[1;33m(\u001b[0m\u001b[0msent\u001b[0m\u001b[1;33m[\u001b[0m\u001b[1;34m'original'\u001b[0m\u001b[1;33m]\u001b[0m\u001b[1;33m,\u001b[0m \u001b[0msent\u001b[0m\u001b[1;33m[\u001b[0m\u001b[1;34m'simplified'\u001b[0m\u001b[1;33m]\u001b[0m\u001b[1;33m)\u001b[0m\u001b[1;33m\u001b[0m\u001b[1;33m\u001b[0m\u001b[0m\n\u001b[0m",
      "\u001b[1;32mc:\\Users\\heine\\Documents\\research\\ts-annotation-tool\\data\\analysis\\utils\\util.py\u001b[0m in \u001b[0;36medit_dist\u001b[1;34m(s1, s2)\u001b[0m\n\u001b[0;32m    293\u001b[0m                 \u001b[0mdistances_\u001b[0m\u001b[1;33m.\u001b[0m\u001b[0mappend\u001b[0m\u001b[1;33m(\u001b[0m\u001b[0mdistances\u001b[0m\u001b[1;33m[\u001b[0m\u001b[0mi1\u001b[0m\u001b[1;33m]\u001b[0m\u001b[1;33m)\u001b[0m\u001b[1;33m\u001b[0m\u001b[1;33m\u001b[0m\u001b[0m\n\u001b[0;32m    294\u001b[0m             \u001b[1;32melse\u001b[0m\u001b[1;33m:\u001b[0m\u001b[1;33m\u001b[0m\u001b[1;33m\u001b[0m\u001b[0m\n\u001b[1;32m--> 295\u001b[1;33m                 \u001b[0mdistances_\u001b[0m\u001b[1;33m.\u001b[0m\u001b[0mappend\u001b[0m\u001b[1;33m(\u001b[0m\u001b[1;36m1\u001b[0m \u001b[1;33m+\u001b[0m \u001b[0mmin\u001b[0m\u001b[1;33m(\u001b[0m\u001b[1;33m(\u001b[0m\u001b[0mdistances\u001b[0m\u001b[1;33m[\u001b[0m\u001b[0mi1\u001b[0m\u001b[1;33m]\u001b[0m\u001b[1;33m,\u001b[0m \u001b[0mdistances\u001b[0m\u001b[1;33m[\u001b[0m\u001b[0mi1\u001b[0m \u001b[1;33m+\u001b[0m \u001b[1;36m1\u001b[0m\u001b[1;33m]\u001b[0m\u001b[1;33m,\u001b[0m \u001b[0mdistances_\u001b[0m\u001b[1;33m[\u001b[0m\u001b[1;33m-\u001b[0m\u001b[1;36m1\u001b[0m\u001b[1;33m]\u001b[0m\u001b[1;33m)\u001b[0m\u001b[1;33m)\u001b[0m\u001b[1;33m)\u001b[0m\u001b[1;33m\u001b[0m\u001b[1;33m\u001b[0m\u001b[0m\n\u001b[0m\u001b[0;32m    296\u001b[0m         \u001b[0mdistances\u001b[0m \u001b[1;33m=\u001b[0m \u001b[0mdistances_\u001b[0m\u001b[1;33m\u001b[0m\u001b[1;33m\u001b[0m\u001b[0m\n\u001b[0;32m    297\u001b[0m     \u001b[1;32mreturn\u001b[0m \u001b[0mdistances\u001b[0m\u001b[1;33m[\u001b[0m\u001b[1;33m-\u001b[0m\u001b[1;36m1\u001b[0m\u001b[1;33m]\u001b[0m\u001b[1;33m\u001b[0m\u001b[1;33m\u001b[0m\u001b[0m\n",
      "\u001b[1;31mKeyboardInterrupt\u001b[0m: "
     ]
    }
   ],
   "source": [
    "for sent in data:\n",
    "    sent['ed'] = edit_dist(sent['original'], sent['simplified'])"
   ]
  },
  {
   "cell_type": "code",
   "execution_count": null,
   "metadata": {},
   "outputs": [],
   "source": [
    "for sent in asset:\n",
    "    sent['ed'] = edit_dist(sent['original'], sent['simplified'])"
   ]
  },
  {
   "cell_type": "code",
   "execution_count": null,
   "metadata": {},
   "outputs": [
    {
     "data": {
      "image/png": "[encoded data removed]",
      "text/plain": [
       "<Figure size 432x288 with 1 Axes>"
      ]
     },
     "metadata": {
      "needs_background": "light"
     },
     "output_type": "display_data"
    }
   ],
   "source": [
    "pts = []\n",
    "for sent in data:\n",
    "    pts += [(\n",
    "        len(sent['processed_annotations']),\n",
    "        sent['ed']\n",
    "    )]\n",
    "x, y = [p[0] for p in pts], [p[1] for p in pts]\n",
    "plt.scatter(x, y, color='red', label='SimpEval', alpha=0.5)\n",
    "\n",
    "# a, b = np.polyfit(x, y, 1)\n",
    "# plt.plot(x, a*np.asarray(x)+b, color='red', alpha=0.5)\n",
    "\n",
    "pts = []\n",
    "for sent in asset:\n",
    "    pts += [(\n",
    "        len(sent['processed_annotations']),\n",
    "        sent['ed']\n",
    "    )]\n",
    "x, y = [p[0] for p in pts], [p[1] for p in pts]\n",
    "plt.scatter(x, y, color='blue', label='ASSET', alpha=0.5)\n",
    "\n",
    "# a, b = np.polyfit(x, y, 1)\n",
    "# plt.plot(x, a*np.asarray(x)+b, color='blue', alpha=0.5)\n",
    "\n",
    "plt.xticks(np.arange(0, 27, 1))\n",
    "\n",
    "# plt.title('Edit Distance vs. Number of Edits')\n",
    "plt.xlabel('Number of Edits')\n",
    "plt.ylabel('Edit Distance')\n",
    "plt.legend()\n",
    "out_filename = f'img/edit-distance-num-edits.pdf'\n",
    "plt.savefig(out_filename, format=\"pdf\", bbox_inches='tight', pad_inches=0.0)\n",
    "plt.show()"
   ]
  },
  {
   "cell_type": "code",
   "execution_count": null,
   "metadata": {},
   "outputs": [
    {
     "data": {
      "image/png": "[encoded data removed]",
      "text/plain": [
       "<Figure size 360x360 with 4 Axes>"
      ]
     },
     "metadata": {
      "needs_background": "light"
     },
     "output_type": "display_data"
    }
   ],
   "source": [
    "fig, ax = plt.subplots(2, 2, figsize=(5, 5), sharey=True)\n",
    "\n",
    "# If a bucket has less than this value, we don't include it\n",
    "representative_sample_size = 25\n",
    "\n",
    "for k, dataset in enumerate([data, asset]):\n",
    "    bucket_size = 20\n",
    "    start_amt = 0\n",
    "    end_amt = 205\n",
    "    pts = {}\n",
    "    for i in range((end_amt - start_amt) // bucket_size):\n",
    "        start_size = start_amt + i * bucket_size\n",
    "        end_size = start_amt + (i + 1) * bucket_size\n",
    "\n",
    "        selected = [s for s in dataset if start_size <= s['ed'] < end_size]\n",
    "\n",
    "        amt_splits = {}\n",
    "        for amt in range(1, 4):\n",
    "            if amt not in amt_splits.keys():\n",
    "                amt_splits[amt] = 0\n",
    "            for sent in selected:\n",
    "                if len([a for a in sent['edits'] if a['type'] == 'split']) == amt:\n",
    "                    amt_splits[amt] += 1\n",
    "        \n",
    "        for amt in range(1, 4):\n",
    "            if amt not in pts.keys():\n",
    "                pts[amt] = []\n",
    "            if len(selected) > representative_sample_size:\n",
    "                pts[amt] += [(start_size, amt_splits[amt] / len(selected))]\n",
    "            else:\n",
    "                pts[amt] += [(start_size, 0)]\n",
    "    bottom = [0 for _ in range(len(pts[1])-1)]\n",
    "    for amt in range(1, 4):\n",
    "        val = [p[1] for p in pts[amt][1:]]\n",
    "        ax[k, 0].hist([p[0] for p in pts[amt]][:-1], [p[0] for p in pts[amt]], \n",
    "            bottom=bottom, weights=[p[1] for p in pts[amt][1:]], \n",
    "            color=color_mapping[f'split-{amt}'], edgecolor='black', linewidth=1.2)\n",
    "        bottom = [b + p for b, p in zip(bottom, val)]\n",
    "\n",
    "\n",
    "    bucket_size = 20\n",
    "    start_amt = 75\n",
    "    end_amt = 300\n",
    "    pts = {}\n",
    "    for i in range((end_amt - start_amt) // bucket_size):\n",
    "        start_size = start_amt + i * bucket_size\n",
    "        end_size = start_amt + (i + 1) * bucket_size\n",
    "\n",
    "        selected = [s for s in dataset if start_size <= len(s['simplified']) < end_size]\n",
    "\n",
    "        amt_splits = {}\n",
    "        for amt in range(1, 4):\n",
    "            if amt not in amt_splits.keys():\n",
    "                amt_splits[amt] = 0\n",
    "            for sent in selected:\n",
    "                if len([a for a in sent['edits'] if a['type'] == 'split']) == amt:\n",
    "                    amt_splits[amt] += 1\n",
    "        \n",
    "        for amt in range(1, 4):\n",
    "            if amt not in pts.keys():\n",
    "                pts[amt] = []\n",
    "            if len(selected) > representative_sample_size:\n",
    "                pts[amt] += [(start_size, amt_splits[amt] / len(selected))]\n",
    "            else:\n",
    "                pts[amt] += [(start_size, 0)]\n",
    "    bottom = [0 for _ in range(len(pts[1])-1)]\n",
    "    for amt in range(1, 4):\n",
    "        val = [p[1] for p in pts[amt][1:]]\n",
    "        ax[k, 1].hist([p[0] for p in pts[amt]][:-1], [p[0] for p in pts[amt]], \n",
    "            bottom=bottom, weights=[p[1] for p in pts[amt][1:]], \n",
    "            color=color_mapping[f'split-{amt}'], edgecolor='black', linewidth=1.2)\n",
    "        bottom = [b + p for b, p in zip(bottom, val)]\n",
    "\n",
    "# fig.suptitle('Proportion of Sentences with a Split Edit')\n",
    "ax[0, 0].set_xticks([])\n",
    "ax[0, 1].set_xticks([])\n",
    "ax[1, 0].set_xlabel('Edit Distance')\n",
    "ax[1, 1].set_xlabel('Original Sentence Length')\n",
    "ax[0, 0].set_ylabel('% SimpEval w/ Split')\n",
    "ax[1, 0].set_ylabel('% ASSET w/ Split')\n",
    "ax[0, 0].set_yticks(np.arange(0, 1.1, 0.2))\n",
    "\n",
    "fig.legend(labels=[\n",
    "        '1 Split',\n",
    "        '2 Splits',\n",
    "        '3 Splits',\n",
    "    ], loc='lower center', bbox_to_anchor=(0.54, -0.06), framealpha=1, frameon=False,\n",
    "    handlelength=1, handleheight=1, ncol=3, handletextpad=0.5, columnspacing=0.7\n",
    ")\n",
    "\n",
    "out_filename = f'img/split-edit-sizes.pdf'\n",
    "plt.savefig(out_filename, format=\"pdf\", bbox_inches='tight', pad_inches=0.0)\n",
    "plt.show()"
   ]
  },
  {
   "cell_type": "code",
   "execution_count": null,
   "metadata": {},
   "outputs": [
    {
     "data": {
      "image/png": "[encoded data removed]",
      "text/plain": [
       "<Figure size 432x288 with 2 Axes>"
      ]
     },
     "metadata": {
      "needs_background": "light"
     },
     "output_type": "display_data"
    }
   ],
   "source": [
    "# Show the distribution of edit and sentence scores\n",
    "score_distribution(data)"
   ]
  },
  {
   "cell_type": "code",
   "execution_count": null,
   "metadata": {},
   "outputs": [
    {
     "data": {
      "image/png": "[encoded data removed]",
      "text/plain": [
       "<Figure size 504x288 with 2 Axes>"
      ]
     },
     "metadata": {
      "needs_background": "light"
     },
     "output_type": "display_data"
    }
   ],
   "source": [
    "import random\n",
    "\n",
    "n_bins = 20\n",
    "fig, axs = plt.subplots(1, 2, tight_layout=True, figsize=(7, 4))\n",
    "\n",
    "for system in [s for s in all_system_labels if s in systems and 'Human' not in s]:\n",
    "    annotations = sorted([x for y in [sent['processed_annotations'] for sent in data if sent['system'] == system] for x in y], key=lambda x: x['score'])\n",
    "    axs[0].hist([x['score'] for x in annotations], bins=n_bins, alpha=0.3, label=system_name_mapping[system], color=color_mapping[system])\n",
    "    axs[1].hist([x['score'] for x in data if x['system'] == system], bins=n_bins, alpha=0.3, label=system_name_mapping[system], color=color_mapping[system])\n",
    "\n",
    "# Only human annotations\n",
    "annotations = sorted([x for y in [sent['processed_annotations'] for sent in data if 'Human' in sent['system']] for x in y], key=lambda x: x['score'])\n",
    "edit_scores, sent_scores = [x['score'] for x in annotations], [x['score'] for x in data if 'Human' in x['system']]\n",
    "axs[0].hist(random.sample(edit_scores, int(len(edit_scores)/2)), bins=n_bins, alpha=0.3, label='Human', color=color_mapping['new-wiki-1/Human 1 Writing'])\n",
    "axs[1].hist(random.sample(sent_scores, int(len(sent_scores)/2)), bins=n_bins, alpha=0.3, label='Human', color=color_mapping['new-wiki-1/Human 2 Writing'])\n",
    "\n",
    "axs[0].set_yticks(np.arange(0, 401, 50))\n",
    "axs[1].set_yticks(np.arange(0, 26, 5))\n",
    "\n",
    "axs[0].set_title(\"Distribution of Edit Scores\")\n",
    "axs[1].set_title(\"Distribution of Sentence Scores\")\n",
    "\n",
    "axs[0].set_ylabel(\"Frequency\")\n",
    "axs[0].set_xlabel(\"Our Score\")\n",
    "axs[1].set_xlabel(\"Our Score\")\n",
    "\n",
    "axs[1].legend()\n",
    "\n",
    "out_filename = f'img/score-distributions.pdf'\n",
    "plt.savefig(out_filename, format=\"pdf\", bbox_inches='tight', pad_inches=0.0)\n",
    "plt.show()\n"
   ]
  },
  {
   "cell_type": "code",
   "execution_count": null,
   "metadata": {},
   "outputs": [
    {
     "name": "stdout",
     "output_type": "stream",
     "text": [
      "Highest Scoring:\n",
      "anton - Batch 10, HIT 64 (ID 482) - 7.785285814458071\n",
      "anton - Batch 8, HIT 9 (ID 202) - 7.542910233237862\n",
      "vinayak - Batch 10, HIT 53 (ID 558) - 6.954804488986999\n",
      "anton - Batch 10, HIT 31 (ID 449) - 6.169058114954736\n",
      "vinayak - Batch 5, HIT 33 (ID 68) - 6.057055508636258\n",
      "\n",
      "Lowest scoring:\n",
      "anton - Batch 10, HIT 10 (ID 428) - -8.812524382474527\n",
      "anton - Batch 7, HIT 13 (ID 102) - -3.0450330248774558\n",
      "rachel - Batch 8, HIT 18 (ID 235) - -2.8408783513394056\n",
      "rachel - Batch 7, HIT 9 (ID 102) - -2.7455066933570214\n",
      "vinayak - Batch 11, HIT 32 (ID 683) - -2.690657793220569\n"
     ]
    }
   ],
   "source": [
    "# Get the best and worst performing sentences\n",
    "best, worst = best_performing(data)"
   ]
  },
  {
   "cell_type": "code",
   "execution_count": null,
   "metadata": {},
   "outputs": [
    {
     "name": "stdout",
     "output_type": "stream",
     "text": [
      "anton - Batch 7, HIT 3 (ID 92)\n",
      "kelly - Batch 7, HIT 3 (ID 92)\n",
      "vinayak - Batch 7, HIT 5 (ID 92)\n",
      "kelly - Batch 7, HIT 35 (ID 159)\n",
      "vishnesh - Batch 7, HIT 49 (ID 159)\n"
     ]
    }
   ],
   "source": [
    "# Get setences with a score of 0\n",
    "zeros = zero_scoring_sents(data)"
   ]
  },
  {
   "cell_type": "code",
   "execution_count": null,
   "metadata": {},
   "outputs": [
    {
     "ename": "KeyboardInterrupt",
     "evalue": "",
     "output_type": "error",
     "traceback": [
      "\u001b[1;31m---------------------------------------------------------------------------\u001b[0m",
      "\u001b[1;31mKeyboardInterrupt\u001b[0m                         Traceback (most recent call last)",
      "\u001b[1;32m<ipython-input-30-b243e8ae8cdb>\u001b[0m in \u001b[0;36m<module>\u001b[1;34m\u001b[0m\n\u001b[0;32m      1\u001b[0m \u001b[1;31m# average_scores: Averages our scores before plotting\u001b[0m\u001b[1;33m\u001b[0m\u001b[1;33m\u001b[0m\u001b[1;33m\u001b[0m\u001b[0m\n\u001b[0;32m      2\u001b[0m \u001b[1;32mfor\u001b[0m \u001b[0msent\u001b[0m \u001b[1;32min\u001b[0m \u001b[0mdata\u001b[0m\u001b[1;33m:\u001b[0m\u001b[1;33m\u001b[0m\u001b[1;33m\u001b[0m\u001b[0m\n\u001b[1;32m----> 3\u001b[1;33m     \u001b[0msent\u001b[0m\u001b[1;33m[\u001b[0m\u001b[1;34m'ed'\u001b[0m\u001b[1;33m]\u001b[0m \u001b[1;33m=\u001b[0m \u001b[0medit_dist\u001b[0m\u001b[1;33m(\u001b[0m\u001b[0msent\u001b[0m\u001b[1;33m[\u001b[0m\u001b[1;34m'original'\u001b[0m\u001b[1;33m]\u001b[0m\u001b[1;33m,\u001b[0m \u001b[0msent\u001b[0m\u001b[1;33m[\u001b[0m\u001b[1;34m'simplified'\u001b[0m\u001b[1;33m]\u001b[0m\u001b[1;33m)\u001b[0m\u001b[1;33m\u001b[0m\u001b[1;33m\u001b[0m\u001b[0m\n\u001b[0m\u001b[0;32m      4\u001b[0m \u001b[0medit_length\u001b[0m\u001b[1;33m(\u001b[0m\u001b[0mdata\u001b[0m\u001b[1;33m,\u001b[0m \u001b[0msystems\u001b[0m\u001b[1;33m,\u001b[0m \u001b[0msimpeval\u001b[0m\u001b[1;33m=\u001b[0m\u001b[1;32mFalse\u001b[0m\u001b[1;33m,\u001b[0m \u001b[0maverage_scores\u001b[0m\u001b[1;33m=\u001b[0m\u001b[1;32mFalse\u001b[0m\u001b[1;33m)\u001b[0m\u001b[1;33m\u001b[0m\u001b[1;33m\u001b[0m\u001b[0m\n",
      "\u001b[1;32mc:\\Users\\heine\\Documents\\research\\ts-annotation-tool\\data\\analysis\\utils\\util.py\u001b[0m in \u001b[0;36medit_dist\u001b[1;34m(s1, s2)\u001b[0m\n\u001b[0;32m    293\u001b[0m                 \u001b[0mdistances_\u001b[0m\u001b[1;33m.\u001b[0m\u001b[0mappend\u001b[0m\u001b[1;33m(\u001b[0m\u001b[0mdistances\u001b[0m\u001b[1;33m[\u001b[0m\u001b[0mi1\u001b[0m\u001b[1;33m]\u001b[0m\u001b[1;33m)\u001b[0m\u001b[1;33m\u001b[0m\u001b[1;33m\u001b[0m\u001b[0m\n\u001b[0;32m    294\u001b[0m             \u001b[1;32melse\u001b[0m\u001b[1;33m:\u001b[0m\u001b[1;33m\u001b[0m\u001b[1;33m\u001b[0m\u001b[0m\n\u001b[1;32m--> 295\u001b[1;33m                 \u001b[0mdistances_\u001b[0m\u001b[1;33m.\u001b[0m\u001b[0mappend\u001b[0m\u001b[1;33m(\u001b[0m\u001b[1;36m1\u001b[0m \u001b[1;33m+\u001b[0m \u001b[0mmin\u001b[0m\u001b[1;33m(\u001b[0m\u001b[1;33m(\u001b[0m\u001b[0mdistances\u001b[0m\u001b[1;33m[\u001b[0m\u001b[0mi1\u001b[0m\u001b[1;33m]\u001b[0m\u001b[1;33m,\u001b[0m \u001b[0mdistances\u001b[0m\u001b[1;33m[\u001b[0m\u001b[0mi1\u001b[0m \u001b[1;33m+\u001b[0m \u001b[1;36m1\u001b[0m\u001b[1;33m]\u001b[0m\u001b[1;33m,\u001b[0m \u001b[0mdistances_\u001b[0m\u001b[1;33m[\u001b[0m\u001b[1;33m-\u001b[0m\u001b[1;36m1\u001b[0m\u001b[1;33m]\u001b[0m\u001b[1;33m)\u001b[0m\u001b[1;33m)\u001b[0m\u001b[1;33m)\u001b[0m\u001b[1;33m\u001b[0m\u001b[1;33m\u001b[0m\u001b[0m\n\u001b[0m\u001b[0;32m    296\u001b[0m         \u001b[0mdistances\u001b[0m \u001b[1;33m=\u001b[0m \u001b[0mdistances_\u001b[0m\u001b[1;33m\u001b[0m\u001b[1;33m\u001b[0m\u001b[0m\n\u001b[0;32m    297\u001b[0m     \u001b[1;32mreturn\u001b[0m \u001b[0mdistances\u001b[0m\u001b[1;33m[\u001b[0m\u001b[1;33m-\u001b[0m\u001b[1;36m1\u001b[0m\u001b[1;33m]\u001b[0m\u001b[1;33m\u001b[0m\u001b[1;33m\u001b[0m\u001b[0m\n",
      "\u001b[1;31mKeyboardInterrupt\u001b[0m: "
     ]
    }
   ],
   "source": [
    "# average_scores: Averages our scores before plotting\n",
    "for sent in data:\n",
    "    sent['ed'] = edit_dist(sent['original'], sent['simplified'])\n",
    "edit_length(data, systems, simpeval=False, average_scores=False)"
   ]
  },
  {
   "cell_type": "code",
   "execution_count": null,
   "metadata": {},
   "outputs": [
    {
     "name": "stdout",
     "output_type": "stream",
     "text": [
      "Sentences with at least 1 structure change: 500 / 1997\n"
     ]
    }
   ],
   "source": [
    "# Get sentences with at least 1 structure change from 1 annotator\n",
    "ids = sorted(list(set([sent['id'] for sent in data if 'structure' in [x['type'] for x in sent['edits']]])))\n",
    "print(f'Sentences with at least 1 structure change: {len(ids)} / {len(data)}')"
   ]
  },
  {
   "cell_type": "code",
   "execution_count": null,
   "metadata": {},
   "outputs": [
    {
     "name": "stdout",
     "output_type": "stream",
     "text": [
      "rachel - Batch 5, HIT 10 (ID 4)\n",
      "\n",
      "In Marriages and Infidelities, Oates explicitly alludes to novellas and short stories by earlier writers, \u001b[48;2;255;159;21m\u001b[38;5;0mmaking use of\u001b[39m\u001b[49m either their titles or their themes and adapting them in accordance with her artistic intentions.\n",
      "In Marriages and Infidelities, Oates uses many short stories and novellas by earlier writers. || She \u001b[48;2;255;159;21m\u001b[38;5;0muses\u001b[39m\u001b[49m their titles or their themes, and changes them to fit her own ideas of what is important.\n",
      "\n"
     ]
    },
    {
     "data": {
      "image/png": "[encoded data removed]",
      "text/plain": [
       "<Figure size 432x288 with 2 Axes>"
      ]
     },
     "metadata": {
      "needs_background": "light"
     },
     "output_type": "display_data"
    }
   ],
   "source": [
    "# Display a sentence with a structure change\n",
    "id_ = 4\n",
    "sents = [sent for sent in data if sent['id'] == ids[id_]]\n",
    "print_changes(sents)\n",
    "draw_agreement(sents)"
   ]
  },
  {
   "cell_type": "code",
   "execution_count": null,
   "metadata": {},
   "outputs": [
    {
     "name": "stdout",
     "output_type": "stream",
     "text": [
      "\n",
      "    --- new-wiki-1/Human 1 Writing ---\n",
      "    Sentences with at least 1 error: 0.4797297297297297\n",
      "    Sentences with at least 1 error excluding bad deletion: 0.23986486486486486\n",
      "    Percentage of error edits: 0.0911340206185567\n",
      "    \n",
      "\n",
      "    --- new-wiki-1/GPT-3-zero-shot ---\n",
      "    Sentences with at least 1 error: 0.6181818181818182\n",
      "    Sentences with at least 1 error excluding bad deletion: 0.5272727272727272\n",
      "    Percentage of error edits: 0.1351652432231712\n",
      "    \n",
      "\n",
      "    --- new-wiki-1/T5-11B ---\n",
      "    Sentences with at least 1 error: 0.3368421052631579\n",
      "    Sentences with at least 1 error excluding bad deletion: 0.10526315789473684\n",
      "    Percentage of error edits: 0.2097902097902098\n",
      "    \n",
      "\n",
      "    --- new-wiki-1/T5-3B ---\n",
      "    Sentences with at least 1 error: 0.39436619718309857\n",
      "    Sentences with at least 1 error excluding bad deletion: 0.14788732394366197\n",
      "    Percentage of error edits: 0.1815823605706874\n",
      "    \n",
      "\n",
      "    --- new-wiki-1/Muss ---\n",
      "    Sentences with at least 1 error: 0.7254237288135593\n",
      "    Sentences with at least 1 error excluding bad deletion: 0.4915254237288136\n",
      "    Percentage of error edits: 0.2216302610548748\n",
      "    \n",
      "\n",
      "    --- new-wiki-1/Human 2 Writing ---\n",
      "    Sentences with at least 1 error: 0.476027397260274\n",
      "    Sentences with at least 1 error excluding bad deletion: 0.2534246575342466\n",
      "    Percentage of error edits: 0.09003350083752094\n",
      "    \n",
      "\n",
      "    --- new-wiki-1/GPT-3-few-shot ---\n",
      "    Sentences with at least 1 error: 0.5592592592592592\n",
      "    Sentences with at least 1 error excluding bad deletion: 0.42592592592592593\n",
      "    Percentage of error edits: 0.10676446617766912\n",
      "    \n"
     ]
    }
   ],
   "source": [
    "for system in systems:\n",
    "    aloe, aloe_no_del, perc_error = error_rate([sent for sent in data if system == sent['system']])\n",
    "    print(f'''\n",
    "    --- {system} ---\n",
    "    Sentences with at least 1 error: {aloe}\n",
    "    Sentences with at least 1 error excluding bad deletion: {aloe_no_del}\n",
    "    Percentage of error edits: {perc_error}\n",
    "    ''')"
   ]
  },
  {
   "cell_type": "code",
   "execution_count": null,
   "metadata": {},
   "outputs": [],
   "source": [
    "# What % content edits are elaboration vs generalization\n",
    "\n",
    "# Graphs each system with 6 columns each. Each column is a different quality edit. \n",
    "# This takes the average rating of each edit"
   ]
  },
  {
   "cell_type": "code",
   "execution_count": null,
   "metadata": {},
   "outputs": [],
   "source": [
    "# avg_edit_ratings(data)"
   ]
  },
  {
   "cell_type": "code",
   "execution_count": null,
   "metadata": {},
   "outputs": [
    {
     "data": {
      "image/png": "[encoded data removed]",
      "text/plain": [
       "<Figure size 432x864 with 6 Axes>"
      ]
     },
     "metadata": {
      "needs_background": "light"
     },
     "output_type": "display_data"
    }
   ],
   "source": [
    "# Older version which combines graphs side-by-side\n",
    "# edits_by_family(data)\n",
    "\n",
    "# edits_by_family(data, Family.CONTENT)\n",
    "# edits_by_family(data, Family.SYNTAX)\n",
    "# edits_by_family(data, Family.LEXICAL)\n",
    "\n",
    "edits_by_family_separated(data, savefig=True)\n",
    "edits_by_family_separated(data)"
   ]
  },
  {
   "cell_type": "code",
   "execution_count": null,
   "metadata": {},
   "outputs": [
    {
     "data": {
      "text/plain": [
       "{'aggregated/human': {'quality': {<Information.LESS: 'Generalization'>: 2.0850340136054424,\n",
       "   <Information.SAME: 'Same Information'>: 0.0,\n",
       "   <Information.MORE: 'Elaboration'>: 0.7534013605442177,\n",
       "   <Information.DIFFERENT: 'Different Information'>: 0.0},\n",
       "  'error': {<Error.REPETITION: 'Repetition'>: 0.022108843537414966,\n",
       "   <Error.CONTRADICTION: 'Contradiction'>: 0.003401360544217687,\n",
       "   <Error.HALLUCINATION: 'Hallucination'>: 0.0,\n",
       "   <Error.IRRELEVANT: 'Irrelevant'>: 0.017006802721088437,\n",
       "   <Error.INFORMATION_REWRITE: 'Information Rewrite'>: 0.047619047619047616,\n",
       "   <Error.COREFERENCE: 'Coreference'>: 0.0,\n",
       "   <Error.BAD_DELETION: 'Bad Deletion'>: 0.2976190476190476,\n",
       "   <Error.BAD_REORDER: 'Bad Reorder'>: 0.0,\n",
       "   <Error.BAD_STRUCTURE: 'Bad Structure'>: 0.0,\n",
       "   <Error.BAD_SPLIT: 'Bad Split'>: 0.0,\n",
       "   <Error.UNNECESSARY_INSERTION: 'Unnecessary Insertion'>: 0.0,\n",
       "   <Error.COMPLEX_WORDING: 'Complex Wording'>: 0.0}},\n",
       " 'new-wiki-1/GPT-3-zero-shot': {'quality': {<Information.LESS: 'Generalization'>: 1.7963636363636364,\n",
       "   <Information.SAME: 'Same Information'>: 0.0,\n",
       "   <Information.MORE: 'Elaboration'>: 1.0981818181818181,\n",
       "   <Information.DIFFERENT: 'Different Information'>: 0.0},\n",
       "  'error': {<Error.REPETITION: 'Repetition'>: 0.03636363636363636,\n",
       "   <Error.CONTRADICTION: 'Contradiction'>: 0.01090909090909091,\n",
       "   <Error.HALLUCINATION: 'Hallucination'>: 0.0,\n",
       "   <Error.IRRELEVANT: 'Irrelevant'>: 0.04,\n",
       "   <Error.INFORMATION_REWRITE: 'Information Rewrite'>: 0.10545454545454545,\n",
       "   <Error.COREFERENCE: 'Coreference'>: 0.0,\n",
       "   <Error.BAD_DELETION: 'Bad Deletion'>: 0.23636363636363636,\n",
       "   <Error.BAD_REORDER: 'Bad Reorder'>: 0.0,\n",
       "   <Error.BAD_STRUCTURE: 'Bad Structure'>: 0.0,\n",
       "   <Error.BAD_SPLIT: 'Bad Split'>: 0.0,\n",
       "   <Error.UNNECESSARY_INSERTION: 'Unnecessary Insertion'>: 0.0,\n",
       "   <Error.COMPLEX_WORDING: 'Complex Wording'>: 0.0}},\n",
       " 'new-wiki-1/T5-11B': {'quality': {<Information.LESS: 'Generalization'>: 0.37894736842105264,\n",
       "   <Information.SAME: 'Same Information'>: 0.0,\n",
       "   <Information.MORE: 'Elaboration'>: 0.0912280701754386,\n",
       "   <Information.DIFFERENT: 'Different Information'>: 0.0},\n",
       "  'error': {<Error.REPETITION: 'Repetition'>: 0.0035087719298245615,\n",
       "   <Error.CONTRADICTION: 'Contradiction'>: 0.0,\n",
       "   <Error.HALLUCINATION: 'Hallucination'>: 0.0,\n",
       "   <Error.IRRELEVANT: 'Irrelevant'>: 0.017543859649122806,\n",
       "   <Error.INFORMATION_REWRITE: 'Information Rewrite'>: 0.02456140350877193,\n",
       "   <Error.COREFERENCE: 'Coreference'>: 0.0,\n",
       "   <Error.BAD_DELETION: 'Bad Deletion'>: 0.2631578947368421,\n",
       "   <Error.BAD_REORDER: 'Bad Reorder'>: 0.0,\n",
       "   <Error.BAD_STRUCTURE: 'Bad Structure'>: 0.0,\n",
       "   <Error.BAD_SPLIT: 'Bad Split'>: 0.0,\n",
       "   <Error.UNNECESSARY_INSERTION: 'Unnecessary Insertion'>: 0.0,\n",
       "   <Error.COMPLEX_WORDING: 'Complex Wording'>: 0.0}},\n",
       " 'new-wiki-1/T5-3B': {'quality': {<Information.LESS: 'Generalization'>: 0.573943661971831,\n",
       "   <Information.SAME: 'Same Information'>: 0.0,\n",
       "   <Information.MORE: 'Elaboration'>: 0.19014084507042253,\n",
       "   <Information.DIFFERENT: 'Different Information'>: 0.0},\n",
       "  'error': {<Error.REPETITION: 'Repetition'>: 0.014084507042253521,\n",
       "   <Error.CONTRADICTION: 'Contradiction'>: 0.0,\n",
       "   <Error.HALLUCINATION: 'Hallucination'>: 0.0,\n",
       "   <Error.IRRELEVANT: 'Irrelevant'>: 0.0,\n",
       "   <Error.INFORMATION_REWRITE: 'Information Rewrite'>: 0.045774647887323945,\n",
       "   <Error.COREFERENCE: 'Coreference'>: 0.0,\n",
       "   <Error.BAD_DELETION: 'Bad Deletion'>: 0.27816901408450706,\n",
       "   <Error.BAD_REORDER: 'Bad Reorder'>: 0.0,\n",
       "   <Error.BAD_STRUCTURE: 'Bad Structure'>: 0.0,\n",
       "   <Error.BAD_SPLIT: 'Bad Split'>: 0.0,\n",
       "   <Error.UNNECESSARY_INSERTION: 'Unnecessary Insertion'>: 0.0,\n",
       "   <Error.COMPLEX_WORDING: 'Complex Wording'>: 0.0}},\n",
       " 'new-wiki-1/GPT-3-few-shot': {'quality': {<Information.LESS: 'Generalization'>: 1.662962962962963,\n",
       "   <Information.SAME: 'Same Information'>: 0.0,\n",
       "   <Information.MORE: 'Elaboration'>: 0.8888888888888888,\n",
       "   <Information.DIFFERENT: 'Different Information'>: 0.0},\n",
       "  'error': {<Error.REPETITION: 'Repetition'>: 0.018518518518518517,\n",
       "   <Error.CONTRADICTION: 'Contradiction'>: 0.0,\n",
       "   <Error.HALLUCINATION: 'Hallucination'>: 0.0,\n",
       "   <Error.IRRELEVANT: 'Irrelevant'>: 0.03333333333333333,\n",
       "   <Error.INFORMATION_REWRITE: 'Information Rewrite'>: 0.07777777777777778,\n",
       "   <Error.COREFERENCE: 'Coreference'>: 0.003703703703703704,\n",
       "   <Error.BAD_DELETION: 'Bad Deletion'>: 0.22592592592592592,\n",
       "   <Error.BAD_REORDER: 'Bad Reorder'>: 0.0,\n",
       "   <Error.BAD_STRUCTURE: 'Bad Structure'>: 0.0,\n",
       "   <Error.BAD_SPLIT: 'Bad Split'>: 0.0,\n",
       "   <Error.UNNECESSARY_INSERTION: 'Unnecessary Insertion'>: 0.0,\n",
       "   <Error.COMPLEX_WORDING: 'Complex Wording'>: 0.0}},\n",
       " 'new-wiki-1/Muss': {'quality': {<Information.LESS: 'Generalization'>: 1.1050847457627118,\n",
       "   <Information.SAME: 'Same Information'>: 0.0,\n",
       "   <Information.MORE: 'Elaboration'>: 0.6610169491525424,\n",
       "   <Information.DIFFERENT: 'Different Information'>: 0.0},\n",
       "  'error': {<Error.REPETITION: 'Repetition'>: 0.08135593220338982,\n",
       "   <Error.CONTRADICTION: 'Contradiction'>: 0.020338983050847456,\n",
       "   <Error.HALLUCINATION: 'Hallucination'>: 0.0,\n",
       "   <Error.IRRELEVANT: 'Irrelevant'>: 0.18305084745762712,\n",
       "   <Error.INFORMATION_REWRITE: 'Information Rewrite'>: 0.11186440677966102,\n",
       "   <Error.COREFERENCE: 'Coreference'>: 0.003389830508474576,\n",
       "   <Error.BAD_DELETION: 'Bad Deletion'>: 0.5525423728813559,\n",
       "   <Error.BAD_REORDER: 'Bad Reorder'>: 0.0,\n",
       "   <Error.BAD_STRUCTURE: 'Bad Structure'>: 0.0,\n",
       "   <Error.BAD_SPLIT: 'Bad Split'>: 0.0,\n",
       "   <Error.UNNECESSARY_INSERTION: 'Unnecessary Insertion'>: 0.0,\n",
       "   <Error.COMPLEX_WORDING: 'Complex Wording'>: 0.0}}}"
      ]
     },
     "execution_count": 37,
     "metadata": {},
     "output_type": "execute_result"
    }
   ],
   "source": [
    "get_edits_by_family(data, Family.CONTENT, errors_by_sent=True)"
   ]
  },
  {
   "cell_type": "code",
   "execution_count": null,
   "metadata": {},
   "outputs": [
    {
     "data": {
      "image/png": "[encoded data removed]",
      "text/plain": [
       "<Figure size 576x288 with 1 Axes>"
      ]
     },
     "metadata": {
      "needs_background": "light"
     },
     "output_type": "display_data"
    }
   ],
   "source": [
    "ratings_by_edit_type(data, 'paraphrase')\n",
    "# ratings_by_edit_type(data, 'split')\n",
    "# ratings_by_edit_type(data, 'reorder')\n",
    "# ratings_by_edit_type(data, 'structure')"
   ]
  },
  {
   "cell_type": "code",
   "execution_count": null,
   "metadata": {},
   "outputs": [],
   "source": [
    "# edit_ratings_barh(data, old_formatting=True)"
   ]
  },
  {
   "cell_type": "code",
   "execution_count": null,
   "metadata": {},
   "outputs": [
    {
     "data": {
      "image/png": "[encoded data removed]",
      "text/plain": [
       "<Figure size 432x288 with 42 Axes>"
      ]
     },
     "metadata": {
      "needs_background": "light"
     },
     "output_type": "display_data"
    }
   ],
   "source": [
    "edit_ratings_barh(data) # include_all=False"
   ]
  },
  {
   "cell_type": "code",
   "execution_count": null,
   "metadata": {},
   "outputs": [
    {
     "data": {
      "image/png": "[encoded data removed]",
      "text/plain": [
       "<Figure size 900x288 with 42 Axes>"
      ]
     },
     "metadata": {
      "needs_background": "light"
     },
     "output_type": "display_data"
    }
   ],
   "source": [
    "edit_ratings_barh(data, size_weighted=True)"
   ]
  },
  {
   "cell_type": "code",
   "execution_count": null,
   "metadata": {},
   "outputs": [
    {
     "name": "stdout",
     "output_type": "stream",
     "text": [
      " & Elaboration & 0 & 14 & 15 & 5 & 38 & 23 & 5 & 0 & 2 & 8 & 9 & 65 & 12 & 5 & 0 & 14 & 5 & 11 & 59 & 5 & 5 & 0 & 5 & 3 & 4 & 58 & 24 & 6 & 0 & 4 & 2 & 7 & 55 & 26 & 7 & 0 & 5 & 2 & 2 & 52 & 23 & 16 \\tabularnewline\n",
      " & Generalization & 0 & 29 & 11 & 0 & 0 & 37 & 23 & 0 & 24 & 13 & 0 & 0 & 37 & 26 & 0 & 30 & 15 & 0 & 0 & 35 & 21 & 0 & 12 & 2 & 0 & 0 & 42 & 44 & 0 & 13 & 1 & 0 & 0 & 37 & 49 & 0 & 14 & 2 & 0 & 0 & 42 & 42 \\tabularnewline\n",
      " & Split & 0 & 0 & 2 & 6 & 29 & 32 & 31 & 0 & 2 & 1 & 1 & 26 & 36 & 34 & 0 & 0 & 1 & 0 & 35 & 28 & 36 & 0 & 0 & 2 & 0 & 33 & 31 & 33 & 0 & 0 & 1 & 0 & 33 & 32 & 34 & 0 & 1 & 1 & 0 & 28 & 38 & 31 \\tabularnewline\n",
      " & Structure & 0 & 4 & 4 & 20 & 40 & 14 & 19 & 0 & 4 & 1 & 27 & 46 & 12 & 11 & 0 & 3 & 8 & 29 & 39 & 11 & 11 & 0 & 5 & 5 & 15 & 38 & 22 & 14 & 0 & 3 & 3 & 13 & 40 & 21 & 18 & 0 & 3 & 3 & 15 & 38 & 23 & 18 \\tabularnewline\n",
      " & Reorder & 0 & 6 & 10 & 16 & 39 & 25 & 3 & 0 & 17 & 0 & 17 & 28 & 28 & 11 & 0 & 0 & 0 & 0 & 57 & 29 & 14 & 0 & 5 & 5 & 17 & 39 & 26 & 9 & 0 & 4 & 5 & 10 & 49 & 22 & 10 & 0 & 2 & 3 & 16 & 39 & 25 & 16 \\tabularnewline\n",
      " & Paraphrase & 2 & 10 & 3 & 8 & 23 & 20 & 35 & 4 & 5 & 3 & 14 & 24 & 16 & 33 & 2 & 10 & 3 & 14 & 31 & 19 & 21 & 2 & 10 & 5 & 19 & 22 & 20 & 23 & 2 & 8 & 4 & 17 & 22 & 21 & 26 & 1 & 5 & 1 & 11 & 24 & 21 & 37 \\tabularnewline\n"
     ]
    }
   ],
   "source": [
    "# Prints a table quality edits\n",
    "for family in ['elaboration', 'generalization', 'split', 'structure', 'reorder', 'paraphrase']:\n",
    "    ratings = get_ratings_by_edit_type(data, family)\n",
    "    al = f'{family} & '\n",
    "    for system in [s for s in all_system_labels if s in ratings.keys() and '2' not in s]:\n",
    "        total = sum([x if type(x) is int else sum(x.values()) for x in list(ratings[system].values())])\n",
    "        nl = \"\"\n",
    "        for i in range(3):\n",
    "            nl += (f'{round(ratings[system][\"error\"][i] / total, 2)*100:.0f} & ')\n",
    "        nl += (f'{round(ratings[system][\"trivial\"] / total, 2)*100:.0f} & ')\n",
    "        for i in range(3):\n",
    "            nl += (f'{round(ratings[system][\"quality\"][i] / total, 2)*100:.0f} & ')\n",
    "        al += nl\n",
    "    al = ' & ' + al[:-2].capitalize() + '\\\\tabularnewline'\n",
    "    print(al)"
   ]
  },
  {
   "cell_type": "code",
   "execution_count": null,
   "metadata": {},
   "outputs": [],
   "source": [
    "# - Average quality edit (or log-size * average) rating for these modification types\n",
    "#     - Content, Syntax, Lexical\n",
    "#     - Elaboration, Generalization, Paraphrase, Structure, Reorder, Split\n",
    "# - Average error edit for Content, Syntax, Lexical i guess?\n",
    "# - Overlap the annotator’s decision for each system"
   ]
  },
  {
   "cell_type": "code",
   "execution_count": null,
   "metadata": {},
   "outputs": [
    {
     "data": {
      "image/png": "[encoded data removed]",
      "text/plain": [
       "<Figure size 504x216 with 2 Axes>"
      ]
     },
     "metadata": {},
     "output_type": "display_data"
    }
   ],
   "source": [
    "subtypes = [\n",
    "    'Voice Change',\n",
    "    'Part-of-Speech Change',\n",
    "    'Tense Change',\n",
    "    'Grammatical Number',\n",
    "    'Clausal Change'\n",
    "]\n",
    "\n",
    "fig, axs = plt.subplots(1, 2, figsize=(7, 3))\n",
    "quality = np.array([35, 25, 25, 10, 5])\n",
    "error = np.array([25, 30, 25, 15, 5])\n",
    "\n",
    "color = color_mapping['structure']\n",
    "scalar = [0.8, 1, 1.2, 1.4, 1.6]\n",
    "colors = []\n",
    "for s in scalar:\n",
    "    colors += [colorscale(color, s)]\n",
    "\n",
    "axs[0].pie(quality, colors=colors, labels=subtypes, labeldistance=None)\n",
    "axs[1].pie(error, colors=colors, labels=subtypes, labeldistance=None)\n",
    "\n",
    "axs[0].set_xlabel('Quality Structure Changes')\n",
    "axs[1].set_xlabel('Error Structure Changes')\n",
    "axs[1].legend(subtypes, loc='center left', bbox_to_anchor=(1, 0.5))\n",
    "# plt.suptitle(\"Manual Breakdown of Structure Changes\")\n",
    "\n",
    "out_filename = \"img/structure-breakdown.pdf\"\n",
    "plt.savefig(out_filename, format=\"pdf\", bbox_inches='tight', pad_inches=0.0)\n",
    "plt.show() "
   ]
  },
  {
   "cell_type": "code",
   "execution_count": null,
   "metadata": {},
   "outputs": [
    {
     "data": {
      "image/png": "[encoded data removed]",
      "text/plain": [
       "<Figure size 360x216 with 2 Axes>"
      ]
     },
     "metadata": {},
     "output_type": "display_data"
    }
   ],
   "source": [
    "fig, axs = plt.subplots(1, 2, figsize=(5, 3))\n",
    "\n",
    "wedgeprops = {\n",
    "    \"edgecolor\" : \"black\",\n",
    "    'linewidth': 0.7,\n",
    "    'antialiased': True\n",
    "}\n",
    "\n",
    "labels, values = zip(*count_dataset_composite_edits(data, 'structure').items())\n",
    "axs[0].pie(values, colors=[color_mapping[l] for l in labels], labels=labels, labeldistance=None, wedgeprops=wedgeprops)\n",
    "\n",
    "labels, values = zip(*count_dataset_composite_edits(data, 'split').items())\n",
    "axs[1].pie(values, colors=[color_mapping[l] for l in labels], labels=labels, labeldistance=None, wedgeprops=wedgeprops)\n",
    "\n",
    "axs[0].set_xlabel('Structure Edits', fontsize=14)\n",
    "axs[1].set_xlabel('Split Edits', fontsize=14)\n",
    "# plt.suptitle(\"Child Edits of Composite Edits\")\n",
    "\n",
    "axs[1].legend([x.capitalize() for x in labels], loc='center left', bbox_to_anchor=(1, 0.5),\n",
    "    handlelength=1,handleheight=1,facecolor='white')\n",
    "\n",
    "out_filename = \"img/composite-breakdown.pdf\"\n",
    "plt.savefig(out_filename, format=\"pdf\", bbox_inches='tight', pad_inches=0.0)\n",
    "plt.show() "
   ]
  }
 ],
 "metadata": {
  "kernelspec": {
   "display_name": "Python 3.9.0 64-bit",
   "language": "python",
   "name": "python3"
  },
  "language_info": {
   "codemirror_mode": {
    "name": "ipython",
    "version": 3
   },
   "file_extension": ".py",
   "mimetype": "text/x-python",
   "name": "python",
   "nbconvert_exporter": "python",
   "pygments_lexer": "ipython3",
   "version": "3.9.0"
  },
  "orig_nbformat": 4,
  "vscode": {
   "interpreter": {
    "hash": "81794d4967e6c3204c66dcd87b604927b115b27c00565d3d43f05ba2f3a2cb0d"
   }
  }
 },
 "nbformat": 4,
 "nbformat_minor": 2
}
