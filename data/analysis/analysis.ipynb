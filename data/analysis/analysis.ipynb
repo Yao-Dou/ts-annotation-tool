{
 "cells": [
  {
   "cell_type": "code",
   "execution_count": 1,
   "metadata": {},
   "outputs": [],
   "source": [
    "import json\n",
    "import matplotlib.pyplot as plt\n",
    "from dataloader import *\n",
    "\n",
    "# Load David's first 30 sentences\n",
    "with open('../preliminary/david-first-thirty-sent.json') as f:\n",
    "    data = json.load(f)[:30]"
   ]
  },
  {
   "cell_type": "code",
   "execution_count": 2,
   "metadata": {},
   "outputs": [],
   "source": [
    "# The systems we looked at\n",
    "systems = set([x['system'] for x in data])\n",
    "\n",
    "# Edit types\n",
    "edit_types = set(data[0]['annotations'].keys())"
   ]
  },
  {
   "cell_type": "code",
   "execution_count": 3,
   "metadata": {},
   "outputs": [],
   "source": [
    "data = consolidate_edits(data)          # Adds 'edits' field\n",
    "data = consolidate_annotations(data)    # Adds 'processed_annotations' field"
   ]
  },
  {
   "cell_type": "code",
   "execution_count": 4,
   "metadata": {},
   "outputs": [
    {
     "name": "stdout",
     "output_type": "stream",
     "text": [
      "{'edit_type': 'deletion', 'id': 1, 'information_impact': <Information.LESS: 1>, 'type': <Quality.ERROR: 3>, 'grammar_error': False, 'error_type': <Error.COREFERENCE: 1>, 'rating': 0}\n",
      "{'edit_type': 'deletion', 'id': 0, 'information_impact': <Information.LESS: 1>, 'type': <Quality.ERROR: 3>, 'grammar_error': False, 'error_type': <Error.COREFERENCE: 1>, 'rating': 3}\n",
      "{'edit_type': 'deletion', 'id': 2, 'information_impact': <Information.LESS: 1>, 'type': <Quality.ERROR: 3>, 'grammar_error': False, 'error_type': <Error.COREFERENCE: 1>, 'rating': 3}\n",
      "{'edit_type': 'deletion', 'id': 4, 'information_impact': <Information.LESS: 1>, 'type': <Quality.ERROR: 3>, 'grammar_error': False, 'error_type': <Error.COREFERENCE: 1>, 'rating': 2}\n",
      "{'edit_type': 'deletion', 'id': 1, 'information_impact': <Information.LESS: 1>, 'type': <Quality.ERROR: 3>, 'grammar_error': False, 'error_type': <Error.COREFERENCE: 1>, 'rating': 2}\n",
      "{'edit_type': 'deletion', 'id': 0, 'information_impact': <Information.LESS: 1>, 'type': <Quality.ERROR: 3>, 'grammar_error': True, 'error_type': <Error.COREFERENCE: 1>, 'rating': 0}\n",
      "{'edit_type': 'deletion', 'id': 0, 'information_impact': <Information.LESS: 1>, 'type': <Quality.ERROR: 3>, 'grammar_error': False, 'error_type': <Error.COREFERENCE: 1>, 'rating': 3}\n"
     ]
    }
   ],
   "source": [
    "# Example: Searches for coreference errors\n",
    "deletions = [process_annotation(k) for k in [i for j in [[x for x in sent['edits'] if x['type'] == 'deletion'] for sent in data] for i in j]]\n",
    "for d in deletions:\n",
    "    if d['error_type'] == Error.COREFERENCE:\n",
    "        print(d)"
   ]
  },
  {
   "cell_type": "code",
   "execution_count": 5,
   "metadata": {},
   "outputs": [
    {
     "data": {
      "text/plain": [
       "[{'edit_type': 'deletion',\n",
       "  'id': 0,\n",
       "  'information_impact': <Information.LESS: 1>,\n",
       "  'type': <Quality.QUALITY: 1>,\n",
       "  'grammar_error': False,\n",
       "  'error_type': None,\n",
       "  'rating': 3},\n",
       " {'edit_type': 'deletion',\n",
       "  'id': 1,\n",
       "  'information_impact': <Information.LESS: 1>,\n",
       "  'type': <Quality.QUALITY: 1>,\n",
       "  'grammar_error': False,\n",
       "  'error_type': None,\n",
       "  'rating': 3},\n",
       " {'edit_type': 'substitution',\n",
       "  'id': 0,\n",
       "  'information_impact': <Information.DIFFERENT: 4>,\n",
       "  'type': <Quality.ERROR: 3>,\n",
       "  'grammar_error': False,\n",
       "  'error_type': <Error.INFORMATION_REWRITE: 2>,\n",
       "  'rating': 0}]"
      ]
     },
     "execution_count": 5,
     "metadata": {},
     "output_type": "execute_result"
    }
   ],
   "source": [
    "# Example: Annotations for sentence 0\n",
    "data[0]['processed_annotations']"
   ]
  },
  {
   "cell_type": "code",
   "execution_count": 6,
   "metadata": {},
   "outputs": [
    {
     "data": {
      "text/plain": [
       "[{'type': 'deletion',\n",
       "  'id': 0,\n",
       "  'original_span': (61, 69),\n",
       "  'simplified_span': None,\n",
       "  'annotation': ['perfect', 'no', 'no']},\n",
       " {'type': 'deletion',\n",
       "  'id': 1,\n",
       "  'original_span': (111, 133),\n",
       "  'simplified_span': None,\n",
       "  'annotation': ['perfect', 'no', 'no']},\n",
       " {'type': 'substitution',\n",
       "  'id': 0,\n",
       "  'original_span': (157, 161),\n",
       "  'simplified_span': (124, 127),\n",
       "  'annotation': ['different', 'minor', 'no']}]"
      ]
     },
     "execution_count": 6,
     "metadata": {},
     "output_type": "execute_result"
    }
   ],
   "source": [
    "# Example: Edits for sentence 0\n",
    "data[0]['edits']"
   ]
  },
  {
   "cell_type": "code",
   "execution_count": 7,
   "metadata": {},
   "outputs": [
    {
     "name": "stdout",
     "output_type": "stream",
     "text": [
      "systems/Dress-Ls.lower\n",
      "{'deletion': 5, 'substitution': 5, 'insertion': 1, 'split': 0, 'reorder': 0, 'structure': 1}\n",
      "systems/Hybrid.lower\n",
      "{'deletion': 11, 'substitution': 2, 'insertion': 1, 'split': 0, 'reorder': 4, 'structure': 2}\n",
      "systems/lstm_w_split.txt\n",
      "{'deletion': 5, 'substitution': 5, 'insertion': 1, 'split': 0, 'reorder': 0, 'structure': 0}\n",
      "new_systems/simple_wiki.txt\n",
      "{'deletion': 1, 'substitution': 5, 'insertion': 2, 'split': 0, 'reorder': 2, 'structure': 1}\n",
      "systems/transformer_w_split.txt\n",
      "{'deletion': 5, 'substitution': 4, 'insertion': 3, 'split': 0, 'reorder': 1, 'structure': 0}\n",
      "new_systems/asset.test.simp.second\n",
      "{'deletion': 4, 'substitution': 12, 'insertion': 0, 'split': 0, 'reorder': 1, 'structure': 1}\n",
      "new_systems/turk_corpus_random.txt\n",
      "{'deletion': 1, 'substitution': 3, 'insertion': 2, 'split': 0, 'reorder': 0, 'structure': 2}\n",
      "systems/T5.txt\n",
      "{'deletion': 1, 'substitution': 5, 'insertion': 4, 'split': 0, 'reorder': 0, 'structure': 1}\n"
     ]
    }
   ],
   "source": [
    "# Example: Sum the annotated edits for each system\n",
    "for system in systems:\n",
    "    print(system)\n",
    "    print(sum_edits_for_system(data, system))"
   ]
  },
  {
   "cell_type": "code",
   "execution_count": 8,
   "metadata": {},
   "outputs": [
    {
     "data": {
      "text/plain": [
       "{<Error.COREFERENCE: 1>: 10,\n",
       " <Error.INFORMATION_REWRITE: 2>: 3,\n",
       " <Error.REPETITION: 3>: 3,\n",
       " <Error.CONTRADICTION: 4>: 0,\n",
       " <Error.HALLUCINATION: 5>: 0,\n",
       " <Error.IRRELEVANT: 6>: 0,\n",
       " <Error.UNNECESSARY_INSERTION: 7>: 2,\n",
       " <Error.COMPLEX_WORDING: 8>: 4}"
      ]
     },
     "execution_count": 8,
     "metadata": {},
     "output_type": "execute_result"
    }
   ],
   "source": [
    "# Example: sum the errors\n",
    "def sum_errors_by_type(data):\n",
    "    ann = [i for j in [sent['processed_annotations'] for sent in data] for i in j]\n",
    "    errors = [a for a in ann if a['type'] == Quality.ERROR]\n",
    "\n",
    "    out = {}\n",
    "    for error in Error:\n",
    "        errors_by_type = [e for e in errors if e['error_type'] == error]\n",
    "        out[error] = len(errors_by_type)\n",
    "        # display(errors_by_type)\n",
    "    return out\n",
    "sum_errors_by_type(data)"
   ]
  },
  {
   "cell_type": "code",
   "execution_count": 9,
   "metadata": {},
   "outputs": [
    {
     "data": {
      "image/png": "[encoded data removed]",
      "text/plain": [
       "<Figure size 432x288 with 1 Axes>"
      ]
     },
     "metadata": {
      "needs_background": "light"
     },
     "output_type": "display_data"
    }
   ],
   "source": [
    "errors = sum_errors_by_type(data)\n",
    "error_names = [str(x).split('.')[1].lower().replace('_',' ') for x in errors.keys()]\n",
    "\n",
    "plt.bar(error_names, list(errors.values()), align='center')\n",
    "plt.xticks(rotation=45, ha=\"right\")\n",
    "plt.title('Errors by type')\n",
    "plt.show()"
   ]
  },
  {
   "cell_type": "code",
   "execution_count": 10,
   "metadata": {},
   "outputs": [
    {
     "data": {
      "text/plain": [
       "<Figure size 3000x1800 with 0 Axes>"
      ]
     },
     "metadata": {},
     "output_type": "display_data"
    },
    {
     "data": {
      "image/png": "[encoded data removed]",
      "text/plain": [
       "<Figure size 1080x144 with 8 Axes>"
      ]
     },
     "metadata": {
      "needs_background": "light"
     },
     "output_type": "display_data"
    }
   ],
   "source": [
    "import matplotlib.pyplot as plt\n",
    "\n",
    "fig = plt.figure(figsize=(10, 6), dpi=300) # tight_layout=True\n",
    "fig, sb = plt.subplots(1, len(systems), sharey='row', figsize=(15, 2))\n",
    "fig.suptitle('Errors by System')\n",
    "\n",
    "systems_list = list(systems)\n",
    "error_names = [str(x).split('.')[1].lower().replace('_',' ') for x in errors.keys()]\n",
    "\n",
    "i = 0\n",
    "for subplot in sb:\n",
    "    errors = sum_errors_by_type(get_sentences_for_system(data, systems_list[i]))\n",
    "    subplot.bar(error_names, list(errors.values()), align='center')\n",
    "    subplot.set_xlabel(systems_list[i], rotation=25, ha=\"center\")\n",
    "    i += 1\n",
    "\n",
    "\n",
    "# Idea: One stacked graph with number of errors on x axis and system on y axis. Each bar has a stacked set \n",
    "# of colors representing each error"
   ]
  },
  {
   "cell_type": "code",
   "execution_count": 11,
   "metadata": {},
   "outputs": [
    {
     "data": {
      "text/plain": [
       "[0, 0, 1, 0, 0, 0, 0, 1]"
      ]
     },
     "execution_count": 11,
     "metadata": {},
     "output_type": "execute_result"
    }
   ],
   "source": [
    "list(errors.values())"
   ]
  },
  {
   "cell_type": "code",
   "execution_count": 19,
   "metadata": {},
   "outputs": [
    {
     "name": "stdout",
     "output_type": "stream",
     "text": [
      "systems/Dress-Ls.lower\n",
      "[5, 5, 1, 0, 0, 1]\n",
      "systems/Hybrid.lower\n",
      "[11, 2, 1, 0, 4, 2]\n",
      "systems/lstm_w_split.txt\n",
      "[5, 5, 1, 0, 0, 0]\n",
      "new_systems/simple_wiki.txt\n",
      "[1, 5, 2, 0, 2, 1]\n",
      "systems/transformer_w_split.txt\n",
      "[5, 4, 3, 0, 1, 0]\n",
      "new_systems/asset.test.simp.second\n",
      "[4, 12, 0, 0, 1, 1]\n",
      "new_systems/turk_corpus_random.txt\n",
      "[1, 3, 2, 0, 0, 2]\n",
      "systems/T5.txt\n",
      "[1, 5, 4, 0, 0, 1]\n"
     ]
    }
   ],
   "source": [
    "# Example: Sum the annotated edits for each system\n",
    "for system in systems:\n",
    "    print(system)\n",
    "    print([x for x in sum_edits_for_system(data, system).values()])"
   ]
  },
  {
   "cell_type": "code",
   "execution_count": 23,
   "metadata": {},
   "outputs": [
    {
     "name": "stdout",
     "output_type": "stream",
     "text": [
      "3.466666666666667\n"
     ]
    }
   ],
   "source": [
    "# Example: Sum the annotated edits for each system\n",
    "total = 0\n",
    "for system in systems:\n",
    "    total += sum([x for x in sum_edits_for_system(data, system).values()])\n",
    "print(total / 30)"
   ]
  },
  {
   "cell_type": "code",
   "execution_count": 7,
   "metadata": {},
   "outputs": [],
   "source": [
    "import json\n",
    "\n",
    "# Load tutorial feedback\n",
    "data = []\n",
    "for filename in os.listdir('../tutorial/'):\n",
    "    with open('../tutorial/' + filename) as f:\n",
    "        individual_annotation = json.load(f)\n",
    "        for entry in individual_annotation:\n",
    "            entry['user'] = filename.split('.')[0]\n",
    "        data += individual_annotation"
   ]
  },
  {
   "cell_type": "code",
   "execution_count": 24,
   "metadata": {},
   "outputs": [
    {
     "name": "stdout",
     "output_type": "stream",
     "text": [
      "AYUSH - HIT 3: This sentence seems to be a complete hallucination with lots of reordering to where it's basically nonsensical, not sure what happened here\n",
      "AYUSH - HIT 4: Not sure if I can highlight this big chunk of a phrase, but given the error is relatively constant it seems fine to me\n",
      "AYUSH - HIT 5: One of the more confusing sentences to be honest, not sure if I did a good job or not\n"
     ]
    }
   ],
   "source": [
    "# Print spans with comments\n",
    "for entry in data:\n",
    "    if 'comment' in entry.keys():\n",
    "        print(f\"{entry['user'].upper()} - HIT {str(entry['id']+1)}: {entry['comment']}\")"
   ]
  }
 ],
 "metadata": {
  "kernelspec": {
   "display_name": "Python 3.9.0 64-bit",
   "language": "python",
   "name": "python3"
  },
  "language_info": {
   "codemirror_mode": {
    "name": "ipython",
    "version": 3
   },
   "file_extension": ".py",
   "mimetype": "text/x-python",
   "name": "python",
   "nbconvert_exporter": "python",
   "pygments_lexer": "ipython3",
   "version": "3.9.0"
  },
  "orig_nbformat": 4,
  "vscode": {
   "interpreter": {
    "hash": "81794d4967e6c3204c66dcd87b604927b115b27c00565d3d43f05ba2f3a2cb0d"
   }
  }
 },
 "nbformat": 4,
 "nbformat_minor": 2
}
