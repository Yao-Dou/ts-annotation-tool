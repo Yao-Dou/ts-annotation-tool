{
 "cells": [
  {
   "cell_type": "code",
   "execution_count": 27,
   "metadata": {},
   "outputs": [],
   "source": [
    "import json\n",
    "import matplotlib.pyplot as plt\n",
    "import plotly.graph_objects as go\n",
    "from dataloader import *\n",
    "\n",
    "data = []\n",
    "\n",
    "# Load David's preliminary data\n",
    "# with open('../preliminary/david-first-eighty.json') as f:\n",
    "#     data += json.load(f)\n",
    "\n",
    "# Load tutorial feedback\n",
    "# for filename in os.listdir('../tutorial/'):\n",
    "#     with open('../tutorial/' + filename) as f:\n",
    "#         individual_annotation = json.load(f)\n",
    "#         for entry in individual_annotation:\n",
    "#             entry['user'] = filename.split('.')[0]\n",
    "#         data += individual_annotation\n",
    "\n",
    "# Load batch 1 data\n",
    "batch_num = 1\n",
    "for filename in [x for x in os.listdir('../annotated/') if x.startswith('batch_' + str(batch_num))]:\n",
    "    with open('../annotated/' + filename) as f:\n",
    "        individual_annotation = json.load(f)\n",
    "        \n",
    "        for entry in individual_annotation:\n",
    "            entry['user'] = filename.split('.')[0].split('_')[-1]\n",
    "        data += individual_annotation"
   ]
  },
  {
   "cell_type": "code",
   "execution_count": 28,
   "metadata": {},
   "outputs": [
    {
     "name": "stdout",
     "output_type": "stream",
     "text": [
      "ANTON - HIT 19: in this case later baptised is a perfect deletion, but in other cases it might not be. \n",
      "\n",
      "AYUSH - HIT 10: There is no change from the original sentence to simplified sentence\n",
      "AYUSH - HIT 15: Seems to think the original sentence is talking about a game?\n",
      "AYUSH - HIT 25: It's the same sentence just duplicated twice\n",
      "KELLY - HIT 6: This original sentence doesn't really make geographic sense. Tajikistan, Turmenistan, and Uzbekistan are north of both Afghanistan and Pakistan, east of Iran, and west of China.\n",
      "KELLY - HIT 10: No change?\n",
      "KELLY - HIT 15: This hit keeps breaking the interface for me, so I'm not sure what the data looks like. Once I get to this hit, the interface will not allow me to navegate off.\n",
      "KELLY - HIT 16: I researched it and it looks like the (e) is indicating an alternate spelling on her name, but I'm not sure.\n",
      "KELLY - HIT 25: Same sentence, no annotations needed.\n",
      "\n",
      "KELLY - HIT 40: Annotating the splits is causing the interface to glitch and annotations stop working.\n"
     ]
    }
   ],
   "source": [
    "# Print spans with comments\n",
    "for entry in data:\n",
    "    if 'comment' in entry.keys():\n",
    "        print(f\"{entry['user'].upper()} - HIT {str(entry['id']+1)}: {entry['comment']}\")"
   ]
  },
  {
   "cell_type": "code",
   "execution_count": 29,
   "metadata": {},
   "outputs": [],
   "source": [
    "# The systems we looked at\n",
    "systems = set([x['system'] for x in data])\n",
    "\n",
    "# Edit types\n",
    "edit_types = set(data[0]['annotations'].keys())"
   ]
  },
  {
   "cell_type": "code",
   "execution_count": 30,
   "metadata": {},
   "outputs": [
    {
     "name": "stdout",
     "output_type": "stream",
     "text": [
      "Couldn't process grammar for annotation: ['positive', '', '', '']\n",
      "Couldn't process grammar for annotation: ['positive', 'minor', '', '']\n",
      "Couldn't process grammar for annotation: ['positive', 'a lot', '', '']\n",
      "Couldn't process grammar for annotation: ['positive', 'somewhat', '', '']\n"
     ]
    }
   ],
   "source": [
    "data = consolidate_edits(data)          # Adds 'edits' field\n",
    "data = consolidate_annotations(data)    # Adds 'processed_annotations' field"
   ]
  },
  {
   "cell_type": "code",
   "execution_count": 31,
   "metadata": {},
   "outputs": [
    {
     "name": "stdout",
     "output_type": "stream",
     "text": [
      "{'edit_type': 'deletion', 'id': 1, 'information_impact': <Information.LESS: 1>, 'type': <Quality.ERROR: 3>, 'grammar_error': False, 'error_type': <Error.COREFERENCE: 1>, 'rating': 0}\n",
      "{'edit_type': 'deletion', 'id': 0, 'information_impact': <Information.LESS: 1>, 'type': <Quality.ERROR: 3>, 'grammar_error': False, 'error_type': <Error.COREFERENCE: 1>, 'rating': 3}\n",
      "{'edit_type': 'deletion', 'id': 2, 'information_impact': <Information.LESS: 1>, 'type': <Quality.ERROR: 3>, 'grammar_error': False, 'error_type': <Error.COREFERENCE: 1>, 'rating': 3}\n",
      "{'edit_type': 'deletion', 'id': 4, 'information_impact': <Information.LESS: 1>, 'type': <Quality.ERROR: 3>, 'grammar_error': False, 'error_type': <Error.COREFERENCE: 1>, 'rating': 2}\n",
      "{'edit_type': 'deletion', 'id': 1, 'information_impact': <Information.LESS: 1>, 'type': <Quality.ERROR: 3>, 'grammar_error': False, 'error_type': <Error.COREFERENCE: 1>, 'rating': 2}\n",
      "{'edit_type': 'deletion', 'id': 0, 'information_impact': <Information.LESS: 1>, 'type': <Quality.ERROR: 3>, 'grammar_error': True, 'error_type': <Error.COREFERENCE: 1>, 'rating': 0}\n",
      "{'edit_type': 'deletion', 'id': 0, 'information_impact': <Information.LESS: 1>, 'type': <Quality.ERROR: 3>, 'grammar_error': False, 'error_type': <Error.COREFERENCE: 1>, 'rating': 3}\n",
      "{'edit_type': 'deletion', 'id': 0, 'information_impact': <Information.LESS: 1>, 'type': <Quality.ERROR: 3>, 'grammar_error': False, 'error_type': <Error.COREFERENCE: 1>, 'rating': 0}\n",
      "{'edit_type': 'deletion', 'id': 1, 'information_impact': <Information.LESS: 1>, 'type': <Quality.ERROR: 3>, 'grammar_error': False, 'error_type': <Error.COREFERENCE: 1>, 'rating': 0}\n",
      "{'edit_type': 'deletion', 'id': 4, 'information_impact': <Information.LESS: 1>, 'type': <Quality.ERROR: 3>, 'grammar_error': False, 'error_type': <Error.COREFERENCE: 1>, 'rating': 1}\n",
      "{'edit_type': 'deletion', 'id': 0, 'information_impact': <Information.LESS: 1>, 'type': <Quality.ERROR: 3>, 'grammar_error': False, 'error_type': <Error.COREFERENCE: 1>, 'rating': 0}\n",
      "{'edit_type': 'deletion', 'id': 1, 'information_impact': <Information.LESS: 1>, 'type': <Quality.ERROR: 3>, 'grammar_error': False, 'error_type': <Error.COREFERENCE: 1>, 'rating': 0}\n",
      "{'edit_type': 'deletion', 'id': 2, 'information_impact': <Information.LESS: 1>, 'type': <Quality.ERROR: 3>, 'grammar_error': False, 'error_type': <Error.COREFERENCE: 1>, 'rating': 0}\n",
      "{'edit_type': 'deletion', 'id': 1, 'information_impact': <Information.LESS: 1>, 'type': <Quality.ERROR: 3>, 'grammar_error': False, 'error_type': <Error.COREFERENCE: 1>, 'rating': 1}\n",
      "{'edit_type': 'deletion', 'id': 2, 'information_impact': <Information.LESS: 1>, 'type': <Quality.ERROR: 3>, 'grammar_error': False, 'error_type': <Error.COREFERENCE: 1>, 'rating': 0}\n",
      "{'edit_type': 'deletion', 'id': 0, 'information_impact': <Information.LESS: 1>, 'type': <Quality.ERROR: 3>, 'grammar_error': False, 'error_type': <Error.COREFERENCE: 1>, 'rating': 3}\n",
      "{'edit_type': 'deletion', 'id': 0, 'information_impact': <Information.LESS: 1>, 'type': <Quality.ERROR: 3>, 'grammar_error': False, 'error_type': <Error.COREFERENCE: 1>, 'rating': 2}\n",
      "{'edit_type': 'deletion', 'id': 0, 'information_impact': <Information.LESS: 1>, 'type': <Quality.ERROR: 3>, 'grammar_error': False, 'error_type': <Error.COREFERENCE: 1>, 'rating': 1}\n",
      "{'edit_type': 'deletion', 'id': 1, 'information_impact': <Information.LESS: 1>, 'type': <Quality.ERROR: 3>, 'grammar_error': False, 'error_type': <Error.COREFERENCE: 1>, 'rating': 1}\n",
      "{'edit_type': 'deletion', 'id': 1, 'information_impact': <Information.LESS: 1>, 'type': <Quality.ERROR: 3>, 'grammar_error': False, 'error_type': <Error.COREFERENCE: 1>, 'rating': 1}\n",
      "{'edit_type': 'deletion', 'id': 1, 'information_impact': <Information.LESS: 1>, 'type': <Quality.ERROR: 3>, 'grammar_error': False, 'error_type': <Error.COREFERENCE: 1>, 'rating': 0}\n",
      "{'edit_type': 'deletion', 'id': 1, 'information_impact': <Information.LESS: 1>, 'type': <Quality.ERROR: 3>, 'grammar_error': False, 'error_type': <Error.COREFERENCE: 1>, 'rating': 3}\n"
     ]
    }
   ],
   "source": [
    "# Example: Searches for coreference errors\n",
    "deletions = [process_annotation(k) for k in [i for j in [[x for x in sent['edits'] if x['type'] == 'deletion'] for sent in data] for i in j]]\n",
    "for d in deletions:\n",
    "    if d['error_type'] == Error.COREFERENCE:\n",
    "        print(d)"
   ]
  },
  {
   "cell_type": "code",
   "execution_count": 32,
   "metadata": {},
   "outputs": [
    {
     "data": {
      "text/plain": [
       "[{'edit_type': 'deletion',\n",
       "  'id': 0,\n",
       "  'information_impact': <Information.LESS: 1>,\n",
       "  'type': <Quality.QUALITY: 1>,\n",
       "  'grammar_error': False,\n",
       "  'error_type': None,\n",
       "  'rating': 3},\n",
       " {'edit_type': 'deletion',\n",
       "  'id': 1,\n",
       "  'information_impact': <Information.LESS: 1>,\n",
       "  'type': <Quality.QUALITY: 1>,\n",
       "  'grammar_error': False,\n",
       "  'error_type': None,\n",
       "  'rating': 3},\n",
       " {'edit_type': 'substitution',\n",
       "  'id': 0,\n",
       "  'information_impact': <Information.DIFFERENT: 4>,\n",
       "  'type': <Quality.ERROR: 3>,\n",
       "  'grammar_error': False,\n",
       "  'error_type': <Error.INFORMATION_REWRITE: 2>,\n",
       "  'rating': 0}]"
      ]
     },
     "execution_count": 32,
     "metadata": {},
     "output_type": "execute_result"
    }
   ],
   "source": [
    "# Example: Annotations for sentence 0\n",
    "data[0]['processed_annotations']"
   ]
  },
  {
   "cell_type": "code",
   "execution_count": 33,
   "metadata": {},
   "outputs": [
    {
     "data": {
      "text/plain": [
       "[{'type': 'deletion',\n",
       "  'id': 0,\n",
       "  'original_span': (61, 69),\n",
       "  'simplified_span': None,\n",
       "  'annotation': ['perfect', 'no', 'no']},\n",
       " {'type': 'deletion',\n",
       "  'id': 1,\n",
       "  'original_span': (111, 133),\n",
       "  'simplified_span': None,\n",
       "  'annotation': ['perfect', 'no', 'no']},\n",
       " {'type': 'substitution',\n",
       "  'id': 0,\n",
       "  'original_span': (157, 161),\n",
       "  'simplified_span': (124, 127),\n",
       "  'annotation': ['different', 'minor', 'no']}]"
      ]
     },
     "execution_count": 33,
     "metadata": {},
     "output_type": "execute_result"
    }
   ],
   "source": [
    "# Example: Edits for sentence 0\n",
    "data[0]['edits']"
   ]
  },
  {
   "cell_type": "code",
   "execution_count": 34,
   "metadata": {},
   "outputs": [],
   "source": [
    "# Create sums of different dimensions\n",
    "sum_edit_types = {system: sum_edits(data, system=system) for system in systems}\n",
    "sum_info_change_types = {system: sum_info_change(data, system=system) for system in systems}\n",
    "sum_errors_types = {system: sum_errors(data, system=system) for system in systems}\n",
    "# display(sum_edit_types)"
   ]
  },
  {
   "cell_type": "code",
   "execution_count": 35,
   "metadata": {},
   "outputs": [
    {
     "data": {
      "image/png": "[encoded data removed]",
      "text/plain": [
       "<Figure size 432x288 with 1 Axes>"
      ]
     },
     "metadata": {
      "needs_background": "light"
     },
     "output_type": "display_data"
    }
   ],
   "source": [
    "# Example: plot edit types by system\n",
    "# We need a list because order matters here...\n",
    "edit_type_labels = ['insertion', 'deletion', 'substitution', 'split', 'reorder', 'structure']\n",
    "system_labels = [x for x in [\n",
    "    'systems/Hybrid.lower',\n",
    "    'systems/Dress-Ls.lower',\n",
    "    'systems/lstm_w_split.txt',\n",
    "    'systems/transformer_w_split.txt',\n",
    "    'systems/con_simplification.txt',\n",
    "    'systems/T5.txt',\n",
    "    'new_systems/turk_corpus_random.txt',\n",
    "    'new_systems/simple_wiki.txt',\n",
    "    'systems/asset.test.simp',\n",
    "    'new_systems/asset.test.simp.second'\n",
    "] if x in systems]\n",
    "width = 0.5\n",
    "\n",
    "fig, ax = plt.subplots(figsize=(6, 4))\n",
    "bottom = [0 for x in range(len(edit_types))]\n",
    "\n",
    "for system in system_labels:\n",
    "       val = [sum_edit_types[system][label] for label in edit_type_labels]\n",
    "       ax.bar(edit_type_labels, val, width, bottom=bottom, label=system_name_mapping[system])\n",
    "       bottom = [bottom[i] + val[i] for i in range(len(val))]\n",
    "ax.set_ylabel('Number of edits')\n",
    "ax.set_title('Edit Types by System')\n",
    "ax.legend()\n",
    "\n",
    "# plt.rcParams['figure.dpi'] = 300\n",
    "\n",
    "plt.show()"
   ]
  },
  {
   "cell_type": "code",
   "execution_count": 36,
   "metadata": {},
   "outputs": [
    {
     "data": {
      "image/png": "[encoded data removed]",
      "text/plain": [
       "<Figure size 576x288 with 1 Axes>"
      ]
     },
     "metadata": {
      "needs_background": "light"
     },
     "output_type": "display_data"
    }
   ],
   "source": [
    "# Same as the above plot but but flip the dimensions\n",
    "fig, ax = plt.subplots(figsize=(8, 4))\n",
    "\n",
    "bottom = [0 for x in range(len(system_labels))]\n",
    "for edit_type in edit_type_labels:\n",
    "        val = [sum_edit_types[label][edit_type] for label in system_labels]\n",
    "        displayed_x_labels = [system_name_mapping[label] for label in system_labels]\n",
    "        ax.bar(displayed_x_labels, val, width, bottom=bottom, label=edit_type, color=color_mapping[edit_type])\n",
    "        bottom = [bottom[i] + val[i] for i in range(len(val))]\n",
    "ax.set_xlabel('System')\n",
    "ax.set_title('Edit Types by System')\n",
    "ax.set_yticks([i*round(max(bottom)/5) for i in range(6)])\n",
    "ax.plot([1.5, 1.5], [0, ax.get_ylim()[-1]], ls='--', c='k')\n",
    "ax.legend()\n",
    "plt.show()"
   ]
  },
  {
   "cell_type": "code",
   "execution_count": 37,
   "metadata": {},
   "outputs": [
    {
     "data": {
      "image/png": "[encoded data removed]",
      "text/plain": [
       "<Figure size 576x288 with 1 Axes>"
      ]
     },
     "metadata": {
      "needs_background": "light"
     },
     "output_type": "display_data"
    }
   ],
   "source": [
    "# Same as the plot above but instead lexical, syntactic, and content simplification\n",
    "fig, ax = plt.subplots(figsize=(8, 4))\n",
    "\n",
    "information_change_labels = [inn for inn in information_mapping.values()]\n",
    "\n",
    "bottom = [0 for x in range(len(system_labels))]\n",
    "for in_change in information_change_labels:\n",
    "    val = [sum_info_change_types[label][in_change] for label in system_labels]\n",
    "    displayed_x_labels = [system_name_mapping[label] for label in system_labels]\n",
    "    ax.bar(displayed_x_labels, val, width, bottom=bottom, label={information_mapping[k]: k for k in information_mapping}[in_change], color=information_change_color_mapping[in_change])\n",
    "    bottom = [bottom[i] + val[i] for i in range(len(val))]\n",
    "ax.set_xlabel('System')\n",
    "ax.set_title('Information Change by System')\n",
    "ax.set_yticks([i*round(max(bottom)/5) for i in range(6)])\n",
    "ax.plot([1.5, 1.5], [0, ax.get_ylim()[-1]], ls='--', c='k')\n",
    "ax.legend()\n",
    "plt.show()"
   ]
  },
  {
   "cell_type": "code",
   "execution_count": 38,
   "metadata": {},
   "outputs": [],
   "source": [
    "# Idea: Of the paraphrases, what are the ratings?\n",
    "# could do like a set of bar graphs centered around 0, where 0 is no impact."
   ]
  },
  {
   "cell_type": "code",
   "execution_count": 39,
   "metadata": {},
   "outputs": [],
   "source": [
    "# T5 inserts way more than human annotators, how many are errors?"
   ]
  },
  {
   "cell_type": "code",
   "execution_count": 40,
   "metadata": {},
   "outputs": [
    {
     "data": {
      "application/vnd.plotly.v1+json": {
       "config": {
        "plotlyServerURL": "https://plot.ly"
       },
       "data": [
        {
         "link": {
          "source": [
           5,
           87,
           87,
           87,
           4,
           72,
           72,
           72,
           3,
           55,
           55,
           55,
           2,
           2,
           2,
           2,
           41,
           40,
           40,
           39,
           39,
           39,
           38,
           38,
           1,
           22,
           22,
           0,
           7,
           7,
           7
          ],
          "target": [
           87,
           93,
           94,
           95,
           72,
           80,
           81,
           82,
           55,
           61,
           62,
           63,
           38,
           39,
           40,
           41,
           53,
           48,
           50,
           45,
           46,
           47,
           42,
           44,
           22,
           26,
           28,
           7,
           13,
           14,
           15
          ],
          "value": [
           15,
           7,
           1,
           7,
           63,
           12,
           22,
           29,
           45,
           32,
           5,
           8,
           38,
           194,
           10,
           23,
           23,
           5,
           5,
           138,
           49,
           7,
           33,
           5,
           218,
           196,
           22,
           38,
           18,
           13,
           7
          ]
         },
         "node": {
          "color": [
           "#3ca3a7",
           "#ee2a2a",
           "#2186eb",
           "#FF9F15",
           "#64C466",
           "#F7CE46",
           "#ee2a2a",
           "#2186eb",
           "#64C466",
           "#b103fc",
           "black",
           "black",
           "black",
           "black",
           "black",
           "black",
           "black",
           "black",
           "black",
           "black",
           "black",
           "black",
           "#ee2a2a",
           "#2186eb",
           "#64C466",
           "#b103fc",
           "black",
           "black",
           "black",
           "black",
           "black",
           "black",
           "black",
           "black",
           "black",
           "black",
           "black",
           "black",
           "#ee2a2a",
           "#2186eb",
           "#64C466",
           "#b103fc",
           "black",
           "black",
           "black",
           "black",
           "black",
           "black",
           "black",
           "black",
           "black",
           "black",
           "black",
           "black",
           "#ee2a2a",
           "#2186eb",
           "#64C466",
           "#b103fc",
           "black",
           "black",
           "black",
           "black",
           "black",
           "black",
           "black",
           "black",
           "black",
           "black",
           "black",
           "black",
           "#ee2a2a",
           "#2186eb",
           "#64C466",
           "#b103fc",
           "black",
           "black",
           "black",
           "black",
           "black",
           "black",
           "black",
           "black",
           "black",
           "black",
           "black",
           "black",
           "#ee2a2a",
           "#2186eb",
           "#64C466",
           "#b103fc",
           "black",
           "black",
           "black",
           "black",
           "black",
           "black",
           "black",
           "black",
           "black",
           "black",
           "black",
           "black"
          ],
          "label": [
           "reorder",
           "deletion",
           "substitution",
           "structure",
           "insertion",
           "split",
           "less",
           "same",
           "more",
           "different",
           "positive",
           "no",
           "negative",
           "positive",
           "no",
           "negative",
           "positive",
           "no",
           "negative",
           "positive",
           "no",
           "negative",
           "less",
           "same",
           "more",
           "different",
           "positive",
           "no",
           "negative",
           "positive",
           "no",
           "negative",
           "positive",
           "no",
           "negative",
           "positive",
           "no",
           "negative",
           "less",
           "same",
           "more",
           "different",
           "positive",
           "no",
           "negative",
           "positive",
           "no",
           "negative",
           "positive",
           "no",
           "negative",
           "positive",
           "no",
           "negative",
           "less",
           "same",
           "more",
           "different",
           "positive",
           "no",
           "negative",
           "positive",
           "no",
           "negative",
           "positive",
           "no",
           "negative",
           "positive",
           "no",
           "negative",
           "less",
           "same",
           "more",
           "different",
           "positive",
           "no",
           "negative",
           "positive",
           "no",
           "negative",
           "positive",
           "no",
           "negative",
           "positive",
           "no",
           "negative",
           "less",
           "same",
           "more",
           "different",
           "positive",
           "no",
           "negative",
           "positive",
           "no",
           "negative",
           "positive",
           "no",
           "negative",
           "positive",
           "no",
           "negative"
          ],
          "line": {
           "color": "black",
           "width": 0.5
          },
          "pad": 5,
          "thickness": 10
         },
         "type": "sankey",
         "valueformat": "d",
         "valuesuffix": " edits"
        }
       ],
       "layout": {
        "font": {
         "size": 11
        },
        "height": 500,
        "template": {
         "data": {
          "bar": [
           {
            "error_x": {
             "color": "#2a3f5f"
            },
            "error_y": {
             "color": "#2a3f5f"
            },
            "marker": {
             "line": {
              "color": "#E5ECF6",
              "width": 0.5
             },
             "pattern": {
              "fillmode": "overlay",
              "size": 10,
              "solidity": 0.2
             }
            },
            "type": "bar"
           }
          ],
          "barpolar": [
           {
            "marker": {
             "line": {
              "color": "#E5ECF6",
              "width": 0.5
             },
             "pattern": {
              "fillmode": "overlay",
              "size": 10,
              "solidity": 0.2
             }
            },
            "type": "barpolar"
           }
          ],
          "carpet": [
           {
            "aaxis": {
             "endlinecolor": "#2a3f5f",
             "gridcolor": "white",
             "linecolor": "white",
             "minorgridcolor": "white",
             "startlinecolor": "#2a3f5f"
            },
            "baxis": {
             "endlinecolor": "#2a3f5f",
             "gridcolor": "white",
             "linecolor": "white",
             "minorgridcolor": "white",
             "startlinecolor": "#2a3f5f"
            },
            "type": "carpet"
           }
          ],
          "choropleth": [
           {
            "colorbar": {
             "outlinewidth": 0,
             "ticks": ""
            },
            "type": "choropleth"
           }
          ],
          "contour": [
           {
            "colorbar": {
             "outlinewidth": 0,
             "ticks": ""
            },
            "colorscale": [
             [
              0,
              "#0d0887"
             ],
             [
              0.1111111111111111,
              "#46039f"
             ],
             [
              0.2222222222222222,
              "#7201a8"
             ],
             [
              0.3333333333333333,
              "#9c179e"
             ],
             [
              0.4444444444444444,
              "#bd3786"
             ],
             [
              0.5555555555555556,
              "#d8576b"
             ],
             [
              0.6666666666666666,
              "#ed7953"
             ],
             [
              0.7777777777777778,
              "#fb9f3a"
             ],
             [
              0.8888888888888888,
              "#fdca26"
             ],
             [
              1,
              "#f0f921"
             ]
            ],
            "type": "contour"
           }
          ],
          "contourcarpet": [
           {
            "colorbar": {
             "outlinewidth": 0,
             "ticks": ""
            },
            "type": "contourcarpet"
           }
          ],
          "heatmap": [
           {
            "colorbar": {
             "outlinewidth": 0,
             "ticks": ""
            },
            "colorscale": [
             [
              0,
              "#0d0887"
             ],
             [
              0.1111111111111111,
              "#46039f"
             ],
             [
              0.2222222222222222,
              "#7201a8"
             ],
             [
              0.3333333333333333,
              "#9c179e"
             ],
             [
              0.4444444444444444,
              "#bd3786"
             ],
             [
              0.5555555555555556,
              "#d8576b"
             ],
             [
              0.6666666666666666,
              "#ed7953"
             ],
             [
              0.7777777777777778,
              "#fb9f3a"
             ],
             [
              0.8888888888888888,
              "#fdca26"
             ],
             [
              1,
              "#f0f921"
             ]
            ],
            "type": "heatmap"
           }
          ],
          "heatmapgl": [
           {
            "colorbar": {
             "outlinewidth": 0,
             "ticks": ""
            },
            "colorscale": [
             [
              0,
              "#0d0887"
             ],
             [
              0.1111111111111111,
              "#46039f"
             ],
             [
              0.2222222222222222,
              "#7201a8"
             ],
             [
              0.3333333333333333,
              "#9c179e"
             ],
             [
              0.4444444444444444,
              "#bd3786"
             ],
             [
              0.5555555555555556,
              "#d8576b"
             ],
             [
              0.6666666666666666,
              "#ed7953"
             ],
             [
              0.7777777777777778,
              "#fb9f3a"
             ],
             [
              0.8888888888888888,
              "#fdca26"
             ],
             [
              1,
              "#f0f921"
             ]
            ],
            "type": "heatmapgl"
           }
          ],
          "histogram": [
           {
            "marker": {
             "pattern": {
              "fillmode": "overlay",
              "size": 10,
              "solidity": 0.2
             }
            },
            "type": "histogram"
           }
          ],
          "histogram2d": [
           {
            "colorbar": {
             "outlinewidth": 0,
             "ticks": ""
            },
            "colorscale": [
             [
              0,
              "#0d0887"
             ],
             [
              0.1111111111111111,
              "#46039f"
             ],
             [
              0.2222222222222222,
              "#7201a8"
             ],
             [
              0.3333333333333333,
              "#9c179e"
             ],
             [
              0.4444444444444444,
              "#bd3786"
             ],
             [
              0.5555555555555556,
              "#d8576b"
             ],
             [
              0.6666666666666666,
              "#ed7953"
             ],
             [
              0.7777777777777778,
              "#fb9f3a"
             ],
             [
              0.8888888888888888,
              "#fdca26"
             ],
             [
              1,
              "#f0f921"
             ]
            ],
            "type": "histogram2d"
           }
          ],
          "histogram2dcontour": [
           {
            "colorbar": {
             "outlinewidth": 0,
             "ticks": ""
            },
            "colorscale": [
             [
              0,
              "#0d0887"
             ],
             [
              0.1111111111111111,
              "#46039f"
             ],
             [
              0.2222222222222222,
              "#7201a8"
             ],
             [
              0.3333333333333333,
              "#9c179e"
             ],
             [
              0.4444444444444444,
              "#bd3786"
             ],
             [
              0.5555555555555556,
              "#d8576b"
             ],
             [
              0.6666666666666666,
              "#ed7953"
             ],
             [
              0.7777777777777778,
              "#fb9f3a"
             ],
             [
              0.8888888888888888,
              "#fdca26"
             ],
             [
              1,
              "#f0f921"
             ]
            ],
            "type": "histogram2dcontour"
           }
          ],
          "mesh3d": [
           {
            "colorbar": {
             "outlinewidth": 0,
             "ticks": ""
            },
            "type": "mesh3d"
           }
          ],
          "parcoords": [
           {
            "line": {
             "colorbar": {
              "outlinewidth": 0,
              "ticks": ""
             }
            },
            "type": "parcoords"
           }
          ],
          "pie": [
           {
            "automargin": true,
            "type": "pie"
           }
          ],
          "scatter": [
           {
            "fillpattern": {
             "fillmode": "overlay",
             "size": 10,
             "solidity": 0.2
            },
            "type": "scatter"
           }
          ],
          "scatter3d": [
           {
            "line": {
             "colorbar": {
              "outlinewidth": 0,
              "ticks": ""
             }
            },
            "marker": {
             "colorbar": {
              "outlinewidth": 0,
              "ticks": ""
             }
            },
            "type": "scatter3d"
           }
          ],
          "scattercarpet": [
           {
            "marker": {
             "colorbar": {
              "outlinewidth": 0,
              "ticks": ""
             }
            },
            "type": "scattercarpet"
           }
          ],
          "scattergeo": [
           {
            "marker": {
             "colorbar": {
              "outlinewidth": 0,
              "ticks": ""
             }
            },
            "type": "scattergeo"
           }
          ],
          "scattergl": [
           {
            "marker": {
             "colorbar": {
              "outlinewidth": 0,
              "ticks": ""
             }
            },
            "type": "scattergl"
           }
          ],
          "scattermapbox": [
           {
            "marker": {
             "colorbar": {
              "outlinewidth": 0,
              "ticks": ""
             }
            },
            "type": "scattermapbox"
           }
          ],
          "scatterpolar": [
           {
            "marker": {
             "colorbar": {
              "outlinewidth": 0,
              "ticks": ""
             }
            },
            "type": "scatterpolar"
           }
          ],
          "scatterpolargl": [
           {
            "marker": {
             "colorbar": {
              "outlinewidth": 0,
              "ticks": ""
             }
            },
            "type": "scatterpolargl"
           }
          ],
          "scatterternary": [
           {
            "marker": {
             "colorbar": {
              "outlinewidth": 0,
              "ticks": ""
             }
            },
            "type": "scatterternary"
           }
          ],
          "surface": [
           {
            "colorbar": {
             "outlinewidth": 0,
             "ticks": ""
            },
            "colorscale": [
             [
              0,
              "#0d0887"
             ],
             [
              0.1111111111111111,
              "#46039f"
             ],
             [
              0.2222222222222222,
              "#7201a8"
             ],
             [
              0.3333333333333333,
              "#9c179e"
             ],
             [
              0.4444444444444444,
              "#bd3786"
             ],
             [
              0.5555555555555556,
              "#d8576b"
             ],
             [
              0.6666666666666666,
              "#ed7953"
             ],
             [
              0.7777777777777778,
              "#fb9f3a"
             ],
             [
              0.8888888888888888,
              "#fdca26"
             ],
             [
              1,
              "#f0f921"
             ]
            ],
            "type": "surface"
           }
          ],
          "table": [
           {
            "cells": {
             "fill": {
              "color": "#EBF0F8"
             },
             "line": {
              "color": "white"
             }
            },
            "header": {
             "fill": {
              "color": "#C8D4E3"
             },
             "line": {
              "color": "white"
             }
            },
            "type": "table"
           }
          ]
         },
         "layout": {
          "annotationdefaults": {
           "arrowcolor": "#2a3f5f",
           "arrowhead": 0,
           "arrowwidth": 1
          },
          "autotypenumbers": "strict",
          "coloraxis": {
           "colorbar": {
            "outlinewidth": 0,
            "ticks": ""
           }
          },
          "colorscale": {
           "diverging": [
            [
             0,
             "#8e0152"
            ],
            [
             0.1,
             "#c51b7d"
            ],
            [
             0.2,
             "#de77ae"
            ],
            [
             0.3,
             "#f1b6da"
            ],
            [
             0.4,
             "#fde0ef"
            ],
            [
             0.5,
             "#f7f7f7"
            ],
            [
             0.6,
             "#e6f5d0"
            ],
            [
             0.7,
             "#b8e186"
            ],
            [
             0.8,
             "#7fbc41"
            ],
            [
             0.9,
             "#4d9221"
            ],
            [
             1,
             "#276419"
            ]
           ],
           "sequential": [
            [
             0,
             "#0d0887"
            ],
            [
             0.1111111111111111,
             "#46039f"
            ],
            [
             0.2222222222222222,
             "#7201a8"
            ],
            [
             0.3333333333333333,
             "#9c179e"
            ],
            [
             0.4444444444444444,
             "#bd3786"
            ],
            [
             0.5555555555555556,
             "#d8576b"
            ],
            [
             0.6666666666666666,
             "#ed7953"
            ],
            [
             0.7777777777777778,
             "#fb9f3a"
            ],
            [
             0.8888888888888888,
             "#fdca26"
            ],
            [
             1,
             "#f0f921"
            ]
           ],
           "sequentialminus": [
            [
             0,
             "#0d0887"
            ],
            [
             0.1111111111111111,
             "#46039f"
            ],
            [
             0.2222222222222222,
             "#7201a8"
            ],
            [
             0.3333333333333333,
             "#9c179e"
            ],
            [
             0.4444444444444444,
             "#bd3786"
            ],
            [
             0.5555555555555556,
             "#d8576b"
            ],
            [
             0.6666666666666666,
             "#ed7953"
            ],
            [
             0.7777777777777778,
             "#fb9f3a"
            ],
            [
             0.8888888888888888,
             "#fdca26"
            ],
            [
             1,
             "#f0f921"
            ]
           ]
          },
          "colorway": [
           "#636efa",
           "#EF553B",
           "#00cc96",
           "#ab63fa",
           "#FFA15A",
           "#19d3f3",
           "#FF6692",
           "#B6E880",
           "#FF97FF",
           "#FECB52"
          ],
          "font": {
           "color": "#2a3f5f"
          },
          "geo": {
           "bgcolor": "white",
           "lakecolor": "white",
           "landcolor": "#E5ECF6",
           "showlakes": true,
           "showland": true,
           "subunitcolor": "white"
          },
          "hoverlabel": {
           "align": "left"
          },
          "hovermode": "closest",
          "mapbox": {
           "style": "light"
          },
          "paper_bgcolor": "white",
          "plot_bgcolor": "#E5ECF6",
          "polar": {
           "angularaxis": {
            "gridcolor": "white",
            "linecolor": "white",
            "ticks": ""
           },
           "bgcolor": "#E5ECF6",
           "radialaxis": {
            "gridcolor": "white",
            "linecolor": "white",
            "ticks": ""
           }
          },
          "scene": {
           "xaxis": {
            "backgroundcolor": "#E5ECF6",
            "gridcolor": "white",
            "gridwidth": 2,
            "linecolor": "white",
            "showbackground": true,
            "ticks": "",
            "zerolinecolor": "white"
           },
           "yaxis": {
            "backgroundcolor": "#E5ECF6",
            "gridcolor": "white",
            "gridwidth": 2,
            "linecolor": "white",
            "showbackground": true,
            "ticks": "",
            "zerolinecolor": "white"
           },
           "zaxis": {
            "backgroundcolor": "#E5ECF6",
            "gridcolor": "white",
            "gridwidth": 2,
            "linecolor": "white",
            "showbackground": true,
            "ticks": "",
            "zerolinecolor": "white"
           }
          },
          "shapedefaults": {
           "line": {
            "color": "#2a3f5f"
           }
          },
          "ternary": {
           "aaxis": {
            "gridcolor": "white",
            "linecolor": "white",
            "ticks": ""
           },
           "baxis": {
            "gridcolor": "white",
            "linecolor": "white",
            "ticks": ""
           },
           "bgcolor": "#E5ECF6",
           "caxis": {
            "gridcolor": "white",
            "linecolor": "white",
            "ticks": ""
           }
          },
          "title": {
           "x": 0.05
          },
          "xaxis": {
           "automargin": true,
           "gridcolor": "white",
           "linecolor": "white",
           "ticks": "",
           "title": {
            "standoff": 15
           },
           "zerolinecolor": "white",
           "zerolinewidth": 2
          },
          "yaxis": {
           "automargin": true,
           "gridcolor": "white",
           "linecolor": "white",
           "ticks": "",
           "title": {
            "standoff": 15
           },
           "zerolinecolor": "white",
           "zerolinewidth": 2
          }
         }
        },
        "title": {
         "text": "Edit Type Distribution"
        },
        "width": 500
       }
      }
     },
     "metadata": {},
     "output_type": "display_data"
    }
   ],
   "source": [
    "# Create a tree of edit types, following the decision tree\n",
    "root = Node(count_data(data), 'edits', -1)\n",
    "\n",
    "counter = 0\n",
    "for edit_type in edit_types:\n",
    "    root.add_child(Node(count_data(data, edit_type=edit_type), edit_type, counter))\n",
    "    counter += 1\n",
    "\n",
    "for node in root.get_children():\n",
    "    for info_change in information_mapping.values():\n",
    "        node.add_child(Node(count_data(data, edit_type=node.label, information_impact=info_change), info_change, counter))\n",
    "        counter += 1\n",
    "    for child in node.get_children():\n",
    "        for quality_type in Quality:\n",
    "            child.add_child(Node(count_data(data, edit_type=node.label, information_impact=child.label, quality_type=quality_type), quality_type, counter))\n",
    "            counter += 1\n",
    "\n",
    "# Convert the tree to a list of nodes & links\n",
    "stack = [child for child in root.get_children()]\n",
    "nodes, links = [], []\n",
    "while len(stack) > 0:\n",
    "    node = stack.pop()\n",
    "\n",
    "    # Map color if it has a mapping\n",
    "    color = 'black'\n",
    "    if node.label in color_mapping.keys():\n",
    "        color = color_mapping[node.label]\n",
    "    if node.label in information_change_color_mapping.keys():\n",
    "        color = information_change_color_mapping[node.label]\n",
    "\n",
    "    # Map label if it has a mapping\n",
    "    label = node.label\n",
    "    in_mapping_back = {information_mapping[k]: k for k in information_mapping}\n",
    "    if node.label in in_mapping_back.keys():\n",
    "        label = in_mapping_back[node.label]\n",
    "    impact_mapping_back = {impact_mapping[k]: k for k in impact_mapping}\n",
    "    if node.label in impact_mapping_back.keys():\n",
    "        label = impact_mapping_back[node.label]\n",
    "\n",
    "    nodes.append({'id': node.id, 'label': label, 'color': color})\n",
    "\n",
    "    # Get links to children\n",
    "    for child in node.get_children():\n",
    "        if child.amount > 0:\n",
    "            links.append({'source': node.id, 'target': child.id, 'value': child.amount})\n",
    "        stack.append(child)\n",
    "\n",
    "# Sort nodes by id\n",
    "nodes = sorted(nodes, key=lambda x: x['id'])\n",
    "\n",
    "# Convert dict tree values to lists\n",
    "labels, colors = [str(x['label']) for x in nodes], [x['color'] for x in nodes]\n",
    "sources, targets, values = [x['source'] for x in links], [x['target'] for x in links], [x['value'] for x in links]\n",
    "\n",
    "fig = go.Figure(data=[go.Sankey(\n",
    "    node = dict(\n",
    "      pad = 5,\n",
    "      thickness = 10,\n",
    "      line = dict(color = \"black\", width = 0.5),\n",
    "      label = labels,\n",
    "      color = colors\n",
    "    ),\n",
    "    link = dict(\n",
    "      source = sources, # index of source node\n",
    "      target = targets, # index of end node\n",
    "      value = values,   # amount in link\n",
    "      # label = data['link']['label'],   # label of link (not necessary)\n",
    "      # color = data['link']['color']\n",
    "    ),\n",
    "    valueformat = \"d\",\n",
    "    valuesuffix = \" edits\"\n",
    "  )\n",
    "])\n",
    "\n",
    "fig.update_layout(title_text=\"Edit Type Distribution\", font_size=11, width=500, height=500)\n",
    "fig.show()\n",
    "\n",
    "# This is a start, but perhaps combine the same categories? Also have this be a full tree (i.e. show error types?)\n",
    "\n",
    "# I actually think this chart would be great if the final row had colors and specific labels (ex. Elaboration, Trivial Insertions, Paraphrase, etc.)"
   ]
  },
  {
   "cell_type": "code",
   "execution_count": 41,
   "metadata": {},
   "outputs": [
    {
     "data": {
      "image/png": "[encoded data removed]",
      "text/plain": [
       "<Figure size 432x288 with 1 Axes>"
      ]
     },
     "metadata": {
      "needs_background": "light"
     },
     "output_type": "display_data"
    }
   ],
   "source": [
    "import numpy as np\n",
    "plotted_errors = [\n",
    "    Error.COREFERENCE, \n",
    "    Error.REPETITION,  \n",
    "    Error.CONTRADICTION,  \n",
    "    Error.HALLUCINATION,  \n",
    "    Error.IRRELEVANT, \n",
    "    Error.UNNECESSARY_INSERTION, \n",
    "    Error.INFORMATION_REWRITE,\n",
    "    Error.COMPLEX_WORDING\n",
    "]\n",
    "\n",
    "error_labels = [str(x).split('.')[1].lower().replace('_',' ') for x in plotted_errors]\n",
    "\n",
    "fig, ax = plt.subplots(figsize=(6, 4))\n",
    "bottom = [0 for x in range(len(error_labels))]\n",
    "\n",
    "width = 0.15\n",
    "\n",
    "count = 0 \n",
    "for system in system_labels:\n",
    "       val = [sum_errors_types[system][label] for label in plotted_errors]\n",
    "       x = np.arange(len(error_labels))\n",
    "       ax.bar(x-(2*width)+count*width, val, width, label=system_name_mapping[system])\n",
    "       bottom = [bottom[i] + val[i] for i in range(len(val))]\n",
    "       count += 1\n",
    "ax.set_ylabel('Number of errors')\n",
    "ax.set_title('Errors by System')\n",
    "ax.legend()\n",
    "\n",
    "# plt.rcParams['figure.dpi'] = 300\n",
    "\n",
    "plt.xticks(x, error_labels, rotation=45, ha=\"right\")\n",
    "plt.show()"
   ]
  }
 ],
 "metadata": {
  "kernelspec": {
   "display_name": "Python 3.9.0 64-bit",
   "language": "python",
   "name": "python3"
  },
  "language_info": {
   "codemirror_mode": {
    "name": "ipython",
    "version": 3
   },
   "file_extension": ".py",
   "mimetype": "text/x-python",
   "name": "python",
   "nbconvert_exporter": "python",
   "pygments_lexer": "ipython3",
   "version": "3.9.0"
  },
  "orig_nbformat": 4,
  "vscode": {
   "interpreter": {
    "hash": "81794d4967e6c3204c66dcd87b604927b115b27c00565d3d43f05ba2f3a2cb0d"
   }
  }
 },
 "nbformat": 4,
 "nbformat_minor": 2
}
