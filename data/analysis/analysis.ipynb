{
 "cells": [
  {
   "cell_type": "code",
   "execution_count": 1,
   "metadata": {},
   "outputs": [
    {
     "name": "stdout",
     "output_type": "stream",
     "text": [
      "Loading files: ['../annotated/batch_4_rachel.json', '../annotated/batch_4_vinayak.json', '../annotated/batch_4_vishnesh.json']\n",
      "\n",
      "Found users: {'rachel', 'vishnesh', 'vinayak'}\n",
      "\n",
      "Couldn't process grammar for annotation: ['positive', 'minor', '', '']\n"
     ]
    }
   ],
   "source": [
    "from types import *\n",
    "from dataloader import *\n",
    "from util import *\n",
    "from graphs import *\n",
    "from agreement import *\n",
    "from scoring import *\n",
    "\n",
    "# There's also 'tutorial' and 'preliminary' data\n",
    "data = load_data('../annotated', batch_num=4, preprocess=True)"
   ]
  },
  {
   "cell_type": "code",
   "execution_count": 2,
   "metadata": {},
   "outputs": [
    {
     "name": "stdout",
     "output_type": "stream",
     "text": [
      "RACHEL - HIT 5: When I try to annotate the split, the sentence freezes and no further edits are saved. \n",
      "Split-Positive Impact\n",
      "Efficacy- A lot\n",
      "No grammar error\n",
      "And (before thenceforth) is part of the split edit.\n",
      "Impact- none\n",
      "No grammar error\n",
      "\n",
      "RACHEL - HIT 14: \"Between\" would have been a good substitution, but not having the two events in chronological order makes the sentence more difficult to understand. \n",
      "\n",
      "RACHEL - HIT 15: Editing the split causes the sentence to freeze. \n",
      "Split\n",
      "Negative Impact\n",
      "Severity- Minor\n",
      "No grammar error\n",
      "\"This was\"- part of split edit\n",
      "Trivial Insertion\n",
      "No grammar error\n",
      "\n",
      "VINAYAK - HIT 7: Should be a structure change for the substitution of \"the arrival of\" to \"came into the area\" and the reorder of \"the storm\". The structure change should have been a bad structure change, with a severity of \"somewhat.\" \n",
      "\n",
      "VISHNESH - HIT 9: Was not sure how to annotate the missing comma which causes a grammatical error so I annotated it as an insertion for arrived.\n",
      "\n",
      "VISHNESH - HIT 17: Was not sure if this was a structural change in the latter half of the sentence.\n",
      "\n"
     ]
    }
   ],
   "source": [
    "# Print spans with comments\n",
    "get_comments(data)"
   ]
  },
  {
   "cell_type": "code",
   "execution_count": 3,
   "metadata": {},
   "outputs": [],
   "source": [
    "# The systems we looked at\n",
    "systems = set([x['system'] for x in data])\n",
    "\n",
    "# Edit types\n",
    "edit_types = set(data[0]['annotations'].keys())"
   ]
  },
  {
   "cell_type": "code",
   "execution_count": 4,
   "metadata": {},
   "outputs": [],
   "source": [
    "# Example: Searches for coreference errors\n",
    "deletions = [process_annotation(k) for k in [i for j in [[x for x in sent['edits'] if x['type'] == 'deletion'] for sent in data] for i in j]]\n",
    "for d in deletions:\n",
    "    if d['error_type'] == Error.COREFERENCE:\n",
    "        print(d)"
   ]
  },
  {
   "cell_type": "code",
   "execution_count": 5,
   "metadata": {},
   "outputs": [
    {
     "data": {
      "text/plain": [
       "[{'edit_type': 'deletion',\n",
       "  'id': 0,\n",
       "  'information_impact': <Information.LESS: 'Less Information'>,\n",
       "  'type': <Quality.QUALITY: 'No Error'>,\n",
       "  'grammar_error': False,\n",
       "  'error_type': None,\n",
       "  'rating': 2,\n",
       "  'size': 0.022727272727272728,\n",
       "  'score': 0.6225875833574676},\n",
       " {'edit_type': 'deletion',\n",
       "  'id': 1,\n",
       "  'information_impact': <Information.LESS: 'Less Information'>,\n",
       "  'type': <Quality.QUALITY: 'No Error'>,\n",
       "  'grammar_error': False,\n",
       "  'error_type': None,\n",
       "  'rating': 2,\n",
       "  'size': 0.02727272727272727,\n",
       "  'score': 0.7331474536400913},\n",
       " {'edit_type': 'substitution',\n",
       "  'id': 0,\n",
       "  'information_impact': <Information.SAME: 'Same Information'>,\n",
       "  'type': <Quality.QUALITY: 'No Error'>,\n",
       "  'grammar_error': False,\n",
       "  'error_type': None,\n",
       "  'rating': 2,\n",
       "  'size': 0.031818181818181815,\n",
       "  'score': 2.1595557073814984},\n",
       " {'edit_type': 'substitution',\n",
       "  'id': 1,\n",
       "  'information_impact': <Information.SAME: 'Same Information'>,\n",
       "  'type': <Quality.QUALITY: 'No Error'>,\n",
       "  'grammar_error': False,\n",
       "  'error_type': None,\n",
       "  'rating': 1,\n",
       "  'size': 0.03636363636363636,\n",
       "  'score': 1.0775885911796497},\n",
       " {'edit_type': 'insertion',\n",
       "  'id': 0,\n",
       "  'information_impact': <Information.MORE: 'More Information'>,\n",
       "  'type': <Quality.ERROR: 'Error'>,\n",
       "  'grammar_error': False,\n",
       "  'error_type': <Error.UNNECESSARY_INSERTION: 'Unnecessary Insertion'>,\n",
       "  'rating': '',\n",
       "  'size': 0.013636363636363636,\n",
       "  'score': 0.11103465569966287}]"
      ]
     },
     "execution_count": 5,
     "metadata": {},
     "output_type": "execute_result"
    }
   ],
   "source": [
    "# Example: Annotations for sentence 0\n",
    "data[0]['processed_annotations']"
   ]
  },
  {
   "cell_type": "code",
   "execution_count": 6,
   "metadata": {},
   "outputs": [
    {
     "data": {
      "text/plain": [
       "[{'type': 'deletion',\n",
       "  'id': 0,\n",
       "  'original_span': [(130, 135)],\n",
       "  'simplified_span': None,\n",
       "  'annotation': ['good', 'no', 'no']},\n",
       " {'type': 'deletion',\n",
       "  'id': 1,\n",
       "  'original_span': [(196, 202)],\n",
       "  'simplified_span': None,\n",
       "  'annotation': ['good', 'no', 'no']},\n",
       " {'type': 'substitution',\n",
       "  'id': 0,\n",
       "  'original_span': [(99, 110)],\n",
       "  'simplified_span': [(99, 103)],\n",
       "  'annotation': ['same', 'positive', 'a lot', '', 'no']},\n",
       " {'type': 'substitution',\n",
       "  'id': 1,\n",
       "  'original_span': [(123, 129)],\n",
       "  'simplified_span': [(116, 130)],\n",
       "  'annotation': ['same', 'positive', 'somewhat', '', 'no']},\n",
       " {'type': 'insertion',\n",
       "  'id': 0,\n",
       "  'original_span': None,\n",
       "  'simplified_span': [(170, 173)],\n",
       "  'annotation': ['trivial', 'no', '', 'no']}]"
      ]
     },
     "execution_count": 6,
     "metadata": {},
     "output_type": "execute_result"
    }
   ],
   "source": [
    "# Example: Edits for sentence 0\n",
    "data[0]['edits']"
   ]
  },
  {
   "cell_type": "code",
   "execution_count": 7,
   "metadata": {},
   "outputs": [],
   "source": [
    "# Example: Agreement between annotators on edit types\n",
    "# for edit_type in ['deletion', 'insertion', 'reorder', 'substitution']:\n",
    "#     print(f'{edit_type} -> {calculate_agreement(data, edit_type, drop_no_spans=True)}')"
   ]
  },
  {
   "cell_type": "code",
   "execution_count": 8,
   "metadata": {},
   "outputs": [],
   "source": [
    "# TODO: trivial edits on substitutions aren't being processed correctly\n",
    "# for sent in data:\n",
    "#     for ann in sent['processed_annotations']:\n",
    "#         if ann['type'] == Quality.TRIVIAL and ann['rating'] == None:\n",
    "#             print(sent['id'])\n",
    "#             print(ann)\n",
    "#             print(sent['system'])\n",
    "#             print(sent['system'])\n",
    "#             print(sent['user'])"
   ]
  },
  {
   "cell_type": "code",
   "execution_count": 9,
   "metadata": {},
   "outputs": [
    {
     "data": {
      "image/png": "[encoded data removed]",
      "text/plain": [
       "<Figure size 576x288 with 1 Axes>"
      ]
     },
     "metadata": {
      "needs_background": "light"
     },
     "output_type": "display_data"
    }
   ],
   "source": [
    "edit_type_by_system(data, flipped=True)"
   ]
  },
  {
   "cell_type": "code",
   "execution_count": 10,
   "metadata": {},
   "outputs": [
    {
     "data": {
      "image/png": "[encoded data removed]",
      "text/plain": [
       "<Figure size 576x288 with 1 Axes>"
      ]
     },
     "metadata": {
      "needs_background": "light"
     },
     "output_type": "display_data"
    }
   ],
   "source": [
    "system_by_information_change(data)"
   ]
  },
  {
   "cell_type": "code",
   "execution_count": 11,
   "metadata": {},
   "outputs": [
    {
     "data": {
      "image/png": "[encoded data removed]",
      "text/plain": [
       "<Figure size 432x288 with 1 Axes>"
      ]
     },
     "metadata": {
      "needs_background": "light"
     },
     "output_type": "display_data"
    }
   ],
   "source": [
    "errors_by_system(data)"
   ]
  },
  {
   "cell_type": "code",
   "execution_count": 12,
   "metadata": {},
   "outputs": [
    {
     "data": {
      "application/vnd.plotly.v1+json": {
       "config": {
        "plotlyServerURL": "https://plot.ly"
       },
       "data": [
        {
         "link": {
          "source": [
           4,
           71,
           71,
           3,
           55,
           55,
           55,
           2,
           2,
           2,
           2,
           41,
           40,
           40,
           39,
           39,
           39,
           38,
           1,
           24,
           24,
           24,
           0,
           6
          ],
          "target": [
           71,
           77,
           79,
           55,
           61,
           62,
           63,
           38,
           39,
           40,
           41,
           53,
           48,
           49,
           45,
           46,
           47,
           42,
           24,
           32,
           33,
           34,
           6,
           10
          ],
          "value": [
           30,
           27,
           3,
           19,
           12,
           2,
           5,
           6,
           68,
           2,
           6,
           6,
           1,
           1,
           54,
           3,
           11,
           6,
           25,
           2,
           6,
           17,
           78,
           78
          ]
         },
         "node": {
          "color": [
           "#ee2a2a",
           "#64C466",
           "#2186eb",
           "#3ca3a7",
           "#FF9F15",
           "#F7CE46",
           "#ee2a2a",
           "#2186eb",
           "#64C466",
           "#b103fc",
           "black",
           "black",
           "black",
           "black",
           "black",
           "black",
           "black",
           "black",
           "black",
           "black",
           "black",
           "black",
           "#ee2a2a",
           "#2186eb",
           "#64C466",
           "#b103fc",
           "black",
           "black",
           "black",
           "black",
           "black",
           "black",
           "black",
           "black",
           "black",
           "black",
           "black",
           "black",
           "#ee2a2a",
           "#2186eb",
           "#64C466",
           "#b103fc",
           "black",
           "black",
           "black",
           "black",
           "black",
           "black",
           "black",
           "black",
           "black",
           "black",
           "black",
           "black",
           "#ee2a2a",
           "#2186eb",
           "#64C466",
           "#b103fc",
           "black",
           "black",
           "black",
           "black",
           "black",
           "black",
           "black",
           "black",
           "black",
           "black",
           "black",
           "black",
           "#ee2a2a",
           "#2186eb",
           "#64C466",
           "#b103fc",
           "black",
           "black",
           "black",
           "black",
           "black",
           "black",
           "black",
           "black",
           "black",
           "black",
           "black",
           "black",
           "#ee2a2a",
           "#2186eb",
           "#64C466",
           "#b103fc",
           "black",
           "black",
           "black",
           "black",
           "black",
           "black",
           "black",
           "black",
           "black",
           "black",
           "black",
           "black"
          ],
          "label": [
           "deletion",
           "insertion",
           "substitution",
           "reorder",
           "structure",
           "split",
           "less information",
           "same information",
           "more information",
           "different information",
           "no error",
           "trivial",
           "error",
           "no error",
           "trivial",
           "error",
           "no error",
           "trivial",
           "error",
           "no error",
           "trivial",
           "error",
           "less information",
           "same information",
           "more information",
           "different information",
           "no error",
           "trivial",
           "error",
           "no error",
           "trivial",
           "error",
           "no error",
           "trivial",
           "error",
           "no error",
           "trivial",
           "error",
           "less information",
           "same information",
           "more information",
           "different information",
           "no error",
           "trivial",
           "error",
           "no error",
           "trivial",
           "error",
           "no error",
           "trivial",
           "error",
           "no error",
           "trivial",
           "error",
           "less information",
           "same information",
           "more information",
           "different information",
           "no error",
           "trivial",
           "error",
           "no error",
           "trivial",
           "error",
           "no error",
           "trivial",
           "error",
           "no error",
           "trivial",
           "error",
           "less information",
           "same information",
           "more information",
           "different information",
           "no error",
           "trivial",
           "error",
           "no error",
           "trivial",
           "error",
           "no error",
           "trivial",
           "error",
           "no error",
           "trivial",
           "error",
           "less information",
           "same information",
           "more information",
           "different information",
           "no error",
           "trivial",
           "error",
           "no error",
           "trivial",
           "error",
           "no error",
           "trivial",
           "error",
           "no error",
           "trivial",
           "error"
          ],
          "line": {
           "color": "black",
           "width": 0.5
          },
          "pad": 5,
          "thickness": 10
         },
         "type": "sankey",
         "valueformat": "d",
         "valuesuffix": " edits"
        }
       ],
       "layout": {
        "font": {
         "size": 11
        },
        "height": 500,
        "template": {
         "data": {
          "bar": [
           {
            "error_x": {
             "color": "#2a3f5f"
            },
            "error_y": {
             "color": "#2a3f5f"
            },
            "marker": {
             "line": {
              "color": "#E5ECF6",
              "width": 0.5
             },
             "pattern": {
              "fillmode": "overlay",
              "size": 10,
              "solidity": 0.2
             }
            },
            "type": "bar"
           }
          ],
          "barpolar": [
           {
            "marker": {
             "line": {
              "color": "#E5ECF6",
              "width": 0.5
             },
             "pattern": {
              "fillmode": "overlay",
              "size": 10,
              "solidity": 0.2
             }
            },
            "type": "barpolar"
           }
          ],
          "carpet": [
           {
            "aaxis": {
             "endlinecolor": "#2a3f5f",
             "gridcolor": "white",
             "linecolor": "white",
             "minorgridcolor": "white",
             "startlinecolor": "#2a3f5f"
            },
            "baxis": {
             "endlinecolor": "#2a3f5f",
             "gridcolor": "white",
             "linecolor": "white",
             "minorgridcolor": "white",
             "startlinecolor": "#2a3f5f"
            },
            "type": "carpet"
           }
          ],
          "choropleth": [
           {
            "colorbar": {
             "outlinewidth": 0,
             "ticks": ""
            },
            "type": "choropleth"
           }
          ],
          "contour": [
           {
            "colorbar": {
             "outlinewidth": 0,
             "ticks": ""
            },
            "colorscale": [
             [
              0,
              "#0d0887"
             ],
             [
              0.1111111111111111,
              "#46039f"
             ],
             [
              0.2222222222222222,
              "#7201a8"
             ],
             [
              0.3333333333333333,
              "#9c179e"
             ],
             [
              0.4444444444444444,
              "#bd3786"
             ],
             [
              0.5555555555555556,
              "#d8576b"
             ],
             [
              0.6666666666666666,
              "#ed7953"
             ],
             [
              0.7777777777777778,
              "#fb9f3a"
             ],
             [
              0.8888888888888888,
              "#fdca26"
             ],
             [
              1,
              "#f0f921"
             ]
            ],
            "type": "contour"
           }
          ],
          "contourcarpet": [
           {
            "colorbar": {
             "outlinewidth": 0,
             "ticks": ""
            },
            "type": "contourcarpet"
           }
          ],
          "heatmap": [
           {
            "colorbar": {
             "outlinewidth": 0,
             "ticks": ""
            },
            "colorscale": [
             [
              0,
              "#0d0887"
             ],
             [
              0.1111111111111111,
              "#46039f"
             ],
             [
              0.2222222222222222,
              "#7201a8"
             ],
             [
              0.3333333333333333,
              "#9c179e"
             ],
             [
              0.4444444444444444,
              "#bd3786"
             ],
             [
              0.5555555555555556,
              "#d8576b"
             ],
             [
              0.6666666666666666,
              "#ed7953"
             ],
             [
              0.7777777777777778,
              "#fb9f3a"
             ],
             [
              0.8888888888888888,
              "#fdca26"
             ],
             [
              1,
              "#f0f921"
             ]
            ],
            "type": "heatmap"
           }
          ],
          "heatmapgl": [
           {
            "colorbar": {
             "outlinewidth": 0,
             "ticks": ""
            },
            "colorscale": [
             [
              0,
              "#0d0887"
             ],
             [
              0.1111111111111111,
              "#46039f"
             ],
             [
              0.2222222222222222,
              "#7201a8"
             ],
             [
              0.3333333333333333,
              "#9c179e"
             ],
             [
              0.4444444444444444,
              "#bd3786"
             ],
             [
              0.5555555555555556,
              "#d8576b"
             ],
             [
              0.6666666666666666,
              "#ed7953"
             ],
             [
              0.7777777777777778,
              "#fb9f3a"
             ],
             [
              0.8888888888888888,
              "#fdca26"
             ],
             [
              1,
              "#f0f921"
             ]
            ],
            "type": "heatmapgl"
           }
          ],
          "histogram": [
           {
            "marker": {
             "pattern": {
              "fillmode": "overlay",
              "size": 10,
              "solidity": 0.2
             }
            },
            "type": "histogram"
           }
          ],
          "histogram2d": [
           {
            "colorbar": {
             "outlinewidth": 0,
             "ticks": ""
            },
            "colorscale": [
             [
              0,
              "#0d0887"
             ],
             [
              0.1111111111111111,
              "#46039f"
             ],
             [
              0.2222222222222222,
              "#7201a8"
             ],
             [
              0.3333333333333333,
              "#9c179e"
             ],
             [
              0.4444444444444444,
              "#bd3786"
             ],
             [
              0.5555555555555556,
              "#d8576b"
             ],
             [
              0.6666666666666666,
              "#ed7953"
             ],
             [
              0.7777777777777778,
              "#fb9f3a"
             ],
             [
              0.8888888888888888,
              "#fdca26"
             ],
             [
              1,
              "#f0f921"
             ]
            ],
            "type": "histogram2d"
           }
          ],
          "histogram2dcontour": [
           {
            "colorbar": {
             "outlinewidth": 0,
             "ticks": ""
            },
            "colorscale": [
             [
              0,
              "#0d0887"
             ],
             [
              0.1111111111111111,
              "#46039f"
             ],
             [
              0.2222222222222222,
              "#7201a8"
             ],
             [
              0.3333333333333333,
              "#9c179e"
             ],
             [
              0.4444444444444444,
              "#bd3786"
             ],
             [
              0.5555555555555556,
              "#d8576b"
             ],
             [
              0.6666666666666666,
              "#ed7953"
             ],
             [
              0.7777777777777778,
              "#fb9f3a"
             ],
             [
              0.8888888888888888,
              "#fdca26"
             ],
             [
              1,
              "#f0f921"
             ]
            ],
            "type": "histogram2dcontour"
           }
          ],
          "mesh3d": [
           {
            "colorbar": {
             "outlinewidth": 0,
             "ticks": ""
            },
            "type": "mesh3d"
           }
          ],
          "parcoords": [
           {
            "line": {
             "colorbar": {
              "outlinewidth": 0,
              "ticks": ""
             }
            },
            "type": "parcoords"
           }
          ],
          "pie": [
           {
            "automargin": true,
            "type": "pie"
           }
          ],
          "scatter": [
           {
            "fillpattern": {
             "fillmode": "overlay",
             "size": 10,
             "solidity": 0.2
            },
            "type": "scatter"
           }
          ],
          "scatter3d": [
           {
            "line": {
             "colorbar": {
              "outlinewidth": 0,
              "ticks": ""
             }
            },
            "marker": {
             "colorbar": {
              "outlinewidth": 0,
              "ticks": ""
             }
            },
            "type": "scatter3d"
           }
          ],
          "scattercarpet": [
           {
            "marker": {
             "colorbar": {
              "outlinewidth": 0,
              "ticks": ""
             }
            },
            "type": "scattercarpet"
           }
          ],
          "scattergeo": [
           {
            "marker": {
             "colorbar": {
              "outlinewidth": 0,
              "ticks": ""
             }
            },
            "type": "scattergeo"
           }
          ],
          "scattergl": [
           {
            "marker": {
             "colorbar": {
              "outlinewidth": 0,
              "ticks": ""
             }
            },
            "type": "scattergl"
           }
          ],
          "scattermapbox": [
           {
            "marker": {
             "colorbar": {
              "outlinewidth": 0,
              "ticks": ""
             }
            },
            "type": "scattermapbox"
           }
          ],
          "scatterpolar": [
           {
            "marker": {
             "colorbar": {
              "outlinewidth": 0,
              "ticks": ""
             }
            },
            "type": "scatterpolar"
           }
          ],
          "scatterpolargl": [
           {
            "marker": {
             "colorbar": {
              "outlinewidth": 0,
              "ticks": ""
             }
            },
            "type": "scatterpolargl"
           }
          ],
          "scatterternary": [
           {
            "marker": {
             "colorbar": {
              "outlinewidth": 0,
              "ticks": ""
             }
            },
            "type": "scatterternary"
           }
          ],
          "surface": [
           {
            "colorbar": {
             "outlinewidth": 0,
             "ticks": ""
            },
            "colorscale": [
             [
              0,
              "#0d0887"
             ],
             [
              0.1111111111111111,
              "#46039f"
             ],
             [
              0.2222222222222222,
              "#7201a8"
             ],
             [
              0.3333333333333333,
              "#9c179e"
             ],
             [
              0.4444444444444444,
              "#bd3786"
             ],
             [
              0.5555555555555556,
              "#d8576b"
             ],
             [
              0.6666666666666666,
              "#ed7953"
             ],
             [
              0.7777777777777778,
              "#fb9f3a"
             ],
             [
              0.8888888888888888,
              "#fdca26"
             ],
             [
              1,
              "#f0f921"
             ]
            ],
            "type": "surface"
           }
          ],
          "table": [
           {
            "cells": {
             "fill": {
              "color": "#EBF0F8"
             },
             "line": {
              "color": "white"
             }
            },
            "header": {
             "fill": {
              "color": "#C8D4E3"
             },
             "line": {
              "color": "white"
             }
            },
            "type": "table"
           }
          ]
         },
         "layout": {
          "annotationdefaults": {
           "arrowcolor": "#2a3f5f",
           "arrowhead": 0,
           "arrowwidth": 1
          },
          "autotypenumbers": "strict",
          "coloraxis": {
           "colorbar": {
            "outlinewidth": 0,
            "ticks": ""
           }
          },
          "colorscale": {
           "diverging": [
            [
             0,
             "#8e0152"
            ],
            [
             0.1,
             "#c51b7d"
            ],
            [
             0.2,
             "#de77ae"
            ],
            [
             0.3,
             "#f1b6da"
            ],
            [
             0.4,
             "#fde0ef"
            ],
            [
             0.5,
             "#f7f7f7"
            ],
            [
             0.6,
             "#e6f5d0"
            ],
            [
             0.7,
             "#b8e186"
            ],
            [
             0.8,
             "#7fbc41"
            ],
            [
             0.9,
             "#4d9221"
            ],
            [
             1,
             "#276419"
            ]
           ],
           "sequential": [
            [
             0,
             "#0d0887"
            ],
            [
             0.1111111111111111,
             "#46039f"
            ],
            [
             0.2222222222222222,
             "#7201a8"
            ],
            [
             0.3333333333333333,
             "#9c179e"
            ],
            [
             0.4444444444444444,
             "#bd3786"
            ],
            [
             0.5555555555555556,
             "#d8576b"
            ],
            [
             0.6666666666666666,
             "#ed7953"
            ],
            [
             0.7777777777777778,
             "#fb9f3a"
            ],
            [
             0.8888888888888888,
             "#fdca26"
            ],
            [
             1,
             "#f0f921"
            ]
           ],
           "sequentialminus": [
            [
             0,
             "#0d0887"
            ],
            [
             0.1111111111111111,
             "#46039f"
            ],
            [
             0.2222222222222222,
             "#7201a8"
            ],
            [
             0.3333333333333333,
             "#9c179e"
            ],
            [
             0.4444444444444444,
             "#bd3786"
            ],
            [
             0.5555555555555556,
             "#d8576b"
            ],
            [
             0.6666666666666666,
             "#ed7953"
            ],
            [
             0.7777777777777778,
             "#fb9f3a"
            ],
            [
             0.8888888888888888,
             "#fdca26"
            ],
            [
             1,
             "#f0f921"
            ]
           ]
          },
          "colorway": [
           "#636efa",
           "#EF553B",
           "#00cc96",
           "#ab63fa",
           "#FFA15A",
           "#19d3f3",
           "#FF6692",
           "#B6E880",
           "#FF97FF",
           "#FECB52"
          ],
          "font": {
           "color": "#2a3f5f"
          },
          "geo": {
           "bgcolor": "white",
           "lakecolor": "white",
           "landcolor": "#E5ECF6",
           "showlakes": true,
           "showland": true,
           "subunitcolor": "white"
          },
          "hoverlabel": {
           "align": "left"
          },
          "hovermode": "closest",
          "mapbox": {
           "style": "light"
          },
          "paper_bgcolor": "white",
          "plot_bgcolor": "#E5ECF6",
          "polar": {
           "angularaxis": {
            "gridcolor": "white",
            "linecolor": "white",
            "ticks": ""
           },
           "bgcolor": "#E5ECF6",
           "radialaxis": {
            "gridcolor": "white",
            "linecolor": "white",
            "ticks": ""
           }
          },
          "scene": {
           "xaxis": {
            "backgroundcolor": "#E5ECF6",
            "gridcolor": "white",
            "gridwidth": 2,
            "linecolor": "white",
            "showbackground": true,
            "ticks": "",
            "zerolinecolor": "white"
           },
           "yaxis": {
            "backgroundcolor": "#E5ECF6",
            "gridcolor": "white",
            "gridwidth": 2,
            "linecolor": "white",
            "showbackground": true,
            "ticks": "",
            "zerolinecolor": "white"
           },
           "zaxis": {
            "backgroundcolor": "#E5ECF6",
            "gridcolor": "white",
            "gridwidth": 2,
            "linecolor": "white",
            "showbackground": true,
            "ticks": "",
            "zerolinecolor": "white"
           }
          },
          "shapedefaults": {
           "line": {
            "color": "#2a3f5f"
           }
          },
          "ternary": {
           "aaxis": {
            "gridcolor": "white",
            "linecolor": "white",
            "ticks": ""
           },
           "baxis": {
            "gridcolor": "white",
            "linecolor": "white",
            "ticks": ""
           },
           "bgcolor": "#E5ECF6",
           "caxis": {
            "gridcolor": "white",
            "linecolor": "white",
            "ticks": ""
           }
          },
          "title": {
           "x": 0.05
          },
          "xaxis": {
           "automargin": true,
           "gridcolor": "white",
           "linecolor": "white",
           "ticks": "",
           "title": {
            "standoff": 15
           },
           "zerolinecolor": "white",
           "zerolinewidth": 2
          },
          "yaxis": {
           "automargin": true,
           "gridcolor": "white",
           "linecolor": "white",
           "ticks": "",
           "title": {
            "standoff": 15
           },
           "zerolinecolor": "white",
           "zerolinewidth": 2
          }
         }
        },
        "title": {
         "text": "Edit Type Distribution"
        },
        "width": 500
       }
      }
     },
     "metadata": {},
     "output_type": "display_data"
    }
   ],
   "source": [
    "sankey_seperated(data)"
   ]
  },
  {
   "cell_type": "code",
   "execution_count": 13,
   "metadata": {},
   "outputs": [
    {
     "data": {
      "application/vnd.plotly.v1+json": {
       "config": {
        "plotlyServerURL": "https://plot.ly"
       },
       "data": [
        {
         "link": {
          "source": [
           0,
           0,
           0,
           0,
           1,
           1,
           1,
           1,
           2,
           2,
           2,
           2,
           3,
           3,
           3,
           3,
           4,
           4,
           4,
           4,
           5,
           5,
           5,
           5,
           6,
           6,
           6,
           7,
           7,
           7,
           8,
           8,
           8,
           9,
           9,
           9,
           10,
           10,
           10,
           10,
           10,
           10,
           10,
           10,
           11,
           11,
           11,
           11,
           11,
           11,
           11,
           11,
           12,
           12,
           12,
           12,
           12,
           12,
           12,
           12,
           10,
           10,
           10,
           10,
           11,
           11,
           11
          ],
          "target": [
           6,
           7,
           8,
           9,
           6,
           7,
           8,
           9,
           6,
           7,
           8,
           9,
           6,
           7,
           8,
           9,
           6,
           7,
           8,
           9,
           6,
           7,
           8,
           9,
           10,
           11,
           12,
           10,
           11,
           12,
           10,
           11,
           12,
           10,
           11,
           12,
           13,
           14,
           15,
           16,
           17,
           18,
           19,
           20,
           13,
           14,
           15,
           16,
           17,
           18,
           19,
           20,
           13,
           14,
           15,
           16,
           17,
           18,
           19,
           20,
           21,
           22,
           23,
           24,
           25,
           26,
           27
          ],
          "value": [
           78,
           0,
           0,
           0,
           0,
           0,
           25,
           0,
           6,
           68,
           2,
           6,
           0,
           19,
           0,
           0,
           0,
           30,
           0,
           0,
           0,
           0,
           0,
           0,
           84,
           0,
           0,
           93,
           5,
           19,
           3,
           7,
           17,
           0,
           0,
           6,
           0,
           0,
           0,
           0,
           0,
           0,
           0,
           0,
           0,
           0,
           0,
           0,
           0,
           0,
           0,
           0,
           0,
           6,
           9,
           0,
           0,
           0,
           8,
           19,
           27,
           54,
           69,
           30,
           5,
           2,
           0
          ]
         },
         "node": {
          "color": [
           "#ee2a2a",
           "#64C466",
           "#2186eb",
           "#3ca3a7",
           "#FF9F15",
           "#F7CE46",
           "#ee2a2a",
           "#2186eb",
           "#64C466",
           "#b103fc",
           "black",
           "black",
           "black",
           "black",
           "black",
           "black",
           "black",
           "black",
           "black",
           "black",
           "black",
           "black",
           "black",
           "black",
           "black",
           "black",
           "black",
           "black"
          ],
          "label": [
           "deletion",
           "insertion",
           "substitution",
           "reorder",
           "structure",
           "split",
           "less information",
           "same information",
           "more information",
           "different information",
           "no error",
           "trivial",
           "error",
           "Coreference",
           "Information Rewrite",
           "Repetition",
           "Contradiction",
           "Hallucination",
           "Irrelevant",
           "Unnecessary Insertion",
           "Complex Wording",
           "very bad",
           "bad",
           "good",
           "perfect",
           "trivial_0",
           "trivial_1",
           "trivial_2"
          ],
          "line": {
           "color": "black",
           "width": 0.5
          },
          "pad": 15,
          "thickness": 10
         },
         "type": "sankey",
         "valueformat": "d",
         "valuesuffix": " edits"
        }
       ],
       "layout": {
        "font": {
         "size": 11
        },
        "height": 500,
        "template": {
         "data": {
          "bar": [
           {
            "error_x": {
             "color": "#2a3f5f"
            },
            "error_y": {
             "color": "#2a3f5f"
            },
            "marker": {
             "line": {
              "color": "#E5ECF6",
              "width": 0.5
             },
             "pattern": {
              "fillmode": "overlay",
              "size": 10,
              "solidity": 0.2
             }
            },
            "type": "bar"
           }
          ],
          "barpolar": [
           {
            "marker": {
             "line": {
              "color": "#E5ECF6",
              "width": 0.5
             },
             "pattern": {
              "fillmode": "overlay",
              "size": 10,
              "solidity": 0.2
             }
            },
            "type": "barpolar"
           }
          ],
          "carpet": [
           {
            "aaxis": {
             "endlinecolor": "#2a3f5f",
             "gridcolor": "white",
             "linecolor": "white",
             "minorgridcolor": "white",
             "startlinecolor": "#2a3f5f"
            },
            "baxis": {
             "endlinecolor": "#2a3f5f",
             "gridcolor": "white",
             "linecolor": "white",
             "minorgridcolor": "white",
             "startlinecolor": "#2a3f5f"
            },
            "type": "carpet"
           }
          ],
          "choropleth": [
           {
            "colorbar": {
             "outlinewidth": 0,
             "ticks": ""
            },
            "type": "choropleth"
           }
          ],
          "contour": [
           {
            "colorbar": {
             "outlinewidth": 0,
             "ticks": ""
            },
            "colorscale": [
             [
              0,
              "#0d0887"
             ],
             [
              0.1111111111111111,
              "#46039f"
             ],
             [
              0.2222222222222222,
              "#7201a8"
             ],
             [
              0.3333333333333333,
              "#9c179e"
             ],
             [
              0.4444444444444444,
              "#bd3786"
             ],
             [
              0.5555555555555556,
              "#d8576b"
             ],
             [
              0.6666666666666666,
              "#ed7953"
             ],
             [
              0.7777777777777778,
              "#fb9f3a"
             ],
             [
              0.8888888888888888,
              "#fdca26"
             ],
             [
              1,
              "#f0f921"
             ]
            ],
            "type": "contour"
           }
          ],
          "contourcarpet": [
           {
            "colorbar": {
             "outlinewidth": 0,
             "ticks": ""
            },
            "type": "contourcarpet"
           }
          ],
          "heatmap": [
           {
            "colorbar": {
             "outlinewidth": 0,
             "ticks": ""
            },
            "colorscale": [
             [
              0,
              "#0d0887"
             ],
             [
              0.1111111111111111,
              "#46039f"
             ],
             [
              0.2222222222222222,
              "#7201a8"
             ],
             [
              0.3333333333333333,
              "#9c179e"
             ],
             [
              0.4444444444444444,
              "#bd3786"
             ],
             [
              0.5555555555555556,
              "#d8576b"
             ],
             [
              0.6666666666666666,
              "#ed7953"
             ],
             [
              0.7777777777777778,
              "#fb9f3a"
             ],
             [
              0.8888888888888888,
              "#fdca26"
             ],
             [
              1,
              "#f0f921"
             ]
            ],
            "type": "heatmap"
           }
          ],
          "heatmapgl": [
           {
            "colorbar": {
             "outlinewidth": 0,
             "ticks": ""
            },
            "colorscale": [
             [
              0,
              "#0d0887"
             ],
             [
              0.1111111111111111,
              "#46039f"
             ],
             [
              0.2222222222222222,
              "#7201a8"
             ],
             [
              0.3333333333333333,
              "#9c179e"
             ],
             [
              0.4444444444444444,
              "#bd3786"
             ],
             [
              0.5555555555555556,
              "#d8576b"
             ],
             [
              0.6666666666666666,
              "#ed7953"
             ],
             [
              0.7777777777777778,
              "#fb9f3a"
             ],
             [
              0.8888888888888888,
              "#fdca26"
             ],
             [
              1,
              "#f0f921"
             ]
            ],
            "type": "heatmapgl"
           }
          ],
          "histogram": [
           {
            "marker": {
             "pattern": {
              "fillmode": "overlay",
              "size": 10,
              "solidity": 0.2
             }
            },
            "type": "histogram"
           }
          ],
          "histogram2d": [
           {
            "colorbar": {
             "outlinewidth": 0,
             "ticks": ""
            },
            "colorscale": [
             [
              0,
              "#0d0887"
             ],
             [
              0.1111111111111111,
              "#46039f"
             ],
             [
              0.2222222222222222,
              "#7201a8"
             ],
             [
              0.3333333333333333,
              "#9c179e"
             ],
             [
              0.4444444444444444,
              "#bd3786"
             ],
             [
              0.5555555555555556,
              "#d8576b"
             ],
             [
              0.6666666666666666,
              "#ed7953"
             ],
             [
              0.7777777777777778,
              "#fb9f3a"
             ],
             [
              0.8888888888888888,
              "#fdca26"
             ],
             [
              1,
              "#f0f921"
             ]
            ],
            "type": "histogram2d"
           }
          ],
          "histogram2dcontour": [
           {
            "colorbar": {
             "outlinewidth": 0,
             "ticks": ""
            },
            "colorscale": [
             [
              0,
              "#0d0887"
             ],
             [
              0.1111111111111111,
              "#46039f"
             ],
             [
              0.2222222222222222,
              "#7201a8"
             ],
             [
              0.3333333333333333,
              "#9c179e"
             ],
             [
              0.4444444444444444,
              "#bd3786"
             ],
             [
              0.5555555555555556,
              "#d8576b"
             ],
             [
              0.6666666666666666,
              "#ed7953"
             ],
             [
              0.7777777777777778,
              "#fb9f3a"
             ],
             [
              0.8888888888888888,
              "#fdca26"
             ],
             [
              1,
              "#f0f921"
             ]
            ],
            "type": "histogram2dcontour"
           }
          ],
          "mesh3d": [
           {
            "colorbar": {
             "outlinewidth": 0,
             "ticks": ""
            },
            "type": "mesh3d"
           }
          ],
          "parcoords": [
           {
            "line": {
             "colorbar": {
              "outlinewidth": 0,
              "ticks": ""
             }
            },
            "type": "parcoords"
           }
          ],
          "pie": [
           {
            "automargin": true,
            "type": "pie"
           }
          ],
          "scatter": [
           {
            "fillpattern": {
             "fillmode": "overlay",
             "size": 10,
             "solidity": 0.2
            },
            "type": "scatter"
           }
          ],
          "scatter3d": [
           {
            "line": {
             "colorbar": {
              "outlinewidth": 0,
              "ticks": ""
             }
            },
            "marker": {
             "colorbar": {
              "outlinewidth": 0,
              "ticks": ""
             }
            },
            "type": "scatter3d"
           }
          ],
          "scattercarpet": [
           {
            "marker": {
             "colorbar": {
              "outlinewidth": 0,
              "ticks": ""
             }
            },
            "type": "scattercarpet"
           }
          ],
          "scattergeo": [
           {
            "marker": {
             "colorbar": {
              "outlinewidth": 0,
              "ticks": ""
             }
            },
            "type": "scattergeo"
           }
          ],
          "scattergl": [
           {
            "marker": {
             "colorbar": {
              "outlinewidth": 0,
              "ticks": ""
             }
            },
            "type": "scattergl"
           }
          ],
          "scattermapbox": [
           {
            "marker": {
             "colorbar": {
              "outlinewidth": 0,
              "ticks": ""
             }
            },
            "type": "scattermapbox"
           }
          ],
          "scatterpolar": [
           {
            "marker": {
             "colorbar": {
              "outlinewidth": 0,
              "ticks": ""
             }
            },
            "type": "scatterpolar"
           }
          ],
          "scatterpolargl": [
           {
            "marker": {
             "colorbar": {
              "outlinewidth": 0,
              "ticks": ""
             }
            },
            "type": "scatterpolargl"
           }
          ],
          "scatterternary": [
           {
            "marker": {
             "colorbar": {
              "outlinewidth": 0,
              "ticks": ""
             }
            },
            "type": "scatterternary"
           }
          ],
          "surface": [
           {
            "colorbar": {
             "outlinewidth": 0,
             "ticks": ""
            },
            "colorscale": [
             [
              0,
              "#0d0887"
             ],
             [
              0.1111111111111111,
              "#46039f"
             ],
             [
              0.2222222222222222,
              "#7201a8"
             ],
             [
              0.3333333333333333,
              "#9c179e"
             ],
             [
              0.4444444444444444,
              "#bd3786"
             ],
             [
              0.5555555555555556,
              "#d8576b"
             ],
             [
              0.6666666666666666,
              "#ed7953"
             ],
             [
              0.7777777777777778,
              "#fb9f3a"
             ],
             [
              0.8888888888888888,
              "#fdca26"
             ],
             [
              1,
              "#f0f921"
             ]
            ],
            "type": "surface"
           }
          ],
          "table": [
           {
            "cells": {
             "fill": {
              "color": "#EBF0F8"
             },
             "line": {
              "color": "white"
             }
            },
            "header": {
             "fill": {
              "color": "#C8D4E3"
             },
             "line": {
              "color": "white"
             }
            },
            "type": "table"
           }
          ]
         },
         "layout": {
          "annotationdefaults": {
           "arrowcolor": "#2a3f5f",
           "arrowhead": 0,
           "arrowwidth": 1
          },
          "autotypenumbers": "strict",
          "coloraxis": {
           "colorbar": {
            "outlinewidth": 0,
            "ticks": ""
           }
          },
          "colorscale": {
           "diverging": [
            [
             0,
             "#8e0152"
            ],
            [
             0.1,
             "#c51b7d"
            ],
            [
             0.2,
             "#de77ae"
            ],
            [
             0.3,
             "#f1b6da"
            ],
            [
             0.4,
             "#fde0ef"
            ],
            [
             0.5,
             "#f7f7f7"
            ],
            [
             0.6,
             "#e6f5d0"
            ],
            [
             0.7,
             "#b8e186"
            ],
            [
             0.8,
             "#7fbc41"
            ],
            [
             0.9,
             "#4d9221"
            ],
            [
             1,
             "#276419"
            ]
           ],
           "sequential": [
            [
             0,
             "#0d0887"
            ],
            [
             0.1111111111111111,
             "#46039f"
            ],
            [
             0.2222222222222222,
             "#7201a8"
            ],
            [
             0.3333333333333333,
             "#9c179e"
            ],
            [
             0.4444444444444444,
             "#bd3786"
            ],
            [
             0.5555555555555556,
             "#d8576b"
            ],
            [
             0.6666666666666666,
             "#ed7953"
            ],
            [
             0.7777777777777778,
             "#fb9f3a"
            ],
            [
             0.8888888888888888,
             "#fdca26"
            ],
            [
             1,
             "#f0f921"
            ]
           ],
           "sequentialminus": [
            [
             0,
             "#0d0887"
            ],
            [
             0.1111111111111111,
             "#46039f"
            ],
            [
             0.2222222222222222,
             "#7201a8"
            ],
            [
             0.3333333333333333,
             "#9c179e"
            ],
            [
             0.4444444444444444,
             "#bd3786"
            ],
            [
             0.5555555555555556,
             "#d8576b"
            ],
            [
             0.6666666666666666,
             "#ed7953"
            ],
            [
             0.7777777777777778,
             "#fb9f3a"
            ],
            [
             0.8888888888888888,
             "#fdca26"
            ],
            [
             1,
             "#f0f921"
            ]
           ]
          },
          "colorway": [
           "#636efa",
           "#EF553B",
           "#00cc96",
           "#ab63fa",
           "#FFA15A",
           "#19d3f3",
           "#FF6692",
           "#B6E880",
           "#FF97FF",
           "#FECB52"
          ],
          "font": {
           "color": "#2a3f5f"
          },
          "geo": {
           "bgcolor": "white",
           "lakecolor": "white",
           "landcolor": "#E5ECF6",
           "showlakes": true,
           "showland": true,
           "subunitcolor": "white"
          },
          "hoverlabel": {
           "align": "left"
          },
          "hovermode": "closest",
          "mapbox": {
           "style": "light"
          },
          "paper_bgcolor": "white",
          "plot_bgcolor": "#E5ECF6",
          "polar": {
           "angularaxis": {
            "gridcolor": "white",
            "linecolor": "white",
            "ticks": ""
           },
           "bgcolor": "#E5ECF6",
           "radialaxis": {
            "gridcolor": "white",
            "linecolor": "white",
            "ticks": ""
           }
          },
          "scene": {
           "xaxis": {
            "backgroundcolor": "#E5ECF6",
            "gridcolor": "white",
            "gridwidth": 2,
            "linecolor": "white",
            "showbackground": true,
            "ticks": "",
            "zerolinecolor": "white"
           },
           "yaxis": {
            "backgroundcolor": "#E5ECF6",
            "gridcolor": "white",
            "gridwidth": 2,
            "linecolor": "white",
            "showbackground": true,
            "ticks": "",
            "zerolinecolor": "white"
           },
           "zaxis": {
            "backgroundcolor": "#E5ECF6",
            "gridcolor": "white",
            "gridwidth": 2,
            "linecolor": "white",
            "showbackground": true,
            "ticks": "",
            "zerolinecolor": "white"
           }
          },
          "shapedefaults": {
           "line": {
            "color": "#2a3f5f"
           }
          },
          "ternary": {
           "aaxis": {
            "gridcolor": "white",
            "linecolor": "white",
            "ticks": ""
           },
           "baxis": {
            "gridcolor": "white",
            "linecolor": "white",
            "ticks": ""
           },
           "bgcolor": "#E5ECF6",
           "caxis": {
            "gridcolor": "white",
            "linecolor": "white",
            "ticks": ""
           }
          },
          "title": {
           "x": 0.05
          },
          "xaxis": {
           "automargin": true,
           "gridcolor": "white",
           "linecolor": "white",
           "ticks": "",
           "title": {
            "standoff": 15
           },
           "zerolinecolor": "white",
           "zerolinewidth": 2
          },
          "yaxis": {
           "automargin": true,
           "gridcolor": "white",
           "linecolor": "white",
           "ticks": "",
           "title": {
            "standoff": 15
           },
           "zerolinecolor": "white",
           "zerolinewidth": 2
          }
         }
        },
        "title": {
         "text": "Edit Type Distribution"
        },
        "width": 700
       }
      }
     },
     "metadata": {},
     "output_type": "display_data"
    }
   ],
   "source": [
    "sankey_combined(data)"
   ]
  },
  {
   "cell_type": "code",
   "execution_count": 14,
   "metadata": {},
   "outputs": [
    {
     "name": "stdout",
     "output_type": "stream",
     "text": [
      "\n",
      "Repetition\n",
      "HIT 5 \t rachel \t ASSET 2\n",
      "HIT 7 \t rachel \t T5\n",
      "HIT 14 \t rachel \t Turk Corpus\n",
      "HIT 15 \t rachel \t T5\n",
      "HIT 5 \t vinayak \t ASSET 2\n",
      "HIT 15 \t vinayak \t T5\n",
      "HIT 15 \t vinayak \t T5\n",
      "HIT 5 \t vishnesh \t ASSET 2\n",
      "HIT 15 \t vishnesh \t T5\n",
      "\n",
      "Contradiction\n",
      "\n",
      "Hallucination\n",
      "\n",
      "Irrelevant\n"
     ]
    }
   ],
   "source": [
    "# Prints the sentences where annotators identified insertion errors\n",
    "for error in [Error.REPETITION, Error.CONTRADICTION, Error.HALLUCINATION, Error.IRRELEVANT]:\n",
    "    print(f'\\n{error.value}')\n",
    "    for sent in data:\n",
    "        for ann in sent['processed_annotations']:\n",
    "            if ann['error_type'] == error:\n",
    "                print(f'HIT {sent[\"id\"]+1} \\t {sent[\"user\"]} \\t {system_name_mapping[sent[\"system\"]]}')"
   ]
  },
  {
   "cell_type": "code",
   "execution_count": 15,
   "metadata": {},
   "outputs": [
    {
     "name": "stdout",
     "output_type": "stream",
     "text": [
      "Turk Corpus \t 6.18\n",
      "Controllable \t 3.29\n",
      "T5 \t 3.5\n",
      "ASSET 2 \t 8.98\n",
      "ASSET 1 \t 9.13\n"
     ]
    }
   ],
   "source": [
    "# Print the avg. sentence scores for each system\n",
    "for s in systems:\n",
    "    print(f'{system_name_mapping[s]} \\t {avg([sent[\"score\"] for sent in data if sent[\"system\"] == s])}')"
   ]
  },
  {
   "cell_type": "code",
   "execution_count": 16,
   "metadata": {},
   "outputs": [
    {
     "data": {
      "image/png": "[encoded data removed]",
      "text/plain": [
       "<Figure size 432x288 with 1 Axes>"
      ]
     },
     "metadata": {
      "needs_background": "light"
     },
     "output_type": "display_data"
    }
   ],
   "source": [
    "annotations = [x for y in [sent['processed_annotations'] for sent in data] for x in y]\n",
    "avg_span_size(annotations)"
   ]
  },
  {
   "cell_type": "code",
   "execution_count": 17,
   "metadata": {},
   "outputs": [
    {
     "data": {
      "image/png": "[encoded data removed]",
      "text/plain": [
       "<Figure size 540x288 with 2 Axes>"
      ]
     },
     "metadata": {
      "needs_background": "light"
     },
     "output_type": "display_data"
    }
   ],
   "source": [
    "# Show the distribution of edit and sentence scores\n",
    "score_distribution(data)"
   ]
  },
  {
   "cell_type": "code",
   "execution_count": 18,
   "metadata": {},
   "outputs": [
    {
     "name": "stdout",
     "output_type": "stream",
     "text": [
      "Highest Scoring:\n",
      "vinayak - Batch 4, HIT 5 (ID 4) - 25.435951739096037\n",
      "vinayak - Batch 4, HIT 3 (ID 2) - 19.31274311473519\n",
      "vinayak - Batch 4, HIT 13 (ID 12) - 19.16489917848816\n",
      "vinayak - Batch 4, HIT 6 (ID 5) - 17.222046422441117\n",
      "vinayak - Batch 4, HIT 10 (ID 9) - 16.173973191140128\n",
      "\n",
      "Lowest scoring:\n",
      "vishnesh - Batch 4, HIT 2 (ID 1) - -3.5618049513543686\n",
      "rachel - Batch 4, HIT 14 (ID 13) - -2.176228738132899\n",
      "rachel - Batch 4, HIT 17 (ID 16) - -1.8555771393346832\n",
      "rachel - Batch 4, HIT 18 (ID 17) - -1.7067372527931886\n",
      "rachel - Batch 4, HIT 6 (ID 5) - -0.31394460804584856\n"
     ]
    }
   ],
   "source": [
    "# Get the best and worst performing sentences\n",
    "best, worst = best_performing(data)"
   ]
  },
  {
   "cell_type": "code",
   "execution_count": 19,
   "metadata": {},
   "outputs": [
    {
     "data": {
      "text/plain": [
       "[]"
      ]
     },
     "execution_count": 19,
     "metadata": {},
     "output_type": "execute_result"
    }
   ],
   "source": [
    "# Get setences with a score of 0\n",
    "zero_scoring_sents(data)"
   ]
  },
  {
   "cell_type": "code",
   "execution_count": 20,
   "metadata": {},
   "outputs": [
    {
     "data": {
      "image/png": "[encoded data removed]",
      "text/plain": [
       "<Figure size 540x288 with 1 Axes>"
      ]
     },
     "metadata": {
      "needs_background": "light"
     },
     "output_type": "display_data"
    }
   ],
   "source": [
    "simp_eval_systems = [\n",
    "    'systems/con_simplification.txt',\n",
    "    'systems/asset.test.simp',\n",
    "    'systems/T5.txt'\n",
    "]\n",
    "for system in simp_eval_systems:\n",
    "    scores = [(int(sum(sent['simpeval_scores'])/5), sum([x['size'] for x in sent['processed_annotations']])) for sent in data if sent['system'] == system]\n",
    "    pts = [p for p in scores if p[0] != 0]\n",
    "    plt.scatter([p[0] for p in pts], [p[1] for p in pts], c =color_mapping[system], alpha=0.5, label=system_name_mapping[system])\n",
    "plt.xlabel('Average SimpEval score')\n",
    "plt.ylabel('% of sentence modified')\n",
    "plt.title(f'More Modifications = Better? ({len(pts)} sentences)')\n",
    "plt.legend()\n",
    "plt.show()"
   ]
  }
 ],
 "metadata": {
  "kernelspec": {
   "display_name": "Python 3.9.0 64-bit",
   "language": "python",
   "name": "python3"
  },
  "language_info": {
   "codemirror_mode": {
    "name": "ipython",
    "version": 3
   },
   "file_extension": ".py",
   "mimetype": "text/x-python",
   "name": "python",
   "nbconvert_exporter": "python",
   "pygments_lexer": "ipython3",
   "version": "3.9.0"
  },
  "orig_nbformat": 4,
  "vscode": {
   "interpreter": {
    "hash": "81794d4967e6c3204c66dcd87b604927b115b27c00565d3d43f05ba2f3a2cb0d"
   }
  }
 },
 "nbformat": 4,
 "nbformat_minor": 2
}
