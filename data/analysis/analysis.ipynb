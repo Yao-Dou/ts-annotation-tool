{
 "cells": [
  {
   "cell_type": "code",
   "execution_count": 2,
   "metadata": {},
   "outputs": [],
   "source": [
    "import json\n",
    "from dataloader import *\n",
    "\n",
    "# Load David's first 30 sentences\n",
    "with open('../preliminary/david-first-thirty-sent.json') as f:\n",
    "    data = json.load(f)[:30]"
   ]
  },
  {
   "cell_type": "code",
   "execution_count": 3,
   "metadata": {},
   "outputs": [],
   "source": [
    "# The systems we looked at\n",
    "systems = set([x['system'] for x in data])\n",
    "\n",
    "# Edit types\n",
    "edit_types = set(data[0]['annotations'].keys())"
   ]
  },
  {
   "cell_type": "code",
   "execution_count": 4,
   "metadata": {},
   "outputs": [],
   "source": [
    "data = consolidate_edits(data)          # Adds 'edits' field\n",
    "data = consolidate_annotations(data)    # Adds 'processed_annotations' field"
   ]
  },
  {
   "cell_type": "code",
   "execution_count": 5,
   "metadata": {},
   "outputs": [
    {
     "name": "stdout",
     "output_type": "stream",
     "text": [
      "{'edit_type': 'deletion', 'id': 1, 'information_impact': <Information.LESS: 1>, 'type': <Quality.ERROR: 3>, 'grammar_error': False, 'error_type': <Error.COREFERENCE: 1>, 'rating': 0}\n",
      "{'edit_type': 'deletion', 'id': 0, 'information_impact': <Information.LESS: 1>, 'type': <Quality.ERROR: 3>, 'grammar_error': False, 'error_type': <Error.COREFERENCE: 1>, 'rating': 3}\n",
      "{'edit_type': 'deletion', 'id': 2, 'information_impact': <Information.LESS: 1>, 'type': <Quality.ERROR: 3>, 'grammar_error': False, 'error_type': <Error.COREFERENCE: 1>, 'rating': 3}\n",
      "{'edit_type': 'deletion', 'id': 4, 'information_impact': <Information.LESS: 1>, 'type': <Quality.ERROR: 3>, 'grammar_error': False, 'error_type': <Error.COREFERENCE: 1>, 'rating': 2}\n",
      "{'edit_type': 'deletion', 'id': 1, 'information_impact': <Information.LESS: 1>, 'type': <Quality.ERROR: 3>, 'grammar_error': False, 'error_type': <Error.COREFERENCE: 1>, 'rating': 2}\n",
      "{'edit_type': 'deletion', 'id': 0, 'information_impact': <Information.LESS: 1>, 'type': <Quality.ERROR: 3>, 'grammar_error': True, 'error_type': <Error.COREFERENCE: 1>, 'rating': 0}\n",
      "{'edit_type': 'deletion', 'id': 0, 'information_impact': <Information.LESS: 1>, 'type': <Quality.ERROR: 3>, 'grammar_error': False, 'error_type': <Error.COREFERENCE: 1>, 'rating': 3}\n"
     ]
    }
   ],
   "source": [
    "# Example: Searches for coreference errors\n",
    "deletions = [process_annotation(k) for k in [i for j in [[x for x in sent['edits'] if x['type'] == 'deletion'] for sent in data] for i in j]]\n",
    "for d in deletions:\n",
    "    if d['error_type'] == Error.COREFERENCE:\n",
    "        print(d)"
   ]
  },
  {
   "cell_type": "code",
   "execution_count": 6,
   "metadata": {},
   "outputs": [
    {
     "data": {
      "text/plain": [
       "[{'edit_type': 'deletion',\n",
       "  'id': 0,\n",
       "  'information_impact': <Information.LESS: 1>,\n",
       "  'type': <Quality.QUALITY: 1>,\n",
       "  'grammar_error': False,\n",
       "  'error_type': None,\n",
       "  'rating': 3},\n",
       " {'edit_type': 'deletion',\n",
       "  'id': 1,\n",
       "  'information_impact': <Information.LESS: 1>,\n",
       "  'type': <Quality.QUALITY: 1>,\n",
       "  'grammar_error': False,\n",
       "  'error_type': None,\n",
       "  'rating': 3},\n",
       " {'edit_type': 'substitution',\n",
       "  'id': 0,\n",
       "  'information_impact': <Information.DIFFERENT: 4>,\n",
       "  'type': <Quality.ERROR: 3>,\n",
       "  'grammar_error': False,\n",
       "  'error_type': <Error.INFORMATION_REWRITE: 2>,\n",
       "  'rating': 0}]"
      ]
     },
     "execution_count": 6,
     "metadata": {},
     "output_type": "execute_result"
    }
   ],
   "source": [
    "# Example: Annotations for sentence 0\n",
    "data[0]['processed_annotations']"
   ]
  },
  {
   "cell_type": "code",
   "execution_count": 7,
   "metadata": {},
   "outputs": [
    {
     "data": {
      "text/plain": [
       "[{'type': 'deletion',\n",
       "  'id': 0,\n",
       "  'original_span': (61, 69),\n",
       "  'simplified_span': None,\n",
       "  'annotation': ['perfect', 'no', 'no']},\n",
       " {'type': 'deletion',\n",
       "  'id': 1,\n",
       "  'original_span': (111, 133),\n",
       "  'simplified_span': None,\n",
       "  'annotation': ['perfect', 'no', 'no']},\n",
       " {'type': 'substitution',\n",
       "  'id': 0,\n",
       "  'original_span': (157, 161),\n",
       "  'simplified_span': (124, 127),\n",
       "  'annotation': ['different', 'minor', 'no']}]"
      ]
     },
     "execution_count": 7,
     "metadata": {},
     "output_type": "execute_result"
    }
   ],
   "source": [
    "# Example: Edits for sentence 0\n",
    "data[0]['edits']"
   ]
  },
  {
   "cell_type": "code",
   "execution_count": 8,
   "metadata": {},
   "outputs": [
    {
     "name": "stdout",
     "output_type": "stream",
     "text": [
      "new_systems/turk_corpus_random.txt\n",
      "{'deletion': 1, 'substitution': 3, 'insertion': 2, 'split': 0, 'reorder': 0, 'structure': 2}\n",
      "new_systems/asset.test.simp.second\n",
      "{'deletion': 4, 'substitution': 12, 'insertion': 0, 'split': 0, 'reorder': 1, 'structure': 1}\n",
      "systems/lstm_w_split.txt\n",
      "{'deletion': 5, 'substitution': 5, 'insertion': 1, 'split': 0, 'reorder': 0, 'structure': 0}\n",
      "systems/Hybrid.lower\n",
      "{'deletion': 11, 'substitution': 2, 'insertion': 1, 'split': 0, 'reorder': 4, 'structure': 2}\n",
      "new_systems/simple_wiki.txt\n",
      "{'deletion': 1, 'substitution': 5, 'insertion': 2, 'split': 0, 'reorder': 2, 'structure': 1}\n",
      "systems/Dress-Ls.lower\n",
      "{'deletion': 5, 'substitution': 5, 'insertion': 1, 'split': 0, 'reorder': 0, 'structure': 1}\n",
      "systems/transformer_w_split.txt\n",
      "{'deletion': 5, 'substitution': 4, 'insertion': 3, 'split': 0, 'reorder': 1, 'structure': 0}\n",
      "systems/T5.txt\n",
      "{'deletion': 1, 'substitution': 5, 'insertion': 4, 'split': 0, 'reorder': 0, 'structure': 1}\n"
     ]
    }
   ],
   "source": [
    "# Example: Sum the annotated edits for each system\n",
    "for system in systems:\n",
    "    print(system)\n",
    "    print(sum_edits_for_system(data, system))"
   ]
  }
 ],
 "metadata": {
  "kernelspec": {
   "display_name": "Python 3.9.0 64-bit",
   "language": "python",
   "name": "python3"
  },
  "language_info": {
   "codemirror_mode": {
    "name": "ipython",
    "version": 3
   },
   "file_extension": ".py",
   "mimetype": "text/x-python",
   "name": "python",
   "nbconvert_exporter": "python",
   "pygments_lexer": "ipython3",
   "version": "3.9.0"
  },
  "orig_nbformat": 4,
  "vscode": {
   "interpreter": {
    "hash": "81794d4967e6c3204c66dcd87b604927b115b27c00565d3d43f05ba2f3a2cb0d"
   }
  }
 },
 "nbformat": 4,
 "nbformat_minor": 2
}
