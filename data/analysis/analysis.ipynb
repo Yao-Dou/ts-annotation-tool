{
 "cells": [
  {
   "cell_type": "code",
   "execution_count": 24,
   "metadata": {},
   "outputs": [
    {
     "name": "stdout",
     "output_type": "stream",
     "text": [
      "Loading files: ['../annotated/batch_5_anton.json', '../annotated/batch_5_ayush.json']\n",
      "\n",
      "Found users: {'ayush', 'anton'}\n",
      "\n",
      "anton - Batch 5, HIT 38 (ID 37) has 2 deletion edits but 1 annotations. Likely a missing annotation. Skipping edit type...\n",
      "Couldn't process grammar for deletion: ['perfect', 'no', '']. Assuming 'no'...\n",
      "Couldn't process grammar for deletion: ['good', 'no', '']. Assuming 'no'...\n",
      "Couldn't process grammar for deletion: ['good', 'no', '']. Assuming 'no'...\n",
      "Couldn't process grammar for deletion: ['good', 'no', '']. Assuming 'no'...\n",
      "Couldn't process grammar for deletion: ['good', 'no', '']. Assuming 'no'...\n",
      "Couldn't process grammar for deletion: ['good', 'no', '']. Assuming 'no'...\n",
      "Couldn't process grammar for deletion: ['perfect', 'no', '']. Assuming 'no'...\n",
      "Couldn't process grammar for deletion: ['good', 'no', '']. Assuming 'no'...\n",
      "Couldn't process grammar for deletion: ['good', 'no', '']. Assuming 'no'...\n",
      "Couldn't process grammar for deletion: ['perfect', 'no', '']. Assuming 'no'...\n",
      "Couldn't process grammar for deletion: ['perfect', 'no', '']. Assuming 'no'...\n",
      "Couldn't process grammar for deletion: ['perfect', 'no', '']. Assuming 'no'...\n",
      "Couldn't process grammar for deletion: ['perfect', 'no', '']. Assuming 'no'...\n",
      "Couldn't process grammar for deletion: ['good', 'no', '']. Assuming 'no'...\n",
      "Couldn't process grammar for deletion: ['good', 'no', '']. Assuming 'no'...\n",
      "Couldn't process grammar for deletion: ['perfect', 'no', '']. Assuming 'no'...\n",
      "Couldn't process grammar for deletion: ['good', 'no', '']. Assuming 'no'...\n",
      "Couldn't process grammar for deletion: ['perfect', 'no', '']. Assuming 'no'...\n",
      "Couldn't process grammar for deletion: ['perfect', 'no', '']. Assuming 'no'...\n",
      "Couldn't process grammar for deletion: ['good', 'no', '']. Assuming 'no'...\n",
      "Couldn't process grammar for deletion: ['perfect', 'no', '']. Assuming 'no'...\n"
     ]
    }
   ],
   "source": [
    "from types import *\n",
    "from dataloader import *\n",
    "from util import *\n",
    "from graphs import *\n",
    "from agreement import *\n",
    "from scoring import *\n",
    "\n",
    "# There's also 'tutorial' and 'preliminary' data\n",
    "data = load_data('../annotated', batch_num=5, preprocess=True)\n",
    "\n",
    "# NOTE: Unlike past data collection, the sentences have been randomized\n",
    "# among annotators, meaning analysis which averages across sentences or calculates\n",
    "# inter-annotator agreement may be wrong. Need to fix dataloading to re-sort sentences\n",
    "# with the same annotators together."
   ]
  },
  {
   "cell_type": "code",
   "execution_count": 25,
   "metadata": {},
   "outputs": [
    {
     "name": "stdout",
     "output_type": "stream",
     "text": [
      "ANTON - HIT 3: no change\n",
      "\n",
      "\n"
     ]
    }
   ],
   "source": [
    "# Print spans with comments\n",
    "get_comments(data)"
   ]
  },
  {
   "cell_type": "code",
   "execution_count": 26,
   "metadata": {},
   "outputs": [],
   "source": [
    "# The systems we looked at\n",
    "systems = set([x['system'] for x in data])\n",
    "\n",
    "# Edit types\n",
    "edit_types = set(data[0]['annotations'].keys())"
   ]
  },
  {
   "cell_type": "code",
   "execution_count": 27,
   "metadata": {},
   "outputs": [],
   "source": [
    "# Example: Searches for coreference errors\n",
    "deletions = [process_annotation(k) for k in [i for j in [[x for x in sent['edits'] if x['type'] == 'deletion'] for sent in data] for i in j]]\n",
    "for d in deletions:\n",
    "    if d['error_type'] == Error.COREFERENCE:\n",
    "        print(d)"
   ]
  },
  {
   "cell_type": "code",
   "execution_count": 28,
   "metadata": {},
   "outputs": [
    {
     "data": {
      "text/plain": [
       "[{'edit_type': 'deletion',\n",
       "  'id': 0,\n",
       "  'information_impact': <Information.LESS: 'Less Information'>,\n",
       "  'type': <Quality.QUALITY: 'No Error'>,\n",
       "  'grammar_error': False,\n",
       "  'error_type': None,\n",
       "  'rating': 3,\n",
       "  'size': 0.008310249307479225,\n",
       "  'score': 0.970747553725849},\n",
       " {'edit_type': 'deletion',\n",
       "  'id': 1,\n",
       "  'information_impact': <Information.LESS: 'Less Information'>,\n",
       "  'type': <Quality.QUALITY: 'No Error'>,\n",
       "  'grammar_error': False,\n",
       "  'error_type': None,\n",
       "  'rating': 2,\n",
       "  'size': 0.030470914127423823,\n",
       "  'score': 0.8085959365626684}]"
      ]
     },
     "execution_count": 28,
     "metadata": {},
     "output_type": "execute_result"
    }
   ],
   "source": [
    "# Example: Some of the annotations for sentence 0\n",
    "data[0]['processed_annotations'][:2]"
   ]
  },
  {
   "cell_type": "code",
   "execution_count": 29,
   "metadata": {},
   "outputs": [
    {
     "data": {
      "text/plain": [
       "[{'type': 'deletion',\n",
       "  'id': 0,\n",
       "  'original_span': [(92, 95)],\n",
       "  'simplified_span': None,\n",
       "  'annotation': ['perfect', 'no', 'no']},\n",
       " {'type': 'deletion',\n",
       "  'id': 1,\n",
       "  'original_span': [(113, 124)],\n",
       "  'simplified_span': None,\n",
       "  'annotation': ['good', 'no', 'no']}]"
      ]
     },
     "execution_count": 29,
     "metadata": {},
     "output_type": "execute_result"
    }
   ],
   "source": [
    "# Example: Some of the edits for sentence 0\n",
    "data[0]['edits'][:2]"
   ]
  },
  {
   "cell_type": "code",
   "execution_count": 30,
   "metadata": {},
   "outputs": [],
   "source": [
    "# Example: Agreement between annotators on edit types\n",
    "# for edit_type in ['deletion', 'insertion', 'reorder', 'substitution']:\n",
    "#     print(f'{edit_type} -> {calculate_agreement(data, edit_type, drop_no_spans=True)}')"
   ]
  },
  {
   "cell_type": "code",
   "execution_count": null,
   "metadata": {},
   "outputs": [],
   "source": [
    "# TODO: trivial edits on substitutions aren't being processed correctly\n",
    "# for sent in data:\n",
    "#     for ann in sent['processed_annotations']:\n",
    "#         if ann['type'] == Quality.TRIVIAL and ann['rating'] == None:\n",
    "#             print(sent['id'])\n",
    "#             print([e for e in sent['edits'] if e['type'] == 'substitution'])\n",
    "#             print(ann)\n",
    "#             print(sent['system'])\n",
    "#             print(sent['system'])\n",
    "#             print(sent['user'])"
   ]
  },
  {
   "cell_type": "code",
   "execution_count": null,
   "metadata": {},
   "outputs": [
    {
     "data": {
      "image/png": "[encoded data removed]",
      "text/plain": [
       "<Figure size 576x288 with 1 Axes>"
      ]
     },
     "metadata": {
      "needs_background": "light"
     },
     "output_type": "display_data"
    }
   ],
   "source": [
    "edit_type_by_system(data, flipped=True)"
   ]
  },
  {
   "cell_type": "code",
   "execution_count": null,
   "metadata": {},
   "outputs": [
    {
     "data": {
      "image/png": "[encoded data removed]",
      "text/plain": [
       "<Figure size 576x288 with 1 Axes>"
      ]
     },
     "metadata": {
      "needs_background": "light"
     },
     "output_type": "display_data"
    }
   ],
   "source": [
    "system_by_information_change(data)"
   ]
  },
  {
   "cell_type": "code",
   "execution_count": null,
   "metadata": {},
   "outputs": [
    {
     "data": {
      "image/png": "[encoded data removed]",
      "text/plain": [
       "<Figure size 432x288 with 1 Axes>"
      ]
     },
     "metadata": {
      "needs_background": "light"
     },
     "output_type": "display_data"
    }
   ],
   "source": [
    "errors_by_system(data)"
   ]
  },
  {
   "cell_type": "code",
   "execution_count": null,
   "metadata": {},
   "outputs": [
    {
     "data": {
      "application/vnd.plotly.v1+json": {
       "config": {
        "plotlyServerURL": "https://plot.ly"
       },
       "data": [
        {
         "link": {
          "source": [
           5,
           87,
           4,
           71,
           71,
           3,
           55,
           55,
           55,
           2,
           2,
           2,
           40,
           39,
           39,
           38,
           1,
           24,
           24,
           24,
           0,
           6
          ],
          "target": [
           87,
           93,
           71,
           77,
           78,
           55,
           61,
           62,
           63,
           38,
           39,
           40,
           48,
           45,
           46,
           42,
           24,
           32,
           33,
           34,
           6,
           10
          ],
          "value": [
           15,
           15,
           43,
           27,
           16,
           27,
           13,
           10,
           4,
           26,
           147,
           9,
           9,
           132,
           15,
           26,
           28,
           22,
           1,
           5,
           90,
           90
          ]
         },
         "node": {
          "color": [
           "#ee2a2a",
           "#64C466",
           "#2186eb",
           "#3ca3a7",
           "#FF9F15",
           "#F7CE46",
           "#ee2a2a",
           "#2186eb",
           "#64C466",
           "#b103fc",
           "black",
           "black",
           "black",
           "black",
           "black",
           "black",
           "black",
           "black",
           "black",
           "black",
           "black",
           "black",
           "#ee2a2a",
           "#2186eb",
           "#64C466",
           "#b103fc",
           "black",
           "black",
           "black",
           "black",
           "black",
           "black",
           "black",
           "black",
           "black",
           "black",
           "black",
           "black",
           "#ee2a2a",
           "#2186eb",
           "#64C466",
           "#b103fc",
           "black",
           "black",
           "black",
           "black",
           "black",
           "black",
           "black",
           "black",
           "black",
           "black",
           "black",
           "black",
           "#ee2a2a",
           "#2186eb",
           "#64C466",
           "#b103fc",
           "black",
           "black",
           "black",
           "black",
           "black",
           "black",
           "black",
           "black",
           "black",
           "black",
           "black",
           "black",
           "#ee2a2a",
           "#2186eb",
           "#64C466",
           "#b103fc",
           "black",
           "black",
           "black",
           "black",
           "black",
           "black",
           "black",
           "black",
           "black",
           "black",
           "black",
           "black",
           "#ee2a2a",
           "#2186eb",
           "#64C466",
           "#b103fc",
           "black",
           "black",
           "black",
           "black",
           "black",
           "black",
           "black",
           "black",
           "black",
           "black",
           "black",
           "black"
          ],
          "label": [
           "deletion",
           "insertion",
           "substitution",
           "reorder",
           "structure",
           "split",
           "less information",
           "same information",
           "more information",
           "different information",
           "no error",
           "trivial",
           "error",
           "no error",
           "trivial",
           "error",
           "no error",
           "trivial",
           "error",
           "no error",
           "trivial",
           "error",
           "less information",
           "same information",
           "more information",
           "different information",
           "no error",
           "trivial",
           "error",
           "no error",
           "trivial",
           "error",
           "no error",
           "trivial",
           "error",
           "no error",
           "trivial",
           "error",
           "less information",
           "same information",
           "more information",
           "different information",
           "no error",
           "trivial",
           "error",
           "no error",
           "trivial",
           "error",
           "no error",
           "trivial",
           "error",
           "no error",
           "trivial",
           "error",
           "less information",
           "same information",
           "more information",
           "different information",
           "no error",
           "trivial",
           "error",
           "no error",
           "trivial",
           "error",
           "no error",
           "trivial",
           "error",
           "no error",
           "trivial",
           "error",
           "less information",
           "same information",
           "more information",
           "different information",
           "no error",
           "trivial",
           "error",
           "no error",
           "trivial",
           "error",
           "no error",
           "trivial",
           "error",
           "no error",
           "trivial",
           "error",
           "less information",
           "same information",
           "more information",
           "different information",
           "no error",
           "trivial",
           "error",
           "no error",
           "trivial",
           "error",
           "no error",
           "trivial",
           "error",
           "no error",
           "trivial",
           "error"
          ],
          "line": {
           "color": "black",
           "width": 0.5
          },
          "pad": 5,
          "thickness": 10
         },
         "type": "sankey",
         "valueformat": "d",
         "valuesuffix": " edits"
        }
       ],
       "layout": {
        "font": {
         "size": 11
        },
        "height": 500,
        "template": {
         "data": {
          "bar": [
           {
            "error_x": {
             "color": "#2a3f5f"
            },
            "error_y": {
             "color": "#2a3f5f"
            },
            "marker": {
             "line": {
              "color": "#E5ECF6",
              "width": 0.5
             },
             "pattern": {
              "fillmode": "overlay",
              "size": 10,
              "solidity": 0.2
             }
            },
            "type": "bar"
           }
          ],
          "barpolar": [
           {
            "marker": {
             "line": {
              "color": "#E5ECF6",
              "width": 0.5
             },
             "pattern": {
              "fillmode": "overlay",
              "size": 10,
              "solidity": 0.2
             }
            },
            "type": "barpolar"
           }
          ],
          "carpet": [
           {
            "aaxis": {
             "endlinecolor": "#2a3f5f",
             "gridcolor": "white",
             "linecolor": "white",
             "minorgridcolor": "white",
             "startlinecolor": "#2a3f5f"
            },
            "baxis": {
             "endlinecolor": "#2a3f5f",
             "gridcolor": "white",
             "linecolor": "white",
             "minorgridcolor": "white",
             "startlinecolor": "#2a3f5f"
            },
            "type": "carpet"
           }
          ],
          "choropleth": [
           {
            "colorbar": {
             "outlinewidth": 0,
             "ticks": ""
            },
            "type": "choropleth"
           }
          ],
          "contour": [
           {
            "colorbar": {
             "outlinewidth": 0,
             "ticks": ""
            },
            "colorscale": [
             [
              0,
              "#0d0887"
             ],
             [
              0.1111111111111111,
              "#46039f"
             ],
             [
              0.2222222222222222,
              "#7201a8"
             ],
             [
              0.3333333333333333,
              "#9c179e"
             ],
             [
              0.4444444444444444,
              "#bd3786"
             ],
             [
              0.5555555555555556,
              "#d8576b"
             ],
             [
              0.6666666666666666,
              "#ed7953"
             ],
             [
              0.7777777777777778,
              "#fb9f3a"
             ],
             [
              0.8888888888888888,
              "#fdca26"
             ],
             [
              1,
              "#f0f921"
             ]
            ],
            "type": "contour"
           }
          ],
          "contourcarpet": [
           {
            "colorbar": {
             "outlinewidth": 0,
             "ticks": ""
            },
            "type": "contourcarpet"
           }
          ],
          "heatmap": [
           {
            "colorbar": {
             "outlinewidth": 0,
             "ticks": ""
            },
            "colorscale": [
             [
              0,
              "#0d0887"
             ],
             [
              0.1111111111111111,
              "#46039f"
             ],
             [
              0.2222222222222222,
              "#7201a8"
             ],
             [
              0.3333333333333333,
              "#9c179e"
             ],
             [
              0.4444444444444444,
              "#bd3786"
             ],
             [
              0.5555555555555556,
              "#d8576b"
             ],
             [
              0.6666666666666666,
              "#ed7953"
             ],
             [
              0.7777777777777778,
              "#fb9f3a"
             ],
             [
              0.8888888888888888,
              "#fdca26"
             ],
             [
              1,
              "#f0f921"
             ]
            ],
            "type": "heatmap"
           }
          ],
          "heatmapgl": [
           {
            "colorbar": {
             "outlinewidth": 0,
             "ticks": ""
            },
            "colorscale": [
             [
              0,
              "#0d0887"
             ],
             [
              0.1111111111111111,
              "#46039f"
             ],
             [
              0.2222222222222222,
              "#7201a8"
             ],
             [
              0.3333333333333333,
              "#9c179e"
             ],
             [
              0.4444444444444444,
              "#bd3786"
             ],
             [
              0.5555555555555556,
              "#d8576b"
             ],
             [
              0.6666666666666666,
              "#ed7953"
             ],
             [
              0.7777777777777778,
              "#fb9f3a"
             ],
             [
              0.8888888888888888,
              "#fdca26"
             ],
             [
              1,
              "#f0f921"
             ]
            ],
            "type": "heatmapgl"
           }
          ],
          "histogram": [
           {
            "marker": {
             "pattern": {
              "fillmode": "overlay",
              "size": 10,
              "solidity": 0.2
             }
            },
            "type": "histogram"
           }
          ],
          "histogram2d": [
           {
            "colorbar": {
             "outlinewidth": 0,
             "ticks": ""
            },
            "colorscale": [
             [
              0,
              "#0d0887"
             ],
             [
              0.1111111111111111,
              "#46039f"
             ],
             [
              0.2222222222222222,
              "#7201a8"
             ],
             [
              0.3333333333333333,
              "#9c179e"
             ],
             [
              0.4444444444444444,
              "#bd3786"
             ],
             [
              0.5555555555555556,
              "#d8576b"
             ],
             [
              0.6666666666666666,
              "#ed7953"
             ],
             [
              0.7777777777777778,
              "#fb9f3a"
             ],
             [
              0.8888888888888888,
              "#fdca26"
             ],
             [
              1,
              "#f0f921"
             ]
            ],
            "type": "histogram2d"
           }
          ],
          "histogram2dcontour": [
           {
            "colorbar": {
             "outlinewidth": 0,
             "ticks": ""
            },
            "colorscale": [
             [
              0,
              "#0d0887"
             ],
             [
              0.1111111111111111,
              "#46039f"
             ],
             [
              0.2222222222222222,
              "#7201a8"
             ],
             [
              0.3333333333333333,
              "#9c179e"
             ],
             [
              0.4444444444444444,
              "#bd3786"
             ],
             [
              0.5555555555555556,
              "#d8576b"
             ],
             [
              0.6666666666666666,
              "#ed7953"
             ],
             [
              0.7777777777777778,
              "#fb9f3a"
             ],
             [
              0.8888888888888888,
              "#fdca26"
             ],
             [
              1,
              "#f0f921"
             ]
            ],
            "type": "histogram2dcontour"
           }
          ],
          "mesh3d": [
           {
            "colorbar": {
             "outlinewidth": 0,
             "ticks": ""
            },
            "type": "mesh3d"
           }
          ],
          "parcoords": [
           {
            "line": {
             "colorbar": {
              "outlinewidth": 0,
              "ticks": ""
             }
            },
            "type": "parcoords"
           }
          ],
          "pie": [
           {
            "automargin": true,
            "type": "pie"
           }
          ],
          "scatter": [
           {
            "fillpattern": {
             "fillmode": "overlay",
             "size": 10,
             "solidity": 0.2
            },
            "type": "scatter"
           }
          ],
          "scatter3d": [
           {
            "line": {
             "colorbar": {
              "outlinewidth": 0,
              "ticks": ""
             }
            },
            "marker": {
             "colorbar": {
              "outlinewidth": 0,
              "ticks": ""
             }
            },
            "type": "scatter3d"
           }
          ],
          "scattercarpet": [
           {
            "marker": {
             "colorbar": {
              "outlinewidth": 0,
              "ticks": ""
             }
            },
            "type": "scattercarpet"
           }
          ],
          "scattergeo": [
           {
            "marker": {
             "colorbar": {
              "outlinewidth": 0,
              "ticks": ""
             }
            },
            "type": "scattergeo"
           }
          ],
          "scattergl": [
           {
            "marker": {
             "colorbar": {
              "outlinewidth": 0,
              "ticks": ""
             }
            },
            "type": "scattergl"
           }
          ],
          "scattermapbox": [
           {
            "marker": {
             "colorbar": {
              "outlinewidth": 0,
              "ticks": ""
             }
            },
            "type": "scattermapbox"
           }
          ],
          "scatterpolar": [
           {
            "marker": {
             "colorbar": {
              "outlinewidth": 0,
              "ticks": ""
             }
            },
            "type": "scatterpolar"
           }
          ],
          "scatterpolargl": [
           {
            "marker": {
             "colorbar": {
              "outlinewidth": 0,
              "ticks": ""
             }
            },
            "type": "scatterpolargl"
           }
          ],
          "scatterternary": [
           {
            "marker": {
             "colorbar": {
              "outlinewidth": 0,
              "ticks": ""
             }
            },
            "type": "scatterternary"
           }
          ],
          "surface": [
           {
            "colorbar": {
             "outlinewidth": 0,
             "ticks": ""
            },
            "colorscale": [
             [
              0,
              "#0d0887"
             ],
             [
              0.1111111111111111,
              "#46039f"
             ],
             [
              0.2222222222222222,
              "#7201a8"
             ],
             [
              0.3333333333333333,
              "#9c179e"
             ],
             [
              0.4444444444444444,
              "#bd3786"
             ],
             [
              0.5555555555555556,
              "#d8576b"
             ],
             [
              0.6666666666666666,
              "#ed7953"
             ],
             [
              0.7777777777777778,
              "#fb9f3a"
             ],
             [
              0.8888888888888888,
              "#fdca26"
             ],
             [
              1,
              "#f0f921"
             ]
            ],
            "type": "surface"
           }
          ],
          "table": [
           {
            "cells": {
             "fill": {
              "color": "#EBF0F8"
             },
             "line": {
              "color": "white"
             }
            },
            "header": {
             "fill": {
              "color": "#C8D4E3"
             },
             "line": {
              "color": "white"
             }
            },
            "type": "table"
           }
          ]
         },
         "layout": {
          "annotationdefaults": {
           "arrowcolor": "#2a3f5f",
           "arrowhead": 0,
           "arrowwidth": 1
          },
          "autotypenumbers": "strict",
          "coloraxis": {
           "colorbar": {
            "outlinewidth": 0,
            "ticks": ""
           }
          },
          "colorscale": {
           "diverging": [
            [
             0,
             "#8e0152"
            ],
            [
             0.1,
             "#c51b7d"
            ],
            [
             0.2,
             "#de77ae"
            ],
            [
             0.3,
             "#f1b6da"
            ],
            [
             0.4,
             "#fde0ef"
            ],
            [
             0.5,
             "#f7f7f7"
            ],
            [
             0.6,
             "#e6f5d0"
            ],
            [
             0.7,
             "#b8e186"
            ],
            [
             0.8,
             "#7fbc41"
            ],
            [
             0.9,
             "#4d9221"
            ],
            [
             1,
             "#276419"
            ]
           ],
           "sequential": [
            [
             0,
             "#0d0887"
            ],
            [
             0.1111111111111111,
             "#46039f"
            ],
            [
             0.2222222222222222,
             "#7201a8"
            ],
            [
             0.3333333333333333,
             "#9c179e"
            ],
            [
             0.4444444444444444,
             "#bd3786"
            ],
            [
             0.5555555555555556,
             "#d8576b"
            ],
            [
             0.6666666666666666,
             "#ed7953"
            ],
            [
             0.7777777777777778,
             "#fb9f3a"
            ],
            [
             0.8888888888888888,
             "#fdca26"
            ],
            [
             1,
             "#f0f921"
            ]
           ],
           "sequentialminus": [
            [
             0,
             "#0d0887"
            ],
            [
             0.1111111111111111,
             "#46039f"
            ],
            [
             0.2222222222222222,
             "#7201a8"
            ],
            [
             0.3333333333333333,
             "#9c179e"
            ],
            [
             0.4444444444444444,
             "#bd3786"
            ],
            [
             0.5555555555555556,
             "#d8576b"
            ],
            [
             0.6666666666666666,
             "#ed7953"
            ],
            [
             0.7777777777777778,
             "#fb9f3a"
            ],
            [
             0.8888888888888888,
             "#fdca26"
            ],
            [
             1,
             "#f0f921"
            ]
           ]
          },
          "colorway": [
           "#636efa",
           "#EF553B",
           "#00cc96",
           "#ab63fa",
           "#FFA15A",
           "#19d3f3",
           "#FF6692",
           "#B6E880",
           "#FF97FF",
           "#FECB52"
          ],
          "font": {
           "color": "#2a3f5f"
          },
          "geo": {
           "bgcolor": "white",
           "lakecolor": "white",
           "landcolor": "#E5ECF6",
           "showlakes": true,
           "showland": true,
           "subunitcolor": "white"
          },
          "hoverlabel": {
           "align": "left"
          },
          "hovermode": "closest",
          "mapbox": {
           "style": "light"
          },
          "paper_bgcolor": "white",
          "plot_bgcolor": "#E5ECF6",
          "polar": {
           "angularaxis": {
            "gridcolor": "white",
            "linecolor": "white",
            "ticks": ""
           },
           "bgcolor": "#E5ECF6",
           "radialaxis": {
            "gridcolor": "white",
            "linecolor": "white",
            "ticks": ""
           }
          },
          "scene": {
           "xaxis": {
            "backgroundcolor": "#E5ECF6",
            "gridcolor": "white",
            "gridwidth": 2,
            "linecolor": "white",
            "showbackground": true,
            "ticks": "",
            "zerolinecolor": "white"
           },
           "yaxis": {
            "backgroundcolor": "#E5ECF6",
            "gridcolor": "white",
            "gridwidth": 2,
            "linecolor": "white",
            "showbackground": true,
            "ticks": "",
            "zerolinecolor": "white"
           },
           "zaxis": {
            "backgroundcolor": "#E5ECF6",
            "gridcolor": "white",
            "gridwidth": 2,
            "linecolor": "white",
            "showbackground": true,
            "ticks": "",
            "zerolinecolor": "white"
           }
          },
          "shapedefaults": {
           "line": {
            "color": "#2a3f5f"
           }
          },
          "ternary": {
           "aaxis": {
            "gridcolor": "white",
            "linecolor": "white",
            "ticks": ""
           },
           "baxis": {
            "gridcolor": "white",
            "linecolor": "white",
            "ticks": ""
           },
           "bgcolor": "#E5ECF6",
           "caxis": {
            "gridcolor": "white",
            "linecolor": "white",
            "ticks": ""
           }
          },
          "title": {
           "x": 0.05
          },
          "xaxis": {
           "automargin": true,
           "gridcolor": "white",
           "linecolor": "white",
           "ticks": "",
           "title": {
            "standoff": 15
           },
           "zerolinecolor": "white",
           "zerolinewidth": 2
          },
          "yaxis": {
           "automargin": true,
           "gridcolor": "white",
           "linecolor": "white",
           "ticks": "",
           "title": {
            "standoff": 15
           },
           "zerolinecolor": "white",
           "zerolinewidth": 2
          }
         }
        },
        "title": {
         "text": "Edit Type Distribution"
        },
        "width": 500
       }
      }
     },
     "metadata": {},
     "output_type": "display_data"
    }
   ],
   "source": [
    "sankey_seperated(data)"
   ]
  },
  {
   "cell_type": "code",
   "execution_count": null,
   "metadata": {},
   "outputs": [
    {
     "data": {
      "application/vnd.plotly.v1+json": {
       "config": {
        "plotlyServerURL": "https://plot.ly"
       },
       "data": [
        {
         "link": {
          "source": [
           0,
           0,
           0,
           0,
           1,
           1,
           1,
           1,
           2,
           2,
           2,
           2,
           3,
           3,
           3,
           3,
           4,
           4,
           4,
           4,
           5,
           5,
           5,
           5,
           6,
           6,
           6,
           7,
           7,
           7,
           8,
           8,
           8,
           9,
           9,
           9,
           10,
           10,
           10,
           10,
           10,
           10,
           10,
           10,
           11,
           11,
           11,
           11,
           11,
           11,
           11,
           11,
           12,
           12,
           12,
           12,
           12,
           12,
           12,
           12,
           10,
           10,
           10,
           10,
           11,
           11,
           11,
           11
          ],
          "target": [
           6,
           7,
           8,
           9,
           6,
           7,
           8,
           9,
           6,
           7,
           8,
           9,
           6,
           7,
           8,
           9,
           6,
           7,
           8,
           9,
           6,
           7,
           8,
           9,
           10,
           11,
           12,
           10,
           11,
           12,
           10,
           11,
           12,
           10,
           11,
           12,
           13,
           14,
           15,
           16,
           17,
           18,
           19,
           20,
           13,
           14,
           15,
           16,
           17,
           18,
           19,
           20,
           13,
           14,
           15,
           16,
           17,
           18,
           19,
           20,
           21,
           22,
           23,
           24,
           25,
           26,
           27,
           28
          ],
          "value": [
           90,
           0,
           0,
           0,
           0,
           0,
           28,
           0,
           26,
           147,
           9,
           0,
           0,
           27,
           0,
           0,
           0,
           43,
           0,
           0,
           0,
           15,
           0,
           0,
           116,
           0,
           0,
           187,
           41,
           4,
           31,
           1,
           5,
           0,
           0,
           0,
           0,
           0,
           0,
           0,
           0,
           0,
           0,
           0,
           0,
           0,
           0,
           0,
           0,
           0,
           0,
           0,
           0,
           0,
           0,
           0,
           0,
           5,
           0,
           4,
           63,
           92,
           126,
           53,
           1,
           0,
           0,
           42
          ]
         },
         "node": {
          "color": [
           "#ee2a2a",
           "#64C466",
           "#2186eb",
           "#3ca3a7",
           "#FF9F15",
           "#F7CE46",
           "#ee2a2a",
           "#2186eb",
           "#64C466",
           "#b103fc",
           "black",
           "black",
           "black",
           "black",
           "black",
           "black",
           "black",
           "black",
           "black",
           "black",
           "black",
           "black",
           "black",
           "black",
           "black",
           "black",
           "black",
           "black",
           "black"
          ],
          "label": [
           "Deletion",
           "Insertion",
           "Substitution",
           "Reorder",
           "Structure",
           "Split",
           "Less information",
           "Same information",
           "More information",
           "Different information",
           "No error",
           "Trivial",
           "Error",
           "Coreference",
           "Information rewrite",
           "Repetition",
           "Contradiction",
           "Hallucination",
           "Irrelevant",
           "Unnecessary insertion",
           "Complex wording",
           "Very bad",
           "Bad",
           "Good",
           "Perfect",
           "0 rating",
           "1 rating",
           "2 rating",
           "Trivial paraphrase"
          ],
          "line": {
           "color": "black",
           "width": 0.5
          },
          "pad": 15,
          "thickness": 10
         },
         "type": "sankey",
         "valueformat": "d",
         "valuesuffix": " edits"
        }
       ],
       "layout": {
        "font": {
         "color": "black",
         "size": 11
        },
        "height": 500,
        "template": {
         "data": {
          "bar": [
           {
            "error_x": {
             "color": "#2a3f5f"
            },
            "error_y": {
             "color": "#2a3f5f"
            },
            "marker": {
             "line": {
              "color": "#E5ECF6",
              "width": 0.5
             },
             "pattern": {
              "fillmode": "overlay",
              "size": 10,
              "solidity": 0.2
             }
            },
            "type": "bar"
           }
          ],
          "barpolar": [
           {
            "marker": {
             "line": {
              "color": "#E5ECF6",
              "width": 0.5
             },
             "pattern": {
              "fillmode": "overlay",
              "size": 10,
              "solidity": 0.2
             }
            },
            "type": "barpolar"
           }
          ],
          "carpet": [
           {
            "aaxis": {
             "endlinecolor": "#2a3f5f",
             "gridcolor": "white",
             "linecolor": "white",
             "minorgridcolor": "white",
             "startlinecolor": "#2a3f5f"
            },
            "baxis": {
             "endlinecolor": "#2a3f5f",
             "gridcolor": "white",
             "linecolor": "white",
             "minorgridcolor": "white",
             "startlinecolor": "#2a3f5f"
            },
            "type": "carpet"
           }
          ],
          "choropleth": [
           {
            "colorbar": {
             "outlinewidth": 0,
             "ticks": ""
            },
            "type": "choropleth"
           }
          ],
          "contour": [
           {
            "colorbar": {
             "outlinewidth": 0,
             "ticks": ""
            },
            "colorscale": [
             [
              0,
              "#0d0887"
             ],
             [
              0.1111111111111111,
              "#46039f"
             ],
             [
              0.2222222222222222,
              "#7201a8"
             ],
             [
              0.3333333333333333,
              "#9c179e"
             ],
             [
              0.4444444444444444,
              "#bd3786"
             ],
             [
              0.5555555555555556,
              "#d8576b"
             ],
             [
              0.6666666666666666,
              "#ed7953"
             ],
             [
              0.7777777777777778,
              "#fb9f3a"
             ],
             [
              0.8888888888888888,
              "#fdca26"
             ],
             [
              1,
              "#f0f921"
             ]
            ],
            "type": "contour"
           }
          ],
          "contourcarpet": [
           {
            "colorbar": {
             "outlinewidth": 0,
             "ticks": ""
            },
            "type": "contourcarpet"
           }
          ],
          "heatmap": [
           {
            "colorbar": {
             "outlinewidth": 0,
             "ticks": ""
            },
            "colorscale": [
             [
              0,
              "#0d0887"
             ],
             [
              0.1111111111111111,
              "#46039f"
             ],
             [
              0.2222222222222222,
              "#7201a8"
             ],
             [
              0.3333333333333333,
              "#9c179e"
             ],
             [
              0.4444444444444444,
              "#bd3786"
             ],
             [
              0.5555555555555556,
              "#d8576b"
             ],
             [
              0.6666666666666666,
              "#ed7953"
             ],
             [
              0.7777777777777778,
              "#fb9f3a"
             ],
             [
              0.8888888888888888,
              "#fdca26"
             ],
             [
              1,
              "#f0f921"
             ]
            ],
            "type": "heatmap"
           }
          ],
          "heatmapgl": [
           {
            "colorbar": {
             "outlinewidth": 0,
             "ticks": ""
            },
            "colorscale": [
             [
              0,
              "#0d0887"
             ],
             [
              0.1111111111111111,
              "#46039f"
             ],
             [
              0.2222222222222222,
              "#7201a8"
             ],
             [
              0.3333333333333333,
              "#9c179e"
             ],
             [
              0.4444444444444444,
              "#bd3786"
             ],
             [
              0.5555555555555556,
              "#d8576b"
             ],
             [
              0.6666666666666666,
              "#ed7953"
             ],
             [
              0.7777777777777778,
              "#fb9f3a"
             ],
             [
              0.8888888888888888,
              "#fdca26"
             ],
             [
              1,
              "#f0f921"
             ]
            ],
            "type": "heatmapgl"
           }
          ],
          "histogram": [
           {
            "marker": {
             "pattern": {
              "fillmode": "overlay",
              "size": 10,
              "solidity": 0.2
             }
            },
            "type": "histogram"
           }
          ],
          "histogram2d": [
           {
            "colorbar": {
             "outlinewidth": 0,
             "ticks": ""
            },
            "colorscale": [
             [
              0,
              "#0d0887"
             ],
             [
              0.1111111111111111,
              "#46039f"
             ],
             [
              0.2222222222222222,
              "#7201a8"
             ],
             [
              0.3333333333333333,
              "#9c179e"
             ],
             [
              0.4444444444444444,
              "#bd3786"
             ],
             [
              0.5555555555555556,
              "#d8576b"
             ],
             [
              0.6666666666666666,
              "#ed7953"
             ],
             [
              0.7777777777777778,
              "#fb9f3a"
             ],
             [
              0.8888888888888888,
              "#fdca26"
             ],
             [
              1,
              "#f0f921"
             ]
            ],
            "type": "histogram2d"
           }
          ],
          "histogram2dcontour": [
           {
            "colorbar": {
             "outlinewidth": 0,
             "ticks": ""
            },
            "colorscale": [
             [
              0,
              "#0d0887"
             ],
             [
              0.1111111111111111,
              "#46039f"
             ],
             [
              0.2222222222222222,
              "#7201a8"
             ],
             [
              0.3333333333333333,
              "#9c179e"
             ],
             [
              0.4444444444444444,
              "#bd3786"
             ],
             [
              0.5555555555555556,
              "#d8576b"
             ],
             [
              0.6666666666666666,
              "#ed7953"
             ],
             [
              0.7777777777777778,
              "#fb9f3a"
             ],
             [
              0.8888888888888888,
              "#fdca26"
             ],
             [
              1,
              "#f0f921"
             ]
            ],
            "type": "histogram2dcontour"
           }
          ],
          "mesh3d": [
           {
            "colorbar": {
             "outlinewidth": 0,
             "ticks": ""
            },
            "type": "mesh3d"
           }
          ],
          "parcoords": [
           {
            "line": {
             "colorbar": {
              "outlinewidth": 0,
              "ticks": ""
             }
            },
            "type": "parcoords"
           }
          ],
          "pie": [
           {
            "automargin": true,
            "type": "pie"
           }
          ],
          "scatter": [
           {
            "fillpattern": {
             "fillmode": "overlay",
             "size": 10,
             "solidity": 0.2
            },
            "type": "scatter"
           }
          ],
          "scatter3d": [
           {
            "line": {
             "colorbar": {
              "outlinewidth": 0,
              "ticks": ""
             }
            },
            "marker": {
             "colorbar": {
              "outlinewidth": 0,
              "ticks": ""
             }
            },
            "type": "scatter3d"
           }
          ],
          "scattercarpet": [
           {
            "marker": {
             "colorbar": {
              "outlinewidth": 0,
              "ticks": ""
             }
            },
            "type": "scattercarpet"
           }
          ],
          "scattergeo": [
           {
            "marker": {
             "colorbar": {
              "outlinewidth": 0,
              "ticks": ""
             }
            },
            "type": "scattergeo"
           }
          ],
          "scattergl": [
           {
            "marker": {
             "colorbar": {
              "outlinewidth": 0,
              "ticks": ""
             }
            },
            "type": "scattergl"
           }
          ],
          "scattermapbox": [
           {
            "marker": {
             "colorbar": {
              "outlinewidth": 0,
              "ticks": ""
             }
            },
            "type": "scattermapbox"
           }
          ],
          "scatterpolar": [
           {
            "marker": {
             "colorbar": {
              "outlinewidth": 0,
              "ticks": ""
             }
            },
            "type": "scatterpolar"
           }
          ],
          "scatterpolargl": [
           {
            "marker": {
             "colorbar": {
              "outlinewidth": 0,
              "ticks": ""
             }
            },
            "type": "scatterpolargl"
           }
          ],
          "scatterternary": [
           {
            "marker": {
             "colorbar": {
              "outlinewidth": 0,
              "ticks": ""
             }
            },
            "type": "scatterternary"
           }
          ],
          "surface": [
           {
            "colorbar": {
             "outlinewidth": 0,
             "ticks": ""
            },
            "colorscale": [
             [
              0,
              "#0d0887"
             ],
             [
              0.1111111111111111,
              "#46039f"
             ],
             [
              0.2222222222222222,
              "#7201a8"
             ],
             [
              0.3333333333333333,
              "#9c179e"
             ],
             [
              0.4444444444444444,
              "#bd3786"
             ],
             [
              0.5555555555555556,
              "#d8576b"
             ],
             [
              0.6666666666666666,
              "#ed7953"
             ],
             [
              0.7777777777777778,
              "#fb9f3a"
             ],
             [
              0.8888888888888888,
              "#fdca26"
             ],
             [
              1,
              "#f0f921"
             ]
            ],
            "type": "surface"
           }
          ],
          "table": [
           {
            "cells": {
             "fill": {
              "color": "#EBF0F8"
             },
             "line": {
              "color": "white"
             }
            },
            "header": {
             "fill": {
              "color": "#C8D4E3"
             },
             "line": {
              "color": "white"
             }
            },
            "type": "table"
           }
          ]
         },
         "layout": {
          "annotationdefaults": {
           "arrowcolor": "#2a3f5f",
           "arrowhead": 0,
           "arrowwidth": 1
          },
          "autotypenumbers": "strict",
          "coloraxis": {
           "colorbar": {
            "outlinewidth": 0,
            "ticks": ""
           }
          },
          "colorscale": {
           "diverging": [
            [
             0,
             "#8e0152"
            ],
            [
             0.1,
             "#c51b7d"
            ],
            [
             0.2,
             "#de77ae"
            ],
            [
             0.3,
             "#f1b6da"
            ],
            [
             0.4,
             "#fde0ef"
            ],
            [
             0.5,
             "#f7f7f7"
            ],
            [
             0.6,
             "#e6f5d0"
            ],
            [
             0.7,
             "#b8e186"
            ],
            [
             0.8,
             "#7fbc41"
            ],
            [
             0.9,
             "#4d9221"
            ],
            [
             1,
             "#276419"
            ]
           ],
           "sequential": [
            [
             0,
             "#0d0887"
            ],
            [
             0.1111111111111111,
             "#46039f"
            ],
            [
             0.2222222222222222,
             "#7201a8"
            ],
            [
             0.3333333333333333,
             "#9c179e"
            ],
            [
             0.4444444444444444,
             "#bd3786"
            ],
            [
             0.5555555555555556,
             "#d8576b"
            ],
            [
             0.6666666666666666,
             "#ed7953"
            ],
            [
             0.7777777777777778,
             "#fb9f3a"
            ],
            [
             0.8888888888888888,
             "#fdca26"
            ],
            [
             1,
             "#f0f921"
            ]
           ],
           "sequentialminus": [
            [
             0,
             "#0d0887"
            ],
            [
             0.1111111111111111,
             "#46039f"
            ],
            [
             0.2222222222222222,
             "#7201a8"
            ],
            [
             0.3333333333333333,
             "#9c179e"
            ],
            [
             0.4444444444444444,
             "#bd3786"
            ],
            [
             0.5555555555555556,
             "#d8576b"
            ],
            [
             0.6666666666666666,
             "#ed7953"
            ],
            [
             0.7777777777777778,
             "#fb9f3a"
            ],
            [
             0.8888888888888888,
             "#fdca26"
            ],
            [
             1,
             "#f0f921"
            ]
           ]
          },
          "colorway": [
           "#636efa",
           "#EF553B",
           "#00cc96",
           "#ab63fa",
           "#FFA15A",
           "#19d3f3",
           "#FF6692",
           "#B6E880",
           "#FF97FF",
           "#FECB52"
          ],
          "font": {
           "color": "#2a3f5f"
          },
          "geo": {
           "bgcolor": "white",
           "lakecolor": "white",
           "landcolor": "#E5ECF6",
           "showlakes": true,
           "showland": true,
           "subunitcolor": "white"
          },
          "hoverlabel": {
           "align": "left"
          },
          "hovermode": "closest",
          "mapbox": {
           "style": "light"
          },
          "paper_bgcolor": "white",
          "plot_bgcolor": "#E5ECF6",
          "polar": {
           "angularaxis": {
            "gridcolor": "white",
            "linecolor": "white",
            "ticks": ""
           },
           "bgcolor": "#E5ECF6",
           "radialaxis": {
            "gridcolor": "white",
            "linecolor": "white",
            "ticks": ""
           }
          },
          "scene": {
           "xaxis": {
            "backgroundcolor": "#E5ECF6",
            "gridcolor": "white",
            "gridwidth": 2,
            "linecolor": "white",
            "showbackground": true,
            "ticks": "",
            "zerolinecolor": "white"
           },
           "yaxis": {
            "backgroundcolor": "#E5ECF6",
            "gridcolor": "white",
            "gridwidth": 2,
            "linecolor": "white",
            "showbackground": true,
            "ticks": "",
            "zerolinecolor": "white"
           },
           "zaxis": {
            "backgroundcolor": "#E5ECF6",
            "gridcolor": "white",
            "gridwidth": 2,
            "linecolor": "white",
            "showbackground": true,
            "ticks": "",
            "zerolinecolor": "white"
           }
          },
          "shapedefaults": {
           "line": {
            "color": "#2a3f5f"
           }
          },
          "ternary": {
           "aaxis": {
            "gridcolor": "white",
            "linecolor": "white",
            "ticks": ""
           },
           "baxis": {
            "gridcolor": "white",
            "linecolor": "white",
            "ticks": ""
           },
           "bgcolor": "#E5ECF6",
           "caxis": {
            "gridcolor": "white",
            "linecolor": "white",
            "ticks": ""
           }
          },
          "title": {
           "x": 0.05
          },
          "xaxis": {
           "automargin": true,
           "gridcolor": "white",
           "linecolor": "white",
           "ticks": "",
           "title": {
            "standoff": 15
           },
           "zerolinecolor": "white",
           "zerolinewidth": 2
          },
          "yaxis": {
           "automargin": true,
           "gridcolor": "white",
           "linecolor": "white",
           "ticks": "",
           "title": {
            "standoff": 15
           },
           "zerolinecolor": "white",
           "zerolinewidth": 2
          }
         }
        },
        "title": {
         "text": ""
        },
        "width": 700
       }
      }
     },
     "metadata": {},
     "output_type": "display_data"
    }
   ],
   "source": [
    "sankey_combined(data)"
   ]
  },
  {
   "cell_type": "code",
   "execution_count": null,
   "metadata": {},
   "outputs": [
    {
     "name": "stdout",
     "output_type": "stream",
     "text": [
      "\n",
      "Repetition\n",
      "\n",
      "Contradiction\n",
      "\n",
      "Hallucination\n",
      "\n",
      "Irrelevant\n",
      "anton - Batch 5, HIT 5 (ID 4) \t MUSS\n",
      "anton - Batch 5, HIT 13 (ID 12) \t MUSS\n",
      "anton - Batch 5, HIT 25 (ID 24) \t MUSS\n",
      "ayush - Batch 5, HIT 24 (ID 24) \t MUSS\n",
      "anton - Batch 5, HIT 29 (ID 28) \t MUSS\n"
     ]
    }
   ],
   "source": [
    "# Prints the sentences where annotators identified insertion errors\n",
    "for error in [Error.REPETITION, Error.CONTRADICTION, Error.HALLUCINATION, Error.IRRELEVANT]:\n",
    "    print(f'\\n{error.value}')\n",
    "    for sent in data:\n",
    "        for ann in sent['processed_annotations']:\n",
    "            if ann['error_type'] == error:\n",
    "                print(f'{get_sent_info(sent)} \\t {system_name_mapping[sent[\"system\"]]}')"
   ]
  },
  {
   "cell_type": "code",
   "execution_count": null,
   "metadata": {},
   "outputs": [
    {
     "name": "stdout",
     "output_type": "stream",
     "text": [
      "MUSS \t -4.45\n",
      "GPT-3 Zero \t 6.51\n",
      "Human 2 \t 12.1\n",
      "Human 1 \t 6.39\n",
      "GPT-3 Few \t 8.58\n"
     ]
    }
   ],
   "source": [
    "# Print the avg. sentence scores for each system\n",
    "for s in systems:\n",
    "    print(f'{system_name_mapping[s]} \\t {avg([sent[\"score\"] for sent in data if sent[\"system\"] == s])}')"
   ]
  },
  {
   "cell_type": "code",
   "execution_count": null,
   "metadata": {},
   "outputs": [
    {
     "data": {
      "image/png": "[encoded data removed]",
      "text/plain": [
       "<Figure size 432x288 with 1 Axes>"
      ]
     },
     "metadata": {
      "needs_background": "light"
     },
     "output_type": "display_data"
    }
   ],
   "source": [
    "annotations = [x for y in [sent['processed_annotations'] for sent in data] for x in y]\n",
    "avg_span_size(annotations)"
   ]
  },
  {
   "cell_type": "code",
   "execution_count": null,
   "metadata": {},
   "outputs": [
    {
     "data": {
      "image/png": "[encoded data removed]",
      "text/plain": [
       "<Figure size 540x288 with 2 Axes>"
      ]
     },
     "metadata": {
      "needs_background": "light"
     },
     "output_type": "display_data"
    }
   ],
   "source": [
    "# Show the distribution of edit and sentence scores\n",
    "score_distribution(data)"
   ]
  },
  {
   "cell_type": "code",
   "execution_count": null,
   "metadata": {},
   "outputs": [
    {
     "name": "stdout",
     "output_type": "stream",
     "text": [
      "Highest Scoring:\n",
      "anton - Batch 5, HIT 40 (ID 39) - 40.218971182996725\n",
      "anton - Batch 5, HIT 12 (ID 11) - 32.83140529936834\n",
      "anton - Batch 5, HIT 11 (ID 10) - 30.346412493102576\n",
      "anton - Batch 5, HIT 2 (ID 1) - 23.840686721928265\n",
      "anton - Batch 5, HIT 37 (ID 36) - 22.6448570516668\n",
      "\n",
      "Lowest scoring:\n",
      "anton - Batch 5, HIT 25 (ID 24) - -39.259024054328535\n",
      "anton - Batch 5, HIT 29 (ID 28) - -35.68429768544705\n",
      "anton - Batch 5, HIT 5 (ID 4) - -21.890553349768176\n",
      "ayush - Batch 5, HIT 24 (ID 24) - -7.964951982698696\n",
      "ayush - Batch 5, HIT 36 (ID 55) - -7.742587096549681\n"
     ]
    }
   ],
   "source": [
    "# Get the best and worst performing sentences\n",
    "best, worst = best_performing(data)"
   ]
  },
  {
   "cell_type": "code",
   "execution_count": null,
   "metadata": {},
   "outputs": [
    {
     "name": "stdout",
     "output_type": "stream",
     "text": [
      "anton - Batch 5, HIT 19 (ID 18)\n",
      "ayush - Batch 5, HIT 14 (ID 18)\n"
     ]
    }
   ],
   "source": [
    "# Get setences with a score of 0\n",
    "zeros = zero_scoring_sents(data)"
   ]
  },
  {
   "cell_type": "code",
   "execution_count": null,
   "metadata": {},
   "outputs": [],
   "source": [
    "# edit_length(data, systems, simpeval=True)"
   ]
  },
  {
   "cell_type": "code",
   "execution_count": null,
   "metadata": {},
   "outputs": [
    {
     "data": {
      "image/png": "[encoded data removed]",
      "text/plain": [
       "<Figure size 540x288 with 1 Axes>"
      ]
     },
     "metadata": {
      "needs_background": "light"
     },
     "output_type": "display_data"
    }
   ],
   "source": [
    "# Averages our scores before plotting\n",
    "import copy\n",
    "new_data = copy.deepcopy(data)\n",
    "\n",
    "for id_ in set([sent['id'] for sent in data]):\n",
    "    sents = [sent for sent in data if sent['id'] == id_]\n",
    "    new_score = avg([sent['score'] for sent in sents])\n",
    "    for i in range(len(new_data)):\n",
    "        if new_data[i]['id'] == id_:\n",
    "            new_data[i]['score'] = new_score\n",
    "            \n",
    "edit_length(new_data, systems, simpeval=False)"
   ]
  },
  {
   "cell_type": "code",
   "execution_count": null,
   "metadata": {},
   "outputs": [
    {
     "name": "stdout",
     "output_type": "stream",
     "text": [
      "Sentences with at least 1 structure change: 32 / 80\n"
     ]
    }
   ],
   "source": [
    "# Get sentences with at least 1 structure change from 1 annotator\n",
    "ids = set()\n",
    "for sent in data:\n",
    "    if 'structure' in [x['type'] for x in sent['edits']]:\n",
    "        ids.add(sent['id'])\n",
    "ids = sorted(list(ids))\n",
    "print(f'Sentences with at least 1 structure change: {len(ids)} / {len(data)}')"
   ]
  },
  {
   "cell_type": "code",
   "execution_count": null,
   "metadata": {},
   "outputs": [
    {
     "name": "stdout",
     "output_type": "stream",
     "text": [
      "anton - Batch 5, HIT 2 (ID 1)\n",
      "\n",
      "The architecture of Winchester College is a diverse set of architectural styles, reflecting the multiple periods of building from the college's foundation in 1382, through additions in the medieval and Early Modern periods, to a major expansion of accommodation in the Victorian era \u001b[48;2;255;159;21m\u001b[38;5;0mand then\u001b[39m\u001b[49m \u001b[48;2;255;159;21m\u001b[38;5;0mfurther extensions at the turn of the 20th century\u001b[39m\u001b[49m \u001b[48;2;255;159;21m\u001b[38;5;0mand more recently.\u001b[39m\u001b[49m\n",
      "Winchester College’s architecture includes a variety of architectural styles. || This reflects multiple periods of building from when the college was founded in 1382 way until \u001b[48;2;255;159;21m\u001b[38;5;0mits most recent extensions.\u001b[39m\u001b[49m || This includes additions made during the medieval and Early Modern periods and a major expansion of accommodation in the Victorian era.\n",
      "\n"
     ]
    },
    {
     "data": {
      "image/png": "[encoded data removed]",
      "text/plain": [
       "<Figure size 540x288 with 2 Axes>"
      ]
     },
     "metadata": {
      "needs_background": "light"
     },
     "output_type": "display_data"
    }
   ],
   "source": [
    "# Display a sentence with a structure change\n",
    "id_ = 1\n",
    "sents = [sent for sent in data if sent['id'] == ids[id_]]\n",
    "print_changes(sents)\n",
    "draw_agreement(sents)"
   ]
  }
 ],
 "metadata": {
  "kernelspec": {
   "display_name": "Python 3.9.0 64-bit",
   "language": "python",
   "name": "python3"
  },
  "language_info": {
   "codemirror_mode": {
    "name": "ipython",
    "version": 3
   },
   "file_extension": ".py",
   "mimetype": "text/x-python",
   "name": "python",
   "nbconvert_exporter": "python",
   "pygments_lexer": "ipython3",
   "version": "3.9.0"
  },
  "orig_nbformat": 4,
  "vscode": {
   "interpreter": {
    "hash": "81794d4967e6c3204c66dcd87b604927b115b27c00565d3d43f05ba2f3a2cb0d"
   }
  }
 },
 "nbformat": 4,
 "nbformat_minor": 2
}
