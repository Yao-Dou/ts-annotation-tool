{
 "cells": [
  {
   "cell_type": "code",
   "execution_count": 1,
   "metadata": {},
   "outputs": [
    {
     "name": "stdout",
     "output_type": "stream",
     "text": [
      "Loading files: ['../annotated/batch_1_anton.json', '../annotated/batch_1_ayush.json', '../annotated/batch_1_kelly.json', '../annotated/batch_2_vinayak.json', '../annotated/batch_2_vishnesh.json', '../annotated/batch_3_anton.json', '../annotated/batch_3_ayush.json', '../annotated/batch_3_kelly.json', '../annotated/batch_4_rachel.json', '../annotated/batch_4_vinayak.json', '../annotated/batch_4_vishnesh.json']\n",
      "\n",
      "Found users: {'anton', 'ayush', 'kelly', 'vinayak', 'vishnesh', 'rachel'}\n",
      "\n",
      "Couldn't process grammar for substitution: ['positive', '', '', '']. Assuming 'no'...\n",
      "Couldn't process positive rating for substitution: ['positive', '', '', '']. Assuming 'somewhat'...\n",
      "Couldn't process grammar for substitution: ['positive', 'minor', '', '']. Assuming 'no'...\n",
      "Couldn't process grammar for deletion: ['good', 'no', '']. Assuming 'no'...\n",
      "Couldn't process grammar for deletion: ['good', 'no', '']. Assuming 'no'...\n",
      "Couldn't process grammar for deletion: ['perfect', 'no', '']. Assuming 'no'...\n",
      "Couldn't process grammar for deletion: ['good', 'no', '']. Assuming 'no'...\n",
      "Couldn't process grammar for substitution: ['positive', 'a lot', '', '']. Assuming 'no'...\n",
      "Couldn't process grammar for substitution: ['positive', 'somewhat', '', '']. Assuming 'no'...\n",
      "Couldn't process grammar for deletion: ['good', 'no', '']. Assuming 'no'...\n",
      "Couldn't process grammar for deletion: ['perfect', 'yes', '']. Assuming 'no'...\n",
      "Couldn't process grammar for deletion: ['good', 'no', '']. Assuming 'no'...\n",
      "Couldn't process grammar for deletion: ['good', 'no', '']. Assuming 'no'...\n",
      "Couldn't process grammar for deletion: ['perfect', 'no', '']. Assuming 'no'...\n",
      "Couldn't process grammar for deletion: ['perfect', 'no', '']. Assuming 'no'...\n",
      "Couldn't process grammar for deletion: ['perfect', 'no', '']. Assuming 'no'...\n",
      "Couldn't process grammar for deletion: ['good', 'no', '']. Assuming 'no'...\n",
      "Couldn't process grammar for deletion: ['good', 'no', '']. Assuming 'no'...\n",
      "Couldn't process grammar for deletion: ['good', 'no', '']. Assuming 'no'...\n",
      "Couldn't process grammar for deletion: ['good', 'no', '']. Assuming 'no'...\n",
      "Couldn't process grammar for deletion: ['good', 'no', '']. Assuming 'no'...\n",
      "Couldn't process grammar for deletion: ['good', 'no', '']. Assuming 'no'...\n",
      "Couldn't process grammar for deletion: ['good', 'yes', '']. Assuming 'no'...\n",
      "Couldn't process grammar for deletion: ['good', 'no', '']. Assuming 'no'...\n",
      "Couldn't process grammar for deletion: ['good', 'no', '']. Assuming 'no'...\n",
      "Couldn't process grammar for deletion: ['good', 'no', '']. Assuming 'no'...\n",
      "Couldn't process grammar for deletion: ['good', 'no', '']. Assuming 'no'...\n",
      "Couldn't process grammar for deletion: ['perfect', 'no', '']. Assuming 'no'...\n",
      "Couldn't process grammar for deletion: ['good', 'no', '']. Assuming 'no'...\n",
      "Couldn't process grammar for deletion: ['good', 'no', '']. Assuming 'no'...\n",
      "Couldn't process grammar for deletion: ['good', 'no', '']. Assuming 'no'...\n",
      "Couldn't process grammar for deletion: ['good', 'no', '']. Assuming 'no'...\n",
      "Couldn't process grammar for substitution: ['positive', 'somewhat', '', '']. Assuming 'no'...\n",
      "Couldn't process grammar for deletion: ['good', 'no', '']. Assuming 'no'...\n",
      "Couldn't process coreference error for deletion: ['perfect', '', 'no']. Assuming 'no'...\n",
      "Couldn't process grammar for deletion: ['good', 'no', '']. Assuming 'no'...\n",
      "Couldn't process grammar for substitution: ['positive', 'a lot', '', '']. Assuming 'no'...\n",
      "Couldn't process coreference error for deletion: ['very bad', '', 'no']. Assuming 'no'...\n",
      "When processing sentence: rachel - Batch 4, HIT 5 (ID 124). Caught error on: Could not process edit: {'type': 'deletion', 'id': 5, 'original_span': [(95, 98)], 'simplified_span': None, 'annotation': None}. Skipping...\n",
      "Couldn't process grammar for substitution: ['positive', 'minor', '', '']. Assuming 'no'...\n",
      "Couldn't process grammar for deletion: ['good', 'no', '']. Assuming 'no'...\n",
      "Couldn't process grammar for deletion: ['good', 'no', '']. Assuming 'no'...\n",
      "Couldn't process coreference error for deletion: ['perfect', '', 'no']. Assuming 'no'...\n",
      "Couldn't process grammar for deletion: ['perfect', 'no', '']. Assuming 'no'...\n"
     ]
    }
   ],
   "source": [
    "from types import *\n",
    "from dataloader import *\n",
    "from util import *\n",
    "from graphs import *\n",
    "from agreement import *\n",
    "from scoring import *\n",
    "\n",
    "# There's also 'tutorial' and 'preliminary' data\n",
    "data = load_data('../annotated', preprocess=True)"
   ]
  },
  {
   "cell_type": "code",
   "execution_count": 2,
   "metadata": {},
   "outputs": [
    {
     "name": "stdout",
     "output_type": "stream",
     "text": [
      "ANTON - HIT 19: in this case later baptised is a perfect deletion, but in other cases it might not be. \n",
      "\n",
      "\n",
      "AYUSH - HIT 10: There is no change from the original sentence to simplified sentence\n",
      "\n",
      "AYUSH - HIT 15: Seems to think the original sentence is talking about a game?\n",
      "\n",
      "AYUSH - HIT 25: It's the same sentence just duplicated twice\n",
      "\n",
      "KELLY - HIT 6: This original sentence doesn't really make geographic sense. Tajikistan, Turmenistan, and Uzbekistan are north of both Afghanistan and Pakistan, east of Iran, and west of China.\n",
      "\n",
      "KELLY - HIT 10: No change?\n",
      "\n",
      "KELLY - HIT 15: This hit keeps breaking the interface for me, so I'm not sure what the data looks like. Once I get to this hit, the interface will not allow me to navegate off.\n",
      "\n",
      "KELLY - HIT 16: I researched it and it looks like the (e) is indicating an alternate spelling on her name, but I'm not sure.\n",
      "\n",
      "KELLY - HIT 25: Same sentence, no annotations needed.\n",
      "\n",
      "\n",
      "KELLY - HIT 40: Annotating the splits is causing the interface to glitch and annotations stop working.\n",
      "\n",
      "VISHNESH - HIT 53: No simplifications\n",
      "\n",
      "\n",
      "VISHNESH - HIT 57: \n",
      "\n",
      "VISHNESH - HIT 60: Was not able to select split edit as a structure edit.\n",
      "\n",
      "VISHNESH - HIT 63: No simplification\n",
      "\n",
      "VISHNESH - HIT 71: Fluency seems a bit off.\n",
      "Something like \"but did not have details\" would be better.\n",
      "\n",
      "VISHNESH - HIT 72: Deleting this makes it look like a trial itself had not been determined which kind of contradicts the first part of the sentence.\n",
      "\n",
      "VISHNESH - HIT 80: No simplification\n",
      "\n",
      "VISHNESH - HIT 86: collapsed was substituted as collaped. Not sure why this typo arose but I labelled it a grammatical error.\n",
      "\n",
      "Marked the structural change as a bad one because it sounds incorrect to say \"she suffered from a tonsillar cyst\" compared to \"she had a tonsillar cyst\"\n",
      "\n",
      "VISHNESH - HIT 93: No simplification\n",
      "\n",
      "VISHNESH - HIT 94: I think that complex and building are not interchangeable so I marked it as a bad substitution. Building complexes usually refer to a much larger group of buildings.\n",
      "\n",
      "RACHEL - HIT 134: \"Between\" would have been a good substitution, but not having the two events in chronological order makes the sentence more difficult to understand. \n",
      "\n",
      "RACHEL - HIT 135: Editing the split causes the sentence to freeze. \n",
      "Split\n",
      "Negative Impact\n",
      "Severity- Minor\n",
      "No grammar error\n",
      "\"This was\"- part of split edit\n",
      "Trivial Insertion\n",
      "No grammar error\n",
      "\n",
      "VINAYAK - HIT 127: Should be a structure change for the substitution of \"the arrival of\" to \"came into the area\" and the reorder of \"the storm\". The structure change should have been a bad structure change, with a severity of \"somewhat.\" \n",
      "\n",
      "VISHNESH - HIT 129: Was not sure how to annotate the missing comma which causes a grammatical error so I annotated it as an insertion for arrived.\n",
      "\n",
      "VISHNESH - HIT 137: Was not sure if this was a structural change in the latter half of the sentence.\n",
      "\n"
     ]
    }
   ],
   "source": [
    "# Print spans with comments\n",
    "get_comments(data)"
   ]
  },
  {
   "cell_type": "code",
   "execution_count": 3,
   "metadata": {},
   "outputs": [],
   "source": [
    "# The systems we looked at\n",
    "systems = set([x['system'] for x in data])\n",
    "\n",
    "# Edit types\n",
    "edit_types = set(data[0]['annotations'].keys())"
   ]
  },
  {
   "cell_type": "code",
   "execution_count": 4,
   "metadata": {},
   "outputs": [
    {
     "name": "stdout",
     "output_type": "stream",
     "text": [
      "Couldn't process coreference error for deletion: ['perfect', '', 'no']. Assuming 'no'...\n",
      "Couldn't process coreference error for deletion: ['perfect', '', 'no']. Assuming 'no'...\n",
      "{'edit_type': 'deletion', 'id': 1, 'information_impact': <Information.LESS: 'Less Information'>, 'type': <Quality.ERROR: 'Error'>, 'grammar_error': False, 'error_type': <Error.COREFERENCE: 'Coreference'>, 'rating': 1, 'size': 4}\n",
      "{'edit_type': 'deletion', 'id': 0, 'information_impact': <Information.LESS: 'Less Information'>, 'type': <Quality.ERROR: 'Error'>, 'grammar_error': False, 'error_type': <Error.COREFERENCE: 'Coreference'>, 'rating': 0, 'size': 2}\n",
      "{'edit_type': 'deletion', 'id': 0, 'information_impact': <Information.LESS: 'Less Information'>, 'type': <Quality.ERROR: 'Error'>, 'grammar_error': True, 'error_type': <Error.COREFERENCE: 'Coreference'>, 'rating': 1, 'size': 25}\n"
     ]
    }
   ],
   "source": [
    "# Example: Searches for coreference errors\n",
    "deletions = [process_annotation(k) for k in [i for j in [[x for x in sent['edits'] if x['type'] == 'deletion'] for sent in data] for i in j]]\n",
    "for d in deletions:\n",
    "    if d['error_type'] == Error.COREFERENCE:\n",
    "        print(d)"
   ]
  },
  {
   "cell_type": "code",
   "execution_count": 5,
   "metadata": {},
   "outputs": [
    {
     "data": {
      "text/plain": [
       "[{'edit_type': 'deletion',\n",
       "  'id': 0,\n",
       "  'information_impact': <Information.LESS: 'Less Information'>,\n",
       "  'type': <Quality.QUALITY: 'No Error'>,\n",
       "  'grammar_error': True,\n",
       "  'error_type': None,\n",
       "  'rating': 2,\n",
       "  'size': 0.09278350515463918,\n",
       "  'score': -2.9932336588376685}]"
      ]
     },
     "execution_count": 5,
     "metadata": {},
     "output_type": "execute_result"
    }
   ],
   "source": [
    "# Example: Annotations for sentence 0\n",
    "data[0]['processed_annotations']"
   ]
  },
  {
   "cell_type": "code",
   "execution_count": 6,
   "metadata": {},
   "outputs": [
    {
     "data": {
      "text/plain": [
       "[{'type': 'deletion',\n",
       "  'id': 0,\n",
       "  'original_span': [(11, 20)],\n",
       "  'simplified_span': None,\n",
       "  'annotation': ['good', 'yes', 'no']}]"
      ]
     },
     "execution_count": 6,
     "metadata": {},
     "output_type": "execute_result"
    }
   ],
   "source": [
    "# Example: Edits for sentence 0\n",
    "data[0]['edits']"
   ]
  },
  {
   "cell_type": "code",
   "execution_count": 7,
   "metadata": {},
   "outputs": [],
   "source": [
    "# Example: Agreement between annotators on edit types\n",
    "# for edit_type in ['deletion', 'insertion', 'reorder', 'substitution']:\n",
    "#     print(f'{edit_type} -> {calculate_agreement(data, edit_type, drop_no_spans=True)}')"
   ]
  },
  {
   "cell_type": "code",
   "execution_count": 27,
   "metadata": {},
   "outputs": [
    {
     "name": "stdout",
     "output_type": "stream",
     "text": [
      "12\n",
      "[{'type': 'substitution', 'id': 0, 'original_span': [(87, 92)], 'simplified_span': [(49, 52)], 'annotation': ['same', 'no', '', '', 'no']}]\n",
      "{'edit_type': 'substitution', 'id': 0, 'information_impact': <Information.SAME: 'Same Information'>, 'type': <Quality.TRIVIAL: 'Trivial'>, 'grammar_error': False, 'error_type': None, 'rating': None, 'size': 0.015151515151515152, 'score': 0.0}\n",
      "new_systems/asset.test.simp.second\n",
      "new_systems/asset.test.simp.second\n",
      "anton\n",
      "27\n",
      "[{'type': 'substitution', 'id': 0, 'original_span': [(9, 21)], 'simplified_span': [(9, 14)], 'annotation': ['same', 'positive', 'a lot', '', 'no']}]\n",
      "{'edit_type': 'reorder', 'id': 0, 'information_impact': <Information.SAME: 'Same Information'>, 'type': <Quality.TRIVIAL: 'Trivial'>, 'grammar_error': False, 'error_type': None, 'rating': None, 'size': 0.01, 'score': 0.0}\n",
      "systems/T5.txt\n",
      "systems/T5.txt\n",
      "anton\n",
      "28\n",
      "[{'type': 'substitution', 'id': 0, 'original_span': [(9, 21)], 'simplified_span': [(15, 20)], 'annotation': ['same', 'positive', 'a lot', '', 'no']}]\n",
      "{'edit_type': 'reorder', 'id': 0, 'information_impact': <Information.SAME: 'Same Information'>, 'type': <Quality.TRIVIAL: 'Trivial'>, 'grammar_error': False, 'error_type': None, 'rating': None, 'size': 0.01, 'score': 0.0}\n",
      "systems/con_simplification.txt\n",
      "systems/con_simplification.txt\n",
      "anton\n",
      "35\n",
      "[{'type': 'substitution', 'id': 0, 'original_span': [(27, 39)], 'simplified_span': [(27, 39)], 'annotation': ['same', 'no', '', '', 'no']}]\n",
      "{'edit_type': 'substitution', 'id': 0, 'information_impact': <Information.SAME: 'Same Information'>, 'type': <Quality.TRIVIAL: 'Trivial'>, 'grammar_error': False, 'error_type': None, 'rating': None, 'size': 0.0, 'score': 0.0}\n",
      "systems/con_simplification.txt\n",
      "systems/con_simplification.txt\n",
      "anton\n",
      "38\n",
      "[{'type': 'substitution', 'id': 0, 'original_span': [(43, 51)], 'simplified_span': [(68, 75)], 'annotation': ['same', 'no', '', '', 'no']}, {'type': 'substitution', 'id': 1, 'original_span': [(72, 85)], 'simplified_span': [(99, 108)], 'annotation': ['same', 'positive', 'a lot', '', 'no']}]\n",
      "{'edit_type': 'substitution', 'id': 0, 'information_impact': <Information.SAME: 'Same Information'>, 'type': <Quality.TRIVIAL: 'Trivial'>, 'grammar_error': False, 'error_type': None, 'rating': None, 'size': 0.006993006993006993, 'score': 0.0}\n",
      "new_systems/turk_corpus_random.txt\n",
      "new_systems/turk_corpus_random.txt\n",
      "anton\n",
      "38\n",
      "[{'type': 'substitution', 'id': 0, 'original_span': [(43, 51)], 'simplified_span': [(68, 75)], 'annotation': ['same', 'no', '', '', 'no']}, {'type': 'substitution', 'id': 1, 'original_span': [(72, 85)], 'simplified_span': [(99, 108)], 'annotation': ['same', 'positive', 'a lot', '', 'no']}]\n",
      "{'edit_type': 'split', 'id': 1, 'information_impact': <Information.SAME: 'Same Information'>, 'type': <Quality.TRIVIAL: 'Trivial'>, 'grammar_error': False, 'error_type': None, 'rating': None, 'size': 0.06993006993006994, 'score': 0.0}\n",
      "new_systems/turk_corpus_random.txt\n",
      "new_systems/turk_corpus_random.txt\n",
      "anton\n",
      "1\n",
      "[{'type': 'substitution', 'id': 0, 'original_span': [(11, 20)], 'simplified_span': [(7, 13)], 'annotation': ['same', 'no', '', '', 'no']}]\n",
      "{'edit_type': 'substitution', 'id': 0, 'information_impact': <Information.SAME: 'Same Information'>, 'type': <Quality.TRIVIAL: 'Trivial'>, 'grammar_error': False, 'error_type': None, 'rating': None, 'size': 0.030927835051546393, 'score': 0.0}\n",
      "systems/asset.test.simp\n",
      "systems/asset.test.simp\n",
      "ayush\n",
      "2\n",
      "[{'type': 'substitution', 'id': 0, 'original_span': [(11, 20)], 'simplified_span': [(11, 17)], 'annotation': ['same', 'no', '', '', 'no']}]\n",
      "{'edit_type': 'substitution', 'id': 0, 'information_impact': <Information.SAME: 'Same Information'>, 'type': <Quality.TRIVIAL: 'Trivial'>, 'grammar_error': False, 'error_type': None, 'rating': None, 'size': 0.030927835051546393, 'score': 0.0}\n",
      "systems/con_simplification.txt\n",
      "systems/con_simplification.txt\n",
      "ayush\n",
      "3\n",
      "[{'type': 'substitution', 'id': 0, 'original_span': [(11, 20)], 'simplified_span': [(11, 17)], 'annotation': ['same', 'no', '', '', 'no']}, {'type': 'substitution', 'id': 1, 'original_span': [(54, 65)], 'simplified_span': [(41, 56)], 'annotation': ['same', 'no', '', '', 'no']}, {'type': 'substitution', 'id': 2, 'original_span': [(69, 87)], 'simplified_span': [(60, 83)], 'annotation': ['same', 'no', '', '', 'no']}]\n",
      "{'edit_type': 'substitution', 'id': 0, 'information_impact': <Information.SAME: 'Same Information'>, 'type': <Quality.TRIVIAL: 'Trivial'>, 'grammar_error': False, 'error_type': None, 'rating': None, 'size': 0.030927835051546393, 'score': 0.0}\n",
      "systems/T5.txt\n",
      "systems/T5.txt\n",
      "ayush\n",
      "3\n",
      "[{'type': 'substitution', 'id': 0, 'original_span': [(11, 20)], 'simplified_span': [(11, 17)], 'annotation': ['same', 'no', '', '', 'no']}, {'type': 'substitution', 'id': 1, 'original_span': [(54, 65)], 'simplified_span': [(41, 56)], 'annotation': ['same', 'no', '', '', 'no']}, {'type': 'substitution', 'id': 2, 'original_span': [(69, 87)], 'simplified_span': [(60, 83)], 'annotation': ['same', 'no', '', '', 'no']}]\n",
      "{'edit_type': 'substitution', 'id': 1, 'information_impact': <Information.SAME: 'Same Information'>, 'type': <Quality.TRIVIAL: 'Trivial'>, 'grammar_error': False, 'error_type': None, 'rating': None, 'size': 0.041237113402061855, 'score': 0.0}\n",
      "systems/T5.txt\n",
      "systems/T5.txt\n",
      "ayush\n",
      "3\n",
      "[{'type': 'substitution', 'id': 0, 'original_span': [(11, 20)], 'simplified_span': [(11, 17)], 'annotation': ['same', 'no', '', '', 'no']}, {'type': 'substitution', 'id': 1, 'original_span': [(54, 65)], 'simplified_span': [(41, 56)], 'annotation': ['same', 'no', '', '', 'no']}, {'type': 'substitution', 'id': 2, 'original_span': [(69, 87)], 'simplified_span': [(60, 83)], 'annotation': ['same', 'no', '', '', 'no']}]\n",
      "{'edit_type': 'substitution', 'id': 2, 'information_impact': <Information.SAME: 'Same Information'>, 'type': <Quality.TRIVIAL: 'Trivial'>, 'grammar_error': False, 'error_type': None, 'rating': None, 'size': 0.05154639175257732, 'score': 0.0}\n",
      "systems/T5.txt\n",
      "systems/T5.txt\n",
      "ayush\n",
      "5\n",
      "[{'type': 'substitution', 'id': 0, 'original_span': [(12, 58)], 'simplified_span': [(13, 59)], 'annotation': ['same', 'no', '', '', 'yes']}, {'type': 'substitution', 'id': 1, 'original_span': [(73, 77)], 'simplified_span': [(74, 78)], 'annotation': ['same', 'no', '', '', 'yes']}, {'type': 'substitution', 'id': 2, 'original_span': [(91, 99)], 'simplified_span': [(92, 100)], 'annotation': ['same', 'no', '', '', 'yes']}, {'type': 'substitution', 'id': 3, 'original_span': [(121, 147)], 'simplified_span': [(118, 123)], 'annotation': ['same', 'positive', 'somewhat', '', 'yes']}]\n",
      "{'edit_type': 'substitution', 'id': 0, 'information_impact': <Information.SAME: 'Same Information'>, 'type': <Quality.TRIVIAL: 'Trivial'>, 'grammar_error': True, 'error_type': None, 'rating': None, 'size': 0.0, 'score': -0.0}\n",
      "systems/con_simplification.txt\n",
      "systems/con_simplification.txt\n",
      "ayush\n",
      "5\n",
      "[{'type': 'substitution', 'id': 0, 'original_span': [(12, 58)], 'simplified_span': [(13, 59)], 'annotation': ['same', 'no', '', '', 'yes']}, {'type': 'substitution', 'id': 1, 'original_span': [(73, 77)], 'simplified_span': [(74, 78)], 'annotation': ['same', 'no', '', '', 'yes']}, {'type': 'substitution', 'id': 2, 'original_span': [(91, 99)], 'simplified_span': [(92, 100)], 'annotation': ['same', 'no', '', '', 'yes']}, {'type': 'substitution', 'id': 3, 'original_span': [(121, 147)], 'simplified_span': [(118, 123)], 'annotation': ['same', 'positive', 'somewhat', '', 'yes']}]\n",
      "{'edit_type': 'substitution', 'id': 1, 'information_impact': <Information.SAME: 'Same Information'>, 'type': <Quality.TRIVIAL: 'Trivial'>, 'grammar_error': True, 'error_type': None, 'rating': None, 'size': 0.0, 'score': -0.0}\n",
      "systems/con_simplification.txt\n",
      "systems/con_simplification.txt\n",
      "ayush\n",
      "5\n",
      "[{'type': 'substitution', 'id': 0, 'original_span': [(12, 58)], 'simplified_span': [(13, 59)], 'annotation': ['same', 'no', '', '', 'yes']}, {'type': 'substitution', 'id': 1, 'original_span': [(73, 77)], 'simplified_span': [(74, 78)], 'annotation': ['same', 'no', '', '', 'yes']}, {'type': 'substitution', 'id': 2, 'original_span': [(91, 99)], 'simplified_span': [(92, 100)], 'annotation': ['same', 'no', '', '', 'yes']}, {'type': 'substitution', 'id': 3, 'original_span': [(121, 147)], 'simplified_span': [(118, 123)], 'annotation': ['same', 'positive', 'somewhat', '', 'yes']}]\n",
      "{'edit_type': 'substitution', 'id': 2, 'information_impact': <Information.SAME: 'Same Information'>, 'type': <Quality.TRIVIAL: 'Trivial'>, 'grammar_error': True, 'error_type': None, 'rating': None, 'size': 0.0, 'score': -0.0}\n",
      "systems/con_simplification.txt\n",
      "systems/con_simplification.txt\n",
      "ayush\n",
      "8\n",
      "[]\n",
      "{'edit_type': 'reorder', 'id': 0, 'information_impact': <Information.SAME: 'Same Information'>, 'type': <Quality.TRIVIAL: 'Trivial'>, 'grammar_error': False, 'error_type': None, 'rating': None, 'size': 0.00625, 'score': 0.0}\n",
      "new_systems/asset.test.simp.second\n",
      "new_systems/asset.test.simp.second\n",
      "ayush\n",
      "12\n",
      "[{'type': 'substitution', 'id': 0, 'original_span': [(87, 92)], 'simplified_span': [(49, 52)], 'annotation': ['same', 'no', '', '', 'no']}]\n",
      "{'edit_type': 'substitution', 'id': 0, 'information_impact': <Information.SAME: 'Same Information'>, 'type': <Quality.TRIVIAL: 'Trivial'>, 'grammar_error': False, 'error_type': None, 'rating': None, 'size': 0.015151515151515152, 'score': 0.0}\n",
      "new_systems/asset.test.simp.second\n",
      "new_systems/asset.test.simp.second\n",
      "ayush\n",
      "14\n",
      "[{'type': 'substitution', 'id': 0, 'original_span': [(77, 86)], 'simplified_span': [(88, 95)], 'annotation': ['different', 'somewhat', 'no']}, {'type': 'substitution', 'id': 1, 'original_span': [(87, 92)], 'simplified_span': [(96, 99)], 'annotation': ['different', 'minor', 'no']}, {'type': 'substitution', 'id': 2, 'original_span': [(123, 132)], 'simplified_span': [(130, 136)], 'annotation': ['same', 'no', '', '', 'no']}]\n",
      "{'edit_type': 'substitution', 'id': 2, 'information_impact': <Information.SAME: 'Same Information'>, 'type': <Quality.TRIVIAL: 'Trivial'>, 'grammar_error': False, 'error_type': None, 'rating': None, 'size': 0.022727272727272728, 'score': 0.0}\n",
      "systems/T5.txt\n",
      "systems/T5.txt\n",
      "ayush\n",
      "15\n",
      "[{'type': 'substitution', 'id': 0, 'original_span': [(45, 67)], 'simplified_span': [(27, 48)], 'annotation': ['same', 'no', '', '', 'yes']}, {'type': 'substitution', 'id': 1, 'original_span': [(71, 85)], 'simplified_span': [(54, 64)], 'annotation': ['less', 'perfect', 'yes', '']}]\n",
      "{'edit_type': 'substitution', 'id': 0, 'information_impact': <Information.SAME: 'Same Information'>, 'type': <Quality.TRIVIAL: 'Trivial'>, 'grammar_error': True, 'error_type': None, 'rating': None, 'size': 0.011764705882352941, 'score': -0.0}\n",
      "systems/con_simplification.txt\n",
      "systems/con_simplification.txt\n",
      "ayush\n",
      "18\n",
      "[{'type': 'substitution', 'id': 0, 'original_span': [(13, 16)], 'simplified_span': [(13, 14)], 'annotation': ['same', 'no', '', '', 'no']}]\n",
      "{'edit_type': 'substitution', 'id': 0, 'information_impact': <Information.SAME: 'Same Information'>, 'type': <Quality.TRIVIAL: 'Trivial'>, 'grammar_error': False, 'error_type': None, 'rating': None, 'size': 0.023529411764705882, 'score': 0.0}\n",
      "systems/T5.txt\n",
      "systems/T5.txt\n",
      "ayush\n",
      "23\n",
      "[{'type': 'substitution', 'id': 0, 'original_span': [(4, 53)], 'simplified_span': [(4, 53)], 'annotation': ['same', 'no', '', '', 'yes']}, {'type': 'substitution', 'id': 1, 'original_span': [(100, 131)], 'simplified_span': [(83, 117)], 'annotation': ['different', 'very', 'no']}]\n",
      "{'edit_type': 'substitution', 'id': 0, 'information_impact': <Information.SAME: 'Same Information'>, 'type': <Quality.TRIVIAL: 'Trivial'>, 'grammar_error': True, 'error_type': None, 'rating': None, 'size': 0.0, 'score': -0.0}\n",
      "systems/con_simplification.txt\n",
      "systems/con_simplification.txt\n",
      "ayush\n",
      "27\n",
      "[{'type': 'substitution', 'id': 0, 'original_span': [(9, 21)], 'simplified_span': [(9, 14)], 'annotation': ['same', 'positive', 'minor', '', 'no']}]\n",
      "{'edit_type': 'reorder', 'id': 0, 'information_impact': <Information.SAME: 'Same Information'>, 'type': <Quality.TRIVIAL: 'Trivial'>, 'grammar_error': False, 'error_type': None, 'rating': None, 'size': 0.01, 'score': 0.0}\n",
      "systems/T5.txt\n",
      "systems/T5.txt\n",
      "ayush\n",
      "28\n",
      "[{'type': 'substitution', 'id': 0, 'original_span': [(9, 21)], 'simplified_span': [(9, 20)], 'annotation': ['more', 'elaboration', 'somewhat', 'no']}, {'type': 'substitution', 'id': 1, 'original_span': [(29, 40)], 'simplified_span': [(28, 39)], 'annotation': ['same', 'no', '', '', 'yes']}, {'type': 'substitution', 'id': 2, 'original_span': [(55, 91)], 'simplified_span': [(62, 99)], 'annotation': ['same', 'no', '', '', 'yes']}]\n",
      "{'edit_type': 'substitution', 'id': 1, 'information_impact': <Information.SAME: 'Same Information'>, 'type': <Quality.TRIVIAL: 'Trivial'>, 'grammar_error': True, 'error_type': None, 'rating': None, 'size': 0.0, 'score': -0.0}\n",
      "systems/con_simplification.txt\n",
      "systems/con_simplification.txt\n",
      "ayush\n",
      "28\n",
      "[{'type': 'substitution', 'id': 0, 'original_span': [(9, 21)], 'simplified_span': [(9, 20)], 'annotation': ['more', 'elaboration', 'somewhat', 'no']}, {'type': 'substitution', 'id': 1, 'original_span': [(29, 40)], 'simplified_span': [(28, 39)], 'annotation': ['same', 'no', '', '', 'yes']}, {'type': 'substitution', 'id': 2, 'original_span': [(55, 91)], 'simplified_span': [(62, 99)], 'annotation': ['same', 'no', '', '', 'yes']}]\n",
      "{'edit_type': 'substitution', 'id': 2, 'information_impact': <Information.SAME: 'Same Information'>, 'type': <Quality.TRIVIAL: 'Trivial'>, 'grammar_error': True, 'error_type': None, 'rating': None, 'size': 0.01, 'score': -0.0}\n",
      "systems/con_simplification.txt\n",
      "systems/con_simplification.txt\n",
      "ayush\n",
      "28\n",
      "[{'type': 'substitution', 'id': 0, 'original_span': [(9, 21)], 'simplified_span': [(9, 20)], 'annotation': ['more', 'elaboration', 'somewhat', 'no']}, {'type': 'substitution', 'id': 1, 'original_span': [(29, 40)], 'simplified_span': [(28, 39)], 'annotation': ['same', 'no', '', '', 'yes']}, {'type': 'substitution', 'id': 2, 'original_span': [(55, 91)], 'simplified_span': [(62, 99)], 'annotation': ['same', 'no', '', '', 'yes']}]\n",
      "{'edit_type': 'reorder', 'id': 0, 'information_impact': <Information.SAME: 'Same Information'>, 'type': <Quality.TRIVIAL: 'Trivial'>, 'grammar_error': False, 'error_type': None, 'rating': None, 'size': 0.01, 'score': 0.0}\n",
      "systems/con_simplification.txt\n",
      "systems/con_simplification.txt\n",
      "ayush\n",
      "29\n",
      "[]\n",
      "{'edit_type': 'structure', 'id': 0, 'information_impact': <Information.SAME: 'Same Information'>, 'type': <Quality.TRIVIAL: 'Trivial'>, 'grammar_error': False, 'error_type': None, 'rating': None, 'size': 0.02, 'score': 0.0}\n",
      "new_systems/turk_corpus_random.txt\n",
      "new_systems/turk_corpus_random.txt\n",
      "ayush\n",
      "32\n",
      "[{'type': 'substitution', 'id': 0, 'original_span': [(11, 18)], 'simplified_span': [(11, 18)], 'annotation': ['same', 'no', '', '', 'yes']}]\n",
      "{'edit_type': 'substitution', 'id': 0, 'information_impact': <Information.SAME: 'Same Information'>, 'type': <Quality.TRIVIAL: 'Trivial'>, 'grammar_error': True, 'error_type': None, 'rating': None, 'size': 0.0, 'score': -0.0}\n",
      "systems/con_simplification.txt\n",
      "systems/con_simplification.txt\n",
      "ayush\n",
      "32\n",
      "[{'type': 'substitution', 'id': 0, 'original_span': [(11, 18)], 'simplified_span': [(11, 18)], 'annotation': ['same', 'no', '', '', 'yes']}]\n",
      "{'edit_type': 'structure', 'id': 0, 'information_impact': <Information.SAME: 'Same Information'>, 'type': <Quality.TRIVIAL: 'Trivial'>, 'grammar_error': False, 'error_type': None, 'rating': None, 'size': 0.0449438202247191, 'score': 0.0}\n",
      "systems/con_simplification.txt\n",
      "systems/con_simplification.txt\n",
      "ayush\n",
      "35\n",
      "[{'type': 'substitution', 'id': 0, 'original_span': [(27, 39)], 'simplified_span': [(27, 39)], 'annotation': ['same', 'no', '', '', 'no']}]\n",
      "{'edit_type': 'substitution', 'id': 0, 'information_impact': <Information.SAME: 'Same Information'>, 'type': <Quality.TRIVIAL: 'Trivial'>, 'grammar_error': False, 'error_type': None, 'rating': None, 'size': 0.0, 'score': 0.0}\n",
      "systems/con_simplification.txt\n",
      "systems/con_simplification.txt\n",
      "ayush\n",
      "36\n",
      "[{'type': 'substitution', 'id': 0, 'original_span': [(68, 100)], 'simplified_span': [(80, 94)], 'annotation': ['same', 'positive', 'somewhat', '', 'no']}]\n",
      "{'edit_type': 'reorder', 'id': 0, 'information_impact': <Information.SAME: 'Same Information'>, 'type': <Quality.TRIVIAL: 'Trivial'>, 'grammar_error': False, 'error_type': None, 'rating': None, 'size': 0.06293706293706294, 'score': 0.0}\n",
      "systems/T5.txt\n",
      "systems/T5.txt\n",
      "ayush\n",
      "38\n",
      "[{'type': 'substitution', 'id': 0, 'original_span': [(15, 21)], 'simplified_span': [(16, 33)], 'annotation': ['same', 'negative', '', 'somewhat', 'no']}, {'type': 'substitution', 'id': 1, 'original_span': [(43, 51)], 'simplified_span': [(68, 75)], 'annotation': ['same', 'no', '', '', 'no']}, {'type': 'substitution', 'id': 2, 'original_span': [(68, 85)], 'simplified_span': [(99, 111)], 'annotation': ['same', 'positive', 'somewhat', '', 'no']}]\n",
      "{'edit_type': 'substitution', 'id': 1, 'information_impact': <Information.SAME: 'Same Information'>, 'type': <Quality.TRIVIAL: 'Trivial'>, 'grammar_error': False, 'error_type': None, 'rating': None, 'size': 0.006993006993006993, 'score': 0.0}\n",
      "new_systems/turk_corpus_random.txt\n",
      "new_systems/turk_corpus_random.txt\n",
      "ayush\n",
      "39\n",
      "[{'type': 'substitution', 'id': 0, 'original_span': [(9, 21)], 'simplified_span': [(9, 35)], 'annotation': ['same', 'negative', '', 'somewhat', 'no']}, {'type': 'substitution', 'id': 1, 'original_span': [(55, 67)], 'simplified_span': [(74, 80)], 'annotation': ['less', 'bad', 'no', 'no']}, {'type': 'substitution', 'id': 2, 'original_span': [(68, 100)], 'simplified_span': [(84, 100)], 'annotation': ['same', 'no', '', 'minor', 'no']}]\n",
      "{'edit_type': 'substitution', 'id': 2, 'information_impact': <Information.SAME: 'Same Information'>, 'type': <Quality.TRIVIAL: 'Trivial'>, 'grammar_error': False, 'error_type': None, 'rating': None, 'size': 0.11188811188811189, 'score': 0.0}\n",
      "new_systems/asset.test.simp.second\n",
      "new_systems/asset.test.simp.second\n",
      "ayush\n",
      "40\n",
      "[{'type': 'substitution', 'id': 0, 'original_span': [(17, 32)], 'simplified_span': [(6, 23)], 'annotation': ['same', 'positive', 'somewhat', '', 'no']}, {'type': 'substitution', 'id': 1, 'original_span': [(42, 68)], 'simplified_span': [(33, 51)], 'annotation': ['same', 'no', '', '', 'no']}, {'type': 'substitution', 'id': 2, 'original_span': [(73, 82)], 'simplified_span': [(56, 62)], 'annotation': ['same', 'no', '', '', 'no']}, {'type': 'substitution', 'id': 3, 'original_span': [(155, 169)], 'simplified_span': [(97, 105)], 'annotation': ['same', 'positive', 'minor', '', 'no']}]\n",
      "{'edit_type': 'substitution', 'id': 1, 'information_impact': <Information.SAME: 'Same Information'>, 'type': <Quality.TRIVIAL: 'Trivial'>, 'grammar_error': False, 'error_type': None, 'rating': None, 'size': 0.047337278106508875, 'score': 0.0}\n",
      "systems/asset.test.simp\n",
      "systems/asset.test.simp\n",
      "ayush\n",
      "40\n",
      "[{'type': 'substitution', 'id': 0, 'original_span': [(17, 32)], 'simplified_span': [(6, 23)], 'annotation': ['same', 'positive', 'somewhat', '', 'no']}, {'type': 'substitution', 'id': 1, 'original_span': [(42, 68)], 'simplified_span': [(33, 51)], 'annotation': ['same', 'no', '', '', 'no']}, {'type': 'substitution', 'id': 2, 'original_span': [(73, 82)], 'simplified_span': [(56, 62)], 'annotation': ['same', 'no', '', '', 'no']}, {'type': 'substitution', 'id': 3, 'original_span': [(155, 169)], 'simplified_span': [(97, 105)], 'annotation': ['same', 'positive', 'minor', '', 'no']}]\n",
      "{'edit_type': 'substitution', 'id': 2, 'information_impact': <Information.SAME: 'Same Information'>, 'type': <Quality.TRIVIAL: 'Trivial'>, 'grammar_error': False, 'error_type': None, 'rating': None, 'size': 0.01775147928994083, 'score': 0.0}\n",
      "systems/asset.test.simp\n",
      "systems/asset.test.simp\n",
      "ayush\n",
      "41\n",
      "[{'type': 'substitution', 'id': 0, 'original_span': [(11, 16)], 'simplified_span': [(11, 16)], 'annotation': ['same', 'no', '', '', 'yes']}, {'type': 'substitution', 'id': 1, 'original_span': [(33, 41)], 'simplified_span': [(33, 40)], 'annotation': ['same', 'no', '', '', 'yes']}, {'type': 'substitution', 'id': 2, 'original_span': [(55, 68)], 'simplified_span': [(56, 68)], 'annotation': ['same', 'no', '', '', 'yes']}, {'type': 'substitution', 'id': 3, 'original_span': [(73, 82)], 'simplified_span': [(75, 80)], 'annotation': ['same', 'positive', 'somewhat', '', 'no']}, {'type': 'substitution', 'id': 4, 'original_span': [(116, 122)], 'simplified_span': [(114, 120)], 'annotation': ['same', 'no', '', '', 'yes']}, {'type': 'substitution', 'id': 5, 'original_span': [(155, 161)], 'simplified_span': [(153, 159)], 'annotation': ['same', 'no', '', '', 'yes']}]\n",
      "{'edit_type': 'substitution', 'id': 0, 'information_impact': <Information.SAME: 'Same Information'>, 'type': <Quality.TRIVIAL: 'Trivial'>, 'grammar_error': True, 'error_type': None, 'rating': None, 'size': 0.0, 'score': -0.0}\n",
      "systems/con_simplification.txt\n",
      "systems/con_simplification.txt\n",
      "ayush\n",
      "41\n",
      "[{'type': 'substitution', 'id': 0, 'original_span': [(11, 16)], 'simplified_span': [(11, 16)], 'annotation': ['same', 'no', '', '', 'yes']}, {'type': 'substitution', 'id': 1, 'original_span': [(33, 41)], 'simplified_span': [(33, 40)], 'annotation': ['same', 'no', '', '', 'yes']}, {'type': 'substitution', 'id': 2, 'original_span': [(55, 68)], 'simplified_span': [(56, 68)], 'annotation': ['same', 'no', '', '', 'yes']}, {'type': 'substitution', 'id': 3, 'original_span': [(73, 82)], 'simplified_span': [(75, 80)], 'annotation': ['same', 'positive', 'somewhat', '', 'no']}, {'type': 'substitution', 'id': 4, 'original_span': [(116, 122)], 'simplified_span': [(114, 120)], 'annotation': ['same', 'no', '', '', 'yes']}, {'type': 'substitution', 'id': 5, 'original_span': [(155, 161)], 'simplified_span': [(153, 159)], 'annotation': ['same', 'no', '', '', 'yes']}]\n",
      "{'edit_type': 'substitution', 'id': 1, 'information_impact': <Information.SAME: 'Same Information'>, 'type': <Quality.TRIVIAL: 'Trivial'>, 'grammar_error': True, 'error_type': None, 'rating': None, 'size': 0.005917159763313609, 'score': -0.0}\n",
      "systems/con_simplification.txt\n",
      "systems/con_simplification.txt\n",
      "ayush\n",
      "41\n",
      "[{'type': 'substitution', 'id': 0, 'original_span': [(11, 16)], 'simplified_span': [(11, 16)], 'annotation': ['same', 'no', '', '', 'yes']}, {'type': 'substitution', 'id': 1, 'original_span': [(33, 41)], 'simplified_span': [(33, 40)], 'annotation': ['same', 'no', '', '', 'yes']}, {'type': 'substitution', 'id': 2, 'original_span': [(55, 68)], 'simplified_span': [(56, 68)], 'annotation': ['same', 'no', '', '', 'yes']}, {'type': 'substitution', 'id': 3, 'original_span': [(73, 82)], 'simplified_span': [(75, 80)], 'annotation': ['same', 'positive', 'somewhat', '', 'no']}, {'type': 'substitution', 'id': 4, 'original_span': [(116, 122)], 'simplified_span': [(114, 120)], 'annotation': ['same', 'no', '', '', 'yes']}, {'type': 'substitution', 'id': 5, 'original_span': [(155, 161)], 'simplified_span': [(153, 159)], 'annotation': ['same', 'no', '', '', 'yes']}]\n",
      "{'edit_type': 'substitution', 'id': 2, 'information_impact': <Information.SAME: 'Same Information'>, 'type': <Quality.TRIVIAL: 'Trivial'>, 'grammar_error': True, 'error_type': None, 'rating': None, 'size': 0.005917159763313609, 'score': -0.0}\n",
      "systems/con_simplification.txt\n",
      "systems/con_simplification.txt\n",
      "ayush\n",
      "41\n",
      "[{'type': 'substitution', 'id': 0, 'original_span': [(11, 16)], 'simplified_span': [(11, 16)], 'annotation': ['same', 'no', '', '', 'yes']}, {'type': 'substitution', 'id': 1, 'original_span': [(33, 41)], 'simplified_span': [(33, 40)], 'annotation': ['same', 'no', '', '', 'yes']}, {'type': 'substitution', 'id': 2, 'original_span': [(55, 68)], 'simplified_span': [(56, 68)], 'annotation': ['same', 'no', '', '', 'yes']}, {'type': 'substitution', 'id': 3, 'original_span': [(73, 82)], 'simplified_span': [(75, 80)], 'annotation': ['same', 'positive', 'somewhat', '', 'no']}, {'type': 'substitution', 'id': 4, 'original_span': [(116, 122)], 'simplified_span': [(114, 120)], 'annotation': ['same', 'no', '', '', 'yes']}, {'type': 'substitution', 'id': 5, 'original_span': [(155, 161)], 'simplified_span': [(153, 159)], 'annotation': ['same', 'no', '', '', 'yes']}]\n",
      "{'edit_type': 'substitution', 'id': 4, 'information_impact': <Information.SAME: 'Same Information'>, 'type': <Quality.TRIVIAL: 'Trivial'>, 'grammar_error': True, 'error_type': None, 'rating': None, 'size': 0.0, 'score': -0.0}\n",
      "systems/con_simplification.txt\n",
      "systems/con_simplification.txt\n",
      "ayush\n",
      "41\n",
      "[{'type': 'substitution', 'id': 0, 'original_span': [(11, 16)], 'simplified_span': [(11, 16)], 'annotation': ['same', 'no', '', '', 'yes']}, {'type': 'substitution', 'id': 1, 'original_span': [(33, 41)], 'simplified_span': [(33, 40)], 'annotation': ['same', 'no', '', '', 'yes']}, {'type': 'substitution', 'id': 2, 'original_span': [(55, 68)], 'simplified_span': [(56, 68)], 'annotation': ['same', 'no', '', '', 'yes']}, {'type': 'substitution', 'id': 3, 'original_span': [(73, 82)], 'simplified_span': [(75, 80)], 'annotation': ['same', 'positive', 'somewhat', '', 'no']}, {'type': 'substitution', 'id': 4, 'original_span': [(116, 122)], 'simplified_span': [(114, 120)], 'annotation': ['same', 'no', '', '', 'yes']}, {'type': 'substitution', 'id': 5, 'original_span': [(155, 161)], 'simplified_span': [(153, 159)], 'annotation': ['same', 'no', '', '', 'yes']}]\n",
      "{'edit_type': 'substitution', 'id': 5, 'information_impact': <Information.SAME: 'Same Information'>, 'type': <Quality.TRIVIAL: 'Trivial'>, 'grammar_error': True, 'error_type': None, 'rating': None, 'size': 0.0, 'score': -0.0}\n",
      "systems/con_simplification.txt\n",
      "systems/con_simplification.txt\n",
      "ayush\n",
      "45\n",
      "[{'type': 'substitution', 'id': 0, 'original_span': [(4, 9)], 'simplified_span': [(4, 9)], 'annotation': ['same', 'no', '', '', 'yes']}, {'type': 'substitution', 'id': 1, 'original_span': [(10, 18)], 'simplified_span': [(10, 14)], 'annotation': ['same', 'positive', 'minor', '', 'no']}, {'type': 'substitution', 'id': 2, 'original_span': [(19, 26)], 'simplified_span': [(15, 22)], 'annotation': ['same', 'no', '', '', 'yes']}, {'type': 'substitution', 'id': 3, 'original_span': [(32, 37)], 'simplified_span': [(28, 33)], 'annotation': ['same', 'no', '', '', 'no']}, {'type': 'substitution', 'id': 4, 'original_span': [(63, 96)], 'simplified_span': [(59, 92)], 'annotation': ['same', 'no', '', '', 'yes']}, {'type': 'substitution', 'id': 5, 'original_span': [(132, 136)], 'simplified_span': [(99, 103)], 'annotation': ['same', 'no', '', '', 'yes']}, {'type': 'substitution', 'id': 6, 'original_span': [(141, 148)], 'simplified_span': [(108, 115)], 'annotation': ['same', 'no', '', '', 'yes']}, {'type': 'substitution', 'id': 7, 'original_span': [(156, 158)], 'simplified_span': [(123, 125)], 'annotation': ['same', 'no', '', '', 'yes']}]\n",
      "{'edit_type': 'substitution', 'id': 0, 'information_impact': <Information.SAME: 'Same Information'>, 'type': <Quality.TRIVIAL: 'Trivial'>, 'grammar_error': True, 'error_type': None, 'rating': None, 'size': 0.0, 'score': -0.0}\n",
      "systems/con_simplification.txt\n",
      "systems/con_simplification.txt\n",
      "ayush\n",
      "45\n",
      "[{'type': 'substitution', 'id': 0, 'original_span': [(4, 9)], 'simplified_span': [(4, 9)], 'annotation': ['same', 'no', '', '', 'yes']}, {'type': 'substitution', 'id': 1, 'original_span': [(10, 18)], 'simplified_span': [(10, 14)], 'annotation': ['same', 'positive', 'minor', '', 'no']}, {'type': 'substitution', 'id': 2, 'original_span': [(19, 26)], 'simplified_span': [(15, 22)], 'annotation': ['same', 'no', '', '', 'yes']}, {'type': 'substitution', 'id': 3, 'original_span': [(32, 37)], 'simplified_span': [(28, 33)], 'annotation': ['same', 'no', '', '', 'no']}, {'type': 'substitution', 'id': 4, 'original_span': [(63, 96)], 'simplified_span': [(59, 92)], 'annotation': ['same', 'no', '', '', 'yes']}, {'type': 'substitution', 'id': 5, 'original_span': [(132, 136)], 'simplified_span': [(99, 103)], 'annotation': ['same', 'no', '', '', 'yes']}, {'type': 'substitution', 'id': 6, 'original_span': [(141, 148)], 'simplified_span': [(108, 115)], 'annotation': ['same', 'no', '', '', 'yes']}, {'type': 'substitution', 'id': 7, 'original_span': [(156, 158)], 'simplified_span': [(123, 125)], 'annotation': ['same', 'no', '', '', 'yes']}]\n",
      "{'edit_type': 'substitution', 'id': 2, 'information_impact': <Information.SAME: 'Same Information'>, 'type': <Quality.TRIVIAL: 'Trivial'>, 'grammar_error': True, 'error_type': None, 'rating': None, 'size': 0.0, 'score': -0.0}\n",
      "systems/con_simplification.txt\n",
      "systems/con_simplification.txt\n",
      "ayush\n",
      "45\n",
      "[{'type': 'substitution', 'id': 0, 'original_span': [(4, 9)], 'simplified_span': [(4, 9)], 'annotation': ['same', 'no', '', '', 'yes']}, {'type': 'substitution', 'id': 1, 'original_span': [(10, 18)], 'simplified_span': [(10, 14)], 'annotation': ['same', 'positive', 'minor', '', 'no']}, {'type': 'substitution', 'id': 2, 'original_span': [(19, 26)], 'simplified_span': [(15, 22)], 'annotation': ['same', 'no', '', '', 'yes']}, {'type': 'substitution', 'id': 3, 'original_span': [(32, 37)], 'simplified_span': [(28, 33)], 'annotation': ['same', 'no', '', '', 'no']}, {'type': 'substitution', 'id': 4, 'original_span': [(63, 96)], 'simplified_span': [(59, 92)], 'annotation': ['same', 'no', '', '', 'yes']}, {'type': 'substitution', 'id': 5, 'original_span': [(132, 136)], 'simplified_span': [(99, 103)], 'annotation': ['same', 'no', '', '', 'yes']}, {'type': 'substitution', 'id': 6, 'original_span': [(141, 148)], 'simplified_span': [(108, 115)], 'annotation': ['same', 'no', '', '', 'yes']}, {'type': 'substitution', 'id': 7, 'original_span': [(156, 158)], 'simplified_span': [(123, 125)], 'annotation': ['same', 'no', '', '', 'yes']}]\n",
      "{'edit_type': 'substitution', 'id': 3, 'information_impact': <Information.SAME: 'Same Information'>, 'type': <Quality.TRIVIAL: 'Trivial'>, 'grammar_error': False, 'error_type': None, 'rating': None, 'size': 0.0, 'score': 0.0}\n",
      "systems/con_simplification.txt\n",
      "systems/con_simplification.txt\n",
      "ayush\n",
      "45\n",
      "[{'type': 'substitution', 'id': 0, 'original_span': [(4, 9)], 'simplified_span': [(4, 9)], 'annotation': ['same', 'no', '', '', 'yes']}, {'type': 'substitution', 'id': 1, 'original_span': [(10, 18)], 'simplified_span': [(10, 14)], 'annotation': ['same', 'positive', 'minor', '', 'no']}, {'type': 'substitution', 'id': 2, 'original_span': [(19, 26)], 'simplified_span': [(15, 22)], 'annotation': ['same', 'no', '', '', 'yes']}, {'type': 'substitution', 'id': 3, 'original_span': [(32, 37)], 'simplified_span': [(28, 33)], 'annotation': ['same', 'no', '', '', 'no']}, {'type': 'substitution', 'id': 4, 'original_span': [(63, 96)], 'simplified_span': [(59, 92)], 'annotation': ['same', 'no', '', '', 'yes']}, {'type': 'substitution', 'id': 5, 'original_span': [(132, 136)], 'simplified_span': [(99, 103)], 'annotation': ['same', 'no', '', '', 'yes']}, {'type': 'substitution', 'id': 6, 'original_span': [(141, 148)], 'simplified_span': [(108, 115)], 'annotation': ['same', 'no', '', '', 'yes']}, {'type': 'substitution', 'id': 7, 'original_span': [(156, 158)], 'simplified_span': [(123, 125)], 'annotation': ['same', 'no', '', '', 'yes']}]\n",
      "{'edit_type': 'substitution', 'id': 4, 'information_impact': <Information.SAME: 'Same Information'>, 'type': <Quality.TRIVIAL: 'Trivial'>, 'grammar_error': True, 'error_type': None, 'rating': None, 'size': 0.0, 'score': -0.0}\n",
      "systems/con_simplification.txt\n",
      "systems/con_simplification.txt\n",
      "ayush\n",
      "45\n",
      "[{'type': 'substitution', 'id': 0, 'original_span': [(4, 9)], 'simplified_span': [(4, 9)], 'annotation': ['same', 'no', '', '', 'yes']}, {'type': 'substitution', 'id': 1, 'original_span': [(10, 18)], 'simplified_span': [(10, 14)], 'annotation': ['same', 'positive', 'minor', '', 'no']}, {'type': 'substitution', 'id': 2, 'original_span': [(19, 26)], 'simplified_span': [(15, 22)], 'annotation': ['same', 'no', '', '', 'yes']}, {'type': 'substitution', 'id': 3, 'original_span': [(32, 37)], 'simplified_span': [(28, 33)], 'annotation': ['same', 'no', '', '', 'no']}, {'type': 'substitution', 'id': 4, 'original_span': [(63, 96)], 'simplified_span': [(59, 92)], 'annotation': ['same', 'no', '', '', 'yes']}, {'type': 'substitution', 'id': 5, 'original_span': [(132, 136)], 'simplified_span': [(99, 103)], 'annotation': ['same', 'no', '', '', 'yes']}, {'type': 'substitution', 'id': 6, 'original_span': [(141, 148)], 'simplified_span': [(108, 115)], 'annotation': ['same', 'no', '', '', 'yes']}, {'type': 'substitution', 'id': 7, 'original_span': [(156, 158)], 'simplified_span': [(123, 125)], 'annotation': ['same', 'no', '', '', 'yes']}]\n",
      "{'edit_type': 'substitution', 'id': 5, 'information_impact': <Information.SAME: 'Same Information'>, 'type': <Quality.TRIVIAL: 'Trivial'>, 'grammar_error': True, 'error_type': None, 'rating': None, 'size': 0.0, 'score': -0.0}\n",
      "systems/con_simplification.txt\n",
      "systems/con_simplification.txt\n",
      "ayush\n",
      "45\n",
      "[{'type': 'substitution', 'id': 0, 'original_span': [(4, 9)], 'simplified_span': [(4, 9)], 'annotation': ['same', 'no', '', '', 'yes']}, {'type': 'substitution', 'id': 1, 'original_span': [(10, 18)], 'simplified_span': [(10, 14)], 'annotation': ['same', 'positive', 'minor', '', 'no']}, {'type': 'substitution', 'id': 2, 'original_span': [(19, 26)], 'simplified_span': [(15, 22)], 'annotation': ['same', 'no', '', '', 'yes']}, {'type': 'substitution', 'id': 3, 'original_span': [(32, 37)], 'simplified_span': [(28, 33)], 'annotation': ['same', 'no', '', '', 'no']}, {'type': 'substitution', 'id': 4, 'original_span': [(63, 96)], 'simplified_span': [(59, 92)], 'annotation': ['same', 'no', '', '', 'yes']}, {'type': 'substitution', 'id': 5, 'original_span': [(132, 136)], 'simplified_span': [(99, 103)], 'annotation': ['same', 'no', '', '', 'yes']}, {'type': 'substitution', 'id': 6, 'original_span': [(141, 148)], 'simplified_span': [(108, 115)], 'annotation': ['same', 'no', '', '', 'yes']}, {'type': 'substitution', 'id': 7, 'original_span': [(156, 158)], 'simplified_span': [(123, 125)], 'annotation': ['same', 'no', '', '', 'yes']}]\n",
      "{'edit_type': 'substitution', 'id': 6, 'information_impact': <Information.SAME: 'Same Information'>, 'type': <Quality.TRIVIAL: 'Trivial'>, 'grammar_error': True, 'error_type': None, 'rating': None, 'size': 0.0, 'score': -0.0}\n",
      "systems/con_simplification.txt\n",
      "systems/con_simplification.txt\n",
      "ayush\n",
      "45\n",
      "[{'type': 'substitution', 'id': 0, 'original_span': [(4, 9)], 'simplified_span': [(4, 9)], 'annotation': ['same', 'no', '', '', 'yes']}, {'type': 'substitution', 'id': 1, 'original_span': [(10, 18)], 'simplified_span': [(10, 14)], 'annotation': ['same', 'positive', 'minor', '', 'no']}, {'type': 'substitution', 'id': 2, 'original_span': [(19, 26)], 'simplified_span': [(15, 22)], 'annotation': ['same', 'no', '', '', 'yes']}, {'type': 'substitution', 'id': 3, 'original_span': [(32, 37)], 'simplified_span': [(28, 33)], 'annotation': ['same', 'no', '', '', 'no']}, {'type': 'substitution', 'id': 4, 'original_span': [(63, 96)], 'simplified_span': [(59, 92)], 'annotation': ['same', 'no', '', '', 'yes']}, {'type': 'substitution', 'id': 5, 'original_span': [(132, 136)], 'simplified_span': [(99, 103)], 'annotation': ['same', 'no', '', '', 'yes']}, {'type': 'substitution', 'id': 6, 'original_span': [(141, 148)], 'simplified_span': [(108, 115)], 'annotation': ['same', 'no', '', '', 'yes']}, {'type': 'substitution', 'id': 7, 'original_span': [(156, 158)], 'simplified_span': [(123, 125)], 'annotation': ['same', 'no', '', '', 'yes']}]\n",
      "{'edit_type': 'substitution', 'id': 7, 'information_impact': <Information.SAME: 'Same Information'>, 'type': <Quality.TRIVIAL: 'Trivial'>, 'grammar_error': True, 'error_type': None, 'rating': None, 'size': 0.0, 'score': -0.0}\n",
      "systems/con_simplification.txt\n",
      "systems/con_simplification.txt\n",
      "ayush\n",
      "3\n",
      "[{'type': 'substitution', 'id': 0, 'original_span': [(11, 20)], 'simplified_span': [(11, 17)], 'annotation': ['same', 'positive', 'somewhat', '', 'no']}, {'type': 'substitution', 'id': 1, 'original_span': [(54, 65)], 'simplified_span': [(41, 56)], 'annotation': ['same', 'no', '', '', 'no']}, {'type': 'substitution', 'id': 2, 'original_span': [(69, 87)], 'simplified_span': [(60, 83)], 'annotation': ['same', 'no', '', '', 'no']}]\n",
      "{'edit_type': 'substitution', 'id': 1, 'information_impact': <Information.SAME: 'Same Information'>, 'type': <Quality.TRIVIAL: 'Trivial'>, 'grammar_error': False, 'error_type': None, 'rating': None, 'size': 0.041237113402061855, 'score': 0.0}\n",
      "systems/T5.txt\n",
      "systems/T5.txt\n",
      "kelly\n",
      "3\n",
      "[{'type': 'substitution', 'id': 0, 'original_span': [(11, 20)], 'simplified_span': [(11, 17)], 'annotation': ['same', 'positive', 'somewhat', '', 'no']}, {'type': 'substitution', 'id': 1, 'original_span': [(54, 65)], 'simplified_span': [(41, 56)], 'annotation': ['same', 'no', '', '', 'no']}, {'type': 'substitution', 'id': 2, 'original_span': [(69, 87)], 'simplified_span': [(60, 83)], 'annotation': ['same', 'no', '', '', 'no']}]\n",
      "{'edit_type': 'substitution', 'id': 2, 'information_impact': <Information.SAME: 'Same Information'>, 'type': <Quality.TRIVIAL: 'Trivial'>, 'grammar_error': False, 'error_type': None, 'rating': None, 'size': 0.05154639175257732, 'score': 0.0}\n",
      "systems/T5.txt\n",
      "systems/T5.txt\n",
      "kelly\n",
      "10\n",
      "[{'type': 'substitution', 'id': 0, 'original_span': [(0, 12)], 'simplified_span': [(0, 2)], 'annotation': ['same', 'no', 'somewhat', '', 'no']}]\n",
      "{'edit_type': 'substitution', 'id': 0, 'information_impact': <Information.SAME: 'Same Information'>, 'type': <Quality.TRIVIAL: 'Trivial'>, 'grammar_error': False, 'error_type': None, 'rating': None, 'size': 0.07575757575757576, 'score': 0.0}\n",
      "systems/asset.test.simp\n",
      "systems/asset.test.simp\n",
      "kelly\n",
      "14\n",
      "[{'type': 'substitution', 'id': 0, 'original_span': [(87, 92)], 'simplified_span': [(96, 99)], 'annotation': ['same', 'no', '', '', 'no']}, {'type': 'substitution', 'id': 1, 'original_span': [(123, 132)], 'simplified_span': [(130, 136)], 'annotation': ['same', 'positive', 'somewhat', '', 'no']}, {'type': 'substitution', 'id': 2, 'original_span': [(77, 86)], 'simplified_span': [(88, 95)], 'annotation': ['different', 'very', 'no']}]\n",
      "{'edit_type': 'substitution', 'id': 0, 'information_impact': <Information.SAME: 'Same Information'>, 'type': <Quality.TRIVIAL: 'Trivial'>, 'grammar_error': False, 'error_type': None, 'rating': None, 'size': 0.015151515151515152, 'score': 0.0}\n",
      "systems/T5.txt\n",
      "systems/T5.txt\n",
      "kelly\n",
      "18\n",
      "[{'type': 'substitution', 'id': 0, 'original_span': [(13, 16)], 'simplified_span': [(13, 14)], 'annotation': ['same', 'no', '', '', 'no']}]\n",
      "{'edit_type': 'substitution', 'id': 0, 'information_impact': <Information.SAME: 'Same Information'>, 'type': <Quality.TRIVIAL: 'Trivial'>, 'grammar_error': False, 'error_type': None, 'rating': None, 'size': 0.023529411764705882, 'score': 0.0}\n",
      "systems/T5.txt\n",
      "systems/T5.txt\n",
      "kelly\n",
      "27\n",
      "[{'type': 'substitution', 'id': 0, 'original_span': [(9, 21)], 'simplified_span': [(9, 14)], 'annotation': ['same', 'positive', 'somewhat', '', 'no']}]\n",
      "{'edit_type': 'reorder', 'id': 0, 'information_impact': <Information.SAME: 'Same Information'>, 'type': <Quality.TRIVIAL: 'Trivial'>, 'grammar_error': False, 'error_type': None, 'rating': None, 'size': 0.01, 'score': 0.0}\n",
      "systems/T5.txt\n",
      "systems/T5.txt\n",
      "kelly\n",
      "28\n",
      "[{'type': 'substitution', 'id': 0, 'original_span': [(9, 21)], 'simplified_span': [(9, 20)], 'annotation': ['more', 'elaboration', 'somewhat', 'no']}]\n",
      "{'edit_type': 'reorder', 'id': 0, 'information_impact': <Information.SAME: 'Same Information'>, 'type': <Quality.TRIVIAL: 'Trivial'>, 'grammar_error': False, 'error_type': None, 'rating': None, 'size': 0.01, 'score': 0.0}\n",
      "systems/con_simplification.txt\n",
      "systems/con_simplification.txt\n",
      "kelly\n",
      "29\n",
      "[]\n",
      "{'edit_type': 'reorder', 'id': 0, 'information_impact': <Information.SAME: 'Same Information'>, 'type': <Quality.TRIVIAL: 'Trivial'>, 'grammar_error': False, 'error_type': None, 'rating': None, 'size': 0.0, 'score': 0.0}\n",
      "new_systems/turk_corpus_random.txt\n",
      "new_systems/turk_corpus_random.txt\n",
      "kelly\n",
      "29\n",
      "[]\n",
      "{'edit_type': 'structure', 'id': 0, 'information_impact': <Information.SAME: 'Same Information'>, 'type': <Quality.TRIVIAL: 'Trivial'>, 'grammar_error': False, 'error_type': None, 'rating': None, 'size': 0.0, 'score': 0.0}\n",
      "new_systems/turk_corpus_random.txt\n",
      "new_systems/turk_corpus_random.txt\n",
      "kelly\n",
      "32\n",
      "[]\n",
      "{'edit_type': 'structure', 'id': 0, 'information_impact': <Information.SAME: 'Same Information'>, 'type': <Quality.TRIVIAL: 'Trivial'>, 'grammar_error': False, 'error_type': None, 'rating': None, 'size': 0.0449438202247191, 'score': 0.0}\n",
      "systems/con_simplification.txt\n",
      "systems/con_simplification.txt\n",
      "kelly\n",
      "35\n",
      "[{'type': 'substitution', 'id': 0, 'original_span': [(27, 39)], 'simplified_span': [(27, 39)], 'annotation': ['same', 'no', '', '', 'no']}]\n",
      "{'edit_type': 'substitution', 'id': 0, 'information_impact': <Information.SAME: 'Same Information'>, 'type': <Quality.TRIVIAL: 'Trivial'>, 'grammar_error': False, 'error_type': None, 'rating': None, 'size': 0.0, 'score': 0.0}\n",
      "systems/con_simplification.txt\n",
      "systems/con_simplification.txt\n",
      "kelly\n",
      "38\n",
      "[{'type': 'substitution', 'id': 0, 'original_span': [(9, 14)], 'simplified_span': [(9, 15)], 'annotation': ['same', 'no', '', '', 'no']}, {'type': 'substitution', 'id': 2, 'original_span': [(43, 51)], 'simplified_span': [(68, 75)], 'annotation': ['same', 'negative', '', 'minor', 'yes']}]\n",
      "{'edit_type': 'substitution', 'id': 0, 'information_impact': <Information.SAME: 'Same Information'>, 'type': <Quality.TRIVIAL: 'Trivial'>, 'grammar_error': False, 'error_type': None, 'rating': None, 'size': 0.006993006993006993, 'score': 0.0}\n",
      "new_systems/turk_corpus_random.txt\n",
      "new_systems/turk_corpus_random.txt\n",
      "kelly\n",
      "44\n",
      "[{'type': 'substitution', 'id': 0, 'original_span': [(17, 29)], 'simplified_span': [(6, 11)], 'annotation': ['different', 'somewhat', 'no']}, {'type': 'substitution', 'id': 1, 'original_span': [(73, 92)], 'simplified_span': [(63, 71)], 'annotation': ['same', 'positive', 'a lot', '', 'no']}, {'type': 'substitution', 'id': 2, 'original_span': [(106, 112)], 'simplified_span': [(85, 89)], 'annotation': ['same', 'positive', 'minor', '', 'no']}, {'type': 'substitution', 'id': 3, 'original_span': [(123, 130)], 'simplified_span': [(100, 104)], 'annotation': ['same', 'no', 'minor', '', 'no']}]\n",
      "{'edit_type': 'substitution', 'id': 3, 'information_impact': <Information.SAME: 'Same Information'>, 'type': <Quality.TRIVIAL: 'Trivial'>, 'grammar_error': False, 'error_type': None, 'rating': None, 'size': 0.01775147928994083, 'score': 0.0}\n",
      "new_systems/asset.test.simp.second\n",
      "new_systems/asset.test.simp.second\n",
      "kelly\n",
      "69\n",
      "[{'type': 'substitution', 'id': 0, 'original_span': [(59, 74)], 'simplified_span': [(50, 67)], 'annotation': ['same', 'no', '', '', 'yes']}, {'type': 'substitution', 'id': 1, 'original_span': [(126, 132)], 'simplified_span': [(107, 112)], 'annotation': ['same', 'no', '', '', 'yes']}]\n",
      "{'edit_type': 'substitution', 'id': 0, 'information_impact': <Information.SAME: 'Same Information'>, 'type': <Quality.TRIVIAL: 'Trivial'>, 'grammar_error': True, 'error_type': None, 'rating': None, 'size': 0.0125, 'score': -0.0}\n",
      "systems/con_simplification.txt\n",
      "systems/con_simplification.txt\n",
      "vinayak\n",
      "69\n",
      "[{'type': 'substitution', 'id': 0, 'original_span': [(59, 74)], 'simplified_span': [(50, 67)], 'annotation': ['same', 'no', '', '', 'yes']}, {'type': 'substitution', 'id': 1, 'original_span': [(126, 132)], 'simplified_span': [(107, 112)], 'annotation': ['same', 'no', '', '', 'yes']}]\n",
      "{'edit_type': 'substitution', 'id': 1, 'information_impact': <Information.SAME: 'Same Information'>, 'type': <Quality.TRIVIAL: 'Trivial'>, 'grammar_error': True, 'error_type': None, 'rating': None, 'size': 0.00625, 'score': -0.0}\n",
      "systems/con_simplification.txt\n",
      "systems/con_simplification.txt\n",
      "vinayak\n",
      "74\n",
      "[{'type': 'substitution', 'id': 0, 'original_span': [(7, 15)], 'simplified_span': [(7, 22)], 'annotation': ['same', 'negative', '', 'somewhat', 'no']}, {'type': 'substitution', 'id': 1, 'original_span': [(46, 57)], 'simplified_span': [(58, 66)], 'annotation': ['less', 'good', 'yes', '']}, {'type': 'substitution', 'id': 2, 'original_span': [(67, 74)], 'simplified_span': [(76, 83)], 'annotation': ['more', 'hallucination', 'yes', 'somewhat', 'no']}, {'type': 'substitution', 'id': 3, 'original_span': [(108, 119)], 'simplified_span': [(105, 113)], 'annotation': ['same', 'no', '', '', 'no']}]\n",
      "{'edit_type': 'substitution', 'id': 3, 'information_impact': <Information.SAME: 'Same Information'>, 'type': <Quality.TRIVIAL: 'Trivial'>, 'grammar_error': False, 'error_type': None, 'rating': None, 'size': 0.025210084033613446, 'score': 0.0}\n",
      "new_systems/asset.test.simp.second\n",
      "new_systems/asset.test.simp.second\n",
      "vinayak\n",
      "76\n",
      "[{'type': 'substitution', 'id': 0, 'original_span': [(20, 25)], 'simplified_span': [(20, 25)], 'annotation': ['different', 'somewhat', 'no']}, {'type': 'substitution', 'id': 1, 'original_span': [(26, 36)], 'simplified_span': [(26, 30)], 'annotation': ['same', 'positive', 'somewhat', '', 'no']}, {'type': 'substitution', 'id': 2, 'original_span': [(44, 53)], 'simplified_span': [(38, 46)], 'annotation': ['same', 'no', '', '', 'yes']}, {'type': 'substitution', 'id': 3, 'original_span': [(58, 82)], 'simplified_span': [(53, 73)], 'annotation': ['same', 'positive', 'minor', '', 'no']}]\n",
      "{'edit_type': 'substitution', 'id': 2, 'information_impact': <Information.SAME: 'Same Information'>, 'type': <Quality.TRIVIAL: 'Trivial'>, 'grammar_error': True, 'error_type': None, 'rating': None, 'size': 0.011627906976744186, 'score': -0.0}\n",
      "systems/con_simplification.txt\n",
      "systems/con_simplification.txt\n",
      "vinayak\n",
      "77\n",
      "[{'type': 'substitution', 'id': 0, 'original_span': [(26, 36)], 'simplified_span': [(19, 23)], 'annotation': ['same', 'positive', 'somewhat', '', 'no']}, {'type': 'substitution', 'id': 1, 'original_span': [(60, 79)], 'simplified_span': [(47, 66)], 'annotation': ['same', 'no', '', '', 'no']}]\n",
      "{'edit_type': 'substitution', 'id': 1, 'information_impact': <Information.SAME: 'Same Information'>, 'type': <Quality.TRIVIAL: 'Trivial'>, 'grammar_error': False, 'error_type': None, 'rating': None, 'size': 0.0, 'score': 0.0}\n",
      "systems/T5.txt\n",
      "systems/T5.txt\n",
      "vinayak\n",
      "78\n",
      "[{'type': 'substitution', 'id': 0, 'original_span': [(26, 36)], 'simplified_span': [(18, 22)], 'annotation': ['same', 'positive', 'somewhat', '', 'no']}, {'type': 'substitution', 'id': 1, 'original_span': [(58, 82)], 'simplified_span': [(44, 66)], 'annotation': ['same', 'no', '', '', 'no']}]\n",
      "{'edit_type': 'substitution', 'id': 1, 'information_impact': <Information.SAME: 'Same Information'>, 'type': <Quality.TRIVIAL: 'Trivial'>, 'grammar_error': False, 'error_type': None, 'rating': None, 'size': 0.023255813953488372, 'score': 0.0}\n",
      "new_systems/asset.test.simp.second\n",
      "new_systems/asset.test.simp.second\n",
      "vinayak\n",
      "82\n",
      "[{'type': 'substitution', 'id': 0, 'original_span': [(4, 18)], 'simplified_span': [(4, 18)], 'annotation': ['same', 'no', '', '', 'yes']}, {'type': 'substitution', 'id': 1, 'original_span': [(61, 68)], 'simplified_span': [(61, 64)], 'annotation': ['less', 'good', 'no', '']}]\n",
      "{'edit_type': 'substitution', 'id': 0, 'information_impact': <Information.SAME: 'Same Information'>, 'type': <Quality.TRIVIAL: 'Trivial'>, 'grammar_error': True, 'error_type': None, 'rating': None, 'size': 0.0, 'score': -0.0}\n",
      "systems/con_simplification.txt\n",
      "systems/con_simplification.txt\n",
      "vinayak\n",
      "87\n",
      "[{'type': 'substitution', 'id': 1, 'original_span': [(21, 34)], 'simplified_span': [(25, 28)], 'annotation': ['less', 'good', 'no', '']}, {'type': 'substitution', 'id': 2, 'original_span': [(96, 104)], 'simplified_span': [(86, 92)], 'annotation': ['less', 'perfect', 'no', '']}, {'type': 'substitution', 'id': 3, 'original_span': [(125, 134)], 'simplified_span': [(113, 119)], 'annotation': ['same', 'no', '', '', 'yes']}]\n",
      "{'edit_type': 'substitution', 'id': 3, 'information_impact': <Information.SAME: 'Same Information'>, 'type': <Quality.TRIVIAL: 'Trivial'>, 'grammar_error': True, 'error_type': None, 'rating': None, 'size': 0.02142857142857143, 'score': -0.0}\n",
      "systems/T5.txt\n",
      "systems/T5.txt\n",
      "vinayak\n",
      "89\n",
      "[]\n",
      "{'edit_type': 'reorder', 'id': 0, 'information_impact': <Information.SAME: 'Same Information'>, 'type': <Quality.TRIVIAL: 'Trivial'>, 'grammar_error': False, 'error_type': None, 'rating': None, 'size': 0.0, 'score': 0.0}\n",
      "systems/asset.test.simp\n",
      "systems/asset.test.simp\n",
      "vinayak\n",
      "95\n",
      "[{'type': 'substitution', 'id': 0, 'original_span': [(0, 11)], 'simplified_span': [(0, 6)], 'annotation': ['less', 'very bad', 'no', 'no']}, {'type': 'substitution', 'id': 1, 'original_span': [(17, 28)], 'simplified_span': [(12, 22)], 'annotation': ['same', 'no', '', '', 'yes']}, {'type': 'substitution', 'id': 2, 'original_span': [(29, 35)], 'simplified_span': [(25, 31)], 'annotation': ['same', 'no', '', '', 'yes']}, {'type': 'substitution', 'id': 3, 'original_span': [(40, 45)], 'simplified_span': [(36, 41)], 'annotation': ['same', 'no', '', '', 'yes']}, {'type': 'substitution', 'id': 4, 'original_span': [(74, 78)], 'simplified_span': [(67, 71)], 'annotation': ['same', 'no', '', '', 'yes']}]\n",
      "{'edit_type': 'substitution', 'id': 1, 'information_impact': <Information.SAME: 'Same Information'>, 'type': <Quality.TRIVIAL: 'Trivial'>, 'grammar_error': True, 'error_type': None, 'rating': None, 'size': 0.008928571428571428, 'score': -0.0}\n",
      "systems/con_simplification.txt\n",
      "systems/con_simplification.txt\n",
      "vinayak\n",
      "95\n",
      "[{'type': 'substitution', 'id': 0, 'original_span': [(0, 11)], 'simplified_span': [(0, 6)], 'annotation': ['less', 'very bad', 'no', 'no']}, {'type': 'substitution', 'id': 1, 'original_span': [(17, 28)], 'simplified_span': [(12, 22)], 'annotation': ['same', 'no', '', '', 'yes']}, {'type': 'substitution', 'id': 2, 'original_span': [(29, 35)], 'simplified_span': [(25, 31)], 'annotation': ['same', 'no', '', '', 'yes']}, {'type': 'substitution', 'id': 3, 'original_span': [(40, 45)], 'simplified_span': [(36, 41)], 'annotation': ['same', 'no', '', '', 'yes']}, {'type': 'substitution', 'id': 4, 'original_span': [(74, 78)], 'simplified_span': [(67, 71)], 'annotation': ['same', 'no', '', '', 'yes']}]\n",
      "{'edit_type': 'substitution', 'id': 2, 'information_impact': <Information.SAME: 'Same Information'>, 'type': <Quality.TRIVIAL: 'Trivial'>, 'grammar_error': True, 'error_type': None, 'rating': None, 'size': 0.0, 'score': -0.0}\n",
      "systems/con_simplification.txt\n",
      "systems/con_simplification.txt\n",
      "vinayak\n",
      "95\n",
      "[{'type': 'substitution', 'id': 0, 'original_span': [(0, 11)], 'simplified_span': [(0, 6)], 'annotation': ['less', 'very bad', 'no', 'no']}, {'type': 'substitution', 'id': 1, 'original_span': [(17, 28)], 'simplified_span': [(12, 22)], 'annotation': ['same', 'no', '', '', 'yes']}, {'type': 'substitution', 'id': 2, 'original_span': [(29, 35)], 'simplified_span': [(25, 31)], 'annotation': ['same', 'no', '', '', 'yes']}, {'type': 'substitution', 'id': 3, 'original_span': [(40, 45)], 'simplified_span': [(36, 41)], 'annotation': ['same', 'no', '', '', 'yes']}, {'type': 'substitution', 'id': 4, 'original_span': [(74, 78)], 'simplified_span': [(67, 71)], 'annotation': ['same', 'no', '', '', 'yes']}]\n",
      "{'edit_type': 'substitution', 'id': 3, 'information_impact': <Information.SAME: 'Same Information'>, 'type': <Quality.TRIVIAL: 'Trivial'>, 'grammar_error': True, 'error_type': None, 'rating': None, 'size': 0.0, 'score': -0.0}\n",
      "systems/con_simplification.txt\n",
      "systems/con_simplification.txt\n",
      "vinayak\n",
      "95\n",
      "[{'type': 'substitution', 'id': 0, 'original_span': [(0, 11)], 'simplified_span': [(0, 6)], 'annotation': ['less', 'very bad', 'no', 'no']}, {'type': 'substitution', 'id': 1, 'original_span': [(17, 28)], 'simplified_span': [(12, 22)], 'annotation': ['same', 'no', '', '', 'yes']}, {'type': 'substitution', 'id': 2, 'original_span': [(29, 35)], 'simplified_span': [(25, 31)], 'annotation': ['same', 'no', '', '', 'yes']}, {'type': 'substitution', 'id': 3, 'original_span': [(40, 45)], 'simplified_span': [(36, 41)], 'annotation': ['same', 'no', '', '', 'yes']}, {'type': 'substitution', 'id': 4, 'original_span': [(74, 78)], 'simplified_span': [(67, 71)], 'annotation': ['same', 'no', '', '', 'yes']}]\n",
      "{'edit_type': 'substitution', 'id': 4, 'information_impact': <Information.SAME: 'Same Information'>, 'type': <Quality.TRIVIAL: 'Trivial'>, 'grammar_error': True, 'error_type': None, 'rating': None, 'size': 0.0, 'score': -0.0}\n",
      "systems/con_simplification.txt\n",
      "systems/con_simplification.txt\n",
      "vinayak\n",
      "98\n",
      "[{'type': 'substitution', 'id': 0, 'original_span': [(0, 11)], 'simplified_span': [(0, 6)], 'annotation': ['less', 'good', 'no', '']}, {'type': 'substitution', 'id': 1, 'original_span': [(17, 28)], 'simplified_span': [(12, 20)], 'annotation': ['less', 'good', 'no', '']}, {'type': 'substitution', 'id': 2, 'original_span': [(64, 69)], 'simplified_span': [(52, 56)], 'annotation': ['same', 'no', 'minor', '', 'no']}]\n",
      "{'edit_type': 'substitution', 'id': 2, 'information_impact': <Information.SAME: 'Same Information'>, 'type': <Quality.TRIVIAL: 'Trivial'>, 'grammar_error': False, 'error_type': None, 'rating': None, 'size': 0.008928571428571428, 'score': 0.0}\n",
      "new_systems/turk_corpus_random.txt\n",
      "new_systems/turk_corpus_random.txt\n",
      "vinayak\n",
      "51\n",
      "[{'type': 'substitution', 'id': 0, 'original_span': [(9, 12)], 'simplified_span': [(9, 19)], 'annotation': ['same', 'negative', '', 'minor', 'no']}, {'type': 'substitution', 'id': 1, 'original_span': [(13, 20)], 'simplified_span': [(20, 25)], 'annotation': ['same', 'no', '', '', 'no']}, {'type': 'substitution', 'id': 2, 'original_span': [(46, 73)], 'simplified_span': [(51, 61)], 'annotation': ['same', 'positive', 'somewhat', '', 'no']}, {'type': 'substitution', 'id': 3, 'original_span': [(90, 97)], 'simplified_span': [(77, 78)], 'annotation': ['same', 'positive', 'minor', '', 'no']}]\n",
      "{'edit_type': 'substitution', 'id': 1, 'information_impact': <Information.SAME: 'Same Information'>, 'type': <Quality.TRIVIAL: 'Trivial'>, 'grammar_error': False, 'error_type': None, 'rating': None, 'size': 0.017857142857142856, 'score': 0.0}\n",
      "systems/asset.test.simp\n",
      "systems/asset.test.simp\n",
      "vishnesh\n",
      "53\n",
      "[{'type': 'substitution', 'id': 0, 'original_span': [(46, 73)], 'simplified_span': [(67, 76)], 'annotation': ['same', 'positive', 'somewhat', '', '']}]\n",
      "{'edit_type': 'reorder', 'id': 0, 'information_impact': <Information.SAME: 'Same Information'>, 'type': <Quality.TRIVIAL: 'Trivial'>, 'grammar_error': False, 'error_type': None, 'rating': None, 'size': 0.0, 'score': 0.0}\n",
      "systems/T5.txt\n",
      "systems/T5.txt\n",
      "vishnesh\n",
      "54\n",
      "[{'type': 'substitution', 'id': 0, 'original_span': [(13, 20)], 'simplified_span': [(13, 17)], 'annotation': ['same', 'no', '', '', 'no']}, {'type': 'substitution', 'id': 1, 'original_span': [(46, 73)], 'simplified_span': [(63, 73)], 'annotation': ['same', 'positive', 'somewhat', '', 'no']}, {'type': 'substitution', 'id': 2, 'original_span': [(90, 97)], 'simplified_span': [(114, 115)], 'annotation': ['same', 'positive', 'minor', '', 'no']}]\n",
      "{'edit_type': 'substitution', 'id': 0, 'information_impact': <Information.SAME: 'Same Information'>, 'type': <Quality.TRIVIAL: 'Trivial'>, 'grammar_error': False, 'error_type': None, 'rating': None, 'size': 0.026785714285714284, 'score': 0.0}\n",
      "new_systems/asset.test.simp.second\n",
      "new_systems/asset.test.simp.second\n",
      "vishnesh\n",
      "56\n",
      "[]\n",
      "{'edit_type': 'structure', 'id': 0, 'information_impact': <Information.SAME: 'Same Information'>, 'type': <Quality.TRIVIAL: 'Trivial'>, 'grammar_error': False, 'error_type': None, 'rating': None, 'size': 0.0, 'score': 0.0}\n",
      "new_systems/asset.test.simp.second\n",
      "new_systems/asset.test.simp.second\n",
      "vishnesh\n",
      "59\n",
      "[{'type': 'substitution', 'id': 0, 'original_span': [(6, 8)], 'simplified_span': [(6, 15)], 'annotation': ['same', 'negative', '', 'somewhat', 'no']}, {'type': 'substitution', 'id': 1, 'original_span': [(13, 18)], 'simplified_span': [(20, 41)], 'annotation': ['same', 'positive', 'a lot', '', 'no']}, {'type': 'substitution', 'id': 4, 'original_span': [(131, 162)], 'simplified_span': [(119, 169)], 'annotation': ['more', 'elaboration', 'somewhat', 'yes']}, {'type': 'substitution', 'id': 5, 'original_span': [(125, 130)], 'simplified_span': [(170, 174)], 'annotation': ['same', 'negative', '', 'minor', 'no']}, {'type': 'substitution', 'id': 6, 'original_span': [(58, 68)], 'simplified_span': [(69, 81)], 'annotation': ['same', 'no', '', '', 'no']}]\n",
      "{'edit_type': 'substitution', 'id': 6, 'information_impact': <Information.SAME: 'Same Information'>, 'type': <Quality.TRIVIAL: 'Trivial'>, 'grammar_error': False, 'error_type': None, 'rating': None, 'size': 0.012345679012345678, 'score': 0.0}\n",
      "new_systems/turk_corpus_random.txt\n",
      "new_systems/turk_corpus_random.txt\n",
      "vishnesh\n",
      "59\n",
      "[{'type': 'substitution', 'id': 0, 'original_span': [(6, 8)], 'simplified_span': [(6, 15)], 'annotation': ['same', 'negative', '', 'somewhat', 'no']}, {'type': 'substitution', 'id': 1, 'original_span': [(13, 18)], 'simplified_span': [(20, 41)], 'annotation': ['same', 'positive', 'a lot', '', 'no']}, {'type': 'substitution', 'id': 4, 'original_span': [(131, 162)], 'simplified_span': [(119, 169)], 'annotation': ['more', 'elaboration', 'somewhat', 'yes']}, {'type': 'substitution', 'id': 5, 'original_span': [(125, 130)], 'simplified_span': [(170, 174)], 'annotation': ['same', 'negative', '', 'minor', 'no']}, {'type': 'substitution', 'id': 6, 'original_span': [(58, 68)], 'simplified_span': [(69, 81)], 'annotation': ['same', 'no', '', '', 'no']}]\n",
      "{'edit_type': 'structure', 'id': 0, 'information_impact': <Information.SAME: 'Same Information'>, 'type': <Quality.TRIVIAL: 'Trivial'>, 'grammar_error': False, 'error_type': None, 'rating': None, 'size': 0.0, 'score': 0.0}\n",
      "new_systems/turk_corpus_random.txt\n",
      "new_systems/turk_corpus_random.txt\n",
      "vishnesh\n",
      "61\n",
      "[{'type': 'substitution', 'id': 0, 'original_span': [(15, 20)], 'simplified_span': [(4, 8)], 'annotation': ['same', 'positive', 'a lot', '', 'no']}, {'type': 'substitution', 'id': 1, 'original_span': [(30, 38)], 'simplified_span': [(23, 30)], 'annotation': ['same', 'positive', 'a lot', '', 'no']}, {'type': 'substitution', 'id': 2, 'original_span': [(24, 29)], 'simplified_span': [(19, 22)], 'annotation': ['same', 'no', '', '', 'no']}]\n",
      "{'edit_type': 'substitution', 'id': 2, 'information_impact': <Information.SAME: 'Same Information'>, 'type': <Quality.TRIVIAL: 'Trivial'>, 'grammar_error': False, 'error_type': None, 'rating': None, 'size': 0.02040816326530612, 'score': 0.0}\n",
      "systems/asset.test.simp\n",
      "systems/asset.test.simp\n",
      "vishnesh\n",
      "61\n",
      "[{'type': 'substitution', 'id': 0, 'original_span': [(15, 20)], 'simplified_span': [(4, 8)], 'annotation': ['same', 'positive', 'a lot', '', 'no']}, {'type': 'substitution', 'id': 1, 'original_span': [(30, 38)], 'simplified_span': [(23, 30)], 'annotation': ['same', 'positive', 'a lot', '', 'no']}, {'type': 'substitution', 'id': 2, 'original_span': [(24, 29)], 'simplified_span': [(19, 22)], 'annotation': ['same', 'no', '', '', 'no']}]\n",
      "{'edit_type': 'structure', 'id': 0, 'information_impact': <Information.SAME: 'Same Information'>, 'type': <Quality.TRIVIAL: 'Trivial'>, 'grammar_error': False, 'error_type': None, 'rating': None, 'size': 0.030612244897959183, 'score': 0.0}\n",
      "systems/asset.test.simp\n",
      "systems/asset.test.simp\n",
      "vishnesh\n",
      "61\n",
      "[{'type': 'substitution', 'id': 0, 'original_span': [(15, 20)], 'simplified_span': [(4, 8)], 'annotation': ['same', 'positive', 'a lot', '', 'no']}, {'type': 'substitution', 'id': 1, 'original_span': [(30, 38)], 'simplified_span': [(23, 30)], 'annotation': ['same', 'positive', 'a lot', '', 'no']}, {'type': 'substitution', 'id': 2, 'original_span': [(24, 29)], 'simplified_span': [(19, 22)], 'annotation': ['same', 'no', '', '', 'no']}]\n",
      "{'edit_type': 'structure', 'id': 1, 'information_impact': <Information.SAME: 'Same Information'>, 'type': <Quality.TRIVIAL: 'Trivial'>, 'grammar_error': False, 'error_type': None, 'rating': None, 'size': 0.030612244897959183, 'score': 0.0}\n",
      "systems/asset.test.simp\n",
      "systems/asset.test.simp\n",
      "vishnesh\n",
      "65\n",
      "[{'type': 'substitution', 'id': 0, 'original_span': [(79, 91)], 'simplified_span': [(47, 61)], 'annotation': ['same', 'positive', 'somewhat', '', 'no']}, {'type': 'substitution', 'id': 1, 'original_span': [(92, 95)], 'simplified_span': [(62, 66)], 'annotation': ['same', 'no', '', '', 'yes']}]\n",
      "{'edit_type': 'substitution', 'id': 1, 'information_impact': <Information.SAME: 'Same Information'>, 'type': <Quality.TRIVIAL: 'Trivial'>, 'grammar_error': True, 'error_type': None, 'rating': None, 'size': 0.00625, 'score': -0.0}\n",
      "new_systems/turk_corpus_random.txt\n",
      "new_systems/turk_corpus_random.txt\n",
      "vishnesh\n",
      "70\n",
      "[{'type': 'substitution', 'id': 0, 'original_span': [(36, 45)], 'simplified_span': [(35, 44)], 'annotation': ['same', 'no', '', '', 'no']}]\n",
      "{'edit_type': 'substitution', 'id': 0, 'information_impact': <Information.SAME: 'Same Information'>, 'type': <Quality.TRIVIAL: 'Trivial'>, 'grammar_error': False, 'error_type': None, 'rating': None, 'size': 0.0, 'score': 0.0}\n",
      "systems/asset.test.simp\n",
      "systems/asset.test.simp\n",
      "vishnesh\n",
      "74\n",
      "[{'type': 'substitution', 'id': 0, 'original_span': [(7, 15)], 'simplified_span': [(7, 28)], 'annotation': ['same', 'positive', 'minor', '', 'no']}, {'type': 'substitution', 'id': 1, 'original_span': [(50, 57)], 'simplified_span': [(62, 66)], 'annotation': ['same', 'positive', 'a lot', '', 'no']}, {'type': 'substitution', 'id': 2, 'original_span': [(67, 74)], 'simplified_span': [(76, 83)], 'annotation': ['different', 'very', 'no']}, {'type': 'substitution', 'id': 3, 'original_span': [(78, 84)], 'simplified_span': [(87, 90)], 'annotation': ['same', 'no', '', '', 'no']}, {'type': 'substitution', 'id': 5, 'original_span': [(108, 119)], 'simplified_span': [(105, 113)], 'annotation': ['same', 'positive', 'somewhat', '', 'no']}]\n",
      "{'edit_type': 'substitution', 'id': 3, 'information_impact': <Information.SAME: 'Same Information'>, 'type': <Quality.TRIVIAL: 'Trivial'>, 'grammar_error': False, 'error_type': None, 'rating': None, 'size': 0.025210084033613446, 'score': 0.0}\n",
      "new_systems/asset.test.simp.second\n",
      "new_systems/asset.test.simp.second\n",
      "vishnesh\n",
      "75\n",
      "[{'type': 'substitution', 'id': 0, 'original_span': [(26, 36)], 'simplified_span': [(18, 22)], 'annotation': ['same', 'positive', 'a lot', '', 'no']}, {'type': 'substitution', 'id': 1, 'original_span': [(65, 82)], 'simplified_span': [(48, 73)], 'annotation': ['same', 'no', '', 'minor', 'yes']}]\n",
      "{'edit_type': 'substitution', 'id': 1, 'information_impact': <Information.SAME: 'Same Information'>, 'type': <Quality.TRIVIAL: 'Trivial'>, 'grammar_error': True, 'error_type': None, 'rating': None, 'size': 0.09302325581395349, 'score': -0.0}\n",
      "systems/asset.test.simp\n",
      "systems/asset.test.simp\n",
      "vishnesh\n",
      "85\n",
      "[{'type': 'substitution', 'id': 0, 'original_span': [(0, 16)], 'simplified_span': [(0, 10)], 'annotation': ['same', 'positive', 'somewhat', '', 'no']}, {'type': 'substitution', 'id': 1, 'original_span': [(35, 44)], 'simplified_span': [(29, 37)], 'annotation': ['same', 'no', '', '', 'yes']}]\n",
      "{'edit_type': 'substitution', 'id': 1, 'information_impact': <Information.SAME: 'Same Information'>, 'type': <Quality.TRIVIAL: 'Trivial'>, 'grammar_error': True, 'error_type': None, 'rating': None, 'size': 0.007142857142857143, 'score': -0.0}\n",
      "new_systems/asset.test.simp.second\n",
      "new_systems/asset.test.simp.second\n",
      "vishnesh\n",
      "85\n",
      "[{'type': 'substitution', 'id': 0, 'original_span': [(0, 16)], 'simplified_span': [(0, 10)], 'annotation': ['same', 'positive', 'somewhat', '', 'no']}, {'type': 'substitution', 'id': 1, 'original_span': [(35, 44)], 'simplified_span': [(29, 37)], 'annotation': ['same', 'no', '', '', 'yes']}]\n",
      "{'edit_type': 'structure', 'id': 0, 'information_impact': <Information.SAME: 'Same Information'>, 'type': <Quality.TRIVIAL: 'Trivial'>, 'grammar_error': True, 'error_type': None, 'rating': None, 'size': 0.02142857142857143, 'score': -0.0}\n",
      "new_systems/asset.test.simp.second\n",
      "new_systems/asset.test.simp.second\n",
      "vishnesh\n",
      "86\n",
      "[{'type': 'substitution', 'id': 0, 'original_span': [(0, 6)], 'simplified_span': [(65, 71)], 'annotation': ['same', 'no', '', '', 'yes']}, {'type': 'substitution', 'id': 1, 'original_span': [(35, 50), (66, 75), (96, 114), (115, 118), (125, 140)], 'simplified_span': [(23, 64)], 'annotation': ['less', 'good', 'no', '']}]\n",
      "{'edit_type': 'substitution', 'id': 0, 'information_impact': <Information.SAME: 'Same Information'>, 'type': <Quality.TRIVIAL: 'Trivial'>, 'grammar_error': True, 'error_type': None, 'rating': None, 'size': 0.0, 'score': -0.0}\n",
      "new_systems/turk_corpus_random.txt\n",
      "new_systems/turk_corpus_random.txt\n",
      "vishnesh\n",
      "86\n",
      "[{'type': 'substitution', 'id': 0, 'original_span': [(0, 6)], 'simplified_span': [(65, 71)], 'annotation': ['same', 'no', '', '', 'yes']}, {'type': 'substitution', 'id': 1, 'original_span': [(35, 50), (66, 75), (96, 114), (115, 118), (125, 140)], 'simplified_span': [(23, 64)], 'annotation': ['less', 'good', 'no', '']}]\n",
      "{'edit_type': 'reorder', 'id': 0, 'information_impact': <Information.SAME: 'Same Information'>, 'type': <Quality.TRIVIAL: 'Trivial'>, 'grammar_error': False, 'error_type': None, 'rating': None, 'size': 0.007142857142857143, 'score': 0.0}\n",
      "new_systems/turk_corpus_random.txt\n",
      "new_systems/turk_corpus_random.txt\n",
      "vishnesh\n",
      "87\n",
      "[{'type': 'substitution', 'id': 1, 'original_span': [(21, 34)], 'simplified_span': [(25, 28)], 'annotation': ['same', 'positive', 'a lot', '', 'no']}, {'type': 'substitution', 'id': 2, 'original_span': [(96, 104)], 'simplified_span': [(86, 92)], 'annotation': ['same', 'positive', 'a lot', '', 'no']}, {'type': 'substitution', 'id': 3, 'original_span': [(125, 134)], 'simplified_span': [(113, 119)], 'annotation': ['same', 'no', '', '', 'no']}, {'type': 'substitution', 'id': 4, 'original_span': [(0, 16)], 'simplified_span': [(0, 20)], 'annotation': ['same', 'positive', 'minor', '', 'no']}]\n",
      "{'edit_type': 'substitution', 'id': 3, 'information_impact': <Information.SAME: 'Same Information'>, 'type': <Quality.TRIVIAL: 'Trivial'>, 'grammar_error': False, 'error_type': None, 'rating': None, 'size': 0.02142857142857143, 'score': 0.0}\n",
      "systems/T5.txt\n",
      "systems/T5.txt\n",
      "vishnesh\n",
      "88\n",
      "[{'type': 'substitution', 'id': 0, 'original_span': [(21, 34)], 'simplified_span': [(21, 24)], 'annotation': ['same', 'positive', 'a lot', '', 'no']}]\n",
      "{'edit_type': 'structure', 'id': 0, 'information_impact': <Information.SAME: 'Same Information'>, 'type': <Quality.TRIVIAL: 'Trivial'>, 'grammar_error': True, 'error_type': None, 'rating': None, 'size': 0.0, 'score': -0.0}\n",
      "systems/con_simplification.txt\n",
      "systems/con_simplification.txt\n",
      "vishnesh\n",
      "90\n",
      "[{'type': 'substitution', 'id': 0, 'original_span': [(18, 22)], 'simplified_span': [(18, 26)], 'annotation': ['same', 'no', '', '', 'no']}, {'type': 'substitution', 'id': 1, 'original_span': [(43, 54)], 'simplified_span': [(47, 52)], 'annotation': ['same', 'positive', 'a lot', '', 'no']}, {'type': 'substitution', 'id': 2, 'original_span': [(76, 86)], 'simplified_span': [(74, 83)], 'annotation': ['same', 'positive', 'somewhat', '', 'no']}, {'type': 'substitution', 'id': 3, 'original_span': [(247, 263)], 'simplified_span': [(245, 257)], 'annotation': ['same', 'negative', '', 'somewhat', 'no']}]\n",
      "{'edit_type': 'substitution', 'id': 0, 'information_impact': <Information.SAME: 'Same Information'>, 'type': <Quality.TRIVIAL: 'Trivial'>, 'grammar_error': False, 'error_type': None, 'rating': None, 'size': 0.015209125475285171, 'score': 0.0}\n",
      "systems/asset.test.simp\n",
      "systems/asset.test.simp\n",
      "vishnesh\n",
      "93\n",
      "[{'type': 'substitution', 'id': 0, 'original_span': [(43, 54)], 'simplified_span': [(42, 47)], 'annotation': ['same', 'positive', 'a lot', '', 'no']}, {'type': 'substitution', 'id': 1, 'original_span': [(27, 37)], 'simplified_span': [(27, 36)], 'annotation': ['same', 'positive', 'somewhat', '', 'no']}, {'type': 'substitution', 'id': 2, 'original_span': [(76, 86)], 'simplified_span': [(99, 108)], 'annotation': ['same', 'positive', 'somewhat', '', 'yes']}, {'type': 'substitution', 'id': 3, 'original_span': [(228, 238)], 'simplified_span': [(212, 222)], 'annotation': ['less', 'bad', 'no', 'no']}]\n",
      "{'edit_type': 'reorder', 'id': 0, 'information_impact': <Information.SAME: 'Same Information'>, 'type': <Quality.TRIVIAL: 'Trivial'>, 'grammar_error': False, 'error_type': None, 'rating': None, 'size': 0.0038022813688212928, 'score': 0.0}\n",
      "systems/T5.txt\n",
      "systems/T5.txt\n",
      "vishnesh\n",
      "95\n",
      "[{'type': 'substitution', 'id': 0, 'original_span': [(0, 11)], 'simplified_span': [(0, 6)], 'annotation': ['less', 'bad', 'no', 'no']}, {'type': 'substitution', 'id': 1, 'original_span': [(64, 69)], 'simplified_span': [(60, 62)], 'annotation': ['same', 'no', '', '', 'yes']}]\n",
      "{'edit_type': 'substitution', 'id': 1, 'information_impact': <Information.SAME: 'Same Information'>, 'type': <Quality.TRIVIAL: 'Trivial'>, 'grammar_error': True, 'error_type': None, 'rating': None, 'size': 0.026785714285714284, 'score': -0.0}\n",
      "systems/con_simplification.txt\n",
      "systems/con_simplification.txt\n",
      "vishnesh\n",
      "97\n",
      "[]\n",
      "{'edit_type': 'reorder', 'id': 0, 'information_impact': <Information.SAME: 'Same Information'>, 'type': <Quality.TRIVIAL: 'Trivial'>, 'grammar_error': False, 'error_type': None, 'rating': None, 'size': 0.008928571428571428, 'score': 0.0}\n",
      "systems/T5.txt\n",
      "systems/T5.txt\n",
      "vishnesh\n",
      "113\n",
      "[]\n",
      "{'edit_type': 'split', 'id': 0, 'information_impact': <Information.SAME: 'Same Information'>, 'type': <Quality.TRIVIAL: 'Trivial'>, 'grammar_error': False, 'error_type': None, 'rating': None, 'size': 0.008032128514056224, 'score': 0.0}\n",
      "systems/T5.txt\n",
      "systems/T5.txt\n",
      "anton\n",
      "113\n",
      "[]\n",
      "{'edit_type': 'reorder', 'id': 0, 'information_impact': <Information.SAME: 'Same Information'>, 'type': <Quality.TRIVIAL: 'Trivial'>, 'grammar_error': False, 'error_type': None, 'rating': None, 'size': 0.03614457831325301, 'score': 0.0}\n",
      "systems/T5.txt\n",
      "systems/T5.txt\n",
      "anton\n",
      "113\n",
      "[]\n",
      "{'edit_type': 'structure', 'id': 0, 'information_impact': <Information.SAME: 'Same Information'>, 'type': <Quality.TRIVIAL: 'Trivial'>, 'grammar_error': False, 'error_type': None, 'rating': None, 'size': 0.17269076305220885, 'score': 0.0}\n",
      "systems/T5.txt\n",
      "systems/T5.txt\n",
      "anton\n",
      "117\n",
      "[{'type': 'substitution', 'id': 0, 'original_span': [(95, 107)], 'simplified_span': [(72, 88)], 'annotation': ['same', 'positive', 'somewhat', '', 'no']}, {'type': 'substitution', 'id': 1, 'original_span': [(0, 21)], 'simplified_span': [(0, 2)], 'annotation': ['less', 'very bad', 'no', 'yes']}]\n",
      "{'edit_type': 'reorder', 'id': 2, 'information_impact': <Information.SAME: 'Same Information'>, 'type': <Quality.TRIVIAL: 'Trivial'>, 'grammar_error': False, 'error_type': None, 'rating': None, 'size': 0.0, 'score': 0.0}\n",
      "systems/T5.txt\n",
      "systems/T5.txt\n",
      "anton\n",
      "118\n",
      "[]\n",
      "{'edit_type': 'reorder', 'id': 0, 'information_impact': <Information.SAME: 'Same Information'>, 'type': <Quality.TRIVIAL: 'Trivial'>, 'grammar_error': False, 'error_type': None, 'rating': None, 'size': 0.008695652173913044, 'score': 0.0}\n",
      "new_systems/asset.test.simp.second\n",
      "new_systems/asset.test.simp.second\n",
      "anton\n",
      "119\n",
      "[{'type': 'substitution', 'id': 0, 'original_span': [(95, 107)], 'simplified_span': [(114, 123)], 'annotation': ['same', 'no', '', '', 'no']}]\n",
      "{'edit_type': 'substitution', 'id': 0, 'information_impact': <Information.SAME: 'Same Information'>, 'type': <Quality.TRIVIAL: 'Trivial'>, 'grammar_error': False, 'error_type': None, 'rating': None, 'size': 0.02608695652173913, 'score': 0.0}\n",
      "systems/con_simplification.txt\n",
      "systems/con_simplification.txt\n",
      "anton\n",
      "100\n",
      "[{'type': 'substitution', 'id': 0, 'original_span': [(43, 60)], 'simplified_span': [(37, 39)], 'annotation': ['same', 'positive', 'a lot', '', 'no']}, {'type': 'substitution', 'id': 1, 'original_span': [(76, 84)], 'simplified_span': [(55, 62)], 'annotation': ['same', 'no', '', '', 'no']}]\n",
      "{'edit_type': 'substitution', 'id': 1, 'information_impact': <Information.SAME: 'Same Information'>, 'type': <Quality.TRIVIAL: 'Trivial'>, 'grammar_error': False, 'error_type': None, 'rating': None, 'size': 0.007575757575757576, 'score': 0.0}\n",
      "systems/asset.test.simp\n",
      "systems/asset.test.simp\n",
      "ayush\n",
      "102\n",
      "[{'type': 'substitution', 'id': 0, 'original_span': [(76, 84)], 'simplified_span': [(70, 77)], 'annotation': ['same', 'positive', 'minor', '', 'no']}, {'type': 'substitution', 'id': 1, 'original_span': [(88, 98)], 'simplified_span': [(81, 92)], 'annotation': ['same', 'negative', '', 'somewhat', 'no']}, {'type': 'substitution', 'id': 2, 'original_span': [(111, 132)], 'simplified_span': [(106, 123)], 'annotation': ['same', 'positive', 'somewhat', '', 'no']}]\n",
      "{'edit_type': 'structure', 'id': 0, 'information_impact': <Information.SAME: 'Same Information'>, 'type': <Quality.TRIVIAL: 'Trivial'>, 'grammar_error': False, 'error_type': None, 'rating': None, 'size': 0.007575757575757576, 'score': 0.0}\n",
      "systems/T5.txt\n",
      "systems/T5.txt\n",
      "ayush\n",
      "103\n",
      "[{'type': 'substitution', 'id': 0, 'original_span': [(4, 9)], 'simplified_span': [(4, 9)], 'annotation': ['same', 'positive', 'somewhat', '', 'no']}, {'type': 'substitution', 'id': 1, 'original_span': [(76, 84)], 'simplified_span': [(76, 83)], 'annotation': ['same', 'no', '', '', 'no']}]\n",
      "{'edit_type': 'substitution', 'id': 1, 'information_impact': <Information.SAME: 'Same Information'>, 'type': <Quality.TRIVIAL: 'Trivial'>, 'grammar_error': False, 'error_type': None, 'rating': None, 'size': 0.007575757575757576, 'score': 0.0}\n",
      "new_systems/asset.test.simp.second\n",
      "new_systems/asset.test.simp.second\n",
      "ayush\n",
      "104\n",
      "[{'type': 'substitution', 'id': 0, 'original_span': [(4, 9)], 'simplified_span': [(0, 4)], 'annotation': ['different', 'somewhat', 'no']}, {'type': 'substitution', 'id': 1, 'original_span': [(118, 132)], 'simplified_span': [(118, 124)], 'annotation': ['same', 'positive', 'somewhat', '', 'no']}, {'type': 'substitution', 'id': 2, 'original_span': [(36, 42)], 'simplified_span': [(35, 42)], 'annotation': ['same', 'no', '', '', 'no']}]\n",
      "{'edit_type': 'substitution', 'id': 2, 'information_impact': <Information.SAME: 'Same Information'>, 'type': <Quality.TRIVIAL: 'Trivial'>, 'grammar_error': False, 'error_type': None, 'rating': None, 'size': 0.007575757575757576, 'score': 0.0}\n",
      "new_systems/turk_corpus_random.txt\n",
      "new_systems/turk_corpus_random.txt\n",
      "ayush\n",
      "113\n",
      "[]\n",
      "{'edit_type': 'reorder', 'id': 0, 'information_impact': <Information.SAME: 'Same Information'>, 'type': <Quality.TRIVIAL: 'Trivial'>, 'grammar_error': False, 'error_type': None, 'rating': None, 'size': 0.03614457831325301, 'score': 0.0}\n",
      "systems/T5.txt\n",
      "systems/T5.txt\n",
      "ayush\n",
      "113\n",
      "[]\n",
      "{'edit_type': 'reorder', 'id': 1, 'information_impact': <Information.SAME: 'Same Information'>, 'type': <Quality.TRIVIAL: 'Trivial'>, 'grammar_error': False, 'error_type': None, 'rating': None, 'size': 0.008032128514056224, 'score': 0.0}\n",
      "systems/T5.txt\n",
      "systems/T5.txt\n",
      "ayush\n",
      "117\n",
      "[{'type': 'substitution', 'id': 0, 'original_span': [(0, 21)], 'simplified_span': [(0, 2)], 'annotation': ['less', 'bad', 'no', 'no']}, {'type': 'substitution', 'id': 1, 'original_span': [(95, 107)], 'simplified_span': [(76, 88)], 'annotation': ['same', 'positive', 'somewhat', '', 'no']}]\n",
      "{'edit_type': 'reorder', 'id': 0, 'information_impact': <Information.SAME: 'Same Information'>, 'type': <Quality.TRIVIAL: 'Trivial'>, 'grammar_error': False, 'error_type': None, 'rating': None, 'size': 0.0, 'score': 0.0}\n",
      "systems/T5.txt\n",
      "systems/T5.txt\n",
      "ayush\n",
      "118\n",
      "[]\n",
      "{'edit_type': 'reorder', 'id': 0, 'information_impact': <Information.SAME: 'Same Information'>, 'type': <Quality.TRIVIAL: 'Trivial'>, 'grammar_error': False, 'error_type': None, 'rating': None, 'size': 0.008695652173913044, 'score': 0.0}\n",
      "new_systems/asset.test.simp.second\n",
      "new_systems/asset.test.simp.second\n",
      "ayush\n",
      "102\n",
      "[{'type': 'substitution', 'id': 0, 'original_span': [(76, 84)], 'simplified_span': [(70, 77)], 'annotation': ['same', 'positive', 'minor', '', 'no']}, {'type': 'substitution', 'id': 1, 'original_span': [(88, 98), (99, 101)], 'simplified_span': [(81, 92), (93, 96)], 'annotation': ['less', 'good', 'no', '']}, {'type': 'substitution', 'id': 2, 'original_span': [(118, 132)], 'simplified_span': [(106, 115)], 'annotation': ['same', 'positive', 'a lot', '', '']}]\n",
      "{'edit_type': 'structure', 'id': 0, 'information_impact': <Information.SAME: 'Same Information'>, 'type': <Quality.TRIVIAL: 'Trivial'>, 'grammar_error': False, 'error_type': None, 'rating': None, 'size': 0.007575757575757576, 'score': 0.0}\n",
      "systems/T5.txt\n",
      "systems/T5.txt\n",
      "kelly\n",
      "104\n",
      "[{'type': 'substitution', 'id': 0, 'original_span': [(4, 9)], 'simplified_span': [(0, 4)], 'annotation': ['same', 'positive', 'minor', '', 'no']}, {'type': 'substitution', 'id': 1, 'original_span': [(118, 132)], 'simplified_span': [(118, 124)], 'annotation': ['same', 'positive', 'minor', '', 'no']}]\n",
      "{'edit_type': 'reorder', 'id': 0, 'information_impact': <Information.SAME: 'Same Information'>, 'type': <Quality.TRIVIAL: 'Trivial'>, 'grammar_error': False, 'error_type': None, 'rating': None, 'size': 0.007575757575757576, 'score': 0.0}\n",
      "new_systems/turk_corpus_random.txt\n",
      "new_systems/turk_corpus_random.txt\n",
      "kelly\n",
      "105\n",
      "[{'type': 'substitution', 'id': 0, 'original_span': [(53, 69)], 'simplified_span': [(39, 53)], 'annotation': ['less', 'bad', 'no', 'no']}, {'type': 'substitution', 'id': 1, 'original_span': [(74, 83)], 'simplified_span': [(66, 71)], 'annotation': ['different', 'minor', 'no']}, {'type': 'substitution', 'id': 2, 'original_span': [(84, 89)], 'simplified_span': [(72, 78)], 'annotation': ['same', 'positive', 'minor', '', 'no']}]\n",
      "{'edit_type': 'reorder', 'id': 0, 'information_impact': <Information.SAME: 'Same Information'>, 'type': <Quality.TRIVIAL: 'Trivial'>, 'grammar_error': False, 'error_type': None, 'rating': None, 'size': 0.039603960396039604, 'score': 0.0}\n",
      "new_systems/turk_corpus_random.txt\n",
      "new_systems/turk_corpus_random.txt\n",
      "kelly\n",
      "108\n",
      "[{'type': 'substitution', 'id': 1, 'original_span': [(41, 48)], 'simplified_span': [(36, 42)], 'annotation': ['same', 'negative', '', 'minor', 'no']}]\n",
      "{'edit_type': 'structure', 'id': 0, 'information_impact': <Information.SAME: 'Same Information'>, 'type': <Quality.TRIVIAL: 'Trivial'>, 'grammar_error': False, 'error_type': None, 'rating': None, 'size': 0.009900990099009901, 'score': 0.0}\n",
      "systems/con_simplification.txt\n",
      "systems/con_simplification.txt\n",
      "kelly\n",
      "109\n",
      "[{'type': 'substitution', 'id': 0, 'original_span': [(74, 83)], 'simplified_span': [(68, 79)], 'annotation': ['same', 'positive', 'a lot', '', 'no']}, {'type': 'substitution', 'id': 1, 'original_span': [(84, 89)], 'simplified_span': [(62, 67)], 'annotation': ['same', 'positive', 'minor', '', 'no']}, {'type': 'substitution', 'id': 3, 'original_span': [(14, 22)], 'simplified_span': [(9, 15)], 'annotation': ['same', 'no', '', '', 'no']}, {'type': 'substitution', 'id': 4, 'original_span': [(37, 40)], 'simplified_span': [(30, 32)], 'annotation': ['different', 'minor', 'yes']}, {'type': 'substitution', 'id': 5, 'original_span': [(41, 48)], 'simplified_span': [(33, 38)], 'annotation': ['same', 'no', '', '', 'no']}, {'type': 'substitution', 'id': 6, 'original_span': [(53, 69)], 'simplified_span': [(43, 57)], 'annotation': ['same', 'no', '', '', 'no']}, {'type': 'substitution', 'id': 7, 'original_span': [(0, 5)], 'simplified_span': [(4, 8)], 'annotation': ['same', 'positive', 'minor', '', 'no']}]\n",
      "{'edit_type': 'substitution', 'id': 3, 'information_impact': <Information.SAME: 'Same Information'>, 'type': <Quality.TRIVIAL: 'Trivial'>, 'grammar_error': False, 'error_type': None, 'rating': None, 'size': 0.019801980198019802, 'score': 0.0}\n",
      "new_systems/asset.test.simp.second\n",
      "new_systems/asset.test.simp.second\n",
      "kelly\n",
      "109\n",
      "[{'type': 'substitution', 'id': 0, 'original_span': [(74, 83)], 'simplified_span': [(68, 79)], 'annotation': ['same', 'positive', 'a lot', '', 'no']}, {'type': 'substitution', 'id': 1, 'original_span': [(84, 89)], 'simplified_span': [(62, 67)], 'annotation': ['same', 'positive', 'minor', '', 'no']}, {'type': 'substitution', 'id': 3, 'original_span': [(14, 22)], 'simplified_span': [(9, 15)], 'annotation': ['same', 'no', '', '', 'no']}, {'type': 'substitution', 'id': 4, 'original_span': [(37, 40)], 'simplified_span': [(30, 32)], 'annotation': ['different', 'minor', 'yes']}, {'type': 'substitution', 'id': 5, 'original_span': [(41, 48)], 'simplified_span': [(33, 38)], 'annotation': ['same', 'no', '', '', 'no']}, {'type': 'substitution', 'id': 6, 'original_span': [(53, 69)], 'simplified_span': [(43, 57)], 'annotation': ['same', 'no', '', '', 'no']}, {'type': 'substitution', 'id': 7, 'original_span': [(0, 5)], 'simplified_span': [(4, 8)], 'annotation': ['same', 'positive', 'minor', '', 'no']}]\n",
      "{'edit_type': 'substitution', 'id': 5, 'information_impact': <Information.SAME: 'Same Information'>, 'type': <Quality.TRIVIAL: 'Trivial'>, 'grammar_error': False, 'error_type': None, 'rating': None, 'size': 0.019801980198019802, 'score': 0.0}\n",
      "new_systems/asset.test.simp.second\n",
      "new_systems/asset.test.simp.second\n",
      "kelly\n",
      "109\n",
      "[{'type': 'substitution', 'id': 0, 'original_span': [(74, 83)], 'simplified_span': [(68, 79)], 'annotation': ['same', 'positive', 'a lot', '', 'no']}, {'type': 'substitution', 'id': 1, 'original_span': [(84, 89)], 'simplified_span': [(62, 67)], 'annotation': ['same', 'positive', 'minor', '', 'no']}, {'type': 'substitution', 'id': 3, 'original_span': [(14, 22)], 'simplified_span': [(9, 15)], 'annotation': ['same', 'no', '', '', 'no']}, {'type': 'substitution', 'id': 4, 'original_span': [(37, 40)], 'simplified_span': [(30, 32)], 'annotation': ['different', 'minor', 'yes']}, {'type': 'substitution', 'id': 5, 'original_span': [(41, 48)], 'simplified_span': [(33, 38)], 'annotation': ['same', 'no', '', '', 'no']}, {'type': 'substitution', 'id': 6, 'original_span': [(53, 69)], 'simplified_span': [(43, 57)], 'annotation': ['same', 'no', '', '', 'no']}, {'type': 'substitution', 'id': 7, 'original_span': [(0, 5)], 'simplified_span': [(4, 8)], 'annotation': ['same', 'positive', 'minor', '', 'no']}]\n",
      "{'edit_type': 'substitution', 'id': 6, 'information_impact': <Information.SAME: 'Same Information'>, 'type': <Quality.TRIVIAL: 'Trivial'>, 'grammar_error': False, 'error_type': None, 'rating': None, 'size': 0.019801980198019802, 'score': 0.0}\n",
      "new_systems/asset.test.simp.second\n",
      "new_systems/asset.test.simp.second\n",
      "kelly\n",
      "109\n",
      "[{'type': 'substitution', 'id': 0, 'original_span': [(74, 83)], 'simplified_span': [(68, 79)], 'annotation': ['same', 'positive', 'a lot', '', 'no']}, {'type': 'substitution', 'id': 1, 'original_span': [(84, 89)], 'simplified_span': [(62, 67)], 'annotation': ['same', 'positive', 'minor', '', 'no']}, {'type': 'substitution', 'id': 3, 'original_span': [(14, 22)], 'simplified_span': [(9, 15)], 'annotation': ['same', 'no', '', '', 'no']}, {'type': 'substitution', 'id': 4, 'original_span': [(37, 40)], 'simplified_span': [(30, 32)], 'annotation': ['different', 'minor', 'yes']}, {'type': 'substitution', 'id': 5, 'original_span': [(41, 48)], 'simplified_span': [(33, 38)], 'annotation': ['same', 'no', '', '', 'no']}, {'type': 'substitution', 'id': 6, 'original_span': [(53, 69)], 'simplified_span': [(43, 57)], 'annotation': ['same', 'no', '', '', 'no']}, {'type': 'substitution', 'id': 7, 'original_span': [(0, 5)], 'simplified_span': [(4, 8)], 'annotation': ['same', 'positive', 'minor', '', 'no']}]\n",
      "{'edit_type': 'reorder', 'id': 0, 'information_impact': <Information.SAME: 'Same Information'>, 'type': <Quality.TRIVIAL: 'Trivial'>, 'grammar_error': False, 'error_type': None, 'rating': None, 'size': 0.0, 'score': 0.0}\n",
      "new_systems/asset.test.simp.second\n",
      "new_systems/asset.test.simp.second\n",
      "kelly\n",
      "109\n",
      "[{'type': 'substitution', 'id': 0, 'original_span': [(74, 83)], 'simplified_span': [(68, 79)], 'annotation': ['same', 'positive', 'a lot', '', 'no']}, {'type': 'substitution', 'id': 1, 'original_span': [(84, 89)], 'simplified_span': [(62, 67)], 'annotation': ['same', 'positive', 'minor', '', 'no']}, {'type': 'substitution', 'id': 3, 'original_span': [(14, 22)], 'simplified_span': [(9, 15)], 'annotation': ['same', 'no', '', '', 'no']}, {'type': 'substitution', 'id': 4, 'original_span': [(37, 40)], 'simplified_span': [(30, 32)], 'annotation': ['different', 'minor', 'yes']}, {'type': 'substitution', 'id': 5, 'original_span': [(41, 48)], 'simplified_span': [(33, 38)], 'annotation': ['same', 'no', '', '', 'no']}, {'type': 'substitution', 'id': 6, 'original_span': [(53, 69)], 'simplified_span': [(43, 57)], 'annotation': ['same', 'no', '', '', 'no']}, {'type': 'substitution', 'id': 7, 'original_span': [(0, 5)], 'simplified_span': [(4, 8)], 'annotation': ['same', 'positive', 'minor', '', 'no']}]\n",
      "{'edit_type': 'structure', 'id': 0, 'information_impact': <Information.SAME: 'Same Information'>, 'type': <Quality.TRIVIAL: 'Trivial'>, 'grammar_error': False, 'error_type': None, 'rating': None, 'size': 0.04950495049504951, 'score': 0.0}\n",
      "new_systems/asset.test.simp.second\n",
      "new_systems/asset.test.simp.second\n",
      "kelly\n",
      "112\n",
      "[{'type': 'substitution', 'id': 0, 'original_span': [(15, 23)], 'simplified_span': [(15, 22)], 'annotation': ['same', 'positive', 'somewhat', '', 'no']}]\n",
      "{'edit_type': 'structure', 'id': 0, 'information_impact': <Information.SAME: 'Same Information'>, 'type': <Quality.TRIVIAL: 'Trivial'>, 'grammar_error': False, 'error_type': None, 'rating': None, 'size': 0.004016064257028112, 'score': 0.0}\n",
      "new_systems/turk_corpus_random.txt\n",
      "new_systems/turk_corpus_random.txt\n",
      "kelly\n",
      "113\n",
      "[]\n",
      "{'edit_type': 'reorder', 'id': 0, 'information_impact': <Information.SAME: 'Same Information'>, 'type': <Quality.TRIVIAL: 'Trivial'>, 'grammar_error': False, 'error_type': None, 'rating': None, 'size': 0.008032128514056224, 'score': 0.0}\n",
      "systems/T5.txt\n",
      "systems/T5.txt\n",
      "kelly\n",
      "114\n",
      "[{'type': 'substitution', 'id': 0, 'original_span': [(15, 26)], 'simplified_span': [(15, 18)], 'annotation': ['same', 'positive', 'somewhat', '', 'no']}, {'type': 'substitution', 'id': 1, 'original_span': [(36, 45)], 'simplified_span': [(28, 34)], 'annotation': ['same', 'positive', 'somewhat', '', 'no']}]\n",
      "{'edit_type': 'structure', 'id': 0, 'information_impact': <Information.SAME: 'Same Information'>, 'type': <Quality.TRIVIAL: 'Trivial'>, 'grammar_error': False, 'error_type': None, 'rating': None, 'size': 0.0321285140562249, 'score': 0.0}\n",
      "new_systems/asset.test.simp.second\n",
      "new_systems/asset.test.simp.second\n",
      "kelly\n",
      "117\n",
      "[{'type': 'substitution', 'id': 0, 'original_span': [(95, 107)], 'simplified_span': [(72, 88)], 'annotation': ['same', 'no', '', '', 'no']}, {'type': 'substitution', 'id': 1, 'original_span': [(0, 21)], 'simplified_span': [(0, 2)], 'annotation': ['less', 'very bad', 'no', 'yes']}]\n",
      "{'edit_type': 'substitution', 'id': 0, 'information_impact': <Information.SAME: 'Same Information'>, 'type': <Quality.TRIVIAL: 'Trivial'>, 'grammar_error': False, 'error_type': None, 'rating': None, 'size': 0.034782608695652174, 'score': 0.0}\n",
      "systems/T5.txt\n",
      "systems/T5.txt\n",
      "kelly\n",
      "118\n",
      "[{'type': 'substitution', 'id': 0, 'original_span': [(0, 21)], 'simplified_span': [(0, 21)], 'annotation': ['same', 'no', '', '', 'no']}, {'type': 'substitution', 'id': 1, 'original_span': [(69, 84)], 'simplified_span': [(65, 80)], 'annotation': ['same', 'no', '', '', 'no']}]\n",
      "{'edit_type': 'substitution', 'id': 0, 'information_impact': <Information.SAME: 'Same Information'>, 'type': <Quality.TRIVIAL: 'Trivial'>, 'grammar_error': False, 'error_type': None, 'rating': None, 'size': 0.0, 'score': 0.0}\n",
      "new_systems/asset.test.simp.second\n",
      "new_systems/asset.test.simp.second\n",
      "kelly\n",
      "118\n",
      "[{'type': 'substitution', 'id': 0, 'original_span': [(0, 21)], 'simplified_span': [(0, 21)], 'annotation': ['same', 'no', '', '', 'no']}, {'type': 'substitution', 'id': 1, 'original_span': [(69, 84)], 'simplified_span': [(65, 80)], 'annotation': ['same', 'no', '', '', 'no']}]\n",
      "{'edit_type': 'substitution', 'id': 1, 'information_impact': <Information.SAME: 'Same Information'>, 'type': <Quality.TRIVIAL: 'Trivial'>, 'grammar_error': False, 'error_type': None, 'rating': None, 'size': 0.0, 'score': 0.0}\n",
      "new_systems/asset.test.simp.second\n",
      "new_systems/asset.test.simp.second\n",
      "kelly\n",
      "118\n",
      "[{'type': 'substitution', 'id': 0, 'original_span': [(0, 21)], 'simplified_span': [(0, 21)], 'annotation': ['same', 'no', '', '', 'no']}, {'type': 'substitution', 'id': 1, 'original_span': [(69, 84)], 'simplified_span': [(65, 80)], 'annotation': ['same', 'no', '', '', 'no']}]\n",
      "{'edit_type': 'reorder', 'id': 0, 'information_impact': <Information.SAME: 'Same Information'>, 'type': <Quality.TRIVIAL: 'Trivial'>, 'grammar_error': False, 'error_type': None, 'rating': None, 'size': 0.017391304347826087, 'score': 0.0}\n",
      "new_systems/asset.test.simp.second\n",
      "new_systems/asset.test.simp.second\n",
      "kelly\n",
      "119\n",
      "[{'type': 'substitution', 'id': 0, 'original_span': [(95, 107)], 'simplified_span': [(114, 123)], 'annotation': ['same', 'no', '', '', 'no']}]\n",
      "{'edit_type': 'substitution', 'id': 0, 'information_impact': <Information.SAME: 'Same Information'>, 'type': <Quality.TRIVIAL: 'Trivial'>, 'grammar_error': False, 'error_type': None, 'rating': None, 'size': 0.02608695652173913, 'score': 0.0}\n",
      "systems/con_simplification.txt\n",
      "systems/con_simplification.txt\n",
      "kelly\n",
      "122\n",
      "[{'type': 'substitution', 'id': 1, 'original_span': [(99, 110)], 'simplified_span': [(80, 90)], 'annotation': ['same', 'positive', 'a lot', '', 'no']}, {'type': 'substitution', 'id': 2, 'original_span': [(40, 58)], 'simplified_span': [(23, 36)], 'annotation': ['same', 'positive', 'minor', '', 'no']}, {'type': 'substitution', 'id': 3, 'original_span': [(59, 69)], 'simplified_span': [(45, 51)], 'annotation': ['same', 'positive', 'minor', '', 'no']}]\n",
      "{'edit_type': 'reorder', 'id': 0, 'information_impact': <Information.SAME: 'Same Information'>, 'type': <Quality.TRIVIAL: 'Trivial'>, 'grammar_error': False, 'error_type': None, 'rating': None, 'size': 0.0, 'score': 0.0}\n",
      "systems/asset.test.simp\n",
      "systems/asset.test.simp\n",
      "rachel\n",
      "122\n",
      "[{'type': 'substitution', 'id': 1, 'original_span': [(99, 110)], 'simplified_span': [(80, 90)], 'annotation': ['same', 'positive', 'a lot', '', 'no']}, {'type': 'substitution', 'id': 2, 'original_span': [(40, 58)], 'simplified_span': [(23, 36)], 'annotation': ['same', 'positive', 'minor', '', 'no']}, {'type': 'substitution', 'id': 3, 'original_span': [(59, 69)], 'simplified_span': [(45, 51)], 'annotation': ['same', 'positive', 'minor', '', 'no']}]\n",
      "{'edit_type': 'reorder', 'id': 1, 'information_impact': <Information.SAME: 'Same Information'>, 'type': <Quality.TRIVIAL: 'Trivial'>, 'grammar_error': False, 'error_type': None, 'rating': None, 'size': 0.0, 'score': 0.0}\n",
      "systems/asset.test.simp\n",
      "systems/asset.test.simp\n",
      "rachel\n",
      "131\n",
      "[{'type': 'substitution', 'id': 0, 'original_span': [(0, 5)], 'simplified_span': [(0, 9)], 'annotation': ['same', 'no', '', '', 'no']}]\n",
      "{'edit_type': 'substitution', 'id': 0, 'information_impact': <Information.SAME: 'Same Information'>, 'type': <Quality.TRIVIAL: 'Trivial'>, 'grammar_error': False, 'error_type': None, 'rating': None, 'size': 0.023952095808383235, 'score': 0.0}\n",
      "systems/asset.test.simp\n",
      "systems/asset.test.simp\n",
      "rachel\n",
      "125\n",
      "[{'type': 'substitution', 'id': 0, 'original_span': [(0, 8)], 'simplified_span': [(0, 6)], 'annotation': ['same', 'positive', 'somewhat', '', 'no']}, {'type': 'substitution', 'id': 1, 'original_span': [(68, 75)], 'simplified_span': [(63, 69)], 'annotation': ['same', 'no', '', '', 'yes']}, {'type': 'substitution', 'id': 2, 'original_span': [(9, 34)], 'simplified_span': [(7, 25)], 'annotation': ['same', 'positive', 'a lot', '', 'no']}]\n",
      "{'edit_type': 'substitution', 'id': 1, 'information_impact': <Information.SAME: 'Same Information'>, 'type': <Quality.TRIVIAL: 'Trivial'>, 'grammar_error': True, 'error_type': None, 'rating': None, 'size': 0.00819672131147541, 'score': -0.0}\n",
      "new_systems/asset.test.simp.second\n",
      "new_systems/asset.test.simp.second\n",
      "vinayak\n",
      "122\n",
      "[{'type': 'substitution', 'id': 0, 'original_span': [(3, 7)], 'simplified_span': [(40, 44)], 'annotation': ['different', 'very', 'no']}, {'type': 'substitution', 'id': 1, 'original_span': [(59, 69)], 'simplified_span': [(45, 51)], 'annotation': ['same', 'no', '', '', 'no']}, {'type': 'substitution', 'id': 2, 'original_span': [(99, 110)], 'simplified_span': [(80, 90)], 'annotation': ['same', 'positive', 'a lot', '', 'no']}]\n",
      "{'edit_type': 'substitution', 'id': 1, 'information_impact': <Information.SAME: 'Same Information'>, 'type': <Quality.TRIVIAL: 'Trivial'>, 'grammar_error': False, 'error_type': None, 'rating': None, 'size': 0.01818181818181818, 'score': 0.0}\n",
      "systems/asset.test.simp\n",
      "systems/asset.test.simp\n",
      "vishnesh\n"
     ]
    }
   ],
   "source": [
    "# TODO: trivial edits on substitutions aren't being processed correctly\n",
    "for sent in data:\n",
    "    for ann in sent['processed_annotations']:\n",
    "        if ann['type'] == Quality.TRIVIAL and ann['rating'] == None:\n",
    "            print(sent['id'])\n",
    "            print([e for e in sent['edits'] if e['type'] == 'substitution'])\n",
    "            print(ann)\n",
    "            print(sent['system'])\n",
    "            print(sent['system'])\n",
    "            print(sent['user'])"
   ]
  },
  {
   "cell_type": "code",
   "execution_count": 9,
   "metadata": {},
   "outputs": [
    {
     "data": {
      "image/png": "[encoded data removed]",
      "text/plain": [
       "<Figure size 576x288 with 1 Axes>"
      ]
     },
     "metadata": {
      "needs_background": "light"
     },
     "output_type": "display_data"
    }
   ],
   "source": [
    "edit_type_by_system(data, flipped=True)"
   ]
  },
  {
   "cell_type": "code",
   "execution_count": 10,
   "metadata": {},
   "outputs": [
    {
     "data": {
      "image/png": "[encoded data removed]",
      "text/plain": [
       "<Figure size 576x288 with 1 Axes>"
      ]
     },
     "metadata": {
      "needs_background": "light"
     },
     "output_type": "display_data"
    }
   ],
   "source": [
    "system_by_information_change(data)"
   ]
  },
  {
   "cell_type": "code",
   "execution_count": 11,
   "metadata": {},
   "outputs": [
    {
     "data": {
      "image/png": "[encoded data removed]",
      "text/plain": [
       "<Figure size 432x288 with 1 Axes>"
      ]
     },
     "metadata": {
      "needs_background": "light"
     },
     "output_type": "display_data"
    }
   ],
   "source": [
    "errors_by_system(data)"
   ]
  },
  {
   "cell_type": "code",
   "execution_count": 12,
   "metadata": {},
   "outputs": [
    {
     "data": {
      "application/vnd.plotly.v1+json": {
       "config": {
        "plotlyServerURL": "https://plot.ly"
       },
       "data": [
        {
         "link": {
          "source": [
           5,
           87,
           87,
           87,
           4,
           71,
           71,
           71,
           3,
           55,
           55,
           55,
           2,
           2,
           2,
           2,
           41,
           40,
           40,
           39,
           39,
           39,
           38,
           38,
           1,
           24,
           24,
           24,
           0,
           6,
           6
          ],
          "target": [
           87,
           93,
           94,
           95,
           71,
           77,
           78,
           79,
           55,
           61,
           62,
           63,
           38,
           39,
           40,
           41,
           53,
           48,
           50,
           45,
           46,
           47,
           42,
           44,
           24,
           32,
           33,
           34,
           6,
           10,
           12
          ],
          "value": [
           25,
           15,
           2,
           8,
           121,
           88,
           17,
           16,
           73,
           32,
           28,
           13,
           52,
           400,
           12,
           48,
           48,
           9,
           3,
           281,
           84,
           35,
           50,
           2,
           131,
           22,
           45,
           64,
           396,
           393,
           3
          ]
         },
         "node": {
          "color": [
           "#ee2a2a",
           "#64C466",
           "#2186eb",
           "#3ca3a7",
           "#FF9F15",
           "#F7CE46",
           "#ee2a2a",
           "#2186eb",
           "#64C466",
           "#b103fc",
           "black",
           "black",
           "black",
           "black",
           "black",
           "black",
           "black",
           "black",
           "black",
           "black",
           "black",
           "black",
           "#ee2a2a",
           "#2186eb",
           "#64C466",
           "#b103fc",
           "black",
           "black",
           "black",
           "black",
           "black",
           "black",
           "black",
           "black",
           "black",
           "black",
           "black",
           "black",
           "#ee2a2a",
           "#2186eb",
           "#64C466",
           "#b103fc",
           "black",
           "black",
           "black",
           "black",
           "black",
           "black",
           "black",
           "black",
           "black",
           "black",
           "black",
           "black",
           "#ee2a2a",
           "#2186eb",
           "#64C466",
           "#b103fc",
           "black",
           "black",
           "black",
           "black",
           "black",
           "black",
           "black",
           "black",
           "black",
           "black",
           "black",
           "black",
           "#ee2a2a",
           "#2186eb",
           "#64C466",
           "#b103fc",
           "black",
           "black",
           "black",
           "black",
           "black",
           "black",
           "black",
           "black",
           "black",
           "black",
           "black",
           "black",
           "#ee2a2a",
           "#2186eb",
           "#64C466",
           "#b103fc",
           "black",
           "black",
           "black",
           "black",
           "black",
           "black",
           "black",
           "black",
           "black",
           "black",
           "black",
           "black"
          ],
          "label": [
           "deletion",
           "insertion",
           "substitution",
           "reorder",
           "structure",
           "split",
           "less information",
           "same information",
           "more information",
           "different information",
           "no error",
           "trivial",
           "error",
           "no error",
           "trivial",
           "error",
           "no error",
           "trivial",
           "error",
           "no error",
           "trivial",
           "error",
           "less information",
           "same information",
           "more information",
           "different information",
           "no error",
           "trivial",
           "error",
           "no error",
           "trivial",
           "error",
           "no error",
           "trivial",
           "error",
           "no error",
           "trivial",
           "error",
           "less information",
           "same information",
           "more information",
           "different information",
           "no error",
           "trivial",
           "error",
           "no error",
           "trivial",
           "error",
           "no error",
           "trivial",
           "error",
           "no error",
           "trivial",
           "error",
           "less information",
           "same information",
           "more information",
           "different information",
           "no error",
           "trivial",
           "error",
           "no error",
           "trivial",
           "error",
           "no error",
           "trivial",
           "error",
           "no error",
           "trivial",
           "error",
           "less information",
           "same information",
           "more information",
           "different information",
           "no error",
           "trivial",
           "error",
           "no error",
           "trivial",
           "error",
           "no error",
           "trivial",
           "error",
           "no error",
           "trivial",
           "error",
           "less information",
           "same information",
           "more information",
           "different information",
           "no error",
           "trivial",
           "error",
           "no error",
           "trivial",
           "error",
           "no error",
           "trivial",
           "error",
           "no error",
           "trivial",
           "error"
          ],
          "line": {
           "color": "black",
           "width": 0.5
          },
          "pad": 5,
          "thickness": 10
         },
         "type": "sankey",
         "valueformat": "d",
         "valuesuffix": " edits"
        }
       ],
       "layout": {
        "font": {
         "size": 11
        },
        "height": 500,
        "template": {
         "data": {
          "bar": [
           {
            "error_x": {
             "color": "#2a3f5f"
            },
            "error_y": {
             "color": "#2a3f5f"
            },
            "marker": {
             "line": {
              "color": "#E5ECF6",
              "width": 0.5
             },
             "pattern": {
              "fillmode": "overlay",
              "size": 10,
              "solidity": 0.2
             }
            },
            "type": "bar"
           }
          ],
          "barpolar": [
           {
            "marker": {
             "line": {
              "color": "#E5ECF6",
              "width": 0.5
             },
             "pattern": {
              "fillmode": "overlay",
              "size": 10,
              "solidity": 0.2
             }
            },
            "type": "barpolar"
           }
          ],
          "carpet": [
           {
            "aaxis": {
             "endlinecolor": "#2a3f5f",
             "gridcolor": "white",
             "linecolor": "white",
             "minorgridcolor": "white",
             "startlinecolor": "#2a3f5f"
            },
            "baxis": {
             "endlinecolor": "#2a3f5f",
             "gridcolor": "white",
             "linecolor": "white",
             "minorgridcolor": "white",
             "startlinecolor": "#2a3f5f"
            },
            "type": "carpet"
           }
          ],
          "choropleth": [
           {
            "colorbar": {
             "outlinewidth": 0,
             "ticks": ""
            },
            "type": "choropleth"
           }
          ],
          "contour": [
           {
            "colorbar": {
             "outlinewidth": 0,
             "ticks": ""
            },
            "colorscale": [
             [
              0,
              "#0d0887"
             ],
             [
              0.1111111111111111,
              "#46039f"
             ],
             [
              0.2222222222222222,
              "#7201a8"
             ],
             [
              0.3333333333333333,
              "#9c179e"
             ],
             [
              0.4444444444444444,
              "#bd3786"
             ],
             [
              0.5555555555555556,
              "#d8576b"
             ],
             [
              0.6666666666666666,
              "#ed7953"
             ],
             [
              0.7777777777777778,
              "#fb9f3a"
             ],
             [
              0.8888888888888888,
              "#fdca26"
             ],
             [
              1,
              "#f0f921"
             ]
            ],
            "type": "contour"
           }
          ],
          "contourcarpet": [
           {
            "colorbar": {
             "outlinewidth": 0,
             "ticks": ""
            },
            "type": "contourcarpet"
           }
          ],
          "heatmap": [
           {
            "colorbar": {
             "outlinewidth": 0,
             "ticks": ""
            },
            "colorscale": [
             [
              0,
              "#0d0887"
             ],
             [
              0.1111111111111111,
              "#46039f"
             ],
             [
              0.2222222222222222,
              "#7201a8"
             ],
             [
              0.3333333333333333,
              "#9c179e"
             ],
             [
              0.4444444444444444,
              "#bd3786"
             ],
             [
              0.5555555555555556,
              "#d8576b"
             ],
             [
              0.6666666666666666,
              "#ed7953"
             ],
             [
              0.7777777777777778,
              "#fb9f3a"
             ],
             [
              0.8888888888888888,
              "#fdca26"
             ],
             [
              1,
              "#f0f921"
             ]
            ],
            "type": "heatmap"
           }
          ],
          "heatmapgl": [
           {
            "colorbar": {
             "outlinewidth": 0,
             "ticks": ""
            },
            "colorscale": [
             [
              0,
              "#0d0887"
             ],
             [
              0.1111111111111111,
              "#46039f"
             ],
             [
              0.2222222222222222,
              "#7201a8"
             ],
             [
              0.3333333333333333,
              "#9c179e"
             ],
             [
              0.4444444444444444,
              "#bd3786"
             ],
             [
              0.5555555555555556,
              "#d8576b"
             ],
             [
              0.6666666666666666,
              "#ed7953"
             ],
             [
              0.7777777777777778,
              "#fb9f3a"
             ],
             [
              0.8888888888888888,
              "#fdca26"
             ],
             [
              1,
              "#f0f921"
             ]
            ],
            "type": "heatmapgl"
           }
          ],
          "histogram": [
           {
            "marker": {
             "pattern": {
              "fillmode": "overlay",
              "size": 10,
              "solidity": 0.2
             }
            },
            "type": "histogram"
           }
          ],
          "histogram2d": [
           {
            "colorbar": {
             "outlinewidth": 0,
             "ticks": ""
            },
            "colorscale": [
             [
              0,
              "#0d0887"
             ],
             [
              0.1111111111111111,
              "#46039f"
             ],
             [
              0.2222222222222222,
              "#7201a8"
             ],
             [
              0.3333333333333333,
              "#9c179e"
             ],
             [
              0.4444444444444444,
              "#bd3786"
             ],
             [
              0.5555555555555556,
              "#d8576b"
             ],
             [
              0.6666666666666666,
              "#ed7953"
             ],
             [
              0.7777777777777778,
              "#fb9f3a"
             ],
             [
              0.8888888888888888,
              "#fdca26"
             ],
             [
              1,
              "#f0f921"
             ]
            ],
            "type": "histogram2d"
           }
          ],
          "histogram2dcontour": [
           {
            "colorbar": {
             "outlinewidth": 0,
             "ticks": ""
            },
            "colorscale": [
             [
              0,
              "#0d0887"
             ],
             [
              0.1111111111111111,
              "#46039f"
             ],
             [
              0.2222222222222222,
              "#7201a8"
             ],
             [
              0.3333333333333333,
              "#9c179e"
             ],
             [
              0.4444444444444444,
              "#bd3786"
             ],
             [
              0.5555555555555556,
              "#d8576b"
             ],
             [
              0.6666666666666666,
              "#ed7953"
             ],
             [
              0.7777777777777778,
              "#fb9f3a"
             ],
             [
              0.8888888888888888,
              "#fdca26"
             ],
             [
              1,
              "#f0f921"
             ]
            ],
            "type": "histogram2dcontour"
           }
          ],
          "mesh3d": [
           {
            "colorbar": {
             "outlinewidth": 0,
             "ticks": ""
            },
            "type": "mesh3d"
           }
          ],
          "parcoords": [
           {
            "line": {
             "colorbar": {
              "outlinewidth": 0,
              "ticks": ""
             }
            },
            "type": "parcoords"
           }
          ],
          "pie": [
           {
            "automargin": true,
            "type": "pie"
           }
          ],
          "scatter": [
           {
            "fillpattern": {
             "fillmode": "overlay",
             "size": 10,
             "solidity": 0.2
            },
            "type": "scatter"
           }
          ],
          "scatter3d": [
           {
            "line": {
             "colorbar": {
              "outlinewidth": 0,
              "ticks": ""
             }
            },
            "marker": {
             "colorbar": {
              "outlinewidth": 0,
              "ticks": ""
             }
            },
            "type": "scatter3d"
           }
          ],
          "scattercarpet": [
           {
            "marker": {
             "colorbar": {
              "outlinewidth": 0,
              "ticks": ""
             }
            },
            "type": "scattercarpet"
           }
          ],
          "scattergeo": [
           {
            "marker": {
             "colorbar": {
              "outlinewidth": 0,
              "ticks": ""
             }
            },
            "type": "scattergeo"
           }
          ],
          "scattergl": [
           {
            "marker": {
             "colorbar": {
              "outlinewidth": 0,
              "ticks": ""
             }
            },
            "type": "scattergl"
           }
          ],
          "scattermapbox": [
           {
            "marker": {
             "colorbar": {
              "outlinewidth": 0,
              "ticks": ""
             }
            },
            "type": "scattermapbox"
           }
          ],
          "scatterpolar": [
           {
            "marker": {
             "colorbar": {
              "outlinewidth": 0,
              "ticks": ""
             }
            },
            "type": "scatterpolar"
           }
          ],
          "scatterpolargl": [
           {
            "marker": {
             "colorbar": {
              "outlinewidth": 0,
              "ticks": ""
             }
            },
            "type": "scatterpolargl"
           }
          ],
          "scatterternary": [
           {
            "marker": {
             "colorbar": {
              "outlinewidth": 0,
              "ticks": ""
             }
            },
            "type": "scatterternary"
           }
          ],
          "surface": [
           {
            "colorbar": {
             "outlinewidth": 0,
             "ticks": ""
            },
            "colorscale": [
             [
              0,
              "#0d0887"
             ],
             [
              0.1111111111111111,
              "#46039f"
             ],
             [
              0.2222222222222222,
              "#7201a8"
             ],
             [
              0.3333333333333333,
              "#9c179e"
             ],
             [
              0.4444444444444444,
              "#bd3786"
             ],
             [
              0.5555555555555556,
              "#d8576b"
             ],
             [
              0.6666666666666666,
              "#ed7953"
             ],
             [
              0.7777777777777778,
              "#fb9f3a"
             ],
             [
              0.8888888888888888,
              "#fdca26"
             ],
             [
              1,
              "#f0f921"
             ]
            ],
            "type": "surface"
           }
          ],
          "table": [
           {
            "cells": {
             "fill": {
              "color": "#EBF0F8"
             },
             "line": {
              "color": "white"
             }
            },
            "header": {
             "fill": {
              "color": "#C8D4E3"
             },
             "line": {
              "color": "white"
             }
            },
            "type": "table"
           }
          ]
         },
         "layout": {
          "annotationdefaults": {
           "arrowcolor": "#2a3f5f",
           "arrowhead": 0,
           "arrowwidth": 1
          },
          "autotypenumbers": "strict",
          "coloraxis": {
           "colorbar": {
            "outlinewidth": 0,
            "ticks": ""
           }
          },
          "colorscale": {
           "diverging": [
            [
             0,
             "#8e0152"
            ],
            [
             0.1,
             "#c51b7d"
            ],
            [
             0.2,
             "#de77ae"
            ],
            [
             0.3,
             "#f1b6da"
            ],
            [
             0.4,
             "#fde0ef"
            ],
            [
             0.5,
             "#f7f7f7"
            ],
            [
             0.6,
             "#e6f5d0"
            ],
            [
             0.7,
             "#b8e186"
            ],
            [
             0.8,
             "#7fbc41"
            ],
            [
             0.9,
             "#4d9221"
            ],
            [
             1,
             "#276419"
            ]
           ],
           "sequential": [
            [
             0,
             "#0d0887"
            ],
            [
             0.1111111111111111,
             "#46039f"
            ],
            [
             0.2222222222222222,
             "#7201a8"
            ],
            [
             0.3333333333333333,
             "#9c179e"
            ],
            [
             0.4444444444444444,
             "#bd3786"
            ],
            [
             0.5555555555555556,
             "#d8576b"
            ],
            [
             0.6666666666666666,
             "#ed7953"
            ],
            [
             0.7777777777777778,
             "#fb9f3a"
            ],
            [
             0.8888888888888888,
             "#fdca26"
            ],
            [
             1,
             "#f0f921"
            ]
           ],
           "sequentialminus": [
            [
             0,
             "#0d0887"
            ],
            [
             0.1111111111111111,
             "#46039f"
            ],
            [
             0.2222222222222222,
             "#7201a8"
            ],
            [
             0.3333333333333333,
             "#9c179e"
            ],
            [
             0.4444444444444444,
             "#bd3786"
            ],
            [
             0.5555555555555556,
             "#d8576b"
            ],
            [
             0.6666666666666666,
             "#ed7953"
            ],
            [
             0.7777777777777778,
             "#fb9f3a"
            ],
            [
             0.8888888888888888,
             "#fdca26"
            ],
            [
             1,
             "#f0f921"
            ]
           ]
          },
          "colorway": [
           "#636efa",
           "#EF553B",
           "#00cc96",
           "#ab63fa",
           "#FFA15A",
           "#19d3f3",
           "#FF6692",
           "#B6E880",
           "#FF97FF",
           "#FECB52"
          ],
          "font": {
           "color": "#2a3f5f"
          },
          "geo": {
           "bgcolor": "white",
           "lakecolor": "white",
           "landcolor": "#E5ECF6",
           "showlakes": true,
           "showland": true,
           "subunitcolor": "white"
          },
          "hoverlabel": {
           "align": "left"
          },
          "hovermode": "closest",
          "mapbox": {
           "style": "light"
          },
          "paper_bgcolor": "white",
          "plot_bgcolor": "#E5ECF6",
          "polar": {
           "angularaxis": {
            "gridcolor": "white",
            "linecolor": "white",
            "ticks": ""
           },
           "bgcolor": "#E5ECF6",
           "radialaxis": {
            "gridcolor": "white",
            "linecolor": "white",
            "ticks": ""
           }
          },
          "scene": {
           "xaxis": {
            "backgroundcolor": "#E5ECF6",
            "gridcolor": "white",
            "gridwidth": 2,
            "linecolor": "white",
            "showbackground": true,
            "ticks": "",
            "zerolinecolor": "white"
           },
           "yaxis": {
            "backgroundcolor": "#E5ECF6",
            "gridcolor": "white",
            "gridwidth": 2,
            "linecolor": "white",
            "showbackground": true,
            "ticks": "",
            "zerolinecolor": "white"
           },
           "zaxis": {
            "backgroundcolor": "#E5ECF6",
            "gridcolor": "white",
            "gridwidth": 2,
            "linecolor": "white",
            "showbackground": true,
            "ticks": "",
            "zerolinecolor": "white"
           }
          },
          "shapedefaults": {
           "line": {
            "color": "#2a3f5f"
           }
          },
          "ternary": {
           "aaxis": {
            "gridcolor": "white",
            "linecolor": "white",
            "ticks": ""
           },
           "baxis": {
            "gridcolor": "white",
            "linecolor": "white",
            "ticks": ""
           },
           "bgcolor": "#E5ECF6",
           "caxis": {
            "gridcolor": "white",
            "linecolor": "white",
            "ticks": ""
           }
          },
          "title": {
           "x": 0.05
          },
          "xaxis": {
           "automargin": true,
           "gridcolor": "white",
           "linecolor": "white",
           "ticks": "",
           "title": {
            "standoff": 15
           },
           "zerolinecolor": "white",
           "zerolinewidth": 2
          },
          "yaxis": {
           "automargin": true,
           "gridcolor": "white",
           "linecolor": "white",
           "ticks": "",
           "title": {
            "standoff": 15
           },
           "zerolinecolor": "white",
           "zerolinewidth": 2
          }
         }
        },
        "title": {
         "text": "Edit Type Distribution"
        },
        "width": 500
       }
      }
     },
     "metadata": {},
     "output_type": "display_data"
    }
   ],
   "source": [
    "sankey_seperated(data)"
   ]
  },
  {
   "cell_type": "code",
   "execution_count": 13,
   "metadata": {},
   "outputs": [
    {
     "data": {
      "application/vnd.plotly.v1+json": {
       "config": {
        "plotlyServerURL": "https://plot.ly"
       },
       "data": [
        {
         "link": {
          "source": [
           0,
           0,
           0,
           0,
           1,
           1,
           1,
           1,
           2,
           2,
           2,
           2,
           3,
           3,
           3,
           3,
           4,
           4,
           4,
           4,
           5,
           5,
           5,
           5,
           6,
           6,
           6,
           7,
           7,
           7,
           8,
           8,
           8,
           9,
           9,
           9,
           10,
           10,
           10,
           10,
           10,
           10,
           10,
           10,
           11,
           11,
           11,
           11,
           11,
           11,
           11,
           11,
           12,
           12,
           12,
           12,
           12,
           12,
           12,
           12,
           10,
           10,
           10,
           10,
           11,
           11,
           11,
           11
          ],
          "target": [
           6,
           7,
           8,
           9,
           6,
           7,
           8,
           9,
           6,
           7,
           8,
           9,
           6,
           7,
           8,
           9,
           6,
           7,
           8,
           9,
           6,
           7,
           8,
           9,
           10,
           11,
           12,
           10,
           11,
           12,
           10,
           11,
           12,
           10,
           11,
           12,
           13,
           14,
           15,
           16,
           17,
           18,
           19,
           20,
           13,
           14,
           15,
           16,
           17,
           18,
           19,
           20,
           13,
           14,
           15,
           16,
           17,
           18,
           19,
           20,
           21,
           22,
           23,
           24,
           25,
           26,
           27,
           28
          ],
          "value": [
           396,
           0,
           0,
           0,
           0,
           0,
           131,
           0,
           52,
           400,
           12,
           48,
           0,
           73,
           0,
           0,
           0,
           121,
           0,
           0,
           0,
           25,
           0,
           0,
           443,
           0,
           5,
           416,
           131,
           72,
           31,
           45,
           67,
           0,
           0,
           48,
           0,
           0,
           0,
           0,
           0,
           0,
           0,
           0,
           0,
           0,
           0,
           0,
           0,
           0,
           0,
           0,
           5,
           48,
           22,
           1,
           0,
           11,
           28,
           72,
           132,
           271,
           313,
           174,
           33,
           8,
           4,
           176
          ]
         },
         "node": {
          "color": [
           "#ee2a2a",
           "#64C466",
           "#2186eb",
           "#3ca3a7",
           "#FF9F15",
           "#F7CE46",
           "#ee2a2a",
           "#2186eb",
           "#64C466",
           "#b103fc",
           "black",
           "black",
           "black",
           "black",
           "black",
           "black",
           "black",
           "black",
           "black",
           "black",
           "black",
           "black",
           "black",
           "black",
           "black",
           "black",
           "black",
           "black",
           "black"
          ],
          "label": [
           "Deletion",
           "Insertion",
           "Substitution",
           "Reorder",
           "Structure",
           "Split",
           "Less information",
           "Same information",
           "More information",
           "Different information",
           "No error",
           "Trivial",
           "Error",
           "Coreference",
           "Information rewrite",
           "Repetition",
           "Contradiction",
           "Hallucination",
           "Irrelevant",
           "Unnecessary insertion",
           "Complex wording",
           "Very bad",
           "Bad",
           "Good",
           "Perfect",
           "0 rating",
           "1 rating",
           "2 rating",
           "Trivial paraphrase"
          ],
          "line": {
           "color": "black",
           "width": 0.5
          },
          "pad": 15,
          "thickness": 10
         },
         "type": "sankey",
         "valueformat": "d",
         "valuesuffix": " edits"
        }
       ],
       "layout": {
        "font": {
         "color": "black",
         "size": 11
        },
        "height": 500,
        "template": {
         "data": {
          "bar": [
           {
            "error_x": {
             "color": "#2a3f5f"
            },
            "error_y": {
             "color": "#2a3f5f"
            },
            "marker": {
             "line": {
              "color": "#E5ECF6",
              "width": 0.5
             },
             "pattern": {
              "fillmode": "overlay",
              "size": 10,
              "solidity": 0.2
             }
            },
            "type": "bar"
           }
          ],
          "barpolar": [
           {
            "marker": {
             "line": {
              "color": "#E5ECF6",
              "width": 0.5
             },
             "pattern": {
              "fillmode": "overlay",
              "size": 10,
              "solidity": 0.2
             }
            },
            "type": "barpolar"
           }
          ],
          "carpet": [
           {
            "aaxis": {
             "endlinecolor": "#2a3f5f",
             "gridcolor": "white",
             "linecolor": "white",
             "minorgridcolor": "white",
             "startlinecolor": "#2a3f5f"
            },
            "baxis": {
             "endlinecolor": "#2a3f5f",
             "gridcolor": "white",
             "linecolor": "white",
             "minorgridcolor": "white",
             "startlinecolor": "#2a3f5f"
            },
            "type": "carpet"
           }
          ],
          "choropleth": [
           {
            "colorbar": {
             "outlinewidth": 0,
             "ticks": ""
            },
            "type": "choropleth"
           }
          ],
          "contour": [
           {
            "colorbar": {
             "outlinewidth": 0,
             "ticks": ""
            },
            "colorscale": [
             [
              0,
              "#0d0887"
             ],
             [
              0.1111111111111111,
              "#46039f"
             ],
             [
              0.2222222222222222,
              "#7201a8"
             ],
             [
              0.3333333333333333,
              "#9c179e"
             ],
             [
              0.4444444444444444,
              "#bd3786"
             ],
             [
              0.5555555555555556,
              "#d8576b"
             ],
             [
              0.6666666666666666,
              "#ed7953"
             ],
             [
              0.7777777777777778,
              "#fb9f3a"
             ],
             [
              0.8888888888888888,
              "#fdca26"
             ],
             [
              1,
              "#f0f921"
             ]
            ],
            "type": "contour"
           }
          ],
          "contourcarpet": [
           {
            "colorbar": {
             "outlinewidth": 0,
             "ticks": ""
            },
            "type": "contourcarpet"
           }
          ],
          "heatmap": [
           {
            "colorbar": {
             "outlinewidth": 0,
             "ticks": ""
            },
            "colorscale": [
             [
              0,
              "#0d0887"
             ],
             [
              0.1111111111111111,
              "#46039f"
             ],
             [
              0.2222222222222222,
              "#7201a8"
             ],
             [
              0.3333333333333333,
              "#9c179e"
             ],
             [
              0.4444444444444444,
              "#bd3786"
             ],
             [
              0.5555555555555556,
              "#d8576b"
             ],
             [
              0.6666666666666666,
              "#ed7953"
             ],
             [
              0.7777777777777778,
              "#fb9f3a"
             ],
             [
              0.8888888888888888,
              "#fdca26"
             ],
             [
              1,
              "#f0f921"
             ]
            ],
            "type": "heatmap"
           }
          ],
          "heatmapgl": [
           {
            "colorbar": {
             "outlinewidth": 0,
             "ticks": ""
            },
            "colorscale": [
             [
              0,
              "#0d0887"
             ],
             [
              0.1111111111111111,
              "#46039f"
             ],
             [
              0.2222222222222222,
              "#7201a8"
             ],
             [
              0.3333333333333333,
              "#9c179e"
             ],
             [
              0.4444444444444444,
              "#bd3786"
             ],
             [
              0.5555555555555556,
              "#d8576b"
             ],
             [
              0.6666666666666666,
              "#ed7953"
             ],
             [
              0.7777777777777778,
              "#fb9f3a"
             ],
             [
              0.8888888888888888,
              "#fdca26"
             ],
             [
              1,
              "#f0f921"
             ]
            ],
            "type": "heatmapgl"
           }
          ],
          "histogram": [
           {
            "marker": {
             "pattern": {
              "fillmode": "overlay",
              "size": 10,
              "solidity": 0.2
             }
            },
            "type": "histogram"
           }
          ],
          "histogram2d": [
           {
            "colorbar": {
             "outlinewidth": 0,
             "ticks": ""
            },
            "colorscale": [
             [
              0,
              "#0d0887"
             ],
             [
              0.1111111111111111,
              "#46039f"
             ],
             [
              0.2222222222222222,
              "#7201a8"
             ],
             [
              0.3333333333333333,
              "#9c179e"
             ],
             [
              0.4444444444444444,
              "#bd3786"
             ],
             [
              0.5555555555555556,
              "#d8576b"
             ],
             [
              0.6666666666666666,
              "#ed7953"
             ],
             [
              0.7777777777777778,
              "#fb9f3a"
             ],
             [
              0.8888888888888888,
              "#fdca26"
             ],
             [
              1,
              "#f0f921"
             ]
            ],
            "type": "histogram2d"
           }
          ],
          "histogram2dcontour": [
           {
            "colorbar": {
             "outlinewidth": 0,
             "ticks": ""
            },
            "colorscale": [
             [
              0,
              "#0d0887"
             ],
             [
              0.1111111111111111,
              "#46039f"
             ],
             [
              0.2222222222222222,
              "#7201a8"
             ],
             [
              0.3333333333333333,
              "#9c179e"
             ],
             [
              0.4444444444444444,
              "#bd3786"
             ],
             [
              0.5555555555555556,
              "#d8576b"
             ],
             [
              0.6666666666666666,
              "#ed7953"
             ],
             [
              0.7777777777777778,
              "#fb9f3a"
             ],
             [
              0.8888888888888888,
              "#fdca26"
             ],
             [
              1,
              "#f0f921"
             ]
            ],
            "type": "histogram2dcontour"
           }
          ],
          "mesh3d": [
           {
            "colorbar": {
             "outlinewidth": 0,
             "ticks": ""
            },
            "type": "mesh3d"
           }
          ],
          "parcoords": [
           {
            "line": {
             "colorbar": {
              "outlinewidth": 0,
              "ticks": ""
             }
            },
            "type": "parcoords"
           }
          ],
          "pie": [
           {
            "automargin": true,
            "type": "pie"
           }
          ],
          "scatter": [
           {
            "fillpattern": {
             "fillmode": "overlay",
             "size": 10,
             "solidity": 0.2
            },
            "type": "scatter"
           }
          ],
          "scatter3d": [
           {
            "line": {
             "colorbar": {
              "outlinewidth": 0,
              "ticks": ""
             }
            },
            "marker": {
             "colorbar": {
              "outlinewidth": 0,
              "ticks": ""
             }
            },
            "type": "scatter3d"
           }
          ],
          "scattercarpet": [
           {
            "marker": {
             "colorbar": {
              "outlinewidth": 0,
              "ticks": ""
             }
            },
            "type": "scattercarpet"
           }
          ],
          "scattergeo": [
           {
            "marker": {
             "colorbar": {
              "outlinewidth": 0,
              "ticks": ""
             }
            },
            "type": "scattergeo"
           }
          ],
          "scattergl": [
           {
            "marker": {
             "colorbar": {
              "outlinewidth": 0,
              "ticks": ""
             }
            },
            "type": "scattergl"
           }
          ],
          "scattermapbox": [
           {
            "marker": {
             "colorbar": {
              "outlinewidth": 0,
              "ticks": ""
             }
            },
            "type": "scattermapbox"
           }
          ],
          "scatterpolar": [
           {
            "marker": {
             "colorbar": {
              "outlinewidth": 0,
              "ticks": ""
             }
            },
            "type": "scatterpolar"
           }
          ],
          "scatterpolargl": [
           {
            "marker": {
             "colorbar": {
              "outlinewidth": 0,
              "ticks": ""
             }
            },
            "type": "scatterpolargl"
           }
          ],
          "scatterternary": [
           {
            "marker": {
             "colorbar": {
              "outlinewidth": 0,
              "ticks": ""
             }
            },
            "type": "scatterternary"
           }
          ],
          "surface": [
           {
            "colorbar": {
             "outlinewidth": 0,
             "ticks": ""
            },
            "colorscale": [
             [
              0,
              "#0d0887"
             ],
             [
              0.1111111111111111,
              "#46039f"
             ],
             [
              0.2222222222222222,
              "#7201a8"
             ],
             [
              0.3333333333333333,
              "#9c179e"
             ],
             [
              0.4444444444444444,
              "#bd3786"
             ],
             [
              0.5555555555555556,
              "#d8576b"
             ],
             [
              0.6666666666666666,
              "#ed7953"
             ],
             [
              0.7777777777777778,
              "#fb9f3a"
             ],
             [
              0.8888888888888888,
              "#fdca26"
             ],
             [
              1,
              "#f0f921"
             ]
            ],
            "type": "surface"
           }
          ],
          "table": [
           {
            "cells": {
             "fill": {
              "color": "#EBF0F8"
             },
             "line": {
              "color": "white"
             }
            },
            "header": {
             "fill": {
              "color": "#C8D4E3"
             },
             "line": {
              "color": "white"
             }
            },
            "type": "table"
           }
          ]
         },
         "layout": {
          "annotationdefaults": {
           "arrowcolor": "#2a3f5f",
           "arrowhead": 0,
           "arrowwidth": 1
          },
          "autotypenumbers": "strict",
          "coloraxis": {
           "colorbar": {
            "outlinewidth": 0,
            "ticks": ""
           }
          },
          "colorscale": {
           "diverging": [
            [
             0,
             "#8e0152"
            ],
            [
             0.1,
             "#c51b7d"
            ],
            [
             0.2,
             "#de77ae"
            ],
            [
             0.3,
             "#f1b6da"
            ],
            [
             0.4,
             "#fde0ef"
            ],
            [
             0.5,
             "#f7f7f7"
            ],
            [
             0.6,
             "#e6f5d0"
            ],
            [
             0.7,
             "#b8e186"
            ],
            [
             0.8,
             "#7fbc41"
            ],
            [
             0.9,
             "#4d9221"
            ],
            [
             1,
             "#276419"
            ]
           ],
           "sequential": [
            [
             0,
             "#0d0887"
            ],
            [
             0.1111111111111111,
             "#46039f"
            ],
            [
             0.2222222222222222,
             "#7201a8"
            ],
            [
             0.3333333333333333,
             "#9c179e"
            ],
            [
             0.4444444444444444,
             "#bd3786"
            ],
            [
             0.5555555555555556,
             "#d8576b"
            ],
            [
             0.6666666666666666,
             "#ed7953"
            ],
            [
             0.7777777777777778,
             "#fb9f3a"
            ],
            [
             0.8888888888888888,
             "#fdca26"
            ],
            [
             1,
             "#f0f921"
            ]
           ],
           "sequentialminus": [
            [
             0,
             "#0d0887"
            ],
            [
             0.1111111111111111,
             "#46039f"
            ],
            [
             0.2222222222222222,
             "#7201a8"
            ],
            [
             0.3333333333333333,
             "#9c179e"
            ],
            [
             0.4444444444444444,
             "#bd3786"
            ],
            [
             0.5555555555555556,
             "#d8576b"
            ],
            [
             0.6666666666666666,
             "#ed7953"
            ],
            [
             0.7777777777777778,
             "#fb9f3a"
            ],
            [
             0.8888888888888888,
             "#fdca26"
            ],
            [
             1,
             "#f0f921"
            ]
           ]
          },
          "colorway": [
           "#636efa",
           "#EF553B",
           "#00cc96",
           "#ab63fa",
           "#FFA15A",
           "#19d3f3",
           "#FF6692",
           "#B6E880",
           "#FF97FF",
           "#FECB52"
          ],
          "font": {
           "color": "#2a3f5f"
          },
          "geo": {
           "bgcolor": "white",
           "lakecolor": "white",
           "landcolor": "#E5ECF6",
           "showlakes": true,
           "showland": true,
           "subunitcolor": "white"
          },
          "hoverlabel": {
           "align": "left"
          },
          "hovermode": "closest",
          "mapbox": {
           "style": "light"
          },
          "paper_bgcolor": "white",
          "plot_bgcolor": "#E5ECF6",
          "polar": {
           "angularaxis": {
            "gridcolor": "white",
            "linecolor": "white",
            "ticks": ""
           },
           "bgcolor": "#E5ECF6",
           "radialaxis": {
            "gridcolor": "white",
            "linecolor": "white",
            "ticks": ""
           }
          },
          "scene": {
           "xaxis": {
            "backgroundcolor": "#E5ECF6",
            "gridcolor": "white",
            "gridwidth": 2,
            "linecolor": "white",
            "showbackground": true,
            "ticks": "",
            "zerolinecolor": "white"
           },
           "yaxis": {
            "backgroundcolor": "#E5ECF6",
            "gridcolor": "white",
            "gridwidth": 2,
            "linecolor": "white",
            "showbackground": true,
            "ticks": "",
            "zerolinecolor": "white"
           },
           "zaxis": {
            "backgroundcolor": "#E5ECF6",
            "gridcolor": "white",
            "gridwidth": 2,
            "linecolor": "white",
            "showbackground": true,
            "ticks": "",
            "zerolinecolor": "white"
           }
          },
          "shapedefaults": {
           "line": {
            "color": "#2a3f5f"
           }
          },
          "ternary": {
           "aaxis": {
            "gridcolor": "white",
            "linecolor": "white",
            "ticks": ""
           },
           "baxis": {
            "gridcolor": "white",
            "linecolor": "white",
            "ticks": ""
           },
           "bgcolor": "#E5ECF6",
           "caxis": {
            "gridcolor": "white",
            "linecolor": "white",
            "ticks": ""
           }
          },
          "title": {
           "x": 0.05
          },
          "xaxis": {
           "automargin": true,
           "gridcolor": "white",
           "linecolor": "white",
           "ticks": "",
           "title": {
            "standoff": 15
           },
           "zerolinecolor": "white",
           "zerolinewidth": 2
          },
          "yaxis": {
           "automargin": true,
           "gridcolor": "white",
           "linecolor": "white",
           "ticks": "",
           "title": {
            "standoff": 15
           },
           "zerolinecolor": "white",
           "zerolinewidth": 2
          }
         }
        },
        "title": {
         "text": ""
        },
        "width": 700
       }
      }
     },
     "metadata": {},
     "output_type": "display_data"
    }
   ],
   "source": [
    "sankey_combined(data)"
   ]
  },
  {
   "cell_type": "code",
   "execution_count": 14,
   "metadata": {},
   "outputs": [
    {
     "name": "stdout",
     "output_type": "stream",
     "text": [
      "\n",
      "Repetition\n",
      "HIT 23 \t anton \t T5\n",
      "HIT 23 \t ayush \t T5\n",
      "HIT 58 \t vinayak \t T5\n",
      "HIT 58 \t vinayak \t T5\n",
      "HIT 60 \t vinayak \t Turk Corpus\n",
      "HIT 60 \t vinayak \t Turk Corpus\n",
      "HIT 60 \t vinayak \t Turk Corpus\n",
      "HIT 68 \t vinayak \t T5\n",
      "HIT 69 \t vinayak \t ASSET 1\n",
      "HIT 114 \t anton \t T5\n",
      "HIT 120 \t anton \t Controllable\n",
      "HIT 114 \t kelly \t T5\n",
      "HIT 120 \t kelly \t Controllable\n",
      "HIT 127 \t rachel \t T5\n",
      "HIT 134 \t rachel \t Turk Corpus\n",
      "HIT 135 \t rachel \t T5\n",
      "HIT 125 \t vinayak \t ASSET 2\n",
      "HIT 135 \t vinayak \t T5\n",
      "HIT 135 \t vinayak \t T5\n",
      "HIT 125 \t vishnesh \t ASSET 2\n",
      "HIT 134 \t vishnesh \t Turk Corpus\n",
      "HIT 135 \t vishnesh \t T5\n",
      "\n",
      "Contradiction\n",
      "HIT 8 \t kelly \t T5\n",
      "\n",
      "Hallucination\n",
      "\n",
      "Irrelevant\n",
      "HIT 29 \t anton \t Controllable\n",
      "HIT 31 \t anton \t ASSET 2\n",
      "HIT 23 \t kelly \t T5\n",
      "HIT 50 \t kelly \t ASSET 1\n",
      "HIT 60 \t vinayak \t Turk Corpus\n",
      "HIT 75 \t vinayak \t ASSET 2\n",
      "HIT 60 \t vishnesh \t Turk Corpus\n",
      "HIT 60 \t vishnesh \t Turk Corpus\n",
      "HIT 105 \t anton \t Turk Corpus\n",
      "HIT 114 \t ayush \t T5\n",
      "HIT 120 \t ayush \t Controllable\n"
     ]
    }
   ],
   "source": [
    "# Prints the sentences where annotators identified insertion errors\n",
    "for error in [Error.REPETITION, Error.CONTRADICTION, Error.HALLUCINATION, Error.IRRELEVANT]:\n",
    "    print(f'\\n{error.value}')\n",
    "    for sent in data:\n",
    "        for ann in sent['processed_annotations']:\n",
    "            if ann['error_type'] == error:\n",
    "                print(f'HIT {sent[\"id\"]+1} \\t {sent[\"user\"]} \\t {system_name_mapping[sent[\"system\"]]}')"
   ]
  },
  {
   "cell_type": "code",
   "execution_count": 15,
   "metadata": {},
   "outputs": [
    {
     "name": "stdout",
     "output_type": "stream",
     "text": [
      "T5 \t 1.82\n",
      "ASSET 1 \t 6.67\n",
      "Turk Corpus \t 4.08\n",
      "ASSET 2 \t 6.24\n",
      "Controllable \t 1.78\n"
     ]
    }
   ],
   "source": [
    "# Print the avg. sentence scores for each system\n",
    "for s in systems:\n",
    "    print(f'{system_name_mapping[s]} \\t {avg([sent[\"score\"] for sent in data if sent[\"system\"] == s])}')"
   ]
  },
  {
   "cell_type": "code",
   "execution_count": 16,
   "metadata": {},
   "outputs": [
    {
     "data": {
      "image/png": "[encoded data removed]",
      "text/plain": [
       "<Figure size 432x288 with 1 Axes>"
      ]
     },
     "metadata": {
      "needs_background": "light"
     },
     "output_type": "display_data"
    }
   ],
   "source": [
    "annotations = [x for y in [sent['processed_annotations'] for sent in data] for x in y]\n",
    "avg_span_size(annotations)"
   ]
  },
  {
   "cell_type": "code",
   "execution_count": 17,
   "metadata": {},
   "outputs": [
    {
     "data": {
      "image/png": "[encoded data removed]",
      "text/plain": [
       "<Figure size 540x288 with 2 Axes>"
      ]
     },
     "metadata": {
      "needs_background": "light"
     },
     "output_type": "display_data"
    }
   ],
   "source": [
    "# Show the distribution of edit and sentence scores\n",
    "score_distribution(data)"
   ]
  },
  {
   "cell_type": "code",
   "execution_count": 18,
   "metadata": {},
   "outputs": [
    {
     "name": "stdout",
     "output_type": "stream",
     "text": [
      "Highest Scoring:\n",
      "anton - Batch 1, HIT 17 (ID 16) - 47.72427404289902\n",
      "vinayak - Batch 2, HIT 21 (ID 70) - 37.32095913250717\n",
      "kelly - Batch 1, HIT 47 (ID 46) - 34.28827424615905\n",
      "kelly - Batch 1, HIT 11 (ID 10) - 28.166154338723288\n",
      "vinayak - Batch 4, HIT 3 (ID 122) - 26.831672218681597\n",
      "\n",
      "Lowest scoring:\n",
      "anton - Batch 3, HIT 14 (ID 113) - -32.79059932310388\n",
      "vishnesh - Batch 2, HIT 21 (ID 70) - -31.044478156312206\n",
      "ayush - Batch 3, HIT 14 (ID 113) - -28.46187468298353\n",
      "vinayak - Batch 2, HIT 31 (ID 80) - -24.01313861905048\n",
      "anton - Batch 3, HIT 20 (ID 119) - -22.651010785711982\n"
     ]
    }
   ],
   "source": [
    "# Get the best and worst performing sentences\n",
    "best, worst = best_performing(data)"
   ]
  },
  {
   "cell_type": "code",
   "execution_count": 24,
   "metadata": {},
   "outputs": [
    {
     "name": "stdout",
     "output_type": "stream",
     "text": [
      "ayush - Batch 3, HIT 4 (ID 103)\n"
     ]
    }
   ],
   "source": [
    "# Get setences with a score of 0\n",
    "zeros = zero_scoring_sents(data)"
   ]
  },
  {
   "cell_type": "code",
   "execution_count": 20,
   "metadata": {},
   "outputs": [
    {
     "data": {
      "image/png": "[encoded data removed]",
      "text/plain": [
       "<Figure size 540x288 with 1 Axes>"
      ]
     },
     "metadata": {
      "needs_background": "light"
     },
     "output_type": "display_data"
    }
   ],
   "source": [
    "edit_length(data, systems, simpeval=True)"
   ]
  },
  {
   "cell_type": "code",
   "execution_count": 21,
   "metadata": {},
   "outputs": [
    {
     "data": {
      "image/png": "[encoded data removed]",
      "text/plain": [
       "<Figure size 540x288 with 1 Axes>"
      ]
     },
     "metadata": {
      "needs_background": "light"
     },
     "output_type": "display_data"
    }
   ],
   "source": [
    "edit_length(data, systems, simpeval=False)"
   ]
  },
  {
   "cell_type": "code",
   "execution_count": 22,
   "metadata": {},
   "outputs": [
    {
     "name": "stdout",
     "output_type": "stream",
     "text": [
      "Sentences with at least 1 structure change: 61 / 369\n"
     ]
    }
   ],
   "source": [
    "# Get sentences with at least 1 structure change from 1 annotator\n",
    "ids = set()\n",
    "for sent in data:\n",
    "    if 'structure' in [x['type'] for x in sent['edits']]:\n",
    "        ids.add(sent['id'])\n",
    "ids = sorted(list(ids))\n",
    "print(f'Sentences with at least 1 structure change: {len(ids)} / {len(data)}')"
   ]
  },
  {
   "cell_type": "code",
   "execution_count": 23,
   "metadata": {},
   "outputs": [
    {
     "name": "stdout",
     "output_type": "stream",
     "text": [
      "anton - Batch 1, HIT 8 (ID 7)\n",
      "\n",
      "\u001b[48;2;255;159;21m\u001b[38;5;0mTajikistan, Turkmenistan and Uzbekistan border\u001b[39m\u001b[49m Afghanistan to the north, Iran to the west, Pakistan to the south and the People's Republic of China to the east.\n",
      "Afghanistan \u001b[48;2;255;159;21m\u001b[38;5;0mis\u001b[39m\u001b[49m to the north, Iran \u001b[48;2;255;159;21m\u001b[38;5;0mis\u001b[39m\u001b[49m to the west, Pakistan \u001b[48;2;255;159;21m\u001b[38;5;0mis\u001b[39m\u001b[49m to the south, and the People's Republic of China \u001b[48;2;255;159;21m\u001b[38;5;0mis\u001b[39m\u001b[49m to the east \u001b[48;2;255;159;21m\u001b[38;5;0mof Pakistan.\u001b[39m\u001b[49m\n",
      "\n",
      "ayush - Batch 1, HIT 8 (ID 7)\n",
      "\n",
      "Tajikistan, Turkmenistan and Uzbekistan border Afghanistan to the north, Iran to the west, Pakistan to the south and the People's Republic of China to the east.\n",
      "Afghanistan \u001b[48;2;255;159;21m\u001b[38;5;0mis\u001b[39m\u001b[49m to the north, Iran \u001b[48;2;255;159;21m\u001b[38;5;0mis\u001b[39m\u001b[49m to the west, Pakistan \u001b[48;2;255;159;21m\u001b[38;5;0mis\u001b[39m\u001b[49m to the south, and the People's Republic of China \u001b[48;2;255;159;21m\u001b[38;5;0mis\u001b[39m\u001b[49m to the east of Pakistan.\n",
      "\n"
     ]
    },
    {
     "data": {
      "image/png": "[encoded data removed]",
      "text/plain": [
       "<Figure size 540x288 with 2 Axes>"
      ]
     },
     "metadata": {
      "needs_background": "light"
     },
     "output_type": "display_data"
    }
   ],
   "source": [
    "# Display a sentence with a structure change\n",
    "id_ = 0\n",
    "sents = [sent for sent in data if sent['id'] == ids[id_]]\n",
    "print_changes(sents)\n",
    "draw_agreement(sents)"
   ]
  }
 ],
 "metadata": {
  "kernelspec": {
   "display_name": "Python 3.9.0 64-bit",
   "language": "python",
   "name": "python3"
  },
  "language_info": {
   "codemirror_mode": {
    "name": "ipython",
    "version": 3
   },
   "file_extension": ".py",
   "mimetype": "text/x-python",
   "name": "python",
   "nbconvert_exporter": "python",
   "pygments_lexer": "ipython3",
   "version": "3.9.0"
  },
  "orig_nbformat": 4,
  "vscode": {
   "interpreter": {
    "hash": "81794d4967e6c3204c66dcd87b604927b115b27c00565d3d43f05ba2f3a2cb0d"
   }
  }
 },
 "nbformat": 4,
 "nbformat_minor": 2
}
