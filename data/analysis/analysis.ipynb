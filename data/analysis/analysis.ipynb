{
 "cells": [
  {
   "cell_type": "code",
   "execution_count": 1,
   "metadata": {},
   "outputs": [
    {
     "name": "stdout",
     "output_type": "stream",
     "text": [
      "Loading files: ['../annotated/batch_5_anton.json', '../annotated/batch_5_ayush.json', '../annotated/batch_5_kelly.json', '../annotated/batch_5_rachel.json', '../annotated/batch_5_vinayak.json', '../annotated/batch_5_vishnesh.json', '../annotated/batch_6_anton.json', '../annotated/batch_6_ayush.json', '../annotated/batch_6_kelly.json', '../annotated/batch_6_rachel.json', '../annotated/batch_6_vinayak.json', '../annotated/batch_6_vishnesh.json', '../annotated/batch_7_anton.json', '../annotated/batch_7_ayush.json', '../annotated/batch_7_kelly.json', '../annotated/batch_7_rachel.json', '../annotated/batch_7_vinayak.json', '../annotated/batch_7_vishnesh.json', '../annotated/batch_8_anton.json', '../annotated/batch_8_ayush.json', '../annotated/batch_8_kelly.json', '../annotated/batch_8_rachel.json', '../annotated/batch_8_vinayak.json', '../annotated/batch_8_vishnesh.json', '../annotated/batch_9_ayush.json', '../annotated/batch_9_kelly.json', '../annotated/batch_9_rachel.json', '../annotated/batch_9_vinayak.json', '../annotated/batch_9_vishnesh.json']\n",
      "\n",
      "Found users: {'anton', 'ayush', 'vishnesh', 'kelly', 'vinayak', 'rachel'}\n",
      "\n",
      "anton - Batch 5, HIT 38 (ID 23) has 2 deletion edits but 1 annotations. Likely a missing annotation. Skipping edit type...\n",
      "vinayak - Batch 6, HIT 16 (ID 27) has 1 insertion edits but -1 annotations. Likely a missing annotation. Skipping edit type...\n",
      "rachel - Batch 5, HIT 21 (ID 39) has 4 deletion edits but 3 annotations. Likely a missing annotation. Skipping edit type...\n",
      "rachel - Batch 5, HIT 21 (ID 39) has 4 insertion edits but 3 annotations. Likely a missing annotation. Skipping edit type...\n",
      "rachel - Batch 5, HIT 23 (ID 41) has 1 reorder edits but -1 annotations. Likely a missing annotation. Skipping edit type...\n",
      "vinayak - Batch 5, HIT 25 (ID 56) has 5 deletion edits but 3 annotations. Likely a missing annotation. Skipping edit type...\n",
      "vinayak - Batch 5, HIT 25 (ID 56) has 2 insertion edits but 1 annotations. Likely a missing annotation. Skipping edit type...\n",
      "vinayak - Batch 5, HIT 17 (ID 61) has 3 deletion edits but 2 annotations. Likely a missing annotation. Skipping edit type...\n",
      "kelly - Batch 7, HIT 47 (ID 160) has 1 structure edits but -1 annotations. Likely a missing annotation. Skipping edit type...\n",
      "vinayak - Batch 7, HIT 17 (ID 166) has 1 split edits but 0 annotations. Likely a missing annotation. Skipping edit type...\n",
      "rachel - Batch 8, HIT 35 (ID 245) has 2 structure edits but -1 annotations. Likely a missing annotation. Skipping edit type...\n",
      "rachel - Batch 8, HIT 37 (ID 247) has 5 structure edits but 4 annotations. Likely a missing annotation. Skipping edit type...\n",
      "rachel - Batch 8, HIT 38 (ID 249) has 1 insertion edits but -1 annotations. Likely a missing annotation. Skipping edit type...\n",
      "rachel - Batch 8, HIT 46 (ID 288) has 3 deletion edits but 2 annotations. Likely a missing annotation. Skipping edit type...\n",
      "kelly - Batch 9, HIT 17 (ID 321) has 2 split edits but 0 annotations. Likely a missing annotation. Skipping edit type...\n",
      "kelly - Batch 9, HIT 18 (ID 322) has 1 split edits but 0 annotations. Likely a missing annotation. Skipping edit type...\n",
      "rachel - Batch 9, HIT 31 (ID 340) has 1 split edits but 0 annotations. Likely a missing annotation. Skipping edit type...\n",
      "rachel - Batch 9, HIT 31 (ID 340) has 3 structure edits but 2 annotations. Likely a missing annotation. Skipping edit type...\n",
      "vinayak - Batch 9, HIT 49 (ID 341) has 2 structure edits but 1 annotations. Likely a missing annotation. Skipping edit type...\n",
      "vinayak - Batch 9, HIT 56 (ID 344) has 1 split edits but 0 annotations. Likely a missing annotation. Skipping edit type...\n",
      "rachel - Batch 9, HIT 48 (ID 347) has 4 deletion edits but 3 annotations. Likely a missing annotation. Skipping edit type...\n",
      "rachel - Batch 9, HIT 54 (ID 357) has 5 deletion edits but 4 annotations. Likely a missing annotation. Skipping edit type...\n",
      "kelly - Batch 9, HIT 5 (ID 363) has 1 split edits but 0 annotations. Likely a missing annotation. Skipping edit type...\n",
      "kelly - Batch 9, HIT 6 (ID 364) has 1 split edits but 0 annotations. Likely a missing annotation. Skipping edit type...\n",
      "kelly - Batch 9, HIT 7 (ID 365) has 1 split edits but 0 annotations. Likely a missing annotation. Skipping edit type...\n",
      "kelly - Batch 9, HIT 8 (ID 366) has 1 split edits but 0 annotations. Likely a missing annotation. Skipping edit type...\n",
      "kelly - Batch 9, HIT 9 (ID 367) has 1 split edits but 0 annotations. Likely a missing annotation. Skipping edit type...\n",
      "kelly - Batch 9, HIT 11 (ID 369) has 1 split edits but 0 annotations. Likely a missing annotation. Skipping edit type...\n",
      "kelly - Batch 9, HIT 12 (ID 370) has 2 split edits but 0 annotations. Likely a missing annotation. Skipping edit type...\n",
      "rachel - Batch 9, HIT 19 (ID 373) has 1 insertion edits but -1 annotations. Likely a missing annotation. Skipping edit type...\n",
      "kelly - Batch 9, HIT 33 (ID 375) has 1 split edits but 0 annotations. Likely a missing annotation. Skipping edit type...\n",
      "kelly - Batch 9, HIT 35 (ID 377) has 1 split edits but 0 annotations. Likely a missing annotation. Skipping edit type...\n",
      "kelly - Batch 9, HIT 36 (ID 378) has 1 split edits but 0 annotations. Likely a missing annotation. Skipping edit type...\n",
      "kelly - Batch 9, HIT 41 (ID 379) has 1 split edits but 0 annotations. Likely a missing annotation. Skipping edit type...\n",
      "kelly - Batch 9, HIT 42 (ID 380) has 1 split edits but 0 annotations. Likely a missing annotation. Skipping edit type...\n",
      "kelly - Batch 9, HIT 44 (ID 382) has 1 split edits but 0 annotations. Likely a missing annotation. Skipping edit type...\n",
      "rachel - Batch 9, HIT 3 (ID 393) has 1 insertion edits but -1 annotations. Likely a missing annotation. Skipping edit type...\n",
      "rachel - Batch 9, HIT 15 (ID 401) has 5 deletion edits but 4 annotations. Likely a missing annotation. Skipping edit type...\n",
      "rachel - Batch 9, HIT 16 (ID 402) has 2 deletion edits but -1 annotations. Likely a missing annotation. Skipping edit type...\n",
      "vinayak - Batch 9, HIT 36 (ID 403) has 1 split edits but 0 annotations. Likely a missing annotation. Skipping edit type...\n",
      "rachel - Batch 9, HIT 22 (ID 404) has 4 deletion edits but 2 annotations. Likely a missing annotation. Skipping edit type...\n",
      "When processing sentence: vinayak - Batch 6, HIT 2 (ID 1). Caught error on: Could not process edit: {'type': 'substitution', 'id': 4, 'original_span': [(164, 171)], 'simplified_span': [(166, 175)], 'annotation': None}. Skipping...\n",
      "When processing sentence: vinayak - Batch 6, HIT 2 (ID 1). Caught error on: Could not process edit: {'type': 'substitution', 'id': 5, 'original_span': [(224, 226)], 'simplified_span': [(281, 284)], 'annotation': None}. Skipping...\n",
      "When processing sentence: vinayak - Batch 6, HIT 27 (ID 15). Caught error on: Could not process edit: {'type': 'insertion', 'id': 1, 'original_span': None, 'simplified_span': [(49, 54)], 'annotation': None}. Skipping...\n",
      "When processing sentence: vinayak - Batch 6, HIT 40 (ID 35). Caught error on: Could not process edit: {'type': 'insertion', 'id': 1, 'original_span': None, 'simplified_span': [(109, 112)], 'annotation': None}. Skipping...\n",
      "When processing sentence: vinayak - Batch 6, HIT 31 (ID 46). Caught error on: Could not process edit: {'type': 'insertion', 'id': 0, 'original_span': None, 'simplified_span': [(75, 78)], 'annotation': None}. Skipping...\n",
      "When processing sentence: rachel - Batch 6, HIT 34 (ID 79). Caught error on: ''. Skipping...\n",
      "When processing sentence: ayush - Batch 7, HIT 9 (ID 140). Caught error on: ''. Skipping...\n",
      "When processing sentence: kelly - Batch 7, HIT 47 (ID 160). Caught error on: Could not process edit: {'type': 'substitution', 'id': 3, 'original_span': [(110, 120)], 'simplified_span': [(89, 93)], 'annotation': None}. Skipping...\n",
      "When processing sentence: vinayak - Batch 7, HIT 15 (ID 165). Caught error on: Could not process edit: {'type': 'insertion', 'id': 0, 'original_span': None, 'simplified_span': [(0, 1)], 'annotation': None}. Skipping...\n",
      "When processing sentence: vinayak - Batch 7, HIT 17 (ID 166). Caught error on: Could not process edit: {'type': 'insertion', 'id': 0, 'original_span': None, 'simplified_span': [(73, 86)], 'annotation': None}. Skipping...\n",
      "When processing sentence: vinayak - Batch 8, HIT 4 (ID 169). Caught error on: Could not process edit: {'type': 'insertion', 'id': 0, 'original_span': None, 'simplified_span': [(100, 102)], 'annotation': None}. Skipping...\n",
      "When processing sentence: vinayak - Batch 7, HIT 10 (ID 176). Caught error on: Could not process edit: {'type': 'insertion', 'id': 2, 'original_span': None, 'simplified_span': [(190, 209)], 'annotation': None}. Skipping...\n",
      "When processing sentence: rachel - Batch 7, HIT 43 (ID 202). Caught error on: ''. Skipping...\n",
      "When processing sentence: rachel - Batch 8, HIT 19 (ID 230). Caught error on: Could not process edit: {'type': 'insertion', 'id': 1, 'original_span': None, 'simplified_span': [(137, 143)], 'annotation': None}. Skipping...\n",
      "When processing sentence: rachel - Batch 8, HIT 22 (ID 240). Caught error on: Could not process edit: {'type': 'deletion', 'id': 1, 'original_span': [(254, 269)], 'simplified_span': None, 'annotation': None}. Skipping...\n",
      "When processing sentence: rachel - Batch 8, HIT 25 (ID 242). Caught error on: Could not process edit: {'type': 'deletion', 'id': 1, 'original_span': [(222, 235)], 'simplified_span': None, 'annotation': None}. Skipping...\n",
      "When processing sentence: rachel - Batch 8, HIT 35 (ID 245). Caught error on: Could not process edit: {'type': 'deletion', 'id': 1, 'original_span': [(20, 23)], 'simplified_span': None, 'annotation': None}. Skipping...\n",
      "When processing sentence: rachel - Batch 8, HIT 40 (ID 246). Caught error on: Could not process edit: {'type': 'insertion', 'id': 0, 'original_span': None, 'simplified_span': [(48, 51)], 'annotation': None}. Skipping...\n",
      "When processing sentence: rachel - Batch 8, HIT 37 (ID 247). Caught error on: Could not process edit: {'type': 'structure', 'id': 1, 'original_span': [(67, 69)], 'simplified_span': [(20, 23)], 'annotation': None, 'composite_edits': [{'type': 'substitution', 'id': 0, 'original_span': [(67, 69)], 'simplified_span': [(20, 23)]}]}. Skipping...\n",
      "When processing sentence: rachel - Batch 8, HIT 36 (ID 248). Caught error on: Could not process edit: {'type': 'deletion', 'id': 1, 'original_span': [(180, 184)], 'simplified_span': None, 'annotation': None}. Skipping...\n",
      "When processing sentence: rachel - Batch 8, HIT 53 (ID 253). Caught error on: Could not process edit: {'type': 'insertion', 'id': 0, 'original_span': None, 'simplified_span': [(65, 78)], 'annotation': None}. Skipping...\n",
      "When processing sentence: rachel - Batch 8, HIT 50 (ID 256). Caught error on: Could not process edit: {'type': 'insertion', 'id': 0, 'original_span': None, 'simplified_span': [(0, 2)], 'annotation': None}. Skipping...\n",
      "When processing sentence: vinayak - Batch 8, HIT 19 (ID 270). Caught error on: Could not process edit: {'type': 'deletion', 'id': 3, 'original_span': [(209, 213)], 'simplified_span': None, 'annotation': None}. Skipping...\n",
      "When processing sentence: rachel - Batch 8, HIT 46 (ID 288). Caught error on: Could not process edit: {'type': 'split', 'id': 0, 'original_span': [(143, 148)], 'simplified_span': [(62, 64), (65, 67)], 'annotation': None, 'composite_edits': [{'type': 'substitution', 'id': 0, 'original_span': [(143, 148)], 'simplified_span': None}, {'type': 'insertion', 'id': 0, 'original_span': None, 'simplified_span': [(65, 67)]}]}. Skipping...\n",
      "When processing sentence: vinayak - Batch 9, HIT 56 (ID 344). Caught error on: Could not process edit: {'type': 'insertion', 'id': 0, 'original_span': None, 'simplified_span': [(70, 83)], 'annotation': None}. Skipping...\n",
      "When processing sentence: rachel - Batch 9, HIT 51 (ID 354). Caught error on: Could not process edit: {'type': 'structure', 'id': 0, 'original_span': [(164, 170)], 'simplified_span': None, 'annotation': None, 'composite_edits': [{'type': 'deletion', 'id': 0, 'original_span': [(164, 170)], 'simplified_span': None}]}. Skipping...\n",
      "When processing sentence: vinayak - Batch 9, HIT 1 (ID 360). Caught error on: Could not process edit: {'type': 'insertion', 'id': 1, 'original_span': None, 'simplified_span': [(61, 83)], 'annotation': None}. Skipping...\n",
      "When processing sentence: vinayak - Batch 9, HIT 10 (ID 366). Caught error on: Could not process edit: {'type': 'insertion', 'id': 0, 'original_span': None, 'simplified_span': [(64, 71)], 'annotation': None}. Skipping...\n",
      "When processing sentence: rachel - Batch 9, HIT 34 (ID 381). Caught error on: Could not process edit: {'type': 'deletion', 'id': 1, 'original_span': [(127, 135)], 'simplified_span': None, 'annotation': None}. Skipping...\n",
      "When processing sentence: rachel - Batch 9, HIT 57 (ID 411). Caught error on: Could not process edit: {'type': 'split', 'id': 0, 'original_span': None, 'simplified_span': [(54, 56)], 'annotation': None, 'composite_edits': []}. Skipping...\n"
     ]
    }
   ],
   "source": [
    "from utils.all import *\n",
    "\n",
    "# There's also 'tutorial' and 'preliminary' data\n",
    "data = load_data('../annotated', batch_num=[5, 6, 7, 8, 9], preprocess=True)\n",
    "systems = set([x['system'] for x in data])\n",
    "edit_types = set(data[0]['annotations'].keys())\n",
    "\n",
    "# TODO: trivial edits on substitutions aren't being processed correctly"
   ]
  },
  {
   "cell_type": "code",
   "execution_count": 2,
   "metadata": {},
   "outputs": [
    {
     "name": "stdout",
     "output_type": "stream",
     "text": [
      "vinayak - Batch 7, HIT 2 (ID 95)\n",
      "vishnesh - Batch 7, HIT 18 (ID 106)\n",
      "anton - Batch 7, HIT 23 (ID 111)\n",
      "vishnesh - Batch 7, HIT 31 (ID 111)\n",
      "vishnesh - Batch 7, HIT 48 (ID 156)\n",
      "rachel - Batch 7, HIT 27 (ID 187)\n",
      "vishnesh - Batch 8, HIT 4 (ID 187)\n",
      "vishnesh - Batch 8, HIT 10 (ID 192)\n",
      "vishnesh - Batch 8, HIT 23 (ID 198)\n",
      "rachel - Batch 7, HIT 44 (ID 203)\n",
      "vishnesh - Batch 8, HIT 46 (ID 217)\n",
      "anton - Batch 8, HIT 28 (ID 230)\n",
      "vishnesh - Batch 8, HIT 28 (ID 258)\n",
      "rachel - Batch 8, HIT 2 (ID 275)\n",
      "vinayak - Batch 9, HIT 8 (ID 393)\n",
      "vishnesh - Batch 9, HIT 4 (ID 393)\n",
      "anton - Batch 7, HIT 23 (ID 111)\n",
      "Average score: 97.44\n"
     ]
    }
   ],
   "source": [
    "# Find an example sentence\n",
    "found = []\n",
    "for sent in data:\n",
    "    if 'GPT-3-few-shot' not in sent['system']:\n",
    "        continue \n",
    "\n",
    "    errors = [a for a in sent['processed_annotations'] if a['error_type'] is not None]\n",
    "\n",
    "    # Aim for 2-4 errors\n",
    "    if len(errors) < 2:\n",
    "        continue\n",
    "\n",
    "    # Exclude longer sentences\n",
    "    if len(sent['original']) > 200:\n",
    "        continue\n",
    "\n",
    "    print(get_sent_info(sent))\n",
    "    found += [sent]\n",
    "\n",
    "# Our Winner is: anton - Batch 7, HIT 23 (ID 170)\n",
    "example = found[2]\n",
    "print(get_sent_info(found[2]))\n",
    "\n",
    "print(f\"Average score: {avg([avg(x.values()) for x in example['da_scores']])}\")"
   ]
  },
  {
   "cell_type": "code",
   "execution_count": 3,
   "metadata": {},
   "outputs": [
    {
     "name": "stdout",
     "output_type": "stream",
     "text": [
      "ANTON - HIT 66: \n",
      "\n",
      "ANTON - HIT 135: I am calling exactly a bad deletion because I think it is necessary for these sentences. It shows that Russia is deliberately targeting enough infrastructure to halt ukrainian energy production. It show's Russia's intent is calculated and cruel. \n",
      "\n",
      "AYUSH - HIT 159: sentence was copy pasted :/\n",
      "\n",
      "VISHNESH - HIT 199: Marked most successful as a bad substitution because I think there can be multiple metrics to judge a movie's success.\n",
      "\n",
      "VINAYAK - HIT 227: I wasn't exactly sure if the England team here could be singular here, but I believe it can.\n",
      "\n",
      "VISHNESH - HIT 256: I was not sure how to mark the error of \"The book\" being used at the start of the sentence without being introduced previously so I marked it as a fluency error.\n",
      "\n",
      "AYUSH - HIT 265: the sentence is the same\n",
      "\n",
      "AYUSH - HIT 266: sentence is really long to parse, probably gonna miss some annotations for this sentence\n",
      "\n",
      "AYUSH - HIT 269: Missing a split\n",
      "\n",
      "VINAYAK - HIT 269: Missing a split on Hit 17?\n",
      "\n",
      "\n",
      "VISHNESH - HIT 269: A split sign was missing for the third sentence so I annotated it as a structural edit.\n",
      "I also marked the substitutions of words in quotes as bad substitutions because those words should ideally not be paraphrased.\n",
      "\n",
      "AYUSH - HIT 287: the sentence has been repeated\n",
      "\n",
      "AYUSH - HIT 292: the sentence is the same\n",
      "\n",
      "VINAYAK - HIT 313: I believe that using a combination of a dash and a comma is not valid, and that one must use two dashes for the phrase \"the social democrats.\"\n",
      "\n",
      "AYUSH - HIT 315: this sentence is the same\n",
      "\n",
      "AYUSH - HIT 317: \n",
      "\n",
      "AYUSH - HIT 318: this sentence is the same\n",
      "\n",
      "AYUSH - HIT 336: deleted the last split as I think it was added in as an accident\n",
      "\n",
      "VINAYAK - HIT 336: Should there be the second split here?\n",
      "\n",
      "\n",
      "AYUSH - HIT 337: Deleted the split here as I think it is an accident\n",
      "\n",
      "VINAYAK - HIT 337: Should be split be here?\n",
      "\n",
      "\n",
      "AYUSH - HIT 338: Deleted the second split as I didn't view it as necessary\n",
      "\n",
      "VINAYAK - HIT 338: Should the third split be here?\n",
      "\n",
      "\n",
      "AYUSH - HIT 339: Latter split seems to come from a confusion about \"?\"\n",
      "\n",
      "VINAYAK - HIT 339: Same question as Hit 40. Should there be a split here?\n",
      "\n",
      "VINAYAK - HIT 340: I'm not entirely sure if the substitution from \"Cinematographer\" to \"cinematographer\" should be annotated.\n",
      "\n",
      "AYUSH - HIT 349: \n",
      "\n",
      "AYUSH - HIT 350: this sentence is the same\n",
      "\n",
      "VISHNESH - HIT 365: Here, the simplified sentence mistakenly conveys that the steamboat itself moves to the midlands so I marked the insertion of \"It\" separately as a hallucination.\n",
      "\n"
     ]
    }
   ],
   "source": [
    "get_comments(data)"
   ]
  },
  {
   "cell_type": "code",
   "execution_count": 4,
   "metadata": {},
   "outputs": [
    {
     "data": {
      "image/png": "[encoded data removed]",
      "text/plain": [
       "<Figure size 576x288 with 1 Axes>"
      ]
     },
     "metadata": {
      "needs_background": "light"
     },
     "output_type": "display_data"
    }
   ],
   "source": [
    "edit_type_by_system(data)"
   ]
  },
  {
   "cell_type": "code",
   "execution_count": 6,
   "metadata": {},
   "outputs": [
    {
     "data": {
      "image/png": "[encoded data removed]",
      "text/plain": [
       "<Figure size 576x288 with 1 Axes>"
      ]
     },
     "metadata": {
      "needs_background": "light"
     },
     "output_type": "display_data"
    }
   ],
   "source": [
    "system_by_information_change(data)"
   ]
  },
  {
   "cell_type": "code",
   "execution_count": null,
   "metadata": {},
   "outputs": [],
   "source": [
    "for sent in data:\n",
    "    if '11B' in sent['system']:\n",
    "        print(get_sent_info(sent))"
   ]
  },
  {
   "cell_type": "code",
   "execution_count": null,
   "metadata": {},
   "outputs": [],
   "source": [
    "errors_by_system(data)"
   ]
  },
  {
   "cell_type": "code",
   "execution_count": null,
   "metadata": {},
   "outputs": [],
   "source": [
    "sankey_combined(data)"
   ]
  },
  {
   "cell_type": "code",
   "execution_count": null,
   "metadata": {},
   "outputs": [],
   "source": [
    "# Print the avg. sentence scores for each system\n",
    "for s in systems:\n",
    "    print(f'{system_name_mapping[s]} \\t {avg([sent[\"score\"] for sent in data if sent[\"system\"] == s])}')"
   ]
  },
  {
   "cell_type": "code",
   "execution_count": null,
   "metadata": {},
   "outputs": [],
   "source": [
    "annotations = [x for y in [sent['processed_annotations'] for sent in data] for x in y]\n",
    "avg_span_size(annotations)"
   ]
  },
  {
   "cell_type": "code",
   "execution_count": null,
   "metadata": {},
   "outputs": [],
   "source": [
    "class Tmp(Enum):\n",
    "    NO_ERROR = 'No Error'\n",
    "\n",
    "error_segmentation = {}\n",
    "for error in Error:\n",
    "    error_segmentation[error] = [sent for sent in data if any([ann['error_type'] == error for ann in sent['processed_annotations']])]\n",
    "error_segmentation[Tmp.NO_ERROR] = [sent for sent in data if not any([ann['error_type'] == error for ann in sent['processed_annotations']])]\n",
    "\n",
    "pts = []\n",
    "pts += [(error, avg([s['score'] for s in error_segmentation[error]])) for error in error_segmentation.keys()]\n",
    "pts = sorted([p for p in pts if p[1] != 0], key=lambda x: x[1])\n",
    "\n",
    "fig, ax = plt.subplots(figsize=(6, 4))\n",
    "\n",
    "cust_mapping = color_mapping\n",
    "cust_mapping[Tmp.NO_ERROR] = '#ededed'\n",
    "\n",
    "ax.bar([p[0].value for p in pts], [p[1] for p in pts], width, color=[cust_mapping[label] for label in [p[0] for p in pts]])\n",
    "plt.xticks(rotation=45, ha=\"right\")\n",
    "ax.set_ylabel('Our Score')\n",
    "ax.set_title('Scoring for Error Sentences')\n",
    "plt.show()"
   ]
  },
  {
   "cell_type": "code",
   "execution_count": null,
   "metadata": {},
   "outputs": [],
   "source": [
    "class Tmp(Enum):\n",
    "    NO_ERROR = 'No Error'\n",
    "\n",
    "cust_systems = [s for s in systems if 'Human' not in s] + ['aggregated/human']\n",
    "\n",
    "fig, ax = plt.subplots(1, len(cust_systems), figsize=(16, 3), sharey=True, gridspec_kw = {'wspace': 0.1, 'hspace':0})\n",
    "for i, system in enumerate([s for s in all_system_labels if s in cust_systems]):\n",
    "    selected = [sent for sent in data if sent['system'] == system]\n",
    "    if system == 'aggregated/human':\n",
    "        selected = [sent for sent in data if 'Human' in sent['system']]\n",
    "\n",
    "    error_segmentation = {}\n",
    "    for error in Error:\n",
    "        error_segmentation[error] = [sent for sent in selected if any([ann['error_type'] == error for ann in sent['processed_annotations']])]\n",
    "    error_segmentation[Tmp.NO_ERROR] = [sent for sent in selected if not any([ann['error_type'] == error for ann in sent['processed_annotations']])]\n",
    "\n",
    "    pts = []\n",
    "    pts += [(error, avg([s['score'] for s in error_segmentation[error]])) for error in error_segmentation.keys()]\n",
    "    pts = sorted([p for p in pts if p[1] != 0], key=lambda x: x[1])\n",
    "\n",
    "    cust_mapping = color_mapping\n",
    "    cust_mapping[Tmp.NO_ERROR] = '#64C466'\n",
    "\n",
    "    ax[i].bar([p[0].value for p in pts], [p[1] for p in pts], width, color=[cust_mapping[label] for label in [p[0] for p in pts]])\n",
    "    ax[i].set_title(system_name_mapping[system])\n",
    "    # ax[i].set_xticks([])\n",
    "    ax[i].set_yticks(np.arange(-10, 16, 5))\n",
    "\n",
    "for tick in [i for j in [x.get_xticklabels() for x in ax] for i in j]:\n",
    "    tick.set_rotation(45)\n",
    "    tick.set_horizontalalignment('right')\n",
    "\n",
    "# fig.suptitle('Avg. Error Sent Scores')\n",
    "ax[0].set_ylabel('Our Score')\n",
    "# plt.legend([p[0].value for p in pts], loc='center left', bbox_to_anchor=(1.5, 0.5), ncol=3)\n",
    "out_filename = f'img/error-scores.pdf'\n",
    "plt.savefig(out_filename, format=\"pdf\", bbox_inches='tight', pad_inches=0.0)\n",
    "plt.show()"
   ]
  },
  {
   "cell_type": "code",
   "execution_count": null,
   "metadata": {},
   "outputs": [],
   "source": [
    "def get_annotations_by_edit_family(data, edit_type):\n",
    "    information_change = None\n",
    "    if edit_type == 'paraphrase':\n",
    "        family = Family.LEXICAL\n",
    "        edit_type = 'substitution'\n",
    "    elif edit_type == 'split' or edit_type == 'structure' or edit_type == 'reorder':\n",
    "        family = Family.SYNTAX\n",
    "    elif edit_type == 'elaboration' or edit_type == 'generalization':\n",
    "        family = Family.CONTENT\n",
    "        if edit_type == 'elaboration':\n",
    "            information_change = Information.MORE\n",
    "        elif edit_type == 'generalization':\n",
    "            information_change = Information.LESS\n",
    "    else:\n",
    "        raise ValueError(f'Edit type not supported for this operation: {edit_type}')\n",
    "\n",
    "    anns = [ann for sent in data for ann in sent['processed_annotations']]\n",
    "    selected = [ann for ann in anns if ann['family'] == family and ann['edit_type'] == edit_type]\n",
    "    if edit_type == 'elaboration' or edit_type == 'generalization':\n",
    "        selected = [ann for ann in anns if ann['information_impact'] == information_change]\n",
    "\n",
    "    return selected"
   ]
  },
  {
   "cell_type": "code",
   "execution_count": null,
   "metadata": {},
   "outputs": [],
   "source": [
    "families = [\n",
    "    'elaboration',\n",
    "    'generalization',\n",
    "    'paraphrase',\n",
    "    'split',\n",
    "    'reorder',\n",
    "    'structure',\n",
    "]\n",
    "\n",
    "class Tmp(Enum):\n",
    "    NO_ERROR = 'No Error'\n",
    "\n",
    "width = 0.65\n",
    "annotations = [x for y in [sent['processed_annotations'] for sent in data] for x in y]\n",
    "fig, ax = plt.subplots(3, 1, figsize=(5, 10))\n",
    "\n",
    "edit_size = [avg([x['size'] for x in annotations if x['edit_type'] == edit_type]) for edit_type in edit_type_labels]\n",
    "ax[0].bar(edit_type_labels, edit_size, width, color=[color_mapping[label] for label in edit_type_labels])\n",
    "\n",
    "fam_size = [avg([x['size'] for x in get_annotations_by_edit_family(data, family)]) for family in families]\n",
    "ax[1].bar([x.capitalize() for x in families], fam_size, width, color=[color_mapping[label] for label in families])\n",
    "\n",
    "anns = [ann for sent in data for ann in sent['processed_annotations']]\n",
    "error_segmentation = {}\n",
    "for error in Error:\n",
    "    error_segmentation[error] = [a for a in anns if error == a['error_type']]\n",
    "error_segmentation[Tmp.NO_ERROR] = [a for a in anns if error == None]\n",
    "pts = []\n",
    "pts += [(error, avg([s['size'] for s in error_segmentation[error]])) for error in error_segmentation.keys()]\n",
    "pts = sorted([p for p in pts if p[1] != 0], key=lambda x: x[1])\n",
    "ax[2].bar([p[0].value for p in pts], [p[1] for p in pts], width, color=[color_mapping[label] for label in [p[0] for p in pts]])\n",
    "\n",
    "ax[0].set_xlabel('Edit Type')\n",
    "ax[1].set_xlabel('Edit Family')\n",
    "ax[2].set_xlabel('Error Type')\n",
    "\n",
    "ax[0].set_ylabel('Char Length')\n",
    "ax[1].set_ylabel('Char Length')\n",
    "ax[2].set_ylabel('Char Length')\n",
    "\n",
    "ax[0].set_title('Avg. Edit Span Size')\n",
    "ax[1].set_title('Avg. Family Span Size')\n",
    "ax[2].set_title('Avg. Error Span Size')\n",
    "\n",
    "for tick in ax[0].get_xticklabels() + ax[1].get_xticklabels() + ax[2].get_xticklabels():\n",
    "    tick.set_rotation(45)\n",
    "plt.show()"
   ]
  },
  {
   "cell_type": "code",
   "execution_count": null,
   "metadata": {},
   "outputs": [],
   "source": [
    "families = [\n",
    "    'elaboration',\n",
    "    'generalization',\n",
    "    'paraphrase',\n",
    "    'split',\n",
    "    'reorder',\n",
    "    'structure',\n",
    "]\n",
    "\n",
    "class Tmp(Enum):\n",
    "    NO_ERROR = 'No Error'\n",
    "\n",
    "import scipy.stats as st\n",
    "def ci(int_data):\n",
    "    y1, y2 = st.t.interval(alpha=0.95, df=len(int_data)-1, loc=np.mean(int_data), scale=st.sem(int_data)) \n",
    "    # If it's too big, we just won't even return it\n",
    "    if y1 <= 0.01 or math.isnan(y1):\n",
    "        return 0\n",
    "    return (y2-y1) / 2\n",
    "\n",
    "width = 0.65\n",
    "annotations = [x for y in [sent['processed_annotations'] for sent in data] for x in y]\n",
    "fig, ax = plt.subplots(1, 2, figsize=(7, 4))\n",
    "\n",
    "fam_size = [(family, avg([x['size'] for x in get_annotations_by_edit_family(data, family)]), ci([x['size'] for x in get_annotations_by_edit_family(data, family)])) for family in families]\n",
    "pts = sorted([p for p in fam_size if p[1] != 0], key=lambda x: x[1], reverse=True)\n",
    "ax[0].bar([p[0].capitalize() for p in pts], [p[1] for p in pts], width, yerr=[p[2] for p in pts], color=[color_mapping[label] for label in families])\n",
    "\n",
    "anns = [ann for sent in data for ann in sent['processed_annotations']]\n",
    "error_segmentation = {}\n",
    "for error in Error:\n",
    "    error_segmentation[error] = [a for a in anns if error == a['error_type']]\n",
    "error_segmentation[Tmp.NO_ERROR] = [a for a in anns if error == None]\n",
    "pts = [(error, avg([s['size'] for s in error_segmentation[error]]), ci([s['size'] for s in error_segmentation[error]])) for error in error_segmentation.keys()]\n",
    "pts = sorted([p for p in pts if p[1] != 0], key=lambda x: x[1], reverse=True)\n",
    "ax[1].bar([p[0].value for p in pts], [p[1] for p in pts], width, yerr=[p[2] for p in pts], color=[color_mapping[label] for label in [p[0] for p in pts]])\n",
    "\n",
    "# ax[0].set_xlabel('Edit Family')\n",
    "# ax[1].set_xlabel('Error Type')\n",
    "\n",
    "ax[0].set_ylabel('Char Length')\n",
    "ax[1].set_ylabel('')\n",
    "\n",
    "plt.suptitle('Avg. Edit Span Size by Type')\n",
    "# ax[1].set_title('Avg. Error Span Size')\n",
    "\n",
    "ax[0].set_yticks(np.arange(0, 0.085, 0.02))\n",
    "ax[1].set_yticks(np.arange(0, 0.17, 0.02))\n",
    "\n",
    "for tick in ax[0].get_xticklabels() + ax[1].get_xticklabels():\n",
    "    tick.set_rotation(45)\n",
    "    tick.set_horizontalalignment('right')\n",
    "\n",
    "out_filename = f'img/edit-sizes.pdf'\n",
    "plt.savefig(out_filename, format=\"pdf\", bbox_inches='tight', pad_inches=0.0)\n",
    "plt.show()"
   ]
  },
  {
   "cell_type": "code",
   "execution_count": null,
   "metadata": {},
   "outputs": [],
   "source": [
    "asset = load_data('../annotated', batch_num=[1, 2, 3, 4], preprocess=True)\n",
    "\n",
    "pts = []\n",
    "for sent in data:\n",
    "    pts += [(\n",
    "        len(sent['processed_annotations']),\n",
    "        edit_dist(sent['original'], sent['simplified'])\n",
    "    )]\n",
    "plt.scatter([p[0] for p in pts], [p[1] for p in pts], color='red', label='SimpEval', alpha=0.5)\n",
    "\n",
    "pts = []\n",
    "for sent in asset:\n",
    "    pts += [(\n",
    "        len(sent['processed_annotations']),\n",
    "        edit_dist(sent['original'], sent['simplified'])\n",
    "    )]\n",
    "plt.scatter([p[0] for p in pts], [p[1] for p in pts], color='blue', label='ASSET', alpha=0.5)\n",
    "\n",
    "plt.xticks(np.arange(0, 21, 1))\n",
    "\n",
    "# plt.title('Edit Distance vs. Number of Edits')\n",
    "plt.xlabel('Number of Edits')\n",
    "plt.ylabel('Edit Distance')\n",
    "plt.legend()\n",
    "out_filename = f'img/edit-distance-num-edits.pdf'\n",
    "plt.savefig(out_filename, format=\"pdf\", bbox_inches='tight', pad_inches=0.0)\n",
    "plt.show()"
   ]
  },
  {
   "cell_type": "code",
   "execution_count": null,
   "metadata": {},
   "outputs": [],
   "source": [
    "for sent in data:\n",
    "    sent['ed'] = edit_dist(sent['original'], sent['simplified'])"
   ]
  },
  {
   "cell_type": "code",
   "execution_count": null,
   "metadata": {},
   "outputs": [],
   "source": [
    "for sent in asset:\n",
    "    sent['ed'] = edit_dist(sent['original'], sent['simplified'])"
   ]
  },
  {
   "cell_type": "code",
   "execution_count": null,
   "metadata": {},
   "outputs": [],
   "source": [
    "fig, ax = plt.subplots(2, 2, figsize=(5, 5), sharey=True)\n",
    "\n",
    "# If a bucket has less than this value, we don't include it\n",
    "representative_sample_size = 15\n",
    "\n",
    "for k, dataset in enumerate([data, asset]):\n",
    "    bucket_size = 20\n",
    "    start_amt = 0\n",
    "    end_amt = 205\n",
    "    pts = []\n",
    "    for i in range((end_amt - start_amt) // bucket_size):\n",
    "        start_size = start_amt + i * bucket_size\n",
    "        end_size = start_amt + (i + 1) * bucket_size\n",
    "\n",
    "        selected = [s for s in dataset if start_size <= s['ed'] < end_size]\n",
    "\n",
    "        splits = 0\n",
    "        for sent in selected:\n",
    "            if len([a for a in sent['edits'] if a['type'] == 'split']) >= 1:\n",
    "                splits += 1\n",
    "        if len(selected) > representative_sample_size:\n",
    "            pts += [(start_size, splits / len(selected))]\n",
    "        else:\n",
    "            pts += [(start_size, 0)]\n",
    "    ax[k, 0].hist([p[0] for p in pts][:-1], [p[0] for p in pts], weights=[p[1] for p in pts[1:]], color=color_mapping['split'], edgecolor='black', linewidth=1.2)\n",
    "\n",
    "    bucket_size = 20\n",
    "    start_amt = 75\n",
    "    end_amt = 300\n",
    "    pts = []\n",
    "    for i in range((end_amt - start_amt) // bucket_size):\n",
    "        start_size = start_amt + i * bucket_size\n",
    "        end_size = start_amt + (i + 1) * bucket_size\n",
    "\n",
    "        selected = [s for s in dataset if start_size <= len(s['simplified']) < end_size]\n",
    "\n",
    "        splits = 0\n",
    "        for sent in selected:\n",
    "            if len([a for a in sent['edits'] if a['type'] == 'split']) >= 1:\n",
    "                splits += 1\n",
    "        \n",
    "        if len(selected) > representative_sample_size:\n",
    "            pts += [(start_size, splits / len(selected))]\n",
    "        else:\n",
    "            pts += [(start_size, 0)]\n",
    "    ax[k, 1].hist([p[0] for p in pts][:-1], [p[0] for p in pts], weights=[p[1] for p in pts[1:]], color=color_mapping['split'], edgecolor='black', linewidth=1.2)\n",
    "\n",
    "# fig.suptitle('Proportion of Sentences with a Split Edit')\n",
    "ax[0, 0].set_xticks([])\n",
    "ax[0, 1].set_xticks([])\n",
    "ax[1, 0].set_xlabel('Edit Distance')\n",
    "ax[1, 1].set_xlabel('Original Sentence Length')\n",
    "ax[0, 0].set_ylabel('% SimpEval w/ Split')\n",
    "ax[1, 0].set_ylabel('% ASSET w/ Split')\n",
    "\n",
    "out_filename = f'img/split-edit-sizes.pdf'\n",
    "plt.savefig(out_filename, format=\"pdf\", bbox_inches='tight', pad_inches=0.0)\n",
    "plt.show()"
   ]
  },
  {
   "cell_type": "code",
   "execution_count": null,
   "metadata": {},
   "outputs": [],
   "source": [
    "# Show the distribution of edit and sentence scores\n",
    "score_distribution(data)"
   ]
  },
  {
   "cell_type": "code",
   "execution_count": null,
   "metadata": {},
   "outputs": [],
   "source": [
    "import random\n",
    "\n",
    "n_bins = 20\n",
    "fig, axs = plt.subplots(1, 2, tight_layout=True, figsize=(7, 4))\n",
    "\n",
    "for system in [s for s in all_system_labels if s in systems and 'Human' not in s]:\n",
    "    annotations = sorted([x for y in [sent['processed_annotations'] for sent in data if sent['system'] == system] for x in y], key=lambda x: x['score'])\n",
    "    axs[0].hist([x['score'] for x in annotations], bins=n_bins, alpha=0.3, label=system_name_mapping[system], color=color_mapping[system])\n",
    "    axs[1].hist([x['score'] for x in data if x['system'] == system], bins=n_bins, alpha=0.3, label=system_name_mapping[system], color=color_mapping[system])\n",
    "\n",
    "# Only human annotations\n",
    "annotations = sorted([x for y in [sent['processed_annotations'] for sent in data if 'Human' in sent['system']] for x in y], key=lambda x: x['score'])\n",
    "edit_scores, sent_scores = [x['score'] for x in annotations], [x['score'] for x in data if 'Human' in x['system']]\n",
    "axs[0].hist(random.sample(edit_scores, int(len(edit_scores)/2)), bins=n_bins, alpha=0.3, label='Human', color=color_mapping['new-wiki-1/Human 1 Writing'])\n",
    "axs[1].hist(random.sample(sent_scores, int(len(sent_scores)/2)), bins=n_bins, alpha=0.3, label='Human', color=color_mapping['new-wiki-1/Human 2 Writing'])\n",
    "\n",
    "axs[0].set_yticks(np.arange(0, 401, 50))\n",
    "axs[1].set_yticks(np.arange(0, 26, 5))\n",
    "\n",
    "axs[0].set_title(\"Distribution of Edit Scores\")\n",
    "axs[1].set_title(\"Distribution of Sentence Scores\")\n",
    "\n",
    "axs[0].set_ylabel(\"Frequency\")\n",
    "axs[0].set_xlabel(\"Our Score\")\n",
    "axs[1].set_xlabel(\"Our Score\")\n",
    "\n",
    "axs[1].legend()\n",
    "\n",
    "out_filename = f'img/score-distributions.pdf'\n",
    "plt.savefig(out_filename, format=\"pdf\", bbox_inches='tight', pad_inches=0.0)\n",
    "plt.show()\n"
   ]
  },
  {
   "cell_type": "code",
   "execution_count": null,
   "metadata": {},
   "outputs": [],
   "source": [
    "# Get the best and worst performing sentences\n",
    "best, worst = best_performing(data)"
   ]
  },
  {
   "cell_type": "code",
   "execution_count": null,
   "metadata": {},
   "outputs": [],
   "source": [
    "# Get setences with a score of 0\n",
    "zeros = zero_scoring_sents(data)"
   ]
  },
  {
   "cell_type": "code",
   "execution_count": null,
   "metadata": {},
   "outputs": [],
   "source": [
    "# average_scores: Averages our scores before plotting\n",
    "edit_length(data, systems, simpeval=False, average_scores=False)"
   ]
  },
  {
   "cell_type": "code",
   "execution_count": null,
   "metadata": {},
   "outputs": [],
   "source": [
    "# Get sentences with at least 1 structure change from 1 annotator\n",
    "ids = sorted(list(set([sent['id'] for sent in data if 'structure' in [x['type'] for x in sent['edits']]])))\n",
    "print(f'Sentences with at least 1 structure change: {len(ids)} / {len(data)}')"
   ]
  },
  {
   "cell_type": "code",
   "execution_count": null,
   "metadata": {},
   "outputs": [],
   "source": [
    "# Display a sentence with a structure change\n",
    "id_ = 4\n",
    "sents = [sent for sent in data if sent['id'] == ids[id_]]\n",
    "print_changes(sents)\n",
    "draw_agreement(sents)"
   ]
  },
  {
   "cell_type": "code",
   "execution_count": null,
   "metadata": {},
   "outputs": [],
   "source": [
    "for system in systems:\n",
    "    aloe, aloe_no_del, perc_error = error_rate([sent for sent in data if system == sent['system']])\n",
    "    print(f'''\n",
    "    --- {system} ---\n",
    "    Sentences with at least 1 error: {aloe}\n",
    "    Sentences with at least 1 error excluding bad deletion: {aloe_no_del}\n",
    "    Percentage of error edits: {perc_error}\n",
    "    ''')"
   ]
  },
  {
   "cell_type": "code",
   "execution_count": null,
   "metadata": {},
   "outputs": [],
   "source": [
    "# What % content edits are elaboration vs generalization\n",
    "\n",
    "# Graphs each system with 6 columns each. Each column is a different quality edit. \n",
    "# This takes the average rating of each edit"
   ]
  },
  {
   "cell_type": "code",
   "execution_count": null,
   "metadata": {},
   "outputs": [],
   "source": [
    "avg_edit_ratings(data)"
   ]
  },
  {
   "cell_type": "code",
   "execution_count": null,
   "metadata": {},
   "outputs": [],
   "source": [
    "# Older version which combines graphs side-by-side\n",
    "# edits_by_family(data)\n",
    "\n",
    "# edits_by_family(data, Family.CONTENT)\n",
    "# edits_by_family(data, Family.SYNTAX)\n",
    "# edits_by_family(data, Family.LEXICAL)\n",
    "\n",
    "edits_by_family_separated(data, savefig=True)\n",
    "edits_by_family_separated(data)"
   ]
  },
  {
   "cell_type": "code",
   "execution_count": null,
   "metadata": {},
   "outputs": [],
   "source": [
    "get_edits_by_family(data, Family.CONTENT, errors_by_sent=True)"
   ]
  },
  {
   "cell_type": "code",
   "execution_count": null,
   "metadata": {},
   "outputs": [],
   "source": [
    "ratings_by_edit_type(data, 'paraphrase')\n",
    "# ratings_by_edit_type(data, 'split')\n",
    "# ratings_by_edit_type(data, 'reorder')\n",
    "# ratings_by_edit_type(data, 'structure')"
   ]
  },
  {
   "cell_type": "code",
   "execution_count": null,
   "metadata": {},
   "outputs": [],
   "source": [
    "edit_ratings_barh(data, old_formatting=True)"
   ]
  },
  {
   "cell_type": "code",
   "execution_count": null,
   "metadata": {},
   "outputs": [],
   "source": [
    "edit_ratings_barh(data) # include_all=False"
   ]
  },
  {
   "cell_type": "code",
   "execution_count": null,
   "metadata": {},
   "outputs": [],
   "source": [
    "edit_ratings_barh(data, size_weighted=True)"
   ]
  },
  {
   "cell_type": "code",
   "execution_count": null,
   "metadata": {},
   "outputs": [],
   "source": [
    "# Prints a table quality edits\n",
    "for family in ['elaboration', 'generalization', 'split', 'structure', 'reorder', 'paraphrase']:\n",
    "    ratings = get_ratings_by_edit_type(data, family)\n",
    "    al = f'{family} & '\n",
    "    for system in [s for s in all_system_labels if s in ratings.keys() and '2' not in s]:\n",
    "        total = sum([x if type(x) is int else sum(x.values()) for x in list(ratings[system].values())])\n",
    "        nl = \"\"\n",
    "        for i in range(3):\n",
    "            nl += (f'{round(ratings[system][\"error\"][i] / total, 2)*100:.0f} & ')\n",
    "        nl += (f'{round(ratings[system][\"trivial\"] / total, 2)*100:.0f} & ')\n",
    "        for i in range(3):\n",
    "            nl += (f'{round(ratings[system][\"quality\"][i] / total, 2)*100:.0f} & ')\n",
    "        al += nl\n",
    "    al = ' & ' + al[:-2].capitalize() + '\\\\tabularnewline'\n",
    "    print(al)"
   ]
  },
  {
   "cell_type": "code",
   "execution_count": null,
   "metadata": {},
   "outputs": [],
   "source": [
    "# - Average quality edit (or log-size * average) rating for these modification types\n",
    "#     - Content, Syntax, Lexical\n",
    "#     - Elaboration, Generalization, Paraphrase, Structure, Reorder, Split\n",
    "# - Average error edit for Content, Syntax, Lexical i guess?\n",
    "# - Overlap the annotator’s decision for each system"
   ]
  },
  {
   "cell_type": "code",
   "execution_count": null,
   "metadata": {},
   "outputs": [],
   "source": [
    "all_data = load_data('../annotated', preprocess=True)\n",
    "edit_type_by_system(all_data, humans=True, normalized=True)"
   ]
  },
  {
   "cell_type": "code",
   "execution_count": null,
   "metadata": {},
   "outputs": [],
   "source": [
    "subtypes = [\n",
    "    'Voice Change',\n",
    "    'Part-of-Speech Change',\n",
    "    'Tense Change',\n",
    "    'Grammatical Number',\n",
    "    'Clausal Change'\n",
    "]\n",
    "\n",
    "fig, axs = plt.subplots(1, 2, figsize=(7, 3))\n",
    "quality = np.array([35, 25, 25, 10, 5])\n",
    "error = np.array([25, 30, 25, 15, 5])\n",
    "\n",
    "color = color_mapping['structure']\n",
    "scalar = [0.8, 1, 1.2, 1.4, 1.6]\n",
    "colors = []\n",
    "for s in scalar:\n",
    "    colors += [colorscale(color, s)]\n",
    "\n",
    "axs[0].pie(quality, colors=colors, labels=subtypes, labeldistance=None)\n",
    "axs[1].pie(error, colors=colors, labels=subtypes, labeldistance=None)\n",
    "\n",
    "axs[0].set_xlabel('Quality Structure Changes')\n",
    "axs[1].set_xlabel('Error Structure Changes')\n",
    "axs[1].legend(subtypes, loc='center left', bbox_to_anchor=(1, 0.5))\n",
    "# plt.suptitle(\"Manual Breakdown of Structure Changes\")\n",
    "\n",
    "out_filename = \"img/structure-breakdown.pdf\"\n",
    "plt.savefig(out_filename, format=\"pdf\", bbox_inches='tight', pad_inches=0.0)\n",
    "plt.show() "
   ]
  },
  {
   "cell_type": "code",
   "execution_count": null,
   "metadata": {},
   "outputs": [],
   "source": [
    "fig, axs = plt.subplots(1, 2, figsize=(5, 3))\n",
    "\n",
    "labels, values = zip(*count_dataset_composite_edits(data, 'structure').items())\n",
    "axs[0].pie(values, colors=[color_mapping[l] for l in labels], labels=labels, labeldistance=None)\n",
    "\n",
    "labels, values = zip(*count_dataset_composite_edits(data, 'split').items())\n",
    "axs[1].pie(values, colors=[color_mapping[l] for l in labels], labels=labels, labeldistance=None)\n",
    "\n",
    "axs[0].set_xlabel('Structure Edits')\n",
    "axs[1].set_xlabel('Split Edits')\n",
    "# plt.suptitle(\"Child Edits of Composite Edits\")\n",
    "\n",
    "out_filename = \"img/composite-breakdown.pdf\"\n",
    "plt.savefig(out_filename, format=\"pdf\", bbox_inches='tight', pad_inches=0.0)\n",
    "plt.show() "
   ]
  }
 ],
 "metadata": {
  "kernelspec": {
   "display_name": "Python 3.9.0 64-bit",
   "language": "python",
   "name": "python3"
  },
  "language_info": {
   "codemirror_mode": {
    "name": "ipython",
    "version": 3
   },
   "file_extension": ".py",
   "mimetype": "text/x-python",
   "name": "python",
   "nbconvert_exporter": "python",
   "pygments_lexer": "ipython3",
   "version": "3.9.0"
  },
  "orig_nbformat": 4,
  "vscode": {
   "interpreter": {
    "hash": "81794d4967e6c3204c66dcd87b604927b115b27c00565d3d43f05ba2f3a2cb0d"
   }
  }
 },
 "nbformat": 4,
 "nbformat_minor": 2
}
