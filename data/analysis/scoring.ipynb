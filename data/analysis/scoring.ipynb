{
 "cells": [
  {
   "cell_type": "code",
   "execution_count": 9,
   "metadata": {},
   "outputs": [
    {
     "name": "stdout",
     "output_type": "stream",
     "text": [
      "Loading files: ['../annotated/batch_1_anton.json', '../annotated/batch_1_ayush.json', '../annotated/batch_1_kelly.json', '../annotated/batch_2_vinayak.json', '../annotated/batch_2_vishnesh.json', '../annotated/batch_3_anton.json', '../annotated/batch_3_ayush.json', '../annotated/batch_3_kelly.json']\n",
      "\n",
      "Found users: {'ayush', 'vinayak', 'kelly', 'vishnesh', 'anton'}\n",
      "\n",
      "Couldn't process grammar for substitution: ['positive', '', '', '']. Assuming 'no'...\n",
      "Couldn't process positive rating for substitution: ['positive', '', '', '']. Assuming 'somewhat'...\n",
      "Couldn't process grammar for substitution: ['positive', 'minor', '', '']. Assuming 'no'...\n",
      "Couldn't process grammar for deletion: ['good', 'no', '']. Assuming 'no'...\n",
      "Couldn't process grammar for deletion: ['good', 'no', '']. Assuming 'no'...\n",
      "Couldn't process grammar for deletion: ['perfect', 'no', '']. Assuming 'no'...\n",
      "Couldn't process grammar for deletion: ['good', 'no', '']. Assuming 'no'...\n",
      "Couldn't process grammar for substitution: ['positive', 'a lot', '', '']. Assuming 'no'...\n",
      "Couldn't process grammar for substitution: ['positive', 'somewhat', '', '']. Assuming 'no'...\n",
      "Couldn't process grammar for deletion: ['good', 'no', '']. Assuming 'no'...\n",
      "Couldn't process grammar for deletion: ['perfect', 'yes', '']. Assuming 'no'...\n",
      "Couldn't process grammar for deletion: ['good', 'no', '']. Assuming 'no'...\n",
      "Couldn't process grammar for deletion: ['good', 'no', '']. Assuming 'no'...\n",
      "Couldn't process grammar for deletion: ['perfect', 'no', '']. Assuming 'no'...\n",
      "Couldn't process grammar for deletion: ['perfect', 'no', '']. Assuming 'no'...\n",
      "Couldn't process grammar for deletion: ['perfect', 'no', '']. Assuming 'no'...\n",
      "Couldn't process grammar for deletion: ['good', 'no', '']. Assuming 'no'...\n",
      "Couldn't process grammar for deletion: ['good', 'no', '']. Assuming 'no'...\n",
      "Couldn't process grammar for deletion: ['good', 'no', '']. Assuming 'no'...\n",
      "Couldn't process grammar for deletion: ['good', 'no', '']. Assuming 'no'...\n",
      "Couldn't process grammar for deletion: ['good', 'no', '']. Assuming 'no'...\n",
      "Couldn't process grammar for deletion: ['good', 'no', '']. Assuming 'no'...\n",
      "Couldn't process grammar for deletion: ['good', 'yes', '']. Assuming 'no'...\n",
      "Couldn't process grammar for deletion: ['good', 'no', '']. Assuming 'no'...\n",
      "Couldn't process grammar for deletion: ['good', 'no', '']. Assuming 'no'...\n",
      "Couldn't process grammar for deletion: ['good', 'no', '']. Assuming 'no'...\n",
      "Couldn't process grammar for deletion: ['good', 'no', '']. Assuming 'no'...\n",
      "Couldn't process grammar for deletion: ['perfect', 'no', '']. Assuming 'no'...\n",
      "Couldn't process grammar for deletion: ['good', 'no', '']. Assuming 'no'...\n",
      "Couldn't process grammar for deletion: ['good', 'no', '']. Assuming 'no'...\n",
      "Couldn't process grammar for deletion: ['good', 'no', '']. Assuming 'no'...\n",
      "Couldn't process grammar for deletion: ['good', 'no', '']. Assuming 'no'...\n",
      "Couldn't process grammar for substitution: ['positive', 'somewhat', '', '']. Assuming 'no'...\n",
      "Couldn't process grammar for deletion: ['good', 'no', '']. Assuming 'no'...\n",
      "Couldn't process coreference error for deletion: ['perfect', '', 'no']. Assuming 'no'...\n",
      "Couldn't process grammar for deletion: ['good', 'no', '']. Assuming 'no'...\n",
      "Couldn't process grammar for substitution: ['positive', 'a lot', '', '']. Assuming 'no'...\n"
     ]
    }
   ],
   "source": [
    "import json\n",
    "from utils.all import *\n",
    "\n",
    "# Allows interactive plotting\n",
    "from __future__ import print_function\n",
    "from ipywidgets import interact, interactive, fixed, interact_manual\n",
    "import ipywidgets as widgets\n",
    "import matplotlib.pyplot as plt, random\n",
    "\n",
    "# There's also 'tutorial' and 'preliminary' data\n",
    "data = load_data('../annotated', batch_num=[5, 6], preprocess=True, realign_ids=False)"
   ]
  },
  {
   "cell_type": "code",
   "execution_count": 10,
   "metadata": {},
   "outputs": [
    {
     "ename": "KeyError",
     "evalue": "'simpeval_scores'",
     "output_type": "error",
     "traceback": [
      "\u001b[1;31m---------------------------------------------------------------------------\u001b[0m",
      "\u001b[1;31mKeyError\u001b[0m                                  Traceback (most recent call last)",
      "\u001b[1;32m<ipython-input-10-0533e3c3894e>\u001b[0m in \u001b[0;36m<module>\u001b[1;34m\u001b[0m\n\u001b[0;32m      1\u001b[0m \u001b[1;31m# Graph agreement with SimpEval\u001b[0m\u001b[1;33m\u001b[0m\u001b[1;33m\u001b[0m\u001b[1;33m\u001b[0m\u001b[0m\n\u001b[0;32m      2\u001b[0m \u001b[0mdata\u001b[0m \u001b[1;33m=\u001b[0m \u001b[0mcalculate_sentence_scores\u001b[0m\u001b[1;33m(\u001b[0m\u001b[0mdata\u001b[0m\u001b[1;33m)\u001b[0m\u001b[1;33m\u001b[0m\u001b[1;33m\u001b[0m\u001b[0m\n\u001b[1;32m----> 3\u001b[1;33m \u001b[0msimpeval_agreement\u001b[0m\u001b[1;33m(\u001b[0m\u001b[0mdata\u001b[0m\u001b[1;33m)\u001b[0m\u001b[1;33m\u001b[0m\u001b[1;33m\u001b[0m\u001b[0m\n\u001b[0m",
      "\u001b[1;32mc:\\Users\\heine\\Documents\\research\\ts-annotation-tool\\data\\analysis\\graphs.py\u001b[0m in \u001b[0;36msimpeval_agreement\u001b[1;34m(data, average)\u001b[0m\n\u001b[0;32m    494\u001b[0m \u001b[1;32mdef\u001b[0m \u001b[0msimpeval_agreement\u001b[0m\u001b[1;33m(\u001b[0m\u001b[0mdata\u001b[0m\u001b[1;33m,\u001b[0m \u001b[0maverage\u001b[0m\u001b[1;33m=\u001b[0m\u001b[1;32mTrue\u001b[0m\u001b[1;33m)\u001b[0m\u001b[1;33m:\u001b[0m\u001b[1;33m\u001b[0m\u001b[1;33m\u001b[0m\u001b[0m\n\u001b[0;32m    495\u001b[0m     \u001b[1;32mif\u001b[0m \u001b[1;33m(\u001b[0m\u001b[0maverage\u001b[0m\u001b[1;33m)\u001b[0m\u001b[1;33m:\u001b[0m\u001b[1;33m\u001b[0m\u001b[1;33m\u001b[0m\u001b[0m\n\u001b[1;32m--> 496\u001b[1;33m         \u001b[0mscores\u001b[0m \u001b[1;33m=\u001b[0m \u001b[1;33m[\u001b[0m\u001b[1;33m(\u001b[0m\u001b[0mavg\u001b[0m\u001b[1;33m(\u001b[0m\u001b[0msent\u001b[0m\u001b[1;33m[\u001b[0m\u001b[1;34m'simpeval_scores'\u001b[0m\u001b[1;33m]\u001b[0m\u001b[1;33m,\u001b[0m \u001b[0mprec\u001b[0m\u001b[1;33m=\u001b[0m\u001b[1;36m5\u001b[0m\u001b[1;33m)\u001b[0m\u001b[1;33m,\u001b[0m \u001b[0msent\u001b[0m\u001b[1;33m[\u001b[0m\u001b[1;34m'score'\u001b[0m\u001b[1;33m]\u001b[0m\u001b[1;33m)\u001b[0m \u001b[1;32mfor\u001b[0m \u001b[0msent\u001b[0m \u001b[1;32min\u001b[0m \u001b[0mdata\u001b[0m\u001b[1;33m]\u001b[0m\u001b[1;33m\u001b[0m\u001b[1;33m\u001b[0m\u001b[0m\n\u001b[0m\u001b[0;32m    497\u001b[0m     \u001b[1;32melse\u001b[0m\u001b[1;33m:\u001b[0m\u001b[1;33m\u001b[0m\u001b[1;33m\u001b[0m\u001b[0m\n\u001b[0;32m    498\u001b[0m         \u001b[1;31m# Simply takes the first annotator\u001b[0m\u001b[1;33m\u001b[0m\u001b[1;33m\u001b[0m\u001b[1;33m\u001b[0m\u001b[0m\n",
      "\u001b[1;32mc:\\Users\\heine\\Documents\\research\\ts-annotation-tool\\data\\analysis\\graphs.py\u001b[0m in \u001b[0;36m<listcomp>\u001b[1;34m(.0)\u001b[0m\n\u001b[0;32m    494\u001b[0m \u001b[1;32mdef\u001b[0m \u001b[0msimpeval_agreement\u001b[0m\u001b[1;33m(\u001b[0m\u001b[0mdata\u001b[0m\u001b[1;33m,\u001b[0m \u001b[0maverage\u001b[0m\u001b[1;33m=\u001b[0m\u001b[1;32mTrue\u001b[0m\u001b[1;33m)\u001b[0m\u001b[1;33m:\u001b[0m\u001b[1;33m\u001b[0m\u001b[1;33m\u001b[0m\u001b[0m\n\u001b[0;32m    495\u001b[0m     \u001b[1;32mif\u001b[0m \u001b[1;33m(\u001b[0m\u001b[0maverage\u001b[0m\u001b[1;33m)\u001b[0m\u001b[1;33m:\u001b[0m\u001b[1;33m\u001b[0m\u001b[1;33m\u001b[0m\u001b[0m\n\u001b[1;32m--> 496\u001b[1;33m         \u001b[0mscores\u001b[0m \u001b[1;33m=\u001b[0m \u001b[1;33m[\u001b[0m\u001b[1;33m(\u001b[0m\u001b[0mavg\u001b[0m\u001b[1;33m(\u001b[0m\u001b[0msent\u001b[0m\u001b[1;33m[\u001b[0m\u001b[1;34m'simpeval_scores'\u001b[0m\u001b[1;33m]\u001b[0m\u001b[1;33m,\u001b[0m \u001b[0mprec\u001b[0m\u001b[1;33m=\u001b[0m\u001b[1;36m5\u001b[0m\u001b[1;33m)\u001b[0m\u001b[1;33m,\u001b[0m \u001b[0msent\u001b[0m\u001b[1;33m[\u001b[0m\u001b[1;34m'score'\u001b[0m\u001b[1;33m]\u001b[0m\u001b[1;33m)\u001b[0m \u001b[1;32mfor\u001b[0m \u001b[0msent\u001b[0m \u001b[1;32min\u001b[0m \u001b[0mdata\u001b[0m\u001b[1;33m]\u001b[0m\u001b[1;33m\u001b[0m\u001b[1;33m\u001b[0m\u001b[0m\n\u001b[0m\u001b[0;32m    497\u001b[0m     \u001b[1;32melse\u001b[0m\u001b[1;33m:\u001b[0m\u001b[1;33m\u001b[0m\u001b[1;33m\u001b[0m\u001b[0m\n\u001b[0;32m    498\u001b[0m         \u001b[1;31m# Simply takes the first annotator\u001b[0m\u001b[1;33m\u001b[0m\u001b[1;33m\u001b[0m\u001b[1;33m\u001b[0m\u001b[0m\n",
      "\u001b[1;31mKeyError\u001b[0m: 'simpeval_scores'"
     ]
    }
   ],
   "source": [
    "# Graph agreement with SimpEval\n",
    "data = calculate_sentence_scores(data)\n",
    "simpeval_agreement(data)"
   ]
  },
  {
   "cell_type": "code",
   "execution_count": 4,
   "metadata": {},
   "outputs": [
    {
     "ename": "KeyError",
     "evalue": "'simpeval_scores'",
     "output_type": "error",
     "traceback": [
      "\u001b[1;31m---------------------------------------------------------------------------\u001b[0m",
      "\u001b[1;31mKeyError\u001b[0m                                  Traceback (most recent call last)",
      "\u001b[1;32m<ipython-input-4-d1a291d1efdc>\u001b[0m in \u001b[0;36m<module>\u001b[1;34m\u001b[0m\n\u001b[0;32m      1\u001b[0m \u001b[1;31m# Show the distribution of edit and sentence scores\u001b[0m\u001b[1;33m\u001b[0m\u001b[1;33m\u001b[0m\u001b[1;33m\u001b[0m\u001b[0m\n\u001b[1;32m----> 2\u001b[1;33m \u001b[0mscore_distribution\u001b[0m\u001b[1;33m(\u001b[0m\u001b[0mdata\u001b[0m\u001b[1;33m,\u001b[0m \u001b[0minclude_simpeval\u001b[0m\u001b[1;33m=\u001b[0m\u001b[1;32mTrue\u001b[0m\u001b[1;33m)\u001b[0m\u001b[1;33m\u001b[0m\u001b[1;33m\u001b[0m\u001b[0m\n\u001b[0m",
      "\u001b[1;32mc:\\Users\\heine\\Documents\\research\\ts-annotation-tool\\data\\analysis\\graphs.py\u001b[0m in \u001b[0;36mscore_distribution\u001b[1;34m(data, include_simpeval)\u001b[0m\n\u001b[0;32m    475\u001b[0m \u001b[1;33m\u001b[0m\u001b[0m\n\u001b[0;32m    476\u001b[0m         \u001b[1;31m# Print distribution of simp eval scores\u001b[0m\u001b[1;33m\u001b[0m\u001b[1;33m\u001b[0m\u001b[1;33m\u001b[0m\u001b[0m\n\u001b[1;32m--> 477\u001b[1;33m         \u001b[0maxs\u001b[0m\u001b[1;33m[\u001b[0m\u001b[1;36m1\u001b[0m\u001b[1;33m,\u001b[0m \u001b[1;36m0\u001b[0m\u001b[1;33m]\u001b[0m\u001b[1;33m.\u001b[0m\u001b[0mhist\u001b[0m\u001b[1;33m(\u001b[0m\u001b[1;33m[\u001b[0m\u001b[0mi\u001b[0m \u001b[1;32mfor\u001b[0m \u001b[0mj\u001b[0m \u001b[1;32min\u001b[0m \u001b[1;33m[\u001b[0m\u001b[0mx\u001b[0m\u001b[1;33m[\u001b[0m\u001b[1;34m'simpeval_scores'\u001b[0m\u001b[1;33m]\u001b[0m \u001b[1;32mfor\u001b[0m \u001b[0mx\u001b[0m \u001b[1;32min\u001b[0m \u001b[0mdata\u001b[0m\u001b[1;33m]\u001b[0m \u001b[1;32mfor\u001b[0m \u001b[0mi\u001b[0m \u001b[1;32min\u001b[0m \u001b[0mj\u001b[0m\u001b[1;33m]\u001b[0m\u001b[1;33m,\u001b[0m \u001b[0mbins\u001b[0m\u001b[1;33m=\u001b[0m\u001b[0mn_bins\u001b[0m\u001b[1;33m)\u001b[0m\u001b[1;33m\u001b[0m\u001b[1;33m\u001b[0m\u001b[0m\n\u001b[0m\u001b[0;32m    478\u001b[0m         \u001b[0maxs\u001b[0m\u001b[1;33m[\u001b[0m\u001b[1;36m1\u001b[0m\u001b[1;33m,\u001b[0m \u001b[1;36m0\u001b[0m\u001b[1;33m]\u001b[0m\u001b[1;33m.\u001b[0m\u001b[0mset_title\u001b[0m\u001b[1;33m(\u001b[0m\u001b[1;34m\"Distribution of SimpEval Scores\"\u001b[0m\u001b[1;33m)\u001b[0m\u001b[1;33m\u001b[0m\u001b[1;33m\u001b[0m\u001b[0m\n\u001b[0;32m    479\u001b[0m \u001b[1;33m\u001b[0m\u001b[0m\n",
      "\u001b[1;32mc:\\Users\\heine\\Documents\\research\\ts-annotation-tool\\data\\analysis\\graphs.py\u001b[0m in \u001b[0;36m<listcomp>\u001b[1;34m(.0)\u001b[0m\n\u001b[0;32m    475\u001b[0m \u001b[1;33m\u001b[0m\u001b[0m\n\u001b[0;32m    476\u001b[0m         \u001b[1;31m# Print distribution of simp eval scores\u001b[0m\u001b[1;33m\u001b[0m\u001b[1;33m\u001b[0m\u001b[1;33m\u001b[0m\u001b[0m\n\u001b[1;32m--> 477\u001b[1;33m         \u001b[0maxs\u001b[0m\u001b[1;33m[\u001b[0m\u001b[1;36m1\u001b[0m\u001b[1;33m,\u001b[0m \u001b[1;36m0\u001b[0m\u001b[1;33m]\u001b[0m\u001b[1;33m.\u001b[0m\u001b[0mhist\u001b[0m\u001b[1;33m(\u001b[0m\u001b[1;33m[\u001b[0m\u001b[0mi\u001b[0m \u001b[1;32mfor\u001b[0m \u001b[0mj\u001b[0m \u001b[1;32min\u001b[0m \u001b[1;33m[\u001b[0m\u001b[0mx\u001b[0m\u001b[1;33m[\u001b[0m\u001b[1;34m'simpeval_scores'\u001b[0m\u001b[1;33m]\u001b[0m \u001b[1;32mfor\u001b[0m \u001b[0mx\u001b[0m \u001b[1;32min\u001b[0m \u001b[0mdata\u001b[0m\u001b[1;33m]\u001b[0m \u001b[1;32mfor\u001b[0m \u001b[0mi\u001b[0m \u001b[1;32min\u001b[0m \u001b[0mj\u001b[0m\u001b[1;33m]\u001b[0m\u001b[1;33m,\u001b[0m \u001b[0mbins\u001b[0m\u001b[1;33m=\u001b[0m\u001b[0mn_bins\u001b[0m\u001b[1;33m)\u001b[0m\u001b[1;33m\u001b[0m\u001b[1;33m\u001b[0m\u001b[0m\n\u001b[0m\u001b[0;32m    478\u001b[0m         \u001b[0maxs\u001b[0m\u001b[1;33m[\u001b[0m\u001b[1;36m1\u001b[0m\u001b[1;33m,\u001b[0m \u001b[1;36m0\u001b[0m\u001b[1;33m]\u001b[0m\u001b[1;33m.\u001b[0m\u001b[0mset_title\u001b[0m\u001b[1;33m(\u001b[0m\u001b[1;34m\"Distribution of SimpEval Scores\"\u001b[0m\u001b[1;33m)\u001b[0m\u001b[1;33m\u001b[0m\u001b[1;33m\u001b[0m\u001b[0m\n\u001b[0;32m    479\u001b[0m \u001b[1;33m\u001b[0m\u001b[0m\n",
      "\u001b[1;31mKeyError\u001b[0m: 'simpeval_scores'"
     ]
    },
    {
     "data": {
      "image/png": "[encoded data removed]",
      "text/plain": [
       "<Figure size 540x288 with 4 Axes>"
      ]
     },
     "metadata": {
      "needs_background": "light"
     },
     "output_type": "display_data"
    }
   ],
   "source": [
    "# Show the distribution of edit and sentence scores\n",
    "score_distribution(data, include_simpeval=True)"
   ]
  },
  {
   "cell_type": "code",
   "execution_count": 4,
   "metadata": {},
   "outputs": [
    {
     "data": {
      "application/vnd.jupyter.widget-view+json": {
       "model_id": "0151ee0f0af940d49aa5c21faf98e1a2",
       "version_major": 2,
       "version_minor": 0
      },
      "text/plain": [
       "interactive(children=(Dropdown(description='data', options=([{'id': 0, 'original': 'The wounds inflicted by a …"
      ]
     },
     "metadata": {},
     "output_type": "display_data"
    },
    {
     "data": {
      "text/plain": [
       "<function __main__.series(data, average, user, good_deletion=7, good_trivial_insertion=8, good_insertion=2, good_paraphrase=2, good_syntax=6, grammar_error=-1.5, content_error=-2, size_calculation='log', display_distribution=False)>"
      ]
     },
     "execution_count": 4,
     "metadata": {},
     "output_type": "execute_result"
    }
   ],
   "source": [
    "# This is my first time using iPy, so this is a bit clunky...\n",
    "def series(\n",
    "    data, \n",
    "    average, \n",
    "    user,\n",
    "    good_deletion=default_params['good_deletion'], \n",
    "    good_trivial_insertion=default_params['good_trivial_insertion'], \n",
    "    good_insertion=default_params['good_insertion'], \n",
    "    good_paraphrase=default_params['good_paraphrase'], \n",
    "    good_syntax=default_params['good_syntax'], \n",
    "    grammar_error=default_params['grammar_error'], \n",
    "    content_error=default_params['content_error'], \n",
    "    size_calculation=default_params['size_calculation'],\n",
    "    display_distribution=False\n",
    "    ):\n",
    "    params = {\n",
    "        'good_deletion': good_deletion,\n",
    "        'good_trivial_insertion': good_trivial_insertion,\n",
    "        'good_insertion': good_insertion,\n",
    "        'good_paraphrase': good_paraphrase,\n",
    "        'good_syntax': good_syntax,\n",
    "        'grammar_error': grammar_error,\n",
    "        'content_error': content_error,\n",
    "        'size_calculation': size_calculation\n",
    "    }\n",
    "\n",
    "    selected_data = data\n",
    "    if user != 'all':\n",
    "        selected_data = [sent for sent in selected_data if sent['user'] == user]\n",
    "\n",
    "    selected_data = calculate_sentence_scores(selected_data, params)\n",
    "    simpeval_agreement(selected_data, average)\n",
    "    if (display_distribution):\n",
    "        score_distribution(selected_data)\n",
    "    return()\n",
    "\n",
    "interact(\n",
    "    series, \n",
    "    data=[data], \n",
    "    good_deletion=(-20,20,0.5), \n",
    "    good_trivial_insertion=(-20,20,0.5), \n",
    "    good_insertion=(-20,20,0.5), \n",
    "    good_paraphrase=(-20,20,0.5), \n",
    "    good_syntax=(-20,20,0.5), \n",
    "    grammar_error=(-20,20,0.5), \n",
    "    content_error=(-20,20,0.5),\n",
    "    size_calculation=['linear', 'log', 'square', 'none'],\n",
    "    average=[True, False],\n",
    "    user=['all'] + sorted(list(set([sent['user'] for sent in data]))),\n",
    "    display_distribution=[True, False]\n",
    ")"
   ]
  }
 ],
 "metadata": {
  "kernelspec": {
   "display_name": "Python 3.9.0 64-bit",
   "language": "python",
   "name": "python3"
  },
  "language_info": {
   "codemirror_mode": {
    "name": "ipython",
    "version": 3
   },
   "file_extension": ".py",
   "mimetype": "text/x-python",
   "name": "python",
   "nbconvert_exporter": "python",
   "pygments_lexer": "ipython3",
   "version": "3.9.0"
  },
  "orig_nbformat": 4,
  "vscode": {
   "interpreter": {
    "hash": "81794d4967e6c3204c66dcd87b604927b115b27c00565d3d43f05ba2f3a2cb0d"
   }
  }
 },
 "nbformat": 4,
 "nbformat_minor": 2
}
