{
 "cells": [
  {
   "cell_type": "code",
   "execution_count": 1,
   "metadata": {},
   "outputs": [
    {
     "name": "stdout",
     "output_type": "stream",
     "text": [
      "Loading files: ['../annotated/batch_1_anton.json', '../annotated/batch_1_ayush.json', '../annotated/batch_1_kelly.json', '../annotated/batch_2_vinayak.json', '../annotated/batch_2_vishnesh.json', '../annotated/batch_3_anton.json', '../annotated/batch_3_ayush.json', '../annotated/batch_3_kelly.json', '../annotated/batch_4_rachel.json', '../annotated/batch_4_vinayak.json', '../annotated/batch_4_vishnesh.json']\n",
      "\n",
      "Found users: {'anton', 'vishnesh', 'rachel', 'vinayak', 'ayush', 'kelly'}\n",
      "\n",
      "Couldn't process grammar for annotation: ['positive', '', '', '']\n",
      "Couldn't process grammar for annotation: ['positive', 'minor', '', '']\n",
      "Couldn't process grammar for annotation: ['positive', 'a lot', '', '']\n",
      "Couldn't process grammar for annotation: ['positive', 'somewhat', '', '']\n",
      "Couldn't process grammar for annotation: ['positive', 'somewhat', '', '']\n",
      "Couldn't process grammar for annotation: ['positive', 'a lot', '', '']\n",
      "Couldn't process grammar for annotation: ['positive', 'minor', '', '']\n"
     ]
    }
   ],
   "source": [
    "import json\n",
    "from types import *\n",
    "from dataloader import *\n",
    "from util import *\n",
    "from graphs import *\n",
    "from agreement import *\n",
    "from scoring import *\n",
    "\n",
    "data = []\n",
    "files = [f'../annotated/{x}' for x in os.listdir('../annotated/')]\n",
    "files = sorted(files)\n",
    "files = [x for x in files if 'batch_2_rachel' not in x] # Exclude corrupted file(s)\n",
    "\n",
    "print(f'Loading files: {files}\\n')\n",
    "\n",
    "# Add file and append user's name\n",
    "counter = 0\n",
    "batches = set([int(x.split('.')[-2].split('_')[-2]) for x in files])\n",
    "for batch_num in batches:\n",
    "    for filename in [x for x in files if ('batch_' + str(batch_num)) in x]:\n",
    "        with open(filename) as f:\n",
    "            individual_annotation = json.load(f)\n",
    "            for entry in individual_annotation:\n",
    "                entry['user'] = filename.split('.')[-2].split('_')[-1]\n",
    "                entry['batch'] = batch_num\n",
    "                entry['hit_id'] = entry['id']\n",
    "                entry['id'] += counter\n",
    "            data += individual_annotation\n",
    "    counter += len(individual_annotation)\n",
    "\n",
    "print(f'Found users: {set([sent[\"user\"] for sent in data])}\\n')\n",
    "\n",
    "data = consolidate_edits(data)          # Adds 'edits' field\n",
    "data = consolidate_annotations(data)    # Adds 'processed_annotations' field\n",
    "data = add_simpeval_scores(data, json=True)        # Adds 'simpeval_scores' field"
   ]
  },
  {
   "cell_type": "code",
   "execution_count": 3,
   "metadata": {},
   "outputs": [],
   "source": [
    "# To delete: creates MUSS batch\n",
    "out = copy.deepcopy(data)\n",
    "simpeval = []\n",
    "files = [i for j in [[f'../simpeval/{x}/{y}' for y in os.listdir('../simpeval/'+x)] for x in os.listdir('../simpeval/')] for i in j]\n",
    "for filename in files:\n",
    "    with open(filename) as f:\n",
    "        individual_annotation = json.load(f)\n",
    "        simpeval += individual_annotation\n",
    "outMuss = []\n",
    "for i in range(len(out)):\n",
    "    sent = out[i]\n",
    "    system = sent['system']\n",
    "    simpeval_sents = [entry for entry in simpeval if entry['Original'] == sent['original']]\n",
    "    final = []\n",
    "    for entry in simpeval_sents:\n",
    "        for sentence_type in ['Deletions', 'Paraphrases', 'Splittings']:\n",
    "            for entry_sent in entry[sentence_type]:\n",
    "                if entry_sent[2] == 'systems/muss_untokenized.txt':\n",
    "                    outMuss.append(entry_sent[1])\n",
    "                    final.append({'sentence_type': sentence_type.lower(), 'score': entry_sent[0], 'spans': entry_sent[3:]})\n",
    "    scores = [x['score'] for x in final]\n",
    "    out[i]['simpeval_scores'] = scores\n",
    "\n",
    "\n",
    "muss = []\n",
    "for sent in outMuss:\n",
    "    if sent not in muss:\n",
    "        muss.append(sent)\n",
    "\n",
    "orig_sent = [x['original'] for x in out]\n",
    "orig = []\n",
    "for sent in orig_sent:\n",
    "    if sent not in orig:\n",
    "        orig.append(sent)\n",
    "\n",
    "batches = [range(0,10), range(10,20), range(20,24), range(24,28)]\n",
    "\n",
    "outs = []\n",
    "for batch in batches:\n",
    "    out = []\n",
    "    for id_ in batch:\n",
    "        simp_spans = []\n",
    "        if '||' in muss[id_]:\n",
    "            simp_spans.append([\n",
    "                2,\n",
    "                muss[id_].index('||'),\n",
    "                muss[id_].index('||') + 2,\n",
    "                0\n",
    "            ])\n",
    "        out.append({\n",
    "            'id': id_,\n",
    "            'original': orig[id_],\n",
    "            \"original_spans\": [],\n",
    "            'simplified': muss[id_],\n",
    "            \"simplified_spans\": simp_spans,\n",
    "            'system': 'systems/muss_untokenized.txt'\n",
    "        })\n",
    "    outs.append(out)\n",
    "\n",
    "b1 = outs[0] + outs[2]\n",
    "b2 = outs[1] + outs[3]\n",
    "\n",
    "id_ = 0\n",
    "for sent in b1:\n",
    "    sent['id'] = id_\n",
    "    id_ += 1\n",
    "\n",
    "id_ = 0\n",
    "for sent in b2:\n",
    "    sent['id'] = id_\n",
    "    id_ += 1\n",
    "\n",
    "num = 5\n",
    "with open(f'../batches/batch_{num}.json', 'w', encoding='utf-8') as f:\n",
    "    json.dump(b1, f, ensure_ascii=False, indent=4)\n",
    "\n",
    "num = 6\n",
    "with open('../batches/batch_6.json', 'w', encoding='utf-8') as f:\n",
    "    json.dump(b2, f, ensure_ascii=False, indent=4)"
   ]
  },
  {
   "cell_type": "code",
   "execution_count": 24,
   "metadata": {},
   "outputs": [
    {
     "data": {
      "image/png": "[encoded data removed]",
      "text/plain": [
       "<Figure size 540x288 with 1 Axes>"
      ]
     },
     "metadata": {
      "needs_background": "light"
     },
     "output_type": "display_data"
    }
   ],
   "source": [
    "parameters = {\n",
    "    'good_deletion': 7,\n",
    "    'good_trivial_insertion': 8,\n",
    "    'good_insertion': 2,\n",
    "    'good_paraphrase': 2,\n",
    "    'good_syntax': 6,\n",
    "    'grammar_error': -1.5,\n",
    "    'content_error': -2,\n",
    "    'size_calculation': 'log'\n",
    "}\n",
    "\n",
    "data = calculate_sentence_scores(data, parameters)\n",
    "\n",
    "# Show the agreement with SimpEval\n",
    "simpeval_agreement(data)"
   ]
  },
  {
   "cell_type": "code",
   "execution_count": 25,
   "metadata": {},
   "outputs": [
    {
     "data": {
      "application/vnd.jupyter.widget-view+json": {
       "model_id": "742cb18c33d642fa89739c7473cbdf51",
       "version_major": 2,
       "version_minor": 0
      },
      "text/plain": [
       "interactive(children=(Dropdown(description='data', options=([{'id': 0, 'original': 'The wounds inflicted by a …"
      ]
     },
     "metadata": {},
     "output_type": "display_data"
    },
    {
     "data": {
      "text/plain": [
       "<function __main__.series(data, good_deletion, good_trivial_insertion, good_insertion, good_paraphrase, good_syntax, grammar_error, content_error, size_calculation, average, user)>"
      ]
     },
     "execution_count": 25,
     "metadata": {},
     "output_type": "execute_result"
    }
   ],
   "source": [
    "from __future__ import print_function\n",
    "from ipywidgets import interact, interactive, fixed, interact_manual\n",
    "import ipywidgets as widgets\n",
    "import matplotlib.pyplot as plt, random\n",
    "\n",
    "def series(data, good_deletion, good_trivial_insertion, good_insertion, good_paraphrase, good_syntax, grammar_error, content_error, size_calculation, average, user):\n",
    "    edit_bonuses = {\n",
    "        'good_deletion': good_deletion,\n",
    "        'good_trivial_insertion': good_trivial_insertion,\n",
    "        'good_insertion': good_insertion,\n",
    "        'good_paraphrase': good_paraphrase,\n",
    "        'good_syntax': good_syntax,\n",
    "        'grammar_error': grammar_error,\n",
    "        'content_error': content_error,\n",
    "        'size_calculation': size_calculation\n",
    "    }\n",
    "\n",
    "    selected_data = data\n",
    "    if user != 'all':\n",
    "        selected_data = [sent for sent in selected_data if sent['user'] == user]\n",
    "\n",
    "    selected_data = calculate_sentence_scores(selected_data, edit_bonuses)\n",
    "    simpeval_agreement(selected_data, average)\n",
    "    return()\n",
    "interact(\n",
    "    series, \n",
    "    data=[data], \n",
    "    good_deletion=(-20,20,0.5), \n",
    "    good_trivial_insertion=(-20,20,0.5), \n",
    "    good_insertion=(-20,20,0.5), \n",
    "    good_paraphrase=(-20,20,0.5), \n",
    "    good_syntax=(-20,20,0.5), \n",
    "    grammar_error=(-20,20,0.5), \n",
    "    content_error=(-20,20,0.5),\n",
    "    size_calculation=['linear', 'log', 'square', 'none'],\n",
    "    average=[True, False],\n",
    "    user=['all'] + sorted(list(set([sent['user'] for sent in data])))\n",
    ")"
   ]
  },
  {
   "cell_type": "code",
   "execution_count": 14,
   "metadata": {},
   "outputs": [
    {
     "data": {
      "text/plain": [
       "'vinayak - Batch 2, HIT 25 (ID 74)'"
      ]
     },
     "execution_count": 14,
     "metadata": {},
     "output_type": "execute_result"
    }
   ],
   "source": [
    "# Get a looser \"sentence quality\" annotation information\n",
    "\n",
    "# sorted([(i, len(sent['processed_annotations'])) for i, sent in enumerate(data)], key=lambda x: x[1], reverse=True)\n",
    "ann = data[174]['processed_annotations']\n",
    "get_sent_info(data[174])"
   ]
  },
  {
   "cell_type": "code",
   "execution_count": 15,
   "metadata": {},
   "outputs": [
    {
     "data": {
      "text/plain": [
       "'anton - Batch 1, HIT 41 (ID 40)'"
      ]
     },
     "execution_count": 15,
     "metadata": {},
     "output_type": "execute_result"
    }
   ],
   "source": [
    "# sorted([(i, avg(sent['simpeval_scores'])) for i, sent in enumerate(data)], key=lambda x: x[1], reverse=True)\n",
    "ann = data[40]['processed_annotations']\n",
    "get_sent_info(data[40])"
   ]
  },
  {
   "cell_type": "code",
   "execution_count": 16,
   "metadata": {},
   "outputs": [
    {
     "data": {
      "text/plain": [
       "{'edit_type': 'substitution',\n",
       " 'id': 0,\n",
       " 'information_impact': <Information.SAME: 'Same Information'>,\n",
       " 'type': <Quality.QUALITY: 'No Error'>,\n",
       " 'grammar_error': False,\n",
       " 'error_type': None,\n",
       " 'rating': 2,\n",
       " 'size': 0.011834319526627219,\n",
       " 'score': 0.8743517920722712}"
      ]
     },
     "execution_count": 16,
     "metadata": {},
     "output_type": "execute_result"
    }
   ],
   "source": [
    "ann[1]"
   ]
  }
 ],
 "metadata": {
  "kernelspec": {
   "display_name": "Python 3.9.0 64-bit",
   "language": "python",
   "name": "python3"
  },
  "language_info": {
   "codemirror_mode": {
    "name": "ipython",
    "version": 3
   },
   "file_extension": ".py",
   "mimetype": "text/x-python",
   "name": "python",
   "nbconvert_exporter": "python",
   "pygments_lexer": "ipython3",
   "version": "3.9.0"
  },
  "orig_nbformat": 4,
  "vscode": {
   "interpreter": {
    "hash": "81794d4967e6c3204c66dcd87b604927b115b27c00565d3d43f05ba2f3a2cb0d"
   }
  }
 },
 "nbformat": 4,
 "nbformat_minor": 2
}
