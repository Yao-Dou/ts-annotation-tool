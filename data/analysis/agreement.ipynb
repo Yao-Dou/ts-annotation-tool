{
 "cells": [
  {
   "cell_type": "code",
   "execution_count": 1,
   "metadata": {},
   "outputs": [
    {
     "name": "stdout",
     "output_type": "stream",
     "text": [
      "Loading files: ['../annotated/batch_5_anton.json', '../annotated/batch_5_ayush.json', '../annotated/batch_5_kelly.json', '../annotated/batch_5_rachel.json', '../annotated/batch_5_vinayak.json', '../annotated/batch_5_vishnesh.json', '../annotated/batch_6_anton.json', '../annotated/batch_6_ayush.json', '../annotated/batch_6_kelly.json', '../annotated/batch_6_rachel.json', '../annotated/batch_6_vinayak.json', '../annotated/batch_6_vishnesh.json']\n",
      "\n",
      "Found users: {'kelly', 'anton', 'vishnesh', 'vinayak', 'rachel', 'ayush'}\n",
      "\n",
      "anton - Batch 5, HIT 38 (ID 37) has 2 deletion edits but 1 annotations. Likely a missing annotation. Skipping edit type...\n",
      "vinayak - Batch 6, HIT 16 (ID 45) has 1 insertion edits but -1 annotations. Likely a missing annotation. Skipping edit type...\n",
      "rachel - Batch 5, HIT 21 (ID 65) has 4 deletion edits but 3 annotations. Likely a missing annotation. Skipping edit type...\n",
      "rachel - Batch 5, HIT 21 (ID 65) has 4 insertion edits but 3 annotations. Likely a missing annotation. Skipping edit type...\n",
      "rachel - Batch 5, HIT 23 (ID 67) has 1 reorder edits but -1 annotations. Likely a missing annotation. Skipping edit type...\n",
      "vinayak - Batch 5, HIT 25 (ID 92) has 5 deletion edits but 3 annotations. Likely a missing annotation. Skipping edit type...\n",
      "vinayak - Batch 5, HIT 25 (ID 92) has 2 insertion edits but 1 annotations. Likely a missing annotation. Skipping edit type...\n",
      "vinayak - Batch 5, HIT 17 (ID 100) has 3 deletion edits but 2 annotations. Likely a missing annotation. Skipping edit type...\n",
      "ayush - Batch 6, HIT 3 (ID 136) has 1 structure edits but -1 annotations. Likely a missing annotation. Skipping edit type...\n",
      "When processing sentence: vinayak - Batch 6, HIT 2 (ID 1). Caught error on: Could not process edit: {'type': 'substitution', 'id': 4, 'original_span': [(164, 171)], 'simplified_span': [(166, 175)], 'annotation': None}. Skipping...\n",
      "When processing sentence: vinayak - Batch 6, HIT 2 (ID 1). Caught error on: Could not process edit: {'type': 'substitution', 'id': 5, 'original_span': [(224, 226)], 'simplified_span': [(281, 284)], 'annotation': None}. Skipping...\n",
      "When processing sentence: vinayak - Batch 6, HIT 27 (ID 26). Caught error on: Could not process edit: {'type': 'insertion', 'id': 1, 'original_span': None, 'simplified_span': [(49, 54)], 'annotation': None}. Skipping...\n",
      "When processing sentence: vinayak - Batch 6, HIT 18 (ID 47). Caught error on: Could not process edit: {'type': 'deletion', 'id': 1, 'original_span': [(278, 282)], 'simplified_span': None, 'annotation': None}. Skipping...\n",
      "When processing sentence: vinayak - Batch 6, HIT 18 (ID 47). Caught error on: Could not process edit: {'type': 'insertion', 'id': 4, 'original_span': None, 'simplified_span': [(383, 387)], 'annotation': None}. Skipping...\n",
      "When processing sentence: vinayak - Batch 6, HIT 40 (ID 59). Caught error on: Could not process edit: {'type': 'insertion', 'id': 1, 'original_span': None, 'simplified_span': [(109, 112)], 'annotation': None}. Skipping...\n",
      "When processing sentence: vinayak - Batch 6, HIT 31 (ID 76). Caught error on: Could not process edit: {'type': 'insertion', 'id': 0, 'original_span': None, 'simplified_span': [(75, 78)], 'annotation': None}. Skipping...\n",
      "When processing sentence: vinayak - Batch 5, HIT 10 (ID 98). Caught error on: Could not process edit: {'type': 'deletion', 'id': 1, 'original_span': [(229, 233)], 'simplified_span': None, 'annotation': None}. Skipping...\n",
      "When processing sentence: vinayak - Batch 5, HIT 34 (ID 112). Caught error on: ''. Skipping...\n",
      "When processing sentence: rachel - Batch 6, HIT 34 (ID 131). Caught error on: ''. Skipping...\n"
     ]
    }
   ],
   "source": [
    "from utils.all import *\n",
    "\n",
    "# There's also 'tutorial' and 'preliminary' data\n",
    "data = load_data('../annotated', batch_num=[5,6], preprocess=True) # batch_num=1,"
   ]
  },
  {
   "cell_type": "code",
   "execution_count": 2,
   "metadata": {},
   "outputs": [],
   "source": [
    "# Show the agreement with SimpEval\n",
    "# simpeval_agreement(data)"
   ]
  },
  {
   "cell_type": "code",
   "execution_count": 60,
   "metadata": {},
   "outputs": [],
   "source": [
    "# For all entries, convert it to an array of (for example)\n",
    "# ['deletion', None, None]\n",
    "# ['substitution', 'substitution', 'substitution']\n",
    "\n",
    "# Interweave the arrays, for each entry\n",
    "# [A1, A2]\n",
    "# [A2, A3]\n",
    "# [A3, A1]\n",
    "\n",
    "from sklearn.metrics import confusion_matrix\n",
    "import seaborn as sn\n",
    "import pandas as pd\n",
    "\n",
    "total_agreement = []\n",
    "MAX_HIT = max([x['id'] for x in data])+1\n",
    "for sent_id in range(0, MAX_HIT):\n",
    "    sents = [x for x in data if x['id'] == sent_id]\n",
    "    orig_tokens = get_annotations_per_token(sents, 'original')\n",
    "    simp_tokens = get_annotations_per_token(sents, 'simplified')\n",
    "\n",
    "    arr_edits = []\n",
    "    for edits in list(orig_tokens.values()) + list(simp_tokens.values()):\n",
    "        out = []\n",
    "        for k, v in edits.items():\n",
    "            for amt in range(v):\n",
    "                out += [k]\n",
    "        for i in range(3 - len(out)):\n",
    "            out += [None]\n",
    "        arr_edits += [out]\n",
    "\n",
    "    interwoven = []\n",
    "    for edit in arr_edits:\n",
    "        interwoven += [[edit[0], edit[1]]]\n",
    "        interwoven += [[edit[1], edit[2]]]\n",
    "        interwoven += [[edit[0], edit[2]]]\n",
    "    \n",
    "    interwoven_filtered = []\n",
    "    for edit in interwoven:\n",
    "        # Important point, could be 'or'\n",
    "        if edit[0] is None or edit[1] is None:\n",
    "            continue\n",
    "        # Cannot display agreement\n",
    "        if edit[0] == edit[1]:\n",
    "            continue\n",
    "        interwoven_filtered += [edit]\n",
    "\n",
    "    total_agreement += interwoven_filtered"
   ]
  },
  {
   "cell_type": "code",
   "execution_count": 126,
   "metadata": {},
   "outputs": [
    {
     "data": {
      "image/png": "[encoded data removed]",
      "text/plain": [
       "<Figure size 504x252 with 3 Axes>"
      ]
     },
     "metadata": {
      "needs_background": "light"
     },
     "output_type": "display_data"
    }
   ],
   "source": [
    "fig, (ax1, ax2) = plt.subplots(1, 2, figsize=(7, 3.5)) #sharex=True, sharey=True)\n",
    "\n",
    "vmin, vmax = 0, 700\n",
    "\n",
    "color_bar = sn.color_palette(\"Reds\", 20)\n",
    "\n",
    "a = confusion_matrix([x[0] for x in total_agreement], [x[1] for x in total_agreement], labels=edit_type_labels)\n",
    "df_cm = pd.DataFrame(a, index=[x.capitalize() for x in edit_type_labels], columns=[x.capitalize() for x in edit_type_labels])\n",
    "sn.heatmap(df_cm, cmap=color_bar, ax=ax1, vmin=vmin, vmax=vmax, square=True, cbar=False)\n",
    "\n",
    "# For numbers add:\n",
    "# , annot=True, fmt=\".1f\")\n",
    "\n",
    "a = confusion_matrix([x[0] for x in total_agreement], [x[1] for x in total_agreement], labels=[x for x in edit_type_labels if x not in ['structure', 'split']])\n",
    "df_cm = pd.DataFrame(a, index=[x.capitalize() for x in edit_type_labels if x not in ['structure', 'split']], columns=[x.capitalize() for x in edit_type_labels if x not in ['structure', 'split']])\n",
    "sn.heatmap(df_cm, cmap=color_bar, ax=ax2, vmin=vmin, vmax=vmax, square=True)\n",
    "\n",
    "ax1.set_xticklabels(ax1.get_xticklabels(), rotation=45)\n",
    "ax2.set_xticklabels(ax2.get_xticklabels(), rotation=45)\n",
    "\n",
    "ax1.set_title('Without composite edits')\n",
    "ax2.set_title('With composite edits')\n",
    "\n",
    "fig.tight_layout()\n",
    "\n",
    "out_filename = \"img/agreement-heatmap.svg\"\n",
    "plt.savefig(out_filename, format=\"svg\", bbox_inches='tight', pad_inches=0.0)\n",
    "\n",
    "plt.show()"
   ]
  },
  {
   "cell_type": "code",
   "execution_count": 66,
   "metadata": {},
   "outputs": [],
   "source": [
    "# Confusion matrix of different types of errors.\n",
    "# Entry at row i, column j corresponds to the frequency\n",
    "# of annotations that have Fi as the majority class and for\n",
    "# which disagreeing annotator selected Fj.\n",
    "\n",
    "\n",
    "# Instead calculate agreement using split & strucure's composite edits\n",
    "# Change color scheme\n",
    "# Remove numbers\n",
    "\n",
    "# FRANK paper had the \"majority class\" as 1 axis and the \"minority class\" as \n",
    "# another axis. Redo code to show that instead. Write this in paper"
   ]
  },
  {
   "cell_type": "code",
   "execution_count": null,
   "metadata": {},
   "outputs": [
    {
     "data": {
      "image/png": "[encoded data removed]",
      "text/plain": [
       "<Figure size 540x288 with 1 Axes>"
      ]
     },
     "metadata": {
      "needs_background": "light"
     },
     "output_type": "display_data"
    }
   ],
   "source": [
    "# Calculate the inter-annotator agreement on sentence-level scores\n",
    "final = []\n",
    "MAX_HIT = max([x['id'] for x in data])+1\n",
    "for sent_id in range(0, MAX_HIT):\n",
    "    sents = [x for x in data if x['id'] == sent_id]\n",
    "    scores = [x['score'] for x in sents]\n",
    "    \n",
    "    # Delete this: if not all scores are present, skip this sentence\n",
    "    if len(scores) != 3:\n",
    "        continue\n",
    "    \n",
    "    final.append(scores)\n",
    "\n",
    "# Plot the scores for each sentence\n",
    "ann_mapping = {\n",
    "    0: 'black',\n",
    "    1: 'red',\n",
    "    2: 'blue'\n",
    "}\n",
    "for ann in range(0, 3):\n",
    "    pts = [(i, score) for i, score in enumerate([x[ann] for x in final])]\n",
    "    plt.scatter([p[1] for p in pts], [p[0] for p in pts], c=ann_mapping[ann], alpha=0.5, label=f'Annotator {ann+1}')\n",
    "plt.xlabel('Our score')\n",
    "plt.ylabel('SENT ID')\n",
    "plt.title(f'Agreement between annotators ({len(pts)} sentences)')\n",
    "plt.rcParams[\"figure.figsize\"] = (10, 5)\n",
    "plt.legend()\n",
    "plt.show()"
   ]
  },
  {
   "cell_type": "code",
   "execution_count": null,
   "metadata": {},
   "outputs": [
    {
     "name": "stdout",
     "output_type": "stream",
     "text": [
      "Sent with full agreement 7 / 149\n"
     ]
    }
   ],
   "source": [
    "# Calculates Rough Span Agreement Score\n",
    "# TODO: Does not work for multiple batches\n",
    "total_agreement = []\n",
    "MAX_HIT = max([x['id'] for x in data])+1\n",
    "for sent_id in range(0, MAX_HIT):\n",
    "    sents = [x for x in data if x['id'] == sent_id]\n",
    "    orig_tokens = get_annotations_per_token(sents, 'original')\n",
    "    simp_tokens = get_annotations_per_token(sents, 'simplified')\n",
    "    agg_score = 0\n",
    "    for val in list(orig_tokens.values()) + list(simp_tokens.values()):\n",
    "        agg_score += (list(val.values())[0] - 3)\n",
    "    total_agreement.append(agg_score)\n",
    "print(f\"Sent with full agreement {sum([x == 0 for x in total_agreement])} / {MAX_HIT}\")\n",
    "# hds = sorted([(i, val) for i, val in enumerate(total_agreement)], key=lambda x: x[1])\n",
    "# print(\"\\nHighest disagreement sentences:\")\n",
    "# for x in [get_sent_info(data[x[0]]) for x in hds][:5]:\n",
    "#     print(x)"
   ]
  },
  {
   "cell_type": "code",
   "execution_count": null,
   "metadata": {},
   "outputs": [],
   "source": [
    "# The problem right now is most disagreement is between structure and other changes\n",
    "# However structure is a composite of other changes. So is it really *span* selection?\n",
    "# We count structure twice. Once as a span itself, and once as each of its composite spans\n",
    "# Hopefully agreement goes up? Might not..."
   ]
  },
  {
   "cell_type": "code",
   "execution_count": null,
   "metadata": {},
   "outputs": [],
   "source": [
    "# First need to add a new field to structure edits containing its composite edits. Basically just needs the spans and type\n",
    "# Then, in the function, we modify the edits array to also include the composite edits."
   ]
  },
  {
   "cell_type": "code",
   "execution_count": null,
   "metadata": {},
   "outputs": [
    {
     "data": {
      "text/plain": [
       "{(0, 10): {'substitution': 3, 'reorder': 1},\n",
       " (11, 19): {'substitution': 3, 'reorder': 1},\n",
       " (20, 26): {'reorder': 1},\n",
       " (27, 30): {'reorder': 1},\n",
       " (31, 34): {'reorder': 1},\n",
       " (35, 37): {'reorder': 1},\n",
       " (38, 49): {'reorder': 1},\n",
       " (50, 52): {'reorder': 1},\n",
       " (53, 66): {'reorder': 1},\n",
       " (81, 84): {'structure': 2, 'substitution': 1},\n",
       " (85, 90): {'structure': 2, 'substitution': 2},\n",
       " (91, 93): {'structure': 2, 'substitution': 1},\n",
       " (113, 116): {'structure': 2, 'deletion': 1},\n",
       " (117, 119): {'structure': 2, 'deletion': 1},\n",
       " (120, 123): {'structure': 1, 'reorder': 2},\n",
       " (124, 131): {'structure': 1, 'reorder': 2},\n",
       " (132, 141): {'structure': 1, 'reorder': 2},\n",
       " (142, 145): {'structure': 1, 'reorder': 2},\n",
       " (146, 150): {'structure': 1, 'reorder': 2},\n",
       " (151, 153): {'structure': 1, 'reorder': 2},\n",
       " (154, 158): {'structure': 1, 'reorder': 2},\n",
       " (159, 161): {'structure': 1, 'reorder': 2},\n",
       " (162, 167): {'structure': 1, 'reorder': 2},\n",
       " (168, 172): {'substitution': 1, 'deletion': 1},\n",
       " (173, 176): {'deletion': 1, 'substitution': 1},\n",
       " (177, 181): {'deletion': 1, 'substitution': 1},\n",
       " (182, 187): {'deletion': 3},\n",
       " (188, 191): {'deletion': 3},\n",
       " (192, 195): {'deletion': 3},\n",
       " (196, 199): {'deletion': 1, 'substitution': 1, 'structure': 1},\n",
       " (200, 210): {'deletion': 1, 'substitution': 1, 'structure': 2},\n",
       " (211, 217): {'deletion': 2, 'substitution': 1},\n",
       " (218, 229): {'deletion': 2, 'substitution': 1}}"
      ]
     },
     "metadata": {},
     "output_type": "display_data"
    },
    {
     "data": {
      "text/plain": [
       "{(0, 2): {'insertion': 2, 'substitution': 1},\n",
       " (3, 6): {'insertion': 3},\n",
       " (7, 12): {'substitution': 3, 'reorder': 1},\n",
       " (13, 21): {'substitution': 3, 'reorder': 1},\n",
       " (22, 28): {'reorder': 1},\n",
       " (29, 32): {'reorder': 1},\n",
       " (33, 36): {'reorder': 1},\n",
       " (37, 39): {'reorder': 1},\n",
       " (40, 51): {'reorder': 1},\n",
       " (52, 54): {'reorder': 1},\n",
       " (55, 68): {'reorder': 1},\n",
       " (72, 74): {'structure': 1, 'reorder': 2},\n",
       " (75, 80): {'structure': 1, 'reorder': 2},\n",
       " (81, 84): {'structure': 1, 'reorder': 2},\n",
       " (85, 92): {'structure': 1, 'reorder': 2},\n",
       " (93, 102): {'structure': 1, 'reorder': 2},\n",
       " (103, 106): {'structure': 1, 'reorder': 2},\n",
       " (107, 111): {'structure': 1, 'reorder': 2},\n",
       " (112, 114): {'structure': 1, 'reorder': 2},\n",
       " (115, 119): {'structure': 1, 'reorder': 2},\n",
       " (120, 128): {'structure': 2, 'substitution': 2},\n",
       " (148, 151): {'substitution': 1, 'insertion': 2},\n",
       " (152, 155): {'insertion': 1, 'substitution': 1},\n",
       " (156, 165): {'insertion': 1, 'substitution': 1, 'structure': 2},\n",
       " (166, 168): {'insertion': 2, 'structure': 1},\n",
       " (169, 172): {'insertion': 1, 'structure': 1},\n",
       " (173, 177): {'insertion': 1, 'structure': 1},\n",
       " (178, 182): {'insertion': 2, 'substitution': 1},\n",
       " (183, 188): {'insertion': 2, 'substitution': 1},\n",
       " (189, 194): {'insertion': 2, 'substitution': 1},\n",
       " (195, 197): {'insertion': 3},\n",
       " (198, 202): {'insertion': 3},\n",
       " (203, 206): {'insertion': 3},\n",
       " (207, 212): {'insertion': 3}}"
      ]
     },
     "metadata": {},
     "output_type": "display_data"
    },
    {
     "data": {
      "image/png": "[encoded data removed]",
      "text/plain": [
       "<Figure size 720x360 with 2 Axes>"
      ]
     },
     "metadata": {
      "needs_background": "light"
     },
     "output_type": "display_data"
    }
   ],
   "source": [
    "HID_ID = 12\n",
    "sents = [x for x in data if x['id'] == HID_ID]\n",
    "orig_tokens = get_annotations_per_token(sents, 'original')\n",
    "simp_tokens = get_annotations_per_token(sents, 'simplified')\n",
    "\n",
    "display(orig_tokens)\n",
    "display(simp_tokens)\n",
    "draw_agreement(sents, paper=True)"
   ]
  },
  {
   "cell_type": "code",
   "execution_count": null,
   "metadata": {},
   "outputs": [
    {
     "name": "stdout",
     "output_type": "stream",
     "text": [
      "insertion: 14 28 56\n",
      "deletion: 45 20 34\n",
      "substitution: 31 29 39\n",
      "split: 35 22 41\n",
      "reorder: 15 22 62\n",
      "structure: 5 25 68\n"
     ]
    }
   ],
   "source": [
    "# Calculates % Agreement\n",
    "total_agreement = []\n",
    "MAX_HIT = max([x['id'] for x in data])+1\n",
    "for sent_id in range(0, MAX_HIT):\n",
    "    sents = [x for x in data if x['id'] == sent_id]\n",
    "    orig_tokens = get_annotations_per_token(sents, 'original')\n",
    "    simp_tokens = get_annotations_per_token(sents, 'simplified')\n",
    "    total_agreement += list(orig_tokens.values()) + list(simp_tokens.values())\n",
    "\n",
    "for edit_type in edit_type_labels:\n",
    "    out = {\n",
    "        3: 0,\n",
    "        2: 0,\n",
    "        1: 0\n",
    "    }\n",
    "    for d in total_agreement:\n",
    "        if edit_type in d.keys():\n",
    "            if d[edit_type] not in out.keys():\n",
    "                out[d[edit_type]] = 0\n",
    "            out[d[edit_type]] += 1\n",
    "    total = sum(out.values())\n",
    "    # Avoid division by 0, doesn't change calculation at all\n",
    "    total = 1 if total == 0 else total\n",
    "    print(f'{edit_type}: {int(100*out[3]/total)} {int(100*out[2]/total)} {int(100*out[1]/total)}')"
   ]
  },
  {
   "cell_type": "code",
   "execution_count": null,
   "metadata": {},
   "outputs": [
    {
     "name": "stdout",
     "output_type": "stream",
     "text": [
      "insertion (11022 tokens)\n",
      "0.4527461097759069\n",
      "0.4462389590843192\n",
      "0.47126244553188734\n",
      "0.4558166353484535\n",
      "\n",
      "deletion (11022 tokens)\n",
      "0.7297268388797764\n",
      "0.7314174734569764\n",
      "0.7366579863349233\n",
      "0.7325006580246097\n",
      "\n",
      "substitution (11022 tokens)\n",
      "0.6163988349550245\n",
      "0.6278904438566214\n",
      "0.596050243217787\n",
      "0.6131066306587507\n",
      "\n",
      "split (11022 tokens)\n",
      "0.7040407310221989\n",
      "0.695191214139787\n",
      "0.6804401280703101\n",
      "0.6933227454527482\n",
      "\n",
      "reorder (11022 tokens)\n",
      "0.39064009722427995\n",
      "0.4872664357173495\n",
      "0.40013818620835717\n",
      "0.4274911260778274\n",
      "\n",
      "structure (11022 tokens)\n",
      "0.23578379367015068\n",
      "0.3269079943191575\n",
      "0.25344440996828244\n",
      "0.2737468895565557\n",
      "\n"
     ]
    }
   ],
   "source": [
    "from sklearn.metrics import cohen_kappa_score\n",
    "import krippendorff\n",
    "from statsmodels.stats.inter_rater import fleiss_kappa\n",
    "from statsmodels.stats import inter_rater as irr\n",
    "\n",
    "for edit in edit_type_labels:\n",
    "    total_agreement = None\n",
    "    MAX_HIT = max([x['id'] for x in data])+1\n",
    "    for sent_id in range(0, MAX_HIT):\n",
    "        sents = [x for x in data if x['id'] == sent_id]\n",
    "        final = []\n",
    "        for sent in sents:\n",
    "            tokens_orig = get_annotations_per_token([sent], 'original', remove_none=False)\n",
    "            tokens_simp = get_annotations_per_token([sent], 'simplified', remove_none=False)\n",
    "            all_edits = list(tokens_orig.values()) + list(tokens_simp.values())\n",
    "            formatted = []\n",
    "            for edits in all_edits:\n",
    "                if edit in edits.keys():\n",
    "                    formatted += [1]\n",
    "                else:\n",
    "                    formatted += [0]\n",
    "                # formatted += [nx]\n",
    "            final += [formatted]\n",
    "        \n",
    "        if len(sents) == 3:\n",
    "            if total_agreement is None:\n",
    "                total_agreement = np.asarray(final)\n",
    "            else:\n",
    "                total_agreement = np.append(total_agreement, np.asarray(final), axis=1)\n",
    "    \n",
    "    # Delete columns with all 0s\n",
    "    # idx = np.argwhere(np.all(total_agreement[..., :] == 0, axis=0))\n",
    "    # total_agreement = np.delete(total_agreement, idx, axis=1)\n",
    "\n",
    "    \n",
    "    value_counts = total_agreement\n",
    "    print(f\"{edit} ({total_agreement.shape[1]} tokens)\")\n",
    "    # Having trouble formatting the krippendorff alpha\n",
    "    # print(krippendorff.alpha(value_counts=value_counts, level_of_measurement='nominal'))\n",
    "    print(cohen_kappa_score(total_agreement[0, :], total_agreement[1, :]))\n",
    "    print(cohen_kappa_score(total_agreement[1, :], total_agreement[2, :]))\n",
    "    print(cohen_kappa_score(total_agreement[0, :], total_agreement[2, :]))\n",
    "    agg = irr.aggregate_raters(total_agreement.T)\n",
    "    print(irr.fleiss_kappa(agg[0], method='fleiss'), end='\\n\\n')"
   ]
  },
  {
   "cell_type": "code",
   "execution_count": null,
   "metadata": {},
   "outputs": [
    {
     "name": "stdout",
     "output_type": "stream",
     "text": [
      "No Coreference errors\n",
      "\n",
      "Repetition\n",
      "0.38695081010071225\n",
      "0.25\n",
      "0.08053691275167785\n",
      "\n",
      "Contradiction\n",
      "-0.009615384615401817\n",
      "0.0\n",
      "0.026845637583892617\n",
      "\n",
      "No Hallucination errors\n",
      "\n",
      "Irrelevant\n",
      "0.15532178217821505\n",
      "0.23076923076923078\n",
      "0.087248322147651\n",
      "\n",
      "Information Rewrite\n",
      "0.04065783462768518\n",
      "0.1\n",
      "0.1342281879194631\n",
      "\n",
      "Bad Deletion\n",
      "0.5052884615384614\n",
      "0.6794871794871795\n",
      "0.5234899328859061\n",
      "\n",
      "Bad Reorder\n",
      "0.14936708860759657\n",
      "0.14285714285714285\n",
      "0.14093959731543623\n",
      "\n",
      "Bad Structure\n",
      "-0.020759493670885705\n",
      "0.041666666666666664\n",
      "0.1610738255033557\n",
      "\n",
      "Bad Split\n",
      "0.323671497584533\n",
      "0.5\n",
      "0.026845637583892617\n",
      "\n",
      "Unnecessary Insertion\n",
      "0.07804878048780753\n",
      "0.1111111111111111\n",
      "0.06040268456375839\n",
      "\n",
      "Complex Wording\n",
      "-0.016414141414142304\n",
      "0.043478260869565216\n",
      "0.15436241610738255\n",
      "\n",
      "grammar_error\n",
      "0.043367346938775565\n",
      "0.12\n",
      "0.16778523489932887\n",
      "\n"
     ]
    }
   ],
   "source": [
    "# Calculates agreement for errors\n",
    "error = Error.BAD_DELETION\n",
    "\n",
    "def get_error_stats(error):\n",
    "    total_agreement = None\n",
    "    MAX_HIT = max([x['id'] for x in data])+1\n",
    "    for sent_id in range(0, MAX_HIT):\n",
    "        sents = [x for x in data if x['id'] == sent_id]\n",
    "\n",
    "        sents_errors = []\n",
    "        for sent in sents:\n",
    "            errors = []\n",
    "            for ann in sent['processed_annotations']:\n",
    "                if (error.value == 'grammar_error' and ann['grammar_error']) or ann['error_type'] == error:\n",
    "                    errors += [1]\n",
    "                else:\n",
    "                    errors += [0]\n",
    "            sents_errors += [1 if any(errors) == True else 0]\n",
    "\n",
    "        # Converts error array to 0/1 mapping using alphabetical ordering\n",
    "        if len(sents_errors) == 3:\n",
    "            if total_agreement is None:\n",
    "                total_agreement = np.asarray([sents_errors])\n",
    "            else:\n",
    "                total_agreement = np.append(total_agreement, np.asarray([sents_errors]), axis=0)\n",
    "\n",
    "    if total_agreement.sum() == 0:\n",
    "        print(f'No {error.value} errors', end='\\n\\n')\n",
    "        return\n",
    "\n",
    "    print(error.value)\n",
    "    agg = irr.aggregate_raters(total_agreement)\n",
    "    print(irr.fleiss_kappa(agg[0], method='fleiss'))\n",
    "\n",
    "    # Delete columns with all 0s\n",
    "    total_agreement = total_agreement.T\n",
    "    idx = np.argwhere(np.all(total_agreement[..., :] == 0, axis=0))\n",
    "    total_agreement = np.delete(total_agreement, idx, axis=1)\n",
    "    total_agreement = total_agreement.T\n",
    "\n",
    "    # % two agree\n",
    "    two_agree = []\n",
    "    for entry in total_agreement:\n",
    "        two_agree.append(np.sum(entry) >= 2)\n",
    "    print(sum(two_agree) / total_agreement.shape[0])\n",
    "\n",
    "    # % frequency\n",
    "    print(len(total_agreement) / MAX_HIT, end='\\n\\n')\n",
    "\n",
    "class Tmp(Enum):\n",
    "    GRAMMAR_ERROR = 'grammar_error'\n",
    "\n",
    "for error in [e for e in Error] + [Tmp.GRAMMAR_ERROR]:\n",
    "    get_error_stats(error)"
   ]
  },
  {
   "cell_type": "code",
   "execution_count": null,
   "metadata": {},
   "outputs": [
    {
     "ename": "NameError",
     "evalue": "name 'stats' is not defined",
     "output_type": "error",
     "traceback": [
      "\u001b[1;31m---------------------------------------------------------------------------\u001b[0m",
      "\u001b[1;31mNameError\u001b[0m                                 Traceback (most recent call last)",
      "\u001b[1;32m<ipython-input-12-e339892d446d>\u001b[0m in \u001b[0;36m<module>\u001b[1;34m\u001b[0m\n\u001b[0;32m     13\u001b[0m \u001b[1;32mimport\u001b[0m \u001b[0mscipy\u001b[0m\u001b[1;33m.\u001b[0m\u001b[0mstats\u001b[0m \u001b[1;32mas\u001b[0m \u001b[0mkendalltau\u001b[0m\u001b[1;33m\u001b[0m\u001b[1;33m\u001b[0m\u001b[0m\n\u001b[0;32m     14\u001b[0m \u001b[1;32mimport\u001b[0m \u001b[0mscipy\u001b[0m\u001b[1;33m.\u001b[0m\u001b[0mstats\u001b[0m \u001b[1;32mas\u001b[0m \u001b[0mpearsonr\u001b[0m\u001b[1;33m\u001b[0m\u001b[1;33m\u001b[0m\u001b[0m\n\u001b[1;32m---> 15\u001b[1;33m \u001b[0mtau\u001b[0m\u001b[1;33m,\u001b[0m \u001b[0mp_value\u001b[0m \u001b[1;33m=\u001b[0m \u001b[0mstats\u001b[0m\u001b[1;33m.\u001b[0m\u001b[0mkendalltau\u001b[0m\u001b[1;33m(\u001b[0m\u001b[0mtotal_agreement\u001b[0m\u001b[1;33m[\u001b[0m\u001b[1;33m:\u001b[0m\u001b[1;33m,\u001b[0m \u001b[1;36m1\u001b[0m\u001b[1;33m]\u001b[0m\u001b[1;33m,\u001b[0m \u001b[0mtotal_agreement\u001b[0m\u001b[1;33m[\u001b[0m\u001b[1;33m:\u001b[0m\u001b[1;33m,\u001b[0m \u001b[1;36m2\u001b[0m\u001b[1;33m]\u001b[0m\u001b[1;33m)\u001b[0m\u001b[1;33m\u001b[0m\u001b[1;33m\u001b[0m\u001b[0m\n\u001b[0m\u001b[0;32m     16\u001b[0m \u001b[0mr\u001b[0m\u001b[1;33m,\u001b[0m \u001b[0mp_value\u001b[0m \u001b[1;33m=\u001b[0m \u001b[0mstats\u001b[0m\u001b[1;33m.\u001b[0m\u001b[0mpearsonr\u001b[0m\u001b[1;33m(\u001b[0m\u001b[0mtotal_agreement\u001b[0m\u001b[1;33m[\u001b[0m\u001b[1;33m:\u001b[0m\u001b[1;33m,\u001b[0m \u001b[1;36m1\u001b[0m\u001b[1;33m]\u001b[0m\u001b[1;33m,\u001b[0m \u001b[0mtotal_agreement\u001b[0m\u001b[1;33m[\u001b[0m\u001b[1;33m:\u001b[0m\u001b[1;33m,\u001b[0m \u001b[1;36m2\u001b[0m\u001b[1;33m]\u001b[0m\u001b[1;33m)\u001b[0m\u001b[1;33m\u001b[0m\u001b[1;33m\u001b[0m\u001b[0m\n\u001b[0;32m     17\u001b[0m \u001b[0mprint\u001b[0m\u001b[1;33m(\u001b[0m\u001b[0mtau\u001b[0m\u001b[1;33m)\u001b[0m\u001b[1;33m\u001b[0m\u001b[1;33m\u001b[0m\u001b[0m\n",
      "\u001b[1;31mNameError\u001b[0m: name 'stats' is not defined"
     ]
    }
   ],
   "source": [
    "# Calculates sentence-score agreement\n",
    "total_agreement = None\n",
    "MAX_HIT = max([x['id'] for x in data])+1\n",
    "for sent_id in range(0, MAX_HIT):\n",
    "    sents = [x for x in data if x['id'] == sent_id]\n",
    "    scores = [sent['score'] for sent in sents]\n",
    "    if len(scores) == 3:\n",
    "        if total_agreement is None:\n",
    "            total_agreement = np.asarray([scores])\n",
    "        else:\n",
    "            total_agreement = np.append(total_agreement, np.asarray([scores]), axis=0)\n",
    "\n",
    "import scipy.stats as kendalltau\n",
    "import scipy.stats as pearsonr\n",
    "tau, p_value = stats.kendalltau(total_agreement[:, 1], total_agreement[:, 2])\n",
    "r, p_value = stats.pearsonr(total_agreement[:, 1], total_agreement[:, 2])\n",
    "print(tau)\n",
    "print(r)"
   ]
  },
  {
   "cell_type": "code",
   "execution_count": null,
   "metadata": {},
   "outputs": [],
   "source": [
    "# Some examples of high disagreement\n",
    "# This isn't the correct way to calculate disagreement between the scores\n",
    "# high_disagreement = [y[1] for y in sorted([(abs(x[0] - x[1]), i) for i, x in enumerate(scores) if x[0] != 0], reverse=True)][:5]\n",
    "# for idx in high_disagreement:\n",
    "#     example = data[idx]\n",
    "#     print(f'HIT {example[\"id\"] + 1}\\nAnnotator: {example[\"user\"]}\\nSimpEval Score: {example[\"simpeval_scores\"]}\\nOur Score: {example[\"score\"]}\\nSystem: {system_name_mapping[example[\"system\"]]}\\n')"
   ]
  },
  {
   "cell_type": "code",
   "execution_count": null,
   "metadata": {},
   "outputs": [],
   "source": [
    "# Krippendorff's alpha = calculated by a token being labeled between\n",
    "# annotators"
   ]
  },
  {
   "cell_type": "code",
   "execution_count": 4,
   "metadata": {},
   "outputs": [
    {
     "data": {
      "image/png": "[encoded data removed]",
      "text/plain": [
       "<Figure size 432x288 with 2 Axes>"
      ]
     },
     "metadata": {
      "needs_background": "light"
     },
     "output_type": "display_data"
    },
    {
     "data": {
      "image/png": "[encoded data removed]",
      "text/plain": [
       "<Figure size 432x288 with 2 Axes>"
      ]
     },
     "metadata": {
      "needs_background": "light"
     },
     "output_type": "display_data"
    }
   ],
   "source": [
    "# Display the agreeement on all sentences\n",
    "# MAX_HIT = max([x['id'] for x in data])+1\n",
    "MAX_HIT = 2\n",
    "for sent_id in range(0, MAX_HIT):\n",
    "    sents = [x for x in data if x['id'] == sent_id]\n",
    "    draw_agreement(sents)"
   ]
  },
  {
   "cell_type": "code",
   "execution_count": 15,
   "metadata": {},
   "outputs": [],
   "source": [
    "selected = [sent for sent in data \n",
    "    if 'Orion' in sent['original']\n",
    "]\n",
    "for sent_id in set([x['id'] for x in selected]):\n",
    "    sents = [x for x in selected if x['id'] == sent_id]\n",
    "    draw_agreement(sents)"
   ]
  },
  {
   "cell_type": "code",
   "execution_count": 16,
   "metadata": {},
   "outputs": [],
   "source": [
    "for sent in set([x['simplified'] for x in selected]):\n",
    "    print(sent, end='\\n\\n')"
   ]
  }
 ],
 "metadata": {
  "kernelspec": {
   "display_name": "Python 3.9.0 64-bit",
   "language": "python",
   "name": "python3"
  },
  "language_info": {
   "codemirror_mode": {
    "name": "ipython",
    "version": 3
   },
   "file_extension": ".py",
   "mimetype": "text/x-python",
   "name": "python",
   "nbconvert_exporter": "python",
   "pygments_lexer": "ipython3",
   "version": "3.9.0"
  },
  "orig_nbformat": 4,
  "vscode": {
   "interpreter": {
    "hash": "81794d4967e6c3204c66dcd87b604927b115b27c00565d3d43f05ba2f3a2cb0d"
   }
  }
 },
 "nbformat": 4,
 "nbformat_minor": 2
}
