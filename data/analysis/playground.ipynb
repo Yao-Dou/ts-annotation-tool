{
 "cells": [
  {
   "cell_type": "code",
   "execution_count": 1,
   "metadata": {},
   "outputs": [
    {
     "name": "stdout",
     "output_type": "stream",
     "text": [
      "Loading files: ['../annotated/batch_1_anton.json', '../annotated/batch_1_ayush.json', '../annotated/batch_1_kelly.json', '../annotated/batch_2_vinayak.json', '../annotated/batch_2_vishnesh.json', '../annotated/batch_3_anton.json', '../annotated/batch_3_ayush.json', '../annotated/batch_3_kelly.json', '../annotated/batch_4_rachel.json', '../annotated/batch_4_vinayak.json', '../annotated/batch_4_vishnesh.json', '../annotated/batch_5_anton.json', '../annotated/batch_5_ayush.json']\n",
      "\n",
      "Found users: {'rachel', 'vinayak', 'kelly', 'ayush', 'vishnesh', 'anton'}\n",
      "\n",
      "anton - Batch 5, HIT 38 (ID 177) has 2 deletion edits but 1 annotations. Likely a missing annotation. Skipping edit type...\n",
      "Couldn't process grammar for substitution: ['positive', '', '', '']. Assuming 'no'...\n",
      "Couldn't process positive rating for substitution: ['positive', '', '', '']. Assuming 'somewhat'...\n",
      "Couldn't process grammar for deletion: ['good', 'no', '']. Assuming 'no'...\n",
      "Couldn't process grammar for substitution: ['positive', 'minor', '', '']. Assuming 'no'...\n",
      "Couldn't process grammar for deletion: ['perfect', 'yes', '']. Assuming 'no'...\n",
      "Couldn't process grammar for deletion: ['perfect', 'no', '']. Assuming 'no'...\n",
      "Couldn't process grammar for deletion: ['good', 'no', '']. Assuming 'no'...\n",
      "Couldn't process grammar for deletion: ['good', 'no', '']. Assuming 'no'...\n",
      "Couldn't process grammar for deletion: ['good', 'no', '']. Assuming 'no'...\n",
      "Couldn't process grammar for deletion: ['perfect', 'no', '']. Assuming 'no'...\n",
      "Couldn't process grammar for deletion: ['good', 'no', '']. Assuming 'no'...\n",
      "Couldn't process grammar for substitution: ['positive', 'a lot', '', '']. Assuming 'no'...\n",
      "Couldn't process grammar for substitution: ['positive', 'somewhat', '', '']. Assuming 'no'...\n",
      "Couldn't process grammar for deletion: ['good', 'no', '']. Assuming 'no'...\n",
      "Couldn't process grammar for deletion: ['perfect', 'no', '']. Assuming 'no'...\n",
      "Couldn't process grammar for substitution: ['positive', 'somewhat', '', '']. Assuming 'no'...\n",
      "Couldn't process grammar for deletion: ['perfect', 'no', '']. Assuming 'no'...\n",
      "Couldn't process grammar for deletion: ['good', 'no', '']. Assuming 'no'...\n",
      "Couldn't process grammar for deletion: ['good', 'no', '']. Assuming 'no'...\n",
      "Couldn't process grammar for deletion: ['good', 'no', '']. Assuming 'no'...\n",
      "Couldn't process grammar for deletion: ['good', 'no', '']. Assuming 'no'...\n",
      "Couldn't process grammar for deletion: ['good', 'no', '']. Assuming 'no'...\n",
      "Couldn't process grammar for deletion: ['good', 'no', '']. Assuming 'no'...\n",
      "Couldn't process grammar for deletion: ['good', 'yes', '']. Assuming 'no'...\n",
      "Couldn't process grammar for deletion: ['good', 'no', '']. Assuming 'no'...\n",
      "Couldn't process grammar for deletion: ['good', 'no', '']. Assuming 'no'...\n",
      "Couldn't process grammar for deletion: ['good', 'no', '']. Assuming 'no'...\n",
      "Couldn't process grammar for deletion: ['good', 'no', '']. Assuming 'no'...\n",
      "Couldn't process grammar for deletion: ['good', 'no', '']. Assuming 'no'...\n",
      "Couldn't process grammar for deletion: ['perfect', 'no', '']. Assuming 'no'...\n",
      "Couldn't process grammar for deletion: ['good', 'no', '']. Assuming 'no'...\n",
      "Couldn't process grammar for deletion: ['good', 'no', '']. Assuming 'no'...\n",
      "Couldn't process grammar for deletion: ['good', 'no', '']. Assuming 'no'...\n",
      "Couldn't process grammar for deletion: ['good', 'no', '']. Assuming 'no'...\n",
      "Couldn't process grammar for deletion: ['good', 'no', '']. Assuming 'no'...\n",
      "Couldn't process grammar for substitution: ['positive', 'a lot', '', '']. Assuming 'no'...\n",
      "Couldn't process coreference error for deletion: ['perfect', '', 'no']. Assuming 'no'...\n",
      "Couldn't process coreference error for deletion: ['very bad', '', 'no']. Assuming 'no'...\n",
      "Couldn't process grammar for deletion: ['perfect', 'no', '']. Assuming 'no'...\n",
      "When processing sentence: rachel - Batch 4, HIT 5 (ID 124). Caught error on: Could not process edit: {'type': 'deletion', 'id': 5, 'original_span': [(95, 98)], 'simplified_span': None, 'annotation': None}. Skipping...\n",
      "Couldn't process grammar for substitution: ['positive', 'minor', '', '']. Assuming 'no'...\n",
      "Couldn't process grammar for deletion: ['good', 'no', '']. Assuming 'no'...\n",
      "Couldn't process grammar for deletion: ['good', 'no', '']. Assuming 'no'...\n",
      "Couldn't process coreference error for deletion: ['perfect', '', 'no']. Assuming 'no'...\n",
      "Couldn't process grammar for deletion: ['perfect', 'no', '']. Assuming 'no'...\n",
      "Couldn't process grammar for deletion: ['good', 'no', '']. Assuming 'no'...\n",
      "Couldn't process grammar for deletion: ['good', 'no', '']. Assuming 'no'...\n",
      "Couldn't process grammar for deletion: ['good', 'no', '']. Assuming 'no'...\n",
      "Couldn't process grammar for deletion: ['good', 'no', '']. Assuming 'no'...\n",
      "Couldn't process grammar for deletion: ['good', 'no', '']. Assuming 'no'...\n",
      "Couldn't process grammar for deletion: ['perfect', 'no', '']. Assuming 'no'...\n",
      "Couldn't process grammar for deletion: ['good', 'no', '']. Assuming 'no'...\n",
      "Couldn't process grammar for deletion: ['good', 'no', '']. Assuming 'no'...\n",
      "Couldn't process grammar for deletion: ['perfect', 'no', '']. Assuming 'no'...\n",
      "Couldn't process grammar for deletion: ['perfect', 'no', '']. Assuming 'no'...\n",
      "Couldn't process grammar for deletion: ['perfect', 'no', '']. Assuming 'no'...\n",
      "Couldn't process grammar for deletion: ['perfect', 'no', '']. Assuming 'no'...\n",
      "Couldn't process grammar for deletion: ['good', 'no', '']. Assuming 'no'...\n",
      "Couldn't process grammar for deletion: ['good', 'no', '']. Assuming 'no'...\n",
      "Couldn't process grammar for deletion: ['perfect', 'no', '']. Assuming 'no'...\n",
      "Couldn't process grammar for deletion: ['good', 'no', '']. Assuming 'no'...\n",
      "Couldn't process grammar for deletion: ['perfect', 'no', '']. Assuming 'no'...\n",
      "Couldn't process grammar for deletion: ['perfect', 'no', '']. Assuming 'no'...\n",
      "Couldn't process grammar for deletion: ['good', 'no', '']. Assuming 'no'...\n",
      "Couldn't process grammar for deletion: ['perfect', 'no', '']. Assuming 'no'...\n"
     ]
    }
   ],
   "source": [
    "# Development playground for util functions\n",
    "from types import *\n",
    "from dataloader import *\n",
    "from util import *\n",
    "from graphs import *\n",
    "from agreement import *\n",
    "from scoring import *\n",
    "\n",
    "data = load_data('../annotated', preprocess=True)"
   ]
  },
  {
   "cell_type": "code",
   "execution_count": 2,
   "metadata": {},
   "outputs": [],
   "source": [
    "# For each family of edits\n",
    "    # For each model type\n",
    "        # For quality / error types\n",
    "            # Graph a sum bar of number of edits"
   ]
  },
  {
   "cell_type": "code",
   "execution_count": null,
   "metadata": {},
   "outputs": [],
   "source": [
    "[sent for sent in dat a]"
   ]
  },
  {
   "cell_type": "code",
   "execution_count": 5,
   "metadata": {},
   "outputs": [
    {
     "data": {
      "text/plain": [
       "[{'edit_type': 'deletion',\n",
       "  'id': 0,\n",
       "  'information_impact': <Information.LESS: 'Less Information'>,\n",
       "  'type': <Quality.QUALITY: 'No Error'>,\n",
       "  'family': <Family.CONTENT: 'Content'>,\n",
       "  'grammar_error': True,\n",
       "  'error_type': None,\n",
       "  'rating': 2,\n",
       "  'size': 0.09278350515463918,\n",
       "  'score': -2.9932336588376685}]"
      ]
     },
     "execution_count": 5,
     "metadata": {},
     "output_type": "execute_result"
    }
   ],
   "source": [
    "data[0]['processed_annotations']"
   ]
  },
  {
   "cell_type": "code",
   "execution_count": 4,
   "metadata": {},
   "outputs": [
    {
     "data": {
      "text/plain": [
       "[{'type': 'deletion',\n",
       "  'id': 0,\n",
       "  'original_span': [(11, 20)],\n",
       "  'simplified_span': None,\n",
       "  'annotation': ['good', 'yes', 'no']}]"
      ]
     },
     "execution_count": 4,
     "metadata": {},
     "output_type": "execute_result"
    }
   ],
   "source": [
    "data[0]['edits']"
   ]
  }
 ],
 "metadata": {
  "kernelspec": {
   "display_name": "Python 3.9.0 64-bit",
   "language": "python",
   "name": "python3"
  },
  "language_info": {
   "codemirror_mode": {
    "name": "ipython",
    "version": 3
   },
   "file_extension": ".py",
   "mimetype": "text/x-python",
   "name": "python",
   "nbconvert_exporter": "python",
   "pygments_lexer": "ipython3",
   "version": "3.9.0"
  },
  "orig_nbformat": 4,
  "vscode": {
   "interpreter": {
    "hash": "81794d4967e6c3204c66dcd87b604927b115b27c00565d3d43f05ba2f3a2cb0d"
   }
  }
 },
 "nbformat": 4,
 "nbformat_minor": 2
}
