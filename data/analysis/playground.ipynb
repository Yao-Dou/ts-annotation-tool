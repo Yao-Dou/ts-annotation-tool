{
 "cells": [
  {
   "cell_type": "code",
   "execution_count": 9,
   "metadata": {},
   "outputs": [
    {
     "name": "stdout",
     "output_type": "stream",
     "text": [
      "Loading files: ['../annotated/batch_1_anton.json', '../annotated/batch_1_ayush.json', '../annotated/batch_1_kelly.json', '../annotated/batch_2_vinayak.json', '../annotated/batch_2_vishnesh.json', '../annotated/batch_3_anton.json', '../annotated/batch_3_ayush.json', '../annotated/batch_3_kelly.json', '../annotated/batch_4_rachel.json', '../annotated/batch_4_vinayak.json', '../annotated/batch_4_vishnesh.json']\n",
      "\n",
      "Found users: {'anton', 'vinayak', 'kelly', 'vishnesh', 'rachel', 'ayush'}\n",
      "\n",
      "Couldn't process grammar for annotation: ['positive', '', '', '']\n",
      "Couldn't process grammar for annotation: ['positive', 'minor', '', '']\n",
      "Couldn't process grammar for annotation: ['positive', 'a lot', '', '']\n",
      "Couldn't process grammar for annotation: ['positive', 'somewhat', '', '']\n",
      "Couldn't process grammar for annotation: ['positive', 'somewhat', '', '']\n",
      "Couldn't process grammar for annotation: ['positive', 'a lot', '', '']\n",
      "Couldn't process grammar for annotation: ['positive', 'minor', '', '']\n"
     ]
    }
   ],
   "source": [
    "# Development playground for util functions\n",
    "from types import *\n",
    "from dataloader import *\n",
    "from util import *\n",
    "from graphs import *\n",
    "from agreement import *\n",
    "from scoring import *\n",
    "\n",
    "data = load_data('../annotated', preprocess=True)"
   ]
  }
 ],
 "metadata": {
  "kernelspec": {
   "display_name": "Python 3.9.0 64-bit",
   "language": "python",
   "name": "python3"
  },
  "language_info": {
   "codemirror_mode": {
    "name": "ipython",
    "version": 3
   },
   "file_extension": ".py",
   "mimetype": "text/x-python",
   "name": "python",
   "nbconvert_exporter": "python",
   "pygments_lexer": "ipython3",
   "version": "3.9.0"
  },
  "orig_nbformat": 4,
  "vscode": {
   "interpreter": {
    "hash": "81794d4967e6c3204c66dcd87b604927b115b27c00565d3d43f05ba2f3a2cb0d"
   }
  }
 },
 "nbformat": 4,
 "nbformat_minor": 2
}
