{
 "cells": [
  {
   "cell_type": "code",
   "execution_count": 1,
   "metadata": {},
   "outputs": [],
   "source": [
    "from sys import path\n",
    "from os.path import dirname as dir\n",
    "\n",
    "path.append(\"/Users/yaod_1/Desktop/webpage/text-simplification/ts-annoation-tool/data/analysis\")\n",
    "\n",
    "from utils.all import *\n",
    "import numpy as np"
   ]
  },
  {
   "cell_type": "markdown",
   "metadata": {},
   "source": [
    "### 1. Load data"
   ]
  },
  {
   "cell_type": "code",
   "execution_count": 2,
   "metadata": {},
   "outputs": [
    {
     "name": "stdout",
     "output_type": "stream",
     "text": [
      "Loading files: ['../annotated/batch_5_anton.json', '../annotated/batch_5_ayush.json', '../annotated/batch_5_kelly.json', '../annotated/batch_5_rachel.json', '../annotated/batch_5_vinayak.json', '../annotated/batch_5_vishnesh.json']\n",
      "\n",
      "Found users: {'anton', 'ayush', 'vinayak', 'kelly', 'rachel', 'vishnesh'}\n",
      "\n",
      "anton - Batch 5, HIT 38 (ID 37) has 2 deletion edits but 1 annotations. Likely a missing annotation. Skipping edit type...\n",
      "rachel - Batch 5, HIT 21 (ID 65) has 4 deletion edits but 3 annotations. Likely a missing annotation. Skipping edit type...\n",
      "rachel - Batch 5, HIT 21 (ID 65) has 4 insertion edits but 3 annotations. Likely a missing annotation. Skipping edit type...\n",
      "rachel - Batch 5, HIT 23 (ID 67) has 1 reorder edits but -1 annotations. Likely a missing annotation. Skipping edit type...\n",
      "vinayak - Batch 5, HIT 25 (ID 92) has 5 deletion edits but 3 annotations. Likely a missing annotation. Skipping edit type...\n",
      "vinayak - Batch 5, HIT 25 (ID 92) has 2 insertion edits but 1 annotations. Likely a missing annotation. Skipping edit type...\n",
      "vinayak - Batch 5, HIT 17 (ID 100) has 3 deletion edits but 2 annotations. Likely a missing annotation. Skipping edit type...\n",
      "When processing sentence: vinayak - Batch 5, HIT 10 (ID 98). Caught error on: Could not process edit: {'type': 'deletion', 'id': 1, 'original_span': [(229, 233)], 'simplified_span': None, 'annotation': None}. Skipping...\n",
      "When processing sentence: vinayak - Batch 5, HIT 34 (ID 112). Caught error on: ''. Skipping...\n",
      "found\n",
      "found\n",
      "found\n",
      "found\n",
      "found\n",
      "found\n",
      "found\n",
      "found\n",
      "found\n",
      "found\n",
      "Loading files: ['../annotated/batch_6_anton.json', '../annotated/batch_6_ayush.json', '../annotated/batch_6_kelly.json', '../annotated/batch_6_rachel.json', '../annotated/batch_6_vinayak.json', '../annotated/batch_6_vishnesh.json']\n",
      "\n",
      "Found users: {'anton', 'ayush', 'vinayak', 'kelly', 'rachel', 'vishnesh'}\n",
      "\n",
      "ayush - Batch 6, HIT 3 (ID 37) has 1 structure edits but -1 annotations. Likely a missing annotation. Skipping edit type...\n",
      "vinayak - Batch 6, HIT 16 (ID 85) has 1 insertion edits but -1 annotations. Likely a missing annotation. Skipping edit type...\n",
      "When processing sentence: rachel - Batch 6, HIT 34 (ID 32). Caught error on: ''. Skipping...\n",
      "When processing sentence: vinayak - Batch 6, HIT 2 (ID 71). Caught error on: Could not process edit: {'type': 'substitution', 'id': 4, 'original_span': [(164, 171)], 'simplified_span': [(166, 175)], 'annotation': None}. Skipping...\n",
      "When processing sentence: vinayak - Batch 6, HIT 2 (ID 71). Caught error on: Could not process edit: {'type': 'substitution', 'id': 5, 'original_span': [(224, 226)], 'simplified_span': [(281, 284)], 'annotation': None}. Skipping...\n",
      "When processing sentence: vinayak - Batch 6, HIT 18 (ID 87). Caught error on: Could not process edit: {'type': 'deletion', 'id': 1, 'original_span': [(278, 282)], 'simplified_span': None, 'annotation': None}. Skipping...\n",
      "When processing sentence: vinayak - Batch 6, HIT 18 (ID 87). Caught error on: Could not process edit: {'type': 'insertion', 'id': 4, 'original_span': None, 'simplified_span': [(383, 387)], 'annotation': None}. Skipping...\n",
      "When processing sentence: vinayak - Batch 6, HIT 27 (ID 96). Caught error on: Could not process edit: {'type': 'insertion', 'id': 1, 'original_span': None, 'simplified_span': [(49, 54)], 'annotation': None}. Skipping...\n",
      "When processing sentence: vinayak - Batch 6, HIT 31 (ID 100). Caught error on: Could not process edit: {'type': 'insertion', 'id': 0, 'original_span': None, 'simplified_span': [(75, 78)], 'annotation': None}. Skipping...\n",
      "When processing sentence: vinayak - Batch 6, HIT 40 (ID 109). Caught error on: Could not process edit: {'type': 'insertion', 'id': 1, 'original_span': None, 'simplified_span': [(109, 112)], 'annotation': None}. Skipping...\n",
      "found\n",
      "found\n",
      "found\n",
      "found\n",
      "found\n",
      "Loading files: ['../annotated/batch_7_anton.json', '../annotated/batch_7_ayush.json', '../annotated/batch_7_kelly.json', '../annotated/batch_7_rachel.json', '../annotated/batch_7_vinayak.json', '../annotated/batch_7_vishnesh.json']\n",
      "\n",
      "Found users: {'anton', 'ayush', 'vinayak', 'kelly', 'rachel', 'vishnesh'}\n",
      "\n",
      "kelly - Batch 7, HIT 47 (ID 70) has 1 structure edits but -1 annotations. Likely a missing annotation. Skipping edit type...\n",
      "vinayak - Batch 7, HIT 17 (ID 76) has 1 split edits but 0 annotations. Likely a missing annotation. Skipping edit type...\n",
      "When processing sentence: ayush - Batch 7, HIT 9 (ID 50). Caught error on: ''. Skipping...\n",
      "When processing sentence: kelly - Batch 7, HIT 47 (ID 70). Caught error on: Could not process edit: {'type': 'substitution', 'id': 3, 'original_span': [(110, 120)], 'simplified_span': [(89, 93)], 'annotation': None}. Skipping...\n",
      "When processing sentence: vinayak - Batch 7, HIT 15 (ID 75). Caught error on: Could not process edit: {'type': 'insertion', 'id': 0, 'original_span': None, 'simplified_span': [(0, 1)], 'annotation': None}. Skipping...\n",
      "When processing sentence: vinayak - Batch 7, HIT 17 (ID 76). Caught error on: Could not process edit: {'type': 'insertion', 'id': 0, 'original_span': None, 'simplified_span': [(73, 86)], 'annotation': None}. Skipping...\n",
      "When processing sentence: vinayak - Batch 7, HIT 10 (ID 86). Caught error on: Could not process edit: {'type': 'insertion', 'id': 2, 'original_span': None, 'simplified_span': [(190, 209)], 'annotation': None}. Skipping...\n",
      "When processing sentence: rachel - Batch 7, HIT 43 (ID 112). Caught error on: ''. Skipping...\n",
      "Loading files: ['../annotated/batch_8_anton.json', '../annotated/batch_8_ayush.json', '../annotated/batch_8_kelly.json', '../annotated/batch_8_rachel.json', '../annotated/batch_8_vinayak.json', '../annotated/batch_8_vishnesh.json']\n",
      "\n",
      "Found users: {'anton', 'ayush', 'vinayak', 'kelly', 'rachel', 'vishnesh'}\n",
      "\n",
      "rachel - Batch 8, HIT 35 (ID 42) has 2 structure edits but -1 annotations. Likely a missing annotation. Skipping edit type...\n",
      "rachel - Batch 8, HIT 37 (ID 44) has 5 structure edits but 4 annotations. Likely a missing annotation. Skipping edit type...\n",
      "rachel - Batch 8, HIT 38 (ID 46) has 1 insertion edits but -1 annotations. Likely a missing annotation. Skipping edit type...\n",
      "rachel - Batch 8, HIT 46 (ID 92) has 3 deletion edits but 2 annotations. Likely a missing annotation. Skipping edit type...\n",
      "When processing sentence: rachel - Batch 8, HIT 19 (ID 27). Caught error on: Could not process edit: {'type': 'insertion', 'id': 1, 'original_span': None, 'simplified_span': [(137, 143)], 'annotation': None}. Skipping...\n",
      "When processing sentence: rachel - Batch 8, HIT 22 (ID 37). Caught error on: Could not process edit: {'type': 'deletion', 'id': 1, 'original_span': [(254, 269)], 'simplified_span': None, 'annotation': None}. Skipping...\n",
      "When processing sentence: rachel - Batch 8, HIT 25 (ID 39). Caught error on: Could not process edit: {'type': 'deletion', 'id': 1, 'original_span': [(222, 235)], 'simplified_span': None, 'annotation': None}. Skipping...\n",
      "When processing sentence: rachel - Batch 8, HIT 35 (ID 42). Caught error on: Could not process edit: {'type': 'deletion', 'id': 1, 'original_span': [(20, 23)], 'simplified_span': None, 'annotation': None}. Skipping...\n",
      "When processing sentence: rachel - Batch 8, HIT 40 (ID 43). Caught error on: Could not process edit: {'type': 'insertion', 'id': 0, 'original_span': None, 'simplified_span': [(48, 51)], 'annotation': None}. Skipping...\n",
      "When processing sentence: rachel - Batch 8, HIT 37 (ID 44). Caught error on: Could not process edit: {'type': 'split', 'id': 1, 'original_span': [(156, 159)], 'simplified_span': [(151, 153)], 'annotation': None, 'composite_edits': []}. Skipping...\n",
      "When processing sentence: rachel - Batch 8, HIT 36 (ID 45). Caught error on: Could not process edit: {'type': 'deletion', 'id': 1, 'original_span': [(180, 184)], 'simplified_span': None, 'annotation': None}. Skipping...\n",
      "When processing sentence: rachel - Batch 8, HIT 53 (ID 50). Caught error on: Could not process edit: {'type': 'insertion', 'id': 0, 'original_span': None, 'simplified_span': [(65, 78)], 'annotation': None}. Skipping...\n",
      "When processing sentence: rachel - Batch 8, HIT 50 (ID 53). Caught error on: Could not process edit: {'type': 'insertion', 'id': 0, 'original_span': None, 'simplified_span': [(0, 2)], 'annotation': None}. Skipping...\n",
      "When processing sentence: vinayak - Batch 8, HIT 4 (ID 58). Caught error on: Could not process edit: {'type': 'insertion', 'id': 0, 'original_span': None, 'simplified_span': [(100, 102)], 'annotation': None}. Skipping...\n",
      "When processing sentence: vinayak - Batch 8, HIT 19 (ID 73). Caught error on: Could not process edit: {'type': 'deletion', 'id': 3, 'original_span': [(209, 213)], 'simplified_span': None, 'annotation': None}. Skipping...\n",
      "When processing sentence: rachel - Batch 8, HIT 46 (ID 92). Caught error on: Could not process edit: {'type': 'split', 'id': 0, 'original_span': [(143, 148)], 'simplified_span': [(62, 64), (65, 67)], 'annotation': None, 'composite_edits': []}. Skipping...\n",
      "Loading files: ['../annotated/batch_9_ayush.json', '../annotated/batch_9_kelly.json', '../annotated/batch_9_rachel.json', '../annotated/batch_9_vinayak.json', '../annotated/batch_9_vishnesh.json']\n",
      "\n",
      "Found users: {'ayush', 'vinayak', 'kelly', 'rachel', 'vishnesh'}\n",
      "\n",
      "kelly - Batch 9, HIT 17 (ID 22) has 2 split edits but 0 annotations. Likely a missing annotation. Skipping edit type...\n",
      "kelly - Batch 9, HIT 18 (ID 23) has 1 split edits but 0 annotations. Likely a missing annotation. Skipping edit type...\n",
      "rachel - Batch 9, HIT 31 (ID 41) has 1 split edits but 0 annotations. Likely a missing annotation. Skipping edit type...\n",
      "rachel - Batch 9, HIT 31 (ID 41) has 3 structure edits but 2 annotations. Likely a missing annotation. Skipping edit type...\n",
      "vinayak - Batch 9, HIT 49 (ID 42) has 2 structure edits but 1 annotations. Likely a missing annotation. Skipping edit type...\n",
      "vinayak - Batch 9, HIT 56 (ID 45) has 1 split edits but 0 annotations. Likely a missing annotation. Skipping edit type...\n",
      "rachel - Batch 9, HIT 48 (ID 48) has 4 deletion edits but 3 annotations. Likely a missing annotation. Skipping edit type...\n",
      "rachel - Batch 9, HIT 54 (ID 58) has 5 deletion edits but 4 annotations. Likely a missing annotation. Skipping edit type...\n",
      "kelly - Batch 9, HIT 5 (ID 64) has 1 split edits but 0 annotations. Likely a missing annotation. Skipping edit type...\n",
      "kelly - Batch 9, HIT 6 (ID 65) has 1 split edits but 0 annotations. Likely a missing annotation. Skipping edit type...\n",
      "kelly - Batch 9, HIT 7 (ID 66) has 1 split edits but 0 annotations. Likely a missing annotation. Skipping edit type...\n",
      "kelly - Batch 9, HIT 8 (ID 67) has 1 split edits but 0 annotations. Likely a missing annotation. Skipping edit type...\n",
      "kelly - Batch 9, HIT 9 (ID 68) has 1 split edits but 0 annotations. Likely a missing annotation. Skipping edit type...\n",
      "kelly - Batch 9, HIT 11 (ID 70) has 1 split edits but 0 annotations. Likely a missing annotation. Skipping edit type...\n",
      "kelly - Batch 9, HIT 12 (ID 71) has 2 split edits but 0 annotations. Likely a missing annotation. Skipping edit type...\n",
      "rachel - Batch 9, HIT 19 (ID 74) has 1 insertion edits but -1 annotations. Likely a missing annotation. Skipping edit type...\n",
      "kelly - Batch 9, HIT 33 (ID 76) has 1 split edits but 0 annotations. Likely a missing annotation. Skipping edit type...\n",
      "kelly - Batch 9, HIT 35 (ID 78) has 1 split edits but 0 annotations. Likely a missing annotation. Skipping edit type...\n",
      "kelly - Batch 9, HIT 36 (ID 79) has 1 split edits but 0 annotations. Likely a missing annotation. Skipping edit type...\n",
      "kelly - Batch 9, HIT 41 (ID 80) has 1 split edits but 0 annotations. Likely a missing annotation. Skipping edit type...\n",
      "kelly - Batch 9, HIT 42 (ID 81) has 1 split edits but 0 annotations. Likely a missing annotation. Skipping edit type...\n",
      "kelly - Batch 9, HIT 44 (ID 83) has 1 split edits but 0 annotations. Likely a missing annotation. Skipping edit type...\n",
      "rachel - Batch 9, HIT 3 (ID 94) has 1 insertion edits but -1 annotations. Likely a missing annotation. Skipping edit type...\n",
      "rachel - Batch 9, HIT 15 (ID 102) has 5 deletion edits but 4 annotations. Likely a missing annotation. Skipping edit type...\n",
      "rachel - Batch 9, HIT 16 (ID 103) has 2 deletion edits but -1 annotations. Likely a missing annotation. Skipping edit type...\n",
      "vinayak - Batch 9, HIT 36 (ID 104) has 1 split edits but 0 annotations. Likely a missing annotation. Skipping edit type...\n",
      "rachel - Batch 9, HIT 22 (ID 105) has 4 deletion edits but 2 annotations. Likely a missing annotation. Skipping edit type...\n",
      "When processing sentence: vinayak - Batch 9, HIT 56 (ID 45). Caught error on: Could not process edit: {'type': 'insertion', 'id': 0, 'original_span': None, 'simplified_span': [(70, 83)], 'annotation': None}. Skipping...\n",
      "When processing sentence: rachel - Batch 9, HIT 51 (ID 55). Caught error on: Could not process edit: {'type': 'structure', 'id': 0, 'original_span': [(164, 170)], 'simplified_span': None, 'annotation': None, 'composite_edits': []}. Skipping...\n",
      "When processing sentence: vinayak - Batch 9, HIT 1 (ID 61). Caught error on: Could not process edit: {'type': 'insertion', 'id': 1, 'original_span': None, 'simplified_span': [(61, 83)], 'annotation': None}. Skipping...\n",
      "When processing sentence: vinayak - Batch 9, HIT 10 (ID 67). Caught error on: Could not process edit: {'type': 'insertion', 'id': 0, 'original_span': None, 'simplified_span': [(64, 71)], 'annotation': None}. Skipping...\n",
      "When processing sentence: rachel - Batch 9, HIT 34 (ID 82). Caught error on: Could not process edit: {'type': 'deletion', 'id': 1, 'original_span': [(127, 135)], 'simplified_span': None, 'annotation': None}. Skipping...\n",
      "When processing sentence: rachel - Batch 9, HIT 57 (ID 112). Caught error on: Could not process edit: {'type': 'split', 'id': 0, 'original_span': None, 'simplified_span': [(54, 56)], 'annotation': None, 'composite_edits': []}. Skipping...\n"
     ]
    }
   ],
   "source": [
    "# batch 5 and 6 are new-wiki-1, with gpt-3 davinci-2, we will remove gpt-3 zeroshot and fewshot.\n",
    "# Notice one sentence need to remove all, which has original sentence:\n",
    "# `In a difficult situation, it encouraged him to study Graphic Design in 2007, and \n",
    "#   he's been since as a Cinematographer in the film industry, also having a lot of experience \n",
    "#   with photography and experience in the field of graphic design.`\n",
    "\n",
    "data = []\n",
    "batch_num = np.arange(5, 10).tolist()\n",
    "for batch_id in batch_num:\n",
    "    batch_data = load_data('../annotated', batch_num=[batch_id], preprocess=True)\n",
    "    if batch_id in [5,6]:\n",
    "        # remove system = \"new-wiki-1/GPT-3-few-shot\" or \"new-wiki-1/GPT-3-zero-shot\"\n",
    "        new_batch_data = []\n",
    "        for simplification in batch_data:\n",
    "            if simplification[\"original\"] == \"In a difficult situation, it encouraged him to study Graphic Design in 2007, and he's been since as a Cinematographer in the film industry, also his have a lot of experience with photography and experience in the field of graphic design.\":\n",
    "                # print(\"found\")\n",
    "                continue\n",
    "            if simplification['system'] != \"new-wiki-1/GPT-3-few-shot\" and simplification['system'] != \"new-wiki-1/GPT-3-zero-shot\":\n",
    "                new_batch_data.append(simplification)\n",
    "        batch_data = new_batch_data\n",
    "    data.extend(batch_data)\n",
    "        "
   ]
  },
  {
   "cell_type": "markdown",
   "metadata": {},
   "source": [
    "### 2. Prepare data for Roberta\n",
    "\n",
    "It is in the following format:\n",
    "\n",
    "*Input*: [CLS] original sentence [SEP] simplified <special> ... </special> sentence [SEP]\n",
    "\n",
    "*Label*: quality, trivial, error\n",
    "\n",
    "Only need sentence1, sentence2 and label columns, hugginface will automatically add [CLS] and [SEP]"
   ]
  },
  {
   "cell_type": "code",
   "execution_count": 6,
   "metadata": {},
   "outputs": [],
   "source": [
    "edit_2_special_token_start = {\"deletion\": \"<DEL>\", \"insertion\": \"<INS>\", \"substitution\": \"<SUB>\", \"reorder\": \"<REO>\", \n",
    "                                \"structure\": \"<STR>\", \"split\": \"<SPLIT>\"}\n",
    "edit_2_special_token_end = {\"deletion\": \"</DEL>\", \"insertion\": \"</INS>\", \"substitution\": \"</SUB>\", \"reorder\": \"</REO>\",\n",
    "                                \"structure\": \"</STR>\", \"split\": \"</SPLIT>\"}\n",
    "                            \n",
    "sentence1_list = []\n",
    "sentence2_list = []\n",
    "label_list = []\n",
    "\n",
    "for annotation in data[:1]:\n",
    "    original = annotation['original']\n",
    "    simplified = annotation['simplified']\n",
    "    for i, edit in enumerate(annotation[\"edits\"]):\n",
    "        edit_type = edit[\"type\"]\n",
    "        original_spans = edit[\"original_span\"]\n",
    "        simplified_spans = edit[\"simplified_span\"]\n",
    "        label = annotation[\"processed_annotations\"][i][\"type\"].name.lower()\n",
    "        # each span is a tuple (start, end), sort by start, then end\n",
    "        if original_spans is None:\n",
    "            new_original = original\n",
    "        else:\n",
    "            original_spans.sort(key=lambda x: (x[0], x[1]))\n",
    "            new_original = original[:original_spans[0][0]]\n",
    "            for j, span in enumerate(original_spans):\n",
    "                new_original += edit_2_special_token_start[edit_type] + \" \"\n",
    "                new_original += original[span[0]:span[1]]\n",
    "                new_original += \" \" + edit_2_special_token_end[edit_type]\n",
    "                if j < len(original_spans) - 1:\n",
    "                    new_original += original[original_spans[j][1]:original_spans[j+1][0]]\n",
    "            new_original += original[original_spans[-1][1]:]\n",
    "        \n",
    "        if simplified_spans is None:\n",
    "            new_simplified = simplified\n",
    "        else:\n",
    "            simplified_spans.sort(key=lambda x: (x[0], x[1]))\n",
    "            new_simplified = simplified[:simplified_spans[0][0]]\n",
    "            for j, span in enumerate(simplified_spans):\n",
    "                if simplified[span[0]:span[1]] == \"||\":\n",
    "                    new_simplified += \"<SPLIT_SIGN>\"\n",
    "                else:\n",
    "                    new_simplified += edit_2_special_token_start[edit_type] + \" \"\n",
    "                    new_simplified += simplified[span[0]:span[1]]\n",
    "                    new_simplified += \" \" + edit_2_special_token_end[edit_type]\n",
    "                if j < len(simplified_spans) - 1:\n",
    "                    new_simplified += simplified[simplified_spans[j][1]:simplified_spans[j+1][0]]\n",
    "            new_simplified += simplified[simplified_spans[-1][1]:]\n",
    "            \n",
    "        sentence1_list.append(new_original)\n",
    "        sentence2_list.append(new_simplified)\n",
    "        label_list.append(label)"
   ]
  },
  {
   "cell_type": "code",
   "execution_count": 7,
   "metadata": {},
   "outputs": [
    {
     "data": {
      "text/plain": [
       "\"The architecture of Winchester College is a diverse set of architectural styles, reflecting the multiple periods of building from the college's foundation in 1382, through additions in the medieval and Early Modern periods, <SPLIT> to a </SPLIT> major expansion of accommodation in the Victorian era and then further extensions at the turn of the 20th century and more recently.\""
      ]
     },
     "execution_count": 7,
     "metadata": {},
     "output_type": "execute_result"
    }
   ],
   "source": [
    "sentence1_list[-2]"
   ]
  },
  {
   "cell_type": "code",
   "execution_count": 8,
   "metadata": {},
   "outputs": [
    {
     "data": {
      "text/plain": [
       "'The buildings of Winchester College have diverse architectural styles. || They reflect multiple periods of building from the college’s founding in 1382, through additions in the medieval and early modern periods. <SPLIT_SIGN> <SPLIT> They also show </SPLIT> big expansions to accommodations in the Victorian era and at the beginning of the 20th century and more recently.'"
      ]
     },
     "execution_count": 8,
     "metadata": {},
     "output_type": "execute_result"
    }
   ],
   "source": [
    "sentence2_list[-2]"
   ]
  },
  {
   "cell_type": "code",
   "execution_count": 4,
   "metadata": {},
   "outputs": [
    {
     "data": {
      "text/plain": [
       "{'type': 'split',\n",
       " 'id': 0,\n",
       " 'original_span': [(81, 91)],\n",
       " 'simplified_span': [(71, 73), (74, 78), (79, 86)],\n",
       " 'annotation': ['positive', 'a lot', '', 'no'],\n",
       " 'composite_edits': [{'type': 'substitution',\n",
       "   'id': 0,\n",
       "   'original_span': [(81, 91)],\n",
       "   'simplified_span': [(79, 86)]},\n",
       "  {'type': 'insertion',\n",
       "   'id': 0,\n",
       "   'original_span': None,\n",
       "   'simplified_span': [(74, 78)]}]}"
      ]
     },
     "execution_count": 4,
     "metadata": {},
     "output_type": "execute_result"
    }
   ],
   "source": [
    "data[0][\"edits\"][-2]"
   ]
  },
  {
   "cell_type": "code",
   "execution_count": 4,
   "metadata": {},
   "outputs": [
    {
     "data": {
      "text/plain": [
       "{'type': 'split',\n",
       " 'id': 1,\n",
       " 'original_span': [(224, 228)],\n",
       " 'simplified_span': [(213, 215), (216, 230)],\n",
       " 'annotation': ['positive', 'a lot', '', 'no'],\n",
       " 'composite_edits': []}"
      ]
     },
     "execution_count": 4,
     "metadata": {},
     "output_type": "execute_result"
    }
   ],
   "source": [
    "data[0][\"edits\"][-2]"
   ]
  },
  {
   "cell_type": "code",
   "execution_count": 2,
   "metadata": {},
   "outputs": [
    {
     "name": "stdout",
     "output_type": "stream",
     "text": [
      "9\n",
      "9\n",
      "9\n",
      "9\n",
      "9\n"
     ]
    }
   ],
   "source": [
    "for i in range(5):\n",
    "    for i in range(6, 10):\n",
    "        a = 6\n",
    "    print(i)\n"
   ]
  },
  {
   "cell_type": "code",
   "execution_count": null,
   "metadata": {},
   "outputs": [],
   "source": []
  }
 ],
 "metadata": {
  "kernelspec": {
   "display_name": "Python 3.9.13 ('paraphrase')",
   "language": "python",
   "name": "python3"
  },
  "language_info": {
   "codemirror_mode": {
    "name": "ipython",
    "version": 3
   },
   "file_extension": ".py",
   "mimetype": "text/x-python",
   "name": "python",
   "nbconvert_exporter": "python",
   "pygments_lexer": "ipython3",
   "version": "3.9.13"
  },
  "orig_nbformat": 4,
  "vscode": {
   "interpreter": {
    "hash": "51d4b053945bb951b16f24566ff3322f1cf2f2e71937c6e2fa134fa8352168a0"
   }
  }
 },
 "nbformat": 4,
 "nbformat_minor": 2
}
