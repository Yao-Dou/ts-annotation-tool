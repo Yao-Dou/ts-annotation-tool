{
 "cells": [
  {
   "cell_type": "code",
   "execution_count": 1,
   "metadata": {},
   "outputs": [
    {
     "name": "stdout",
     "output_type": "stream",
     "text": [
      "Loading files: ['../annotated/batch_5_anton.json', '../annotated/batch_5_ayush.json', '../annotated/batch_5_kelly.json', '../annotated/batch_5_rachel.json', '../annotated/batch_5_vinayak.json', '../annotated/batch_5_vishnesh.json', '../annotated/batch_6_anton.json', '../annotated/batch_6_ayush.json', '../annotated/batch_6_kelly.json', '../annotated/batch_6_rachel.json', '../annotated/batch_6_vinayak.json', '../annotated/batch_6_vishnesh.json']\n",
      "\n",
      "Found users: {'vishnesh', 'anton', 'vinayak', 'kelly', 'ayush', 'rachel'}\n",
      "\n",
      "anton - Batch 5, HIT 38 (ID 37) has 2 deletion edits but 1 annotations. Likely a missing annotation. Skipping edit type...\n",
      "vinayak - Batch 6, HIT 16 (ID 45) has 1 insertion edits but -1 annotations. Likely a missing annotation. Skipping edit type...\n",
      "rachel - Batch 5, HIT 21 (ID 65) has 4 deletion edits but 3 annotations. Likely a missing annotation. Skipping edit type...\n",
      "rachel - Batch 5, HIT 21 (ID 65) has 4 insertion edits but 3 annotations. Likely a missing annotation. Skipping edit type...\n",
      "rachel - Batch 5, HIT 23 (ID 67) has 1 reorder edits but -1 annotations. Likely a missing annotation. Skipping edit type...\n",
      "vinayak - Batch 5, HIT 25 (ID 92) has 5 deletion edits but 3 annotations. Likely a missing annotation. Skipping edit type...\n",
      "vinayak - Batch 5, HIT 25 (ID 92) has 2 insertion edits but 1 annotations. Likely a missing annotation. Skipping edit type...\n",
      "vinayak - Batch 5, HIT 17 (ID 100) has 3 deletion edits but 2 annotations. Likely a missing annotation. Skipping edit type...\n",
      "ayush - Batch 6, HIT 3 (ID 136) has 1 structure edits but -1 annotations. Likely a missing annotation. Skipping edit type...\n",
      "When processing sentence: vinayak - Batch 6, HIT 2 (ID 1). Caught error on: Could not process edit: {'type': 'substitution', 'id': 4, 'original_span': [(164, 171)], 'simplified_span': [(166, 175)], 'annotation': None}. Skipping...\n",
      "When processing sentence: vinayak - Batch 6, HIT 2 (ID 1). Caught error on: Could not process edit: {'type': 'substitution', 'id': 5, 'original_span': [(224, 226)], 'simplified_span': [(281, 284)], 'annotation': None}. Skipping...\n",
      "When processing sentence: vinayak - Batch 6, HIT 27 (ID 26). Caught error on: Could not process edit: {'type': 'insertion', 'id': 1, 'original_span': None, 'simplified_span': [(49, 54)], 'annotation': None}. Skipping...\n",
      "When processing sentence: vinayak - Batch 6, HIT 18 (ID 47). Caught error on: Could not process edit: {'type': 'deletion', 'id': 1, 'original_span': [(278, 282)], 'simplified_span': None, 'annotation': None}. Skipping...\n",
      "When processing sentence: vinayak - Batch 6, HIT 18 (ID 47). Caught error on: Could not process edit: {'type': 'insertion', 'id': 4, 'original_span': None, 'simplified_span': [(383, 387)], 'annotation': None}. Skipping...\n",
      "When processing sentence: vinayak - Batch 6, HIT 40 (ID 59). Caught error on: Could not process edit: {'type': 'insertion', 'id': 1, 'original_span': None, 'simplified_span': [(109, 112)], 'annotation': None}. Skipping...\n",
      "When processing sentence: vinayak - Batch 6, HIT 31 (ID 76). Caught error on: Could not process edit: {'type': 'insertion', 'id': 0, 'original_span': None, 'simplified_span': [(75, 78)], 'annotation': None}. Skipping...\n",
      "When processing sentence: vinayak - Batch 5, HIT 10 (ID 98). Caught error on: Could not process edit: {'type': 'deletion', 'id': 1, 'original_span': [(229, 233)], 'simplified_span': None, 'annotation': None}. Skipping...\n",
      "When processing sentence: vinayak - Batch 5, HIT 34 (ID 112). Caught error on: ''. Skipping...\n",
      "When processing sentence: rachel - Batch 6, HIT 34 (ID 131). Caught error on: ''. Skipping...\n"
     ]
    }
   ],
   "source": [
    "from sys import path\n",
    "from os.path import dirname as dir\n",
    "\n",
    "path.append(\"/Users/yaod_1/Desktop/webpage/text-simplification/ts-annoation-tool/data/analysis\")\n",
    "\n",
    "from utils.all import *\n",
    "\n",
    "# 'batch_num' corresponds to the batches in the annotated folder\n",
    "# 'preprocess' adds more data to each sentence, including SimpEval annotations\n",
    "# The errors printed at the bottom are primarily because annotators will select a span\n",
    "# but don't annotate that span\n",
    "data = load_data('../annotated', batch_num=[5, 6], preprocess=True)"
   ]
  },
  {
   "cell_type": "code",
   "execution_count": 19,
   "metadata": {},
   "outputs": [
    {
     "data": {
      "text/plain": [
       "[{'edit_type': 'deletion',\n",
       "  'id': 0,\n",
       "  'information_impact': <Information.LESS: 'Generalization'>,\n",
       "  'type': <Quality.QUALITY: 'No Error'>,\n",
       "  'family': <Family.CONTENT: 'Content'>,\n",
       "  'grammar_error': False,\n",
       "  'error_type': None,\n",
       "  'rating': 3,\n",
       "  'size': 0.008310249307479225,\n",
       "  'reorder_level': None,\n",
       "  'score': 0.0},\n",
       " {'edit_type': 'deletion',\n",
       "  'id': 1,\n",
       "  'information_impact': <Information.LESS: 'Generalization'>,\n",
       "  'type': <Quality.QUALITY: 'No Error'>,\n",
       "  'family': <Family.CONTENT: 'Content'>,\n",
       "  'grammar_error': False,\n",
       "  'error_type': None,\n",
       "  'rating': 2,\n",
       "  'size': 0.030470914127423823,\n",
       "  'reorder_level': None,\n",
       "  'score': 0.0},\n",
       " {'edit_type': 'deletion',\n",
       "  'id': 2,\n",
       "  'information_impact': <Information.LESS: 'Generalization'>,\n",
       "  'type': <Quality.QUALITY: 'No Error'>,\n",
       "  'family': <Family.CONTENT: 'Content'>,\n",
       "  'grammar_error': False,\n",
       "  'error_type': None,\n",
       "  'rating': 3,\n",
       "  'size': 0.06371191135734072,\n",
       "  'reorder_level': None,\n",
       "  'score': 0.0},\n",
       " {'edit_type': 'substitution',\n",
       "  'id': 0,\n",
       "  'information_impact': <Information.SAME: 'Same Information'>,\n",
       "  'type': <Quality.QUALITY: 'No Error'>,\n",
       "  'family': <Family.LEXICAL: 'Lexical'>,\n",
       "  'grammar_error': False,\n",
       "  'error_type': None,\n",
       "  'rating': 2,\n",
       "  'size': 0.00554016620498615,\n",
       "  'reorder_level': None,\n",
       "  'score': 0.0},\n",
       " {'edit_type': 'substitution',\n",
       "  'id': 1,\n",
       "  'information_impact': <Information.SAME: 'Same Information'>,\n",
       "  'type': <Quality.TRIVIAL: 'Trivial'>,\n",
       "  'family': <Family.LEXICAL: 'Lexical'>,\n",
       "  'grammar_error': False,\n",
       "  'error_type': None,\n",
       "  'rating': None,\n",
       "  'size': 0.002770083102493075,\n",
       "  'reorder_level': None,\n",
       "  'score': 0.0},\n",
       " {'edit_type': 'substitution',\n",
       "  'id': 2,\n",
       "  'information_impact': <Information.SAME: 'Same Information'>,\n",
       "  'type': <Quality.QUALITY: 'No Error'>,\n",
       "  'family': <Family.LEXICAL: 'Lexical'>,\n",
       "  'grammar_error': False,\n",
       "  'error_type': None,\n",
       "  'rating': 1,\n",
       "  'size': 0.0,\n",
       "  'reorder_level': None,\n",
       "  'score': 0.0},\n",
       " {'edit_type': 'substitution',\n",
       "  'id': 3,\n",
       "  'information_impact': <Information.SAME: 'Same Information'>,\n",
       "  'type': <Quality.QUALITY: 'No Error'>,\n",
       "  'family': <Family.LEXICAL: 'Lexical'>,\n",
       "  'grammar_error': False,\n",
       "  'error_type': None,\n",
       "  'rating': 2,\n",
       "  'size': 0.013850415512465374,\n",
       "  'reorder_level': None,\n",
       "  'score': 0.0},\n",
       " {'edit_type': 'substitution',\n",
       "  'id': 4,\n",
       "  'information_impact': <Information.SAME: 'Same Information'>,\n",
       "  'type': <Quality.TRIVIAL: 'Trivial'>,\n",
       "  'family': <Family.LEXICAL: 'Lexical'>,\n",
       "  'grammar_error': False,\n",
       "  'error_type': None,\n",
       "  'rating': None,\n",
       "  'size': 0.002770083102493075,\n",
       "  'reorder_level': None,\n",
       "  'score': 0.0},\n",
       " {'edit_type': 'split',\n",
       "  'id': 0,\n",
       "  'information_impact': <Information.SAME: 'Same Information'>,\n",
       "  'type': <Quality.QUALITY: 'No Error'>,\n",
       "  'family': <Family.SYNTAX: 'Syntax'>,\n",
       "  'grammar_error': False,\n",
       "  'error_type': None,\n",
       "  'rating': 2,\n",
       "  'size': 0.008310249307479225,\n",
       "  'reorder_level': None,\n",
       "  'score': 0.0},\n",
       " {'edit_type': 'structure',\n",
       "  'id': 0,\n",
       "  'information_impact': <Information.SAME: 'Same Information'>,\n",
       "  'type': <Quality.QUALITY: 'No Error'>,\n",
       "  'family': <Family.SYNTAX: 'Syntax'>,\n",
       "  'grammar_error': False,\n",
       "  'error_type': None,\n",
       "  'rating': 1,\n",
       "  'size': 0.00554016620498615,\n",
       "  'reorder_level': None,\n",
       "  'score': 0.0}]"
      ]
     },
     "execution_count": 19,
     "metadata": {},
     "output_type": "execute_result"
    }
   ],
   "source": [
    "data[0][\"processed_annotations\"]"
   ]
  },
  {
   "cell_type": "code",
   "execution_count": 14,
   "metadata": {},
   "outputs": [
    {
     "data": {
      "text/plain": [
       "<Edit.SPLIT: 'Split'>"
      ]
     },
     "execution_count": 14,
     "metadata": {},
     "output_type": "execute_result"
    }
   ],
   "source": [
    "Edit(\"Split\")"
   ]
  },
  {
   "cell_type": "code",
   "execution_count": 20,
   "metadata": {},
   "outputs": [
    {
     "name": "stdout",
     "output_type": "stream",
     "text": [
      "/Users/yaod_1/Desktop/webpage/text-simplification/ts-annoation-tool/data/edit_classification\n"
     ]
    }
   ],
   "source": [
    "!pwd"
   ]
  },
  {
   "cell_type": "code",
   "execution_count": null,
   "metadata": {},
   "outputs": [],
   "source": []
  }
 ],
 "metadata": {
  "kernelspec": {
   "display_name": "Python 3.9.13 ('paraphrase')",
   "language": "python",
   "name": "python3"
  },
  "language_info": {
   "codemirror_mode": {
    "name": "ipython",
    "version": 3
   },
   "file_extension": ".py",
   "mimetype": "text/x-python",
   "name": "python",
   "nbconvert_exporter": "python",
   "pygments_lexer": "ipython3",
   "version": "3.9.13"
  },
  "orig_nbformat": 4,
  "vscode": {
   "interpreter": {
    "hash": "51d4b053945bb951b16f24566ff3322f1cf2f2e71937c6e2fa134fa8352168a0"
   }
  }
 },
 "nbformat": 4,
 "nbformat_minor": 2
}
