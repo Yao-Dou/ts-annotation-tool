{
 "cells": [
  {
   "cell_type": "code",
   "execution_count": 1,
   "metadata": {},
   "outputs": [],
   "source": [
    "# This is to add split sign to the batch 1, resulting in batch 1.1\n",
    "\n",
    "import pandas as pd\n",
    "import random\n",
    "import re\n",
    "import json\n",
    "\n",
    "annotators = [\"ayush\", \"rachel\", \"vinayak\", \"vishnesh\"]\n",
    "for annotator in annotators:\n",
    "    with open(f\"{annotator}/batch_1.1/set_0_no_split.json\") as f:\n",
    "        data = json.load(f)\n",
    "    for annotation in data:\n",
    "        simplified = annotation[\"simplified\"]\n",
    "        if \"||\" in simplified:\n",
    "            #  find index of all || in simplified\n",
    "            indices = [m.start() for m in re.finditer('\\|\\|', simplified)]\n",
    "            for i, indice in enumerate(indices):\n",
    "                annotation[\"simplified_spans\"].append([2, indice, indice+2, i])\n",
    "\n",
    "        with open(f\"{annotator}/batch_1.1/set_0.json\", \"w\") as f:\n",
    "            json.dump(data, f, indent=4)\n",
    "        "
   ]
  },
  {
   "cell_type": "code",
   "execution_count": null,
   "metadata": {},
   "outputs": [],
   "source": []
  }
 ],
 "metadata": {
  "kernelspec": {
   "display_name": "paraphrase",
   "language": "python",
   "name": "python3"
  },
  "language_info": {
   "codemirror_mode": {
    "name": "ipython",
    "version": 3
   },
   "file_extension": ".py",
   "mimetype": "text/x-python",
   "name": "python",
   "nbconvert_exporter": "python",
   "pygments_lexer": "ipython3",
   "version": "3.9.13"
  },
  "orig_nbformat": 4
 },
 "nbformat": 4,
 "nbformat_minor": 2
}
