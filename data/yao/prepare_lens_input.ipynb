{
 "cells": [
  {
   "cell_type": "code",
   "execution_count": 1,
   "metadata": {},
   "outputs": [],
   "source": [
    "import pandas as pd\n",
    "\n",
    "# read data all-outputs-new-wiki-1-before-splitting.csv\n",
    "df = pd.read_csv('all-outputs-new-wiki-1-before-splitting.csv')\n",
    "\n",
    "models = [\"GPT-3-zero-shot\", \"GPT-3-few-shot\", \"Muss\", \"T5-3B\"]"
   ]
  },
  {
   "cell_type": "code",
   "execution_count": null,
   "metadata": {},
   "outputs": [],
   "source": [
    "# iterate the rows\n",
    "data = {}\n",
    "for index, row in df.iterrows():\n",
    "    for model in models:\n",
    "        if model not in data:\n",
    "            data[model] = []\n",
    "        model_instance = {}\n",
    "        model_instance[\"complex\"] = row[\"Original Sentence\"]\n",
    "        model_instance[\"simple\"] = row[model]\n",
    "        model_instance[\"references\"] = [row[\"Human 1 Writing\"], row[\"Human 2 Writing\"]]\n",
    "        data[model].append(model_instance)"
   ]
  },
  {
   "cell_type": "code",
   "execution_count": null,
   "metadata": {},
   "outputs": [],
   "source": [
    "import json\n",
    "for model in models:\n",
    "    # write to json file with indent=4\n",
    "    with open(f'lens_demo_data/{model}.json', 'w') as f:\n",
    "        json.dump(data[model], f, indent=4)"
   ]
  },
  {
   "cell_type": "code",
   "execution_count": null,
   "metadata": {},
   "outputs": [],
   "source": []
  }
 ],
 "metadata": {
  "kernelspec": {
   "display_name": "Python 3.9.13 ('paraphrase')",
   "language": "python",
   "name": "python3"
  },
  "language_info": {
   "codemirror_mode": {
    "name": "ipython",
    "version": 3
   },
   "file_extension": ".py",
   "mimetype": "text/x-python",
   "name": "python",
   "nbconvert_exporter": "python",
   "pygments_lexer": "ipython3",
   "version": "3.9.13"
  },
  "orig_nbformat": 4,
  "vscode": {
   "interpreter": {
    "hash": "51d4b053945bb951b16f24566ff3322f1cf2f2e71937c6e2fa134fa8352168a0"
   }
  }
 },
 "nbformat": 4,
 "nbformat_minor": 2
}
