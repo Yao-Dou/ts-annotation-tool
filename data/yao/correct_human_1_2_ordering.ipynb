{
 "cells": [
  {
   "cell_type": "code",
   "execution_count": 4,
   "metadata": {},
   "outputs": [],
   "source": [
    "import pandas as pd\n",
    "\n",
    "df = pd.read_csv(\"all-outputs-new-wiki-1-old.csv\")\n",
    "wrong_path = \"all-outputs-new-wiki-1.csv\"\n",
    "wrong_order_df = pd.read_csv(wrong_path)"
   ]
  },
  {
   "cell_type": "code",
   "execution_count": 5,
   "metadata": {},
   "outputs": [
    {
     "name": "stderr",
     "output_type": "stream",
     "text": [
      "/var/folders/y7/td6y_m6175s6z0750bmy2tq40000gr/T/ipykernel_76432/1554231295.py:9: SettingWithCopyWarning: \n",
      "A value is trying to be set on a copy of a slice from a DataFrame\n",
      "\n",
      "See the caveats in the documentation: https://pandas.pydata.org/pandas-docs/stable/user_guide/indexing.html#returning-a-view-versus-a-copy\n",
      "  wrong_order_df[\"Human 1\"][i], wrong_order_df[\"Human 2\"][i] = wrong_order_df[\"Human 2\"][i], wrong_order_df[\"Human 1\"][i]\n",
      "/var/folders/y7/td6y_m6175s6z0750bmy2tq40000gr/T/ipykernel_76432/1554231295.py:10: SettingWithCopyWarning: \n",
      "A value is trying to be set on a copy of a slice from a DataFrame\n",
      "\n",
      "See the caveats in the documentation: https://pandas.pydata.org/pandas-docs/stable/user_guide/indexing.html#returning-a-view-versus-a-copy\n",
      "  wrong_order_df[\"Human 1 Writing\"][i], wrong_order_df[\"Human 2 Writing\"][i] = wrong_order_df[\"Human 2 Writing\"][i], wrong_order_df[\"Human 1 Writing\"][i]\n"
     ]
    }
   ],
   "source": [
    "correct_human_1 = df[\"Human 1\"].tolist()\n",
    "correct_human_2 = df[\"Human 2\"].tolist()\n",
    "\n",
    "# switch the columns of human 1 and human 2 of the wrong order df\n",
    "for i in range(len(wrong_order_df)):\n",
    "    if wrong_order_df[\"Human 1\"][i] == correct_human_1[i]:\n",
    "        continue\n",
    "    else:\n",
    "        wrong_order_df[\"Human 1\"][i], wrong_order_df[\"Human 2\"][i] = wrong_order_df[\"Human 2\"][i], wrong_order_df[\"Human 1\"][i]\n",
    "        wrong_order_df[\"Human 1 Writing\"][i], wrong_order_df[\"Human 2 Writing\"][i] = wrong_order_df[\"Human 2 Writing\"][i], wrong_order_df[\"Human 1 Writing\"][i]"
   ]
  },
  {
   "cell_type": "code",
   "execution_count": 6,
   "metadata": {},
   "outputs": [],
   "source": [
    "# save wrong_order_df\n",
    "wrong_order_df.to_csv(wrong_path, index=False)"
   ]
  }
 ],
 "metadata": {
  "kernelspec": {
   "display_name": "Python 3.9.13 ('paraphrase')",
   "language": "python",
   "name": "python3"
  },
  "language_info": {
   "codemirror_mode": {
    "name": "ipython",
    "version": 3
   },
   "file_extension": ".py",
   "mimetype": "text/x-python",
   "name": "python",
   "nbconvert_exporter": "python",
   "pygments_lexer": "ipython3",
   "version": "3.9.13"
  },
  "orig_nbformat": 4,
  "vscode": {
   "interpreter": {
    "hash": "51d4b053945bb951b16f24566ff3322f1cf2f2e71937c6e2fa134fa8352168a0"
   }
  }
 },
 "nbformat": 4,
 "nbformat_minor": 2
}
