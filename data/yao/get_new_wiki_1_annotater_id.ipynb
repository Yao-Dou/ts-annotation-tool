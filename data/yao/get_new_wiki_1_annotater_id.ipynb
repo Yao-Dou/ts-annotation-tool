{
 "cells": [
  {
   "cell_type": "code",
   "execution_count": 1,
   "metadata": {},
   "outputs": [],
   "source": [
    "import pandas as pd\n",
    "\n",
    "df = pd.read_csv('humans-output-new-wiki-1.csv')"
   ]
  },
  {
   "cell_type": "code",
   "execution_count": 2,
   "metadata": {},
   "outputs": [],
   "source": [
    "human_1_list = df[\"Human 1\"].tolist()\n",
    "human_2_list = df[\"Human 2\"].tolist()"
   ]
  },
  {
   "cell_type": "code",
   "execution_count": 3,
   "metadata": {},
   "outputs": [
    {
     "name": "stdout",
     "output_type": "stream",
     "text": [
      "vishnesh [29, 30, 2, 4, 12, 14, 15, 21, 27, 28]\n",
      "anton [7, 9, 13, 15, 19, 20, 23, 25, 28, 5]\n",
      "vinayak [7, 8, 11, 16, 17, 19, 26, 29, 30, 31]\n",
      "kelly [4, 12, 31, 3, 9, 10, 18, 20, 23, 24]\n",
      "ayush [3, 16, 18, 21, 26, 27, 6, 13, 22, 25]\n",
      "rachel [2, 5, 6, 8, 10, 11, 14, 17, 22, 24]\n"
     ]
    }
   ],
   "source": [
    "annotatoer_list = list(set(human_1_list + human_2_list))\n",
    "\n",
    "annotator_dict = {}\n",
    "for annotator in annotatoer_list:\n",
    "    # get index of annotator in human_1_list\n",
    "    index_list = [i for i, x in enumerate(human_1_list) if x == annotator]\n",
    "    # get index of annotator in human_2_list\n",
    "    index_list += [i for i, x in enumerate(human_2_list) if x == annotator]\n",
    "    annotator_dict[annotator] = index_list\n",
    "    # add all index + 2\n",
    "    annotator_dict[annotator] = [x + 2 for x in annotator_dict[annotator]]\n",
    "    print(annotator, annotator_dict[annotator])"
   ]
  },
  {
   "cell_type": "code",
   "execution_count": 10,
   "metadata": {},
   "outputs": [
    {
     "data": {
      "text/plain": [
       "[7, 8, 11, 16, 17, 19, 26, 29, 30, 31]"
      ]
     },
     "execution_count": 10,
     "metadata": {},
     "output_type": "execute_result"
    }
   ],
   "source": [
    "annotator_dict[\"vinayak\"]"
   ]
  },
  {
   "cell_type": "code",
   "execution_count": null,
   "metadata": {},
   "outputs": [],
   "source": [
    "vishnesh [29, 30, 2, 4, 12, 14, 15, 21, 27, 28]\n",
    "anton [7, 9, 13, 15, 19, 20, 23, 25, 28, 5]\n",
    "vinayak [7, 8, 11, 16, 17, 19, 26, 29, 30, 31]\n",
    "kelly [4, 12, 31, 3, 9, 10, 18, 20, 23, 24]\n",
    "ayush [3, 16, 18, 21, 26, 27, 6, 13, 22, 25]\n",
    "rachel [2, 5, 6, 8, 10, 11, 14, 17, 22, 24]"
   ]
  }
 ],
 "metadata": {
  "kernelspec": {
   "display_name": "Python 3.9.13 ('paraphrase')",
   "language": "python",
   "name": "python3"
  },
  "language_info": {
   "codemirror_mode": {
    "name": "ipython",
    "version": 3
   },
   "file_extension": ".py",
   "mimetype": "text/x-python",
   "name": "python",
   "nbconvert_exporter": "python",
   "pygments_lexer": "ipython3",
   "version": "3.9.13"
  },
  "orig_nbformat": 4,
  "vscode": {
   "interpreter": {
    "hash": "51d4b053945bb951b16f24566ff3322f1cf2f2e71937c6e2fa134fa8352168a0"
   }
  }
 },
 "nbformat": 4,
 "nbformat_minor": 2
}
