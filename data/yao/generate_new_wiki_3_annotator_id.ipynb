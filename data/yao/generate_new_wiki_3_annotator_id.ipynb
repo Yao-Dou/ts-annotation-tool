{
 "cells": [
  {
   "cell_type": "code",
   "execution_count": 39,
   "metadata": {},
   "outputs": [
    {
     "name": "stdout",
     "output_type": "stream",
     "text": [
      "0\n"
     ]
    }
   ],
   "source": [
    "import random\n",
    "import numpy as np\n",
    "\n",
    "random.seed(0)\n",
    "\n",
    "id_list = np.arange(0, 40, 1)\n",
    "random.shuffle(id_list)\n",
    "\n",
    "annotator_list = [\"vishnesh\", \"ayush\", \"anton\", \"kelly\", \"rachel\", \"vinayak\"]\n",
    "annotator_dict = {annotator: [] for annotator in annotator_list}\n",
    "\n",
    "# for i in np.arange(np.ceil(40)).astype(int):\n",
    "#     temp_annotator_list = annotator_list.copy()\n",
    "#     random.shuffle(temp_annotator_list)\n",
    "#     for j in np.arange(3):\n",
    "#         if i * 3 + j >= 40:\n",
    "#             break\n",
    "#         annotator_dict[temp_annotator_list[j * 2]].append(id_list[i * 3 + j])\n",
    "#         annotator_dict[temp_annotator_list[j * 2 + 1]].append(id_list[i * 3 + j])\n",
    "#         annotator_dict[temp_annotator_list[j * 2 + 2]].append(id_list[i * 3 + j])\n",
    "\n",
    "print(sum([len(x) for x in annotator_dict.values()]))"
   ]
  },
  {
   "cell_type": "code",
   "execution_count": 40,
   "metadata": {},
   "outputs": [
    {
     "data": {
      "text/plain": [
       "array([ 0, 27, 12, 21, 29, 15, 38, 34,  1, 20,  7,  5, 10, 13, 14, 37, 22,\n",
       "       39, 23, 17,  8, 35,  3, 33,  9,  4, 36,  6, 28, 18, 11, 30, 19, 25,\n",
       "       31, 32, 16,  2, 26, 24])"
      ]
     },
     "execution_count": 40,
     "metadata": {},
     "output_type": "execute_result"
    }
   ],
   "source": [
    "id_list"
   ]
  },
  {
   "cell_type": "code",
   "execution_count": 43,
   "metadata": {},
   "outputs": [
    {
     "data": {
      "text/plain": [
       "{'vishnesh': [12, 34, 5, 3, 4, 18, 19, 32, 16, 24],\n",
       " 'ayush': [0, 29, 13, 39, 23, 33, 9, 11, 2],\n",
       " 'anton': [15, 7, 10, 22, 31, 26],\n",
       " 'kelly': [1, 20, 8, 35, 6, 25],\n",
       " 'rachel': [21, 38, 17],\n",
       " 'vinayak': [27, 14, 37, 36, 28, 30]}"
      ]
     },
     "execution_count": 43,
     "metadata": {},
     "output_type": "execute_result"
    }
   ],
   "source": [
    "annotator_dict[annotator_l]"
   ]
  },
  {
   "cell_type": "code",
   "execution_count": 83,
   "metadata": {},
   "outputs": [
    {
     "data": {
      "text/plain": [
       "{'vishnesh': 20,\n",
       " 'rachel': 20,\n",
       " 'ayush': 20,\n",
       " 'kelly': 20,\n",
       " 'anton': 20,\n",
       " 'vinayak': 20}"
      ]
     },
     "execution_count": 83,
     "metadata": {},
     "output_type": "execute_result"
    }
   ],
   "source": [
    "# End result is the ids split evenly 3 times among annotators\n",
    "\n",
    "annotator_dict = {annotator: [] for annotator in annotator_list}\n",
    "annotator_list = [\"vishnesh\", \"ayush\", \"anton\", \"kelly\", \"rachel\", \"vinayak\"]\n",
    "\n",
    "for i in range(int(len(id_list)/2)):\n",
    "    random.shuffle(annotator_list)\n",
    "    for j in range(3):\n",
    "        # if i * 3 + j >= 40:\n",
    "        #     break\n",
    "        # annotator_dict[annotator_list[j*2 + 1]].append(id_list[i*3+j])\n",
    "        annotator_dict[annotator_list[j*2]].append(id_list[i*2])\n",
    "        annotator_dict[annotator_list[j*2+1]].append(id_list[i*2+1])\n",
    "\n",
    "{k: len(v) for k, v in annotator_dict.items()}"
   ]
  },
  {
   "cell_type": "code",
   "execution_count": 82,
   "metadata": {},
   "outputs": [
    {
     "data": {
      "text/plain": [
       "['vishnesh', 'rachel', 'ayush', 'kelly', 'anton', 'vinayak']"
      ]
     },
     "execution_count": 82,
     "metadata": {},
     "output_type": "execute_result"
    }
   ],
   "source": [
    "annotator_list"
   ]
  },
  {
   "cell_type": "code",
   "execution_count": 84,
   "metadata": {},
   "outputs": [],
   "source": [
    "# rank annotator's list of id in ascending order\n",
    "for annotator in annotator_list:\n",
    "    # annotator_dict[annotator].sort()\n",
    "    # add 2 to each id\n",
    "    annotator_dict[annotator] = [id + 2 for id in annotator_dict[annotator]]"
   ]
  },
  {
   "cell_type": "code",
   "execution_count": 90,
   "metadata": {},
   "outputs": [
    {
     "data": {
      "text/plain": [
       "{'vishnesh': [3,\n",
       "  5,\n",
       "  6,\n",
       "  7,\n",
       "  8,\n",
       "  10,\n",
       "  15,\n",
       "  16,\n",
       "  17,\n",
       "  18,\n",
       "  23,\n",
       "  24,\n",
       "  25,\n",
       "  26,\n",
       "  27,\n",
       "  29,\n",
       "  30,\n",
       "  32,\n",
       "  33,\n",
       "  40],\n",
       " 'rachel': [3,\n",
       "  4,\n",
       "  7,\n",
       "  8,\n",
       "  11,\n",
       "  12,\n",
       "  14,\n",
       "  16,\n",
       "  19,\n",
       "  20,\n",
       "  21,\n",
       "  24,\n",
       "  28,\n",
       "  29,\n",
       "  31,\n",
       "  32,\n",
       "  34,\n",
       "  35,\n",
       "  36,\n",
       "  37],\n",
       " 'ayush': [2,\n",
       "  4,\n",
       "  5,\n",
       "  9,\n",
       "  11,\n",
       "  13,\n",
       "  15,\n",
       "  17,\n",
       "  19,\n",
       "  20,\n",
       "  22,\n",
       "  23,\n",
       "  27,\n",
       "  28,\n",
       "  34,\n",
       "  37,\n",
       "  38,\n",
       "  39,\n",
       "  40,\n",
       "  41],\n",
       " 'kelly': [2,\n",
       "  3,\n",
       "  6,\n",
       "  7,\n",
       "  8,\n",
       "  12,\n",
       "  13,\n",
       "  17,\n",
       "  18,\n",
       "  19,\n",
       "  23,\n",
       "  24,\n",
       "  27,\n",
       "  28,\n",
       "  30,\n",
       "  34,\n",
       "  35,\n",
       "  37,\n",
       "  39,\n",
       "  40],\n",
       " 'anton': [2,\n",
       "  4,\n",
       "  6,\n",
       "  9,\n",
       "  10,\n",
       "  12,\n",
       "  13,\n",
       "  14,\n",
       "  21,\n",
       "  22,\n",
       "  25,\n",
       "  26,\n",
       "  30,\n",
       "  31,\n",
       "  33,\n",
       "  35,\n",
       "  36,\n",
       "  38,\n",
       "  39,\n",
       "  41],\n",
       " 'vinayak': [5,\n",
       "  9,\n",
       "  10,\n",
       "  11,\n",
       "  14,\n",
       "  15,\n",
       "  16,\n",
       "  18,\n",
       "  20,\n",
       "  21,\n",
       "  22,\n",
       "  25,\n",
       "  26,\n",
       "  29,\n",
       "  31,\n",
       "  32,\n",
       "  33,\n",
       "  36,\n",
       "  38,\n",
       "  41]}"
      ]
     },
     "execution_count": 90,
     "metadata": {},
     "output_type": "execute_result"
    }
   ],
   "source": [
    "{k: sorted(v) for k, v in annotator_dict.items()}"
   ]
  },
  {
   "cell_type": "code",
   "execution_count": 86,
   "metadata": {},
   "outputs": [
    {
     "name": "stdout",
     "output_type": "stream",
     "text": [
      "kelly 20\n",
      "vishnesh 20\n",
      "ayush 20\n",
      "vinayak 20\n",
      "rachel 20\n",
      "anton 20\n"
     ]
    }
   ],
   "source": [
    "# print length of each annotator's list of id\n",
    "for annotator in annotator_list:\n",
    "    print(annotator, len(annotator_dict[annotator]))"
   ]
  },
  {
   "cell_type": "code",
   "execution_count": 93,
   "metadata": {},
   "outputs": [
    {
     "data": {
      "text/plain": [
       "{'0': [],\n",
       " '1': [],\n",
       " '2': ['ayush', 'kelly', 'anton'],\n",
       " '3': ['vishnesh', 'rachel', 'kelly'],\n",
       " '4': ['rachel', 'ayush', 'anton'],\n",
       " '5': ['vishnesh', 'ayush', 'vinayak'],\n",
       " '6': ['vishnesh', 'kelly', 'anton'],\n",
       " '7': ['vishnesh', 'rachel', 'kelly'],\n",
       " '8': ['vishnesh', 'rachel', 'kelly'],\n",
       " '9': ['ayush', 'anton', 'vinayak'],\n",
       " '10': ['vishnesh', 'anton', 'vinayak'],\n",
       " '11': ['rachel', 'ayush', 'vinayak'],\n",
       " '12': ['rachel', 'kelly', 'anton'],\n",
       " '13': ['ayush', 'kelly', 'anton'],\n",
       " '14': ['rachel', 'anton', 'vinayak'],\n",
       " '15': ['vishnesh', 'ayush', 'vinayak'],\n",
       " '16': ['vishnesh', 'rachel', 'vinayak'],\n",
       " '17': ['vishnesh', 'ayush', 'kelly'],\n",
       " '18': ['vishnesh', 'kelly', 'vinayak'],\n",
       " '19': ['rachel', 'ayush', 'kelly'],\n",
       " '20': ['rachel', 'ayush', 'vinayak'],\n",
       " '21': ['rachel', 'anton', 'vinayak'],\n",
       " '22': ['ayush', 'anton', 'vinayak'],\n",
       " '23': ['vishnesh', 'ayush', 'kelly'],\n",
       " '24': ['vishnesh', 'rachel', 'kelly'],\n",
       " '25': ['vishnesh', 'anton', 'vinayak'],\n",
       " '26': ['vishnesh', 'anton', 'vinayak'],\n",
       " '27': ['vishnesh', 'ayush', 'kelly'],\n",
       " '28': ['rachel', 'ayush', 'kelly'],\n",
       " '29': ['vishnesh', 'rachel', 'vinayak'],\n",
       " '30': ['vishnesh', 'kelly', 'anton'],\n",
       " '31': ['rachel', 'anton', 'vinayak'],\n",
       " '32': ['vishnesh', 'rachel', 'vinayak'],\n",
       " '33': ['vishnesh', 'anton', 'vinayak'],\n",
       " '34': ['rachel', 'ayush', 'kelly'],\n",
       " '35': ['rachel', 'kelly', 'anton'],\n",
       " '36': ['rachel', 'anton', 'vinayak'],\n",
       " '37': ['rachel', 'ayush', 'kelly'],\n",
       " '38': ['ayush', 'anton', 'vinayak'],\n",
       " '39': ['ayush', 'kelly', 'anton']}"
      ]
     },
     "execution_count": 93,
     "metadata": {},
     "output_type": "execute_result"
    }
   ],
   "source": [
    "tmp = "
   ]
  },
  {
   "cell_type": "code",
   "execution_count": 87,
   "metadata": {},
   "outputs": [
    {
     "name": "stdout",
     "output_type": "stream",
     "text": [
      "0: 0\n",
      "1: 0\n",
      "2: 3\n",
      "3: 3\n",
      "4: 3\n",
      "5: 3\n",
      "6: 3\n",
      "7: 3\n",
      "8: 3\n",
      "9: 3\n",
      "10: 3\n",
      "11: 3\n",
      "12: 3\n",
      "13: 3\n",
      "14: 3\n",
      "15: 3\n",
      "16: 3\n",
      "17: 3\n",
      "18: 3\n",
      "19: 3\n",
      "20: 3\n",
      "21: 3\n",
      "22: 3\n",
      "23: 3\n",
      "24: 3\n",
      "25: 3\n",
      "26: 3\n",
      "27: 3\n",
      "28: 3\n",
      "29: 3\n",
      "30: 3\n",
      "31: 3\n",
      "32: 3\n",
      "33: 3\n",
      "34: 3\n",
      "35: 3\n",
      "36: 3\n",
      "37: 3\n",
      "38: 3\n",
      "39: 3\n"
     ]
    }
   ],
   "source": [
    "for i in range(40):\n",
    "    print(f\"{i}: {sum([sum([x == i for x in y]) for y in annotator_dict.values()])}\")"
   ]
  },
  {
   "cell_type": "code",
   "execution_count": null,
   "metadata": {},
   "outputs": [
    {
     "name": "stdout",
     "output_type": "stream",
     "text": [
      "200\n"
     ]
    }
   ],
   "source": []
  }
 ],
 "metadata": {
  "kernelspec": {
   "display_name": "Python 3",
   "language": "python",
   "name": "python3"
  },
  "language_info": {
   "codemirror_mode": {
    "name": "ipython",
    "version": 3
   },
   "file_extension": ".py",
   "mimetype": "text/x-python",
   "name": "python",
   "nbconvert_exporter": "python",
   "pygments_lexer": "ipython3",
   "version": "3.9.0"
  },
  "orig_nbformat": 4,
  "vscode": {
   "interpreter": {
    "hash": "81794d4967e6c3204c66dcd87b604927b115b27c00565d3d43f05ba2f3a2cb0d"
   }
  }
 },
 "nbformat": 4,
 "nbformat_minor": 2
}
