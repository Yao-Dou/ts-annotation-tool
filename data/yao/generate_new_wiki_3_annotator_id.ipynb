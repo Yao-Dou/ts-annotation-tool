{
 "cells": [
  {
   "cell_type": "code",
   "execution_count": 1,
   "metadata": {},
   "outputs": [],
   "source": [
    "import random\n",
    "# set seed = 0\n",
    "random.seed(0)\n",
    "import numpy as np"
   ]
  },
  {
   "cell_type": "code",
   "execution_count": 2,
   "metadata": {},
   "outputs": [],
   "source": [
    "id_list = np.arange(0, 40, 1)\n",
    "# shuffle id_list\n",
    "random.shuffle(id_list)"
   ]
  },
  {
   "cell_type": "code",
   "execution_count": 3,
   "metadata": {},
   "outputs": [],
   "source": [
    "annotator_list = [\"vishnesh\", \"ayush\", \"anton\", \"kelly\", \"rachel\", \"vinayak\"]\n",
    "# create dictionary with annotator as key and value is empty list\n",
    "annotator_dict = {annotator: [] for annotator in annotator_list}"
   ]
  },
  {
   "cell_type": "code",
   "execution_count": 4,
   "metadata": {},
   "outputs": [],
   "source": [
    "for i in np.arange(np.ceil(40 / 3)).astype(int):\n",
    "    temp_annotator_list = annotator_list.copy()\n",
    "    random.shuffle(temp_annotator_list)\n",
    "    for j in np.arange(3):\n",
    "        if i * 3 + j >= 40:\n",
    "            break\n",
    "        annotator_dict[temp_annotator_list[j * 2]].append(id_list[i * 3 + j])\n",
    "        annotator_dict[temp_annotator_list[j * 2 + 1]].append(id_list[i * 3 + j])\n"
   ]
  },
  {
   "cell_type": "code",
   "execution_count": 5,
   "metadata": {},
   "outputs": [],
   "source": [
    "# rank annotator's list of id in ascending order\n",
    "for annotator in annotator_list:\n",
    "    # annotator_dict[annotator].sort()\n",
    "    # add 2 to each id\n",
    "    annotator_dict[annotator] = [id + 2 for id in annotator_dict[annotator]]"
   ]
  },
  {
   "cell_type": "code",
   "execution_count": 6,
   "metadata": {},
   "outputs": [
    {
     "data": {
      "text/plain": [
       "{'vishnesh': [29, 17, 40, 9, 15, 24, 10, 37, 11, 30, 32, 33, 18, 26],\n",
       " 'ayush': [2, 23, 3, 7, 12, 24, 25, 5, 11, 20, 13, 34, 18],\n",
       " 'anton': [29, 31, 3, 22, 12, 39, 19, 5, 6, 20, 21, 27, 4],\n",
       " 'kelly': [14, 17, 36, 22, 16, 41, 19, 37, 38, 8, 32, 27, 4, 26],\n",
       " 'rachel': [14, 23, 40, 7, 16, 41, 25, 35, 38, 30, 21, 33, 28],\n",
       " 'vinayak': [2, 31, 36, 9, 15, 39, 10, 35, 6, 8, 13, 34, 28]}"
      ]
     },
     "execution_count": 6,
     "metadata": {},
     "output_type": "execute_result"
    }
   ],
   "source": [
    "annotator_dict"
   ]
  },
  {
   "cell_type": "code",
   "execution_count": 8,
   "metadata": {},
   "outputs": [
    {
     "name": "stdout",
     "output_type": "stream",
     "text": [
      "vishnesh 14\n",
      "ayush 13\n",
      "anton 13\n",
      "kelly 14\n",
      "rachel 13\n",
      "vinayak 13\n"
     ]
    }
   ],
   "source": [
    "# print length of each annotator's list of id\n",
    "for annotator in annotator_list:\n",
    "    print(annotator, len(annotator_dict[annotator]))"
   ]
  },
  {
   "cell_type": "code",
   "execution_count": null,
   "metadata": {},
   "outputs": [],
   "source": []
  }
 ],
 "metadata": {
  "kernelspec": {
   "display_name": "Python 3.9.13 ('paraphrase')",
   "language": "python",
   "name": "python3"
  },
  "language_info": {
   "codemirror_mode": {
    "name": "ipython",
    "version": 3
   },
   "file_extension": ".py",
   "mimetype": "text/x-python",
   "name": "python",
   "nbconvert_exporter": "python",
   "pygments_lexer": "ipython3",
   "version": "3.9.13"
  },
  "orig_nbformat": 4,
  "vscode": {
   "interpreter": {
    "hash": "51d4b053945bb951b16f24566ff3322f1cf2f2e71937c6e2fa134fa8352168a0"
   }
  }
 },
 "nbformat": 4,
 "nbformat_minor": 2
}
