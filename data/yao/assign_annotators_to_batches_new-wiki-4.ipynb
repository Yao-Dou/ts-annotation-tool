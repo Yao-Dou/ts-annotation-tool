{
 "cells": [
  {
   "cell_type": "code",
   "execution_count": 1,
   "metadata": {},
   "outputs": [],
   "source": [
    "import pandas as pd\n",
    "import random\n",
    "import re\n",
    "import json\n",
    "\n",
    "random.seed(2)\n",
    "\n",
    "which_wiki = 4\n",
    "\n",
    "# Read in the data\n",
    "df = pd.read_csv(f'all-outputs-new-wiki-{which_wiki}.csv')"
   ]
  },
  {
   "cell_type": "code",
   "execution_count": 2,
   "metadata": {},
   "outputs": [
    {
     "name": "stdout",
     "output_type": "stream",
     "text": [
      "10\n",
      "10\n",
      "10\n",
      "10\n"
     ]
    }
   ],
   "source": [
    "import random\n",
    "\n",
    "def pairwise(annotators):\n",
    "    pairs = []\n",
    "    n = len(annotators)\n",
    "    for i in range(n):\n",
    "        for j in range(i+1, n):\n",
    "            pairs.append((annotators[i], annotators[j]))\n",
    "    return pairs\n",
    "\n",
    "def assign_tasks(task_ids):\n",
    "    annotators = ['vishnesh', 'ayush', 'vinayak', 'rachel']\n",
    "    assignments = {annotator: [] for annotator in annotators}\n",
    "    annotator_pairs = pairwise(annotators)\n",
    "    random.seed(2)\n",
    "    random.shuffle(task_ids)\n",
    "\n",
    "    for i, task_id in enumerate(task_ids):\n",
    "        first_annotator, second_annotator = annotator_pairs[i % len(annotator_pairs)]\n",
    "        assignments[first_annotator].append(task_id)\n",
    "        assignments[second_annotator].append(task_id)\n",
    "\n",
    "    return assignments\n",
    "\n",
    "task_ids = list(range(20))\n",
    "assignments = assign_tasks(task_ids)\n",
    "# sort the value\n",
    "assignments = {k: sorted(v) for k, v in assignments.items()}\n",
    "\n",
    "annotater_dict = {\n",
    "    \"vishnesh\": [0, 1, 2, 3, 6, 7, 10, 13, 16, 17],\n",
    "    \"ayush\": [2, 5, 7, 8, 9, 10, 11, 13, 14, 19],\n",
    "    \"vinayak\": [0, 1, 4, 5, 6, 8, 9, 12, 15, 18],\n",
    "    \"rachel\": [3, 4, 11, 12, 14, 15, 16, 17, 18, 19],\n",
    "}\n",
    "\n",
    "# print len of each annotator's batch\n",
    "for annotator in annotater_dict:\n",
    "    print(len(annotater_dict[annotator]))\n",
    "\n",
    "# shuffle the annotator's batch\n",
    "for annotator in annotater_dict:\n",
    "    random.seed(2)\n",
    "    random.shuffle(annotater_dict[annotator])\n"
   ]
  },
  {
   "cell_type": "code",
   "execution_count": 3,
   "metadata": {},
   "outputs": [],
   "source": [
    "split_idx = 75\n",
    "\n",
    "# Human 1 Writing,Human 1,Human 2 Writing,Human 2,GPT-3-zero-shot,GPT-3-few-shot,Muss,T5-3B,T5-11B\n",
    "system_list = [\"Davinci-003\", \"Turbo\", \"GPT-4\", \"Alpaca-7b\", \"Vicuna-7b\"]\n",
    "for annotater in annotater_dict:\n",
    "    annotater_batch = []\n",
    "    start_id = 0\n",
    "    for id in annotater_dict[annotater]:\n",
    "        # get the id th row of df\n",
    "        row = df.iloc[id]\n",
    "        random.seed(2)\n",
    "        # random shuffle the system list\n",
    "        random.shuffle(system_list)\n",
    "        for system in system_list:\n",
    "            current_dict = {}\n",
    "            current_dict[\"id\"] = start_id\n",
    "            current_dict[\"original\"] = row[\"Original Sentence\"].strip()\n",
    "            current_dict[\"original_spans\"] = []\n",
    "\n",
    "            simplified = row[system].strip()\n",
    "            simplified = re.sub(r\" 's\", \"'s\", simplified)\n",
    "            current_dict[\"simplified\"] = simplified\n",
    "            current_dict[\"simplified_spans\"] = []\n",
    "\n",
    "            if \"||\" in simplified:\n",
    "                #  find index of all || in simplified\n",
    "                indices = [m.start() for m in re.finditer('\\|\\|', simplified)]\n",
    "                for i, indice in enumerate(indices):\n",
    "                    current_dict[\"simplified_spans\"].append([2, indice, indice+2, i])\n",
    "            \n",
    "            current_dict[\"system\"] = f\"new-wiki-{which_wiki}/{system}\"\n",
    "            annotater_batch += [current_dict]\n",
    "            start_id += 1\n",
    "\n",
    "    with open(f\"../batches/new-wiki-{which_wiki}/{annotater}.json\", \"w\") as f:\n",
    "        json.dump(annotater_batch, f, indent=4)"
   ]
  }
 ],
 "metadata": {
  "kernelspec": {
   "display_name": "Python 3.9.13 ('paraphrase')",
   "language": "python",
   "name": "python3"
  },
  "language_info": {
   "codemirror_mode": {
    "name": "ipython",
    "version": 3
   },
   "file_extension": ".py",
   "mimetype": "text/x-python",
   "name": "python",
   "nbconvert_exporter": "python",
   "pygments_lexer": "ipython3",
   "version": "3.9.13"
  },
  "orig_nbformat": 4,
  "vscode": {
   "interpreter": {
    "hash": "51d4b053945bb951b16f24566ff3322f1cf2f2e71937c6e2fa134fa8352168a0"
   }
  }
 },
 "nbformat": 4,
 "nbformat_minor": 2
}
