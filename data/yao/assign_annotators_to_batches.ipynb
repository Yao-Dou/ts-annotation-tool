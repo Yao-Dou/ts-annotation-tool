{
 "cells": [
  {
   "cell_type": "code",
   "execution_count": 1,
   "metadata": {},
   "outputs": [],
   "source": [
    "import pandas as pd\n",
    "import random\n",
    "random.seed(2)\n",
    "\n",
    "which_wiki = 1\n",
    "\n",
    "# Read in the data\n",
    "df = pd.read_csv(f'all-outputs-new-wiki-{which_wiki}.csv')"
   ]
  },
  {
   "cell_type": "code",
   "execution_count": null,
   "metadata": {},
   "outputs": [],
   "source": [
    "import json\n",
    "\n",
    "annotater_dict = json.load(open('annotater_dict-new-wiki-1.json'))\n",
    "id_dict = json.load(open('id_dict-new-wiki-1.json'))\n",
    "\n",
    "# print length of each annotater's list\n",
    "for annotater in annotater_dict:\n",
    "    print(annotater, len(annotater_dict[annotater]))"
   ]
  },
  {
   "cell_type": "code",
   "execution_count": 19,
   "metadata": {},
   "outputs": [
    {
     "data": {
      "text/plain": [
       "{'vinayak': [0, 1, 3, 7, 8, 10, 11, 13, 16, 18, 19, 20, 21, 22, 23],\n",
       " 'kelly': [0, 3, 4, 5, 9, 12, 13, 14, 15, 17, 23, 24, 25, 26, 28],\n",
       " 'rachel': [1, 2, 10, 11, 14, 16, 19, 21, 23, 24, 25, 26, 27, 28, 29],\n",
       " 'vishnesh': [1, 3, 4, 5, 6, 7, 9, 11, 14, 15, 16, 17, 18, 20, 29],\n",
       " 'ayush': [2, 5, 6, 7, 8, 9, 12, 13, 17, 18, 21, 22, 26, 27, 28],\n",
       " 'anton': [0, 2, 4, 6, 8, 10, 12, 15, 19, 20, 22, 24, 25, 27, 29]}"
      ]
     },
     "execution_count": 19,
     "metadata": {},
     "output_type": "execute_result"
    }
   ],
   "source": [
    "annotater_dict"
   ]
  },
  {
   "cell_type": "code",
   "execution_count": 20,
   "metadata": {},
   "outputs": [],
   "source": [
    "import re\n",
    "\n",
    "system_list = [\"Human 1 Writing\", \"Human 2 Writing\", \"GPT-3-zero-shot\", \"GPT-3-few-shot\", \"Muss\"]\n",
    "for annotater in annotater_dict:\n",
    "    annotater_batch = []\n",
    "    start_id = 0\n",
    "    for id in annotater_dict[annotater]:\n",
    "        # get the id th row of df\n",
    "        row = df.iloc[id]\n",
    "        random.seed(2)\n",
    "        # random shuffle the system list\n",
    "        random.shuffle(system_list)\n",
    "        for system in system_list:\n",
    "            current_dict = {}\n",
    "            current_dict[\"id\"] = start_id\n",
    "            current_dict[\"original\"] = row[\"Original Sentence\"].strip()\n",
    "            current_dict[\"original_spans\"] = []\n",
    "\n",
    "            simplified = row[system].strip()\n",
    "            simplified = re.sub(r\" 's\", \"'s\", simplified)\n",
    "            current_dict[\"simplified\"] = simplified\n",
    "            current_dict[\"simplified_spans\"] = []\n",
    "\n",
    "            if \"||\" in simplified:\n",
    "                #  find index of all || in simplified\n",
    "                indices = [m.start() for m in re.finditer('\\|\\|', simplified)]\n",
    "                for i, indice in enumerate(indices):\n",
    "                    current_dict[\"simplified_spans\"].append([2, indice, indice+2, i])\n",
    "            \n",
    "            current_dict[\"system\"] = \"new-wiki-1/\" + system\n",
    "            annotater_batch.append(current_dict)\n",
    "            start_id += 1\n",
    "\n",
    "    # split annotater_batch into 2 batches first 40 and last 35\n",
    "    annotater_batch_1 = annotater_batch[:40]\n",
    "    annotater_batch_2 = annotater_batch[40:]\n",
    "\n",
    "    with open(\"../batches/new-wiki-1/part1/\" + annotater + \".json\", \"w\") as f:\n",
    "        json.dump(annotater_batch_1, f, indent=4)\n",
    "\n",
    "    # reindex annotater_batch_2's id from 0\n",
    "    for i, item in enumerate(annotater_batch_2):\n",
    "        item[\"id\"] = i\n",
    "\n",
    "    with open(\"../batches/new-wiki-1/part2/\" + annotater + \".json\", \"w\") as f:\n",
    "        json.dump(annotater_batch_2, f, indent=4)"
   ]
  },
  {
   "cell_type": "code",
   "execution_count": null,
   "metadata": {},
   "outputs": [],
   "source": []
  }
 ],
 "metadata": {
  "kernelspec": {
   "display_name": "Python 3.9.13 ('paraphrase')",
   "language": "python",
   "name": "python3"
  },
  "language_info": {
   "codemirror_mode": {
    "name": "ipython",
    "version": 3
   },
   "file_extension": ".py",
   "mimetype": "text/x-python",
   "name": "python",
   "nbconvert_exporter": "python",
   "pygments_lexer": "ipython3",
   "version": "3.9.13"
  },
  "orig_nbformat": 4,
  "vscode": {
   "interpreter": {
    "hash": "51d4b053945bb951b16f24566ff3322f1cf2f2e71937c6e2fa134fa8352168a0"
   }
  }
 },
 "nbformat": 4,
 "nbformat_minor": 2
}
