{
 "cells": [
  {
   "cell_type": "code",
   "execution_count": 11,
   "metadata": {},
   "outputs": [],
   "source": [
    "import pandas as pd\n",
    "import random\n",
    "import re\n",
    "import json\n",
    "\n",
    "random.seed(2)\n",
    "\n",
    "which_wiki = 1\n",
    "\n",
    "# Read in the data\n",
    "df = pd.read_csv(f'all-outputs-new-wiki-{which_wiki}.csv')"
   ]
  },
  {
   "cell_type": "code",
   "execution_count": 12,
   "metadata": {},
   "outputs": [
    {
     "name": "stdout",
     "output_type": "stream",
     "text": [
      "vinayak 15\n",
      "kelly 15\n",
      "rachel 15\n",
      "vishnesh 15\n",
      "ayush 15\n",
      "anton 15\n"
     ]
    }
   ],
   "source": [
    "annotater_dict = json.load(open('annotater_dict-new-wiki-1.json'))\n",
    "id_dict = json.load(open('id_dict-new-wiki-1.json'))\n",
    "\n",
    "# print length of each annotater's list\n",
    "for annotater in annotater_dict:\n",
    "    print(annotater, len(annotater_dict[annotater]))"
   ]
  },
  {
   "cell_type": "code",
   "execution_count": 15,
   "metadata": {},
   "outputs": [],
   "source": [
    "split_idx = 50\n",
    "\n",
    "# Human 1 Writing,Human 1,Human 2 Writing,Human 2,GPT-3-zero-shot,GPT-3-few-shot,Muss,T5-3B,T5-11B\n",
    "system_list = [\"Human 1 Writing\", \"Human 2 Writing\", \"GPT-3-zero-shot\", \"GPT-3-few-shot\", \"Muss\", \"T5-3B\", \"T5-11B\"]\n",
    "for annotater in annotater_dict:\n",
    "    annotater_batch = []\n",
    "    start_id = 0\n",
    "    for id in annotater_dict[annotater]:\n",
    "        # get the id th row of df\n",
    "        row = df.iloc[id]\n",
    "        random.seed(2)\n",
    "        # random shuffle the system list\n",
    "        random.shuffle(system_list)\n",
    "        for system in system_list:\n",
    "            current_dict = {}\n",
    "            current_dict[\"id\"] = start_id\n",
    "            current_dict[\"original\"] = row[\"Original Sentence\"].strip()\n",
    "            current_dict[\"original_spans\"] = []\n",
    "\n",
    "            simplified = row[system].strip()\n",
    "            simplified = re.sub(r\" 's\", \"'s\", simplified)\n",
    "            current_dict[\"simplified\"] = simplified\n",
    "            current_dict[\"simplified_spans\"] = []\n",
    "\n",
    "            if \"||\" in simplified:\n",
    "                #  find index of all || in simplified\n",
    "                indices = [m.start() for m in re.finditer('\\|\\|', simplified)]\n",
    "                for i, indice in enumerate(indices):\n",
    "                    current_dict[\"simplified_spans\"].append([2, indice, indice+2, i])\n",
    "            \n",
    "            current_dict[\"system\"] = f\"new-wiki-{which_wiki}/{system}\"\n",
    "            annotater_batch += [current_dict]\n",
    "            start_id += 1\n",
    "\n",
    "    # split annotater_batch into 2 batches first 40 and last 35\n",
    "    annotater_batch_1 = annotater_batch[:split_idx]\n",
    "    annotater_batch_2 = annotater_batch[split_idx:]\n",
    "\n",
    "    with open(f\"../batches/new-wiki-{which_wiki}/part1/{annotater}.json\", \"w\") as f:\n",
    "        json.dump(annotater_batch_1, f, indent=4)\n",
    "\n",
    "    # reindex annotater_batch_2's id from 0\n",
    "    for i, item in enumerate(annotater_batch_2):\n",
    "        item[\"id\"] = i\n",
    "\n",
    "    with open(f\"../batches/new-wiki-{which_wiki}/part2/{annotater}.json\", \"w\") as f:\n",
    "        json.dump(annotater_batch_2, f, indent=4)"
   ]
  },
  {
   "cell_type": "code",
   "execution_count": null,
   "metadata": {},
   "outputs": [],
   "source": []
  }
 ],
 "metadata": {
  "kernelspec": {
   "display_name": "Python 3",
   "language": "python",
   "name": "python3"
  },
  "language_info": {
   "codemirror_mode": {
    "name": "ipython",
    "version": 3
   },
   "file_extension": ".py",
   "mimetype": "text/x-python",
   "name": "python",
   "nbconvert_exporter": "python",
   "pygments_lexer": "ipython3",
   "version": "3.9.0"
  },
  "orig_nbformat": 4,
  "vscode": {
   "interpreter": {
    "hash": "81794d4967e6c3204c66dcd87b604927b115b27c00565d3d43f05ba2f3a2cb0d"
   }
  }
 },
 "nbformat": 4,
 "nbformat_minor": 2
}
