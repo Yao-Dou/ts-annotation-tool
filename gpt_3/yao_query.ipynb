{
 "cells": [
  {
   "cell_type": "code",
   "execution_count": 1,
   "metadata": {},
   "outputs": [],
   "source": [
    "import os\n",
    "import openai\n",
    "from dotenv import load_dotenv\n",
    "import json\n",
    "\n",
    "# Load environment variables from the '~/.my_env_vars' file\n",
    "env_file = os.path.expanduser(\"~/.my_env_vars\")\n",
    "load_dotenv(env_file)\n",
    "\n",
    "# Load your API key from an environment variable or secret management service\n",
    "openai.api_key = os.getenv(\"OPENAI_API_KEY\")\n",
    "\n",
    "prompt = \"Please rewrite the following complex sentence in order to make it easier to understand by non-native speakers of English. You can do so by replacing complex words with simpler synonyms (i.e. paraphrasing), deleting unimportant information (i.e. compression), and/or splitting a long complex sentence into several simpler ones. The final simplified sentence needs to be grammatical, fluent, and retain the main ideas of its original counterpart without altering its meaning.\\n\\n%s\""
   ]
  },
  {
   "cell_type": "code",
   "execution_count": 2,
   "metadata": {},
   "outputs": [],
   "source": [
    "# read ../yao/new_wiki_original_sentences_4.txt\n",
    "with open('../data/yao/new_wiki_original_sentences_4.txt', 'r') as f:\n",
    "    lines = f.readlines()\n",
    "    # remove \\n\n",
    "    lines = [x.strip() for x in lines]"
   ]
  },
  {
   "cell_type": "code",
   "execution_count": 3,
   "metadata": {},
   "outputs": [],
   "source": [
    "def callGPT(prompt):\n",
    "    response = openai.Completion.create(\n",
    "        engine=\"text-davinci-003\", \n",
    "        prompt=prompt, \n",
    "        temperature=1,\n",
    "        top_p=0.95,\n",
    "        frequency_penalty=0,\n",
    "        presence_penalty=0,\n",
    "        max_tokens=512)\n",
    "    responses = [x['text'] for x in response['choices']]\n",
    "    if len(responses) > 1:\n",
    "        print(f\"More than one response! {responses}\")\n",
    "    responses = responses[0]\n",
    "    responses = responses.strip()\n",
    "    return responses\n",
    "\n",
    "def callChatGPT(prompt, model_name):\n",
    "    response = openai.ChatCompletion.create(\n",
    "        model=model_name, \n",
    "        messages=[\n",
    "            {\"role\": \"user\", \"content\": prompt}\n",
    "        ],\n",
    "        temperature=1,\n",
    "        top_p=0.95,\n",
    "        frequency_penalty=0,\n",
    "        presence_penalty=0,\n",
    "        max_tokens=512)\n",
    "    response = response[\"choices\"][0][\"message\"][\"content\"]\n",
    "    return response"
   ]
  },
  {
   "cell_type": "code",
   "execution_count": 4,
   "metadata": {},
   "outputs": [],
   "source": [
    "output_davinci = []\n",
    "for sent in lines:\n",
    "    # print(sent)\n",
    "    response = callGPT(prompt % sent)\n",
    "    output_davinci.append(response)\n",
    "# save to file gpt-outputs/zero-shot-003-batch-4.json\n",
    "with open('gpt-outputs/zero-shot-003-batch-4.json', 'w') as f:\n",
    "    json.dump(output_davinci, f, indent=4)"
   ]
  },
  {
   "cell_type": "code",
   "execution_count": 5,
   "metadata": {},
   "outputs": [],
   "source": [
    "# current turbo is gpt-3.5-turbo-0301, gpt-4 is gpt-4-0314\n",
    "for model in [\"gpt-3.5-turbo\", \"gpt-4\"]:\n",
    "    output_chat = []\n",
    "    for sent in lines:\n",
    "        response = callChatGPT(prompt % sent, model_name=model)\n",
    "        output_chat.append(response)\n",
    "    # save to file\n",
    "    if model == \"gpt-3.5-turbo\":\n",
    "        with open('gpt-outputs/zero-shot-turbo-batch-4.json', 'w') as f:\n",
    "            json.dump(output_chat, f, indent=4)\n",
    "    else:\n",
    "        with open('gpt-outputs/zero-shot-gpt-4-batch-4.json', 'w') as f:\n",
    "            json.dump(output_chat, f, indent=4)"
   ]
  },
  {
   "cell_type": "code",
   "execution_count": null,
   "metadata": {},
   "outputs": [],
   "source": []
  }
 ],
 "metadata": {
  "kernelspec": {
   "display_name": "Python 3.10.10 ('writing_tool')",
   "language": "python",
   "name": "python3"
  },
  "language_info": {
   "codemirror_mode": {
    "name": "ipython",
    "version": 3
   },
   "file_extension": ".py",
   "mimetype": "text/x-python",
   "name": "python",
   "nbconvert_exporter": "python",
   "pygments_lexer": "ipython3",
   "version": "3.10.10"
  },
  "orig_nbformat": 4,
  "vscode": {
   "interpreter": {
    "hash": "759a86292d2008ac166d0e767b5dfbe7e1483e92b27146471b8c28d636e8d2d7"
   }
  }
 },
 "nbformat": 4,
 "nbformat_minor": 2
}
