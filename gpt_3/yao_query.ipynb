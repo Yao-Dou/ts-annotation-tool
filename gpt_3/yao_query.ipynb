{
 "cells": [
  {
   "cell_type": "code",
   "execution_count": 1,
   "metadata": {},
   "outputs": [],
   "source": [
    "import os\n",
    "import openai\n",
    "from dotenv import load_dotenv\n",
    "import json\n",
    "\n",
    "# Load environment variables from the '~/.my_env_vars' file\n",
    "env_file = os.path.expanduser(\"~/.my_env_vars\")\n",
    "load_dotenv(env_file)\n",
    "\n",
    "# Load your API key from an environment variable or secret management service\n",
    "openai.api_key = os.getenv(\"OPENAI_API_KEY\")\n",
    "\n",
    "prompt = \"Please rewrite the following complex sentence in order to make it easier to understand by non-native speakers of English. You can do so by replacing complex words with simpler synonyms (i.e. paraphrasing), deleting unimportant information (i.e. compression), and/or splitting a long complex sentence into several simpler ones. The final simplified sentence needs to be grammatical, fluent, and retain the main ideas of its original counterpart without altering its meaning.\\n\\n%s\""
   ]
  },
  {
   "cell_type": "code",
   "execution_count": 2,
   "metadata": {},
   "outputs": [],
   "source": [
    "# read ../yao/new_wiki_original_sentences_4.txt\n",
    "batch_num = 2\n",
    "with open(f'../data/yao/new_wiki_original_sentences_{batch_num}.txt', 'r') as f:\n",
    "    lines = f.readlines()\n",
    "    # remove \\n\n",
    "    lines = [x.strip() for x in lines]"
   ]
  },
  {
   "cell_type": "code",
   "execution_count": 3,
   "metadata": {},
   "outputs": [
    {
     "name": "stdout",
     "output_type": "stream",
     "text": [
      "30\n"
     ]
    }
   ],
   "source": [
    "print(len(lines))"
   ]
  },
  {
   "cell_type": "code",
   "execution_count": 4,
   "metadata": {},
   "outputs": [],
   "source": [
    "def callGPT(prompt):\n",
    "    response = openai.Completion.create(\n",
    "        engine=\"text-davinci-003\", \n",
    "        prompt=prompt, \n",
    "        temperature=1,\n",
    "        top_p=0.95,\n",
    "        frequency_penalty=0,\n",
    "        presence_penalty=0,\n",
    "        max_tokens=512)\n",
    "    responses = [x['text'] for x in response['choices']]\n",
    "    if len(responses) > 1:\n",
    "        print(f\"More than one response! {responses}\")\n",
    "    responses = responses[0]\n",
    "    responses = responses.strip()\n",
    "    return responses\n",
    "\n",
    "def callChatGPT(prompt, model_name):\n",
    "    response = openai.ChatCompletion.create(\n",
    "        model=model_name, \n",
    "        messages=[\n",
    "            {\"role\": \"user\", \"content\": prompt}\n",
    "        ],\n",
    "        temperature=1,\n",
    "        top_p=0.95,\n",
    "        frequency_penalty=0,\n",
    "        presence_penalty=0,\n",
    "        max_tokens=512)\n",
    "    response = response[\"choices\"][0][\"message\"][\"content\"]\n",
    "    return response"
   ]
  },
  {
   "cell_type": "code",
   "execution_count": 5,
   "metadata": {},
   "outputs": [],
   "source": [
    "# output_davinci = []\n",
    "# for sent in lines:\n",
    "#     # print(sent)\n",
    "#     response = callGPT(prompt % sent)\n",
    "#     output_davinci.append(response)\n",
    "# # save to file gpt-outputs/zero-shot-003-batch-4.json\n",
    "# with open(f'gpt-outputs/zero-shot-003-batch-{batch_num}.json', 'w') as f:\n",
    "#     json.dump(output_davinci, f, indent=4)"
   ]
  },
  {
   "cell_type": "code",
   "execution_count": 6,
   "metadata": {},
   "outputs": [],
   "source": [
    "# current turbo is gpt-3.5-turbo-0301, gpt-4 is gpt-4-0314\n",
    "for model in [\"gpt-4\"]: # \"gpt-3.5-turbo\", \n",
    "    output_chat = []\n",
    "    for sent in lines:\n",
    "        response = callChatGPT(prompt % sent, model_name=model)\n",
    "        output_chat.append(response)\n",
    "    # save to file\n",
    "    if model == \"gpt-3.5-turbo\":\n",
    "        with open(f'gpt-outputs/zero-shot-turbo-batch-{batch_num}.json', 'w') as f:\n",
    "            json.dump(output_chat, f, indent=4)\n",
    "    else:\n",
    "        with open(f'gpt-outputs/zero-shot-gpt-4-batch-{batch_num}.json', 'w') as f:\n",
    "            json.dump(output_chat, f, indent=4)"
   ]
  },
  {
   "cell_type": "code",
   "execution_count": 7,
   "metadata": {},
   "outputs": [
    {
     "data": {
      "text/plain": [
       "['The club posted on social media that customers stopped the gunman. They said they are very sad about the pointless attack on their community. They also offered sympathy to the victims and their families.',\n",
       " 'The non-profit group Iran Human Rights says that by November 19, 2022, at least 378 people, including 43 minors, had been killed by the government during protests. The government used tear gas and guns, making these protests the deadliest since 2019-2020 when more than 1,500 people died.',\n",
       " \"The movie features Julie Ledru as Julia, a young woman in public housing who doesn't get along with her mom. She loves motocross and tries to find a chance to join the sport by pretending to be a buyer on shopping websites so she can test ride bikes.\",\n",
       " \"The movie is about a rich, private family living alone in their big house to hide their daughter Hélène's pregnancy from a short affair. Their secret life is disrupted when Hélène leaves to find the baby's father after giving birth.\",\n",
       " 'Before the 2022 FIFA World Cup started, Qatar was accused of paying actors to pretend to be fans at the tournament to advertise the country.',\n",
       " 'The Wall Street Journal mentioned unnamed sources saying FTX gave $10 billion of its customer assets to Alameda Research in 2022. Alameda CEO Caroline Ellison told other staff members that she, Sam Bankman-Fried, Gary Wang, and Nishad Singh were aware of this decision.',\n",
       " \"In their first group game, they beat a highly-rated Argentina team 2-1. This ended Argentina's 36-game unbeaten run since 2019.\",\n",
       " 'An eyewitness said that the shooter suddenly became violent, shot a woman, killed some employees in the break room, and then fired at least ten shots in the grocery aisles.',\n",
       " \"The Iranian team gained attention in their first game against England when they didn't sing the national anthem to support the Mahsa Amini protests. Some Iranian fans even cheered against their own team or didn't support them during the protests because they thought the team represented the government.\",\n",
       " 'The activists told the Russian group that they were guilty of war crimes. They said they should not be at the conference and did not deserve respect.',\n",
       " \"On November 20, 2022, the fifth day of its journey, at 19:09 UTC, the Orion spacecraft reached the Moon's area of influence. This meant that the Moon's gravity was stronger than Earth's for the spacecraft.\",\n",
       " 'These missions aim to bring people back to the Moon and show the tools and ways of doing business needed for future studies, such as exploring Mars.',\n",
       " 'The Ukrainian nuclear energy agency stated that Russia caused the shelling. They said this shelling damaged the necessary infrastructure to bring back energy production for Ukraine.',\n",
       " \"The UK Supreme Court strongly agrees that the Scottish government cannot have a second vote on Scotland's independence from the UK without permission from the British government.\",\n",
       " 'Many power outages are happening in Western Ukraine because Russian forces are attacking with more cruise missiles. This includes the city of Lviv, which has lost all electricity.',\n",
       " \"The film got good feedback from critics. They liked Coogler's directing, the action scenes, design, acting (especially Wright, Gurira, Huerta, and Bassett), emotions, music, and tributes to Boseman. However, some people didn't like the film's length.\",\n",
       " 'The movie made more than $552 million globally and is the eighth top-earning film of 2022.',\n",
       " 'The penalty involved a $400 fine, which is $100 per fraud charge, and three years of monitored freedom after the jail time.',\n",
       " 'On November 14, an interview with journalist Piers Morgan was released. In it, Ronaldo said he felt \"betrayed\" by ten Hag and a few others who wanted him to leave the club. He also mentioned that the club didn\\'t believe him when he said he couldn\\'t attend pre-season training because his daughter was sick. Ronaldo said he didn\\'t respect ten Hag, who didn\\'t show respect for him, and he was disappointed with the club\\'s communication.',\n",
       " 'United started taking legal steps to find out if Ronaldo had broken his contract and wanted to end it.',\n",
       " 'On November 9, media outlets predicted that Fetterman won the election.',\n",
       " 'Before losing money in November 2022, Bankman-Fried gave a lot of money to Democratic Party candidates.',\n",
       " 'England currently holds the T20 World Cup title. They won it in 2022 by beating Pakistan in the final. This was their second championship win.',\n",
       " 'The person complaining said they did not give up their Nepali citizenship even though they are an American citizen. Nepali law does not allow having citizenship in both countries.',\n",
       " 'Around 80% of buildings in the area were rebuilt or improved after the earthquakes in 1999. This made the effect of this earthquake less severe.',\n",
       " \"A Morning Consult poll in November 2022 found that only 28% of Americans wanted an impeachment investigation into Hunter Biden's business dealings as a top priority for Congress. However, more than half of the Republicans who were surveyed supported it as a top priority.\",\n",
       " 'Robinson went back to West Point in 1972 to be the 3rd Regimental Tactical officer. His job was to create and teach cadets.',\n",
       " \"Inside the building, on the front wall and entrance area, there is painted decoration. It was done in two different times - first when the building was constructed, and second, possibly when the building's purpose changed after 1913.\",\n",
       " \"The Creative Gene is a book about Kojima's life, which includes short stories, essays, and personal experiences. It mainly talks about his love for different types of popular culture and how they influenced him.\",\n",
       " 'A Wilder Life is divided into sections for each season. It covers topics like self-reliance, growing plants, cooking, health and beauty, and wilderness. The book has photos and illustrations of nature, showing that it is possible to connect with the natural world.']"
      ]
     },
     "execution_count": 7,
     "metadata": {},
     "output_type": "execute_result"
    }
   ],
   "source": [
    "output_chat"
   ]
  },
  {
   "cell_type": "code",
   "execution_count": null,
   "metadata": {},
   "outputs": [],
   "source": []
  }
 ],
 "metadata": {
  "kernelspec": {
   "display_name": "Python 3.10.10 ('writing_tool')",
   "language": "python",
   "name": "python3"
  },
  "language_info": {
   "codemirror_mode": {
    "name": "ipython",
    "version": 3
   },
   "file_extension": ".py",
   "mimetype": "text/x-python",
   "name": "python",
   "nbconvert_exporter": "python",
   "pygments_lexer": "ipython3",
   "version": "3.10.10"
  },
  "orig_nbformat": 4,
  "vscode": {
   "interpreter": {
    "hash": "759a86292d2008ac166d0e767b5dfbe7e1483e92b27146471b8c28d636e8d2d7"
   }
  }
 },
 "nbformat": 4,
 "nbformat_minor": 2
}
