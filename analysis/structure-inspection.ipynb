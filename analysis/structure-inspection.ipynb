{
 "cells": [
  {
   "cell_type": "code",
   "execution_count": 1,
   "metadata": {},
   "outputs": [
    {
     "name": "stdout",
     "output_type": "stream",
     "text": [
      "Found users: {'anton', 'ayush', 'vinayak', 'kelly', 'vishnesh', 'rachel'}\n",
      "\n"
     ]
    }
   ],
   "source": [
    "from utils.all import *\n",
    "\n",
    "# There's also 'tutorial' and 'preliminary' data\n",
    "data = load_data('../annotated', batch_num=[5, 6, 7, 8, 9], preprocess=True)\n",
    "systems = set([x['system'] for x in data])\n",
    "edit_types = set(data[0]['annotations'].keys())"
   ]
  },
  {
   "cell_type": "code",
   "execution_count": 31,
   "metadata": {},
   "outputs": [],
   "source": [
    "blank = {\n",
    "    'id': 0,\n",
    "    'original': '',\n",
    "    'original_spans': [],\n",
    "    'simplified': '',\n",
    "    'simplified_spans': [],\n",
    "    'annotations': [],\n",
    "    'system': 'blank',\n",
    "}"
   ]
  },
  {
   "cell_type": "code",
   "execution_count": 37,
   "metadata": {},
   "outputs": [
    {
     "name": "stdout",
     "output_type": "stream",
     "text": [
      "6 sentences are not fully annotated\n"
     ]
    }
   ],
   "source": [
    "ids = set([sent['id'] for sent in data])\n",
    "\n",
    "# Limit to first 20 unique sentences\n",
    "ids = list(ids)[:20*7]\n",
    "\n",
    "not_full = 0\n",
    "set1, set2, set3 = [], [], []\n",
    "for id in ids:\n",
    "    sents = [sent for sent in data if sent['id'] == id]\n",
    "    \n",
    "    if len(sents) != 3:\n",
    "        not_full += 1\n",
    "\n",
    "    for i in range(3):\n",
    "        if len(sents) <= i:\n",
    "            # Add blank sentence\n",
    "            sents += [blank]\n",
    "\n",
    "    set1 += [sents[0]]\n",
    "    set2 += [sents[1]]\n",
    "    set3 += [sents[2]]\n",
    "\n",
    "print(f'{not_full} sentences are not fully annotated')"
   ]
  },
  {
   "cell_type": "code",
   "execution_count": 40,
   "metadata": {},
   "outputs": [],
   "source": [
    "for idx, set_ in enumerate([set1, set2, set3]):\n",
    "    dmp = []\n",
    "    for i, sent in enumerate(set_):\n",
    "        dmp += [{\n",
    "            'id': i,\n",
    "            'original': sent['original'],\n",
    "            'original_spans': sent['original_spans'],\n",
    "            'simplified': sent['simplified'],\n",
    "            'simplified_spans': sent['simplified_spans'],\n",
    "            'system': sent['system'],\n",
    "            'annotations': sent['annotations'],\n",
    "        }]\n",
    "    with open(f'st-inspect/set_{idx}.json', 'w') as f:\n",
    "        json.dump(dmp, f, indent=4)"
   ]
  }
 ],
 "metadata": {
  "kernelspec": {
   "display_name": "Python 3",
   "language": "python",
   "name": "python3"
  },
  "language_info": {
   "codemirror_mode": {
    "name": "ipython",
    "version": 3
   },
   "file_extension": ".py",
   "mimetype": "text/x-python",
   "name": "python",
   "nbconvert_exporter": "python",
   "pygments_lexer": "ipython3",
   "version": "3.9.0"
  },
  "orig_nbformat": 4,
  "vscode": {
   "interpreter": {
    "hash": "81794d4967e6c3204c66dcd87b604927b115b27c00565d3d43f05ba2f3a2cb0d"
   }
  }
 },
 "nbformat": 4,
 "nbformat_minor": 2
}
