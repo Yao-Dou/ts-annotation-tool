{
 "cells": [
  {
   "cell_type": "code",
   "execution_count": 1,
   "metadata": {},
   "outputs": [
    {
     "name": "stderr",
     "output_type": "stream",
     "text": [
      "ERROR:When processing sentence: vinayak - Batch 1, HIT 10 (ID 193). Caught error on: ''. Skipping...\n"
     ]
    }
   ],
   "source": [
    "%load_ext autoreload\n",
    "%autoreload 2\n",
    "\n",
    "from utils.all import *\n",
    "log.basicConfig(level=log.INFO)\n",
    "data = load_data('../data/test_set_inspection_rating_annotated', preprocess=True, adjudicated=True)\n",
    "systems = set([x['system'] for x in data])\n",
    "edit_types = set(data[0]['annotations'].keys())"
   ]
  },
  {
   "cell_type": "code",
   "execution_count": 7,
   "metadata": {},
   "outputs": [
    {
     "data": {
      "text/plain": [
       "7"
      ]
     },
     "execution_count": 7,
     "metadata": {},
     "output_type": "execute_result"
    }
   ],
   "source": [
    "len(systems)"
   ]
  },
  {
   "cell_type": "code",
   "execution_count": 6,
   "metadata": {},
   "outputs": [
    {
     "data": {
      "text/plain": [
       "20"
      ]
     },
     "execution_count": 6,
     "metadata": {},
     "output_type": "execute_result"
    }
   ],
   "source": [
    "len(set([x['original'] for x in data]))"
   ]
  },
  {
   "cell_type": "code",
   "execution_count": 2,
   "metadata": {},
   "outputs": [
    {
     "name": "stdout",
     "output_type": "stream",
     "text": [
      "SimpEval Mean: 32.58, Std dev.: 10.46\n"
     ]
    }
   ],
   "source": [
    "import numpy as np\n",
    "s = [len(s['original'].split(' ')) for s in data]\n",
    "print(f\"SimpEval Mean: {np.mean(s):.2f}, Std dev.: {np.std(s):.2f}\", )"
   ]
  },
  {
   "cell_type": "code",
   "execution_count": 3,
   "metadata": {},
   "outputs": [
    {
     "name": "stdout",
     "output_type": "stream",
     "text": [
      "ASSET Mean: 19.72, Std dev.: 7.95\n"
     ]
    }
   ],
   "source": [
    "with open('C:\\\\Users\\\\heine\\\\Documents\\\\research\\\\ts-annotation-tool\\\\data\\\\tmp\\\\asset\\\\dataset\\\\asset.test.orig', 'r') as file:\n",
    "    lines = file.readlines()\n",
    "    text = ' '.join(lines)\n",
    "    asset = text.split('\\n ')\n",
    "s = [len(s.split(' ')) for s in asset]\n",
    "print(f\"ASSET Mean: {np.mean(s):.2f}, Std dev.: {np.std(s):.2f}\", )"
   ]
  },
  {
   "cell_type": "code",
   "execution_count": 4,
   "metadata": {},
   "outputs": [],
   "source": [
    "savefig = True\n",
    "\n",
    "fig, ax_quality = plt.subplots(1, 3, figsize=(13, 3.5))\n",
    "width = 0.7\n",
    "\n",
    "plt.rcParams['font.family'] = 'sans-serif'\n",
    "plt.rcParams['font.sans-serif'] = 'TW Cen MT'\n",
    "\n",
    "# plt.rcParams['font.family'] = 'serif'\n",
    "# plt.rcParams['font.sans-serif'] = 'Times New Roman'\n",
    "\n",
    "font_size_legend = 11\n",
    "font_size_x_labels = 12 \n",
    "font_size_y_label = 12\n",
    "font_size_title = 15\n",
    "legend_loc = (1, 0.5)\n",
    "\n",
    "def fix_text(text, syntax_error=False):\n",
    "    new_text = text.replace(' ', '\\n').replace('t-', 't-\\n')\n",
    "    if syntax_error:\n",
    "        new_text = f'Bad {new_text}'\n",
    "    if 'level' in new_text:\n",
    "        new_text = f'{new_text} Reorder'\n",
    "        new_text = new_text.replace('Word-level ', 'Word-level\\n')\n",
    "    if 'Grammar' in new_text:\n",
    "        new_text = new_text.replace('Grammar', 'Grammar\\nError')\n",
    "    return new_text\n",
    "\n",
    "for plt_idx, family in enumerate(Family):\n",
    "    out = get_edits_by_family(data, family, combine_humans=False)\n",
    "    # Get the system labels by preserving the order of systems\n",
    "    system_labels = [x for x in system_name_mapping if x in out.keys()]\n",
    "    x = np.arange(len(system_labels))\n",
    "\n",
    "    # Graph the quality edits\n",
    "    quality_data = {system : out[system]['quality'] for system, _ in out.items()}\n",
    "    bottom = [0 for x in range(len(system_labels))]\n",
    "    if family == Family.CONTENT:\n",
    "        quality_iterator = [Information.MORE, Information.LESS]\n",
    "    elif family == Family.SYNTAX:\n",
    "        quality_iterator = [x for x in ReorderLevel] + [Edit.STRUCTURE] + [Edit.SPLIT]\n",
    "    elif family == Family.LEXICAL:\n",
    "        quality_iterator = [Information.SAME]\n",
    "    for quality_type in quality_iterator:\n",
    "        val = [quality_data[label][quality_type] for label in system_labels]\n",
    "        if sum(val) != 0:\n",
    "            # Custom labels\n",
    "            label = quality_type.value\n",
    "            # if family == Family.SYNTAX:\n",
    "            #     label = 'Quality ' + quality_type.value.lower() + ' edit'\n",
    "            if quality_type == Information.SAME:\n",
    "                label = 'Paraphrase'\n",
    "\n",
    "            ax_quality[plt_idx].bar(x, val, width, bottom=bottom, label=label, color=color_mapping[quality_type])\n",
    "        bottom = [bottom[i] + val[i] for i in range(len(val))]\n",
    "\n",
    "    displayed_x_labels = [system_name_mapping[label] for label in system_labels]\n",
    "\n",
    "    ax_quality[plt_idx].tick_params(labelsize=font_size_x_labels)\n",
    "    ax_quality[plt_idx].set_xticks(np.arange(len(system_labels)))\n",
    "    ax_quality[plt_idx].set_xticklabels(displayed_x_labels, rotation=30, ha=\"right\")\n",
    "    ax_quality[plt_idx].spines[['right', 'top']].set_visible(False)\n",
    "\n",
    "    if family == Family.CONTENT:\n",
    "        ax_quality[plt_idx].set_ylabel('# Quality Edits / Sent.', fontsize=font_size_y_label)\n",
    "\n",
    "    handles, labels = ax_quality[plt_idx].get_legend_handles_labels()\n",
    "    ax_quality[plt_idx].legend(handles[::-1], labels[::-1], loc='center left', bbox_to_anchor=legend_loc,\n",
    "        fancybox=True, ncol=1, borderaxespad=1.,fontsize=font_size_legend,\n",
    "        facecolor='white',edgecolor='black',framealpha=1,frameon=False,\n",
    "        columnspacing=1,handlelength=1,handleheight=1,handletextpad=0.6,\n",
    "        borderpad=0.2, alignment='left', \n",
    "        # title=f'{family.value} Quality', title_fontproperties={'weight': 500, 'size': font_size_legend, 'style': 'italic'}\n",
    "        )\n",
    "\n",
    "    for ha in ax_quality[plt_idx].legend_.legendHandles:\n",
    "        ha.set_edgecolor(\"black\")\n",
    "\n",
    "    trans = mtrans.Affine2D().translate(10, 0)\n",
    "    for t in ax_quality[plt_idx].get_xticklabels():\n",
    "        t.set_transform(t.get_transform()+trans)\n",
    "\n",
    "    # Set the margins a little higher than the max value\n",
    "    max_quality = max([sum(x.values()) for x in quality_data.values()])\n",
    "    tick_range_quality = np.arange(0, max_quality*1.2, step=0.5)\n",
    "    ax_quality[plt_idx].set_yticks(tick_range_quality)\n",
    "\n",
    "    for text in ax_quality[plt_idx].legend_.texts:\n",
    "        text.set_text(fix_text(text.get_text()))\n",
    "\n",
    "    ax_quality[0].set_title('Conceptual Quality', fontsize=font_size_title)\n",
    "    ax_quality[1].set_title('Syntax Quality', fontsize=font_size_title)\n",
    "    ax_quality[2].set_title('Lexical Quality', fontsize=font_size_title)\n",
    "\n",
    "plt.tight_layout()\n",
    "if savefig:\n",
    "    out_filename = f'../paper/plot/quality-edits.pdf'\n",
    "    plt.savefig(out_filename, format=\"pdf\", bbox_inches='tight', pad_inches=0.0)\n",
    "    plt.close(fig)\n",
    "else:\n",
    "    plt.show()\n",
    "\n",
    "fig, ax_error = plt.subplots(1, 3, figsize=(13, 3.5))\n",
    "\n",
    "for plt_idx, family in enumerate(Family):\n",
    "    out = get_edits_by_family(data, family, combine_humans=False)\n",
    "    # Get the system labels by preserving the order of systems\n",
    "    system_labels = [x for x in system_name_mapping if x in out.keys()]\n",
    "    x = np.arange(len(system_labels))\n",
    "\n",
    "    # Graph the error edits\n",
    "    error_data = {system : out[system]['error'] for system, _ in out.items()}\n",
    "    bottom = [0 for x in range(len(system_labels))]\n",
    "    if family == Family.CONTENT:\n",
    "        error_iterator = [e for e in Error if e != Error.UNNECESSARY_INSERTION]\n",
    "    elif family == Family.SYNTAX:\n",
    "        error_iterator = [x for x in ReorderLevel] + [Edit.STRUCTURE] + [Edit.SPLIT]\n",
    "    elif family == Family.LEXICAL:\n",
    "        error_iterator = [Error.COMPLEX_WORDING, Quality.ERROR, Error.INFORMATION_REWRITE]\n",
    "    for error_type in error_iterator:\n",
    "        val = [error_data[label][error_type] for label in system_labels]\n",
    "\n",
    "        # This is a really awful solution, but it would be too much to change the classification of this error\n",
    "        if family == Family.LEXICAL and error_type == Error.UNNECESSARY_INSERTION:\n",
    "            tmp = get_edits_by_family(data, Family.CONTENT)\n",
    "            tmp = {system : tmp[system]['error'] for system, _ in tmp.items()}\n",
    "            val = [tmp[label][Error.UNNECESSARY_INSERTION] for label in system_labels]\n",
    "\n",
    "        if sum(val) != 0:\n",
    "            # Custom labels\n",
    "            label = error_type.value\n",
    "            if family == Family.SYNTAX or Family.LEXICAL:\n",
    "                if label == 'Error':\n",
    "                    label = 'Grammar'\n",
    "                # label += ' Error'\n",
    "\n",
    "            color = color_mapping[error_type]\n",
    "            if family == Family.SYNTAX:\n",
    "                color = color_mapping_override[error_type]\n",
    "            ax_error[plt_idx].bar(x, val, width, bottom=bottom, label=label, color=color)\n",
    "        bottom = [bottom[i] + val[i] for i in range(len(val))]\n",
    "\n",
    "    displayed_x_labels = [system_name_mapping[label] for label in system_labels]\n",
    "\n",
    "    ax_error[plt_idx].tick_params(labelsize=font_size_x_labels)\n",
    "    ax_error[plt_idx].set_xticks(np.arange(len(system_labels)))\n",
    "    ax_error[plt_idx].set_xticklabels(displayed_x_labels, rotation=30, ha='right')\n",
    "    ax_error[plt_idx].spines[['right', 'top']].set_visible(False)\n",
    "\n",
    "    if family == Family.CONTENT:\n",
    "        ax_error[plt_idx].set_ylabel('# Error Edits / Sent.', fontsize=font_size_y_label)\n",
    "\n",
    "    handles, labels = ax_error[plt_idx].get_legend_handles_labels()\n",
    "    ax_error[plt_idx].legend(handles[::-1], labels[::-1], loc='center left', bbox_to_anchor=legend_loc,\n",
    "        fancybox=True, ncol=1, borderaxespad=1.,fontsize=font_size_legend,\n",
    "        facecolor='white',edgecolor='black',framealpha=1,frameon=False,\n",
    "        columnspacing=1,handlelength=1,handleheight=1,handletextpad=0.6,\n",
    "        borderpad=0.2, alignment='left', \n",
    "        # title=f'{family.value} Error', title_fontproperties={'weight': 500, 'size': font_size_legend, 'style': 'italic'}\n",
    "        )\n",
    "\n",
    "    for ha in ax_error[plt_idx].legend_.legendHandles:\n",
    "        ha.set_edgecolor(\"black\")\n",
    "\n",
    "    trans = mtrans.Affine2D().translate(10, 0)\n",
    "    for t in ax_error[plt_idx].get_xticklabels():\n",
    "        t.set_transform(t.get_transform()+trans)\n",
    "\n",
    "    for text in ax_error[plt_idx].legend_.texts:\n",
    "        text.set_text(fix_text(text.get_text(), syntax_error=(family == Family.SYNTAX)))\n",
    "\n",
    "    # Set the margins a little higher than the max value\n",
    "    step_dict = {\n",
    "        Family.CONTENT: 0.2,\n",
    "        Family.SYNTAX: 0.05,\n",
    "        Family.LEXICAL: 0.1,\n",
    "    }\n",
    "    max_error = max([sum(x.values()) for x in error_data.values()])\n",
    "    tick_range_error = np.arange(0, max_error*1.2, step=step_dict[family])\n",
    "    ax_error[plt_idx].set_yticks(tick_range_error)\n",
    "\n",
    "    ax_error[0].set_title('Conceptual Error', fontsize=font_size_title)\n",
    "    ax_error[1].set_title('Syntax Error', fontsize=font_size_title)\n",
    "    ax_error[2].set_title('Lexical Error', fontsize=font_size_title)\n",
    "\n",
    "plt.tight_layout()\n",
    "if savefig:\n",
    "    out_filename = f'../paper/plot/error-edits.pdf'\n",
    "    plt.savefig(out_filename, format=\"pdf\", bbox_inches='tight', pad_inches=0.0)\n",
    "    plt.close(fig)\n",
    "else:\n",
    "    plt.show()"
   ]
  }
 ],
 "metadata": {
  "kernelspec": {
   "display_name": "Python 3",
   "language": "python",
   "name": "python3"
  },
  "language_info": {
   "codemirror_mode": {
    "name": "ipython",
    "version": 3
   },
   "file_extension": ".py",
   "mimetype": "text/x-python",
   "name": "python",
   "nbconvert_exporter": "python",
   "pygments_lexer": "ipython3",
   "version": "3.10.9"
  },
  "orig_nbformat": 4
 },
 "nbformat": 4,
 "nbformat_minor": 2
}
